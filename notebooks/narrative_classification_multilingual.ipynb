{
 "cells": [
  {
   "cell_type": "markdown",
   "id": "dcc5cfe5-17ba-45c8-a16d-6bd4f9559506",
   "metadata": {
    "id": "dcc5cfe5-17ba-45c8-a16d-6bd4f9559506"
   },
   "source": [
    "# Semeval 2025 Task 10\n",
    "### Subtask 2: Narrative Baseline Classification -- Multilingual\n",
    "\n",
    "Given a news article and a [two-level taxonomy of narrative labels](https://propaganda.math.unipd.it/semeval2025task10/NARRATIVE-TAXONOMIES.pdf) (where each narrative is subdivided into subnarratives) from a particular domain, assign to the article all the appropriate subnarrative labels. This is a multi-label multi-class document classification task."
   ]
  },
  {
   "cell_type": "markdown",
   "id": "d09b8f93-a288-4c40-8299-6e9eec80d111",
   "metadata": {
    "id": "d09b8f93-a288-4c40-8299-6e9eec80d111"
   },
   "source": [
    "## 1. Setup"
   ]
  },
  {
   "cell_type": "markdown",
   "id": "s03P8rB38tAm",
   "metadata": {
    "id": "s03P8rB38tAm"
   },
   "source": [
    "### 1.1 Getting and analyzing data"
   ]
  },
  {
   "cell_type": "code",
   "execution_count": 1,
   "id": "bc55839d-2621-435e-8b34-61df6db8210c",
   "metadata": {
    "colab": {
     "base_uri": "https://localhost:8080/"
    },
    "id": "bc55839d-2621-435e-8b34-61df6db8210c",
    "outputId": "05777be7-fa25-4dd2-d7d9-d718647925b2"
   },
   "outputs": [],
   "source": [
    "import pandas as pd\n",
    "import numpy as np\n",
    "\n",
    "import tensorflow as tf\n",
    "from tensorflow.keras import layers\n",
    "from tensorflow.keras import optimizers\n",
    "from tensorflow.keras.callbacks import ModelCheckpoint\n",
    "\n",
    "from matplotlib import pyplot as plt\n",
    "import seaborn as sns\n",
    "import os"
   ]
  },
  {
   "cell_type": "code",
   "execution_count": 2,
   "id": "0f302337-2129-4753-ba48-d57258424da2",
   "metadata": {
    "id": "0f302337-2129-4753-ba48-d57258424da2"
   },
   "outputs": [],
   "source": [
    "data = []\n",
    "ignore_folders = ['.DS_Store']\n",
    "\n",
    "base_dir_documents = '../data/semeval_data/train/raw-documents'\n",
    "\n",
    "for language_folder in os.listdir(base_dir_documents):\n",
    "\n",
    "    if language_folder in ignore_folders:\n",
    "        continue\n",
    "\n",
    "    language_path = os.path.join(base_dir_documents, language_folder)\n",
    "    if os.path.isdir(language_path):\n",
    "        for root, _, files in os.walk(language_path):\n",
    "            for file in files:\n",
    "                if file.endswith('.txt'):\n",
    "                    file_path = os.path.join(root, file)\n",
    "\n",
    "                    article_id = file\n",
    "                    with open(file_path, 'r', encoding='utf-8') as f:\n",
    "                        content = f.read()\n",
    "\n",
    "                    data.append({\n",
    "                        'language': language_folder,\n",
    "                        'article_id': article_id,\n",
    "                        'content': content\n",
    "                    })\n",
    "\n",
    "documents_df = pd.DataFrame(data)"
   ]
  },
  {
   "cell_type": "code",
   "execution_count": 3,
   "id": "783ee88b-c450-45f1-9ebc-877a376e1b56",
   "metadata": {
    "colab": {
     "base_uri": "https://localhost:8080/",
     "height": 221
    },
    "id": "783ee88b-c450-45f1-9ebc-877a376e1b56",
    "outputId": "727db564-a7ab-4b56-a5ad-f58d6275cc3f"
   },
   "outputs": [
    {
     "name": "stdout",
     "output_type": "stream",
     "text": [
      "(1709, 3)\n"
     ]
    },
    {
     "data": {
      "text/html": [
       "<div>\n",
       "<style scoped>\n",
       "    .dataframe tbody tr th:only-of-type {\n",
       "        vertical-align: middle;\n",
       "    }\n",
       "\n",
       "    .dataframe tbody tr th {\n",
       "        vertical-align: top;\n",
       "    }\n",
       "\n",
       "    .dataframe thead th {\n",
       "        text-align: right;\n",
       "    }\n",
       "</style>\n",
       "<table border=\"1\" class=\"dataframe\">\n",
       "  <thead>\n",
       "    <tr style=\"text-align: right;\">\n",
       "      <th></th>\n",
       "      <th>language</th>\n",
       "      <th>article_id</th>\n",
       "      <th>content</th>\n",
       "    </tr>\n",
       "  </thead>\n",
       "  <tbody>\n",
       "    <tr>\n",
       "      <th>0</th>\n",
       "      <td>RU</td>\n",
       "      <td>RU-URW-1161.txt</td>\n",
       "      <td>В ближайшие два месяца США будут стремиться к ...</td>\n",
       "    </tr>\n",
       "    <tr>\n",
       "      <th>1</th>\n",
       "      <td>RU</td>\n",
       "      <td>RU-URW-1175.txt</td>\n",
       "      <td>В ЕС испугались последствий популярности правы...</td>\n",
       "    </tr>\n",
       "    <tr>\n",
       "      <th>2</th>\n",
       "      <td>RU</td>\n",
       "      <td>RU-URW-1149.txt</td>\n",
       "      <td>Возможность признания Аллы Пугачевой иностранн...</td>\n",
       "    </tr>\n",
       "    <tr>\n",
       "      <th>3</th>\n",
       "      <td>RU</td>\n",
       "      <td>RU-URW-1015.txt</td>\n",
       "      <td>Азаров рассказал о смене риторики Киева по пер...</td>\n",
       "    </tr>\n",
       "    <tr>\n",
       "      <th>4</th>\n",
       "      <td>RU</td>\n",
       "      <td>RU-URW-1001.txt</td>\n",
       "      <td>В россиянах проснулась массовая любовь к путеш...</td>\n",
       "    </tr>\n",
       "  </tbody>\n",
       "</table>\n",
       "</div>"
      ],
      "text/plain": [
       "  language       article_id                                            content\n",
       "0       RU  RU-URW-1161.txt  В ближайшие два месяца США будут стремиться к ...\n",
       "1       RU  RU-URW-1175.txt  В ЕС испугались последствий популярности правы...\n",
       "2       RU  RU-URW-1149.txt  Возможность признания Аллы Пугачевой иностранн...\n",
       "3       RU  RU-URW-1015.txt  Азаров рассказал о смене риторики Киева по пер...\n",
       "4       RU  RU-URW-1001.txt  В россиянах проснулась массовая любовь к путеш..."
      ]
     },
     "execution_count": 3,
     "metadata": {},
     "output_type": "execute_result"
    }
   ],
   "source": [
    "print(documents_df.shape)\n",
    "documents_df.head()"
   ]
  },
  {
   "cell_type": "code",
   "execution_count": 4,
   "id": "1aa1fd8b-d962-4b72-8029-63232762e5f3",
   "metadata": {
    "colab": {
     "base_uri": "https://localhost:8080/"
    },
    "id": "1aa1fd8b-d962-4b72-8029-63232762e5f3",
    "outputId": "01297cd0-f7dd-4840-d39d-469c4200472f"
   },
   "outputs": [
    {
     "name": "stdout",
     "output_type": "stream",
     "text": [
      "Now processing language RU\n",
      "Now processing language PT\n",
      "Now processing language BG\n",
      "Now processing language HI\n",
      "Now processing language EN\n"
     ]
    }
   ],
   "source": [
    "base_dir_labels = '../data/semeval_data/train/labels'\n",
    "\n",
    "raw_annotation_data = []\n",
    "\n",
    "for language_folder in os.listdir(base_dir_labels):\n",
    "\n",
    "    if language_folder in ignore_folders:\n",
    "        continue\n",
    "\n",
    "    print('Now processing language', language_folder)\n",
    "\n",
    "    language_path = os.path.join(base_dir_labels, language_folder)\n",
    "    if os.path.isdir(language_path):\n",
    "        for root, _, files in os.walk(language_path):\n",
    "            label_file = 'subtask-2-annotations.txt'\n",
    "            file_path = os.path.join(root, label_file)\n",
    "\n",
    "            with open(file_path, 'r') as file:\n",
    "                for line in file:\n",
    "                    parts = line.strip().split('\\t')\n",
    "                    article_id = parts[0]\n",
    "                    narrative_to_subnarratives = parts[2].split(';')\n",
    "                    narratives = []\n",
    "                    subnarratives = []\n",
    "\n",
    "                    for nar_to_sub in narrative_to_subnarratives:\n",
    "                      subnarrative_list = nar_to_sub.split(' ')\n",
    "                      if subnarrative_list[0] == 'Other':\n",
    "                        narratives.append('Other')\n",
    "                        subnarratives.append('Other')\n",
    "                        continue\n",
    "\n",
    "                      nar_to_sub = ' '.join(subnarrative_list[1:])\n",
    "                      nar, sub = nar_to_sub.split(':')\n",
    "                      narratives.append(nar.strip())\n",
    "                      subnarratives.append(sub.strip())\n",
    "\n",
    "                    raw_annotation_data.append({\n",
    "                        'article_id': article_id,\n",
    "                        'narratives': narratives,\n",
    "                        'subnarratives': subnarratives\n",
    "                    })\n",
    "\n",
    "annotations_df = pd.DataFrame(raw_annotation_data)"
   ]
  },
  {
   "cell_type": "code",
   "execution_count": 5,
   "id": "20a0bbdb-50aa-45c4-a252-f36a58145d60",
   "metadata": {
    "colab": {
     "base_uri": "https://localhost:8080/",
     "height": 204
    },
    "id": "20a0bbdb-50aa-45c4-a252-f36a58145d60",
    "outputId": "4f865a37-f0ac-4051-8008-c88ada2ad79c"
   },
   "outputs": [
    {
     "data": {
      "text/html": [
       "<div>\n",
       "<style scoped>\n",
       "    .dataframe tbody tr th:only-of-type {\n",
       "        vertical-align: middle;\n",
       "    }\n",
       "\n",
       "    .dataframe tbody tr th {\n",
       "        vertical-align: top;\n",
       "    }\n",
       "\n",
       "    .dataframe thead th {\n",
       "        text-align: right;\n",
       "    }\n",
       "</style>\n",
       "<table border=\"1\" class=\"dataframe\">\n",
       "  <thead>\n",
       "    <tr style=\"text-align: right;\">\n",
       "      <th></th>\n",
       "      <th>article_id</th>\n",
       "      <th>narratives</th>\n",
       "      <th>subnarratives</th>\n",
       "    </tr>\n",
       "  </thead>\n",
       "  <tbody>\n",
       "    <tr>\n",
       "      <th>0</th>\n",
       "      <td>RU-URW-1080.txt</td>\n",
       "      <td>[Discrediting Ukraine]</td>\n",
       "      <td>[Discrediting Ukrainian government and officia...</td>\n",
       "    </tr>\n",
       "    <tr>\n",
       "      <th>1</th>\n",
       "      <td>RU-URW-1013.txt</td>\n",
       "      <td>[Discrediting the West, Diplomacy]</td>\n",
       "      <td>[The West does not care about Ukraine, only ab...</td>\n",
       "    </tr>\n",
       "    <tr>\n",
       "      <th>2</th>\n",
       "      <td>RU-URW-1145.txt</td>\n",
       "      <td>[Praise of Russia]</td>\n",
       "      <td>[Praise of Russian military might]</td>\n",
       "    </tr>\n",
       "    <tr>\n",
       "      <th>3</th>\n",
       "      <td>RU-URW-1048.txt</td>\n",
       "      <td>[Discrediting Ukraine]</td>\n",
       "      <td>[Discrediting Ukrainian military]</td>\n",
       "    </tr>\n",
       "    <tr>\n",
       "      <th>4</th>\n",
       "      <td>RU-URW-1001.txt</td>\n",
       "      <td>[Praise of Russia]</td>\n",
       "      <td>[Russia is a guarantor of peace and prosperity]</td>\n",
       "    </tr>\n",
       "  </tbody>\n",
       "</table>\n",
       "</div>"
      ],
      "text/plain": [
       "        article_id                          narratives  \\\n",
       "0  RU-URW-1080.txt              [Discrediting Ukraine]   \n",
       "1  RU-URW-1013.txt  [Discrediting the West, Diplomacy]   \n",
       "2  RU-URW-1145.txt                  [Praise of Russia]   \n",
       "3  RU-URW-1048.txt              [Discrediting Ukraine]   \n",
       "4  RU-URW-1001.txt                  [Praise of Russia]   \n",
       "\n",
       "                                       subnarratives  \n",
       "0  [Discrediting Ukrainian government and officia...  \n",
       "1  [The West does not care about Ukraine, only ab...  \n",
       "2                 [Praise of Russian military might]  \n",
       "3                  [Discrediting Ukrainian military]  \n",
       "4    [Russia is a guarantor of peace and prosperity]  "
      ]
     },
     "execution_count": 5,
     "metadata": {},
     "output_type": "execute_result"
    }
   ],
   "source": [
    "annotations_df.head()"
   ]
  },
  {
   "cell_type": "code",
   "execution_count": 6,
   "id": "42dff675-d6b0-4664-9058-694768d1137d",
   "metadata": {
    "colab": {
     "base_uri": "https://localhost:8080/",
     "height": 204
    },
    "id": "42dff675-d6b0-4664-9058-694768d1137d",
    "outputId": "a6aa81e0-be57-437c-f3b5-cc980b983cd1"
   },
   "outputs": [
    {
     "data": {
      "text/html": [
       "<div>\n",
       "<style scoped>\n",
       "    .dataframe tbody tr th:only-of-type {\n",
       "        vertical-align: middle;\n",
       "    }\n",
       "\n",
       "    .dataframe tbody tr th {\n",
       "        vertical-align: top;\n",
       "    }\n",
       "\n",
       "    .dataframe thead th {\n",
       "        text-align: right;\n",
       "    }\n",
       "</style>\n",
       "<table border=\"1\" class=\"dataframe\">\n",
       "  <thead>\n",
       "    <tr style=\"text-align: right;\">\n",
       "      <th></th>\n",
       "      <th>article_id</th>\n",
       "      <th>narratives</th>\n",
       "      <th>subnarratives</th>\n",
       "    </tr>\n",
       "  </thead>\n",
       "  <tbody>\n",
       "    <tr>\n",
       "      <th>1694</th>\n",
       "      <td>EN_CC_200022.txt</td>\n",
       "      <td>[Criticism of institutions and authorities, Cr...</td>\n",
       "      <td>[Criticism of national governments, Other, Met...</td>\n",
       "    </tr>\n",
       "    <tr>\n",
       "      <th>1695</th>\n",
       "      <td>EN_CC_100028.txt</td>\n",
       "      <td>[Other]</td>\n",
       "      <td>[Other]</td>\n",
       "    </tr>\n",
       "    <tr>\n",
       "      <th>1696</th>\n",
       "      <td>EN_CC_300010.txt</td>\n",
       "      <td>[Amplifying Climate Fears]</td>\n",
       "      <td>[Other]</td>\n",
       "    </tr>\n",
       "    <tr>\n",
       "      <th>1697</th>\n",
       "      <td>EN_UA_013257.txt</td>\n",
       "      <td>[Russia is the Victim, Blaming the war on othe...</td>\n",
       "      <td>[Russia actions in Ukraine are only self-defen...</td>\n",
       "    </tr>\n",
       "    <tr>\n",
       "      <th>1698</th>\n",
       "      <td>EN_UA_000104.txt</td>\n",
       "      <td>[Other]</td>\n",
       "      <td>[Other]</td>\n",
       "    </tr>\n",
       "  </tbody>\n",
       "</table>\n",
       "</div>"
      ],
      "text/plain": [
       "            article_id                                         narratives  \\\n",
       "1694  EN_CC_200022.txt  [Criticism of institutions and authorities, Cr...   \n",
       "1695  EN_CC_100028.txt                                            [Other]   \n",
       "1696  EN_CC_300010.txt                         [Amplifying Climate Fears]   \n",
       "1697  EN_UA_013257.txt  [Russia is the Victim, Blaming the war on othe...   \n",
       "1698  EN_UA_000104.txt                                            [Other]   \n",
       "\n",
       "                                          subnarratives  \n",
       "1694  [Criticism of national governments, Other, Met...  \n",
       "1695                                            [Other]  \n",
       "1696                                            [Other]  \n",
       "1697  [Russia actions in Ukraine are only self-defen...  \n",
       "1698                                            [Other]  "
      ]
     },
     "execution_count": 6,
     "metadata": {},
     "output_type": "execute_result"
    }
   ],
   "source": [
    "annotations_df.tail()"
   ]
  },
  {
   "cell_type": "code",
   "execution_count": 7,
   "id": "4f7a2477-7ee9-406e-9eec-591323902419",
   "metadata": {
    "colab": {
     "base_uri": "https://localhost:8080/"
    },
    "id": "4f7a2477-7ee9-406e-9eec-591323902419",
    "outputId": "f9b1efd5-d623-4acd-94cc-667ea451526e"
   },
   "outputs": [
    {
     "data": {
      "text/plain": [
       "(1699, 3)"
      ]
     },
     "execution_count": 7,
     "metadata": {},
     "output_type": "execute_result"
    }
   ],
   "source": [
    "annotations_df.shape"
   ]
  },
  {
   "cell_type": "code",
   "execution_count": 8,
   "id": "ae3916e8-b1fe-4015-bc0c-da6049e1869c",
   "metadata": {
    "colab": {
     "base_uri": "https://localhost:8080/",
     "height": 204
    },
    "id": "ae3916e8-b1fe-4015-bc0c-da6049e1869c",
    "outputId": "85268d0d-1e47-4110-8529-c9e69568c51e"
   },
   "outputs": [
    {
     "data": {
      "text/html": [
       "<div>\n",
       "<style scoped>\n",
       "    .dataframe tbody tr th:only-of-type {\n",
       "        vertical-align: middle;\n",
       "    }\n",
       "\n",
       "    .dataframe tbody tr th {\n",
       "        vertical-align: top;\n",
       "    }\n",
       "\n",
       "    .dataframe thead th {\n",
       "        text-align: right;\n",
       "    }\n",
       "</style>\n",
       "<table border=\"1\" class=\"dataframe\">\n",
       "  <thead>\n",
       "    <tr style=\"text-align: right;\">\n",
       "      <th></th>\n",
       "      <th>language</th>\n",
       "      <th>article_id</th>\n",
       "      <th>content</th>\n",
       "      <th>narratives</th>\n",
       "      <th>subnarratives</th>\n",
       "    </tr>\n",
       "  </thead>\n",
       "  <tbody>\n",
       "    <tr>\n",
       "      <th>0</th>\n",
       "      <td>RU</td>\n",
       "      <td>RU-URW-1161.txt</td>\n",
       "      <td>В ближайшие два месяца США будут стремиться к ...</td>\n",
       "      <td>[Blaming the war on others rather than the inv...</td>\n",
       "      <td>[The West are the aggressors, Other, The West ...</td>\n",
       "    </tr>\n",
       "    <tr>\n",
       "      <th>1</th>\n",
       "      <td>RU</td>\n",
       "      <td>RU-URW-1175.txt</td>\n",
       "      <td>В ЕС испугались последствий популярности правы...</td>\n",
       "      <td>[Discrediting the West, Diplomacy, Discreditin...</td>\n",
       "      <td>[The West is weak, Other, The EU is divided]</td>\n",
       "    </tr>\n",
       "    <tr>\n",
       "      <th>2</th>\n",
       "      <td>RU</td>\n",
       "      <td>RU-URW-1149.txt</td>\n",
       "      <td>Возможность признания Аллы Пугачевой иностранн...</td>\n",
       "      <td>[Distrust towards Media]</td>\n",
       "      <td>[Western media is an instrument of propaganda]</td>\n",
       "    </tr>\n",
       "    <tr>\n",
       "      <th>3</th>\n",
       "      <td>RU</td>\n",
       "      <td>RU-URW-1015.txt</td>\n",
       "      <td>Азаров рассказал о смене риторики Киева по пер...</td>\n",
       "      <td>[Discrediting Ukraine, Discrediting Ukraine]</td>\n",
       "      <td>[Ukraine is a puppet of the West, Discrediting...</td>\n",
       "    </tr>\n",
       "    <tr>\n",
       "      <th>4</th>\n",
       "      <td>RU</td>\n",
       "      <td>RU-URW-1001.txt</td>\n",
       "      <td>В россиянах проснулась массовая любовь к путеш...</td>\n",
       "      <td>[Praise of Russia]</td>\n",
       "      <td>[Russia is a guarantor of peace and prosperity]</td>\n",
       "    </tr>\n",
       "  </tbody>\n",
       "</table>\n",
       "</div>"
      ],
      "text/plain": [
       "  language       article_id  \\\n",
       "0       RU  RU-URW-1161.txt   \n",
       "1       RU  RU-URW-1175.txt   \n",
       "2       RU  RU-URW-1149.txt   \n",
       "3       RU  RU-URW-1015.txt   \n",
       "4       RU  RU-URW-1001.txt   \n",
       "\n",
       "                                             content  \\\n",
       "0  В ближайшие два месяца США будут стремиться к ...   \n",
       "1  В ЕС испугались последствий популярности правы...   \n",
       "2  Возможность признания Аллы Пугачевой иностранн...   \n",
       "3  Азаров рассказал о смене риторики Киева по пер...   \n",
       "4  В россиянах проснулась массовая любовь к путеш...   \n",
       "\n",
       "                                          narratives  \\\n",
       "0  [Blaming the war on others rather than the inv...   \n",
       "1  [Discrediting the West, Diplomacy, Discreditin...   \n",
       "2                           [Distrust towards Media]   \n",
       "3       [Discrediting Ukraine, Discrediting Ukraine]   \n",
       "4                                 [Praise of Russia]   \n",
       "\n",
       "                                       subnarratives  \n",
       "0  [The West are the aggressors, Other, The West ...  \n",
       "1       [The West is weak, Other, The EU is divided]  \n",
       "2     [Western media is an instrument of propaganda]  \n",
       "3  [Ukraine is a puppet of the West, Discrediting...  \n",
       "4    [Russia is a guarantor of peace and prosperity]  "
      ]
     },
     "execution_count": 8,
     "metadata": {},
     "output_type": "execute_result"
    }
   ],
   "source": [
    "dataset = pd.merge(documents_df, annotations_df, on='article_id')\n",
    "dataset.head()"
   ]
  },
  {
   "cell_type": "code",
   "execution_count": 9,
   "id": "75f731fb-37cf-4373-97f1-5e6def88e155",
   "metadata": {},
   "outputs": [
    {
     "data": {
      "text/plain": [
       "(1699, 5)"
      ]
     },
     "execution_count": 9,
     "metadata": {},
     "output_type": "execute_result"
    }
   ],
   "source": [
    "dataset.shape"
   ]
  },
  {
   "cell_type": "code",
   "execution_count": 10,
   "id": "ce7af73a-8b1e-48d4-81c8-372083aaa026",
   "metadata": {
    "colab": {
     "base_uri": "https://localhost:8080/",
     "height": 204
    },
    "id": "ce7af73a-8b1e-48d4-81c8-372083aaa026",
    "outputId": "a49d207a-1773-4d13-e862-ba632dc81205"
   },
   "outputs": [
    {
     "data": {
      "text/html": [
       "<div>\n",
       "<style scoped>\n",
       "    .dataframe tbody tr th:only-of-type {\n",
       "        vertical-align: middle;\n",
       "    }\n",
       "\n",
       "    .dataframe tbody tr th {\n",
       "        vertical-align: top;\n",
       "    }\n",
       "\n",
       "    .dataframe thead th {\n",
       "        text-align: right;\n",
       "    }\n",
       "</style>\n",
       "<table border=\"1\" class=\"dataframe\">\n",
       "  <thead>\n",
       "    <tr style=\"text-align: right;\">\n",
       "      <th></th>\n",
       "      <th>language</th>\n",
       "      <th>article_id</th>\n",
       "      <th>content</th>\n",
       "      <th>narratives</th>\n",
       "      <th>subnarratives</th>\n",
       "    </tr>\n",
       "  </thead>\n",
       "  <tbody>\n",
       "    <tr>\n",
       "      <th>0</th>\n",
       "      <td>RU</td>\n",
       "      <td>RU-URW-1161.txt</td>\n",
       "      <td>В ближайшие два месяца США будут стремиться к ...</td>\n",
       "      <td>[Blaming the war on others rather than the inv...</td>\n",
       "      <td>[The West are the aggressors, Other, The West ...</td>\n",
       "    </tr>\n",
       "    <tr>\n",
       "      <th>1</th>\n",
       "      <td>RU</td>\n",
       "      <td>RU-URW-1175.txt</td>\n",
       "      <td>В ЕС испугались последствий популярности правы...</td>\n",
       "      <td>[Discrediting the West, Diplomacy, Discreditin...</td>\n",
       "      <td>[The West is weak, Other, The EU is divided]</td>\n",
       "    </tr>\n",
       "    <tr>\n",
       "      <th>2</th>\n",
       "      <td>RU</td>\n",
       "      <td>RU-URW-1149.txt</td>\n",
       "      <td>Возможность признания Аллы Пугачевой иностранн...</td>\n",
       "      <td>[Distrust towards Media]</td>\n",
       "      <td>[Western media is an instrument of propaganda]</td>\n",
       "    </tr>\n",
       "    <tr>\n",
       "      <th>3</th>\n",
       "      <td>RU</td>\n",
       "      <td>RU-URW-1015.txt</td>\n",
       "      <td>Азаров рассказал о смене риторики Киева по пер...</td>\n",
       "      <td>[Discrediting Ukraine, Discrediting Ukraine]</td>\n",
       "      <td>[Ukraine is a puppet of the West, Discrediting...</td>\n",
       "    </tr>\n",
       "    <tr>\n",
       "      <th>4</th>\n",
       "      <td>RU</td>\n",
       "      <td>RU-URW-1001.txt</td>\n",
       "      <td>В россиянах проснулась массовая любовь к путеш...</td>\n",
       "      <td>[Praise of Russia]</td>\n",
       "      <td>[Russia is a guarantor of peace and prosperity]</td>\n",
       "    </tr>\n",
       "  </tbody>\n",
       "</table>\n",
       "</div>"
      ],
      "text/plain": [
       "  language       article_id  \\\n",
       "0       RU  RU-URW-1161.txt   \n",
       "1       RU  RU-URW-1175.txt   \n",
       "2       RU  RU-URW-1149.txt   \n",
       "3       RU  RU-URW-1015.txt   \n",
       "4       RU  RU-URW-1001.txt   \n",
       "\n",
       "                                             content  \\\n",
       "0  В ближайшие два месяца США будут стремиться к ...   \n",
       "1  В ЕС испугались последствий популярности правы...   \n",
       "2  Возможность признания Аллы Пугачевой иностранн...   \n",
       "3  Азаров рассказал о смене риторики Киева по пер...   \n",
       "4  В россиянах проснулась массовая любовь к путеш...   \n",
       "\n",
       "                                          narratives  \\\n",
       "0  [Blaming the war on others rather than the inv...   \n",
       "1  [Discrediting the West, Diplomacy, Discreditin...   \n",
       "2                           [Distrust towards Media]   \n",
       "3       [Discrediting Ukraine, Discrediting Ukraine]   \n",
       "4                                 [Praise of Russia]   \n",
       "\n",
       "                                       subnarratives  \n",
       "0  [The West are the aggressors, Other, The West ...  \n",
       "1       [The West is weak, Other, The EU is divided]  \n",
       "2     [Western media is an instrument of propaganda]  \n",
       "3  [Ukraine is a puppet of the West, Discrediting...  \n",
       "4    [Russia is a guarantor of peace and prosperity]  "
      ]
     },
     "execution_count": 10,
     "metadata": {},
     "output_type": "execute_result"
    }
   ],
   "source": [
    "dataset.head()"
   ]
  },
  {
   "cell_type": "code",
   "execution_count": 11,
   "id": "da6d1b40-f693-4de2-83aa-7743bb59e23a",
   "metadata": {
    "colab": {
     "base_uri": "https://localhost:8080/",
     "height": 120
    },
    "id": "da6d1b40-f693-4de2-83aa-7743bb59e23a",
    "outputId": "eb43c352-ec11-466a-fbcc-ea229659245e"
   },
   "outputs": [
    {
     "data": {
      "text/plain": [
       "'Trump Lawyer Demands Accountability From Intel Chiefs Who Backed Hunter Biden \\n\\n An attorney for former President Donald Trump wants the 51 former intelligence chiefs held responsible for backing Hunter Biden in the unfolding story of the laptop abandoned in a Delaware repair shop.\\n\\nLawyer Tim Parlatore\\'s goal is to uncover alleged communications between the 51 former senior intel leaders and the Biden 2020 campaign.\\n\\nPolitico had reported that an Oct. 19, 2020, letter, signed by the former intelligence officials, outlined their assessment that a New York Post disclosure of emails allegedly belonging to Hunter Biden \"has all the classic earmarks of a Russia information operation.\"\\n\\nThose signing the letter included former CIA Directors Leon Panetta, Mike Hayden and John Brennan, along with former Director of National Intelligence James Clapper.\\n\\nThe letter offered no evidence, but raised suspicions by the former intel officials.\\n\\nThe Post had previously reported that during the final months of the heated 2020 presidential race between Joe Biden and Trump, there were emails showing evidence of a possible meeting in the past between Hunter Biden, his father, and a Ukrainian energy firm linked to corruption. Joe Biden denied the meeting described took place.\\n\\nIn March of this year, The New York Times backed up portions of the Post\\'s reporting on the Hunter Biden emails.\\n\\n\"Those emails were obtained by The New York Times from a cache of files that appears to have come from a laptop abandoned by Mr. Biden in a Delaware repair shop. The email and others in the cache were authenticated by people familiar with them and with the investigation,\" the Times reported.\\n\\nNow, Parlatore has filed letters of complaint with the agencies that had employed the 51 former intel officials.\\n\\nThe letters cite \"an egregious breach\" by former agency employees \"that appears to have been overlooked by your agency, as it has gone uninvestigated and certainly unpunished. Specifically, the unauthorized publication and dissemination of an intelligence assessment, purportedly based on classified information that was used wrongfully to influence the outcome of an election.\"\\n\\nAccording to a Post opinion piece by journalist Miranda Devine, letters were sent to John Hollister Hedley, chairman of the Publication Classification Review Board at the CIA; Gen. Paul Nakasone, director of the National Security Agency and commander of United States Cyber Command; Christine Abizaid, director of the National Counterterrorism Center at the Office of the Director of National Intelligence; Caroline Krass, general counsel, Department of Defense; and Avril Haines, director of the Information Management Division in the Office of the DNI.\\n\\nParlatore wants each agency to \"proceed immediately with legal action to [ensure] that such breaches of vital security provisions do not continue to go unchecked, the Post said.\\n\\nHis letter notes that each of the 51 former officials was \"bound by the lifelong obligation\" to submit the letter to their former agencies for pre-publication security review.\\n\\nParlatore is also expected to file a letter with the Federal Election Commission asking that the letter signed by the 51 former officials be considered a campaign \"in-kind contribution.\"\\n\\nThe Post noted that another step is for Parlatore to file a lawsuit as he seeks to establish a link between Democrat operatives and the controversial letter.\\n\\n'"
      ]
     },
     "execution_count": 11,
     "metadata": {},
     "output_type": "execute_result"
    }
   ],
   "source": [
    "row = 5\n",
    "english_article = dataset[dataset['language'] == 'EN'].iloc[row].content\n",
    "english_article"
   ]
  },
  {
   "cell_type": "code",
   "execution_count": 12,
   "id": "ec2c33fd-59cf-4911-b097-7220c6b385ff",
   "metadata": {
    "colab": {
     "base_uri": "https://localhost:8080/"
    },
    "id": "ec2c33fd-59cf-4911-b097-7220c6b385ff",
    "outputId": "8848641b-0345-429e-8d28-cd71dbf48a60"
   },
   "outputs": [
    {
     "data": {
      "text/plain": [
       "(1699, 5)"
      ]
     },
     "execution_count": 12,
     "metadata": {},
     "output_type": "execute_result"
    }
   ],
   "source": [
    "dataset.shape"
   ]
  },
  {
   "cell_type": "code",
   "execution_count": 13,
   "id": "83f30707-3018-4109-8f4e-9a497b0915e6",
   "metadata": {
    "colab": {
     "base_uri": "https://localhost:8080/",
     "height": 453
    },
    "id": "83f30707-3018-4109-8f4e-9a497b0915e6",
    "outputId": "6dc50b1a-ab0c-48f0-d147-dd0861772a64"
   },
   "outputs": [
    {
     "data": {
      "text/plain": [
       "0       [Blaming the war on others rather than the inv...\n",
       "1       [Discrediting the West, Diplomacy, Discreditin...\n",
       "2                                [Distrust towards Media]\n",
       "3            [Discrediting Ukraine, Discrediting Ukraine]\n",
       "4                                      [Praise of Russia]\n",
       "                              ...                        \n",
       "1694                       [Amplifying war-related fears]\n",
       "1695    [Criticism of climate movement, Downplaying cl...\n",
       "1696    [Criticism of institutions and authorities, Co...\n",
       "1697                           [Speculating war outcomes]\n",
       "1698                           [Amplifying Climate Fears]\n",
       "Name: narratives, Length: 1699, dtype: object"
      ]
     },
     "execution_count": 13,
     "metadata": {},
     "output_type": "execute_result"
    }
   ],
   "source": [
    "dataset['narratives']"
   ]
  },
  {
   "cell_type": "code",
   "execution_count": 14,
   "id": "2156c905-ebab-45a1-b3e3-bb8b96966a83",
   "metadata": {
    "colab": {
     "base_uri": "https://localhost:8080/"
    },
    "id": "2156c905-ebab-45a1-b3e3-bb8b96966a83",
    "outputId": "8c5cd177-8cfe-417b-d192-8d6ad71caa37"
   },
   "outputs": [
    {
     "data": {
      "text/plain": [
       "array(['Blaming the war on others rather than the invader',\n",
       "       'Discrediting the West, Diplomacy',\n",
       "       'Hidden plots by secret schemes of powerful groups',\n",
       "       'Discrediting Ukraine', 'Praise of Russia',\n",
       "       'Distrust towards Media', 'Russia is the Victim',\n",
       "       'Negative Consequences for the West', 'Speculating war outcomes',\n",
       "       'Amplifying war-related fears', 'Overpraising the West',\n",
       "       'Downplaying climate change',\n",
       "       'Criticism of institutions and authorities',\n",
       "       'Questioning the measurements and science',\n",
       "       'Climate change is beneficial', 'Criticism of climate policies',\n",
       "       'Criticism of climate movement', 'Amplifying Climate Fears',\n",
       "       'Other', 'Controversy about green technologies',\n",
       "       'Green policies are geopolitical instruments'], dtype=object)"
      ]
     },
     "execution_count": 14,
     "metadata": {},
     "output_type": "execute_result"
    }
   ],
   "source": [
    "unique_narratives = dataset['narratives'].explode().unique()\n",
    "unique_narratives"
   ]
  },
  {
   "cell_type": "code",
   "execution_count": 15,
   "id": "f8c9abe1-f517-4197-bf7f-2627275aed66",
   "metadata": {
    "colab": {
     "base_uri": "https://localhost:8080/",
     "height": 782
    },
    "id": "f8c9abe1-f517-4197-bf7f-2627275aed66",
    "outputId": "46a8580c-0e1c-4c69-e7d1-0c828ca1d022"
   },
   "outputs": [
    {
     "name": "stdout",
     "output_type": "stream",
     "text": [
      "21\n"
     ]
    },
    {
     "data": {
      "text/plain": [
       "narratives\n",
       "Discrediting Ukraine                                 584\n",
       "Discrediting the West, Diplomacy                     452\n",
       "Praise of Russia                                     406\n",
       "Amplifying Climate Fears                             357\n",
       "Other                                                324\n",
       "Amplifying war-related fears                         297\n",
       "Russia is the Victim                                 229\n",
       "Criticism of institutions and authorities            216\n",
       "Blaming the war on others rather than the invader    194\n",
       "Speculating war outcomes                             132\n",
       "Criticism of climate policies                        127\n",
       "Negative Consequences for the West                   104\n",
       "Criticism of climate movement                         84\n",
       "Hidden plots by secret schemes of powerful groups     84\n",
       "Downplaying climate change                            68\n",
       "Distrust towards Media                                53\n",
       "Overpraising the West                                 51\n",
       "Controversy about green technologies                  49\n",
       "Questioning the measurements and science              40\n",
       "Climate change is beneficial                          14\n",
       "Green policies are geopolitical instruments            9\n",
       "Name: count, dtype: int64"
      ]
     },
     "execution_count": 15,
     "metadata": {},
     "output_type": "execute_result"
    }
   ],
   "source": [
    "print(len(dataset['narratives'].explode().value_counts()))\n",
    "dataset['narratives'].explode().value_counts()"
   ]
  },
  {
   "cell_type": "code",
   "execution_count": 16,
   "id": "d5e2fa6a-f315-49a2-9ddd-44c8c16ec029",
   "metadata": {
    "colab": {
     "base_uri": "https://localhost:8080/"
    },
    "id": "d5e2fa6a-f315-49a2-9ddd-44c8c16ec029",
    "outputId": "3b83ef6b-7e0c-48ef-f2e8-13b382466199"
   },
   "outputs": [
    {
     "data": {
      "text/plain": [
       "array(['The West are the aggressors', 'Other', 'The West is weak',\n",
       "       'Ukraine is a puppet of the West',\n",
       "       'Ukraine is associated with nazism',\n",
       "       'Russia is a guarantor of peace and prosperity',\n",
       "       'The West does not care about Ukraine, only about its interests',\n",
       "       'The EU is divided',\n",
       "       'Western media is an instrument of propaganda',\n",
       "       'Discrediting Ukrainian government and officials and policies',\n",
       "       'The West is overreacting', 'UA is anti-RU extremists',\n",
       "       'Discrediting Ukrainian nation and society',\n",
       "       'Discrediting Ukrainian military',\n",
       "       'Ukrainian media cannot be trusted',\n",
       "       'Praise of Russian military might', 'The West is russophobic',\n",
       "       'Ukrainian army is collapsing',\n",
       "       'Russia has international support from a number of countries and people',\n",
       "       'Praise of Russian President Vladimir Putin',\n",
       "       'By continuing the war we risk WWIII', 'Ukraine is the aggressor',\n",
       "       'Russia actions in Ukraine are only self-defence',\n",
       "       'Situation in Ukraine is hopeless',\n",
       "       'There is a real possibility that nuclear weapons will be employed',\n",
       "       'Rewriting Ukraine’s history',\n",
       "       'Russia will also attack other countries',\n",
       "       'Diplomacy does/will not work',\n",
       "       'NATO should/will directly intervene',\n",
       "       'The conflict will increase the Ukrainian refugee flows to Europe',\n",
       "       'Criticism of political organizations and figures',\n",
       "       'Scientific community is unreliable',\n",
       "       'Humans and nature will adapt to the changes', 'CO2 is beneficial',\n",
       "       'Climate policies have negative impact on the economy',\n",
       "       'Climate cycles are natural',\n",
       "       'Methodologies/metrics used are unreliable/faulty',\n",
       "       'Climate movement is alarmist', 'Doomsday scenarios for humans',\n",
       "       'Amplifying existing fears of global warming',\n",
       "       'Criticism of national governments',\n",
       "       'Ukraine is a hub for criminal activities',\n",
       "       'Climate policies are ineffective',\n",
       "       'Renewable energy is dangerous', 'West is tired of Ukraine',\n",
       "       'Whatever we do it is already too late',\n",
       "       'Criticism of international entities',\n",
       "       'Earth will be uninhabitable soon', 'Climate movement is corrupt',\n",
       "       'Criticism of the EU', 'Climate agenda has hidden motives',\n",
       "       'Ice is not melting', 'Sea levels are not rising',\n",
       "       'Temperature increase is beneficial',\n",
       "       'The West has the strongest international support',\n",
       "       'Sanctions imposed by Western countries will backfire',\n",
       "       'The West belongs in the right side of history',\n",
       "       'Human activities do not impact climate change',\n",
       "       'Ad hominem attacks on key activists',\n",
       "       'Climate policies are only for profit',\n",
       "       'Renewable energy is costly', 'Renewable energy is unreliable',\n",
       "       'Russian army is collapsing',\n",
       "       'Temperature increase does not have significant impact',\n",
       "       'NATO will destroy Russia',\n",
       "       'Weather suggests the trend is global cooling',\n",
       "       'Climate-related international relations are abusive/exploitative',\n",
       "       'Data shows no temperature increase',\n",
       "       'Green activities are a form of neo-colonialism',\n",
       "       'Blaming global elites',\n",
       "       'Russian invasion has strong national support',\n",
       "       'Russian army will lose all the occupied territories',\n",
       "       'CO2 concentrations are too small to have an impact',\n",
       "       'Greenhouse effect/carbon dioxide do not drive climate change'],\n",
       "      dtype=object)"
      ]
     },
     "execution_count": 16,
     "metadata": {},
     "output_type": "execute_result"
    }
   ],
   "source": [
    "unique_subnarratives = dataset['subnarratives'].explode().unique()\n",
    "unique_subnarratives"
   ]
  },
  {
   "cell_type": "code",
   "execution_count": 17,
   "id": "e054bc98-0868-422b-b23e-77dcda75bf2a",
   "metadata": {
    "colab": {
     "base_uri": "https://localhost:8080/"
    },
    "id": "e054bc98-0868-422b-b23e-77dcda75bf2a",
    "outputId": "0f609ac8-c00d-45fb-dfeb-a074b2db9ef1"
   },
   "outputs": [
    {
     "data": {
      "text/plain": [
       "74"
      ]
     },
     "execution_count": 17,
     "metadata": {},
     "output_type": "execute_result"
    }
   ],
   "source": [
    "len(unique_subnarratives)"
   ]
  },
  {
   "cell_type": "code",
   "execution_count": 18,
   "id": "f2a567c5-8023-4e63-a459-244cc7c6bb99",
   "metadata": {
    "colab": {
     "base_uri": "https://localhost:8080/",
     "height": 1000
    },
    "id": "f2a567c5-8023-4e63-a459-244cc7c6bb99",
    "outputId": "05a38c14-5c11-4c94-f7f8-df3abb39173f"
   },
   "outputs": [
    {
     "data": {
      "text/plain": [
       "subnarratives\n",
       "Other                                                                     1164\n",
       "Amplifying existing fears of global warming                                178\n",
       "Discrediting Ukrainian government and officials and policies               157\n",
       "Praise of Russian military might                                           145\n",
       "The West are the aggressors                                                112\n",
       "Ukraine is a puppet of the West                                            106\n",
       "Russia is a guarantor of peace and prosperity                              101\n",
       "Discrediting Ukrainian military                                            100\n",
       "There is a real possibility that nuclear weapons will be employed           96\n",
       "Criticism of national governments                                           85\n",
       "The West does not care about Ukraine, only about its interests              85\n",
       "Ukraine is the aggressor                                                    78\n",
       "Russia has international support from a number of countries and people      77\n",
       "Criticism of political organizations and figures                            73\n",
       "Russia actions in Ukraine are only self-defence                             70\n",
       "The West is russophobic                                                     69\n",
       "By continuing the war we risk WWIII                                         61\n",
       "The West is weak                                                            59\n",
       "Situation in Ukraine is hopeless                                            56\n",
       "Russia will also attack other countries                                     54\n",
       "Climate policies have negative impact on the economy                        45\n",
       "Praise of Russian President Vladimir Putin                                  43\n",
       "Diplomacy does/will not work                                                42\n",
       "Doomsday scenarios for humans                                               41\n",
       "Ukraine is associated with nazism                                           40\n",
       "Western media is an instrument of propaganda                                40\n",
       "The EU is divided                                                           40\n",
       "Ukraine is a hub for criminal activities                                    37\n",
       "Ukrainian army is collapsing                                                37\n",
       "Climate policies are ineffective                                            35\n",
       "Sanctions imposed by Western countries will backfire                        33\n",
       "Climate agenda has hidden motives                                           31\n",
       "Criticism of international entities                                         29\n",
       "NATO should/will directly intervene                                         28\n",
       "Climate movement is alarmist                                                27\n",
       "Earth will be uninhabitable soon                                            24\n",
       "West is tired of Ukraine                                                    21\n",
       "Ad hominem attacks on key activists                                         20\n",
       "Blaming global elites                                                       19\n",
       "The West has the strongest international support                            18\n",
       "Russian army is collapsing                                                  18\n",
       "Climate policies are only for profit                                        18\n",
       "The West belongs in the right side of history                               18\n",
       "UA is anti-RU extremists                                                    17\n",
       "Climate cycles are natural                                                  16\n",
       "Scientific community is unreliable                                          16\n",
       "Renewable energy is unreliable                                              14\n",
       "Renewable energy is costly                                                  14\n",
       "Methodologies/metrics used are unreliable/faulty                            12\n",
       "Climate movement is corrupt                                                 12\n",
       "Discrediting Ukrainian nation and society                                   10\n",
       "The West is overreacting                                                    10\n",
       "Whatever we do it is already too late                                       10\n",
       "Criticism of the EU                                                         10\n",
       "NATO will destroy Russia                                                     8\n",
       "Rewriting Ukraine’s history                                                  8\n",
       "Human activities do not impact climate change                                8\n",
       "The conflict will increase the Ukrainian refugee flows to Europe             8\n",
       "CO2 is beneficial                                                            7\n",
       "Temperature increase is beneficial                                           6\n",
       "Renewable energy is dangerous                                                6\n",
       "Russian invasion has strong national support                                 6\n",
       "CO2 concentrations are too small to have an impact                           5\n",
       "Russian army will lose all the occupied territories                          5\n",
       "Temperature increase does not have significant impact                        5\n",
       "Weather suggests the trend is global cooling                                 4\n",
       "Climate-related international relations are abusive/exploitative             4\n",
       "Green activities are a form of neo-colonialism                               4\n",
       "Humans and nature will adapt to the changes                                  4\n",
       "Ukrainian media cannot be trusted                                            4\n",
       "Ice is not melting                                                           4\n",
       "Data shows no temperature increase                                           3\n",
       "Sea levels are not rising                                                    2\n",
       "Greenhouse effect/carbon dioxide do not drive climate change                 2\n",
       "Name: count, dtype: int64"
      ]
     },
     "execution_count": 18,
     "metadata": {},
     "output_type": "execute_result"
    }
   ],
   "source": [
    "pd.set_option('display.max_rows', 100)\n",
    "\n",
    "dataset['subnarratives'].explode().value_counts()"
   ]
  },
  {
   "cell_type": "markdown",
   "id": "ifv0mGLY9Kpg",
   "metadata": {
    "id": "ifv0mGLY9Kpg"
   },
   "source": [
    "### 1.2 Encoding classification labels"
   ]
  },
  {
   "cell_type": "code",
   "execution_count": 19,
   "id": "e218505f-e7ee-4239-92ef-d5c16151f8f6",
   "metadata": {
    "id": "e218505f-e7ee-4239-92ef-d5c16151f8f6"
   },
   "outputs": [],
   "source": [
    "from sklearn.preprocessing import MultiLabelBinarizer\n",
    "\n",
    "mlb_narratives = MultiLabelBinarizer()\n",
    "mlb_subnarratives = MultiLabelBinarizer()"
   ]
  },
  {
   "cell_type": "code",
   "execution_count": 20,
   "id": "82f9eaa9-f6ac-4e99-9c11-dc9437332a62",
   "metadata": {
    "id": "82f9eaa9-f6ac-4e99-9c11-dc9437332a62"
   },
   "outputs": [],
   "source": [
    "narratives_binary = mlb_narratives.fit_transform(dataset['narratives'])\n",
    "subnarratives_binary = mlb_subnarratives.fit_transform(dataset['subnarratives'])\n",
    "\n",
    "dataset['narratives_encoded'] = narratives_binary.tolist()\n",
    "dataset['subnarratives_encoded'] = subnarratives_binary.tolist()"
   ]
  },
  {
   "cell_type": "code",
   "execution_count": 21,
   "id": "6f28e8c4-89a8-4799-9aa9-5d2754a58b8e",
   "metadata": {
    "colab": {
     "base_uri": "https://localhost:8080/",
     "height": 289
    },
    "id": "6f28e8c4-89a8-4799-9aa9-5d2754a58b8e",
    "outputId": "cf956fa1-e2b6-4102-fe8b-6830c446cb81"
   },
   "outputs": [
    {
     "data": {
      "text/html": [
       "<div>\n",
       "<style scoped>\n",
       "    .dataframe tbody tr th:only-of-type {\n",
       "        vertical-align: middle;\n",
       "    }\n",
       "\n",
       "    .dataframe tbody tr th {\n",
       "        vertical-align: top;\n",
       "    }\n",
       "\n",
       "    .dataframe thead th {\n",
       "        text-align: right;\n",
       "    }\n",
       "</style>\n",
       "<table border=\"1\" class=\"dataframe\">\n",
       "  <thead>\n",
       "    <tr style=\"text-align: right;\">\n",
       "      <th></th>\n",
       "      <th>language</th>\n",
       "      <th>article_id</th>\n",
       "      <th>content</th>\n",
       "      <th>narratives</th>\n",
       "      <th>subnarratives</th>\n",
       "      <th>narratives_encoded</th>\n",
       "      <th>subnarratives_encoded</th>\n",
       "    </tr>\n",
       "  </thead>\n",
       "  <tbody>\n",
       "    <tr>\n",
       "      <th>0</th>\n",
       "      <td>RU</td>\n",
       "      <td>RU-URW-1161.txt</td>\n",
       "      <td>В ближайшие два месяца США будут стремиться к ...</td>\n",
       "      <td>[Blaming the war on others rather than the inv...</td>\n",
       "      <td>[The West are the aggressors, Other, The West ...</td>\n",
       "      <td>[0, 0, 1, 0, 0, 0, 0, 0, 1, 1, 0, 0, 0, 1, 0, ...</td>\n",
       "      <td>[0, 0, 0, 0, 0, 0, 0, 0, 0, 0, 0, 0, 0, 0, 0, ...</td>\n",
       "    </tr>\n",
       "    <tr>\n",
       "      <th>1</th>\n",
       "      <td>RU</td>\n",
       "      <td>RU-URW-1175.txt</td>\n",
       "      <td>В ЕС испугались последствий популярности правы...</td>\n",
       "      <td>[Discrediting the West, Diplomacy, Discreditin...</td>\n",
       "      <td>[The West is weak, Other, The EU is divided]</td>\n",
       "      <td>[0, 0, 0, 0, 0, 0, 0, 0, 0, 1, 0, 0, 0, 0, 0, ...</td>\n",
       "      <td>[0, 0, 0, 0, 0, 0, 0, 0, 0, 0, 0, 0, 0, 0, 0, ...</td>\n",
       "    </tr>\n",
       "    <tr>\n",
       "      <th>2</th>\n",
       "      <td>RU</td>\n",
       "      <td>RU-URW-1149.txt</td>\n",
       "      <td>Возможность признания Аллы Пугачевой иностранн...</td>\n",
       "      <td>[Distrust towards Media]</td>\n",
       "      <td>[Western media is an instrument of propaganda]</td>\n",
       "      <td>[0, 0, 0, 0, 0, 0, 0, 0, 0, 0, 1, 0, 0, 0, 0, ...</td>\n",
       "      <td>[0, 0, 0, 0, 0, 0, 0, 0, 0, 0, 0, 0, 0, 0, 0, ...</td>\n",
       "    </tr>\n",
       "    <tr>\n",
       "      <th>3</th>\n",
       "      <td>RU</td>\n",
       "      <td>RU-URW-1015.txt</td>\n",
       "      <td>Азаров рассказал о смене риторики Киева по пер...</td>\n",
       "      <td>[Discrediting Ukraine, Discrediting Ukraine]</td>\n",
       "      <td>[Ukraine is a puppet of the West, Discrediting...</td>\n",
       "      <td>[0, 0, 0, 0, 0, 0, 0, 0, 1, 0, 0, 0, 0, 0, 0, ...</td>\n",
       "      <td>[0, 0, 0, 0, 0, 0, 0, 0, 0, 0, 0, 0, 0, 0, 0, ...</td>\n",
       "    </tr>\n",
       "    <tr>\n",
       "      <th>4</th>\n",
       "      <td>RU</td>\n",
       "      <td>RU-URW-1001.txt</td>\n",
       "      <td>В россиянах проснулась массовая любовь к путеш...</td>\n",
       "      <td>[Praise of Russia]</td>\n",
       "      <td>[Russia is a guarantor of peace and prosperity]</td>\n",
       "      <td>[0, 0, 0, 0, 0, 0, 0, 0, 0, 0, 0, 0, 0, 0, 0, ...</td>\n",
       "      <td>[0, 0, 0, 0, 0, 0, 0, 0, 0, 0, 0, 0, 0, 0, 0, ...</td>\n",
       "    </tr>\n",
       "  </tbody>\n",
       "</table>\n",
       "</div>"
      ],
      "text/plain": [
       "  language       article_id  \\\n",
       "0       RU  RU-URW-1161.txt   \n",
       "1       RU  RU-URW-1175.txt   \n",
       "2       RU  RU-URW-1149.txt   \n",
       "3       RU  RU-URW-1015.txt   \n",
       "4       RU  RU-URW-1001.txt   \n",
       "\n",
       "                                             content  \\\n",
       "0  В ближайшие два месяца США будут стремиться к ...   \n",
       "1  В ЕС испугались последствий популярности правы...   \n",
       "2  Возможность признания Аллы Пугачевой иностранн...   \n",
       "3  Азаров рассказал о смене риторики Киева по пер...   \n",
       "4  В россиянах проснулась массовая любовь к путеш...   \n",
       "\n",
       "                                          narratives  \\\n",
       "0  [Blaming the war on others rather than the inv...   \n",
       "1  [Discrediting the West, Diplomacy, Discreditin...   \n",
       "2                           [Distrust towards Media]   \n",
       "3       [Discrediting Ukraine, Discrediting Ukraine]   \n",
       "4                                 [Praise of Russia]   \n",
       "\n",
       "                                       subnarratives  \\\n",
       "0  [The West are the aggressors, Other, The West ...   \n",
       "1       [The West is weak, Other, The EU is divided]   \n",
       "2     [Western media is an instrument of propaganda]   \n",
       "3  [Ukraine is a puppet of the West, Discrediting...   \n",
       "4    [Russia is a guarantor of peace and prosperity]   \n",
       "\n",
       "                                  narratives_encoded  \\\n",
       "0  [0, 0, 1, 0, 0, 0, 0, 0, 1, 1, 0, 0, 0, 1, 0, ...   \n",
       "1  [0, 0, 0, 0, 0, 0, 0, 0, 0, 1, 0, 0, 0, 0, 0, ...   \n",
       "2  [0, 0, 0, 0, 0, 0, 0, 0, 0, 0, 1, 0, 0, 0, 0, ...   \n",
       "3  [0, 0, 0, 0, 0, 0, 0, 0, 1, 0, 0, 0, 0, 0, 0, ...   \n",
       "4  [0, 0, 0, 0, 0, 0, 0, 0, 0, 0, 0, 0, 0, 0, 0, ...   \n",
       "\n",
       "                               subnarratives_encoded  \n",
       "0  [0, 0, 0, 0, 0, 0, 0, 0, 0, 0, 0, 0, 0, 0, 0, ...  \n",
       "1  [0, 0, 0, 0, 0, 0, 0, 0, 0, 0, 0, 0, 0, 0, 0, ...  \n",
       "2  [0, 0, 0, 0, 0, 0, 0, 0, 0, 0, 0, 0, 0, 0, 0, ...  \n",
       "3  [0, 0, 0, 0, 0, 0, 0, 0, 0, 0, 0, 0, 0, 0, 0, ...  \n",
       "4  [0, 0, 0, 0, 0, 0, 0, 0, 0, 0, 0, 0, 0, 0, 0, ...  "
      ]
     },
     "execution_count": 21,
     "metadata": {},
     "output_type": "execute_result"
    }
   ],
   "source": [
    "dataset.head()"
   ]
  },
  {
   "cell_type": "code",
   "execution_count": 22,
   "id": "pASblO_C8uFa",
   "metadata": {
    "colab": {
     "base_uri": "https://localhost:8080/",
     "height": 765
    },
    "id": "pASblO_C8uFa",
    "outputId": "49a1b0ae-e476-45ec-bb42-d0b302016fcb"
   },
   "outputs": [
    {
     "data": {
      "text/plain": [
       "narratives\n",
       "Discrediting Ukraine                                 584\n",
       "Discrediting the West, Diplomacy                     452\n",
       "Praise of Russia                                     406\n",
       "Amplifying Climate Fears                             357\n",
       "Other                                                324\n",
       "Amplifying war-related fears                         297\n",
       "Russia is the Victim                                 229\n",
       "Criticism of institutions and authorities            216\n",
       "Blaming the war on others rather than the invader    194\n",
       "Speculating war outcomes                             132\n",
       "Criticism of climate policies                        127\n",
       "Negative Consequences for the West                   104\n",
       "Criticism of climate movement                         84\n",
       "Hidden plots by secret schemes of powerful groups     84\n",
       "Downplaying climate change                            68\n",
       "Distrust towards Media                                53\n",
       "Overpraising the West                                 51\n",
       "Controversy about green technologies                  49\n",
       "Questioning the measurements and science              40\n",
       "Climate change is beneficial                          14\n",
       "Green policies are geopolitical instruments            9\n",
       "Name: count, dtype: int64"
      ]
     },
     "execution_count": 22,
     "metadata": {},
     "output_type": "execute_result"
    }
   ],
   "source": [
    "dataset['narratives'].explode().value_counts()"
   ]
  },
  {
   "cell_type": "code",
   "execution_count": 23,
   "id": "ygPeaBYj8zVC",
   "metadata": {
    "colab": {
     "base_uri": "https://localhost:8080/",
     "height": 1000
    },
    "id": "ygPeaBYj8zVC",
    "outputId": "726bcf33-c772-4f7a-c445-e7491de518b0"
   },
   "outputs": [
    {
     "name": "stdout",
     "output_type": "stream",
     "text": [
      "74\n"
     ]
    },
    {
     "data": {
      "text/plain": [
       "subnarratives\n",
       "Other                                                                     1164\n",
       "Amplifying existing fears of global warming                                178\n",
       "Discrediting Ukrainian government and officials and policies               157\n",
       "Praise of Russian military might                                           145\n",
       "The West are the aggressors                                                112\n",
       "Ukraine is a puppet of the West                                            106\n",
       "Russia is a guarantor of peace and prosperity                              101\n",
       "Discrediting Ukrainian military                                            100\n",
       "There is a real possibility that nuclear weapons will be employed           96\n",
       "Criticism of national governments                                           85\n",
       "The West does not care about Ukraine, only about its interests              85\n",
       "Ukraine is the aggressor                                                    78\n",
       "Russia has international support from a number of countries and people      77\n",
       "Criticism of political organizations and figures                            73\n",
       "Russia actions in Ukraine are only self-defence                             70\n",
       "The West is russophobic                                                     69\n",
       "By continuing the war we risk WWIII                                         61\n",
       "The West is weak                                                            59\n",
       "Situation in Ukraine is hopeless                                            56\n",
       "Russia will also attack other countries                                     54\n",
       "Climate policies have negative impact on the economy                        45\n",
       "Praise of Russian President Vladimir Putin                                  43\n",
       "Diplomacy does/will not work                                                42\n",
       "Doomsday scenarios for humans                                               41\n",
       "Ukraine is associated with nazism                                           40\n",
       "Western media is an instrument of propaganda                                40\n",
       "The EU is divided                                                           40\n",
       "Ukraine is a hub for criminal activities                                    37\n",
       "Ukrainian army is collapsing                                                37\n",
       "Climate policies are ineffective                                            35\n",
       "Sanctions imposed by Western countries will backfire                        33\n",
       "Climate agenda has hidden motives                                           31\n",
       "Criticism of international entities                                         29\n",
       "NATO should/will directly intervene                                         28\n",
       "Climate movement is alarmist                                                27\n",
       "Earth will be uninhabitable soon                                            24\n",
       "West is tired of Ukraine                                                    21\n",
       "Ad hominem attacks on key activists                                         20\n",
       "Blaming global elites                                                       19\n",
       "The West has the strongest international support                            18\n",
       "Russian army is collapsing                                                  18\n",
       "Climate policies are only for profit                                        18\n",
       "The West belongs in the right side of history                               18\n",
       "UA is anti-RU extremists                                                    17\n",
       "Climate cycles are natural                                                  16\n",
       "Scientific community is unreliable                                          16\n",
       "Renewable energy is unreliable                                              14\n",
       "Renewable energy is costly                                                  14\n",
       "Methodologies/metrics used are unreliable/faulty                            12\n",
       "Climate movement is corrupt                                                 12\n",
       "Discrediting Ukrainian nation and society                                   10\n",
       "The West is overreacting                                                    10\n",
       "Whatever we do it is already too late                                       10\n",
       "Criticism of the EU                                                         10\n",
       "NATO will destroy Russia                                                     8\n",
       "Rewriting Ukraine’s history                                                  8\n",
       "Human activities do not impact climate change                                8\n",
       "The conflict will increase the Ukrainian refugee flows to Europe             8\n",
       "CO2 is beneficial                                                            7\n",
       "Temperature increase is beneficial                                           6\n",
       "Renewable energy is dangerous                                                6\n",
       "Russian invasion has strong national support                                 6\n",
       "CO2 concentrations are too small to have an impact                           5\n",
       "Russian army will lose all the occupied territories                          5\n",
       "Temperature increase does not have significant impact                        5\n",
       "Weather suggests the trend is global cooling                                 4\n",
       "Climate-related international relations are abusive/exploitative             4\n",
       "Green activities are a form of neo-colonialism                               4\n",
       "Humans and nature will adapt to the changes                                  4\n",
       "Ukrainian media cannot be trusted                                            4\n",
       "Ice is not melting                                                           4\n",
       "Data shows no temperature increase                                           3\n",
       "Sea levels are not rising                                                    2\n",
       "Greenhouse effect/carbon dioxide do not drive climate change                 2\n",
       "Name: count, dtype: int64"
      ]
     },
     "execution_count": 23,
     "metadata": {},
     "output_type": "execute_result"
    }
   ],
   "source": [
    "subnarratives_counts = dataset['subnarratives'].explode().value_counts()\n",
    "print(len(subnarratives_counts))\n",
    "subnarratives_counts"
   ]
  },
  {
   "cell_type": "markdown",
   "id": "RMntAWzR9Pn_",
   "metadata": {
    "id": "RMntAWzR9Pn_"
   },
   "source": [
    "### 1.3 Cleaning articles"
   ]
  },
  {
   "cell_type": "code",
   "execution_count": 24,
   "id": "9f317b37-bfab-4e47-97d1-e936680fe298",
   "metadata": {
    "colab": {
     "base_uri": "https://localhost:8080/"
    },
    "id": "9f317b37-bfab-4e47-97d1-e936680fe298",
    "outputId": "7ad70736-d660-4a05-b1b3-b7ad16f8c59a"
   },
   "outputs": [
    {
     "name": "stdout",
     "output_type": "stream",
     "text": [
      "Collecting xx-ent-wiki-sm==3.8.0\n",
      "  Downloading https://github.com/explosion/spacy-models/releases/download/xx_ent_wiki_sm-3.8.0/xx_ent_wiki_sm-3.8.0-py3-none-any.whl (11.1 MB)\n",
      "\u001b[2K     \u001b[90m━━━━━━━━━━━━━━━━━━━━━━━━━━━━━━━━━━━━━━━━\u001b[0m \u001b[32m11.1/11.1 MB\u001b[0m \u001b[31m10.5 MB/s\u001b[0m eta \u001b[36m0:00:00\u001b[0m \u001b[36m0:00:01\u001b[0m\n",
      "\u001b[?25h\u001b[38;5;2m✔ Download and installation successful\u001b[0m\n",
      "You can now load the package via spacy.load('xx_ent_wiki_sm')\n",
      "Collecting pt-core-news-sm==3.8.0\n",
      "  Downloading https://github.com/explosion/spacy-models/releases/download/pt_core_news_sm-3.8.0/pt_core_news_sm-3.8.0-py3-none-any.whl (13.0 MB)\n",
      "\u001b[2K     \u001b[90m━━━━━━━━━━━━━━━━━━━━━━━━━━━━━━━━━━━━━━━━\u001b[0m \u001b[32m13.0/13.0 MB\u001b[0m \u001b[31m10.8 MB/s\u001b[0m eta \u001b[36m0:00:00\u001b[0m00:01\u001b[0m00:01\u001b[0m\n",
      "\u001b[?25h\u001b[38;5;2m✔ Download and installation successful\u001b[0m\n",
      "You can now load the package via spacy.load('pt_core_news_sm')\n",
      "Collecting ru-core-news-sm==3.8.0\n",
      "  Downloading https://github.com/explosion/spacy-models/releases/download/ru_core_news_sm-3.8.0/ru_core_news_sm-3.8.0-py3-none-any.whl (15.3 MB)\n",
      "\u001b[2K     \u001b[90m━━━━━━━━━━━━━━━━━━━━━━━━━━━━━━━━━━━━━━━━\u001b[0m \u001b[32m15.3/15.3 MB\u001b[0m \u001b[31m10.2 MB/s\u001b[0m eta \u001b[36m0:00:00\u001b[0ma \u001b[36m0:00:01\u001b[0m\n",
      "\u001b[?25hRequirement already satisfied: pymorphy3>=1.0.0 in /Library/Frameworks/Python.framework/Versions/3.12/lib/python3.12/site-packages (from ru-core-news-sm==3.8.0) (2.0.2)\n",
      "Requirement already satisfied: dawg-python>=0.7.1 in /Library/Frameworks/Python.framework/Versions/3.12/lib/python3.12/site-packages (from pymorphy3>=1.0.0->ru-core-news-sm==3.8.0) (0.7.2)\n",
      "Requirement already satisfied: pymorphy3-dicts-ru in /Library/Frameworks/Python.framework/Versions/3.12/lib/python3.12/site-packages (from pymorphy3>=1.0.0->ru-core-news-sm==3.8.0) (2.4.417150.4580142)\n",
      "Requirement already satisfied: setuptools>=68.2.2 in /Library/Frameworks/Python.framework/Versions/3.12/lib/python3.12/site-packages (from pymorphy3>=1.0.0->ru-core-news-sm==3.8.0) (70.3.0)\n",
      "\u001b[38;5;2m✔ Download and installation successful\u001b[0m\n",
      "You can now load the package via spacy.load('ru_core_news_sm')\n"
     ]
    }
   ],
   "source": [
    "language_model_map = {\n",
    "    \"BG\": \"xx_ent_wiki_sm\",\n",
    "    \"EN\": \"en_core_web_sm\",\n",
    "    \"HI\": \"xx_ent_wiki_sm\",\n",
    "    \"PT\": \"pt_core_news_sm\",\n",
    "    \"RU\": \"ru_core_news_sm\",\n",
    "}\n",
    "\n",
    "!python3 -m spacy download xx_ent_wiki_sm\n",
    "!python3 -m spacy download pt_core_news_sm\n",
    "!python3 -m spacy download ru_core_news_sm"
   ]
  },
  {
   "cell_type": "code",
   "execution_count": 25,
   "id": "5590d939-aab7-45a9-949e-29e8d2c85974",
   "metadata": {
    "id": "5590d939-aab7-45a9-949e-29e8d2c85974"
   },
   "outputs": [],
   "source": [
    "!pip3 -q install emoji"
   ]
  },
  {
   "cell_type": "code",
   "execution_count": 26,
   "id": "57fdebc3-e68d-425f-8129-264acbe6d16d",
   "metadata": {
    "id": "57fdebc3-e68d-425f-8129-264acbe6d16d"
   },
   "outputs": [],
   "source": [
    "import spacy\n",
    "import emoji\n",
    "\n",
    "nlp_models = {lang: spacy.load(model) for lang, model in language_model_map.items()}"
   ]
  },
  {
   "cell_type": "code",
   "execution_count": 27,
   "id": "a0d87d4b-e1a3-4103-b856-b3a6c7835f39",
   "metadata": {
    "id": "a0d87d4b-e1a3-4103-b856-b3a6c7835f39"
   },
   "outputs": [],
   "source": [
    "import re\n",
    "\n",
    "def clean_article_with_paragraphs(article_text, language_code):\n",
    "    nlp = nlp_models.get(language_code, nlp_models[\"EN\"])\n",
    "\n",
    "    parts = re.split(r'\\n{2,}', article_text)\n",
    "    if len(parts) > 2:\n",
    "        header = parts[0].strip()\n",
    "        footer = parts[-1].strip()\n",
    "        body = parts[1:-1]\n",
    "    else:\n",
    "        header = parts[0].strip() if len(parts) > 0 else \"\"\n",
    "        footer = parts[1].strip() if len(parts) > 1 else \"\"\n",
    "        body = []\n",
    "\n",
    "    def clean_paragraph(paragraph):\n",
    "        paragraph = re.sub(\n",
    "            r'http\\S+|www\\S+|https\\S+|[a-zA-Z0-9.-]+\\.com|[a-zA-Z0-9_.+-]+@[a-zA-Z0-9-]+\\.[a-zA-Z0-9-.]+|@[A-Za-z0-9_]+',\n",
    "            '',\n",
    "            paragraph\n",
    "        )\n",
    "        doc = nlp(paragraph)\n",
    "        cleaned_tokens = []\n",
    "\n",
    "        important_entity_types = [\"PERSON\", \"ORG\", \"GPE\"]\n",
    "\n",
    "        for token in doc:\n",
    "            if token.is_space or emoji.is_emoji(token.text):\n",
    "                continue\n",
    "\n",
    "            if token.ent_type_ in important_entity_types:\n",
    "                cleaned_tokens.append(token.text + token.whitespace_)\n",
    "            else:\n",
    "                cleaned_tokens.append(token.text.lower() + token.whitespace_)\n",
    "\n",
    "        return \"\".join(cleaned_tokens).strip()\n",
    "\n",
    "    cleaned_header = f\"<PARA>{clean_paragraph(header)}</PARA>\" if header else \"\"\n",
    "    cleaned_footer = f\"<PARA>{clean_paragraph(footer)}</PARA>\" if footer else \"\"\n",
    "\n",
    "    cleaned_body = \" \".join([clean_paragraph(paragraph) for paragraph in body])\n",
    "\n",
    "    combined_text = \"\\n\\n\".join(filter(None, [cleaned_header, cleaned_body, cleaned_footer]))\n",
    "    return combined_text.strip()\n",
    "\n",
    "dataset[\"content\"] = dataset.apply(\n",
    "    lambda row: clean_article_with_paragraphs(row[\"content\"], row[\"language\"]),\n",
    "    axis=1\n",
    ")"
   ]
  },
  {
   "cell_type": "code",
   "execution_count": 35,
   "id": "d72db1b7-c2a2-4f1c-b3ca-875879b65f9d",
   "metadata": {
    "colab": {
     "base_uri": "https://localhost:8080/",
     "height": 120
    },
    "id": "d72db1b7-c2a2-4f1c-b3ca-875879b65f9d",
    "outputId": "cc1e066e-3e79-480a-f875-c0caa6c40594"
   },
   "outputs": [
    {
     "data": {
      "text/plain": [
       "'<PARA>Shapps Says uk facing ‘pre-war world’ and can’t risk cutting defence spending</PARA>\\n\\nDefence secretary Grant Shapps has said Britain is in a “pre-war world” and cannot afford to reduce spending on the military. in a major speech at Lancaster House in London, mr. Shapps said the “peace dividend” that followed the end of the cold war in the early 1990s was over. mr. Shapps said: “because the era of the peace dividend is over, in five years’ time we could be looking at multiple theatres including Russia, China, Iran, and North Korea.” “ask yourself, looking at today’s conflicts across the world, is it more likely that that number grows or reduces? i suspect we all know the answer. it’s likely to grow,” he added. mr. Shapps also announced 20,000 british service personnel would take part in NATO’s largest military exercises since the cold war, following the announcement last week of a £2.5 billion support package to Ukraine. over the weekend the RAF carried out air strikes with U.S. forces on the Iran-backed Houthi rebels in Yemen, after they targeted merchant shipping in their campaign against Israel. the british government has set a goal of increasing defence spending to 2.5 percent of gdp, but mr. Shapps has argued it should rise to 3 percent. his speech on monday—in front of an audience including top brass in the british military—might be seen as pushing the argument for increased defence spending. mr. Shapps said, “we made the critical decision to set out our aspiration to reach 2.5 percent of gdp on defence, and as we stabilise and grow this economy we’ll continue to strive to reach that as soon as possible.” “but now is the time for all allied and democratic nations across the world to do the same thing and ensure their defence spending is growing too,” he added. ‘the tanks are literally on europe’s ukrainian lawn’the defence secretary said: “an age of idealism has been replaced by a period of hard-headed realism. today our adversaries are busy rebuilding their barriers, old enemies are reanimated, new foes are taking shape, battle lines are being redrawn.” “the tanks are literally on europe’s ukrainian lawn and the foundations of the world order being shaken to their core,” he added. mr. Shapps refused to rule out further action against the Houthis following the weekend attacks. he said the strike against the Houthis was a “single action” but added, “we will now monitor very carefully to see what they do next, how they respond and we will see from there.” later prime minister Rishi Sunak said he would “not hesitate” to protect british shipping in the red sea. mr. Sunak told Sky News, “as we’ve said, not just to the Houthis but to their iranian masters, in a sense, because they are really proxies for Tehran, this cannot go on.” “freedom of navigation is just a given and always has been for many years. we cannot have that situation where they are trying to harass it, and we will keep a very close eye. if we have to take further action, that is something that we will consider,” he said.\\n\\n<PARA>he added, “they should be aware that if it doesn’t stop then of course we will then have to take the decisions that need to be taken.”</PARA>'"
      ]
     },
     "execution_count": 35,
     "metadata": {},
     "output_type": "execute_result"
    }
   ],
   "source": [
    "row = 6\n",
    "english_article = dataset[dataset['language'] == 'EN'].iloc[row].content\n",
    "english_article"
   ]
  },
  {
   "cell_type": "code",
   "execution_count": 36,
   "id": "0d24c02f-4289-40ad-b916-5ccac28b1660",
   "metadata": {
    "id": "0d24c02f-4289-40ad-b916-5ccac28b1660"
   },
   "outputs": [],
   "source": [
    "def split_into_sections(content):\n",
    "    parts = re.split(r'<PARA>|</PARA>', content)\n",
    "    parts = [p.strip() for p in parts if p.strip()]\n",
    "\n",
    "    if len(parts) == 1:\n",
    "        return parts[0], \"\", \"\"\n",
    "    elif len(parts) == 2:\n",
    "        return parts[0], parts[1], \"\"\n",
    "    else:\n",
    "        header = parts[0]\n",
    "        footer = parts[-1]\n",
    "        body = \" \".join(parts[1:-1])\n",
    "        return header, body, footer"
   ]
  },
  {
   "cell_type": "code",
   "execution_count": 37,
   "id": "9ff7d34f-637d-4866-92da-7fae89732d95",
   "metadata": {
    "colab": {
     "base_uri": "https://localhost:8080/"
    },
    "id": "9ff7d34f-637d-4866-92da-7fae89732d95",
    "outputId": "52974af8-517a-4113-a82d-636b017f3c29"
   },
   "outputs": [
    {
     "name": "stdout",
     "output_type": "stream",
     "text": [
      "Header:  Shapps Says uk facing ‘pre-war world’ and can’t risk cutting defence spending\n",
      "\n",
      "\n",
      "\n",
      "Body:  Defence secretary Grant Shapps has said Britain is in a “pre-war world” and cannot afford to reduce spending on the military. in a major speech at Lancaster House in London, mr. Shapps said the “peace dividend” that followed the end of the cold war in the early 1990s was over. mr. Shapps said: “because the era of the peace dividend is over, in five years’ time we could be looking at multiple theatres including Russia, China, Iran, and North Korea.” “ask yourself, looking at today’s conflicts across the world, is it more likely that that number grows or reduces? i suspect we all know the answer. it’s likely to grow,” he added. mr. Shapps also announced 20,000 british service personnel would take part in NATO’s largest military exercises since the cold war, following the announcement last week of a £2.5 billion support package to Ukraine. over the weekend the RAF carried out air strikes with U.S. forces on the Iran-backed Houthi rebels in Yemen, after they targeted merchant shipping in their campaign against Israel. the british government has set a goal of increasing defence spending to 2.5 percent of gdp, but mr. Shapps has argued it should rise to 3 percent. his speech on monday—in front of an audience including top brass in the british military—might be seen as pushing the argument for increased defence spending. mr. Shapps said, “we made the critical decision to set out our aspiration to reach 2.5 percent of gdp on defence, and as we stabilise and grow this economy we’ll continue to strive to reach that as soon as possible.” “but now is the time for all allied and democratic nations across the world to do the same thing and ensure their defence spending is growing too,” he added. ‘the tanks are literally on europe’s ukrainian lawn’the defence secretary said: “an age of idealism has been replaced by a period of hard-headed realism. today our adversaries are busy rebuilding their barriers, old enemies are reanimated, new foes are taking shape, battle lines are being redrawn.” “the tanks are literally on europe’s ukrainian lawn and the foundations of the world order being shaken to their core,” he added. mr. Shapps refused to rule out further action against the Houthis following the weekend attacks. he said the strike against the Houthis was a “single action” but added, “we will now monitor very carefully to see what they do next, how they respond and we will see from there.” later prime minister Rishi Sunak said he would “not hesitate” to protect british shipping in the red sea. mr. Sunak told Sky News, “as we’ve said, not just to the Houthis but to their iranian masters, in a sense, because they are really proxies for Tehran, this cannot go on.” “freedom of navigation is just a given and always has been for many years. we cannot have that situation where they are trying to harass it, and we will keep a very close eye. if we have to take further action, that is something that we will consider,” he said.\n",
      "\n",
      "\n",
      "\n",
      "Footer:  he added, “they should be aware that if it doesn’t stop then of course we will then have to take the decisions that need to be taken.”\n"
     ]
    }
   ],
   "source": [
    "header, body, footer = split_into_sections(english_article)\n",
    "print(\"Header: \", header)\n",
    "print(\"\\n\\n\")\n",
    "print(\"Body: \", body)\n",
    "print(\"\\n\\n\")\n",
    "print(\"Footer: \", footer)"
   ]
  },
  {
   "cell_type": "code",
   "execution_count": 38,
   "id": "2f4b9ee2-b385-49f3-8b1d-35c1ec0249d0",
   "metadata": {
    "colab": {
     "base_uri": "https://localhost:8080/"
    },
    "id": "2f4b9ee2-b385-49f3-8b1d-35c1ec0249d0",
    "outputId": "a726ce51-e7ad-4692-fb14-4e568429d872",
    "scrolled": true
   },
   "outputs": [
    {
     "name": "stdout",
     "output_type": "stream",
     "text": [
      "Header:  viktor orban in china: हंगरी के प्रधानमंत्री विक्टर ओरबान रूस यात्रा की यूक्रेन और यूरोपीय संघ ने रूस की यात्रा को लेकर ओरबान की आलोचना की थी.Trending Photosrussia ukraine war: लहंगरी के प्रधानमंत्री विक्टर ओरबान रूस और यूक्रेन की यात्रा के बाद सोमवार को अचानक चीन पहुंचे. वह यूक्रेन में शांति समझौते की संभावनाओं पर चर्चा करने के लिए चीन पहुंचे हैं. सरकारी ब्रॉडकास्टर सीसीटीवी ने जानकारी दी कि उन्होंने राष्ट्रपति शी चिनपिंग से मुलाकात की.ओरबान की यह यात्रा पिछले सप्ताह यूक्रेन और रूस की इसी तरह की अघोषित यात्रा के कुछ ही दिनों बाद हो रही है. हालांकि यूक्रेन और यूरोपीय संघ ने रूस की यात्रा को लेकर ओरबान की आलोचना की थी.हंगरी किसी से भी बात कर सकता हैओरबान ने कहा, ‘दोनों युद्धरत देशों से बात करने वाले देशों की संख्या कम होती जा रही है. हंगरी धीरे-धीरे यूरोप में इकलौता ऐसा देश बनकर उभर रहा है, जो हर किसी से बात कर सकता है.’आरेबान की रूस यात्रा पर विवादहंगरी ने महीने की शुरुआत में यूरोपीय संघ की छह महीने की क्रमिक अध्यक्षता संभाली थी. इस दौरान रूस के राष्ट्रपति व्लादिमीर पुतिन ने संकेत दिया था कि ओरबान यूरोपीय परिषद के शीर्ष प्रतिनिधि के तौर पर मॉस्को आए थे.यूरोपीय परिषद के कई शीर्ष अधिकारियों ने पुतिन की बात को खारिज किया था और कहा था कि ओरबान को द्विपक्षीय संबंधों पर चर्चा के अलावा कुछ भी करने का अधिकार प्राप्त नहीं है.पुतिन के करीबी हैं आरेबानयूरोपीय संघ में पुतिन के सबसे करीबी सहयोगी माने जाने वाले ओरबान ने यूक्रेन की सहायता करने और युद्ध के लिए मॉस्को पर प्रतिबंध लगाने के यूरोपीय संघ की कोशिशों में रुकावट खड़ी की है.नाटो शिखर सम्मेलन से पहले चीन की यात्रारॉयटर्स के मुताबिक आरेबान यूक्रेन को मिलने वाली पश्चिमी सैन्य सहायता के आलोचक हैं. उनके शी और पुतिन साथ मधुर संबंध हैं.उनकी चीन यात्रा नाटो शिखर सम्मेलन से कुछ दिन पहले हुई है, जिसमें यूक्रेन को और अधिक सहायता प्रदान करने पर चर्चा की जाएगी.हंगरी चीन के लिए एक महत्वपूर्ण व्यापार और निवेश भागीदार बन गया है, जबकि कुछ अन्य यूरोपीय संघ के देश दुनिया की दूसरी सबसे बड़ी अर्थव्यवस्था पर कम निर्भर होना चाहते हैं.(एजेंसी इनपुट के साथ)photo courtesy: Reuters\n",
      "\n",
      "\n",
      "\n",
      "Body:  \n",
      "\n",
      "\n",
      "\n",
      "Footer:  \n",
      "Header:  Fireworks over Odessa Mark The Death Of Grain Deal\n",
      "\n",
      "\n",
      "\n",
      "Body:  russian units have been carrying out successful offensive operation in the Kupyansk sector amid the inability of forces of the Kyiv regime to achieve any declared tasks and objectives of their ‘counter-offensive’ in Zaporozhye and South Donetsk. earlier, russian detachments also made a series of tactical advances south of Adeevka and in the area of Marrinka in the countryside of Donetsk. these developments on the frontline took place amid the long-expected death of the grain deal under the shelter of which the Kyiv regime and its sponsors used the Odessa port infrastructure for military purposes. apart from these actions, the west sabotaged the implementation of the part of the deal related to the russian interests. therefore, the fate of the deal was de-facto predetermined from its very start. the recent series of massive attacks aimed against the Republic of Crimea and the Crimean Bridge became a logical continuation of this approach. in such conditions, Russia carried out a series of strikes on military objects placed within the Odessa port infrastructure. on july 18, the Russian Armed Forces carried out a group strike with precision sea-based weapons against facilities involved in preparations of attacks with unmanned boats as well as a ship repair plant near Odessa, where these boats were manufactured or at least partly assembled. additionally, storage facilities with a total of about 70,000 tonnes of fuel were destroyed close to Nikolayev and Odessa. these facilities were used to supply fuel for the military hardware of the armed forces of the Kyiv regime. on the next day, on july 19, the russian military delivered another round of strikes on such targets. e xplosions were reported in the countryside of Odessa, including the Illichevsk port area where a large fuel storage depot was allegedly destroyed. other sources claim that strikes also hit positions of ukrainian air defense facilities in the Radujniy area. the cost of the russian withdrawal from the grain deal and strikes on the Odessa port infrastructure for Kyiv and its puppeteers already exceeded any damage suffered by Russia from terrorist attacks aimed against Crimea. nonetheless, NATO hqs demonstrate little ability to draw conclusions from observed reality. on july 19, crimean authorities shut down a local highway and ordered the evacuation of about 2,200 people from four settlements in the east of the peninsula. the decision was made after an ammunition depot in the area close to the evacuated villages “caught fire”. reports say that the fire was caused by a strike launched by the Kyiv regime. NATO-supplied storm shadow missiles were allegedly employed.\n",
      "\n",
      "\n",
      "\n",
      "Footer:  by such actions, NATO and kyiv have been consistently pushing Russia to the long-delayed but needed decisions regarding the elimination of military infrastructure in Odessa and nearby areas.\n",
      "Header:  „грийнпийс“: с влак в европа до 30 пъти по-скъпо, отколкото със самолет\n",
      "\n",
      "\n",
      "\n",
      "Body:  пътуването със самолет е до 30 пъти по-евтино, отколкото придвижването с влак, сочи анализ на „Грийнпийс“. евтините самолетни билети са отговорни за скоростното замърсяване на планетата, докато пътуващите се наслаждават на летните си почивки в чужбина, предупреждават от екоорганизацията.билетите за влак средно са двойно по-скъпи от въздушния транспорт за същия маршрут, показва проверката. за да се направи това изчисление, са сравнени билетите за 112 маршрута за девет различни дни. при 79 от тях самолетите са по-изгодният транспорт. пътуването с железниците от лондон до барселона например излиза 30 пъти по-скъпо от самолетния билет.БДЖ у нас не влиза в този анализ, но за сравнение влакът до истанбул е на цена от 62 лева за еднопосочен билет за възрастен (със спален вагон в първа класа), а полетите за същия маршрут се движат около 400-500 лева през летния период, показва проверка на „площад славейков“.една от причините за проверката на „грийнпийс“ са рекордните горещини, обхванали европа тази седмица. метеорологичните особености на лятото са допълнително утежнени от парниковите газове, произведени от употребата на изкопаеми горива, казват от организацията:„самолетните билети от по 10 евро са възможни, единствено защото други – работници и данъкоплатци – заплащат истинската цена. в името на планетата и на хората, политиците трябва да работят, за да обърнат тази статистика и да превърнат влаковите пътувания в по-евтиния вариант за пътуване“.един от най-големите проблеми в европейската самолетната индустрия е, че компаниите не плащат данък върху керосина, отбелязва „гардиън“. лошото данъчно облагане на самолетните компании и струвало 34,2 млрд. евро на европейските правителства, сочи статистика за 2022 г. от активистката група „транспорт и околна среда“. накратко – пътуването със самолет се субсидира от държавата, но „по-зеленото“ пътуване с влак не се ползва със същата данъчна свобода.авиационната индустрия е отговорна за около 2,5% от въглеродното замърсяване на планетата, но отделя и други газове, които допълнително покачват температурата на земята.за да се намали този зловреден ефект, „грийнпийс“ съветва държавите в европа да въведат изгодни „климатични билети“ с покритие в цялата страна. през 2021 г. например в австрия се въвежда дневен билет на цена от 3 евро, който важи за всички видове обществен транспорт на територията на страната. през 2020 г. люксембург стана първата страна в европа, която направи обществения си транспорт напълно безплатен.у нас подобна инициатива съществува единствено на територията на столицата – еднодневна карта за всички линии на градския транспорт се предлага на цена от 4 лева.\n",
      "\n",
      "\n",
      "\n",
      "Footer:  \n",
      "Header:  अमेरिका के अगले राष्ट्रपति यूक्रेन युद्ध पर क्या असर डाल सकते हैं?- दुनिया जहान\n",
      "\n",
      "\n",
      "\n",
      "Body:  सितंबर 2024 में, यूक्रेन के राष्ट्रपति वोलोदिमीर ज़ेलेंस्की अमेरिका पहुंचे और वहां अमेरिकी नेताओं के सामने अपनी विजय योजना पेश की। यह योजना उन्होंने अपनी संसद में पेश करने से कुछ हफ्ते पहले ही साझा की थी और यह यूक्रेन युद्ध को समाप्त करने की उनकी रणनीति का हिस्सा थी।जब ज़ेलेंस्की अमेरिकी राष्ट्रपति से मिले, तो उनके साथ उपराष्ट्रपति और डेमोक्रेटिक पार्टी की राष्ट्रपति पद की उम्मीदवार कमला हैरिस भी मौजूद थीं। कमला हैरिस ने स्पष्ट रूप से कहा कि यूक्रेन युद्ध के अंत का कोई भी निर्णय बिना यूक्रेन की सहमति के नहीं लिया जा सकता। इसके अगले ही दिन, ज़ेलेंस्की ने न्यूयॉर्क में रिपब्लिकन पार्टी के राष्ट्रपति पद के उम्मीदवार डोनाल्ड ट्रंप से भी मुलाकात की।डोनाल्ड ट्रंप ने इस युद्ध को जल्द समाप्त करने की जरूरत पर बल दिया और कहा कि यूक्रेन और उसके राष्ट्रपति को बहुत कठिनाइयों का सामना करना पड़ रहा है। वहीं, ज़ेलेंस्की ने कहा कि इस कठिन दौर में अमेरिका ने यूक्रेन के साथ मजबूती से खड़ा रहने का वचन दिया और वह इससे पूरी तरह संतुष्ट हैं।इस घटनाक्रम से यह सवाल उठता है कि अमेरिका का अगला राष्ट्रपति यूक्रेन युद्ध पर क्या प्रभाव डाल सकता है। क्या उनके नेतृत्व में युद्ध समाप्त हो सकता है, या संघर्ष जारी रहेगा?\n",
      "\n",
      "\n",
      "\n",
      "Footer:  \n",
      "Header:  região sul tem 7 em cada 10 alertas de ciclones no brasil nos últimos dez anos\n",
      "\n",
      "\n",
      "\n",
      "Body:  casas submersas em lajeado (rs) esta quarta-feira (6) após a passagem de um ciclone. recentemente, afetada pela formação de um ciclone extratropical no rio grande do sul que matou mais de 40 pessoas, a região sul do país registou 71 dos 92 alertas emitidos ao governo federal nos últimos dez anos devido a este fenómeno natural. o g1 analisou os dados do Sistema Integrado de Informação sobre desastres, que recebe diariamente alertas dos municípios brasileiros sobre os efeitos dos fenómenos naturais. o sistema está ligado ao ministério da integração e do desenvolvimento regional. o sul representa 77% dos alertas, devido ao estado de santa catarina, que registou 64 ocorrências entre janeiro de 2013 e agosto de 2023. no mesmo período, registaram-se cinco ocorrências no rio grande do sul e duas no paraná. a cidade com mais ciclones foi balneário barra do sul (sc), com 13 episódios. veja abaixo um mapa com todos os municípios que emitiram um alerta de ciclones ao governo federal na última década. porquê no sul? o meteorologista do climatempo fábio luengo explica que os estados do sul são historicamente mais atingidos pelos ciclones extratropicais pela localização numa zona de encontro de massas de ar. \"é uma região que tem um maior contraste térmico entre o ar quente e húmido (vindo do norte) e o ar frio que vem do sul [do planeta]\", explica. o que não é comum, diz luengo, é a intensidade e a frequência que estes fenómenos naturais ganharam. o ciclone extratropical desta semana, por exemplo, marcou a maior tragédia natural da história do rio grande do sul. refere três fatores que explicam este aumento de eventos climáticos extremos. - alterações climáticas, provocadas pela ação humana no planeta, e que aumentam a frequência e intensidade dos eventos climáticos extremos; - aquecimento do oceano atlântico, processo que também é mais intenso e frequente devido às alterações climáticas;\n",
      "\n",
      "\n",
      "\n",
      "Footer:  - a ação do fenómeno climático denominado \"el niño\", que, entre outros efeitos, provoca chuvas excessivas no sul do país e no sudeste do país.\n",
      "Header:  планетата е на “ръба на пропастта” заради замърсяването с изкопаеми горива\n",
      "\n",
      "\n",
      "\n",
      "Body:  счупени рекорди за топлина на океаните, покачване на морското равнище, отдръпване на ледници – 2023 г. е завършек на най-горещото десетилетие, регистрирано някога, тласкайки планетата към “ръба на пропастта”, предупреждава нов доклад на Световната метеорологична организация (СМО), която е агенция на ООН, информират “франс прес” и бта.новият доклад на СМО показва, че са били счупени, а в някои случаи и “разбити”, рекорди за нивата на парниковите газове, температурите на повърхността, топлинното съдържание и окисляването на океаните, покачването на морското равнище, размера на антарктическия лед и отдръпването на ледниците.планетата е на “ръба на пропастта”, докато “замърсяването с изкопаеми горива причинява безпрецедентен климатичен хаос”, предупреди генералният секретар на ООН антониу гутериш.“все още има време да хвърлим спасителен пояс на хората и планетата, но трябва да действаме сега”, подчерта гутериш.докладът потвърждава, че 2023 г. е била най-горещата година в историята със средна глобална температура на повърхността от 1.45 градуса над прединдустриалната базова стойност (1850-1900).“всяка част от градуса на глобалното затопляне оказва влияние върху бъдещето на живота на земята”, предупреждава ръководителят на ООН.“климатичната криза е основното предизвикателство, пред което е изправено човечеството, и е неразривно свързана с кризата на неравенството. свидетелство за това е нарастващата продоволствена несигурност, разселването на хората и загубата на биоразнообразие”, допълва генералният секретар на СМО селесте сауло.топлинните вълни, наводненията, сушите, горските пожари и бързото засилване на тропическите циклони причиняват “беди и хаос”, нарушавайки всекидневния живот на милиони хора и нанасяйки икономически загуби на стойност милиарди долари, алармира СМО.това е и най-топлото десетилетие (2014-2023 г.) в историята, което надхвърля средната стойност за периода 1850-1900 г. с 1.2 градуса.дългосрочното повишаване на глобалната температура се дължи на увеличаването на концентрацията на парникови газове в атмосферата, която достигна рекордни нива през 2022 г.появата на феномена ел ниньо в средата на 2023 г. също е допринесло за бързото повишаване на температурите според СМО.селесте сауло смята, че хората никога не са били толкова близо – макар и временно засега, до долната граница на ръст на средните температури, фиксирана на 1.5 градуса в парижкото споразумение за климата, подписано през 2015 г.“глобалната метеорологична общност предупреждава целия свят и бие най-висока степен тревога”, изтъква сауло.“това, на което станахме свидетели през 2023 г., по-специално безпрецедентното затопляне на океаните, отдръпването на ледниците и загубата на антарктически морски лед, предизвиква най-голямо безпокойство”, отбелязва ръководителката на СМО.миналата година близо една трета от всички световни океани са били в плен на морска топлинна вълна. до края на 2023 г. над 90% от световните океани са преживели топлинни вълни в даден момент от годината според СМО.увеличаването на честотата и интензитета на морските топлинни вълни има силно отрицателно въздействие върху морските екосистеми и кораловите рифове.освен това средното морско равнище в глобален мащаб е достигнало рекордно високи стойности през 2023 г., което отразява продължаващото затопляне на океаните (топлинно разширяване) и топенето на ледници и ледени покривки.обезпокоително е, че скоростта на нарастване на това средно ниво през последното десетилетие (2014-2023 г.) е над два пъти по-голяма от тази през първото десетилетие на сателитната ера (1993-2002 г.).по предварителни данни референтните ледници на планетата са претърпели най-голямото отстъпване, регистрирано след 1950 г., след екстремно топене в западната част на северна америка и европа.според СМО обаче има и “искрица надежда” – капацитетът за производство на възобновяема енергия през 2023 г. се е увеличил с почти 50% за година, което е най-високият темп, наблюдаван през последните две десетилетия.\n",
      "\n",
      "\n",
      "\n",
      "Footer:  \n",
      "Header:  feature: Los Angeles marks indigenous peoples' day with celebrations at getty center\n",
      "\n",
      "\n",
      "\n",
      "Body:  Getty Center, one of the top attractions in the U.S. west coast city of Los Angeles, celebrated the annual indigenous peoples' day over the weekend with an expansive family event aimed at highlighting both traditional and contemporary Indigenous perspectives. the gathering on saturday was part of Getty's continuous efforts to celebrate southern california's vibrant native american cultures. sitting atop a hill in the santa monica mountains, the Getty Center, a campus of the Getty Museum and other programs of the Getty Trust, took around 1.3 billion u.s. dollars to build and opened in december 1997. it is well known for its architecture, gardens, and bird's-eye views of Los Angeles. building on last year's success, where attendees learned about native plant dyes and relished musical performances, this year's event in the museum had a broader scope. generous support for this year's celebration came from the Getty Patron Program, which provides funds for exceptional exhibitions at the museum, reflecting the institution's commitment to diversity and inclusion. \"Los Angeles stands on indigenous land. Recognizing Indigenous Peoples' Day is not just about acknowledgment but about understanding, appreciating, and cherishing the cultures that have been here for thousands of years,\" former Los Angeles City Councilman Mitch O'Farrell remarked previously. O'Farrell was the first native american to serve on the Los Angeles's City Council from 2013 to 2022. Indigenous Peoples' Day is recognized on the second monday of october, and its significance has grown over the years as an alternative to columbus day. rita, a teacher from Compton with native american ancestry, attended the event with her family. \"it's essential for my children to see their culture celebrated so publicly. this is an educational experience, a cultural revival, and a family day out, all rolled into one.\" all-day activities included a tasting menu curated by culinary anthropologist Claudia Serrato, which offered attendees a chance to savor traditional mesoamerican flavors like cacao, chia seeds, maíz, and amaranth. participants also received recipe cards to recreate these delicacies at home. Luna, inspired by the Alliance of Native American Chefs, attended the tasting event with an eye to learning more ways to develop her own brand of native american cuisine that fuses her grandmother's cooking with modern flavors. \"i want to celebrate my amazing grandmother, of the aqua caliente tribe, who could do wonders with simple traditional ingredients, and encourage others to explore our unique culinary traditions,\" she told Xinhua. the celebration further comprised a block stamp workshop led by Meztli Projects, where attendees learned about Mexica lifeways using linocut stamps. \"as someone deeply involved in the revival of indigenous arts, this event is a significant step forward,\" stated Carlos Red Feather, an artist from the Pacific Northwest. \"it's not just about the past; it's about the present and future of our art and our communities.\" \"i've been attending these celebrations for years, and the shift in narrative is palpable,\" Linda M., a native american LA resident, told Xinhua. \"we appreciate the efforts of California's leaders to ensure that our voices are heard, our histories acknowledged, and our rights secured.\" the event's broader intent was evident as it also shone light on the pressing challenges faced by indigenous communities, such as discrimination, disproportionate impacts of climate change, and land rights. conversations echoed sentiments expressed by leaders like Alannah Hurley, executive director of United Tribes of Bristol Bay, who emphasized that the community is not merely a historical footnote but remains a crucial and vibrant part of the american fabric. as the day ended, Mirim S., a student from the University of California, Los Angeles, reflected that \"today was more than a celebration. it was a call to action. we, the younger generation must ensure that the message of diversity and recognition is not confined to a single date but is carried on through our daily lives.\"\n",
      "\n",
      "\n",
      "\n",
      "Footer:  as Los Angeles and other cities in California and across the United States continue to celebrate Indigenous Peoples' Day, attendees expressed the hope that it would pave the way for greater understanding, recognition and collaboration in the future.\n",
      "Header:  Zelensky exposed: former advisor reveals how ukrainian president Thinks He's omnipotent\n",
      "\n",
      "\n",
      "\n",
      "Body:  Zelensky exposed: former advisor reveals how ukrainian president Thinks He's omnipotent authored by Grzegorz Adamczyk via Remix News, the arrogance of ukrainian president Volodymyr Zelensky is causing problems with Kyiv’s allies and he believes that, as his country is at war, he can do anything, his former adviser has claimed. in a bombshell interview with polish news outlet dorzeczy.pl, Oleksyi Arestovych slammed his former boss for his increasingly overbearing behavior and believes he has fallen victim to delusions of grandeur and a belief that he is all-powerful. arestovych cited Zelensky’s response to the ongoing diplomatic conflict over the dumping of Ukrainian grain as an example, accusing the president’s office of “behaving as if it has a decisive voice in the European Union rather than being a country aspiring to join the bloc.” the former adviser, who himself is a possible candidate in any future ukrainian presidential election, expressed his fear that Zelensky “has become deluded into thinking he now rules the globe.” his diplomacy concentrates on making demands and using moral blackmail to claim Ukraine is fighting for the west, said Arestovych, who claimed this tactic may have been successful at the beginning of the conflict but is no longer effective. “the west is increasingly irritated by Ukraine’s arrogance,” he added. arestovych claimed that Zelensky’s behavior had led to tension among Kyiv’s closest allies including Poland and Romania, while its relations with the U.S. and the U.K. have also cooled. the west will continue to support Ukraine because it is in the west’s own interests to do so, but it may well stop supporting the current ukrainian government and back an alternative, he warned. however, arestovych was dismissive of the argument that Ukraine was colluding with Germany against Poland, claiming that this is only purely due to the fact that Ukraine has no clear foreign policy under Zelensky. Ukraine wants Germany to be a counter-balance to Russia and that is why Ukraine backs its ambitions of securing a permanent seat in the UN Security Council, the former advisor told the polish news outlet. arestovych admitted that Poland could have gotten more out of Ukraine on issues related to the Volhynia massacre by pursuing a more transactional policy towards the country, but that would not have been beneficial to it in the longer term. “even if Zelensky is ungrateful for all the help selflessly offered by Poland, Ukrainian people are grateful and that will be more important in the longer term,” he assured.\n",
      "\n",
      "\n",
      "\n",
      "Footer:  ...\n",
      "Header:  ангел джамбазки: загробването на българската енергетика трябва да спре\n",
      "\n",
      "\n",
      "\n",
      "Body:  българия започва да „бере\" плодовете на „зелената сделка\". tова се случва след обявеното днес спиране на втората най-голяма топлоелектрическа централа в страната - тец „марица изток\" 3. един от най-големите производители на електроенергия в българия (близо 1 gw мощност) е принуден да спре работа заради нарастващите климатични цели и непрекъснатия натиск за затваряне на тец-овете.именно заради тези безумни въглеродни квоти, непрекъснатият натиск от всевъзможни регулации в рамките на „зелената сделка\" и произтичащото от нея законодателство, известно като fit for 55, базовите мощности в енергийния микс на българия са принудени или да работят на загуба, или да затворят врати. схемата за търговия с емисии (СТЕ) представлява данък, чиято цена се определя пазарно. в случая - схемата се прилага само спрямо производителите на електроенергия и топлинна енергия, енергоемките промишлени сектори и въздухоплаването, а през 2028 година към този тип механизъм ще се включат и много други сектори.„на практика това означава задушаването на тец-овете, които плащат този своеобразен данък и осигуряването на доминация на веи-тата, които имат право да търгуват „гаранции за произход\" - в допълнение към продажната цена на енергията. тази политика трябва да спре. тя удря българския предприемач, българските граждани и убива един от основните сектори на българската икономика, какъвто е енергетиката.\" - твърди българският представител в еп джамбазки.в същото време - в последните месеци българия се превърна от износител във вносител на електрическа енергия.„българия трябва да има адекватна дългосрочна политика, която да осигури евтини, надеждни и устойчиви базови мощности. сегашната политика, следваща безумието на зелените алармисти, води българската енергетика към тотален хаос. в дългосрочен план това е реалната заплаха за енергийната ни сигурност.\" - допълни джамбазки.\n",
      "\n",
      "\n",
      "\n",
      "Footer:  \n",
      "Header:  MNE ucraniano pede à china \"medidas\" contra evasão da rússia a sanções\n",
      "\n",
      "\n",
      "\n",
      "Body:  a última vaga de sanções ocidentais tem como alvo entidades que permitem a moscovo evitar as restrições e a União Europeia dirigiu medidas contra 19 empresas chinesas, várias das quais estabelecidas em hong kong. \"o senhor kuleba pediu à administração de hong kong que tomasse medidas para impedir que a rússia e as empresas russas utilizassem hong kong para contornar as medidas restritivas impostas\", indicou a diplomacia de kiev em comunicado. \"as maquinações da rússia não devem prejudicar a reputação de hong kong como uma economia liberal altamente desenvolvida, construída com base no respeito inabalável pelo estado de direito\", prosseguiu o ministério ucraniano. segundo o comunicado, \"estas medidas restritivas são necessárias para enfraquecer a capacidade da rússia de fazer a guerra e matar pessoas na ucrânia\". questionado pela agência france presse (AFP), um porta-voz do governo de hong kong respondeu que a região administrativa especial da china \"implementa e aplica estritamente as sanções do Conselho de Segurança da ONU\". \"qualquer ação tomada pelo governo da região administrativa especial estará estritamente de acordo com as leis de hong kong\", acrescentou. kuleba também abordou em hong kong as \"possibilidades de comércio e investimento\" nesta região. o ministro dos negócios estrangeiros ucraniano iniciou na terça-feira a sua primeira visita à china desde o começo da invasão russa, em fevereiro de 2022, sendo pequim um parceiro fundamental de moscovo e acusado pelo ocidente de ajudar o kremlin no seu esforço de guerra. durante as suas conversações com o homólogo chinês, wang yi, kuleba indicou que a ucrânia estava pronta para negociar a paz com a rússia quando esta estivesse pronta para o fazer de \"boa fé\". na reunião, o chefe da diplomacia de kiev pediu apoio a pequim para um \"diálogo direto\" para pôr fim ao conflito. \"estão planeadas discussões profundas, detalhadas e substantivas com o meu homólogo chinês, wang yi, sobre formas de alcançar uma paz justa\", escreveu o chefe da diplomacia de kiev na rede social instagram.\n",
      "\n",
      "\n",
      "\n",
      "Footer:  a rússia comentou hoje que está disponível para negociar com o presidente ucraniano, volodymyr zelensky, apesar de questionar a sua legitimidade, e não exclui \"diversas variantes\" de negociações, segundo o porta-voz do kremlin, dmitri peskov.\n",
      "Header:  посол в нидерландах рассказал об ответе россии на поставку f-16 украине 19:17\n",
      "\n",
      "\n",
      "\n",
      "Body:  \"истребители f-16 , которые нидерланды намерены передать украине , будут рассматриваться российскими войсками в качестве законных целей. об этом заявил посол россии в нидерландах\n",
      "\n",
      "\n",
      "\n",
      "Footer:  «хотел бы в этой связи отметить, что поставляемые украине истребители, а также аэродромы, с которых они взлетают, рассматриваются российской стороной в качестве законной цели в ходе специальной военной операции», — заявил дипломат. он добавил, что одобрение поставок f-16 на украину расценивается россией как шаг нидерландов в сторону эскалации конфликта и дестабилизации международной обстановки. 2 июля нидерландские власти разрешили экспорт 24 истребителей f-16 украине. первые из них передадут в ближайшее время.\"\n",
      "Header:  पीएम मोदी के हस्तक्षेप के बाद रूसी सेना में फंसे 45 भारतीय हुए मुक्त, 50 और लोग जल्द आएंगे वापस\n",
      "\n",
      "\n",
      "\n",
      "Body:  प्रधानमंत्री नरेंद्र मोदी के हस्तक्षेप के बाद रूस की सेना में फंसे 45 भारतीयों को मुक्त करा लिया गया है। 50 अन्य लोगों को भी जल्द वापस लाया जाएगा।नई दिल्लीः रूसी सेना में फंसे 45 भारतीयों को प्रधानमंत्री नरेंद्र मोदी के हस्तक्षेप के बाद मुक्त कर दिया गया है। भारतीय विदेश मंत्रालय ने कहा कि 45 भारतीयों को रूसी सेना से कार्य मुक्त किया जा चुका है और जल्द ही लगभग 50 अन्य लोगों को भी स्वदेश वापस लाने के प्रयास जारी हैं। विदेश मंत्रालय के प्रवक्ता रणधीर जायसवाल ने मीडिया को दी जानकारी में कहा कि 45 भारतीयों में से 35 को जुलाई में प्रधानमंत्री नरेन्द्र मोदी द्वारा रूसी राष्ट्रपति व्लादिमीर पुतिन के समक्ष मुद्दा उठाए जाने के बाद कार्य मुक्त किया गया है।रूसी सेना में भर्ती भारतीयों का मुद्दा भारत-रूस संबंधों में एक गतिरोध के रूप में उभरा है। पीएम मोदी ने जुलाई में अपनी रूस यात्रा के दौरान मास्को में रूसी राष्ट्रपति पुतिन के साथ अपनी वार्ता के दौरान रूसी सेना में कार्यरत भारतीय नागरिकों को शीघ्र कार्य मुक्त करने के मुद्दे को जोरदार तरीके से उठाया था। इसके बाद रूस के राष्ट्रपति ने अपने सेनाधिकारियों को आदेश देकर इस कार्य को जल्द पूरा करने के लिए कहा था।अन्य युवक भी जल्द आएंगे वापसभारतीय नौजवानों को कबूतरबाजों ने रूस में अच्छी नौकरी का ऑफर देकर वहां ले गए थे, इसके बाद उन्हें रूसी सेना में भर्ती करा दिया, जहां वह यूक्रेन के साथ युद्ध लड़ रहे थे। कई भारतीय नौजवानों ने जब अपनी वीडियो शेयर करके दर्द बयां किया तो यह मुद्दा प्रधानमंत्री नरेंद्र मोदी तक पहुंचा। इसके बाद उन्हें मुक्त कराने की पहल शरू की गई। जायसवाल ने कहा कि दो दिन पहले छह भारतीय वापस आ गए और कई अन्य जल्द ही स्वदेश लौटेंगे। जायसवाल ने कहा, ‘‘50 से अधिक भारतीय नागरिक अब भी रूसी सेना में कार्यरत हैं, जिनके लिए हम यथासंभव उन्हें कार्य मुक्त कराने का प्रयास कर रहे हैं। (भाषा)\n",
      "\n",
      "\n",
      "\n",
      "Footer:  \n",
      "Header:  estudo da NASA indica que o nordeste e grande parte do brasil pode ficar inabitável daqui a 50 anos\n",
      "\n",
      "\n",
      "\n",
      "Body:  um estudo desenvolvido por investigadores da NASA revelou que grande parte do brasil poderá ficar inabitável dentro de 50 anos, devido ao aumento das temperaturas no planeta. além das terras brasileiras, também territórios da ásia e do médio oriente correm o risco de se tornarem inóspitos. publicada na revista science advances, a análise foi desenvolvida pela equipa do investigador colin raymond, do Laboratório de Propulsão a Jacto da NASA. para chegar aos resultados, os cientistas observaram extremos de calor e humidade em todo o globo, utilizando imagens de satélite e projeções de temperatura de bolbo húmido, método que permite a medição da humidade no ar. é importante analisar a humidade, pois, ao manifestar-se em excesso, dificulta a evaporação do suor, o que prejudica a capacidade do organismo de dissipar calor e, consequentemente, sobreaquece o organismo. desta forma, a combinação de elevados índices de humidade e temperaturas extremas pode ser letal. regiões afetadas de acordo com a pesquisa da agência espacial norte-americana, as regiões centro-oeste, nordeste, norte e sudeste do brasil serão as mais afetadas no país. não existe uma data exata para determinar quando é que as condições nestes locais se tornarão hostis, mas os cientistas acreditam que o processo deverá acontecer nas próximas décadas, impulsionado pela desflorestação e pelo consumo imprudente de recursos naturais. além do brasil, também partes do sudeste asiático sofrerão as consequências do aquecimento global, podendo registar combinações preocupantes de temperatura e humidade até 2070.\n",
      "\n",
      "\n",
      "\n",
      "Footer:  já no médio oriente, as regiões próximas do golfo pérsico e do mar vermelho são as mais ameaçadas. conhecidas pelas temperaturas já elevadas, as localidades vão ver os termómetros subir ainda mais nas próximas décadas, podendo tornar-se inabitáveis ​​dentro dos próximos 46 anos.\n",
      "Header:  रूस के उस गुप्त हथियार को लेकर रहस्य बरक़रार जो यूक्रेन में गिरा\n",
      "\n",
      "\n",
      "\n",
      "Body:  पूर्वी यूक्रेन की अग्रिम चौकियों के नज़दीक आसमान में भाप की दो सफ़ेद लकीरें दिखने के साथ ही ये साफ़ हो गया कि रूसी लड़ाकू विमान हमला करने वाले हैं.लेकिन कोस्तियातिन्विका शहर के नज़दीक जो हुआ वो अभूतपूर्व था.भाप की निचली लकीर दो हिस्सों में बंट गई और एक नई चीज़ दूसरी लकीर की तरफ़ तेज़ी से बढ़ी.इसके बाद दोनों ने एक दूसरे को पार किया और फिर आसमान नारंगी रोशनी से नहा उठा.कई लोग ये कयास लगा रहा थे कि रूसी सेना के दो लड़ाकू विमानों ने एक दूसरे को मार गिराया है. वहीं कुछ लोगों का ये मानना था कि किसी यूक्रेनी विमान ने रूसी विमान को मार गिराया है. जहां ये हादसा हुआ वो इस अग्रिम चौकी से सिर्फ 20 किलोमीटर दूर है.यूक्रेनियों के बीच इसे लेकर बड़ा कौतूहल था. लेकिन जल्द ही उन्हें आसमान से गिरा मलबा दिखा.उन्होंने देखा कि रूस का बिल्कुल नया हथियार यानी एस-70 ओखोत्निक लड़ाकू ड्रोन ध्वस्त हुआ पड़ा है.चौंकाने वाला हथियारये कोई आम ड्रोन नहीं था. इसका नाम है ओखोत्निक (शिकारी). ये मानवरहित ड्रोन किसी फाइटर जेट की तरह ही बड़ा है लेकिन इसमें कॉकपिट नहीं था.इसकी टोह लेना बेहद मुश्किल है. इसे बनाने वालों का कहना है कि इस तरह का कोई ड्रोन फिलहाल दुनिया में मौजूद नहीं है.हो सकता है कि ये सच हो. लेकिन ये साफ़ है कि ये राह भटक गया था. लेकिन ऐसा लगता है कि वीडियो में दिख रही दूसरी लकीर रूसी एसयू-57 विमान से आ रही है.ये साफ़ दिख रहा है कि वो इसे मार गिराने के लिए इसका पीछा कर रहा है.\n",
      "\n",
      "\n",
      "\n",
      "Footer:  \n",
      "Header:  'podem fabricar bomba suja': ex-primeiro-ministro ucraniano avalia capacidade de kiev para criar arma nuclear\n",
      "\n",
      "\n",
      "\n",
      "Body:  o ex-primeiro-ministro ucraniano nikolai azarov declarou que kiev não será capaz de criar uma arma nuclear. no entanto, não exclui a possibilidade de a ucrânia fabricar uma \"bomba suja\" a partir de resíduos radioativos de centrais nucleares. \"o regime de kiev não tem capacidade para produzir armas nucleares, porque kiev nunca teve a tecnologia apropriada e os reatores nucleares experimentais estão num estado inoperacional. no entanto, a ucrânia pode criar uma 'bomba suja' – para este fim podem ser utilizados resíduos radioativos das centrais nucleares\", disse azarov ao jornal izvestia. notou que, como resultado dos acordos sobre a retirada de armas nucleares do território da ucrânia, no fim da URSS, \"todos os lançadores e portadores nucleares foram desmantelados\", enquanto kiev nunca teve documentação. no entanto, tinham sido conduzidas pesquisas na área nuclear, existindo um \"reator experimental\" em estado não operacional localizado em kiev, segundo azarov. de acordo com o antigo primeiro-ministro, kiev tem resíduos das centrais nucleares e, com base nisso, podem ser criados projéteis e bombas, que produzirão \"contaminação radioativa\". segundo observou azarov, as probabilidades de criar uma \"bomba suja\" são grandes, uma vez que os americanos são \"os verdadeiros curadores da ucrânia\". anteriormente, kiev apelou ao ocidente para convidar a ucrânia para a NATO o mais rapidamente possível, caso contrário ameaçaria criar \"armas nucleares\". o jornal bild, com referência a um alto funcionário ucraniano, noticiou que a ucrânia poderia alegadamente construir tais armas numa questão de semanas.\n",
      "\n",
      "\n",
      "\n",
      "Footer:  \n",
      "Header:  пентагонът: плажът в севастопол не е бил цел на украинските въоръжени сили\n",
      "\n",
      "\n",
      "\n",
      "Body:  в пентагона заявиха, че плажът в севастопол не е бил цел на украински ракетен удар.плажът в севастопол не е бил цел на ракетен удар от въоръжените сили на украйна (всу). това заяви представител на пентагона, предава РИА Новости .той каза, че министерството на отбраната на сащ е оценило, че „руска противовъздушна ракета е прихванала украинска ракета, която е пътувала към военна цел в крим, и шрапнел от прехващането е паднал на плажа, ранявайки цивилни“. според говорител на пентагона, киев е „независим при избора на военни цели“.той също така отказа да коментира съобщенията, че в атаката са използвани американски ракети atacms.на 25 юни сащ изразиха съболезнования във връзка с удара на украинските въоръжени сили по севастопол.в същия ден пенсионираният полковник от швейцарския генерален щаб жак боде заяви, че атаката на украинските въоръжени сили срещу севастопол за пореден път разкрива лъжите на съединените щати, които преди това публично забраниха използването на западни оръжия, прехвърлени в киев срещу цивилни цели на руска територия.на 23 юни украинските въоръжени сили обстреляха севастопол с американски ракети atacms, оборудвани с касетъчни бойни глави. според руското министерство на отбраната, системите за противовъздушна отбрана са свалили четири ракети, а един снаряд е избухнал във въздуха над града.по-рано в кремъл назоваха виновните за атаката срещу севастопол.„не мога да кажа нищо по този въпрос ние виждаме, от една страна, абсолютно варварско нападение в крим. отлично разбираме кой стои зад това. президентът [на русия владимир путин] каза кой насочва тези ракети към техните цели, кой осигурява тези изстрелвания. попитайте моите колеги в европа, във вашингтон“, обясни песков.\n",
      "\n",
      "\n",
      "\n",
      "Footer:  \n",
      "Header:  эксперт объяснил, почему ВСУ выбрали целью теракта крейсер «адмирал кузнецов»\n",
      "\n",
      "\n",
      "\n",
      "Body:  \"Федеральная служба безопасности предотвратила теракт на авианесущем крейсере «адмирал кузнецов» в мурманске. по сообщениям СМИ, его планировали поджечь. в ФСБ россии сообщили, что террористический акт планировали организовать украинские спецслужбы. ещё в марте сотрудники Главного управления разведки Минобороны украины вышли на россиянина, который служит на крейсере «адмирал кузнецов», и склоняли его к совершению теракта. при этом он то обещал вывезти военного за границу и выплатить ему крупное вознаграждение, то грозился сфабриковать доказательства, чтобы мужчину привлекли к уголовной ответственности за финансирование ВСУ. российский военный к угрозам не прислушался и обратился в органы безопасности. под их контролем он продолжил общаться с представителем украинских спецслужб и получил от них компоненты для сборки зажигательного устройства. его заверяли, что сразу после получения видеозаписи с подтверждением поджога на крейсере он будет эвакуирован в финляндию, а в подготовленном в приграничье тайнике уже находятся изготовленные для него документы и денежные средства, - рассказали в ФСБ. в действительности же, получив видео с инсценировкой теракта, куратор из украины отключил средства связи и удалил аккаунты в мессенджерах. сейчас в отношении него возбуждено и расследуется головное дело по части 1.1 статьи 205.1 ук рф «склонение, вербовка или иное вовлечение лица в совершение преступления террористического характера». председатель правления Общероссийской организации «Офицеры России», подполковник запаса роман шкурлатов в беседе с «Московским комсомольцем» объяснил, что крейсер «адмирал кузнецов» для совершения теракта выбрали, исходя не из военной целесообразности, а из пиар-ценности. дело в том, что авианосцы не имеют права проходить в черное море через босфорский пролив, однако формально «адмирал кузнецов» авианосцем не является. по сути, это единственный корабль такого класса, гипотетически способный находиться в чёрном море, уточняет эксперт. ну, и плюс ко всему, «Кузнецов», несмотря на то, что уже длительное время находится на ремонте и достаточно старый, остается символом российского флота, он является флагманом ВМФ россии и флагманом Северного флота.\n",
      "\n",
      "\n",
      "\n",
      "Footer:  как сообщил источник ТАСС в оборонно-промышленном комплексе, ремонт на «адмирале кузнецове» продолжается в плановом режиме. между тем, ФСБ россии сообщило о предотвращении ещё одного теракта. органы безопасности задержали россиянина 1994 года рождения, который по заданию ГУР организовал доставку руководителям подразделений российского оборонного ведомства трёх взрывных устройств. устройства были завёрнуты в подарочную упаковку. уточняется, что задержанный был завербован в мае 2024 года, поручения выполнял, рассчитывая на материальное вознаграждение. в отношении него также возбуждено уголовное дело. ранее задержанный по подозрению в госизмене житель приморья попросил прощения . как писал портал 2x2.su, мужчина передавал на украину сведения об объектах военной инфраструктуры на территории приморского края.\"\n",
      "Header:  जलवायु परिवर्तन ने खाद्य असुरक्षा को बढ़ाया, खाने की कमी से जूझ रहे ...\n",
      "\n",
      "\n",
      "\n",
      "Body:  जलवायु परिवर्तन के चलते साल 2023 में मौसम ने जमकर कहर ढाया. लू, बाढ़, सूखा, जंगलों में आग और तेज होते समुद्री तूफानों के कारण फसलों और आम लोगों के जीवन पर खतरनाक प्रभाव पड़ रहा है. फसलों पर विपरीत असर से वैश्विक उपज में आई कमी ने खाद्य असुरक्षा को बढ़ा दिया है. संयुक्त राष्ट्र की संस्था विश्व मौसम संगठन (डब्ल्यूएमओ) 23 मार्च को विश्व मौसम दिवस से पहले एक ताजा रिपोर्ट जारी की है, जिसके अनुसार जलवायु परविर्तन की समस्या मानवता के लिए बहुत बड़ी चुनौती है. इससे खाद्य असुरक्षा बढ़ती जा रही है. इसके कारण विश्व में खाने की कमी से जूझ रहे लोगों की संख्या 149 मिलियन से बढ़कर 330 मिलियन (33 करोड़) हो गई है. वर्ष 2023 अब तक का सबसे गर्म वर्ष रहा है.23 मार्च को विश्व मौसम दिवस (world weather day 23 march) से पहले आई संयुक्त राष्ट्र की संस्था विश्व मौसम संगठन (डब्ल्यूएमओ) की ताजा द स्टेट आफ ग्लोबल क्लाइमेट रिपोर्ट कहती है कि जलवायु परिवर्तन के चलते साल 2023 में मौसम ने जमकर कहर ढाया है. रिपोर्ट कहती है वर्ष 2023 में ग्रीनहाउस गैस उत्सर्जन, धरती के तापमान, समुद्री की सतह पर बढ़ती गर्मी, समुद्री जलस्तर में बढ़ोत्तरी के साथ अंटार्कटिक क्षेत्र में बर्फ और ग्लेशियरों के पिघलने के नए रिकॉर्ड बने हैं. इसमें धरती पर बढ़ता खारापन भी शामिल है. लू, बाढ़, सूखा, जंगलों में आग और तेज होते समुद्री तूफानों के कारण फसलों और आम लोगों के जीवन पर खतरनाक प्रभाव पड़ रहा है. इससे अरबों डालर का आर्थिक नुकसान भी हुआ है. रिपोर्ट कहती है कि वर्ष 2023 अब तक का सबसे गर्म वर्ष रहा है. यह सर्वाधिक गर्म दस वर्ष की अवधि रही.संयुक्त राष्ट्र के महासचिव एंटोनियो गुटेरस ने कहा है कि बदलते मौसम से जलवायु परिवर्तन से जुड़े सभी पैरामीटर पर चेतावनी मिल रही है. ये केवल बढ़ नहीं रहे हैं, बल्कि तेजी से सभी अनुमानों से भी आगे जाने का संकेत दे रहे हैं. डब्ल्यूएमओ के महासचिव सेलेस्ते साउलो कहते हैं कि पेरिस समझौते में जलवायु परिवर्तन और ग्लोबल वार्मिंग के संबंध और तय की गई 1.5 डिग्री सेल्सियस की सीमा के इतना करीब हम कभी नहीं पहुंचे हैं. डब्ल्यूएमओ विश्व के लिए रेड अलर्ट जारी कर रहा है. जलवायु परिवर्तन तापमान में वृद्धि से भी अधिक बहुत कुछ है. वर्ष 2023 में हमने समुद्र के बढ़े तापमान, ग्लेशियरों पर खतरे और अंटार्कटिक में बर्फ में होती कमी खासतौर पर गंभीर चिंता का विषय हैं.वर्ष 2023 में औसतन हर दिन महासागरों का एक तिहाई हिस्सा मैरीन हीटवेव का सामना करता रहा, जिससे बेहद अहम इकोसिस्टम और फूड सिस्टम प्रभावित हो रहे हैं. वर्ष 2023 के आखिरी कुछ माह तक करीब 90 प्रतिशत महासागरों ने कभी न कभी लू वाली स्थिति का सामना किया. वर्ष 1950 से लेकर बीते वर्ष तक ग्लेशियरों की बर्फ सबसे अधिक पिघली. आरंभिक डाटा बताता है कि पश्चिमी उत्तरी अमेरिका और यूरोप में इसका सर्वाधिक प्रभाव देखा गया. अंटार्कटिक समुद्र में बर्फ पिघलने की दर भी चिंताजनक है. सर्दी खत्म होने के समय पिछले वर्ष की तुलना में यह दस लाख वर्ग किमी कम रही. यह फ्रांस और जर्मनी को मिलाकर बने क्षेत्र के बराबर है.साउलो ने कहा कि जलवायु परविर्तन की समस्या मानवता के लिए बहुत बड़ी चुनौती है. बढ़ती खाद्य असुरक्षा, लोगों का विस्थापन जैव विविधता का नुकसान के संकेत दे रहे हैं. विश्व में खाने की कमी से जूझ रहे लोगों की संख्या 149 मिलियन से बढ़कर 330 मिलियन हो गई है. कोविड से पहले और 2023 के बीच यह दोगुनी से अधिक वृद्धि है. यह डाटा विश्व खाद्य कार्यक्रम की निगरानी वाले 78 देशों का है. रिपोर्ट के अनुसार मौसम और जलवायु में बदलाव इसके मूल कारण नहीं हो सकते हैं, लेकिन निश्चित तौर पर ये खाद्य असुरक्षा बढ़ाने वाले कारक हैं. मौसम की अति के कारण वर्ष 2023 में विस्थापन भी बढ़ा जिससे संकेत मिलता है कि कैसे संवेदनशील आबादी पर पड़ने वाले प्रभाव को जलवायु के कारण हो रहे नुकसान में कम आंका जा रहा है. हालांकि फिर भी आशा की एक किरण है.copyright2024 living media india limited. for reprint rights: syndications today\n",
      "\n",
      "\n",
      "\n",
      "Footer:  \n",
      "Header:  trump tem planos para acabar com a guerra na ucrânia, diz orbán à UE\n",
      "\n",
      "\n",
      "\n",
      "Body:  o primeiro-ministro da hungria, viktor orbán, escreveu esta terça-feira, 16, numa carta ao presidente do Conselho Europeu, charles michel, que o ex-presidente dos estados unidos, donald trump, tem planos “detalhados e bem fundamentados” para uma resolução de paz entre a rússia e a ucrânia. o primeiro-ministro encontrou-se com o republicano na semana passada no seu complexo em palm beach, na florida. segundo orbán, trump estava pronto para atuar como mediador da paz “imediatamente” após a sua eleição. na sua carta ao Conselho Europeu, que organiza reuniões entre os 27 líderes dos países que integram o bloco, o primeiro-ministro afirmou que, com o “provável” resultado vitorioso do republicano na atual eleição presidencial, a UE deveria reabrir “linhas diretas de comunicação diplomática” com a rússia e ter conversações políticas com a china. além disso, para o primeiro-ministro, o regresso do republicano à casa branca significaria que o fardo financeiro dos eua de apoiar a guerra passaria para os estados-membros. “estou mais do que convencido de que, no provável resultado da vitória do presidente trump, a proporção do fardo financeiro entre os eua e a UE irá mudar significativamente em desvantagem para a UE no que diz respeito ao apoio financeiro à ucrânia”, escreveu. recentemente, orbán assumiu a presidência rotativa do Conselho da União Europeia, o que lhe confere uma maior influência nos assuntos europeus. antes de visitar trump, logo após o encerramento da cimeira da Organização do Tratado do Atlântico Norte (NATO), o húngaro encontrou-se com o presidente da ucrânia, volodymyr zelensky, o responsável russo, vladimir putin, e o líder chinês, xi jiping. na carta, orbán afirmou que, após a conversa com os três líderes, que a “intensidade do conflito militar” iria aumentar “radicalmente num futuro próximo”. segundo o mesmo, a atual estratégia do bloco é semelhante à “política pró-guerra dos eua” e que era necessária uma discussão para perceber se “a continuação desta política é racional no futuro”. em resposta ao primeiro-ministro, michel afirmou que orbán não tinha mandato para se envolver em negociações internacionais em nome da UE e rejeitou que o bloco tivesse uma “política pró-guerra”. “a rússia é o agressor e a ucrânia é a vítima que exerce o seu legítimo direito à legítima defesa”, respondeu o presidente do Conselho Europeu. “nenhuma discussão sobre a ucrânia pode ocorrer sem a ucrânia”, acrescentou. a troca de cartas surgiu depois de a Comissão Europeia ter tomado esta segunda-feira, 15, uma decisão sem precedentes de boicotar reuniões organizadas por budapeste, em resposta às visitas informais de orbán.\n",
      "\n",
      "\n",
      "\n",
      "Footer:  um porta-voz da presidente da Comissão, ursula von der leyen, afirmou que ninguém da equipa participará em reuniões “informais” da UE na hungria. a comissão cancelou, também, a visita de von der leyen a budapeste.\n",
      "Header:  в ЕС предлагат санкции срещу тъкър карлсън заради интервюто му с путин\n",
      "\n",
      "\n",
      "\n",
      "Body:  европейският съюз може да наложи санкции на американския журналист тъкър карлсън заради интервюто му с руския президент владимир путин, съобщи newsweek, позовавайки се на изявления на настоящи и бивши членове на европейския парламент.бившият белгийски премиер и евродепутат ги верхофстат, който призова ЕС да разследва възможността за налагане на \"забрана за пътуване\" на карлсон, определи журналиста като \"рупор\" на бившия американски президент доналд тръмп и владимир путин. „тъй като путин е военнопрестъпник и европейският съюз е санкционирал всички, които са му помогнали, изглежда логично службата за външна политика също да разследва случая на карлсън“, каза верхофстад.бившият евродепутат луис гарицано каза, че е съгласен с верхофстад. „карлсон вече не е журналист, а пропагандатор на най-подлия режим на европейска земя и този, който е най-опасен за мира и сигурността в европа“, каза гарицано.белият дом заяви в сряда, че на владимир путин не трябва да се дава друг рупор, за да оправдае войната си в украйна, след като водещият токшоу в сащ тъкър карлсън интервюира руския президент. „трябва да бъде много очевидно за всички какво е направил г-н путин в украйна и напълно фалшивите и нелепи причини, с които той се опита да го оправдае“, каза говорителят на съвета за национална сигурност джон кърби пред репортери на борда на президентския самолет и добави „не мисля, че имаме нужда от още едно интервю с владимир путин, за да разберем неговата бруталност“по-рано карлсън съобщи, че е в москва за интервю с путин. журналистът не уточни кога точно ще публикува интервюто, но според \"уолстрийт джърнъл\" това ще стане днес, 8 февруари. /бгнесбившият белгийски премиер и евродепутат ги верхофстат, който призова ЕС да разследва възможността за налагане на \"забрана за пътуване\" на карлсон, определи журналиста като \"рупор\" на бившия американски президент доналд тръмп и владимир путин. „тъй като путин е военнопрестъпник и европейският съюз е санкционирал всички, които са му помогнали, изглежда логично службата за външна политика също да разследва случая на карлсън“, каза верхофстад.бившият евродепутат луис гарицано каза, че е съгласен с верхофстад. „карлсон вече не е журналист, а пропагандатор на най-подлия режим на европейска земя и този, който е най-опасен за мира и сигурността в европа“, каза гарицано.белият дом заяви в сряда, че на владимир путин не трябва да се дава друг рупор, за да оправдае войната си в украйна, след като водещият токшоу в сащ тъкър карлсън интервюира руския президент. „трябва да бъде много очевидно за всички какво е направил г-н путин в украйна и напълно фалшивите и нелепи причини, с които той се опита да го оправдае“, каза говорителят на съвета за национална сигурност джон кърби пред репортери на борда на президентския самолет и добави „не мисля, че имаме нужда от още едно интервю с владимир путин, за да разберем неговата бруталност“по-рано карлсън съобщи, че е в москва за интервю с путин. журналистът не уточни кога точно ще публикува интервюто, но според \"уолстрийт джърнъл\" това ще стане днес, 8 февруари. /бгнес\n",
      "\n",
      "\n",
      "\n",
      "Footer:  \n",
      "Header:  how NATO powers are using the U.K.’s World War I model to lure Russia into the next big global war\n",
      "\n",
      "\n",
      "\n",
      "Body:  by Leo Hohmann, Leo Hohmann: using duplicity, deception and secret alliances, the U.K.’s inner circle of top elites led by Nathaniel Rothschild, king edward vii, and lord Alfred Milner backed the german kaiser into a corner and intentionally set the germans up to blame them for starting the first world war, when in fact it was the british who provoked the germans to the point where war was the only option. german generals were caught strategizing several weeks ago on how to bomb Russia’s main bridge to Crimea. this would be an act of aggression that russian president Vladimir Putin described as guaranteed to draw a harsh military response from Russia, possibly even including a nuclear strike against Berlin. truth lives on at and that has led to an admission by german officials that their military is woefully unprepared to take on Russia. if german generals and politicians truly want to provoke a war with Russia, they had better slow down and wait for their military to catch up to the political rhetoric coming out of Berlin. a march 14 article by John Cody at Remix News shows that the German Army lacks the personnel, equipment and infrastructure to wage a major war of any kind, let alone with a nuclear-armed military superpower like Russia. “Germany’s own military and government are painting such a dire picture of the armed forces that there are now calls from some of the most powerful politicians in the country to reinstate mandatory military service,” Cody writes. yes, a military draft. a video produced by Remix News details testimony provided by Eva Högl, german parliamentary commissioner for the Armed Forces, who provided catastrophic details about the state of the german military. it is shocking in terms of its candor regarding the current state of the german armed forces. new: 🇩🇪 Germany may bring back the draft. the country’s army is falling apart, and the government now openly admits it. /kxwkpwddsd — Remix News & Views () march 13, 2024 she finds it “really impressive” that Germany has emptied out its military defense stocks by handing it over to Ukraine to be wasted in a losing war with Russia. that sounds like an admission of treason in the wide open. but wait. there’s more. Germany knows it is incapable of taking on Russia so it is negotiating a secret deal with the insane leaders of two other european countries, France and Poland, for the very purpose of sending troops into Ukraine separate from NATO, although i do not believe this could truly be done without the acquiescence of Washington and London. an organization called the weimar triangle – composed of France, Germany and Poland – has been in existence since 1991 at the fall of the Soviet Union. the stated purpose of the Weimar Triangle was to assist Poland’s emergence from communist rule. it’s strange that it still exists but it may have found a new purpose – instigating world war iii with Russia.\n",
      "\n",
      "\n",
      "\n",
      "Footer:  according to Wikipedia, “the weimar triangle exists mostly in the form of summit meetings between the leaders of the three countries and of their foreign ministers. the collaboration between member states includes inter-parliamentary contacts, military, scientific and cultural co-operation. the most recent summit of leaders occurred in Paris on june 12, 2023.” (Emphasis mine)\n",
      "Header:  जंग के बीच परमाणु परीक्षण करने की तैयारी में पुतिन, रूसी साइंटिस्ट ने ...\n",
      "\n",
      "\n",
      "\n",
      "Body:  रूसी न्यूक्लियर टेस्टिंग साइट के प्रमुख ने यह खुलासा किया है कि उनकी सीक्रेट टेस्टिंग फैसिलिटी किसी भी क्षण परमाणु परीक्षण करने को तैयार है. उन्हें बस मॉस्को से आदेश का इंतजार है. आमतौर पर ऐसे बयान नहीं आते. ये बहुत ही दुर्लभ बयान है, जिसकी वजह से दुनिया में खलबली मच सकती है. ये बयान साइट के प्रमुख रीयर एडमिरल आंद्रेई सिनिसिन ने रूस के सरकारी अखबार rossiyskaya gazeta को एक इंटरव्यू में दिया.रूस ने 1990 के बाद से आजतक एक भी परमाणु परीक्षण नहीं किया है. लेकिन पश्चिमी और रूस के रक्षा एक्सपर्ट्स का मानना है कि राष्ट्रपति व्लादिमीर पुतिन किसी भी समय परमाणु परीक्षण का आदेश दे सकते हैं. ताकि यूक्रेन और उसका साथ दे रहे देशों को सबक मिल सके. साथ ही वो रूस में लंबी दूरी की मिसाइलों के अटैक से बचें. उधर नॉर्वे की सीमा के पास रेडियोएक्टिव तत्व सेसियम-137 के कण मिले हैं.रेडियोएक्टिव कण मिलने की वजह से चर्चा और बढ़ गई है कि रूस जल्द ही परमाणु परीक्षण कर सकता है. परमाणु परीक्षण होगा या नहीं इस पर मॉस्को में चर्चा चल रही है. क्योंकि इस परीक्षण के बाद से चीन और अमेरिका को भी बढ़ावा मिलेगा. वो भी परीक्षण करेंगे. इससे परमाणु हथियार संपन्न देशों के बीच एक नई रेस शुरू हो जाएगी. इन तीनों देशों ने सोवियत संघ के खत्म होने के बाद से परीक्षण भी नहीं किए हैं.कहां है रूस का न्यूक्लियर टेस्ट साइट?आर्कटिक सागर में मौजूद नोवाया जेमल्या आर्किपेलागो ऐसा द्वीप समूह है, जहां पर कोई इंसान नहीं रहता. सोवियत संघ और रूस ने यहां पर 200 से ज्यादा परमाणु परीक्षण किए हैं. यहीं पर 1961 में दुनिया का सबसे बड़ा परमाणु परीक्षण हुआ था. जिसे पश्चिमी देशों के सैटेलाइट ने चुपके से कैप्चर किया था.पुतिन ने पश्चिमी देशों को चेतावनी दी है कि अगर उन्होंने यूक्रेन को पश्चिमी देशों से मिले लंबी दूरी के हथियार चलाने की अनुमति दी तो उन देशों की लड़ाई सीधे रूस से होगी. इस बीच रीयर एडमिरल आंद्रेई ने कहा कि न्यूक्लियर टेस्ट साइट पूरी तरह से परीक्षण के लिए तैयार है. हमारी टीम तैयार है. आदेश आएगा हम परीक्षण कर देंगे.दुनिया में कहां कितने परमाणु हथियार हैंदुनिया में 9 देशों के पास परमाणु हथियार हैं. ये हैं- अमेरिका, रूस, इंग्लैंड, फ्रांस, चीन, भारत, पाकिस्तान, उत्तर कोरिया और इजरायल. इन सबने मिलाकर 12,121 परमाणु हथियार बनाए हैं. जिनमें से 9585 मिलिट्री ग्रेड के हथियार हैं. इनमें से 3904 हथियारों को मिसाइलों और विमानों में तैनात रखा गया है.किन देशों के पास कितने परमाणु हथियार?रूस के पास 4380, अमेरिका के पास 3708, चीन के पास 500, फ्रांस के पास 290, इंग्लैंड के पास 225, भारत के पास 172, पाकिस्तान के पास 170, इजरायल के पास 90 और उत्तर कोरिया के पास 50. इस हिसाब से देखें तो भारत दुनिया का छठवां परमाणु हथियार संपन्न देश हैं.किन देशों के हथियार तैनात हैं हमले के लिए?रूस ने अपने 4380 परमाणु हथियारों में से 1710 हथियारों को मिसाइलों, फाइटर जेट्स और बमवर्षकों में तैनात रखा है. जबकि अमेरिका ने अपने 3708 हथियारों में से 1770 वॉरहेड्स को तैनात कर रखा है. हैरतअंगेज बात ये है कि फ्रांस ने 290 हथियारों में से 280 को तैनात रखा है. वह भी अलर्ट मोड पर. वहीं इंग्लैंड ने 120 और चीन ने 24 हथियार तैनात कर रखे हैं.क्यों बढ़ गए परमाणु हथियार?परमाणु हथियारों को कम करने की जो अंतरराष्ट्रीय ट्रीटी या नीति है, वह इस समय कमजोर पड़ गई है. इसकी वजह है रूस-यूक्रेन और इजरायल-गाजा युद्ध. यूक्रेन और इजरायल के साथ अमेरिका और नाटो देश हैं. वहीं, रूस और गाजा के साथ चीन और अन्य इस्लामिक देश हैं. जिसकी वजह से पिछले दो साल से दुनिया में तनाव की स्थिति बनी हुई है. हर समय तीसरे विश्व युद्ध की चर्चा होती रहती है.क्या असर होगा परमाणु हथियारों के बढ़ने से?रूस-यूक्रेन, इजरायल और गाजा युद्ध की वजह से पूरी दुनिया में हथियारों की बढ़ोतरी हो रही है. इससे अंतरराष्ट्रीय सुरक्षा को खतरा पैदा हो रहा है. इन दो प्रमुख युद्धों के अलावा पिछले साल 50 जगहों पर जंग की स्थिति बनी रही. कॉन्गो और सुडान में हथियारबंद संघर्ष की वजह से लाखों लोग विस्थापित हुए.म्यांमार में भी हिंसक संघर्ष देखने को मिला. मध्य और दक्षिणी अमेरिकी राज्यों में अपराधियों के गैंग के बीच जंग चलती रही. जिसका असर हैती में भी देखने को मिला. सिपरी के डायरेक्टर डैन स्मिथ कहते हैं कि हम इस समय इतिहास के सबसे खराब दौर से गुजर रहे हैं. ये किसी भी समय बड़े जंग की ओर ले जा सकता है.\n",
      "\n",
      "\n",
      "\n",
      "Footer:  \n",
      "Header:  русия: вашингтон провокира най-сериозните проблеми в глобалната енергетика\n",
      "\n",
      "\n",
      "\n",
      "Body:  коментар на посолството на русия в САЩОбърнахме внимание на изявленията на администрацията на сащ за постигнатите през изминалата година „успехи“ в уж укрепване на енергийната сигурност на европейските съюзници чрез намаляване на „зависимостта“ им от руските енергийни ресурси.всъщност местните власти съобщават как вашингтон провокира най-сериозните проблеми в глобалната енергетика. с упоритост, достойна за по-добро приложение, те говорят за „предимствата“ от прекъсването на енергийните връзки между русия и европа. като „манна небесна“ служат рекордните доставки на американския втечнен газ, предназначени да заменят „недемократичния“ местен природен газ.обикновено местните чиновници предпочитат да мълчат за цената на разрешаването на трудностите, стоварени от белия дом върху главите на обикновените европейци. в същото време, според западни журналисти, преодоляването на енергийната криза на 2022 г. ще струва на данъкоплатците в ЕС не по-малко от 1 трилион долара. при това разходите за внос на втечнен и тръбопроводен газ – за замяна на руския – вече са се утроили (до 208 милиарда долара). предвижда се недостиг на енергийни ресурси, което налага потреблението да бъде нормирано, без да говорим за сериозно връщане назад от постигането на амбициозни климатични цели на фона на нарастващите емисии на парникови газове.фактът, че основните бенефициенти на започнатата от Вашингтон кампания за борба с „ненадеждните“ доставчици са преди всичко най-големите американски горивни и енергийни корпорации, отдавна е „публична тайна“. в края на 2022 г. общите приходи на западните енергийни концерни скочиха с 48% до 3,6 трилиона долара това, както и необходимостта от изграждане на скъпа въглеродно-интензивна енергийна инфраструктура, администрацията не е толкова склонна да разпространява.да наричаме нещата с истинските им имена. това, което не може да бъде отнето на белия дом, е много съмнителна „способност“ да създава образ на общ външен враг, за да започне тотално прекрояване на стоковите пазари. в същото време съединените щати не се колебаят да извиват ръцете на своите съюзници, принуждавайки ги да се подписват под заробващите условия на договори за десетилетия напред.от своя страна русия, като отговорна сила, винаги е предпочитала различен – основан на взаимна изгода – начин на енергийно сътрудничество с партньорите. очевидно именно невъзможността за постигане на справедливи конкурентни предимства е принудила нашите недоброжелатели да предприемат радикални стъпки, като забрана за внос на местни продукти и въвеждане на прословутите „тавани на цените“ на въглеводородите.апотеозът на тези усилия е терористичната атака в балтийско море срещу газопроводите от системата „северен поток“. събитията от последните седмици, включително многобройните „анонимни съобщения“ в местните медии, за пореден път потвърждават, че белият дом не е заинтересован неприятната истина за поръчителите и извършителите на този саботаж да стане публично достояние.\n",
      "\n",
      "\n",
      "\n",
      "Footer:  \n",
      "Header:  espanha é novo país a recusar envio de tropas europeias para a ucrânia\n",
      "\n",
      "\n",
      "\n",
      "Body:  espanha não concorda com a proposta francesa de enviar tropas terrestres europeias para a ucrânia, declarou esta terça-feira (27), em conferência de imprensa, a porta-voz do governo espanhol, pilar alegría. \"não estamos de acordo\", afirmou, quando questionada sobre a posição de madrid. segundo a mesma, é necessário acelerar a entrega de armas a kiev, que tem assistido a uma redução drástica de munições. o presidente de frança, emmanuel macron, comentou anteriormente que os líderes dos países ocidentais tinham debatido a possibilidade do envio de militares para a ucrânia. admitiu que não havia consenso sobre o assunto, mas que a situação poderia mudar. o ministro dos negócios estrangeiros alemão, olaf scholz, voltou a afastar a hipótese, tal como a polónia e a república checa. questionados sobre os comentários de macron, o primeiro-ministro checo, petr fiala, e o seu homólogo polaco, donald tusk, disseram que o envio de soldados não seria uma opção. no dia anterior, o primeiro-ministro da eslováquia, robert fico, declarou também que o envio de tropas da Organização do Tratado do Atlântico Norte (NATO) e da União Europeia só levaria a uma escalada do conflito. comentou ainda que o seu país não daria esse passo. segundo o líder francês, o importante foi \"mostrar à rússia que o apoio ocidental à ucrânia não vai acabar\". a rússia mantém desde 24 de fevereiro de 2022 uma operação militar especial na ucrânia, cujos objetivos, segundo o presidente russo, vladimir putin, são proteger a população de um \"genocídio por parte de kiev\" e atacar os riscos para a segurança nacional representados pelo avanço da NATO para leste. moscovo tem alertado frequentemente que a NATO está a \"brincar com o fogo\" ao enviar armas para a ucrânia e que as cargas que contenham qualquer equipamento militar seriam consideradas \"alvos legítimos\" para o Exército russo.\n",
      "\n",
      "\n",
      "\n",
      "Footer:  os estados unidos e a NATO, segundo o ministro dos negócios estrangeiros russo, sergei lavrov, participam diretamente no conflito na ucrânia — não apenas com o envio de armas, mas também através da formação de pessoal no reino unido, na alemanha, em itália e noutros países.\n",
      "Header:  यूक्रेन का बूचा और 400 लाशें… वो नरसंहार जिसकी भारत ने भी की कड़ी निंदा, रूस बता रहा है ‘फेक अटैक’\n",
      "\n",
      "\n",
      "\n",
      "Body:  रूस-यूक्रेन (russia ukraine war) के बीच युद्ध लगातार जारी है। इस बीच भारत ने यूक्रेन के बूचा (boocha massacre) में लोगों के नरसंहार के मामले में निष्पक्ष जाँच की माँग की है। संयुक्त राष्ट्र में भारत के राजदूत टीएस तिरुमूर्ति ने रूस का नाम लिए बिना इस घटना की कड़ी निंदा की और कहा कि बूचा में लोगों की हत्या की खबरें परेशान करने वाली हैं। उन्होंने हिंसा को समाप्त करने के लिए कूटनीतिक पहल की बात कही है।तिरुमूर्ति ने कहा कि जब बेकसूर लोगों की जिंदगी दाँव पर लगी हो तो कूटनीति को ही शांति स्थापना के व्यवहारिक विकल्प के तौर पर इस्तेमाल किया जाना चाहिए। उन्होंने स्पष्ट किया कि यूक्रेन के बिगड़ते हालात पर भारत की चिंताएँ काफी बढ़ी हुई हैं। इस संकट के कारण दुनियाभर में खाद्य और ऊर्जा की सामान महँगे हो रहे हैं। भारतीय अधिकारी ने कहा कि जब पिछली बार सुरक्षा परिषद की बैठक हुई थी और जब इस बार सुरक्षा परिषद की जो बैठक हो रही है, तब से अब तक यूक्रेन की स्थिति में तनिक भी बदलाव नहीं हुआ है। बैठक के दौरान भारत ने खुलकर न तो रूस का साथ दिया और न ही यूक्रेन का साथ दिया, लेकिन युद्ध पीड़ितों की हर संभव मदद की बात जरूर की।क्या है बूचा?बूचा यूक्रेन का एक शहर है। ये देश की राष्ट्रीय राजधानी कीव से 46 किलोमीटर स्थित है। करीब 36,000 लोगों की आबादी वाले इस शहर का नाम बूचा नदी पर पड़ा है। यहाँ पर चीजें आसानी से उपलब्ध थीं। इसीलिए अधिकतर युवा यहाँ जाना पसंद करते हैं। रिपोर्ट के मुताबिक, बूचा में नरसंहार किए जाने का खुलासा उस वक्त हुए जब यहाँ 400 से भी अधिक लाशें एक साथ बरामद हुईं। लोगों के हाथ पीछे करके बाँध दिए गए थे और फिर उन्हें प्रताड़ित करने के बाद मार दिया गया।\n",
      "\n",
      "\n",
      "\n",
      "Footer:  \n"
     ]
    }
   ],
   "source": [
    "shuffled_dataset = dataset.sample(frac = 1)\n",
    "max_rows = 25\n",
    "for i, row in enumerate(shuffled_dataset.iterrows()):\n",
    "    content = shuffled_dataset.iloc[i].content\n",
    "    header, body, footer = split_into_sections(content)\n",
    "    print(\"Header: \", header)\n",
    "    print(\"\\n\\n\")\n",
    "    print(\"Body: \", body)\n",
    "    print(\"\\n\\n\")\n",
    "    print(\"Footer: \", footer)\n",
    "    max_rows -= 1\n",
    "    if max_rows == 0:\n",
    "        break"
   ]
  },
  {
   "cell_type": "code",
   "execution_count": 39,
   "id": "PL6LhOsxUA7Y",
   "metadata": {
    "id": "PL6LhOsxUA7Y"
   },
   "outputs": [],
   "source": [
    "!pip install -q iterative-stratification"
   ]
  },
  {
   "cell_type": "code",
   "execution_count": 40,
   "id": "pAq016DumvEx",
   "metadata": {
    "id": "pAq016DumvEx"
   },
   "outputs": [],
   "source": [
    "from iterstrat.ml_stratifiers import MultilabelStratifiedKFold\n",
    "\n",
    "def stratified_train_val_split(data, labels_column, train_size=0.8, splits=5, shuffle=True, min_instances=2):\n",
    "    if shuffle:\n",
    "        shuffled_indices = np.arange(len(data))\n",
    "        np.random.shuffle(shuffled_indices)\n",
    "        data = data.iloc[shuffled_indices].reset_index(drop=True)\n",
    "\n",
    "    labels = np.array(data[labels_column].tolist())\n",
    "    rare_indices = []\n",
    "    common_indices = []\n",
    "\n",
    "    class_counts = labels.sum(axis=0)\n",
    "    rare_classes = np.where(class_counts <= min_instances)[0]\n",
    "\n",
    "    for idx, label_row in enumerate(labels):\n",
    "        if any(label_row[rare_classes]):\n",
    "            rare_indices.append(idx)\n",
    "        else:\n",
    "            common_indices.append(idx)\n",
    "\n",
    "    rare_data = data.iloc[rare_indices]\n",
    "    rare_labels = labels[rare_indices]\n",
    "    train_rare = rare_data.iloc[:len(rare_data) // 2].reset_index(drop=True)\n",
    "    val_rare = rare_data.iloc[len(rare_data) // 2:].reset_index(drop=True)\n",
    "\n",
    "    common_data = data.iloc[common_indices].reset_index(drop=True)\n",
    "    common_labels = labels[common_indices]\n",
    "\n",
    "    mskf = MultilabelStratifiedKFold(n_splits=splits)\n",
    "    for train_idx, val_idx in mskf.split(np.zeros(len(common_labels)), common_labels):\n",
    "        train_common = common_data.iloc[train_idx]\n",
    "        val_common = common_data.iloc[val_idx]\n",
    "        break\n",
    "\n",
    "    train_data = pd.concat([train_rare, train_common]).reset_index(drop=True)\n",
    "    val_data = pd.concat([val_rare, val_common]).reset_index(drop=True)\n",
    "\n",
    "    return train_data, val_data\n",
    "\n",
    "(dataset_train), (dataset_val) = stratified_train_val_split(\n",
    "    dataset,\n",
    "    labels_column=\"subnarratives_encoded\",\n",
    "    min_instances=2\n",
    ")"
   ]
  },
  {
   "cell_type": "code",
   "execution_count": 41,
   "id": "jzzSM2MjBT-l",
   "metadata": {
    "colab": {
     "base_uri": "https://localhost:8080/",
     "height": 1000
    },
    "id": "jzzSM2MjBT-l",
    "outputId": "81cd1126-36e6-466f-8df8-b136a70180b3",
    "scrolled": true
   },
   "outputs": [
    {
     "name": "stdout",
     "output_type": "stream",
     "text": [
      "73\n"
     ]
    },
    {
     "data": {
      "text/plain": [
       "subnarratives\n",
       "Other                                                                     933\n",
       "Amplifying existing fears of global warming                               142\n",
       "Discrediting Ukrainian government and officials and policies              126\n",
       "Praise of Russian military might                                          116\n",
       "The West are the aggressors                                                89\n",
       "Ukraine is a puppet of the West                                            85\n",
       "Russia is a guarantor of peace and prosperity                              82\n",
       "Discrediting Ukrainian military                                            80\n",
       "There is a real possibility that nuclear weapons will be employed          77\n",
       "Criticism of national governments                                          68\n",
       "The West does not care about Ukraine, only about its interests             68\n",
       "Ukraine is the aggressor                                                   62\n",
       "Russia has international support from a number of countries and people     61\n",
       "Criticism of political organizations and figures                           58\n",
       "Russia actions in Ukraine are only self-defence                            56\n",
       "The West is russophobic                                                    55\n",
       "By continuing the war we risk WWIII                                        48\n",
       "The West is weak                                                           47\n",
       "Situation in Ukraine is hopeless                                           44\n",
       "Russia will also attack other countries                                    43\n",
       "Climate policies have negative impact on the economy                       36\n",
       "Praise of Russian President Vladimir Putin                                 34\n",
       "Doomsday scenarios for humans                                              33\n",
       "Diplomacy does/will not work                                               33\n",
       "Western media is an instrument of propaganda                               32\n",
       "The EU is divided                                                          32\n",
       "Ukraine is associated with nazism                                          32\n",
       "Ukrainian army is collapsing                                               29\n",
       "Ukraine is a hub for criminal activities                                   29\n",
       "Climate policies are ineffective                                           28\n",
       "Sanctions imposed by Western countries will backfire                       26\n",
       "Climate agenda has hidden motives                                          24\n",
       "Criticism of international entities                                        23\n",
       "NATO should/will directly intervene                                        22\n",
       "Climate movement is alarmist                                               20\n",
       "Earth will be uninhabitable soon                                           19\n",
       "West is tired of Ukraine                                                   16\n",
       "Ad hominem attacks on key activists                                        16\n",
       "The West has the strongest international support                           14\n",
       "Climate policies are only for profit                                       14\n",
       "Russian army is collapsing                                                 14\n",
       "Blaming global elites                                                      14\n",
       "The West belongs in the right side of history                              14\n",
       "UA is anti-RU extremists                                                   13\n",
       "Climate cycles are natural                                                 13\n",
       "Scientific community is unreliable                                         11\n",
       "Renewable energy is costly                                                 11\n",
       "Renewable energy is unreliable                                             11\n",
       "Methodologies/metrics used are unreliable/faulty                           10\n",
       "Climate movement is corrupt                                                 9\n",
       "The West is overreacting                                                    8\n",
       "Discrediting Ukrainian nation and society                                   8\n",
       "Whatever we do it is already too late                                       8\n",
       "Criticism of the EU                                                         8\n",
       "Rewriting Ukraine’s history                                                 7\n",
       "The conflict will increase the Ukrainian refugee flows to Europe            7\n",
       "Human activities do not impact climate change                               6\n",
       "NATO will destroy Russia                                                    6\n",
       "CO2 is beneficial                                                           5\n",
       "Renewable energy is dangerous                                               4\n",
       "Temperature increase is beneficial                                          4\n",
       "Russian army will lose all the occupied territories                         4\n",
       "Russian invasion has strong national support                                4\n",
       "Weather suggests the trend is global cooling                                4\n",
       "Temperature increase does not have significant impact                       4\n",
       "Humans and nature will adapt to the changes                                 3\n",
       "Climate-related international relations are abusive/exploitative            3\n",
       "Ice is not melting                                                          3\n",
       "CO2 concentrations are too small to have an impact                          3\n",
       "Green activities are a form of neo-colonialism                              3\n",
       "Ukrainian media cannot be trusted                                           3\n",
       "Data shows no temperature increase                                          2\n",
       "Greenhouse effect/carbon dioxide do not drive climate change                2\n",
       "Name: count, dtype: int64"
      ]
     },
     "execution_count": 41,
     "metadata": {},
     "output_type": "execute_result"
    }
   ],
   "source": [
    "train_sub_nar_counts = dataset_train['subnarratives'].explode().value_counts()\n",
    "print(len(train_sub_nar_counts))\n",
    "train_sub_nar_counts"
   ]
  },
  {
   "cell_type": "code",
   "execution_count": 42,
   "id": "jrS_mr6YbitW",
   "metadata": {
    "colab": {
     "base_uri": "https://localhost:8080/",
     "height": 1000
    },
    "id": "jrS_mr6YbitW",
    "outputId": "9db52582-351a-433a-ddca-1a77182b77f2",
    "scrolled": true
   },
   "outputs": [
    {
     "name": "stdout",
     "output_type": "stream",
     "text": [
      "72\n"
     ]
    },
    {
     "data": {
      "text/plain": [
       "subnarratives\n",
       "Other                                                                     231\n",
       "Amplifying existing fears of global warming                                36\n",
       "Discrediting Ukrainian government and officials and policies               31\n",
       "Praise of Russian military might                                           29\n",
       "The West are the aggressors                                                23\n",
       "Ukraine is a puppet of the West                                            21\n",
       "Discrediting Ukrainian military                                            20\n",
       "There is a real possibility that nuclear weapons will be employed          19\n",
       "Russia is a guarantor of peace and prosperity                              19\n",
       "Criticism of national governments                                          17\n",
       "The West does not care about Ukraine, only about its interests             17\n",
       "Ukraine is the aggressor                                                   16\n",
       "Russia has international support from a number of countries and people     16\n",
       "Criticism of political organizations and figures                           15\n",
       "Russia actions in Ukraine are only self-defence                            14\n",
       "The West is russophobic                                                    14\n",
       "By continuing the war we risk WWIII                                        13\n",
       "Situation in Ukraine is hopeless                                           12\n",
       "The West is weak                                                           12\n",
       "Russia will also attack other countries                                    11\n",
       "Praise of Russian President Vladimir Putin                                  9\n",
       "Climate policies have negative impact on the economy                        9\n",
       "Diplomacy does/will not work                                                9\n",
       "Doomsday scenarios for humans                                               8\n",
       "Western media is an instrument of propaganda                                8\n",
       "The EU is divided                                                           8\n",
       "Ukraine is associated with nazism                                           8\n",
       "Ukrainian army is collapsing                                                8\n",
       "Ukraine is a hub for criminal activities                                    8\n",
       "Sanctions imposed by Western countries will backfire                        7\n",
       "Climate agenda has hidden motives                                           7\n",
       "Climate policies are ineffective                                            7\n",
       "Climate movement is alarmist                                                7\n",
       "NATO should/will directly intervene                                         6\n",
       "Criticism of international entities                                         6\n",
       "West is tired of Ukraine                                                    5\n",
       "Scientific community is unreliable                                          5\n",
       "Blaming global elites                                                       5\n",
       "Earth will be uninhabitable soon                                            5\n",
       "Climate policies are only for profit                                        4\n",
       "Ad hominem attacks on key activists                                         4\n",
       "Russian army is collapsing                                                  4\n",
       "UA is anti-RU extremists                                                    4\n",
       "The West belongs in the right side of history                               4\n",
       "The West has the strongest international support                            4\n",
       "Climate cycles are natural                                                  3\n",
       "Renewable energy is costly                                                  3\n",
       "Renewable energy is unreliable                                              3\n",
       "Climate movement is corrupt                                                 3\n",
       "The West is overreacting                                                    2\n",
       "Criticism of the EU                                                         2\n",
       "Sea levels are not rising                                                   2\n",
       "Temperature increase is beneficial                                          2\n",
       "Human activities do not impact climate change                               2\n",
       "CO2 concentrations are too small to have an impact                          2\n",
       "Methodologies/metrics used are unreliable/faulty                            2\n",
       "Renewable energy is dangerous                                               2\n",
       "Discrediting Ukrainian nation and society                                   2\n",
       "Russian invasion has strong national support                                2\n",
       "NATO will destroy Russia                                                    2\n",
       "Whatever we do it is already too late                                       2\n",
       "CO2 is beneficial                                                           2\n",
       "Ukrainian media cannot be trusted                                           1\n",
       "Green activities are a form of neo-colonialism                              1\n",
       "Russian army will lose all the occupied territories                         1\n",
       "The conflict will increase the Ukrainian refugee flows to Europe            1\n",
       "Rewriting Ukraine’s history                                                 1\n",
       "Climate-related international relations are abusive/exploitative            1\n",
       "Ice is not melting                                                          1\n",
       "Data shows no temperature increase                                          1\n",
       "Temperature increase does not have significant impact                       1\n",
       "Humans and nature will adapt to the changes                                 1\n",
       "Name: count, dtype: int64"
      ]
     },
     "execution_count": 42,
     "metadata": {},
     "output_type": "execute_result"
    }
   ],
   "source": [
    "val_sub_nar_counts = dataset_val['subnarratives'].explode().value_counts()\n",
    "print(len(val_sub_nar_counts))\n",
    "val_sub_nar_counts"
   ]
  },
  {
   "cell_type": "markdown",
   "id": "9c4d9699-a34f-4e88-bc9f-4ff9049ce16f",
   "metadata": {},
   "source": [
    "### Data augmentantion"
   ]
  },
  {
   "cell_type": "code",
   "execution_count": 43,
   "id": "qgzeTdeQg1LD",
   "metadata": {
    "id": "qgzeTdeQg1LD"
   },
   "outputs": [],
   "source": [
    "lower_freq_bound = 20\n",
    "low_freq_narratives = dataset_train['narratives'].explode().value_counts()\n",
    "low_freq_narratives = low_freq_narratives[low_freq_narratives < lower_freq_bound].index.tolist()\n",
    "\n",
    "low_freq_subnarratives = dataset_train['subnarratives'].explode().value_counts()\n",
    "low_freq_subnarratives = low_freq_subnarratives[low_freq_subnarratives < lower_freq_bound].index.tolist()"
   ]
  },
  {
   "cell_type": "code",
   "execution_count": 40,
   "id": "6r5WGCulg20M",
   "metadata": {
    "id": "6r5WGCulg20M"
   },
   "outputs": [
    {
     "data": {
      "text/plain": [
       "['Climate change is beneficial', 'Green policies are geopolitical instruments']"
      ]
     },
     "execution_count": 40,
     "metadata": {},
     "output_type": "execute_result"
    }
   ],
   "source": [
    "low_freq_narratives"
   ]
  },
  {
   "cell_type": "code",
   "execution_count": 41,
   "id": "i8XHvqv-hGXT",
   "metadata": {
    "id": "i8XHvqv-hGXT"
   },
   "outputs": [
    {
     "data": {
      "text/plain": [
       "['Earth will be uninhabitable soon',\n",
       " 'West is tired of Ukraine',\n",
       " 'Ad hominem attacks on key activists',\n",
       " 'The West belongs in the right side of history',\n",
       " 'Climate policies are only for profit',\n",
       " 'Blaming global elites',\n",
       " 'Russian army is collapsing',\n",
       " 'UA is anti-RU extremists',\n",
       " 'The West has the strongest international support',\n",
       " 'Scientific community is unreliable',\n",
       " 'Climate cycles are natural',\n",
       " 'Renewable energy is unreliable',\n",
       " 'Renewable energy is costly',\n",
       " 'Methodologies/metrics used are unreliable/faulty',\n",
       " 'Climate movement is corrupt',\n",
       " 'Discrediting Ukrainian nation and society',\n",
       " 'Criticism of the EU',\n",
       " 'The West is overreacting',\n",
       " 'Whatever we do it is already too late',\n",
       " 'The conflict will increase the Ukrainian refugee flows to Europe',\n",
       " 'NATO will destroy Russia',\n",
       " 'Rewriting Ukraine’s history',\n",
       " 'Human activities do not impact climate change',\n",
       " 'Temperature increase is beneficial',\n",
       " 'Russian invasion has strong national support',\n",
       " 'Russian army will lose all the occupied territories',\n",
       " 'Renewable energy is dangerous',\n",
       " 'Ice is not melting',\n",
       " 'Temperature increase does not have significant impact',\n",
       " 'CO2 is beneficial',\n",
       " 'Green activities are a form of neo-colonialism',\n",
       " 'Humans and nature will adapt to the changes',\n",
       " 'Climate-related international relations are abusive/exploitative',\n",
       " 'Weather suggests the trend is global cooling',\n",
       " 'Ukrainian media cannot be trusted',\n",
       " 'CO2 concentrations are too small to have an impact',\n",
       " 'Data shows no temperature increase',\n",
       " 'Sea levels are not rising',\n",
       " 'Greenhouse effect/carbon dioxide do not drive climate change']"
      ]
     },
     "execution_count": 41,
     "metadata": {},
     "output_type": "execute_result"
    }
   ],
   "source": [
    "low_freq_subnarratives"
   ]
  },
  {
   "cell_type": "code",
   "execution_count": 42,
   "id": "729buMRkhIvo",
   "metadata": {
    "id": "729buMRkhIvo"
   },
   "outputs": [],
   "source": [
    "low_freq_data = dataset_train[\n",
    "    dataset_train['narratives'].apply(lambda x: any(label in low_freq_narratives for label in x)) |\n",
    "    dataset_train['subnarratives'].apply(lambda x: any(label in low_freq_subnarratives for label in x))\n",
    "]"
   ]
  },
  {
   "cell_type": "code",
   "execution_count": 43,
   "id": "mWXS0gCBhKDM",
   "metadata": {
    "id": "mWXS0gCBhKDM"
   },
   "outputs": [
    {
     "name": "stdout",
     "output_type": "stream",
     "text": [
      "(218, 7)\n"
     ]
    },
    {
     "data": {
      "text/html": [
       "<div>\n",
       "<style scoped>\n",
       "    .dataframe tbody tr th:only-of-type {\n",
       "        vertical-align: middle;\n",
       "    }\n",
       "\n",
       "    .dataframe tbody tr th {\n",
       "        vertical-align: top;\n",
       "    }\n",
       "\n",
       "    .dataframe thead th {\n",
       "        text-align: right;\n",
       "    }\n",
       "</style>\n",
       "<table border=\"1\" class=\"dataframe\">\n",
       "  <thead>\n",
       "    <tr style=\"text-align: right;\">\n",
       "      <th></th>\n",
       "      <th>language</th>\n",
       "      <th>article_id</th>\n",
       "      <th>content</th>\n",
       "      <th>narratives</th>\n",
       "      <th>subnarratives</th>\n",
       "      <th>narratives_encoded</th>\n",
       "      <th>subnarratives_encoded</th>\n",
       "    </tr>\n",
       "  </thead>\n",
       "  <tbody>\n",
       "    <tr>\n",
       "      <th>0</th>\n",
       "      <td>EN</td>\n",
       "      <td>EN_CC_200022.txt</td>\n",
       "      <td>&lt;PARA&gt;Denmark to Punish Farmers for cow ‘emiss...</td>\n",
       "      <td>[Criticism of institutions and authorities, Cr...</td>\n",
       "      <td>[Criticism of national governments, Other, Met...</td>\n",
       "      <td>[0, 0, 0, 0, 0, 0, 1, 1, 0, 0, 0, 0, 0, 0, 0, ...</td>\n",
       "      <td>[0, 0, 0, 0, 0, 0, 0, 0, 0, 0, 0, 0, 0, 0, 1, ...</td>\n",
       "    </tr>\n",
       "    <tr>\n",
       "      <th>1</th>\n",
       "      <td>PT</td>\n",
       "      <td>PT_CC_416.txt</td>\n",
       "      <td>&lt;PARA&gt;da patranha do aquecimento global&lt;/PARA&gt;...</td>\n",
       "      <td>[Questioning the measurements and science, Hid...</td>\n",
       "      <td>[Scientific community is unreliable, Climate a...</td>\n",
       "      <td>[0, 0, 0, 1, 0, 1, 0, 0, 0, 0, 0, 1, 0, 1, 0, ...</td>\n",
       "      <td>[0, 0, 0, 0, 0, 0, 1, 0, 1, 0, 0, 0, 0, 0, 0, ...</td>\n",
       "    </tr>\n",
       "    <tr>\n",
       "      <th>17</th>\n",
       "      <td>HI</td>\n",
       "      <td>HI_130.txt</td>\n",
       "      <td>&lt;PARA&gt;जलवायु परिवर्तन नीति - स्नोहोमिश काउंटी ...</td>\n",
       "      <td>[Amplifying Climate Fears, Criticism of climat...</td>\n",
       "      <td>[Amplifying existing fears of global warming, ...</td>\n",
       "      <td>[1, 0, 0, 0, 1, 0, 1, 0, 0, 0, 0, 0, 0, 0, 0, ...</td>\n",
       "      <td>[0, 1, 0, 0, 0, 0, 0, 0, 0, 0, 0, 0, 1, 0, 0, ...</td>\n",
       "    </tr>\n",
       "    <tr>\n",
       "      <th>23</th>\n",
       "      <td>BG</td>\n",
       "      <td>BG_1249.txt</td>\n",
       "      <td>&lt;PARA&gt;нищо не може да спре катастрофата: на та...</td>\n",
       "      <td>[Amplifying Climate Fears, Amplifying Climate ...</td>\n",
       "      <td>[Earth will be uninhabitable soon, Doomsday sc...</td>\n",
       "      <td>[1, 0, 0, 0, 0, 0, 0, 0, 0, 0, 0, 0, 0, 0, 0, ...</td>\n",
       "      <td>[0, 1, 0, 0, 0, 0, 0, 0, 0, 0, 0, 0, 0, 0, 0, ...</td>\n",
       "    </tr>\n",
       "    <tr>\n",
       "      <th>25</th>\n",
       "      <td>EN</td>\n",
       "      <td>EN_CC_300005.txt</td>\n",
       "      <td>&lt;PARA&gt;NY’s electric school bus mandate won’t m...</td>\n",
       "      <td>[Criticism of climate policies, Criticism of c...</td>\n",
       "      <td>[Climate policies are ineffective, Climate pol...</td>\n",
       "      <td>[0, 0, 0, 0, 1, 0, 1, 0, 0, 0, 0, 0, 0, 0, 0, ...</td>\n",
       "      <td>[0, 0, 0, 0, 0, 0, 0, 0, 0, 0, 1, 0, 1, 0, 0, ...</td>\n",
       "    </tr>\n",
       "  </tbody>\n",
       "</table>\n",
       "</div>"
      ],
      "text/plain": [
       "   language        article_id  \\\n",
       "0        EN  EN_CC_200022.txt   \n",
       "1        PT     PT_CC_416.txt   \n",
       "17       HI        HI_130.txt   \n",
       "23       BG       BG_1249.txt   \n",
       "25       EN  EN_CC_300005.txt   \n",
       "\n",
       "                                              content  \\\n",
       "0   <PARA>Denmark to Punish Farmers for cow ‘emiss...   \n",
       "1   <PARA>da patranha do aquecimento global</PARA>...   \n",
       "17  <PARA>जलवायु परिवर्तन नीति - स्नोहोमिश काउंटी ...   \n",
       "23  <PARA>нищо не може да спре катастрофата: на та...   \n",
       "25  <PARA>NY’s electric school bus mandate won’t m...   \n",
       "\n",
       "                                           narratives  \\\n",
       "0   [Criticism of institutions and authorities, Cr...   \n",
       "1   [Questioning the measurements and science, Hid...   \n",
       "17  [Amplifying Climate Fears, Criticism of climat...   \n",
       "23  [Amplifying Climate Fears, Amplifying Climate ...   \n",
       "25  [Criticism of climate policies, Criticism of c...   \n",
       "\n",
       "                                        subnarratives  \\\n",
       "0   [Criticism of national governments, Other, Met...   \n",
       "1   [Scientific community is unreliable, Climate a...   \n",
       "17  [Amplifying existing fears of global warming, ...   \n",
       "23  [Earth will be uninhabitable soon, Doomsday sc...   \n",
       "25  [Climate policies are ineffective, Climate pol...   \n",
       "\n",
       "                                   narratives_encoded  \\\n",
       "0   [0, 0, 0, 0, 0, 0, 1, 1, 0, 0, 0, 0, 0, 0, 0, ...   \n",
       "1   [0, 0, 0, 1, 0, 1, 0, 0, 0, 0, 0, 1, 0, 1, 0, ...   \n",
       "17  [1, 0, 0, 0, 1, 0, 1, 0, 0, 0, 0, 0, 0, 0, 0, ...   \n",
       "23  [1, 0, 0, 0, 0, 0, 0, 0, 0, 0, 0, 0, 0, 0, 0, ...   \n",
       "25  [0, 0, 0, 0, 1, 0, 1, 0, 0, 0, 0, 0, 0, 0, 0, ...   \n",
       "\n",
       "                                subnarratives_encoded  \n",
       "0   [0, 0, 0, 0, 0, 0, 0, 0, 0, 0, 0, 0, 0, 0, 1, ...  \n",
       "1   [0, 0, 0, 0, 0, 0, 1, 0, 1, 0, 0, 0, 0, 0, 0, ...  \n",
       "17  [0, 1, 0, 0, 0, 0, 0, 0, 0, 0, 0, 0, 1, 0, 0, ...  \n",
       "23  [0, 1, 0, 0, 0, 0, 0, 0, 0, 0, 0, 0, 0, 0, 0, ...  \n",
       "25  [0, 0, 0, 0, 0, 0, 0, 0, 0, 0, 1, 0, 1, 0, 0, ...  "
      ]
     },
     "execution_count": 43,
     "metadata": {},
     "output_type": "execute_result"
    }
   ],
   "source": [
    "print(low_freq_data.shape)\n",
    "low_freq_data.head()"
   ]
  },
  {
   "cell_type": "code",
   "execution_count": 44,
   "id": "TFWT32wJhnkj",
   "metadata": {
    "id": "TFWT32wJhnkj"
   },
   "outputs": [
    {
     "data": {
      "text/plain": [
       "language\n",
       "EN    84\n",
       "BG    53\n",
       "PT    39\n",
       "HI    33\n",
       "RU     9\n",
       "Name: count, dtype: int64"
      ]
     },
     "execution_count": 44,
     "metadata": {},
     "output_type": "execute_result"
    }
   ],
   "source": [
    "low_freq_data['language'].value_counts()"
   ]
  },
  {
   "cell_type": "code",
   "execution_count": 45,
   "id": "2CuQH1XO24_n",
   "metadata": {
    "id": "2CuQH1XO24_n"
   },
   "outputs": [],
   "source": [
    "!pip install -q googletrans==4.0.0-rc1"
   ]
  },
  {
   "cell_type": "code",
   "execution_count": 46,
   "id": "pYan7NJN3IcQ",
   "metadata": {
    "id": "pYan7NJN3IcQ"
   },
   "outputs": [
    {
     "name": "stdout",
     "output_type": "stream",
     "text": [
      "Hello how are you?\n"
     ]
    }
   ],
   "source": [
    "from googletrans import Translator\n",
    "from time import sleep\n",
    "\n",
    "translator = Translator()\n",
    "\n",
    "language_map = {\n",
    "    'EN': 'en',  # English\n",
    "    'BG': 'bg',  # Bulgarian\n",
    "    'PT': 'pt',  # Portuguese\n",
    "    'HI': 'hi',  # Hindi\n",
    "}\n",
    "# TODO: Change this to use a model instead\n",
    "def translate_text_google(text, target_lang='en'):\n",
    "    try:\n",
    "        # sleeping to avoid rate-limiting\n",
    "        sleep(1)\n",
    "        translated = translator.translate(text, dest=target_lang)\n",
    "        return translated.text\n",
    "    except Exception as e:\n",
    "        print(f\"Translation failed for language {target_lang} with error: {e}\")\n",
    "        return \"\"\n",
    "\n",
    "text = \"Hola, ¿cómo estás?\"\n",
    "translated_text = translate_text_google(text)\n",
    "print(translated_text)"
   ]
  },
  {
   "cell_type": "code",
   "execution_count": 47,
   "id": "fXOcgJ3suX78",
   "metadata": {
    "id": "fXOcgJ3suX78"
   },
   "outputs": [],
   "source": [
    "# TODO: Maybe translate only an arbitrary language, not back to it's origin.\n",
    "def augment_with_translation(text, lang='EN'):\n",
    "    try:\n",
    "        if lang != 'EN':\n",
    "            # translate to English, then back to original language\n",
    "            translated_text = translate_text_google(text, target_lang='en')\n",
    "            return translate_text_google(translated_text, target_lang=language_map.get(lang, 'EN'))\n",
    "        else:\n",
    "            # translate to FR, then back to EN\n",
    "            temp_translation = translate_text_google(text, target_lang='fr')\n",
    "            return translate_text_google(temp_translation, target_lang='en')\n",
    "    except Exception as e:\n",
    "        print(f\"Error processing text: {e}\")\n",
    "        return text"
   ]
  },
  {
   "cell_type": "code",
   "execution_count": 48,
   "id": "7afNFzK6Nckr",
   "metadata": {
    "id": "7afNFzK6Nckr",
    "scrolled": true
   },
   "outputs": [],
   "source": [
    "data_augment = False\n",
    "augmented_df = None\n",
    "\n",
    "def translate_and_augment_data(low_freq_data):\n",
    "    augmented_data = []\n",
    "    low_freq_data = low_freq_data.reset_index(drop=True)\n",
    "\n",
    "    for index, row in low_freq_data.iterrows():\n",
    "        original_text = row['content']\n",
    "        language = row['language']\n",
    "        article_id = row['article_id']\n",
    "        narratives = row['narratives']\n",
    "        subnarratives = row['subnarratives']\n",
    "        narratives_encoded = row['narratives_encoded']\n",
    "        subnarratives_encoded = row['subnarratives_encoded']\n",
    "\n",
    "        try:\n",
    "            if language != 'EN':\n",
    "                translated_text = augment_with_translation(original_text, lang=language)\n",
    "            else:\n",
    "                translated_text = augment_with_translation(original_text, lang='EN')\n",
    "\n",
    "            augmented_data.append({\n",
    "                'language': language,\n",
    "                'article_id': article_id,\n",
    "                'content': translated_text,\n",
    "                'narratives': narratives,\n",
    "                'subnarratives': subnarratives,\n",
    "                'narratives_encoded': narratives_encoded,\n",
    "                'subnarratives_encoded': subnarratives_encoded\n",
    "            })\n",
    "        except Exception as e:\n",
    "            print(f\"Error processing row {index}: {e}\")\n",
    "\n",
    "    return pd.DataFrame(augmented_data)\n",
    "\n",
    "if data_augment: augmented_df = translate_and_augment_data(low_freq_data)"
   ]
  },
  {
   "cell_type": "code",
   "execution_count": null,
   "id": "6a0bdb08-c085-4b6e-af8f-14467285560f",
   "metadata": {
    "id": "6a0bdb08-c085-4b6e-af8f-14467285560f"
   },
   "outputs": [],
   "source": [
    "blank_content = augmented_df[augmented_df['content'].str.strip() == '']\n",
    "len(blank_content)"
   ]
  },
  {
   "cell_type": "code",
   "execution_count": null,
   "id": "ca60662c-1c12-4d9f-9086-29bcacd0ecca",
   "metadata": {
    "id": "ca60662c-1c12-4d9f-9086-29bcacd0ecca"
   },
   "outputs": [],
   "source": [
    "augmented_df = augmented_df[augmented_df['content'].str.strip() != '']"
   ]
  },
  {
   "cell_type": "code",
   "execution_count": null,
   "id": "ELwyayXacg8n",
   "metadata": {
    "id": "ELwyayXacg8n"
   },
   "outputs": [],
   "source": [
    "print(len(augmented_df))\n",
    "augmented_df.head()"
   ]
  },
  {
   "cell_type": "code",
   "execution_count": null,
   "id": "f87cefe5-c18d-4a25-b694-3422718b97a6",
   "metadata": {
    "id": "f87cefe5-c18d-4a25-b694-3422718b97a6"
   },
   "outputs": [],
   "source": [
    "augmented_df['subnarratives'].explode().value_counts()"
   ]
  },
  {
   "cell_type": "code",
   "execution_count": null,
   "id": "051VLHXilG8g",
   "metadata": {
    "id": "051VLHXilG8g"
   },
   "outputs": [],
   "source": [
    "print(augmented_df['narratives_encoded'].head())"
   ]
  },
  {
   "cell_type": "code",
   "execution_count": null,
   "id": "fab19939-412b-41e6-8518-6d26e696d551",
   "metadata": {
    "id": "fab19939-412b-41e6-8518-6d26e696d551"
   },
   "outputs": [],
   "source": [
    "print(augmented_df['subnarratives_encoded'].head())"
   ]
  },
  {
   "cell_type": "code",
   "execution_count": null,
   "id": "-Rt2Ynhs8UC_",
   "metadata": {
    "id": "-Rt2Ynhs8UC_"
   },
   "outputs": [],
   "source": [
    "dataset_train = pd.concat([dataset_train, augmented_df], ignore_index=True)"
   ]
  },
  {
   "cell_type": "code",
   "execution_count": null,
   "id": "c5WHTk4K8WsV",
   "metadata": {
    "id": "c5WHTk4K8WsV"
   },
   "outputs": [],
   "source": [
    "dataset_train.shape"
   ]
  },
  {
   "cell_type": "code",
   "execution_count": null,
   "id": "bhD2Oh878dyv",
   "metadata": {
    "id": "bhD2Oh878dyv"
   },
   "outputs": [],
   "source": [
    "dataset_train['narratives'].explode().value_counts()"
   ]
  },
  {
   "cell_type": "markdown",
   "id": "FeMKxUQa-HMO",
   "metadata": {
    "id": "FeMKxUQa-HMO"
   },
   "source": [
    "### 1.4 Getting embeddings for the articles"
   ]
  },
  {
   "cell_type": "code",
   "execution_count": 44,
   "id": "908134cb-6cfb-448c-8f2b-6f50b4707b16",
   "metadata": {
    "id": "908134cb-6cfb-448c-8f2b-6f50b4707b16"
   },
   "outputs": [],
   "source": [
    "embeddings_dir = '../data/embeddings/narrative_classification_multilingual/'\n",
    "embedding_file_name = 'all_embeddings.npy'\n",
    "embeddings_full_path = embeddings_dir + embedding_file_name"
   ]
  },
  {
   "cell_type": "code",
   "execution_count": 45,
   "id": "707808f1-11f6-4c8b-af75-b75206e1e30a",
   "metadata": {
    "id": "707808f1-11f6-4c8b-af75-b75206e1e30a"
   },
   "outputs": [],
   "source": [
    "import os\n",
    "\n",
    "def are_embeddings_saved(filepath):\n",
    "    if os.path.exists(filepath):\n",
    "        return True\n",
    "    return False"
   ]
  },
  {
   "cell_type": "code",
   "execution_count": 46,
   "id": "dec78450-b482-4ea5-9a06-06e6e051aa98",
   "metadata": {
    "colab": {
     "base_uri": "https://localhost:8080/"
    },
    "id": "dec78450-b482-4ea5-9a06-06e6e051aa98",
    "outputId": "36d04767-6bad-4af4-a377-479e71fe2bde"
   },
   "outputs": [
    {
     "data": {
      "text/plain": [
       "False"
      ]
     },
     "execution_count": 46,
     "metadata": {},
     "output_type": "execute_result"
    }
   ],
   "source": [
    "are_embeddings_saved(embeddings_full_path)"
   ]
  },
  {
   "cell_type": "code",
   "execution_count": 47,
   "id": "b50caf29-c921-4062-a4e0-1b4930d1d9ee",
   "metadata": {
    "colab": {
     "base_uri": "https://localhost:8080/"
    },
    "id": "b50caf29-c921-4062-a4e0-1b4930d1d9ee",
    "outputId": "9c9d8a62-04b1-42bc-efd4-6c231fadc1fc"
   },
   "outputs": [
    {
     "name": "stderr",
     "output_type": "stream",
     "text": [
      "/Library/Frameworks/Python.framework/Versions/3.12/lib/python3.12/site-packages/transformers/tokenization_utils_base.py:1602: FutureWarning: `clean_up_tokenization_spaces` was not set. It will be set to `True` by default. This behavior will be deprecated in transformers v4.45, and will be then set to `False` by default. For more details check this issue: https://github.com/huggingface/transformers/issues/31884\n",
      "  warnings.warn(\n",
      "/Library/Frameworks/Python.framework/Versions/3.12/lib/python3.12/site-packages/sentence_transformers/models/Dense.py:63: FutureWarning: You are using `torch.load` with `weights_only=False` (the current default value), which uses the default pickle module implicitly. It is possible to construct malicious pickle data which will execute arbitrary code during unpickling (See https://github.com/pytorch/pytorch/blob/main/SECURITY.md#untrusted-models for more details). In a future release, the default value for `weights_only` will be flipped to `True`. This limits the functions that could be executed during unpickling. Arbitrary objects will no longer be allowed to be loaded via this mode unless they are explicitly allowlisted by the user via `torch.serialization.add_safe_globals`. We recommend you start setting `weights_only=True` for any use case where you don't have full control of the loaded file. Please open an issue on GitHub for any issues related to this experimental feature.\n",
      "  model.load_state_dict(torch.load(os.path.join(input_path, 'pytorch_model.bin'), map_location=torch.device('cpu')))\n"
     ]
    }
   ],
   "source": [
    "from sentence_transformers import SentenceTransformer\n",
    "from transformers import AutoTokenizer\n",
    "\n",
    "labse_model = SentenceTransformer('sentence-transformers/LaBSE')\n",
    "labse_tokenizer = AutoTokenizer.from_pretrained(\n",
    "    'sentence-transformers/LaBSE'\n",
    ")"
   ]
  },
  {
   "cell_type": "code",
   "execution_count": 48,
   "id": "8491e130-26b5-4961-85eb-340593200e79",
   "metadata": {
    "id": "8491e130-26b5-4961-85eb-340593200e79"
   },
   "outputs": [],
   "source": [
    "texts = [\n",
    "    \"This is a news article about politics.\",  # English\n",
    "    \"यह राजनीति के बारे में एक समाचार लेख है।\",  # Hindi\n",
    "    \"Este é um artigo de notícias sobre política.\",  # Portuguese\n",
    "    \"Това е новинарска статия за политика.\",  # Bulgarian\n",
    "    \"The weather was nice today.\"  # Unrelated English sentence\n",
    "]\n",
    "\n",
    "embeddings = labse_model.encode(texts)"
   ]
  },
  {
   "cell_type": "code",
   "execution_count": 49,
   "id": "653e4f71-4fcb-4e21-b6d9-d8528802ce11",
   "metadata": {
    "colab": {
     "base_uri": "https://localhost:8080/"
    },
    "id": "653e4f71-4fcb-4e21-b6d9-d8528802ce11",
    "outputId": "09106e15-97a0-4cd0-acc5-08649756f646"
   },
   "outputs": [
    {
     "name": "stdout",
     "output_type": "stream",
     "text": [
      "Cosine Similarity Matrix:\n",
      "[[1.         0.8829176  0.9265815  0.8651781  0.24318342]\n",
      " [0.8829176  1.0000002  0.96578115 0.89237857 0.39229706]\n",
      " [0.9265815  0.96578115 1.0000002  0.9107212  0.36290163]\n",
      " [0.8651781  0.89237857 0.9107212  1.0000002  0.2976809 ]\n",
      " [0.24318342 0.39229706 0.36290163 0.2976809  1.        ]]\n"
     ]
    }
   ],
   "source": [
    "from sklearn.metrics.pairwise import cosine_similarity\n",
    "\n",
    "cos_sim_matrix = cosine_similarity(embeddings)\n",
    "\n",
    "print(\"Cosine Similarity Matrix:\")\n",
    "print(cos_sim_matrix)"
   ]
  },
  {
   "cell_type": "code",
   "execution_count": 50,
   "id": "715d3871-6d88-41dd-8816-46ea8c076a7e",
   "metadata": {
    "id": "715d3871-6d88-41dd-8816-46ea8c076a7e"
   },
   "outputs": [],
   "source": [
    "import torch \n",
    "class EmbeddingProcessor:\n",
    "    def __init__(self, model, tokenizer, max_length=512):\n",
    "        self.model = model\n",
    "        self.tokenizer = tokenizer\n",
    "        self.max_length = max_length\n",
    "\n",
    "    def _check_truncation(self, content):\n",
    "        tokens = self.tokenizer(content, return_tensors=\"pt\", truncation=False)\n",
    "        num_tokens = len(tokens['input_ids'][0])\n",
    "        max_seq_len = self.tokenizer.model_max_length\n",
    "        \n",
    "        if num_tokens > max_seq_len:\n",
    "            print(f\"Truncation warning: Article has {num_tokens} tokens, exceeding the limit of {max_seq_len}.\")\n",
    "            return True\n",
    "        return False\n",
    "\n",
    "    def _split_long_paragraph_and_get_embeddings(self, body, max_length=512, strategy=\"sum\"):\n",
    "        chunks = []\n",
    "        embeddings = []\n",
    "        while len(body) > max_length:\n",
    "            split_index = body.rfind(' ', 0, max_length)\n",
    "    \n",
    "            if split_index == -1:\n",
    "                split_index = max_length\n",
    "    \n",
    "            chunk = body[:split_index].strip()\n",
    "            chunks.append(chunk)\n",
    "            embeddings.append(torch.tensor(self.model.encode(chunk)))\n",
    "    \n",
    "            body = body[split_index:].strip()\n",
    "    \n",
    "        if body:\n",
    "            chunks.append(body.strip())\n",
    "            embeddings.append(torch.tensor(self.model.encode(body.strip())))\n",
    "    \n",
    "        aggregated_embedding = self._aggregate_embeddings(embeddings, strategy=strategy)\n",
    "        return aggregated_embedding, chunks\n",
    "\n",
    "\n",
    "    def _aggregate_embeddings(self, paragraph_embeddings, strategy=\"sum\"):\n",
    "        if strategy == \"mean\":\n",
    "            return torch.mean(torch.stack(paragraph_embeddings), dim=0).numpy()\n",
    "        elif strategy == \"sum\":\n",
    "            return torch.sum(torch.stack(paragraph_embeddings), dim=0).numpy()\n",
    "        elif strategy == \"concat\":\n",
    "            return torch.cat(paragraph_embeddings, dim=0).numpy()\n",
    "        elif strategy == \"rms\":\n",
    "            return torch.sqrt(torch.mean(torch.stack([torch.square(e) for e in paragraph_embeddings]), dim=0)).numpy()\n",
    "        else:\n",
    "            raise ValueError(f\"Unsupported aggregation strategy: {strategy}\")\n",
    "\n",
    "\n",
    "    def get_embeddings(self, content, strategy=\"mean\"):\n",
    "        embeddings = []\n",
    "    \n",
    "        header, body, footer = split_into_sections(content)\n",
    "        if header:\n",
    "            header_embedding = torch.tensor(self.model.encode(header))\n",
    "            embeddings.append(header_embedding)\n",
    "    \n",
    "        if body:\n",
    "            body_embeddings, body_chunks = self._split_long_paragraph_and_get_embeddings(body, strategy=\"sum\")\n",
    "            body_embeddings = torch.tensor(body_embeddings, dtype=torch.float32)\n",
    "            embeddings.append(body_embeddings)\n",
    "    \n",
    "        if footer:\n",
    "            footer_embedding = torch.tensor(self.model.encode(footer))\n",
    "            embeddings.append(footer_embedding)\n",
    "    \n",
    "        aggregated_embeddings = self._aggregate_embeddings(embeddings, strategy)\n",
    "        return aggregated_embeddings"
   ]
  },
  {
   "cell_type": "code",
   "execution_count": 51,
   "id": "3c11dbc8-02d1-43db-971d-628029c10687",
   "metadata": {},
   "outputs": [],
   "source": [
    "processor = EmbeddingProcessor(model=labse_model, tokenizer=labse_tokenizer)"
   ]
  },
  {
   "cell_type": "code",
   "execution_count": 52,
   "id": "0ad4cdba-8210-4d2c-bc6b-d12818f4e329",
   "metadata": {
    "id": "0ad4cdba-8210-4d2c-bc6b-d12818f4e329",
    "scrolled": true
   },
   "outputs": [],
   "source": [
    "train_embeddings = dataset_train['content'].apply(\n",
    "    lambda content: processor.get_embeddings(content, strategy=\"sum\")\n",
    ")"
   ]
  },
  {
   "cell_type": "code",
   "execution_count": 53,
   "id": "60a80618-dc3b-41f1-b2a4-99c77591bf81",
   "metadata": {
    "id": "60a80618-dc3b-41f1-b2a4-99c77591bf81"
   },
   "outputs": [],
   "source": [
    "train_embeddings = np.array(train_embeddings.tolist())"
   ]
  },
  {
   "cell_type": "code",
   "execution_count": 54,
   "id": "d949663e-98d3-415e-bcba-7c34ead4a4bf",
   "metadata": {
    "colab": {
     "base_uri": "https://localhost:8080/"
    },
    "id": "d949663e-98d3-415e-bcba-7c34ead4a4bf",
    "outputId": "dbc2f9cc-21ad-4cb8-a9c1-be07e7dd61b6"
   },
   "outputs": [
    {
     "data": {
      "text/plain": [
       "(1367, 768)"
      ]
     },
     "execution_count": 54,
     "metadata": {},
     "output_type": "execute_result"
    }
   ],
   "source": [
    "train_embeddings.shape"
   ]
  },
  {
   "cell_type": "code",
   "execution_count": 55,
   "id": "ade79d1a-88da-48c9-92b1-4107e3e3dd61",
   "metadata": {
    "id": "ade79d1a-88da-48c9-92b1-4107e3e3dd61",
    "scrolled": true
   },
   "outputs": [],
   "source": [
    "val_embeddings = dataset_val['content'].apply(\n",
    "    lambda content: processor.get_embeddings(content, strategy=\"sum\")\n",
    ")"
   ]
  },
  {
   "cell_type": "code",
   "execution_count": 56,
   "id": "431e49aa-60b9-4d12-91dc-cb9c65dfbe85",
   "metadata": {
    "colab": {
     "base_uri": "https://localhost:8080/"
    },
    "id": "431e49aa-60b9-4d12-91dc-cb9c65dfbe85",
    "outputId": "cd795fd8-5a06-405e-ff42-cb1a48653d7d"
   },
   "outputs": [
    {
     "data": {
      "text/plain": [
       "(332, 768)"
      ]
     },
     "execution_count": 56,
     "metadata": {},
     "output_type": "execute_result"
    }
   ],
   "source": [
    "val_embeddings = np.array(val_embeddings.tolist())\n",
    "val_embeddings.shape"
   ]
  },
  {
   "cell_type": "code",
   "execution_count": 57,
   "id": "XWZsPWblfdmR",
   "metadata": {
    "id": "XWZsPWblfdmR"
   },
   "outputs": [],
   "source": [
    "y_train_nar = dataset_train['narratives_encoded'].tolist()\n",
    "y_val_nar = dataset_val['narratives_encoded'].tolist()"
   ]
  },
  {
   "cell_type": "code",
   "execution_count": 58,
   "id": "993694d6-f9ff-49ef-8dbc-d6715b0d4ffe",
   "metadata": {
    "id": "993694d6-f9ff-49ef-8dbc-d6715b0d4ffe"
   },
   "outputs": [],
   "source": [
    "from sklearn.linear_model import LogisticRegression\n",
    "from sklearn.multiclass import OneVsRestClassifier\n",
    "\n",
    "ovr_logistic_nar = OneVsRestClassifier(LogisticRegression(max_iter=1000, class_weight='balanced'))"
   ]
  },
  {
   "cell_type": "code",
   "execution_count": 59,
   "id": "PaQdiHuhInCz",
   "metadata": {
    "colab": {
     "base_uri": "https://localhost:8080/"
    },
    "id": "PaQdiHuhInCz",
    "outputId": "25c90352-d35d-4ec9-c023-bc18fd83766c"
   },
   "outputs": [
    {
     "data": {
      "text/plain": [
       "(1367, 768)"
      ]
     },
     "execution_count": 59,
     "metadata": {},
     "output_type": "execute_result"
    }
   ],
   "source": [
    "train_embeddings.shape"
   ]
  },
  {
   "cell_type": "code",
   "execution_count": 60,
   "id": "ebe9747f-3b24-4892-85e6-8ebc426d836b",
   "metadata": {
    "colab": {
     "base_uri": "https://localhost:8080/",
     "height": 134
    },
    "id": "ebe9747f-3b24-4892-85e6-8ebc426d836b",
    "outputId": "10aef8c8-a151-4755-98ab-108c2836fd18"
   },
   "outputs": [
    {
     "data": {
      "text/html": [
       "<style>#sk-container-id-1 {\n",
       "  /* Definition of color scheme common for light and dark mode */\n",
       "  --sklearn-color-text: black;\n",
       "  --sklearn-color-line: gray;\n",
       "  /* Definition of color scheme for unfitted estimators */\n",
       "  --sklearn-color-unfitted-level-0: #fff5e6;\n",
       "  --sklearn-color-unfitted-level-1: #f6e4d2;\n",
       "  --sklearn-color-unfitted-level-2: #ffe0b3;\n",
       "  --sklearn-color-unfitted-level-3: chocolate;\n",
       "  /* Definition of color scheme for fitted estimators */\n",
       "  --sklearn-color-fitted-level-0: #f0f8ff;\n",
       "  --sklearn-color-fitted-level-1: #d4ebff;\n",
       "  --sklearn-color-fitted-level-2: #b3dbfd;\n",
       "  --sklearn-color-fitted-level-3: cornflowerblue;\n",
       "\n",
       "  /* Specific color for light theme */\n",
       "  --sklearn-color-text-on-default-background: var(--sg-text-color, var(--theme-code-foreground, var(--jp-content-font-color1, black)));\n",
       "  --sklearn-color-background: var(--sg-background-color, var(--theme-background, var(--jp-layout-color0, white)));\n",
       "  --sklearn-color-border-box: var(--sg-text-color, var(--theme-code-foreground, var(--jp-content-font-color1, black)));\n",
       "  --sklearn-color-icon: #696969;\n",
       "\n",
       "  @media (prefers-color-scheme: dark) {\n",
       "    /* Redefinition of color scheme for dark theme */\n",
       "    --sklearn-color-text-on-default-background: var(--sg-text-color, var(--theme-code-foreground, var(--jp-content-font-color1, white)));\n",
       "    --sklearn-color-background: var(--sg-background-color, var(--theme-background, var(--jp-layout-color0, #111)));\n",
       "    --sklearn-color-border-box: var(--sg-text-color, var(--theme-code-foreground, var(--jp-content-font-color1, white)));\n",
       "    --sklearn-color-icon: #878787;\n",
       "  }\n",
       "}\n",
       "\n",
       "#sk-container-id-1 {\n",
       "  color: var(--sklearn-color-text);\n",
       "}\n",
       "\n",
       "#sk-container-id-1 pre {\n",
       "  padding: 0;\n",
       "}\n",
       "\n",
       "#sk-container-id-1 input.sk-hidden--visually {\n",
       "  border: 0;\n",
       "  clip: rect(1px 1px 1px 1px);\n",
       "  clip: rect(1px, 1px, 1px, 1px);\n",
       "  height: 1px;\n",
       "  margin: -1px;\n",
       "  overflow: hidden;\n",
       "  padding: 0;\n",
       "  position: absolute;\n",
       "  width: 1px;\n",
       "}\n",
       "\n",
       "#sk-container-id-1 div.sk-dashed-wrapped {\n",
       "  border: 1px dashed var(--sklearn-color-line);\n",
       "  margin: 0 0.4em 0.5em 0.4em;\n",
       "  box-sizing: border-box;\n",
       "  padding-bottom: 0.4em;\n",
       "  background-color: var(--sklearn-color-background);\n",
       "}\n",
       "\n",
       "#sk-container-id-1 div.sk-container {\n",
       "  /* jupyter's `normalize.less` sets `[hidden] { display: none; }`\n",
       "     but bootstrap.min.css set `[hidden] { display: none !important; }`\n",
       "     so we also need the `!important` here to be able to override the\n",
       "     default hidden behavior on the sphinx rendered scikit-learn.org.\n",
       "     See: https://github.com/scikit-learn/scikit-learn/issues/21755 */\n",
       "  display: inline-block !important;\n",
       "  position: relative;\n",
       "}\n",
       "\n",
       "#sk-container-id-1 div.sk-text-repr-fallback {\n",
       "  display: none;\n",
       "}\n",
       "\n",
       "div.sk-parallel-item,\n",
       "div.sk-serial,\n",
       "div.sk-item {\n",
       "  /* draw centered vertical line to link estimators */\n",
       "  background-image: linear-gradient(var(--sklearn-color-text-on-default-background), var(--sklearn-color-text-on-default-background));\n",
       "  background-size: 2px 100%;\n",
       "  background-repeat: no-repeat;\n",
       "  background-position: center center;\n",
       "}\n",
       "\n",
       "/* Parallel-specific style estimator block */\n",
       "\n",
       "#sk-container-id-1 div.sk-parallel-item::after {\n",
       "  content: \"\";\n",
       "  width: 100%;\n",
       "  border-bottom: 2px solid var(--sklearn-color-text-on-default-background);\n",
       "  flex-grow: 1;\n",
       "}\n",
       "\n",
       "#sk-container-id-1 div.sk-parallel {\n",
       "  display: flex;\n",
       "  align-items: stretch;\n",
       "  justify-content: center;\n",
       "  background-color: var(--sklearn-color-background);\n",
       "  position: relative;\n",
       "}\n",
       "\n",
       "#sk-container-id-1 div.sk-parallel-item {\n",
       "  display: flex;\n",
       "  flex-direction: column;\n",
       "}\n",
       "\n",
       "#sk-container-id-1 div.sk-parallel-item:first-child::after {\n",
       "  align-self: flex-end;\n",
       "  width: 50%;\n",
       "}\n",
       "\n",
       "#sk-container-id-1 div.sk-parallel-item:last-child::after {\n",
       "  align-self: flex-start;\n",
       "  width: 50%;\n",
       "}\n",
       "\n",
       "#sk-container-id-1 div.sk-parallel-item:only-child::after {\n",
       "  width: 0;\n",
       "}\n",
       "\n",
       "/* Serial-specific style estimator block */\n",
       "\n",
       "#sk-container-id-1 div.sk-serial {\n",
       "  display: flex;\n",
       "  flex-direction: column;\n",
       "  align-items: center;\n",
       "  background-color: var(--sklearn-color-background);\n",
       "  padding-right: 1em;\n",
       "  padding-left: 1em;\n",
       "}\n",
       "\n",
       "\n",
       "/* Toggleable style: style used for estimator/Pipeline/ColumnTransformer box that is\n",
       "clickable and can be expanded/collapsed.\n",
       "- Pipeline and ColumnTransformer use this feature and define the default style\n",
       "- Estimators will overwrite some part of the style using the `sk-estimator` class\n",
       "*/\n",
       "\n",
       "/* Pipeline and ColumnTransformer style (default) */\n",
       "\n",
       "#sk-container-id-1 div.sk-toggleable {\n",
       "  /* Default theme specific background. It is overwritten whether we have a\n",
       "  specific estimator or a Pipeline/ColumnTransformer */\n",
       "  background-color: var(--sklearn-color-background);\n",
       "}\n",
       "\n",
       "/* Toggleable label */\n",
       "#sk-container-id-1 label.sk-toggleable__label {\n",
       "  cursor: pointer;\n",
       "  display: block;\n",
       "  width: 100%;\n",
       "  margin-bottom: 0;\n",
       "  padding: 0.5em;\n",
       "  box-sizing: border-box;\n",
       "  text-align: center;\n",
       "}\n",
       "\n",
       "#sk-container-id-1 label.sk-toggleable__label-arrow:before {\n",
       "  /* Arrow on the left of the label */\n",
       "  content: \"▸\";\n",
       "  float: left;\n",
       "  margin-right: 0.25em;\n",
       "  color: var(--sklearn-color-icon);\n",
       "}\n",
       "\n",
       "#sk-container-id-1 label.sk-toggleable__label-arrow:hover:before {\n",
       "  color: var(--sklearn-color-text);\n",
       "}\n",
       "\n",
       "/* Toggleable content - dropdown */\n",
       "\n",
       "#sk-container-id-1 div.sk-toggleable__content {\n",
       "  max-height: 0;\n",
       "  max-width: 0;\n",
       "  overflow: hidden;\n",
       "  text-align: left;\n",
       "  /* unfitted */\n",
       "  background-color: var(--sklearn-color-unfitted-level-0);\n",
       "}\n",
       "\n",
       "#sk-container-id-1 div.sk-toggleable__content.fitted {\n",
       "  /* fitted */\n",
       "  background-color: var(--sklearn-color-fitted-level-0);\n",
       "}\n",
       "\n",
       "#sk-container-id-1 div.sk-toggleable__content pre {\n",
       "  margin: 0.2em;\n",
       "  border-radius: 0.25em;\n",
       "  color: var(--sklearn-color-text);\n",
       "  /* unfitted */\n",
       "  background-color: var(--sklearn-color-unfitted-level-0);\n",
       "}\n",
       "\n",
       "#sk-container-id-1 div.sk-toggleable__content.fitted pre {\n",
       "  /* unfitted */\n",
       "  background-color: var(--sklearn-color-fitted-level-0);\n",
       "}\n",
       "\n",
       "#sk-container-id-1 input.sk-toggleable__control:checked~div.sk-toggleable__content {\n",
       "  /* Expand drop-down */\n",
       "  max-height: 200px;\n",
       "  max-width: 100%;\n",
       "  overflow: auto;\n",
       "}\n",
       "\n",
       "#sk-container-id-1 input.sk-toggleable__control:checked~label.sk-toggleable__label-arrow:before {\n",
       "  content: \"▾\";\n",
       "}\n",
       "\n",
       "/* Pipeline/ColumnTransformer-specific style */\n",
       "\n",
       "#sk-container-id-1 div.sk-label input.sk-toggleable__control:checked~label.sk-toggleable__label {\n",
       "  color: var(--sklearn-color-text);\n",
       "  background-color: var(--sklearn-color-unfitted-level-2);\n",
       "}\n",
       "\n",
       "#sk-container-id-1 div.sk-label.fitted input.sk-toggleable__control:checked~label.sk-toggleable__label {\n",
       "  background-color: var(--sklearn-color-fitted-level-2);\n",
       "}\n",
       "\n",
       "/* Estimator-specific style */\n",
       "\n",
       "/* Colorize estimator box */\n",
       "#sk-container-id-1 div.sk-estimator input.sk-toggleable__control:checked~label.sk-toggleable__label {\n",
       "  /* unfitted */\n",
       "  background-color: var(--sklearn-color-unfitted-level-2);\n",
       "}\n",
       "\n",
       "#sk-container-id-1 div.sk-estimator.fitted input.sk-toggleable__control:checked~label.sk-toggleable__label {\n",
       "  /* fitted */\n",
       "  background-color: var(--sklearn-color-fitted-level-2);\n",
       "}\n",
       "\n",
       "#sk-container-id-1 div.sk-label label.sk-toggleable__label,\n",
       "#sk-container-id-1 div.sk-label label {\n",
       "  /* The background is the default theme color */\n",
       "  color: var(--sklearn-color-text-on-default-background);\n",
       "}\n",
       "\n",
       "/* On hover, darken the color of the background */\n",
       "#sk-container-id-1 div.sk-label:hover label.sk-toggleable__label {\n",
       "  color: var(--sklearn-color-text);\n",
       "  background-color: var(--sklearn-color-unfitted-level-2);\n",
       "}\n",
       "\n",
       "/* Label box, darken color on hover, fitted */\n",
       "#sk-container-id-1 div.sk-label.fitted:hover label.sk-toggleable__label.fitted {\n",
       "  color: var(--sklearn-color-text);\n",
       "  background-color: var(--sklearn-color-fitted-level-2);\n",
       "}\n",
       "\n",
       "/* Estimator label */\n",
       "\n",
       "#sk-container-id-1 div.sk-label label {\n",
       "  font-family: monospace;\n",
       "  font-weight: bold;\n",
       "  display: inline-block;\n",
       "  line-height: 1.2em;\n",
       "}\n",
       "\n",
       "#sk-container-id-1 div.sk-label-container {\n",
       "  text-align: center;\n",
       "}\n",
       "\n",
       "/* Estimator-specific */\n",
       "#sk-container-id-1 div.sk-estimator {\n",
       "  font-family: monospace;\n",
       "  border: 1px dotted var(--sklearn-color-border-box);\n",
       "  border-radius: 0.25em;\n",
       "  box-sizing: border-box;\n",
       "  margin-bottom: 0.5em;\n",
       "  /* unfitted */\n",
       "  background-color: var(--sklearn-color-unfitted-level-0);\n",
       "}\n",
       "\n",
       "#sk-container-id-1 div.sk-estimator.fitted {\n",
       "  /* fitted */\n",
       "  background-color: var(--sklearn-color-fitted-level-0);\n",
       "}\n",
       "\n",
       "/* on hover */\n",
       "#sk-container-id-1 div.sk-estimator:hover {\n",
       "  /* unfitted */\n",
       "  background-color: var(--sklearn-color-unfitted-level-2);\n",
       "}\n",
       "\n",
       "#sk-container-id-1 div.sk-estimator.fitted:hover {\n",
       "  /* fitted */\n",
       "  background-color: var(--sklearn-color-fitted-level-2);\n",
       "}\n",
       "\n",
       "/* Specification for estimator info (e.g. \"i\" and \"?\") */\n",
       "\n",
       "/* Common style for \"i\" and \"?\" */\n",
       "\n",
       ".sk-estimator-doc-link,\n",
       "a:link.sk-estimator-doc-link,\n",
       "a:visited.sk-estimator-doc-link {\n",
       "  float: right;\n",
       "  font-size: smaller;\n",
       "  line-height: 1em;\n",
       "  font-family: monospace;\n",
       "  background-color: var(--sklearn-color-background);\n",
       "  border-radius: 1em;\n",
       "  height: 1em;\n",
       "  width: 1em;\n",
       "  text-decoration: none !important;\n",
       "  margin-left: 1ex;\n",
       "  /* unfitted */\n",
       "  border: var(--sklearn-color-unfitted-level-1) 1pt solid;\n",
       "  color: var(--sklearn-color-unfitted-level-1);\n",
       "}\n",
       "\n",
       ".sk-estimator-doc-link.fitted,\n",
       "a:link.sk-estimator-doc-link.fitted,\n",
       "a:visited.sk-estimator-doc-link.fitted {\n",
       "  /* fitted */\n",
       "  border: var(--sklearn-color-fitted-level-1) 1pt solid;\n",
       "  color: var(--sklearn-color-fitted-level-1);\n",
       "}\n",
       "\n",
       "/* On hover */\n",
       "div.sk-estimator:hover .sk-estimator-doc-link:hover,\n",
       ".sk-estimator-doc-link:hover,\n",
       "div.sk-label-container:hover .sk-estimator-doc-link:hover,\n",
       ".sk-estimator-doc-link:hover {\n",
       "  /* unfitted */\n",
       "  background-color: var(--sklearn-color-unfitted-level-3);\n",
       "  color: var(--sklearn-color-background);\n",
       "  text-decoration: none;\n",
       "}\n",
       "\n",
       "div.sk-estimator.fitted:hover .sk-estimator-doc-link.fitted:hover,\n",
       ".sk-estimator-doc-link.fitted:hover,\n",
       "div.sk-label-container:hover .sk-estimator-doc-link.fitted:hover,\n",
       ".sk-estimator-doc-link.fitted:hover {\n",
       "  /* fitted */\n",
       "  background-color: var(--sklearn-color-fitted-level-3);\n",
       "  color: var(--sklearn-color-background);\n",
       "  text-decoration: none;\n",
       "}\n",
       "\n",
       "/* Span, style for the box shown on hovering the info icon */\n",
       ".sk-estimator-doc-link span {\n",
       "  display: none;\n",
       "  z-index: 9999;\n",
       "  position: relative;\n",
       "  font-weight: normal;\n",
       "  right: .2ex;\n",
       "  padding: .5ex;\n",
       "  margin: .5ex;\n",
       "  width: min-content;\n",
       "  min-width: 20ex;\n",
       "  max-width: 50ex;\n",
       "  color: var(--sklearn-color-text);\n",
       "  box-shadow: 2pt 2pt 4pt #999;\n",
       "  /* unfitted */\n",
       "  background: var(--sklearn-color-unfitted-level-0);\n",
       "  border: .5pt solid var(--sklearn-color-unfitted-level-3);\n",
       "}\n",
       "\n",
       ".sk-estimator-doc-link.fitted span {\n",
       "  /* fitted */\n",
       "  background: var(--sklearn-color-fitted-level-0);\n",
       "  border: var(--sklearn-color-fitted-level-3);\n",
       "}\n",
       "\n",
       ".sk-estimator-doc-link:hover span {\n",
       "  display: block;\n",
       "}\n",
       "\n",
       "/* \"?\"-specific style due to the `<a>` HTML tag */\n",
       "\n",
       "#sk-container-id-1 a.estimator_doc_link {\n",
       "  float: right;\n",
       "  font-size: 1rem;\n",
       "  line-height: 1em;\n",
       "  font-family: monospace;\n",
       "  background-color: var(--sklearn-color-background);\n",
       "  border-radius: 1rem;\n",
       "  height: 1rem;\n",
       "  width: 1rem;\n",
       "  text-decoration: none;\n",
       "  /* unfitted */\n",
       "  color: var(--sklearn-color-unfitted-level-1);\n",
       "  border: var(--sklearn-color-unfitted-level-1) 1pt solid;\n",
       "}\n",
       "\n",
       "#sk-container-id-1 a.estimator_doc_link.fitted {\n",
       "  /* fitted */\n",
       "  border: var(--sklearn-color-fitted-level-1) 1pt solid;\n",
       "  color: var(--sklearn-color-fitted-level-1);\n",
       "}\n",
       "\n",
       "/* On hover */\n",
       "#sk-container-id-1 a.estimator_doc_link:hover {\n",
       "  /* unfitted */\n",
       "  background-color: var(--sklearn-color-unfitted-level-3);\n",
       "  color: var(--sklearn-color-background);\n",
       "  text-decoration: none;\n",
       "}\n",
       "\n",
       "#sk-container-id-1 a.estimator_doc_link.fitted:hover {\n",
       "  /* fitted */\n",
       "  background-color: var(--sklearn-color-fitted-level-3);\n",
       "}\n",
       "</style><div id=\"sk-container-id-1\" class=\"sk-top-container\"><div class=\"sk-text-repr-fallback\"><pre>OneVsRestClassifier(estimator=LogisticRegression(class_weight=&#x27;balanced&#x27;,\n",
       "                                                 max_iter=1000))</pre><b>In a Jupyter environment, please rerun this cell to show the HTML representation or trust the notebook. <br />On GitHub, the HTML representation is unable to render, please try loading this page with nbviewer.org.</b></div><div class=\"sk-container\" hidden><div class=\"sk-item sk-dashed-wrapped\"><div class=\"sk-label-container\"><div class=\"sk-label fitted sk-toggleable\"><input class=\"sk-toggleable__control sk-hidden--visually\" id=\"sk-estimator-id-1\" type=\"checkbox\" ><label for=\"sk-estimator-id-1\" class=\"sk-toggleable__label fitted sk-toggleable__label-arrow fitted\">&nbsp;&nbsp;OneVsRestClassifier<a class=\"sk-estimator-doc-link fitted\" rel=\"noreferrer\" target=\"_blank\" href=\"https://scikit-learn.org/1.5/modules/generated/sklearn.multiclass.OneVsRestClassifier.html\">?<span>Documentation for OneVsRestClassifier</span></a><span class=\"sk-estimator-doc-link fitted\">i<span>Fitted</span></span></label><div class=\"sk-toggleable__content fitted\"><pre>OneVsRestClassifier(estimator=LogisticRegression(class_weight=&#x27;balanced&#x27;,\n",
       "                                                 max_iter=1000))</pre></div> </div></div><div class=\"sk-parallel\"><div class=\"sk-parallel-item\"><div class=\"sk-item\"><div class=\"sk-label-container\"><div class=\"sk-label fitted sk-toggleable\"><input class=\"sk-toggleable__control sk-hidden--visually\" id=\"sk-estimator-id-2\" type=\"checkbox\" ><label for=\"sk-estimator-id-2\" class=\"sk-toggleable__label fitted sk-toggleable__label-arrow fitted\">estimator: LogisticRegression</label><div class=\"sk-toggleable__content fitted\"><pre>LogisticRegression(class_weight=&#x27;balanced&#x27;, max_iter=1000)</pre></div> </div></div><div class=\"sk-serial\"><div class=\"sk-item\"><div class=\"sk-estimator fitted sk-toggleable\"><input class=\"sk-toggleable__control sk-hidden--visually\" id=\"sk-estimator-id-3\" type=\"checkbox\" ><label for=\"sk-estimator-id-3\" class=\"sk-toggleable__label fitted sk-toggleable__label-arrow fitted\">&nbsp;LogisticRegression<a class=\"sk-estimator-doc-link fitted\" rel=\"noreferrer\" target=\"_blank\" href=\"https://scikit-learn.org/1.5/modules/generated/sklearn.linear_model.LogisticRegression.html\">?<span>Documentation for LogisticRegression</span></a></label><div class=\"sk-toggleable__content fitted\"><pre>LogisticRegression(class_weight=&#x27;balanced&#x27;, max_iter=1000)</pre></div> </div></div></div></div></div></div></div></div></div>"
      ],
      "text/plain": [
       "OneVsRestClassifier(estimator=LogisticRegression(class_weight='balanced',\n",
       "                                                 max_iter=1000))"
      ]
     },
     "execution_count": 60,
     "metadata": {},
     "output_type": "execute_result"
    }
   ],
   "source": [
    "ovr_logistic_nar.fit(train_embeddings, y_train_nar)"
   ]
  },
  {
   "cell_type": "code",
   "execution_count": 61,
   "id": "aVcX2sMz-XDC",
   "metadata": {
    "id": "aVcX2sMz-XDC"
   },
   "outputs": [],
   "source": [
    "import warnings\n",
    "from sklearn.metrics import classification_report\n",
    "from sklearn.model_selection import cross_val_score\n",
    "\n",
    "def get_classification_report(y_true, y_pred):\n",
    "    with warnings.catch_warnings():\n",
    "        warnings.simplefilter(\"ignore\")\n",
    "        report = classification_report(y_true, y_pred, output_dict=True)\n",
    "    report_df = pd.DataFrame(report).transpose()\n",
    "    return report_df\n",
    "\n",
    "def get_cross_val_score(model, x, y, scoring='f1_macro', splits=3):\n",
    "    \"\"\"Perform cross-validation and compute scores.\"\"\"\n",
    "    cv = StratifiedKFold(n_splits=splits, shuffle=True)\n",
    "    cross_val_scores = cross_val_score(model, x, y, cv=cv, scoring=scoring)\n",
    "    print(f\"Cross-validation scores: {cross_val_scores}\")\n",
    "    print(f\"Mean CV F1 Score: {cross_val_scores.mean()}\")"
   ]
  },
  {
   "cell_type": "code",
   "execution_count": 62,
   "id": "97cd066b-e158-4a42-9acc-9228c55b9a99",
   "metadata": {
    "id": "97cd066b-e158-4a42-9acc-9228c55b9a99"
   },
   "outputs": [],
   "source": [
    "import warnings\n",
    "from sklearn.metrics import (\n",
    "    hamming_loss,\n",
    ")\n",
    "\n",
    "def evaluate_model(model, x, y_true):\n",
    "    y_pred = model.predict(x)\n",
    "\n",
    "    classification_report_df = get_classification_report(y_true, y_pred)\n",
    "    print(\"Classification Report:\")\n",
    "    print(classification_report_df)\n",
    "    print(\"\\n\")\n",
    "\n",
    "    hamming = hamming_loss(y_true, y_pred)\n",
    "    print(f\"Hamming Loss: {hamming:.4f}\")\n",
    "    print(\"\\n\")"
   ]
  },
  {
   "cell_type": "code",
   "execution_count": 63,
   "id": "4a384e9f-ee40-410e-9e13-13c862895566",
   "metadata": {
    "colab": {
     "base_uri": "https://localhost:8080/"
    },
    "id": "4a384e9f-ee40-410e-9e13-13c862895566",
    "outputId": "02081190-373d-467e-d97e-9728b66b4748"
   },
   "outputs": [
    {
     "name": "stdout",
     "output_type": "stream",
     "text": [
      "Classification Report:\n",
      "              precision    recall  f1-score  support\n",
      "0              0.758621  0.977778  0.854369     45.0\n",
      "1              0.521739  0.750000  0.615385     48.0\n",
      "2              0.360000  0.729730  0.482143     37.0\n",
      "3              0.400000  0.500000  0.444444      4.0\n",
      "4              0.294118  0.833333  0.434783      6.0\n",
      "5              0.388889  0.466667  0.424242     15.0\n",
      "6              0.343750  0.647059  0.448980     17.0\n",
      "7              0.531915  0.781250  0.632911     32.0\n",
      "8              0.517544  0.776316  0.621053     76.0\n",
      "9              0.411765  0.711864  0.521739     59.0\n",
      "10             0.166667  0.333333  0.222222      9.0\n",
      "11             0.333333  0.600000  0.428571     10.0\n",
      "12             0.333333  0.500000  0.400000      2.0\n",
      "13             0.200000  0.500000  0.285714     14.0\n",
      "14             0.214286  0.428571  0.285714     21.0\n",
      "15             0.425532  0.606061  0.500000     66.0\n",
      "16             0.080000  0.222222  0.117647      9.0\n",
      "17             0.436893  0.652174  0.523256     69.0\n",
      "18             0.800000  0.666667  0.727273      6.0\n",
      "19             0.404494  0.818182  0.541353     44.0\n",
      "20             0.215385  0.583333  0.314607     24.0\n",
      "micro avg      0.411025  0.693312  0.516090    613.0\n",
      "macro avg      0.387536  0.623073  0.467924    613.0\n",
      "weighted avg   0.436720  0.693312  0.530874    613.0\n",
      "samples avg    0.446591  0.716193  0.513217    613.0\n",
      "\n",
      "\n",
      "Hamming Loss: 0.1143\n",
      "\n",
      "\n"
     ]
    }
   ],
   "source": [
    "evaluate_model(ovr_logistic_nar, val_embeddings, y_val_nar)"
   ]
  },
  {
   "cell_type": "code",
   "execution_count": 64,
   "id": "0LMSKP4Oe5Cw",
   "metadata": {
    "id": "0LMSKP4Oe5Cw"
   },
   "outputs": [],
   "source": [
    "y_train_sub_nar = dataset_train['subnarratives_encoded'].tolist()\n",
    "y_val_sub_nar = dataset_val['subnarratives_encoded'].tolist()"
   ]
  },
  {
   "cell_type": "code",
   "execution_count": 65,
   "id": "0323adcc-bbfc-42f9-839d-847e0f099332",
   "metadata": {
    "colab": {
     "base_uri": "https://localhost:8080/",
     "height": 168
    },
    "id": "0323adcc-bbfc-42f9-839d-847e0f099332",
    "outputId": "7e87c2a2-ffa4-457b-fb1d-cded054e6e4e"
   },
   "outputs": [
    {
     "name": "stderr",
     "output_type": "stream",
     "text": [
      "/Library/Frameworks/Python.framework/Versions/3.12/lib/python3.12/site-packages/sklearn/multiclass.py:90: UserWarning: Label not 49 is present in all training examples.\n",
      "  warnings.warn(\n"
     ]
    },
    {
     "data": {
      "text/html": [
       "<style>#sk-container-id-2 {\n",
       "  /* Definition of color scheme common for light and dark mode */\n",
       "  --sklearn-color-text: black;\n",
       "  --sklearn-color-line: gray;\n",
       "  /* Definition of color scheme for unfitted estimators */\n",
       "  --sklearn-color-unfitted-level-0: #fff5e6;\n",
       "  --sklearn-color-unfitted-level-1: #f6e4d2;\n",
       "  --sklearn-color-unfitted-level-2: #ffe0b3;\n",
       "  --sklearn-color-unfitted-level-3: chocolate;\n",
       "  /* Definition of color scheme for fitted estimators */\n",
       "  --sklearn-color-fitted-level-0: #f0f8ff;\n",
       "  --sklearn-color-fitted-level-1: #d4ebff;\n",
       "  --sklearn-color-fitted-level-2: #b3dbfd;\n",
       "  --sklearn-color-fitted-level-3: cornflowerblue;\n",
       "\n",
       "  /* Specific color for light theme */\n",
       "  --sklearn-color-text-on-default-background: var(--sg-text-color, var(--theme-code-foreground, var(--jp-content-font-color1, black)));\n",
       "  --sklearn-color-background: var(--sg-background-color, var(--theme-background, var(--jp-layout-color0, white)));\n",
       "  --sklearn-color-border-box: var(--sg-text-color, var(--theme-code-foreground, var(--jp-content-font-color1, black)));\n",
       "  --sklearn-color-icon: #696969;\n",
       "\n",
       "  @media (prefers-color-scheme: dark) {\n",
       "    /* Redefinition of color scheme for dark theme */\n",
       "    --sklearn-color-text-on-default-background: var(--sg-text-color, var(--theme-code-foreground, var(--jp-content-font-color1, white)));\n",
       "    --sklearn-color-background: var(--sg-background-color, var(--theme-background, var(--jp-layout-color0, #111)));\n",
       "    --sklearn-color-border-box: var(--sg-text-color, var(--theme-code-foreground, var(--jp-content-font-color1, white)));\n",
       "    --sklearn-color-icon: #878787;\n",
       "  }\n",
       "}\n",
       "\n",
       "#sk-container-id-2 {\n",
       "  color: var(--sklearn-color-text);\n",
       "}\n",
       "\n",
       "#sk-container-id-2 pre {\n",
       "  padding: 0;\n",
       "}\n",
       "\n",
       "#sk-container-id-2 input.sk-hidden--visually {\n",
       "  border: 0;\n",
       "  clip: rect(1px 1px 1px 1px);\n",
       "  clip: rect(1px, 1px, 1px, 1px);\n",
       "  height: 1px;\n",
       "  margin: -1px;\n",
       "  overflow: hidden;\n",
       "  padding: 0;\n",
       "  position: absolute;\n",
       "  width: 1px;\n",
       "}\n",
       "\n",
       "#sk-container-id-2 div.sk-dashed-wrapped {\n",
       "  border: 1px dashed var(--sklearn-color-line);\n",
       "  margin: 0 0.4em 0.5em 0.4em;\n",
       "  box-sizing: border-box;\n",
       "  padding-bottom: 0.4em;\n",
       "  background-color: var(--sklearn-color-background);\n",
       "}\n",
       "\n",
       "#sk-container-id-2 div.sk-container {\n",
       "  /* jupyter's `normalize.less` sets `[hidden] { display: none; }`\n",
       "     but bootstrap.min.css set `[hidden] { display: none !important; }`\n",
       "     so we also need the `!important` here to be able to override the\n",
       "     default hidden behavior on the sphinx rendered scikit-learn.org.\n",
       "     See: https://github.com/scikit-learn/scikit-learn/issues/21755 */\n",
       "  display: inline-block !important;\n",
       "  position: relative;\n",
       "}\n",
       "\n",
       "#sk-container-id-2 div.sk-text-repr-fallback {\n",
       "  display: none;\n",
       "}\n",
       "\n",
       "div.sk-parallel-item,\n",
       "div.sk-serial,\n",
       "div.sk-item {\n",
       "  /* draw centered vertical line to link estimators */\n",
       "  background-image: linear-gradient(var(--sklearn-color-text-on-default-background), var(--sklearn-color-text-on-default-background));\n",
       "  background-size: 2px 100%;\n",
       "  background-repeat: no-repeat;\n",
       "  background-position: center center;\n",
       "}\n",
       "\n",
       "/* Parallel-specific style estimator block */\n",
       "\n",
       "#sk-container-id-2 div.sk-parallel-item::after {\n",
       "  content: \"\";\n",
       "  width: 100%;\n",
       "  border-bottom: 2px solid var(--sklearn-color-text-on-default-background);\n",
       "  flex-grow: 1;\n",
       "}\n",
       "\n",
       "#sk-container-id-2 div.sk-parallel {\n",
       "  display: flex;\n",
       "  align-items: stretch;\n",
       "  justify-content: center;\n",
       "  background-color: var(--sklearn-color-background);\n",
       "  position: relative;\n",
       "}\n",
       "\n",
       "#sk-container-id-2 div.sk-parallel-item {\n",
       "  display: flex;\n",
       "  flex-direction: column;\n",
       "}\n",
       "\n",
       "#sk-container-id-2 div.sk-parallel-item:first-child::after {\n",
       "  align-self: flex-end;\n",
       "  width: 50%;\n",
       "}\n",
       "\n",
       "#sk-container-id-2 div.sk-parallel-item:last-child::after {\n",
       "  align-self: flex-start;\n",
       "  width: 50%;\n",
       "}\n",
       "\n",
       "#sk-container-id-2 div.sk-parallel-item:only-child::after {\n",
       "  width: 0;\n",
       "}\n",
       "\n",
       "/* Serial-specific style estimator block */\n",
       "\n",
       "#sk-container-id-2 div.sk-serial {\n",
       "  display: flex;\n",
       "  flex-direction: column;\n",
       "  align-items: center;\n",
       "  background-color: var(--sklearn-color-background);\n",
       "  padding-right: 1em;\n",
       "  padding-left: 1em;\n",
       "}\n",
       "\n",
       "\n",
       "/* Toggleable style: style used for estimator/Pipeline/ColumnTransformer box that is\n",
       "clickable and can be expanded/collapsed.\n",
       "- Pipeline and ColumnTransformer use this feature and define the default style\n",
       "- Estimators will overwrite some part of the style using the `sk-estimator` class\n",
       "*/\n",
       "\n",
       "/* Pipeline and ColumnTransformer style (default) */\n",
       "\n",
       "#sk-container-id-2 div.sk-toggleable {\n",
       "  /* Default theme specific background. It is overwritten whether we have a\n",
       "  specific estimator or a Pipeline/ColumnTransformer */\n",
       "  background-color: var(--sklearn-color-background);\n",
       "}\n",
       "\n",
       "/* Toggleable label */\n",
       "#sk-container-id-2 label.sk-toggleable__label {\n",
       "  cursor: pointer;\n",
       "  display: block;\n",
       "  width: 100%;\n",
       "  margin-bottom: 0;\n",
       "  padding: 0.5em;\n",
       "  box-sizing: border-box;\n",
       "  text-align: center;\n",
       "}\n",
       "\n",
       "#sk-container-id-2 label.sk-toggleable__label-arrow:before {\n",
       "  /* Arrow on the left of the label */\n",
       "  content: \"▸\";\n",
       "  float: left;\n",
       "  margin-right: 0.25em;\n",
       "  color: var(--sklearn-color-icon);\n",
       "}\n",
       "\n",
       "#sk-container-id-2 label.sk-toggleable__label-arrow:hover:before {\n",
       "  color: var(--sklearn-color-text);\n",
       "}\n",
       "\n",
       "/* Toggleable content - dropdown */\n",
       "\n",
       "#sk-container-id-2 div.sk-toggleable__content {\n",
       "  max-height: 0;\n",
       "  max-width: 0;\n",
       "  overflow: hidden;\n",
       "  text-align: left;\n",
       "  /* unfitted */\n",
       "  background-color: var(--sklearn-color-unfitted-level-0);\n",
       "}\n",
       "\n",
       "#sk-container-id-2 div.sk-toggleable__content.fitted {\n",
       "  /* fitted */\n",
       "  background-color: var(--sklearn-color-fitted-level-0);\n",
       "}\n",
       "\n",
       "#sk-container-id-2 div.sk-toggleable__content pre {\n",
       "  margin: 0.2em;\n",
       "  border-radius: 0.25em;\n",
       "  color: var(--sklearn-color-text);\n",
       "  /* unfitted */\n",
       "  background-color: var(--sklearn-color-unfitted-level-0);\n",
       "}\n",
       "\n",
       "#sk-container-id-2 div.sk-toggleable__content.fitted pre {\n",
       "  /* unfitted */\n",
       "  background-color: var(--sklearn-color-fitted-level-0);\n",
       "}\n",
       "\n",
       "#sk-container-id-2 input.sk-toggleable__control:checked~div.sk-toggleable__content {\n",
       "  /* Expand drop-down */\n",
       "  max-height: 200px;\n",
       "  max-width: 100%;\n",
       "  overflow: auto;\n",
       "}\n",
       "\n",
       "#sk-container-id-2 input.sk-toggleable__control:checked~label.sk-toggleable__label-arrow:before {\n",
       "  content: \"▾\";\n",
       "}\n",
       "\n",
       "/* Pipeline/ColumnTransformer-specific style */\n",
       "\n",
       "#sk-container-id-2 div.sk-label input.sk-toggleable__control:checked~label.sk-toggleable__label {\n",
       "  color: var(--sklearn-color-text);\n",
       "  background-color: var(--sklearn-color-unfitted-level-2);\n",
       "}\n",
       "\n",
       "#sk-container-id-2 div.sk-label.fitted input.sk-toggleable__control:checked~label.sk-toggleable__label {\n",
       "  background-color: var(--sklearn-color-fitted-level-2);\n",
       "}\n",
       "\n",
       "/* Estimator-specific style */\n",
       "\n",
       "/* Colorize estimator box */\n",
       "#sk-container-id-2 div.sk-estimator input.sk-toggleable__control:checked~label.sk-toggleable__label {\n",
       "  /* unfitted */\n",
       "  background-color: var(--sklearn-color-unfitted-level-2);\n",
       "}\n",
       "\n",
       "#sk-container-id-2 div.sk-estimator.fitted input.sk-toggleable__control:checked~label.sk-toggleable__label {\n",
       "  /* fitted */\n",
       "  background-color: var(--sklearn-color-fitted-level-2);\n",
       "}\n",
       "\n",
       "#sk-container-id-2 div.sk-label label.sk-toggleable__label,\n",
       "#sk-container-id-2 div.sk-label label {\n",
       "  /* The background is the default theme color */\n",
       "  color: var(--sklearn-color-text-on-default-background);\n",
       "}\n",
       "\n",
       "/* On hover, darken the color of the background */\n",
       "#sk-container-id-2 div.sk-label:hover label.sk-toggleable__label {\n",
       "  color: var(--sklearn-color-text);\n",
       "  background-color: var(--sklearn-color-unfitted-level-2);\n",
       "}\n",
       "\n",
       "/* Label box, darken color on hover, fitted */\n",
       "#sk-container-id-2 div.sk-label.fitted:hover label.sk-toggleable__label.fitted {\n",
       "  color: var(--sklearn-color-text);\n",
       "  background-color: var(--sklearn-color-fitted-level-2);\n",
       "}\n",
       "\n",
       "/* Estimator label */\n",
       "\n",
       "#sk-container-id-2 div.sk-label label {\n",
       "  font-family: monospace;\n",
       "  font-weight: bold;\n",
       "  display: inline-block;\n",
       "  line-height: 1.2em;\n",
       "}\n",
       "\n",
       "#sk-container-id-2 div.sk-label-container {\n",
       "  text-align: center;\n",
       "}\n",
       "\n",
       "/* Estimator-specific */\n",
       "#sk-container-id-2 div.sk-estimator {\n",
       "  font-family: monospace;\n",
       "  border: 1px dotted var(--sklearn-color-border-box);\n",
       "  border-radius: 0.25em;\n",
       "  box-sizing: border-box;\n",
       "  margin-bottom: 0.5em;\n",
       "  /* unfitted */\n",
       "  background-color: var(--sklearn-color-unfitted-level-0);\n",
       "}\n",
       "\n",
       "#sk-container-id-2 div.sk-estimator.fitted {\n",
       "  /* fitted */\n",
       "  background-color: var(--sklearn-color-fitted-level-0);\n",
       "}\n",
       "\n",
       "/* on hover */\n",
       "#sk-container-id-2 div.sk-estimator:hover {\n",
       "  /* unfitted */\n",
       "  background-color: var(--sklearn-color-unfitted-level-2);\n",
       "}\n",
       "\n",
       "#sk-container-id-2 div.sk-estimator.fitted:hover {\n",
       "  /* fitted */\n",
       "  background-color: var(--sklearn-color-fitted-level-2);\n",
       "}\n",
       "\n",
       "/* Specification for estimator info (e.g. \"i\" and \"?\") */\n",
       "\n",
       "/* Common style for \"i\" and \"?\" */\n",
       "\n",
       ".sk-estimator-doc-link,\n",
       "a:link.sk-estimator-doc-link,\n",
       "a:visited.sk-estimator-doc-link {\n",
       "  float: right;\n",
       "  font-size: smaller;\n",
       "  line-height: 1em;\n",
       "  font-family: monospace;\n",
       "  background-color: var(--sklearn-color-background);\n",
       "  border-radius: 1em;\n",
       "  height: 1em;\n",
       "  width: 1em;\n",
       "  text-decoration: none !important;\n",
       "  margin-left: 1ex;\n",
       "  /* unfitted */\n",
       "  border: var(--sklearn-color-unfitted-level-1) 1pt solid;\n",
       "  color: var(--sklearn-color-unfitted-level-1);\n",
       "}\n",
       "\n",
       ".sk-estimator-doc-link.fitted,\n",
       "a:link.sk-estimator-doc-link.fitted,\n",
       "a:visited.sk-estimator-doc-link.fitted {\n",
       "  /* fitted */\n",
       "  border: var(--sklearn-color-fitted-level-1) 1pt solid;\n",
       "  color: var(--sklearn-color-fitted-level-1);\n",
       "}\n",
       "\n",
       "/* On hover */\n",
       "div.sk-estimator:hover .sk-estimator-doc-link:hover,\n",
       ".sk-estimator-doc-link:hover,\n",
       "div.sk-label-container:hover .sk-estimator-doc-link:hover,\n",
       ".sk-estimator-doc-link:hover {\n",
       "  /* unfitted */\n",
       "  background-color: var(--sklearn-color-unfitted-level-3);\n",
       "  color: var(--sklearn-color-background);\n",
       "  text-decoration: none;\n",
       "}\n",
       "\n",
       "div.sk-estimator.fitted:hover .sk-estimator-doc-link.fitted:hover,\n",
       ".sk-estimator-doc-link.fitted:hover,\n",
       "div.sk-label-container:hover .sk-estimator-doc-link.fitted:hover,\n",
       ".sk-estimator-doc-link.fitted:hover {\n",
       "  /* fitted */\n",
       "  background-color: var(--sklearn-color-fitted-level-3);\n",
       "  color: var(--sklearn-color-background);\n",
       "  text-decoration: none;\n",
       "}\n",
       "\n",
       "/* Span, style for the box shown on hovering the info icon */\n",
       ".sk-estimator-doc-link span {\n",
       "  display: none;\n",
       "  z-index: 9999;\n",
       "  position: relative;\n",
       "  font-weight: normal;\n",
       "  right: .2ex;\n",
       "  padding: .5ex;\n",
       "  margin: .5ex;\n",
       "  width: min-content;\n",
       "  min-width: 20ex;\n",
       "  max-width: 50ex;\n",
       "  color: var(--sklearn-color-text);\n",
       "  box-shadow: 2pt 2pt 4pt #999;\n",
       "  /* unfitted */\n",
       "  background: var(--sklearn-color-unfitted-level-0);\n",
       "  border: .5pt solid var(--sklearn-color-unfitted-level-3);\n",
       "}\n",
       "\n",
       ".sk-estimator-doc-link.fitted span {\n",
       "  /* fitted */\n",
       "  background: var(--sklearn-color-fitted-level-0);\n",
       "  border: var(--sklearn-color-fitted-level-3);\n",
       "}\n",
       "\n",
       ".sk-estimator-doc-link:hover span {\n",
       "  display: block;\n",
       "}\n",
       "\n",
       "/* \"?\"-specific style due to the `<a>` HTML tag */\n",
       "\n",
       "#sk-container-id-2 a.estimator_doc_link {\n",
       "  float: right;\n",
       "  font-size: 1rem;\n",
       "  line-height: 1em;\n",
       "  font-family: monospace;\n",
       "  background-color: var(--sklearn-color-background);\n",
       "  border-radius: 1rem;\n",
       "  height: 1rem;\n",
       "  width: 1rem;\n",
       "  text-decoration: none;\n",
       "  /* unfitted */\n",
       "  color: var(--sklearn-color-unfitted-level-1);\n",
       "  border: var(--sklearn-color-unfitted-level-1) 1pt solid;\n",
       "}\n",
       "\n",
       "#sk-container-id-2 a.estimator_doc_link.fitted {\n",
       "  /* fitted */\n",
       "  border: var(--sklearn-color-fitted-level-1) 1pt solid;\n",
       "  color: var(--sklearn-color-fitted-level-1);\n",
       "}\n",
       "\n",
       "/* On hover */\n",
       "#sk-container-id-2 a.estimator_doc_link:hover {\n",
       "  /* unfitted */\n",
       "  background-color: var(--sklearn-color-unfitted-level-3);\n",
       "  color: var(--sklearn-color-background);\n",
       "  text-decoration: none;\n",
       "}\n",
       "\n",
       "#sk-container-id-2 a.estimator_doc_link.fitted:hover {\n",
       "  /* fitted */\n",
       "  background-color: var(--sklearn-color-fitted-level-3);\n",
       "}\n",
       "</style><div id=\"sk-container-id-2\" class=\"sk-top-container\"><div class=\"sk-text-repr-fallback\"><pre>OneVsRestClassifier(estimator=LogisticRegression(class_weight=&#x27;balanced&#x27;,\n",
       "                                                 max_iter=1000))</pre><b>In a Jupyter environment, please rerun this cell to show the HTML representation or trust the notebook. <br />On GitHub, the HTML representation is unable to render, please try loading this page with nbviewer.org.</b></div><div class=\"sk-container\" hidden><div class=\"sk-item sk-dashed-wrapped\"><div class=\"sk-label-container\"><div class=\"sk-label fitted sk-toggleable\"><input class=\"sk-toggleable__control sk-hidden--visually\" id=\"sk-estimator-id-4\" type=\"checkbox\" ><label for=\"sk-estimator-id-4\" class=\"sk-toggleable__label fitted sk-toggleable__label-arrow fitted\">&nbsp;&nbsp;OneVsRestClassifier<a class=\"sk-estimator-doc-link fitted\" rel=\"noreferrer\" target=\"_blank\" href=\"https://scikit-learn.org/1.5/modules/generated/sklearn.multiclass.OneVsRestClassifier.html\">?<span>Documentation for OneVsRestClassifier</span></a><span class=\"sk-estimator-doc-link fitted\">i<span>Fitted</span></span></label><div class=\"sk-toggleable__content fitted\"><pre>OneVsRestClassifier(estimator=LogisticRegression(class_weight=&#x27;balanced&#x27;,\n",
       "                                                 max_iter=1000))</pre></div> </div></div><div class=\"sk-parallel\"><div class=\"sk-parallel-item\"><div class=\"sk-item\"><div class=\"sk-label-container\"><div class=\"sk-label fitted sk-toggleable\"><input class=\"sk-toggleable__control sk-hidden--visually\" id=\"sk-estimator-id-5\" type=\"checkbox\" ><label for=\"sk-estimator-id-5\" class=\"sk-toggleable__label fitted sk-toggleable__label-arrow fitted\">estimator: LogisticRegression</label><div class=\"sk-toggleable__content fitted\"><pre>LogisticRegression(class_weight=&#x27;balanced&#x27;, max_iter=1000)</pre></div> </div></div><div class=\"sk-serial\"><div class=\"sk-item\"><div class=\"sk-estimator fitted sk-toggleable\"><input class=\"sk-toggleable__control sk-hidden--visually\" id=\"sk-estimator-id-6\" type=\"checkbox\" ><label for=\"sk-estimator-id-6\" class=\"sk-toggleable__label fitted sk-toggleable__label-arrow fitted\">&nbsp;LogisticRegression<a class=\"sk-estimator-doc-link fitted\" rel=\"noreferrer\" target=\"_blank\" href=\"https://scikit-learn.org/1.5/modules/generated/sklearn.linear_model.LogisticRegression.html\">?<span>Documentation for LogisticRegression</span></a></label><div class=\"sk-toggleable__content fitted\"><pre>LogisticRegression(class_weight=&#x27;balanced&#x27;, max_iter=1000)</pre></div> </div></div></div></div></div></div></div></div></div>"
      ],
      "text/plain": [
       "OneVsRestClassifier(estimator=LogisticRegression(class_weight='balanced',\n",
       "                                                 max_iter=1000))"
      ]
     },
     "execution_count": 65,
     "metadata": {},
     "output_type": "execute_result"
    }
   ],
   "source": [
    "ovr_logistic_sub = OneVsRestClassifier(LogisticRegression(max_iter=1000, class_weight='balanced'))\n",
    "ovr_logistic_sub.fit(train_embeddings, y_train_sub_nar)"
   ]
  },
  {
   "cell_type": "code",
   "execution_count": 66,
   "id": "3e58bf4c-c002-4cf0-98cd-252b255455a7",
   "metadata": {
    "colab": {
     "base_uri": "https://localhost:8080/"
    },
    "id": "3e58bf4c-c002-4cf0-98cd-252b255455a7",
    "outputId": "7c1bdf75-fd13-4065-e8cb-ddca0b28893a",
    "scrolled": true
   },
   "outputs": [
    {
     "name": "stdout",
     "output_type": "stream",
     "text": [
      "Classification Report:\n",
      "              precision    recall  f1-score  support\n",
      "0              0.142857  0.250000  0.181818      4.0\n",
      "1              0.727273  0.888889  0.800000     36.0\n",
      "2              0.600000  0.600000  0.600000      5.0\n",
      "3              0.200000  0.538462  0.291667     13.0\n",
      "4              0.000000  0.000000  0.000000      2.0\n",
      "5              0.333333  0.500000  0.400000      2.0\n",
      "6              0.250000  0.285714  0.266667      7.0\n",
      "7              0.250000  0.333333  0.285714      3.0\n",
      "8              0.300000  0.428571  0.352941      7.0\n",
      "9              0.250000  0.333333  0.285714      3.0\n",
      "10             0.117647  0.285714  0.166667      7.0\n",
      "11             0.250000  0.500000  0.333333      4.0\n",
      "12             0.235294  0.444444  0.307692      9.0\n",
      "13             0.000000  0.000000  0.000000      1.0\n",
      "14             0.277778  0.833333  0.416667      6.0\n",
      "15             0.344828  0.588235  0.434783     17.0\n",
      "16             0.392857  0.733333  0.511628     15.0\n",
      "17             0.000000  0.000000  0.000000      2.0\n",
      "18             0.000000  0.000000  0.000000      1.0\n",
      "19             0.111111  0.444444  0.177778      9.0\n",
      "20             0.321429  0.580645  0.413793     31.0\n",
      "21             0.222222  0.600000  0.324324     20.0\n",
      "22             0.000000  0.000000  0.000000      2.0\n",
      "23             0.315789  0.750000  0.444444      8.0\n",
      "24             0.222222  0.400000  0.285714      5.0\n",
      "25             1.000000  1.000000  1.000000      1.0\n",
      "26             0.000000  0.000000  0.000000      0.0\n",
      "27             0.200000  0.500000  0.285714      2.0\n",
      "28             0.000000  0.000000  0.000000      1.0\n",
      "29             0.000000  0.000000  0.000000      1.0\n",
      "30             0.250000  0.500000  0.333333      2.0\n",
      "31             0.111111  0.166667  0.133333      6.0\n",
      "32             0.000000  0.000000  0.000000      2.0\n",
      "33             0.666667  0.588235  0.625000    187.0\n",
      "34             0.120000  0.333333  0.176471      9.0\n",
      "35             0.311475  0.655172  0.422222     29.0\n",
      "36             0.333333  1.000000  0.500000      3.0\n",
      "37             0.500000  0.500000  0.500000      2.0\n",
      "38             0.400000  0.666667  0.500000      3.0\n",
      "39             0.000000  0.000000  0.000000      1.0\n",
      "40             0.181818  0.428571  0.255319     14.0\n",
      "41             0.272727  0.562500  0.367347     16.0\n",
      "42             0.224490  0.578947  0.323529     19.0\n",
      "43             0.171429  0.545455  0.260870     11.0\n",
      "44             0.250000  0.250000  0.250000      4.0\n",
      "45             0.000000  0.000000  0.000000      1.0\n",
      "46             0.000000  0.000000  0.000000      2.0\n",
      "47             0.142857  0.285714  0.190476      7.0\n",
      "48             0.666667  0.400000  0.500000      5.0\n",
      "49             0.000000  0.000000  0.000000      2.0\n",
      "50             0.120000  0.250000  0.162162     12.0\n",
      "51             0.000000  0.000000  0.000000      1.0\n",
      "52             0.250000  0.500000  0.333333      2.0\n",
      "53             0.133333  0.250000  0.173913      8.0\n",
      "54             0.309091  0.739130  0.435897     23.0\n",
      "55             0.090909  0.250000  0.133333      4.0\n",
      "56             0.161290  0.294118  0.208333     17.0\n",
      "57             0.000000  0.000000  0.000000      4.0\n",
      "58             0.000000  0.000000  0.000000      2.0\n",
      "59             0.162791  0.500000  0.245614     14.0\n",
      "60             0.179487  0.583333  0.274510     12.0\n",
      "61             0.000000  0.000000  0.000000      1.0\n",
      "62             0.437500  0.736842  0.549020     19.0\n",
      "63             0.142857  0.250000  0.181818      4.0\n",
      "64             0.266667  0.500000  0.347826      8.0\n",
      "65             0.215686  0.523810  0.305556     21.0\n",
      "66             0.080000  0.250000  0.121212      8.0\n",
      "67             0.354839  0.687500  0.468085     16.0\n",
      "68             0.136364  0.375000  0.200000      8.0\n",
      "69             0.000000  0.000000  0.000000      1.0\n",
      "70             0.000000  0.000000  0.000000      0.0\n",
      "71             0.222222  0.400000  0.285714      5.0\n",
      "72             0.250000  0.375000  0.300000      8.0\n",
      "73             0.000000  0.000000  0.000000      2.0\n",
      "micro avg      0.297841  0.534045  0.382409    749.0\n",
      "macro avg      0.205139  0.361411  0.251774    749.0\n",
      "weighted avg   0.370412  0.534045  0.416601    749.0\n",
      "samples avg    0.345202  0.592490  0.398305    749.0\n",
      "\n",
      "\n",
      "Hamming Loss: 0.0526\n",
      "\n",
      "\n"
     ]
    }
   ],
   "source": [
    "evaluate_model(ovr_logistic_sub, val_embeddings, y_val_sub_nar)"
   ]
  },
  {
   "cell_type": "code",
   "execution_count": 67,
   "id": "025257b5-8c75-44f3-90f5-7d15047b462c",
   "metadata": {},
   "outputs": [
    {
     "name": "stdout",
     "output_type": "stream",
     "text": [
      "Models saved successfully.\n"
     ]
    }
   ],
   "source": [
    "import joblib\n",
    "\n",
    "joblib.dump(ovr_logistic_nar, './ovr_logistic_narrative_model.pkl')\n",
    "joblib.dump(ovr_logistic_sub, './ovr_logistic_subnarrative_model.pkl')\n",
    "\n",
    "print(\"Models saved successfully.\")"
   ]
  },
  {
   "cell_type": "code",
   "execution_count": 68,
   "id": "2eb29a21-d792-4873-a927-783793e2286f",
   "metadata": {
    "colab": {
     "base_uri": "https://localhost:8080/"
    },
    "id": "2eb29a21-d792-4873-a927-783793e2286f",
    "outputId": "8bd0a610-4d98-44bb-8dbf-6695895926f2"
   },
   "outputs": [
    {
     "name": "stdout",
     "output_type": "stream",
     "text": [
      "torch.Size([1367, 21]) torch.Size([1367, 74])\n"
     ]
    }
   ],
   "source": [
    "import torch\n",
    "import torch.nn as nn\n",
    "\n",
    "class MultiTaskClassifier(nn.Module):\n",
    "    def __init__(self, input_size, hidden_size, num_narratives, num_subnarratives, dropout_rate=0.3):\n",
    "        super(MultiTaskClassifier, self).__init__()\n",
    "        \n",
    "        self.shared_layer = nn.Sequential(\n",
    "            nn.Linear(input_size, hidden_size * 2),\n",
    "            nn.BatchNorm1d(hidden_size * 2),\n",
    "            nn.ReLU(),\n",
    "            nn.Dropout(dropout_rate)\n",
    "        )\n",
    "        \n",
    "        self.narrative_head = nn.Sequential(\n",
    "            nn.Linear(hidden_size * 2, num_narratives),\n",
    "            nn.Sigmoid()\n",
    "        )\n",
    "        \n",
    "        self.subnarrative_head = nn.Sequential(\n",
    "            nn.Linear(hidden_size * 2, num_subnarratives),\n",
    "            nn.Sigmoid()\n",
    "        )\n",
    "\n",
    "    def forward(self, x):\n",
    "        shared_output = self.shared_layer(x)\n",
    "        narratives = self.narrative_head(shared_output)\n",
    "        subnarratives = self.subnarrative_head(shared_output)\n",
    "        return narratives, subnarratives\n",
    "\n",
    "\n",
    "train_embeddings_tensor = torch.tensor(train_embeddings, dtype=torch.float32)\n",
    "val_embeddings_tensor = torch.tensor(val_embeddings, dtype=torch.float32)\n",
    "model = MultiTaskClassifier(input_size=768, hidden_size=128, num_narratives=len(mlb_narratives.classes_), num_subnarratives=len(mlb_subnarratives.classes_))\n",
    "narratives, subnarratives = model(train_embeddings_tensor)\n",
    "print(narratives.shape, subnarratives.shape)"
   ]
  },
  {
   "cell_type": "code",
   "execution_count": 69,
   "id": "nOitsKhM5h8x",
   "metadata": {
    "colab": {
     "base_uri": "https://localhost:8080/"
    },
    "id": "nOitsKhM5h8x",
    "outputId": "4b00c4a7-a717-4218-c203-c07bee345d3c"
   },
   "outputs": [],
   "source": [
    "y_train_nar = torch.tensor(y_train_nar, dtype=torch.float32)\n",
    "y_train_sub_nar = torch.tensor(y_train_sub_nar, dtype=torch.float32)\n",
    "\n",
    "y_val_nar = torch.tensor(y_val_nar, dtype=torch.float32)\n",
    "y_val_sub_nar = torch.tensor(y_val_sub_nar, dtype=torch.float32)"
   ]
  },
  {
   "cell_type": "code",
   "execution_count": 70,
   "id": "a81953fc-614d-45ae-b944-9e6b4a1147a2",
   "metadata": {},
   "outputs": [],
   "source": [
    "import torch\n",
    "import torch.nn as nn\n",
    "\n",
    "def compute_class_weights(y_train):\n",
    "    total_samples = y_train.shape[0]\n",
    "    class_weights = []\n",
    "    for label in range(y_train.shape[1]):\n",
    "        pos_count = y_train[:, label].sum().item()\n",
    "        neg_count = total_samples - pos_count\n",
    "        pos_weight = total_samples / (2 * pos_count) if pos_count > 0 else 0\n",
    "        neg_weight = total_samples / (2 * neg_count) if neg_count > 0 else 0\n",
    "        class_weights.append((pos_weight, neg_weight))\n",
    "    return class_weights\n",
    "\n",
    "class WeightedBCELoss(nn.Module):\n",
    "    def __init__(self, class_weights):\n",
    "        super().__init__()\n",
    "        self.class_weights = class_weights\n",
    "\n",
    "    def forward(self, probs, targets):\n",
    "        bce_loss = 0\n",
    "        epsilon = 1e-7\n",
    "        for i, (pos_weight, neg_weight) in enumerate(self.class_weights):\n",
    "            prob = probs[:, i] \n",
    "            bce = -pos_weight * targets[:, i] * torch.log(prob + epsilon) - \\\n",
    "                  neg_weight * (1 - targets[:, i]) * torch.log(1 - prob + epsilon)\n",
    "            bce_loss += bce.mean()\n",
    "        return bce_loss / len(self.class_weights)\n",
    "\n",
    "class_weights_nar = compute_class_weights(y_train_nar) \n",
    "narrative_criterion = WeightedBCELoss(class_weights_nar)"
   ]
  },
  {
   "cell_type": "code",
   "execution_count": 71,
   "id": "0a02ea63-d118-4edc-825e-7f8be8e2b226",
   "metadata": {},
   "outputs": [],
   "source": [
    "class_weights_sub_nar = compute_class_weights(y_train_sub_nar) \n",
    "subnarrative_criterion = WeightedBCELoss(class_weights_sub_nar)"
   ]
  },
  {
   "cell_type": "code",
   "execution_count": 72,
   "id": "3b64ea8d-dd07-4cdf-a698-b3c219112634",
   "metadata": {},
   "outputs": [],
   "source": [
    "optimizer = torch.optim.Adam(model.parameters(), lr=0.001)"
   ]
  },
  {
   "cell_type": "code",
   "execution_count": 73,
   "id": "rVhgRH9p4_Lb",
   "metadata": {
    "id": "rVhgRH9p4_Lb"
   },
   "outputs": [],
   "source": [
    "def train_with_early_stopping(\n",
    "    model,\n",
    "    train_embeddings,\n",
    "    y_train_nar,\n",
    "    y_train_sub_nar,\n",
    "    val_embeddings,\n",
    "    y_val_nar,\n",
    "    y_val_sub_nar,\n",
    "    optimizer,\n",
    "    narrative_criterion,\n",
    "    subnarrative_criterion,\n",
    "    patience=3,\n",
    "    num_epochs=100,\n",
    "):\n",
    "    best_val_loss = float('inf')\n",
    "    best_model = None\n",
    "    patience_counter = 0\n",
    "\n",
    "    for epoch in range(num_epochs):\n",
    "        model.train()\n",
    "        narratives, subnarratives = model(train_embeddings)\n",
    "\n",
    "        narrative_loss = narrative_criterion(narratives, y_train_nar)\n",
    "        subnarrative_loss = subnarrative_criterion(subnarratives, y_train_sub_nar)\n",
    "        loss = narrative_loss + subnarrative_loss\n",
    "\n",
    "        optimizer.zero_grad()\n",
    "        loss.backward()\n",
    "        optimizer.step()\n",
    "\n",
    "        model.eval()\n",
    "        with torch.no_grad():\n",
    "            val_narratives, val_subnarratives = model(val_embeddings)\n",
    "            val_narrative_loss = narrative_criterion(val_narratives, y_val_nar)\n",
    "            val_subnarrative_loss = subnarrative_criterion(val_subnarratives, y_val_sub_nar)\n",
    "            val_loss = val_narrative_loss + val_subnarrative_loss\n",
    "\n",
    "        print(f\"Epoch {epoch+1}/{num_epochs}, \"\n",
    "              f\"Training Loss: {loss.item():.4f} \"\n",
    "              f\"(Narrative: {narrative_loss.item():.4f}, Subnarrative: {subnarrative_loss.item():.4f}), \"\n",
    "              f\"Validation Loss: {val_loss.item():.4f} \"\n",
    "              f\"(Narrative: {val_narrative_loss.item():.4f}, Subnarrative: {val_subnarrative_loss.item():.4f})\")\n",
    "\n",
    "        if val_loss.item() < best_val_loss:\n",
    "            best_val_loss = val_loss.item()\n",
    "            patience_counter = 0\n",
    "            best_model = model.state_dict()\n",
    "        else:\n",
    "            patience_counter += 1\n",
    "            print(f\"Validation loss did not improve for {patience_counter} epoch(s).\")\n",
    "\n",
    "        if patience_counter >= patience:\n",
    "            print(\"Early stopping triggered.\")\n",
    "            break\n",
    "\n",
    "    if best_model:\n",
    "        model.load_state_dict(best_model)\n",
    "\n",
    "    return model"
   ]
  },
  {
   "cell_type": "code",
   "execution_count": 74,
   "id": "fc9roXSy9dpk",
   "metadata": {
    "colab": {
     "base_uri": "https://localhost:8080/"
    },
    "id": "fc9roXSy9dpk",
    "outputId": "faf121cf-15fb-4d8e-bbe2-9ee513f99e7d"
   },
   "outputs": [
    {
     "name": "stdout",
     "output_type": "stream",
     "text": [
      "Epoch 1/100, Training Loss: 1.4255 (Narrative: 0.7155, Subnarrative: 0.7100), Validation Loss: 1.4718 (Narrative: 0.7296, Subnarrative: 0.7422)\n",
      "Epoch 2/100, Training Loss: 1.2901 (Narrative: 0.6360, Subnarrative: 0.6540), Validation Loss: 1.4600 (Narrative: 0.7213, Subnarrative: 0.7387)\n",
      "Epoch 3/100, Training Loss: 1.2029 (Narrative: 0.5887, Subnarrative: 0.6141), Validation Loss: 1.4470 (Narrative: 0.7128, Subnarrative: 0.7342)\n",
      "Epoch 4/100, Training Loss: 1.1434 (Narrative: 0.5567, Subnarrative: 0.5867), Validation Loss: 1.4328 (Narrative: 0.7041, Subnarrative: 0.7287)\n",
      "Epoch 5/100, Training Loss: 1.0956 (Narrative: 0.5331, Subnarrative: 0.5625), Validation Loss: 1.4174 (Narrative: 0.6953, Subnarrative: 0.7221)\n",
      "Epoch 6/100, Training Loss: 1.0545 (Narrative: 0.5141, Subnarrative: 0.5404), Validation Loss: 1.4011 (Narrative: 0.6864, Subnarrative: 0.7147)\n",
      "Epoch 7/100, Training Loss: 1.0208 (Narrative: 0.4978, Subnarrative: 0.5230), Validation Loss: 1.3843 (Narrative: 0.6776, Subnarrative: 0.7067)\n",
      "Epoch 8/100, Training Loss: 0.9921 (Narrative: 0.4836, Subnarrative: 0.5085), Validation Loss: 1.3673 (Narrative: 0.6688, Subnarrative: 0.6985)\n",
      "Epoch 9/100, Training Loss: 0.9593 (Narrative: 0.4678, Subnarrative: 0.4916), Validation Loss: 1.3502 (Narrative: 0.6602, Subnarrative: 0.6900)\n",
      "Epoch 10/100, Training Loss: 0.9366 (Narrative: 0.4579, Subnarrative: 0.4786), Validation Loss: 1.3332 (Narrative: 0.6517, Subnarrative: 0.6815)\n",
      "Epoch 11/100, Training Loss: 0.9124 (Narrative: 0.4465, Subnarrative: 0.4659), Validation Loss: 1.3164 (Narrative: 0.6435, Subnarrative: 0.6729)\n",
      "Epoch 12/100, Training Loss: 0.8884 (Narrative: 0.4358, Subnarrative: 0.4526), Validation Loss: 1.3000 (Narrative: 0.6357, Subnarrative: 0.6643)\n",
      "Epoch 13/100, Training Loss: 0.8654 (Narrative: 0.4248, Subnarrative: 0.4405), Validation Loss: 1.2843 (Narrative: 0.6282, Subnarrative: 0.6561)\n",
      "Epoch 14/100, Training Loss: 0.8457 (Narrative: 0.4148, Subnarrative: 0.4310), Validation Loss: 1.2693 (Narrative: 0.6210, Subnarrative: 0.6483)\n",
      "Epoch 15/100, Training Loss: 0.8252 (Narrative: 0.4057, Subnarrative: 0.4195), Validation Loss: 1.2549 (Narrative: 0.6140, Subnarrative: 0.6409)\n",
      "Epoch 16/100, Training Loss: 0.8047 (Narrative: 0.3961, Subnarrative: 0.4086), Validation Loss: 1.2406 (Narrative: 0.6069, Subnarrative: 0.6336)\n",
      "Epoch 17/100, Training Loss: 0.7907 (Narrative: 0.3900, Subnarrative: 0.4007), Validation Loss: 1.2260 (Narrative: 0.5995, Subnarrative: 0.6265)\n",
      "Epoch 18/100, Training Loss: 0.7704 (Narrative: 0.3803, Subnarrative: 0.3901), Validation Loss: 1.2110 (Narrative: 0.5918, Subnarrative: 0.6192)\n",
      "Epoch 19/100, Training Loss: 0.7589 (Narrative: 0.3764, Subnarrative: 0.3825), Validation Loss: 1.1955 (Narrative: 0.5836, Subnarrative: 0.6119)\n",
      "Epoch 20/100, Training Loss: 0.7429 (Narrative: 0.3684, Subnarrative: 0.3746), Validation Loss: 1.1793 (Narrative: 0.5748, Subnarrative: 0.6045)\n",
      "Epoch 21/100, Training Loss: 0.7255 (Narrative: 0.3591, Subnarrative: 0.3664), Validation Loss: 1.1628 (Narrative: 0.5659, Subnarrative: 0.5969)\n",
      "Epoch 22/100, Training Loss: 0.7091 (Narrative: 0.3541, Subnarrative: 0.3550), Validation Loss: 1.1467 (Narrative: 0.5570, Subnarrative: 0.5897)\n",
      "Epoch 23/100, Training Loss: 0.6942 (Narrative: 0.3450, Subnarrative: 0.3492), Validation Loss: 1.1306 (Narrative: 0.5481, Subnarrative: 0.5826)\n",
      "Epoch 24/100, Training Loss: 0.6795 (Narrative: 0.3390, Subnarrative: 0.3405), Validation Loss: 1.1152 (Narrative: 0.5395, Subnarrative: 0.5757)\n",
      "Epoch 25/100, Training Loss: 0.6738 (Narrative: 0.3358, Subnarrative: 0.3380), Validation Loss: 1.1001 (Narrative: 0.5312, Subnarrative: 0.5689)\n",
      "Epoch 26/100, Training Loss: 0.6590 (Narrative: 0.3308, Subnarrative: 0.3282), Validation Loss: 1.0859 (Narrative: 0.5234, Subnarrative: 0.5625)\n",
      "Epoch 27/100, Training Loss: 0.6482 (Narrative: 0.3257, Subnarrative: 0.3226), Validation Loss: 1.0723 (Narrative: 0.5159, Subnarrative: 0.5564)\n",
      "Epoch 28/100, Training Loss: 0.6324 (Narrative: 0.3174, Subnarrative: 0.3150), Validation Loss: 1.0587 (Narrative: 0.5087, Subnarrative: 0.5500)\n",
      "Epoch 29/100, Training Loss: 0.6262 (Narrative: 0.3141, Subnarrative: 0.3121), Validation Loss: 1.0459 (Narrative: 0.5021, Subnarrative: 0.5438)\n",
      "Epoch 30/100, Training Loss: 0.6119 (Narrative: 0.3087, Subnarrative: 0.3031), Validation Loss: 1.0335 (Narrative: 0.4956, Subnarrative: 0.5378)\n",
      "Epoch 31/100, Training Loss: 0.6024 (Narrative: 0.3045, Subnarrative: 0.2979), Validation Loss: 1.0223 (Narrative: 0.4900, Subnarrative: 0.5324)\n",
      "Epoch 32/100, Training Loss: 0.5925 (Narrative: 0.2995, Subnarrative: 0.2930), Validation Loss: 1.0131 (Narrative: 0.4853, Subnarrative: 0.5278)\n",
      "Epoch 33/100, Training Loss: 0.5847 (Narrative: 0.2957, Subnarrative: 0.2889), Validation Loss: 1.0058 (Narrative: 0.4816, Subnarrative: 0.5243)\n",
      "Epoch 34/100, Training Loss: 0.5723 (Narrative: 0.2915, Subnarrative: 0.2808), Validation Loss: 1.0001 (Narrative: 0.4788, Subnarrative: 0.5214)\n",
      "Epoch 35/100, Training Loss: 0.5654 (Narrative: 0.2881, Subnarrative: 0.2772), Validation Loss: 0.9954 (Narrative: 0.4762, Subnarrative: 0.5192)\n",
      "Epoch 36/100, Training Loss: 0.5574 (Narrative: 0.2838, Subnarrative: 0.2735), Validation Loss: 0.9912 (Narrative: 0.4736, Subnarrative: 0.5176)\n",
      "Epoch 37/100, Training Loss: 0.5463 (Narrative: 0.2777, Subnarrative: 0.2687), Validation Loss: 0.9869 (Narrative: 0.4709, Subnarrative: 0.5160)\n",
      "Epoch 38/100, Training Loss: 0.5435 (Narrative: 0.2757, Subnarrative: 0.2679), Validation Loss: 0.9825 (Narrative: 0.4682, Subnarrative: 0.5143)\n",
      "Epoch 39/100, Training Loss: 0.5252 (Narrative: 0.2672, Subnarrative: 0.2580), Validation Loss: 0.9786 (Narrative: 0.4659, Subnarrative: 0.5127)\n",
      "Epoch 40/100, Training Loss: 0.5238 (Narrative: 0.2685, Subnarrative: 0.2553), Validation Loss: 0.9747 (Narrative: 0.4637, Subnarrative: 0.5110)\n",
      "Epoch 41/100, Training Loss: 0.5144 (Narrative: 0.2628, Subnarrative: 0.2515), Validation Loss: 0.9711 (Narrative: 0.4615, Subnarrative: 0.5096)\n",
      "Epoch 42/100, Training Loss: 0.5055 (Narrative: 0.2586, Subnarrative: 0.2469), Validation Loss: 0.9683 (Narrative: 0.4601, Subnarrative: 0.5082)\n",
      "Epoch 43/100, Training Loss: 0.5019 (Narrative: 0.2570, Subnarrative: 0.2449), Validation Loss: 0.9675 (Narrative: 0.4598, Subnarrative: 0.5077)\n",
      "Epoch 44/100, Training Loss: 0.4943 (Narrative: 0.2536, Subnarrative: 0.2407), Validation Loss: 0.9662 (Narrative: 0.4596, Subnarrative: 0.5066)\n",
      "Epoch 45/100, Training Loss: 0.4867 (Narrative: 0.2501, Subnarrative: 0.2366), Validation Loss: 0.9657 (Narrative: 0.4598, Subnarrative: 0.5059)\n",
      "Epoch 46/100, Training Loss: 0.4811 (Narrative: 0.2472, Subnarrative: 0.2338), Validation Loss: 0.9649 (Narrative: 0.4597, Subnarrative: 0.5052)\n",
      "Epoch 47/100, Training Loss: 0.4780 (Narrative: 0.2454, Subnarrative: 0.2326), Validation Loss: 0.9647 (Narrative: 0.4598, Subnarrative: 0.5049)\n",
      "Epoch 48/100, Training Loss: 0.4664 (Narrative: 0.2403, Subnarrative: 0.2261), Validation Loss: 0.9676 (Narrative: 0.4613, Subnarrative: 0.5063)\n",
      "Validation loss did not improve for 1 epoch(s).\n",
      "Epoch 49/100, Training Loss: 0.4590 (Narrative: 0.2367, Subnarrative: 0.2223), Validation Loss: 0.9733 (Narrative: 0.4642, Subnarrative: 0.5090)\n",
      "Validation loss did not improve for 2 epoch(s).\n",
      "Epoch 50/100, Training Loss: 0.4542 (Narrative: 0.2349, Subnarrative: 0.2193), Validation Loss: 0.9771 (Narrative: 0.4663, Subnarrative: 0.5108)\n",
      "Validation loss did not improve for 3 epoch(s).\n",
      "Early stopping triggered.\n"
     ]
    }
   ],
   "source": [
    "trained_model = train_with_early_stopping(\n",
    "    model=model,\n",
    "    train_embeddings=train_embeddings_tensor,\n",
    "    y_train_nar=y_train_nar,\n",
    "    y_train_sub_nar=y_train_sub_nar,\n",
    "    val_embeddings=val_embeddings_tensor,\n",
    "    y_val_nar=y_val_nar,\n",
    "    y_val_sub_nar=y_val_sub_nar,\n",
    "    optimizer=optimizer,\n",
    "    narrative_criterion=narrative_criterion,\n",
    "    subnarrative_criterion=subnarrative_criterion,\n",
    "    patience=3\n",
    ")"
   ]
  },
  {
   "cell_type": "code",
   "execution_count": 75,
   "id": "-juzKxBj5rCX",
   "metadata": {
    "id": "-juzKxBj5rCX"
   },
   "outputs": [],
   "source": [
    "from sklearn.metrics import classification_report, f1_score\n",
    "\n",
    "def evaluate_model(\n",
    "    model,\n",
    "    embeddings,\n",
    "    y_nar_true,\n",
    "    y_sub_nar_true,\n",
    "    thresholds=np.arange(0.1, 1.0, 0.1),\n",
    "    target_names_nar=None,\n",
    "    target_names_sub=None\n",
    "):\n",
    "    best_threshold = 0\n",
    "    best_f1 = 0\n",
    "    best_classification_report_nar = None\n",
    "    best_classification_report_sub = None\n",
    "\n",
    "    for threshold in thresholds:\n",
    "        with torch.no_grad():\n",
    "            nar_pred_logits, sub_nar_pred_logits = model(embeddings)\n",
    "            \n",
    "            nar_predictions = (nar_pred_logits >= threshold).int().cpu().numpy()\n",
    "            sub_nar_predictions = (sub_nar_pred_logits >= threshold).int().cpu().numpy()\n",
    "            \n",
    "            y_nar_true_np = y_nar_true.cpu().numpy()\n",
    "            y_sub_nar_true_np = y_sub_nar_true.cpu().numpy()\n",
    "            \n",
    "            classification_rep_nar = classification_report(\n",
    "                y_nar_true_np, nar_predictions, target_names=target_names_nar, zero_division=0\n",
    "            )\n",
    "            classification_rep_sub = classification_report(\n",
    "                y_sub_nar_true_np, sub_nar_predictions, target_names=target_names_sub, zero_division=0\n",
    "            )\n",
    "            f1_nar = f1_score(y_nar_true_np, nar_predictions, average='macro')\n",
    "            f1_sub = f1_score(y_sub_nar_true_np, sub_nar_predictions, average='macro')\n",
    "            \n",
    "            avg_f1 = (f1_nar + f1_sub) / 2\n",
    "            \n",
    "            if avg_f1 > best_f1:\n",
    "                best_f1 = avg_f1\n",
    "                best_threshold = threshold\n",
    "                best_classification_report_nar = classification_rep_nar\n",
    "                best_classification_report_sub = classification_rep_sub\n",
    "\n",
    "    print(f\"Best Threshold: {best_threshold}, Best F1 Score: {best_f1}\")\n",
    "    print(\"\\nBest Narratives Classification Report:\")\n",
    "    print(best_classification_report_nar)\n",
    "    print(\"\\nBest Sub-Narratives Classification Report:\")\n",
    "    print(best_classification_report_sub)"
   ]
  },
  {
   "cell_type": "code",
   "execution_count": 76,
   "id": "HCh7iqGn6GlN",
   "metadata": {
    "colab": {
     "base_uri": "https://localhost:8080/"
    },
    "id": "HCh7iqGn6GlN",
    "outputId": "68ab85eb-eacd-49cf-dc3f-c79996947a00"
   },
   "outputs": [
    {
     "name": "stdout",
     "output_type": "stream",
     "text": [
      "Best Threshold: 0.6, Best F1 Score: 0.3765128675667295\n",
      "\n",
      "Best Narratives Classification Report:\n",
      "                                                   precision    recall  f1-score   support\n",
      "\n",
      "                         Amplifying Climate Fears       0.79      1.00      0.88        45\n",
      "                     Amplifying war-related fears       0.67      0.67      0.67        48\n",
      "Blaming the war on others rather than the invader       0.38      0.62      0.47        37\n",
      "                     Climate change is beneficial       0.33      0.50      0.40         4\n",
      "             Controversy about green technologies       0.26      0.83      0.40         6\n",
      "                    Criticism of climate movement       0.45      0.67      0.54        15\n",
      "                    Criticism of climate policies       0.35      0.71      0.47        17\n",
      "        Criticism of institutions and authorities       0.58      0.81      0.68        32\n",
      "                             Discrediting Ukraine       0.60      0.68      0.64        76\n",
      "                 Discrediting the West, Diplomacy       0.49      0.64      0.56        59\n",
      "                           Distrust towards Media       0.33      0.33      0.33         9\n",
      "                       Downplaying climate change       0.44      0.70      0.54        10\n",
      "      Green policies are geopolitical instruments       0.20      0.50      0.29         2\n",
      "Hidden plots by secret schemes of powerful groups       0.44      0.50      0.47        14\n",
      "               Negative Consequences for the West       0.24      0.38      0.29        21\n",
      "                                            Other       0.66      0.53      0.59        66\n",
      "                            Overpraising the West       0.07      0.11      0.08         9\n",
      "                                 Praise of Russia       0.51      0.59      0.55        69\n",
      "         Questioning the measurements and science       0.71      0.83      0.77         6\n",
      "                             Russia is the Victim       0.47      0.57      0.52        44\n",
      "                         Speculating war outcomes       0.22      0.42      0.29        24\n",
      "\n",
      "                                        micro avg       0.49      0.63      0.55       613\n",
      "                                        macro avg       0.44      0.60      0.50       613\n",
      "                                     weighted avg       0.52      0.63      0.56       613\n",
      "                                      samples avg       0.52      0.66      0.54       613\n",
      "\n",
      "\n",
      "Best Sub-Narratives Classification Report:\n",
      "                                                                        precision    recall  f1-score   support\n",
      "\n",
      "                                   Ad hominem attacks on key activists       0.10      0.50      0.17         4\n",
      "                           Amplifying existing fears of global warming       0.74      0.94      0.83        36\n",
      "                                                 Blaming global elites       0.27      0.80      0.40         5\n",
      "                                   By continuing the war we risk WWIII       0.21      0.54      0.30        13\n",
      "                    CO2 concentrations are too small to have an impact       0.00      0.00      0.00         2\n",
      "                                                     CO2 is beneficial       0.14      0.50      0.22         2\n",
      "                                     Climate agenda has hidden motives       0.32      0.86      0.46         7\n",
      "                                            Climate cycles are natural       0.17      0.67      0.27         3\n",
      "                                          Climate movement is alarmist       0.25      0.71      0.37         7\n",
      "                                           Climate movement is corrupt       0.14      0.67      0.24         3\n",
      "                                      Climate policies are ineffective       0.14      0.57      0.23         7\n",
      "                                  Climate policies are only for profit       0.17      0.75      0.27         4\n",
      "                  Climate policies have negative impact on the economy       0.26      0.67      0.38         9\n",
      "      Climate-related international relations are abusive/exploitative       0.00      0.00      0.00         1\n",
      "                                   Criticism of international entities       0.19      0.83      0.31         6\n",
      "                                     Criticism of national governments       0.33      0.76      0.46        17\n",
      "                      Criticism of political organizations and figures       0.35      0.87      0.50        15\n",
      "                                                   Criticism of the EU       0.00      0.00      0.00         2\n",
      "                                    Data shows no temperature increase       0.50      1.00      0.67         1\n",
      "                                          Diplomacy does/will not work       0.16      0.33      0.21         9\n",
      "          Discrediting Ukrainian government and officials and policies       0.36      0.52      0.43        31\n",
      "                                       Discrediting Ukrainian military       0.26      0.65      0.37        20\n",
      "                             Discrediting Ukrainian nation and society       0.00      0.00      0.00         2\n",
      "                                         Doomsday scenarios for humans       0.18      0.88      0.30         8\n",
      "                                      Earth will be uninhabitable soon       0.07      0.40      0.12         5\n",
      "                        Green activities are a form of neo-colonialism       0.50      1.00      0.67         1\n",
      "          Greenhouse effect/carbon dioxide do not drive climate change       0.00      0.00      0.00         0\n",
      "                         Human activities do not impact climate change       0.20      1.00      0.33         2\n",
      "                           Humans and nature will adapt to the changes       0.50      1.00      0.67         1\n",
      "                                                    Ice is not melting       0.00      0.00      0.00         1\n",
      "                      Methodologies/metrics used are unreliable/faulty       0.22      1.00      0.36         2\n",
      "                                   NATO should/will directly intervene       0.16      0.50      0.24         6\n",
      "                                              NATO will destroy Russia       0.00      0.00      0.00         2\n",
      "                                                                 Other       0.75      0.24      0.36       187\n",
      "                            Praise of Russian President Vladimir Putin       0.16      0.44      0.24         9\n",
      "                                      Praise of Russian military might       0.37      0.62      0.46        29\n",
      "                                            Renewable energy is costly       0.38      1.00      0.55         3\n",
      "                                         Renewable energy is dangerous       0.14      0.50      0.22         2\n",
      "                                        Renewable energy is unreliable       0.25      1.00      0.40         3\n",
      "                                           Rewriting Ukraine’s history       0.00      0.00      0.00         1\n",
      "                       Russia actions in Ukraine are only self-defence       0.24      0.64      0.35        14\n",
      "Russia has international support from a number of countries and people       0.32      0.44      0.37        16\n",
      "                         Russia is a guarantor of peace and prosperity       0.22      0.47      0.30        19\n",
      "                               Russia will also attack other countries       0.20      0.55      0.29        11\n",
      "                                            Russian army is collapsing       0.14      0.25      0.18         4\n",
      "                   Russian army will lose all the occupied territories       0.00      0.00      0.00         1\n",
      "                          Russian invasion has strong national support       0.00      0.00      0.00         2\n",
      "                  Sanctions imposed by Western countries will backfire       0.08      0.14      0.11         7\n",
      "                                    Scientific community is unreliable       0.43      0.60      0.50         5\n",
      "                                             Sea levels are not rising       0.00      0.00      0.00         2\n",
      "                                      Situation in Ukraine is hopeless       0.15      0.33      0.21        12\n",
      "                 Temperature increase does not have significant impact       0.00      0.00      0.00         1\n",
      "                                    Temperature increase is beneficial       0.25      0.50      0.33         2\n",
      "                                                     The EU is divided       0.24      0.62      0.34         8\n",
      "                                           The West are the aggressors       0.25      0.57      0.35        23\n",
      "                         The West belongs in the right side of history       0.17      0.25      0.20         4\n",
      "        The West does not care about Ukraine, only about its interests       0.19      0.35      0.24        17\n",
      "                      The West has the strongest international support       0.00      0.00      0.00         4\n",
      "                                              The West is overreacting       0.00      0.00      0.00         2\n",
      "                                               The West is russophobic       0.07      0.14      0.09        14\n",
      "                                                      The West is weak       0.19      0.42      0.26        12\n",
      "      The conflict will increase the Ukrainian refugee flows to Europe       0.00      0.00      0.00         1\n",
      "     There is a real possibility that nuclear weapons will be employed       0.47      0.79      0.59        19\n",
      "                                              UA is anti-RU extremists       0.17      0.50      0.25         4\n",
      "                              Ukraine is a hub for criminal activities       0.22      0.62      0.32         8\n",
      "                                       Ukraine is a puppet of the West       0.21      0.57      0.30        21\n",
      "                                     Ukraine is associated with nazism       0.13      0.50      0.21         8\n",
      "                                              Ukraine is the aggressor       0.31      0.62      0.42        16\n",
      "                                          Ukrainian army is collapsing       0.09      0.25      0.13         8\n",
      "                                     Ukrainian media cannot be trusted       0.00      0.00      0.00         1\n",
      "                          Weather suggests the trend is global cooling       0.00      0.00      0.00         0\n",
      "                                              West is tired of Ukraine       0.21      0.60      0.32         5\n",
      "                          Western media is an instrument of propaganda       0.33      0.38      0.35         8\n",
      "                                 Whatever we do it is already too late       0.00      0.00      0.00         2\n",
      "\n",
      "                                                             micro avg       0.26      0.48      0.34       749\n",
      "                                                             macro avg       0.19      0.46      0.26       749\n",
      "                                                          weighted avg       0.39      0.48      0.36       749\n",
      "                                                           samples avg       0.26      0.49      0.31       749\n",
      "\n"
     ]
    },
    {
     "name": "stderr",
     "output_type": "stream",
     "text": [
      "/Library/Frameworks/Python.framework/Versions/3.12/lib/python3.12/site-packages/sklearn/metrics/_classification.py:1517: UndefinedMetricWarning: F-score is ill-defined and being set to 0.0 in labels with no true nor predicted samples. Use `zero_division` parameter to control this behavior.\n",
      "  _warn_prf(average, modifier, f\"{metric.capitalize()} is\", len(result))\n",
      "/Library/Frameworks/Python.framework/Versions/3.12/lib/python3.12/site-packages/sklearn/metrics/_classification.py:1517: UndefinedMetricWarning: F-score is ill-defined and being set to 0.0 in labels with no true nor predicted samples. Use `zero_division` parameter to control this behavior.\n",
      "  _warn_prf(average, modifier, f\"{metric.capitalize()} is\", len(result))\n",
      "/Library/Frameworks/Python.framework/Versions/3.12/lib/python3.12/site-packages/sklearn/metrics/_classification.py:1517: UndefinedMetricWarning: F-score is ill-defined and being set to 0.0 in labels with no true nor predicted samples. Use `zero_division` parameter to control this behavior.\n",
      "  _warn_prf(average, modifier, f\"{metric.capitalize()} is\", len(result))\n",
      "/Library/Frameworks/Python.framework/Versions/3.12/lib/python3.12/site-packages/sklearn/metrics/_classification.py:1517: UndefinedMetricWarning: F-score is ill-defined and being set to 0.0 in labels with no true nor predicted samples. Use `zero_division` parameter to control this behavior.\n",
      "  _warn_prf(average, modifier, f\"{metric.capitalize()} is\", len(result))\n"
     ]
    }
   ],
   "source": [
    "target_names_nar = mlb_narratives.classes_\n",
    "target_names_sub = mlb_subnarratives.classes_\n",
    "\n",
    "evaluate_model(\n",
    "    model=model,\n",
    "    embeddings=val_embeddings_tensor,\n",
    "    y_nar_true=y_val_nar,\n",
    "    y_sub_nar_true=y_val_sub_nar,\n",
    "    target_names_nar=target_names_nar,\n",
    "    target_names_sub=target_names_sub\n",
    ")"
   ]
  },
  {
   "cell_type": "code",
   "execution_count": 77,
   "id": "1848f99d-941e-440c-87cd-2339d9fb3ca5",
   "metadata": {},
   "outputs": [
    {
     "name": "stdout",
     "output_type": "stream",
     "text": [
      "Model saved to multi_task_model_eval.pth\n"
     ]
    }
   ],
   "source": [
    "import torch\n",
    "\n",
    "save_path = \"multi_task_model_eval.pth\"\n",
    "\n",
    "torch.save({\n",
    "    'model_state_dict': model.state_dict(),\n",
    "    'input_size': 768,\n",
    "    'hidden_size': 128,\n",
    "    'num_narratives': len(mlb_narratives.classes_),\n",
    "    'num_subnarratives': len(mlb_subnarratives.classes_),\n",
    "    'dropout_rate': 0.3\n",
    "}, save_path)\n",
    "\n",
    "print(f\"Model saved to {save_path}\")"
   ]
  },
  {
   "cell_type": "code",
   "execution_count": 78,
   "id": "725c84f8-9bd1-456b-bafa-f3b8f5b41ab5",
   "metadata": {},
   "outputs": [
    {
     "data": {
      "text/plain": [
       "array(['Amplifying Climate Fears', 'Amplifying war-related fears',\n",
       "       'Blaming the war on others rather than the invader',\n",
       "       'Climate change is beneficial',\n",
       "       'Controversy about green technologies',\n",
       "       'Criticism of climate movement', 'Criticism of climate policies',\n",
       "       'Criticism of institutions and authorities',\n",
       "       'Discrediting Ukraine', 'Discrediting the West, Diplomacy',\n",
       "       'Distrust towards Media', 'Downplaying climate change',\n",
       "       'Green policies are geopolitical instruments',\n",
       "       'Hidden plots by secret schemes of powerful groups',\n",
       "       'Negative Consequences for the West', 'Other',\n",
       "       'Overpraising the West', 'Praise of Russia',\n",
       "       'Questioning the measurements and science', 'Russia is the Victim',\n",
       "       'Speculating war outcomes'], dtype=object)"
      ]
     },
     "execution_count": 78,
     "metadata": {},
     "output_type": "execute_result"
    }
   ],
   "source": [
    "mlb_narratives.classes_"
   ]
  },
  {
   "cell_type": "code",
   "execution_count": 79,
   "id": "a56bee22-7411-429c-9901-0a0e7ef7bd07",
   "metadata": {},
   "outputs": [
    {
     "data": {
      "text/plain": [
       "['mlb_subnarratives.pkl']"
      ]
     },
     "execution_count": 79,
     "metadata": {},
     "output_type": "execute_result"
    }
   ],
   "source": [
    "import joblib\n",
    "\n",
    "joblib.dump(mlb_narratives, 'mlb_narratives.pkl')\n",
    "joblib.dump(mlb_subnarratives, 'mlb_subnarratives.pkl')"
   ]
  },
  {
   "cell_type": "markdown",
   "id": "5wjfFFe9oKmk",
   "metadata": {
    "id": "5wjfFFe9oKmk"
   },
   "source": [
    "### Fine-tuning Roberta to predict narratives"
   ]
  },
  {
   "cell_type": "code",
   "execution_count": null,
   "id": "ftez35ttBi3U",
   "metadata": {
    "id": "ftez35ttBi3U"
   },
   "outputs": [],
   "source": [
    "from transformers import XLMRobertaTokenizer\n",
    "\n",
    "tokenizer = XLMRobertaTokenizer.from_pretrained(\"xlm-roberta-base\")\n",
    "\n",
    "def tokenize_data(entity_contexts, max_length=512):\n",
    "    encodings = tokenizer(entity_contexts, truncation=True, padding=True, max_length=max_length, return_tensors=\"pt\")\n",
    "    return encodings\n",
    "\n",
    "train_encodings = tokenize_data(dataset_train['content'].tolist())\n",
    "val_encodings = tokenize_data(dataset_val['content'].tolist())"
   ]
  },
  {
   "cell_type": "code",
   "execution_count": null,
   "id": "ba757bab-e8f7-4259-aa20-b4435d93eac4",
   "metadata": {
    "colab": {
     "base_uri": "https://localhost:8080/"
    },
    "id": "ba757bab-e8f7-4259-aa20-b4435d93eac4",
    "outputId": "2b9744cc-6b9c-45ba-e4c3-2bb900f392a6"
   },
   "outputs": [],
   "source": [
    "train_narrative_truths = dataset_train['narratives_encoded'].tolist()\n",
    "\n",
    "train_narrative_truths[:5]\n",
    "\n",
    "\n",
    "val_narrative_truths = dataset_val['narratives_encoded'].tolist()\n",
    "\n",
    "val_narrative_truths[:5]"
   ]
  },
  {
   "cell_type": "code",
   "execution_count": null,
   "id": "4ea5c16d-3358-4e56-99c2-a86c9dfe07cc",
   "metadata": {
    "id": "4ea5c16d-3358-4e56-99c2-a86c9dfe07cc"
   },
   "outputs": [],
   "source": [
    "import torch\n",
    "from torch import nn\n",
    "import torch.optim as optim\n",
    "from torch.utils.data import DataLoader, Dataset\n",
    "\n",
    "model_config = {\n",
    "    'batch_size': 8,\n",
    "    'num_epochs': 10,\n",
    "    'lr': 3e-5,\n",
    "}"
   ]
  },
  {
   "cell_type": "code",
   "execution_count": null,
   "id": "Vz6V7qiuZ9D8",
   "metadata": {
    "id": "Vz6V7qiuZ9D8"
   },
   "outputs": [],
   "source": [
    "from transformers import XLMRobertaModel\n",
    "\n",
    "class NarrativeClassificationRoberta(nn.Module):\n",
    "    def __init__(self, narrative_classes):\n",
    "        super(NarrativeClassificationRoberta, self).__init__()\n",
    "        self.narrative_classes = narrative_classes\n",
    "        self.backbone = XLMRobertaModel.from_pretrained(\"xlm-roberta-base\")\n",
    "        self.classifier = nn.Linear(self.backbone.config.hidden_size, narrative_classes)\n",
    "\n",
    "    def forward(self, input_ids, attention_mask):\n",
    "        outputs = self.backbone(input_ids=input_ids, attention_mask=attention_mask)\n",
    "        pooled_output = outputs.last_hidden_state[:, 0]\n",
    "\n",
    "        narrative_logits = self.classifier(pooled_output)\n",
    "\n",
    "        return narrative_logits\n",
    "\n",
    "narrative_classifier_roberta = NarrativeClassificationRoberta(narrative_classes=len(mlb_narratives.classes_))"
   ]
  },
  {
   "cell_type": "code",
   "execution_count": null,
   "id": "gN_GDQyTbdl_",
   "metadata": {
    "id": "gN_GDQyTbdl_"
   },
   "outputs": [],
   "source": [
    "class NarrativesDataset(Dataset):\n",
    "    def __init__(self, encodings, narrative_labels):\n",
    "        self.encodings = encodings\n",
    "        self.narrative_labels = narrative_labels\n",
    "\n",
    "    def __getitem__(self, idx):\n",
    "        item = {key: val[idx].clone().detach() for key, val in self.encodings.items()}\n",
    "        item['narrative_labels'] = torch.tensor(self.narrative_labels[idx], dtype=torch.float)\n",
    "        return item\n",
    "\n",
    "    def __len__(self):\n",
    "        return len(self.narrative_labels)\n",
    "\n",
    "train_dataset_nar = NarrativesDataset(\n",
    "    train_encodings,\n",
    "    dataset_train['narratives_encoded'].tolist(),\n",
    ")\n",
    "\n",
    "val_dataset_nar = NarrativesDataset(\n",
    "    val_encodings,\n",
    "    dataset_val['narratives_encoded'].tolist(),\n",
    ")\n",
    "\n",
    "train_loader_nar = DataLoader(train_dataset_nar, batch_size=model_config['batch_size'], shuffle=True)\n",
    "val_loader_nar = DataLoader(val_dataset_nar, batch_size=model_config['batch_size'], shuffle=False)"
   ]
  },
  {
   "cell_type": "code",
   "execution_count": null,
   "id": "-EA9J70_bdl_",
   "metadata": {
    "id": "-EA9J70_bdl_"
   },
   "outputs": [],
   "source": [
    "device = torch.device(\"cuda\" if torch.cuda.is_available() else \"cpu\")\n",
    "optimizer_nar = optim.AdamW(narrative_classifier_roberta.parameters(), lr=model_config['lr'])\n",
    "\n",
    "narrative_classifier_roberta.to(device)"
   ]
  },
  {
   "cell_type": "code",
   "execution_count": null,
   "id": "xeUrHUa8jMpb",
   "metadata": {
    "id": "xeUrHUa8jMpb"
   },
   "outputs": [],
   "source": [
    "from torch.nn.functional import binary_cross_entropy_with_logits\n",
    "\n",
    "def bce_with_weights(outputs, targets, weights=None):\n",
    "    criterion = torch.nn.BCEWithLogitsLoss(reduction='none')\n",
    "    loss = criterion(outputs, targets)\n",
    "\n",
    "    if weights is not None:\n",
    "        weights = weights.to(outputs.device)\n",
    "        loss = loss * weights\n",
    "\n",
    "    loss = loss.mean()\n",
    "    return loss, loss.item()"
   ]
  },
  {
   "cell_type": "code",
   "execution_count": null,
   "id": "XR-hwtcVc8BT",
   "metadata": {
    "id": "XR-hwtcVc8BT"
   },
   "outputs": [],
   "source": [
    "from transformers import get_linear_schedule_with_warmup\n",
    "\n",
    "total_steps = len(train_loader_nar) * model_config['num_epochs']\n",
    "warmup_steps = int(0.1 * total_steps)\n",
    "scheduler = get_linear_schedule_with_warmup(optimizer_nar, num_warmup_steps=warmup_steps, num_training_steps=total_steps)"
   ]
  },
  {
   "cell_type": "code",
   "execution_count": null,
   "id": "OMSL3oxojAdA",
   "metadata": {
    "id": "OMSL3oxojAdA"
   },
   "outputs": [],
   "source": [
    "import torch\n",
    "import pandas as pd\n",
    "\n",
    "def compute_class_weights(dataset, label_column, classes, max_weight=10, epsilon=1e-8):\n",
    "    label_df = pd.DataFrame(dataset[label_column].tolist(), columns=classes)\n",
    "    class_counts = label_df.sum().sort_values(ascending=False)\n",
    "    class_counts = class_counts.reindex(classes)\n",
    "\n",
    "    total_samples = len(dataset)\n",
    "\n",
    "    class_weights = {\n",
    "        i: total_samples / (len(class_counts) * (count + epsilon))\n",
    "        for i, count in enumerate(class_counts.values)\n",
    "    }\n",
    "\n",
    "    weights_tensor = torch.tensor(list(class_weights.values()), dtype=torch.float)\n",
    "    weights_tensor = torch.clamp(weights_tensor, max=max_weight)\n",
    "\n",
    "    for i, class_name in enumerate(classes):\n",
    "        print(f\"Class: {class_name}, Weight: {weights_tensor[i].item()}\")\n",
    "\n",
    "    return weights_tensor\n",
    "\n",
    "narrative_weights_tensor = compute_class_weights(\n",
    "    dataset=dataset_train,\n",
    "    label_column='narratives_encoded',\n",
    "    classes=mlb_narratives.classes_\n",
    ")"
   ]
  },
  {
   "cell_type": "code",
   "execution_count": null,
   "id": "bocjDH1Wc1VI",
   "metadata": {
    "id": "bocjDH1Wc1VI"
   },
   "outputs": [],
   "source": [
    "def freeze_layers(model, num_layers_to_freeze=2):\n",
    "  assert hasattr(model, 'classifier'), \"Model must have a classifier attribute\"\n",
    "  for i in range(num_layers_to_freeze):\n",
    "      for param in model.backbone.encoder.layer[i].parameters():\n",
    "          param.requires_grad = False\n",
    "\n",
    "  for param in model.classifier.parameters():\n",
    "      param.requires_grad = True"
   ]
  },
  {
   "cell_type": "code",
   "execution_count": null,
   "id": "DbrUDcV_c3ZO",
   "metadata": {
    "id": "DbrUDcV_c3ZO"
   },
   "outputs": [],
   "source": [
    "freeze_layers(narrative_classifier_roberta, num_layers_to_freeze=1)"
   ]
  },
  {
   "cell_type": "code",
   "execution_count": null,
   "id": "iCxqRAc3dCq1",
   "metadata": {
    "id": "iCxqRAc3dCq1"
   },
   "outputs": [],
   "source": [
    "def train_model(\n",
    "    model,\n",
    "    train_loader,\n",
    "    val_loader,\n",
    "    optimizer,\n",
    "    label_column,\n",
    "    scheduler=None,\n",
    "    weights=None,\n",
    "    num_epochs=model_config['num_epochs'],\n",
    "    device='cuda'\n",
    "):\n",
    "    for epoch in range(num_epochs):\n",
    "        model.train()\n",
    "        for batch in train_loader:\n",
    "            optimizer.zero_grad()\n",
    "\n",
    "            input_ids = batch['input_ids'].to(device)\n",
    "            attention_mask = batch['attention_mask'].to(device)\n",
    "            labels = batch[label_column].to(device)\n",
    "\n",
    "            logits = model(input_ids, attention_mask)\n",
    "            loss, loss_item = bce_with_weights(logits, labels, weights)\n",
    "\n",
    "            loss.backward()\n",
    "            optimizer.step()\n",
    "            if scheduler:\n",
    "              scheduler.step()\n",
    "\n",
    "        model.eval()\n",
    "        val_loss = 0\n",
    "        with torch.no_grad():\n",
    "            for batch in val_loader:\n",
    "                input_ids = batch['input_ids'].to(device)\n",
    "                attention_mask = batch['attention_mask'].to(device)\n",
    "                labels = batch[label_column].to(device)\n",
    "\n",
    "                logits = model(input_ids, attention_mask)\n",
    "                _, batch_loss = bce_with_weights(logits, labels)\n",
    "                val_loss += batch_loss\n",
    "\n",
    "        avg_val_loss = val_loss / len(val_loader)\n",
    "        print(f\"Epoch {epoch + 1}, Training Loss (AVG): {loss_item}, Validation Loss (AVG): {avg_val_loss}\")"
   ]
  },
  {
   "cell_type": "code",
   "execution_count": null,
   "id": "0czl-L4gebZC",
   "metadata": {
    "id": "0czl-L4gebZC"
   },
   "outputs": [],
   "source": [
    "train_model(\n",
    "    model=narrative_classifier_roberta,\n",
    "    train_loader=train_loader_nar,\n",
    "    val_loader=val_loader_nar,\n",
    "    optimizer=optimizer_nar,\n",
    "    scheduler=scheduler,\n",
    "    label_column='narrative_labels',\n",
    "    num_epochs=model_config.get('num_epochs', 5),\n",
    "    device=device\n",
    ")"
   ]
  },
  {
   "cell_type": "code",
   "execution_count": null,
   "id": "tyJmTCsof3sK",
   "metadata": {
    "id": "tyJmTCsof3sK"
   },
   "outputs": [],
   "source": [
    "from sklearn.metrics import f1_score\n",
    "\n",
    "def evaluate_transformer_model(\n",
    "    model,\n",
    "    val_loader,\n",
    "    label_column,\n",
    "    thresholds=np.arange(0.1, 1.0, 0.1),\n",
    "    device='cuda',\n",
    "    target_names=None\n",
    "):\n",
    "    best_threshold = 0\n",
    "    best_f1 = 0\n",
    "    best_classification_report = None\n",
    "\n",
    "    all_preds = []\n",
    "    all_truths = []\n",
    "\n",
    "    for threshold in thresholds:\n",
    "        preds = []\n",
    "        truths = []\n",
    "\n",
    "        with torch.no_grad():\n",
    "            for batch in val_loader:\n",
    "                input_ids = batch['input_ids'].to(device)\n",
    "                attention_mask = batch['attention_mask'].to(device)\n",
    "                labels = batch[label_column].to(device)\n",
    "                logits = model(input_ids, attention_mask)\n",
    "                probs = torch.sigmoid(logits)\n",
    "\n",
    "                model_preds = (probs >= threshold).int()\n",
    "                preds.extend(model_preds.cpu().numpy())\n",
    "                truths.extend(labels.cpu().numpy())\n",
    "\n",
    "        classification_rep = classification_report(truths, preds, target_names=target_names, zero_division=0)\n",
    "        current_f1 = f1_score(truths, preds, average='macro')\n",
    "\n",
    "        if current_f1 > best_f1:\n",
    "            best_f1 = current_f1\n",
    "            best_threshold = threshold\n",
    "            best_classification_report = classification_rep\n",
    "\n",
    "    print(f\"Best Threshold: {best_threshold}, Best F1 Score: {best_f1}\")\n",
    "    print(\"Best Classification Report:\")\n",
    "    print(best_classification_report)"
   ]
  },
  {
   "cell_type": "code",
   "execution_count": null,
   "id": "257594e0-b484-4689-afae-87df51dda709",
   "metadata": {
    "id": "257594e0-b484-4689-afae-87df51dda709"
   },
   "outputs": [],
   "source": [
    "evaluate_transformer_model(\n",
    "    narrative_classifier_roberta,\n",
    "    val_loader_nar,\n",
    "    label_column='narrative_labels',\n",
    "    target_names=mlb_narratives.classes_\n",
    ")"
   ]
  },
  {
   "cell_type": "markdown",
   "id": "sOzb7BBcZ5hg",
   "metadata": {
    "id": "sOzb7BBcZ5hg"
   },
   "source": [
    "### Fine-tuning Roberta to predict subnarratives"
   ]
  },
  {
   "cell_type": "code",
   "execution_count": null,
   "id": "ouWVBop_jvtZ",
   "metadata": {
    "id": "ouWVBop_jvtZ"
   },
   "outputs": [],
   "source": [
    "train_sub_narrative_truths = dataset_train['subnarratives_encoded'].tolist()\n",
    "\n",
    "train_sub_narrative_truths[0][:5]"
   ]
  },
  {
   "cell_type": "code",
   "execution_count": null,
   "id": "9W_0HkqRj3QY",
   "metadata": {
    "id": "9W_0HkqRj3QY"
   },
   "outputs": [],
   "source": [
    "val_sub_narrative_truths = dataset_val['subnarratives_encoded'].tolist()\n",
    "\n",
    "val_sub_narrative_truths[0][:5]"
   ]
  },
  {
   "cell_type": "code",
   "execution_count": null,
   "id": "W6WySwR4kEtq",
   "metadata": {
    "id": "W6WySwR4kEtq"
   },
   "outputs": [],
   "source": [
    "import torch\n",
    "from torch import nn\n",
    "from transformers import XLMRobertaModel\n",
    "\n",
    "class SubNarrativeClassificationRoberta(nn.Module):\n",
    "    def __init__(self, sub_narrative_classes):\n",
    "        super(SubNarrativeClassificationRoberta, self).__init__()\n",
    "        self.sub_narrative_classes = sub_narrative_classes\n",
    "        self.backbone = XLMRobertaModel.from_pretrained(\"xlm-roberta-base\")\n",
    "        self.classifier = nn.Linear(self.backbone.config.hidden_size, sub_narrative_classes)\n",
    "\n",
    "    def forward(self, input_ids, attention_mask):\n",
    "        outputs = self.backbone(input_ids=input_ids, attention_mask=attention_mask)\n",
    "        pooled_output = outputs.last_hidden_state[:, 0]\n",
    "\n",
    "        subnarrative_logits = self.classifier(pooled_output)\n",
    "\n",
    "\n",
    "        return subnarrative_logits\n",
    "\n",
    "subnarrative_classifier_roberta = SubNarrativeClassificationRoberta(sub_narrative_classes=len(mlb_subnarratives.classes_))"
   ]
  },
  {
   "cell_type": "code",
   "execution_count": null,
   "id": "Z37_xghDlK17",
   "metadata": {
    "id": "Z37_xghDlK17"
   },
   "outputs": [],
   "source": [
    "import torch\n",
    "from torch.utils.data import Dataset\n",
    "\n",
    "class SubNarrativesDataset(Dataset):\n",
    "    def __init__(self, encodings, sub_narrative_labels):\n",
    "        self.encodings = encodings\n",
    "        self.sub_narrative_labels = sub_narrative_labels\n",
    "\n",
    "    def __getitem__(self, idx):\n",
    "        item = {key: val[idx].clone().detach() for key, val in self.encodings.items()}\n",
    "        item['sub_narrative_labels'] = torch.tensor(self.sub_narrative_labels[idx], dtype=torch.float)\n",
    "        return item\n",
    "\n",
    "    def __len__(self):\n",
    "        return len(self.sub_narrative_labels)\n",
    "\n",
    "train_dataset = SubNarrativesDataset(\n",
    "    train_encodings,\n",
    "    dataset_train['subnarratives_encoded'].tolist(),\n",
    ")\n",
    "\n",
    "val_dataset = SubNarrativesDataset(\n",
    "    val_encodings,\n",
    "    dataset_val['subnarratives_encoded'].tolist(),\n",
    ")\n",
    "\n",
    "train_loader_sub = DataLoader(train_dataset, batch_size=model_config['batch_size'], shuffle=True)\n",
    "val_loader_sub = DataLoader(val_dataset, batch_size=model_config['batch_size'], shuffle=False)"
   ]
  },
  {
   "cell_type": "code",
   "execution_count": null,
   "id": "EGIyu4wfl94p",
   "metadata": {
    "id": "EGIyu4wfl94p"
   },
   "outputs": [],
   "source": [
    "device = torch.device(\"cuda\" if torch.cuda.is_available() else \"cpu\")\n",
    "optimizer_sub = optim.AdamW(subnarrative_classifier_roberta.parameters(), lr=model_config['lr'])\n",
    "criterion_sub = nn.BCEWithLogitsLoss()\n",
    "\n",
    "subnarrative_classifier_roberta.to(device)"
   ]
  },
  {
   "cell_type": "code",
   "execution_count": null,
   "id": "MwzKzzourrLa",
   "metadata": {
    "id": "MwzKzzourrLa"
   },
   "outputs": [],
   "source": [
    "freeze_layers(subnarrative_classifier_roberta, num_layers_to_freeze=1)"
   ]
  },
  {
   "cell_type": "code",
   "execution_count": null,
   "id": "LH3QmUS9mK58",
   "metadata": {
    "id": "LH3QmUS9mK58"
   },
   "outputs": [],
   "source": [
    "train_model(subnarrative_classifier_roberta, train_loader_sub, val_loader_sub, optimizer_sub, label_column='sub_narrative_labels')"
   ]
  },
  {
   "cell_type": "code",
   "execution_count": null,
   "id": "ozjgsYyCy0oa",
   "metadata": {
    "id": "ozjgsYyCy0oa"
   },
   "outputs": [],
   "source": [
    "evaluate_transformer_model(subnarrative_classifier_roberta, val_loader_sub, label_column='sub_narrative_labels', target_names=mlb_subnarratives.classes_)"
   ]
  },
  {
   "cell_type": "markdown",
   "id": "g_PfhBYXrSaM",
   "metadata": {
    "id": "g_PfhBYXrSaM"
   },
   "source": [
    "### Predicting narratives and subnarratives using MultiTask learning"
   ]
  },
  {
   "cell_type": "code",
   "execution_count": null,
   "id": "kL3Gt65-AzVL",
   "metadata": {
    "id": "kL3Gt65-AzVL"
   },
   "outputs": [],
   "source": [
    "from torch import nn\n",
    "from transformers import XLMRobertaModel\n",
    "\n",
    "class MultiTaskRoberta(nn.Module):\n",
    "    def __init__(self, narrative_classes, sub_narrative_classes):\n",
    "        super(MultiTaskRoberta, self).__init__()\n",
    "        self.backbone = XLMRobertaModel.from_pretrained(\"xlm-roberta-base\")\n",
    "        self.narrative_classifier = nn.Linear(self.backbone.config.hidden_size, narrative_classes)\n",
    "        self.sub_narrative_classifier = nn.Linear(self.backbone.config.hidden_size, sub_narrative_classes)\n",
    "\n",
    "    def forward(self, input_ids, attention_mask):\n",
    "        outputs = self.backbone(input_ids=input_ids, attention_mask=attention_mask)\n",
    "        pooled_output = outputs.last_hidden_state[:, 0]\n",
    "\n",
    "        narrative_logits = self.narrative_classifier(pooled_output)\n",
    "\n",
    "        sub_narrative_logits = self.sub_narrative_classifier(pooled_output)\n",
    "\n",
    "        return narrative_logits, sub_narrative_logits\n",
    "\n",
    "multi_task_model = MultiTaskRoberta(narrative_classes=len(mlb_narratives.classes_), sub_narrative_classes=len(mlb_subnarratives.classes_))"
   ]
  },
  {
   "cell_type": "code",
   "execution_count": null,
   "id": "XbgKjmgDBUnn",
   "metadata": {
    "id": "XbgKjmgDBUnn"
   },
   "outputs": [],
   "source": [
    "from torch.utils.data import Dataset\n",
    "\n",
    "class NewsDataset(Dataset):\n",
    "    def __init__(self, encodings, narrative_labels, subnarrative_labels):\n",
    "        self.encodings = encodings\n",
    "        self.narrative_labels = narrative_labels\n",
    "        self.subnarrative_labels = subnarrative_labels\n",
    "\n",
    "    def __getitem__(self, idx):\n",
    "        item = {key: torch.tensor(val[idx]) for key, val in self.encodings.items()}\n",
    "        item['narrative_labels'] = torch.tensor(self.narrative_labels[idx], dtype=torch.float)\n",
    "        item['subnarrative_labels'] = torch.tensor(self.subnarrative_labels[idx], dtype=torch.float)\n",
    "        return item\n",
    "\n",
    "    def __len__(self):\n",
    "        return len(self.narrative_labels)\n",
    "\n",
    "train_dataset = NewsDataset(\n",
    "    train_encodings,\n",
    "    dataset_train['narratives_encoded'].tolist(),\n",
    "    dataset_train['subnarratives_encoded'].tolist()\n",
    ")\n",
    "\n",
    "val_dataset = NewsDataset(\n",
    "    val_encodings,\n",
    "    dataset_val['narratives_encoded'].tolist(),\n",
    "    dataset_val['subnarratives_encoded'].tolist()\n",
    ")\n",
    "\n",
    "train_loader = DataLoader(train_dataset, batch_size=model_config['batch_size'], shuffle=True)\n",
    "val_loader = DataLoader(val_dataset, batch_size=model_config['batch_size'], shuffle=False)"
   ]
  },
  {
   "cell_type": "code",
   "execution_count": null,
   "id": "G6tNNTT7BW8_",
   "metadata": {
    "id": "G6tNNTT7BW8_"
   },
   "outputs": [],
   "source": [
    "def mask_sub_narrative_logits(narrative_probs, sub_narrative_logits, narrative_to_sub_mapping, threshold=0.2):\n",
    "    batch_size, sub_narrative_size = sub_narrative_logits.size()\n",
    "    mask = torch.zeros_like(sub_narrative_logits)\n",
    "\n",
    "    for i in range(batch_size):\n",
    "        active_narratives = torch.where(narrative_probs[i] > threshold)[0]\n",
    "\n",
    "        for narrative_idx in active_narratives:\n",
    "            sub_indices = list(narrative_to_sub_mapping[narrative_idx.item()])\n",
    "            mask[i, sub_indices] = 1\n",
    "\n",
    "    epsilon = 1e-8\n",
    "    masked_sub_narrative_logits = sub_narrative_logits * mask + epsilon * (1 - mask)\n",
    "\n",
    "    return masked_sub_narrative_logits"
   ]
  },
  {
   "cell_type": "code",
   "execution_count": null,
   "id": "pc8reazLBXmi",
   "metadata": {
    "id": "pc8reazLBXmi"
   },
   "outputs": [],
   "source": [
    "narrative_to_sub_mapping = {}\n",
    "\n",
    "for i, row in dataset_train.iterrows():\n",
    "    narratives_encoded_list = row['narratives_encoded']\n",
    "    subnarratives_encoded_list = row['subnarratives_encoded']\n",
    "\n",
    "    for j in range(len(narratives_encoded_list)):\n",
    "        if narratives_encoded_list[j] == 1:\n",
    "            if j not in narrative_to_sub_mapping:\n",
    "                narrative_to_sub_mapping[j] = set()\n",
    "\n",
    "            subnarratives_encoded_list = np.asarray(subnarratives_encoded_list)\n",
    "\n",
    "            indices_of_ones = np.where(subnarratives_encoded_list == 1)[0]\n",
    "\n",
    "            narrative_to_sub_mapping[j].update(indices_of_ones)"
   ]
  },
  {
   "cell_type": "code",
   "execution_count": null,
   "id": "IBOwor7bBdtN",
   "metadata": {
    "id": "IBOwor7bBdtN"
   },
   "outputs": [],
   "source": [
    "from torch.nn.functional import binary_cross_entropy_with_logits\n",
    "\n",
    "def compute_loss(narrative_logits, sub_narrative_logits, narrative_labels, sub_narrative_labels, narrative_to_sub_mapping, weights=None):\n",
    "    narrative_loss = binary_cross_entropy_with_logits(narrative_logits, narrative_labels, pos_weight=weights)\n",
    "\n",
    "    masked_sub_logits = mask_sub_narrative_logits(narrative_labels, sub_narrative_logits, narrative_to_sub_mapping)\n",
    "    sub_narrative_loss = binary_cross_entropy_with_logits(masked_sub_logits, sub_narrative_labels)\n",
    "\n",
    "    return narrative_loss + sub_narrative_loss"
   ]
  },
  {
   "cell_type": "code",
   "execution_count": null,
   "id": "wLu6bgygBg8N",
   "metadata": {
    "id": "wLu6bgygBg8N"
   },
   "outputs": [],
   "source": [
    "device = torch.device(\"cuda\" if torch.cuda.is_available() else \"cpu\")\n",
    "optimizer = optim.AdamW(multi_task_model.parameters(), lr=model_config['lr'])\n",
    "\n",
    "multi_task_model.to(device)"
   ]
  },
  {
   "cell_type": "code",
   "execution_count": null,
   "id": "jSkh6LBIEKjE",
   "metadata": {
    "id": "jSkh6LBIEKjE"
   },
   "outputs": [],
   "source": [
    "def freeze_multi_task_roberta_layers(model, num_layers_to_freeze=2):\n",
    "  for i in range(num_layers_to_freeze):\n",
    "    for param in model.backbone.encoder.layer[i].parameters():\n",
    "      param.requires_grad = False\n",
    "\n",
    "  for param in model.narrative_classifier.parameters():\n",
    "    param.requires_grad = True\n",
    "\n",
    "  for param in model.sub_narrative_classifier.parameters():\n",
    "    param.requires_grad = True"
   ]
  },
  {
   "cell_type": "code",
   "execution_count": null,
   "id": "iSG-DChAES7x",
   "metadata": {
    "id": "iSG-DChAES7x"
   },
   "outputs": [],
   "source": [
    "freeze_multi_task_roberta_layers(multi_task_model)"
   ]
  },
  {
   "cell_type": "code",
   "execution_count": null,
   "id": "kkl9jIleBkDc",
   "metadata": {
    "id": "kkl9jIleBkDc"
   },
   "outputs": [],
   "source": [
    "for epoch in range(5):\n",
    "    multi_task_model.train()\n",
    "    epoch_loss = 0\n",
    "    for batch in train_loader:\n",
    "        optimizer.zero_grad()\n",
    "        input_ids = batch['input_ids'].to(device)\n",
    "        attention_mask = batch['attention_mask'].to(device)\n",
    "        narrative_labels = batch['narrative_labels'].to(device)\n",
    "        sub_narrative_labels = batch['subnarrative_labels'].to(device)\n",
    "\n",
    "        narrative_logits, sub_narrative_logits = multi_task_model(input_ids, attention_mask)\n",
    "        loss = compute_loss(narrative_logits, sub_narrative_logits, narrative_labels, sub_narrative_labels, narrative_to_sub_mapping)\n",
    "        epoch_loss += loss.item()\n",
    "        loss.backward()\n",
    "        optimizer.step()\n",
    "    avg_train_loss = epoch_loss / len(train_loader)\n",
    "\n",
    "    multi_task_model.eval()\n",
    "    val_loss = 0\n",
    "    for batch in val_loader:\n",
    "        with torch.no_grad():\n",
    "            input_ids = batch['input_ids'].to(device)\n",
    "            attention_mask = batch['attention_mask'].to(device)\n",
    "            narrative_labels = batch['narrative_labels'].to(device)\n",
    "            sub_narrative_labels = batch['subnarrative_labels'].to(device)\n",
    "\n",
    "            narrative_logits, sub_narrative_logits = multi_task_model(input_ids, attention_mask)\n",
    "            loss = compute_loss(narrative_logits, sub_narrative_logits, narrative_labels, sub_narrative_labels, narrative_to_sub_mapping)\n",
    "            val_loss += loss.item()\n",
    "    avg_val_loss = val_loss / len(val_loader)\n",
    "\n",
    "    print(f\"Epoch {epoch + 1}, Training Loss (AVG): {avg_train_loss:.4f}, Validation Loss (AVG): {avg_val_loss:.4f}\")"
   ]
  },
  {
   "cell_type": "code",
   "execution_count": null,
   "id": "q3p5CmH1CMVu",
   "metadata": {
    "id": "q3p5CmH1CMVu"
   },
   "outputs": [],
   "source": [
    "def evaluate_with_threshold_selection(\n",
    "    model,\n",
    "    val_loader,\n",
    "    narrative_targets_name,\n",
    "    subnarrative_targets_name,\n",
    "    thresholds=np.arange(0.1, 1.0, 0.1),\n",
    "    device='cuda'\n",
    "):\n",
    "    best_narrative_threshold = 0\n",
    "    best_subnarrative_threshold = 0\n",
    "    best_narrative_f1 = 0\n",
    "    best_subnarrative_f1 = 0\n",
    "    best_narrative_report = None\n",
    "    best_subnarrative_report = None\n",
    "\n",
    "    all_narratives_truth = []\n",
    "    all_subnarratives_truth = []\n",
    "\n",
    "    for batch in val_loader:\n",
    "        with torch.no_grad():\n",
    "            input_ids = batch['input_ids'].to(device)\n",
    "            attention_mask = batch['attention_mask'].to(device)\n",
    "            narrative_labels = batch['narrative_labels'].to(device)\n",
    "            subnarrative_labels = batch['subnarrative_labels'].to(device)\n",
    "            narrative_logits, subnarrative_logits = model(input_ids, attention_mask)\n",
    "\n",
    "            narrative_probs = torch.sigmoid(narrative_logits)\n",
    "            subnarrative_probs = torch.sigmoid(subnarrative_logits)\n",
    "\n",
    "            all_narratives_truth.extend(narrative_labels.cpu().numpy())\n",
    "            all_subnarratives_truth.extend(subnarrative_labels.cpu().numpy())\n",
    "\n",
    "    for threshold in thresholds:\n",
    "        narratives_pred = []\n",
    "        subnarratives_pred = []\n",
    "\n",
    "        for batch in val_loader:\n",
    "            with torch.no_grad():\n",
    "                input_ids = batch['input_ids'].to(device)\n",
    "                attention_mask = batch['attention_mask'].to(device)\n",
    "                narrative_logits, subnarrative_logits = model(input_ids, attention_mask)\n",
    "\n",
    "                narrative_probs = torch.sigmoid(narrative_logits)\n",
    "                subnarrative_probs = torch.sigmoid(subnarrative_logits)\n",
    "\n",
    "                narratives_pred.extend((narrative_probs >= threshold).int().cpu().numpy())\n",
    "                subnarratives_pred.extend((subnarrative_probs >= threshold).int().cpu().numpy())\n",
    "\n",
    "        narrative_report = classification_report(\n",
    "            all_narratives_truth,\n",
    "            narratives_pred,\n",
    "            target_names=narrative_targets_name,\n",
    "            zero_division=0\n",
    "        )\n",
    "        narrative_f1 = f1_score(all_narratives_truth, narratives_pred, average='macro')\n",
    "\n",
    "        if narrative_f1 > best_narrative_f1:\n",
    "            best_narrative_f1 = narrative_f1\n",
    "            best_narrative_threshold = threshold\n",
    "            best_narrative_report = narrative_report\n",
    "\n",
    "        subnarrative_report = classification_report(\n",
    "            all_subnarratives_truth,\n",
    "            subnarratives_pred,\n",
    "            target_names=subnarrative_targets_name,\n",
    "            zero_division=0\n",
    "        )\n",
    "        subnarrative_f1 = f1_score(all_subnarratives_truth, subnarratives_pred, average='macro')\n",
    "\n",
    "        if subnarrative_f1 > best_subnarrative_f1:\n",
    "            best_subnarrative_f1 = subnarrative_f1\n",
    "            best_subnarrative_threshold = threshold\n",
    "            best_subnarrative_report = subnarrative_report\n",
    "\n",
    "    print(f\"Best Narrative Threshold: {best_narrative_threshold}, Best Narrative F1 Score: {best_narrative_f1}\")\n",
    "    print(\"Best Classification Report for Narratives:\")\n",
    "    print(best_narrative_report)\n",
    "\n",
    "    print(f\"Best Subnarrative Threshold: {best_subnarrative_threshold}, Best Subnarrative F1 Score: {best_subnarrative_f1}\")\n",
    "    print(\"Best Classification Report for Subnarratives:\")\n",
    "    print(best_subnarrative_report)\n",
    "\n",
    "evaluate_with_threshold_selection(\n",
    "    model=multi_task_model,\n",
    "    val_loader=val_loader,\n",
    "    narrative_targets_name=mlb_narratives.classes_,\n",
    "    subnarrative_targets_name=mlb_subnarratives.classes_,\n",
    "    thresholds=np.arange(0.1, 1.0, 0.1),\n",
    "    device=device\n",
    ")"
   ]
  }
 ],
 "metadata": {
  "accelerator": "GPU",
  "colab": {
   "gpuType": "T4",
   "provenance": []
  },
  "kernelspec": {
   "display_name": "Python 3 (ipykernel)",
   "language": "python",
   "name": "python3"
  },
  "language_info": {
   "codemirror_mode": {
    "name": "ipython",
    "version": 3
   },
   "file_extension": ".py",
   "mimetype": "text/x-python",
   "name": "python",
   "nbconvert_exporter": "python",
   "pygments_lexer": "ipython3",
   "version": "3.12.4"
  }
 },
 "nbformat": 4,
 "nbformat_minor": 5
}
