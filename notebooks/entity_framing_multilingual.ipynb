{
 "cells": [
  {
   "cell_type": "markdown",
   "id": "c4810ebd-f54f-4ddb-b744-f97a109c28a8",
   "metadata": {
    "id": "c4810ebd-f54f-4ddb-b744-f97a109c28a8"
   },
   "source": [
    "# Semeval 2025 Task 10\n",
    "\n",
    "## Subtask 1: Entity Framing -- Multilingual\n",
    "\n",
    "Given a news article and a list of mentions of named entities (NEs) in the article, assign for each such mention one or more roles using a predefined taxonomy of fine-grained roles covering three main type of roles: protagonists, antagonists, and innocent. This is a multi-label multi-class text-span classification task."
   ]
  },
  {
   "cell_type": "markdown",
   "id": "7a85d11f-e1b3-4b50-8c91-767a15adf65e",
   "metadata": {
    "id": "7a85d11f-e1b3-4b50-8c91-767a15adf65e"
   },
   "source": [
    "### Using multilingual embeddings, and ML models"
   ]
  },
  {
   "cell_type": "code",
   "execution_count": 2,
   "id": "74b7bbb9-ca9c-4d37-9cf3-e84fdc1e9509",
   "metadata": {
    "colab": {
     "base_uri": "https://localhost:8080/"
    },
    "id": "74b7bbb9-ca9c-4d37-9cf3-e84fdc1e9509",
    "outputId": "c2a287fd-1776-439b-d2ed-2923f6c482c4"
   },
   "outputs": [],
   "source": [
    "import pandas as pd\n",
    "import numpy as np\n",
    "\n",
    "import tensorflow as tf\n",
    "from tensorflow import keras\n",
    "from tensorflow.keras import layers\n",
    "from tensorflow.keras import optimizers\n",
    "from tensorflow.keras.callbacks import ModelCheckpoint\n",
    "\n",
    "from matplotlib import pyplot as plt\n",
    "import seaborn as sns\n",
    "import os"
   ]
  },
  {
   "cell_type": "code",
   "execution_count": 3,
   "id": "fea70e59-e0a8-4ee0-9739-60f53274423e",
   "metadata": {
    "id": "fea70e59-e0a8-4ee0-9739-60f53274423e"
   },
   "outputs": [],
   "source": [
    "data = []\n",
    "ignore_folders = ['.DS_Store']\n",
    "\n",
    "base_dir_documents = '../data/semeval_data/raw-documents'\n",
    "\n",
    "for language_folder in os.listdir(base_dir_documents):\n",
    "\n",
    "    if language_folder in ignore_folders:\n",
    "        continue\n",
    "\n",
    "    language_path = os.path.join(base_dir_documents, language_folder)\n",
    "    if os.path.isdir(language_path):\n",
    "        for root, _, files in os.walk(language_path):\n",
    "            for file in files:\n",
    "                if file.endswith('.txt'):\n",
    "                    file_path = os.path.join(root, file)\n",
    "\n",
    "                    article_id = file\n",
    "                    with open(file_path, 'r', encoding='utf-8') as f:\n",
    "                        content = f.read()\n",
    "\n",
    "                    data.append({\n",
    "                        'language': language_folder,\n",
    "                        'article_id': article_id,\n",
    "                        'content': content\n",
    "                    })\n",
    "\n",
    "documents_df = pd.DataFrame(data)"
   ]
  },
  {
   "cell_type": "code",
   "execution_count": 4,
   "id": "ac14cdd9-6e72-408a-96a5-702fc3a77cee",
   "metadata": {
    "colab": {
     "base_uri": "https://localhost:8080/"
    },
    "id": "ac14cdd9-6e72-408a-96a5-702fc3a77cee",
    "outputId": "667385e2-7b8c-4e78-f0b7-7062eb37c748"
   },
   "outputs": [
    {
     "data": {
      "text/plain": [
       "(726, 3)"
      ]
     },
     "execution_count": 4,
     "metadata": {},
     "output_type": "execute_result"
    }
   ],
   "source": [
    "documents_df.shape"
   ]
  },
  {
   "cell_type": "code",
   "execution_count": 5,
   "id": "c229ff5b-a241-4413-a7a9-7cf035d14d36",
   "metadata": {
    "colab": {
     "base_uri": "https://localhost:8080/",
     "height": 204
    },
    "id": "c229ff5b-a241-4413-a7a9-7cf035d14d36",
    "outputId": "d02fde89-cdb9-42ef-d1b3-8dfc50bcc79b"
   },
   "outputs": [
    {
     "data": {
      "text/html": [
       "<div>\n",
       "<style scoped>\n",
       "    .dataframe tbody tr th:only-of-type {\n",
       "        vertical-align: middle;\n",
       "    }\n",
       "\n",
       "    .dataframe tbody tr th {\n",
       "        vertical-align: top;\n",
       "    }\n",
       "\n",
       "    .dataframe thead th {\n",
       "        text-align: right;\n",
       "    }\n",
       "</style>\n",
       "<table border=\"1\" class=\"dataframe\">\n",
       "  <thead>\n",
       "    <tr style=\"text-align: right;\">\n",
       "      <th></th>\n",
       "      <th>language</th>\n",
       "      <th>article_id</th>\n",
       "      <th>content</th>\n",
       "    </tr>\n",
       "  </thead>\n",
       "  <tbody>\n",
       "    <tr>\n",
       "      <th>62</th>\n",
       "      <td>PT</td>\n",
       "      <td>PT_24.txt</td>\n",
       "      <td>Rússia 'tem sido bem-sucedida' no combate à he...</td>\n",
       "    </tr>\n",
       "    <tr>\n",
       "      <th>610</th>\n",
       "      <td>EN</td>\n",
       "      <td>EN_UA_102655.txt</td>\n",
       "      <td>BIOWARFARE ON AMERICANS: RFK Jr. says CIA was ...</td>\n",
       "    </tr>\n",
       "    <tr>\n",
       "      <th>300</th>\n",
       "      <td>BG</td>\n",
       "      <td>BG_1258.txt</td>\n",
       "      <td>Нов доклад с ужасяваща новина за Европа, скоро...</td>\n",
       "    </tr>\n",
       "    <tr>\n",
       "      <th>51</th>\n",
       "      <td>PT</td>\n",
       "      <td>PT_177.txt</td>\n",
       "      <td>Onda de calor extremo: o que fazer para evitar...</td>\n",
       "    </tr>\n",
       "    <tr>\n",
       "      <th>376</th>\n",
       "      <td>BG</td>\n",
       "      <td>A9_BG_8333.txt</td>\n",
       "      <td>Украйна в паника от създаването на «Искандер-1...</td>\n",
       "    </tr>\n",
       "  </tbody>\n",
       "</table>\n",
       "</div>"
      ],
      "text/plain": [
       "    language        article_id  \\\n",
       "62        PT         PT_24.txt   \n",
       "610       EN  EN_UA_102655.txt   \n",
       "300       BG       BG_1258.txt   \n",
       "51        PT        PT_177.txt   \n",
       "376       BG    A9_BG_8333.txt   \n",
       "\n",
       "                                               content  \n",
       "62   Rússia 'tem sido bem-sucedida' no combate à he...  \n",
       "610  BIOWARFARE ON AMERICANS: RFK Jr. says CIA was ...  \n",
       "300  Нов доклад с ужасяваща новина за Европа, скоро...  \n",
       "51   Onda de calor extremo: o que fazer para evitar...  \n",
       "376  Украйна в паника от създаването на «Искандер-1...  "
      ]
     },
     "execution_count": 5,
     "metadata": {},
     "output_type": "execute_result"
    }
   ],
   "source": [
    "documents_df.sample(5)"
   ]
  },
  {
   "cell_type": "code",
   "execution_count": 6,
   "id": "3a93f0e9-23f8-47ad-96cf-7a8bc1c84375",
   "metadata": {
    "colab": {
     "base_uri": "https://localhost:8080/",
     "height": 186
    },
    "id": "3a93f0e9-23f8-47ad-96cf-7a8bc1c84375",
    "outputId": "06745b8a-5789-4a87-d60b-1f3b13ef4a2d"
   },
   "outputs": [
    {
     "data": {
      "text/plain": [
       "<bound method Series.unique of 0             PT_53.txt\n",
       "1             PT_47.txt\n",
       "2             PT_90.txt\n",
       "3             PT_84.txt\n",
       "4            PT_166.txt\n",
       "             ...       \n",
       "721    EN_CC_100076.txt\n",
       "722    EN_UA_103251.txt\n",
       "723    EN_UA_002991.txt\n",
       "724    EN_UA_008072.txt\n",
       "725    EN_UA_015962.txt\n",
       "Name: article_id, Length: 726, dtype: object>"
      ]
     },
     "execution_count": 6,
     "metadata": {},
     "output_type": "execute_result"
    }
   ],
   "source": [
    "documents_df['article_id'].unique"
   ]
  },
  {
   "cell_type": "code",
   "execution_count": 7,
   "id": "d235446f-3189-4d83-b6fe-aa8b703f1697",
   "metadata": {
    "id": "d235446f-3189-4d83-b6fe-aa8b703f1697"
   },
   "outputs": [],
   "source": [
    "base_dir_labels = '../data/semeval_data/labels'\n",
    "\n",
    "raw_annotation_data = []\n",
    "\n",
    "for language_folder in os.listdir(base_dir_labels):\n",
    "\n",
    "    if language_folder in ignore_folders:\n",
    "        continue\n",
    "\n",
    "    language_path = os.path.join(base_dir_labels, language_folder)\n",
    "    if os.path.isdir(language_path):\n",
    "        for root, _, files in os.walk(language_path):\n",
    "            label_file = 'subtask-1-annotations.txt'\n",
    "            file_path = os.path.join(root, label_file)\n",
    "            with open(file_path, 'r', encoding='utf-8') as file:\n",
    "                for line in file:\n",
    "                    parts = line.strip().split('\\t')\n",
    "                    article_id = parts[0]\n",
    "                    entity_mention = parts[1]\n",
    "                    start_offset = int(parts[2])\n",
    "                    end_offset = int(parts[3])\n",
    "                    main_role = parts[4]\n",
    "\n",
    "                    sub_roles = parts[5:]\n",
    "                    raw_annotation_data.append({\n",
    "                        \"article_id\": article_id,\n",
    "                        \"entity_mention\": entity_mention,\n",
    "                        \"start_offset\": start_offset,\n",
    "                        \"end_offset\": end_offset,\n",
    "                        \"main_role\": main_role,\n",
    "                        \"sub_roles\": sub_roles,\n",
    "                    })\n",
    "\n",
    "annotations_df = pd.DataFrame(raw_annotation_data)"
   ]
  },
  {
   "cell_type": "code",
   "execution_count": 8,
   "id": "fc6c6b0d-6648-4d00-96fe-bd5126d5231c",
   "metadata": {
    "colab": {
     "base_uri": "https://localhost:8080/",
     "height": 204
    },
    "id": "fc6c6b0d-6648-4d00-96fe-bd5126d5231c",
    "outputId": "4b60a9a6-c9a8-478a-8ca4-6b762a1a43e2"
   },
   "outputs": [
    {
     "data": {
      "text/html": [
       "<div>\n",
       "<style scoped>\n",
       "    .dataframe tbody tr th:only-of-type {\n",
       "        vertical-align: middle;\n",
       "    }\n",
       "\n",
       "    .dataframe tbody tr th {\n",
       "        vertical-align: top;\n",
       "    }\n",
       "\n",
       "    .dataframe thead th {\n",
       "        text-align: right;\n",
       "    }\n",
       "</style>\n",
       "<table border=\"1\" class=\"dataframe\">\n",
       "  <thead>\n",
       "    <tr style=\"text-align: right;\">\n",
       "      <th></th>\n",
       "      <th>article_id</th>\n",
       "      <th>entity_mention</th>\n",
       "      <th>start_offset</th>\n",
       "      <th>end_offset</th>\n",
       "      <th>main_role</th>\n",
       "      <th>sub_roles</th>\n",
       "    </tr>\n",
       "  </thead>\n",
       "  <tbody>\n",
       "    <tr>\n",
       "      <th>0</th>\n",
       "      <td>PT_161.txt</td>\n",
       "      <td>Portugal</td>\n",
       "      <td>377</td>\n",
       "      <td>384</td>\n",
       "      <td>Innocent</td>\n",
       "      <td>[Victim]</td>\n",
       "    </tr>\n",
       "    <tr>\n",
       "      <th>1</th>\n",
       "      <td>PT_161.txt</td>\n",
       "      <td>França</td>\n",
       "      <td>1072</td>\n",
       "      <td>1077</td>\n",
       "      <td>Innocent</td>\n",
       "      <td>[Victim]</td>\n",
       "    </tr>\n",
       "    <tr>\n",
       "      <th>2</th>\n",
       "      <td>PT_161.txt</td>\n",
       "      <td>IPMA</td>\n",
       "      <td>2158</td>\n",
       "      <td>2161</td>\n",
       "      <td>Protagonist</td>\n",
       "      <td>[Guardian]</td>\n",
       "    </tr>\n",
       "    <tr>\n",
       "      <th>3</th>\n",
       "      <td>PT_13.txt</td>\n",
       "      <td>Ucrânia</td>\n",
       "      <td>184</td>\n",
       "      <td>190</td>\n",
       "      <td>Innocent</td>\n",
       "      <td>[Victim]</td>\n",
       "    </tr>\n",
       "    <tr>\n",
       "      <th>4</th>\n",
       "      <td>PT_196.txt</td>\n",
       "      <td>Engajamundo</td>\n",
       "      <td>421</td>\n",
       "      <td>431</td>\n",
       "      <td>Protagonist</td>\n",
       "      <td>[Rebel]</td>\n",
       "    </tr>\n",
       "  </tbody>\n",
       "</table>\n",
       "</div>"
      ],
      "text/plain": [
       "   article_id entity_mention  start_offset  end_offset    main_role  \\\n",
       "0  PT_161.txt       Portugal           377         384     Innocent   \n",
       "1  PT_161.txt         França          1072        1077     Innocent   \n",
       "2  PT_161.txt           IPMA          2158        2161  Protagonist   \n",
       "3   PT_13.txt        Ucrânia           184         190     Innocent   \n",
       "4  PT_196.txt    Engajamundo           421         431  Protagonist   \n",
       "\n",
       "    sub_roles  \n",
       "0    [Victim]  \n",
       "1    [Victim]  \n",
       "2  [Guardian]  \n",
       "3    [Victim]  \n",
       "4     [Rebel]  "
      ]
     },
     "execution_count": 8,
     "metadata": {},
     "output_type": "execute_result"
    }
   ],
   "source": [
    "annotations_df.head()"
   ]
  },
  {
   "cell_type": "code",
   "execution_count": 9,
   "id": "f25265a8-32d2-4f2c-86e7-4d855a930828",
   "metadata": {
    "colab": {
     "base_uri": "https://localhost:8080/"
    },
    "id": "f25265a8-32d2-4f2c-86e7-4d855a930828",
    "outputId": "cad03b9f-c20d-4d4b-81cb-438d238abb23"
   },
   "outputs": [
    {
     "data": {
      "text/plain": [
       "(2535, 6)"
      ]
     },
     "execution_count": 9,
     "metadata": {},
     "output_type": "execute_result"
    }
   ],
   "source": [
    "annotations_df.shape"
   ]
  },
  {
   "cell_type": "code",
   "execution_count": 10,
   "id": "5065796a-e88c-4662-9cbc-81a9f92f0c2e",
   "metadata": {
    "colab": {
     "base_uri": "https://localhost:8080/",
     "height": 204
    },
    "id": "5065796a-e88c-4662-9cbc-81a9f92f0c2e",
    "outputId": "0ddd9be4-83bd-4b61-9638-de6b68fff695"
   },
   "outputs": [
    {
     "data": {
      "text/html": [
       "<div>\n",
       "<style scoped>\n",
       "    .dataframe tbody tr th:only-of-type {\n",
       "        vertical-align: middle;\n",
       "    }\n",
       "\n",
       "    .dataframe tbody tr th {\n",
       "        vertical-align: top;\n",
       "    }\n",
       "\n",
       "    .dataframe thead th {\n",
       "        text-align: right;\n",
       "    }\n",
       "</style>\n",
       "<table border=\"1\" class=\"dataframe\">\n",
       "  <thead>\n",
       "    <tr style=\"text-align: right;\">\n",
       "      <th></th>\n",
       "      <th>language</th>\n",
       "      <th>article_id</th>\n",
       "      <th>content</th>\n",
       "      <th>entity_mention</th>\n",
       "      <th>start_offset</th>\n",
       "      <th>end_offset</th>\n",
       "      <th>main_role</th>\n",
       "      <th>sub_roles</th>\n",
       "    </tr>\n",
       "  </thead>\n",
       "  <tbody>\n",
       "    <tr>\n",
       "      <th>0</th>\n",
       "      <td>PT</td>\n",
       "      <td>PT_53.txt</td>\n",
       "      <td>Mais de 1600 Cientistas Negam a Emergência Cli...</td>\n",
       "      <td>Ivar Giaever</td>\n",
       "      <td>937</td>\n",
       "      <td>948</td>\n",
       "      <td>Protagonist</td>\n",
       "      <td>[Guardian]</td>\n",
       "    </tr>\n",
       "    <tr>\n",
       "      <th>1</th>\n",
       "      <td>PT</td>\n",
       "      <td>PT_53.txt</td>\n",
       "      <td>Mais de 1600 Cientistas Negam a Emergência Cli...</td>\n",
       "      <td>John F. Clauser</td>\n",
       "      <td>952</td>\n",
       "      <td>966</td>\n",
       "      <td>Protagonist</td>\n",
       "      <td>[Guardian]</td>\n",
       "    </tr>\n",
       "    <tr>\n",
       "      <th>2</th>\n",
       "      <td>PT</td>\n",
       "      <td>PT_47.txt</td>\n",
       "      <td>Zelensky admite a inevitabilidade da retirada ...</td>\n",
       "      <td>Ucrânia</td>\n",
       "      <td>857</td>\n",
       "      <td>863</td>\n",
       "      <td>Innocent</td>\n",
       "      <td>[Forgotten]</td>\n",
       "    </tr>\n",
       "    <tr>\n",
       "      <th>3</th>\n",
       "      <td>PT</td>\n",
       "      <td>PT_84.txt</td>\n",
       "      <td>Zelensky planeia segunda cimeira de paz em nov...</td>\n",
       "      <td>Volodymyr Zelensky</td>\n",
       "      <td>113</td>\n",
       "      <td>130</td>\n",
       "      <td>Protagonist</td>\n",
       "      <td>[Peacemaker]</td>\n",
       "    </tr>\n",
       "    <tr>\n",
       "      <th>4</th>\n",
       "      <td>PT</td>\n",
       "      <td>PT_84.txt</td>\n",
       "      <td>Zelensky planeia segunda cimeira de paz em nov...</td>\n",
       "      <td>Rússia</td>\n",
       "      <td>372</td>\n",
       "      <td>377</td>\n",
       "      <td>Antagonist</td>\n",
       "      <td>[Foreign Adversary]</td>\n",
       "    </tr>\n",
       "  </tbody>\n",
       "</table>\n",
       "</div>"
      ],
      "text/plain": [
       "  language article_id                                            content  \\\n",
       "0       PT  PT_53.txt  Mais de 1600 Cientistas Negam a Emergência Cli...   \n",
       "1       PT  PT_53.txt  Mais de 1600 Cientistas Negam a Emergência Cli...   \n",
       "2       PT  PT_47.txt  Zelensky admite a inevitabilidade da retirada ...   \n",
       "3       PT  PT_84.txt  Zelensky planeia segunda cimeira de paz em nov...   \n",
       "4       PT  PT_84.txt  Zelensky planeia segunda cimeira de paz em nov...   \n",
       "\n",
       "       entity_mention  start_offset  end_offset    main_role  \\\n",
       "0        Ivar Giaever           937         948  Protagonist   \n",
       "1     John F. Clauser           952         966  Protagonist   \n",
       "2             Ucrânia           857         863     Innocent   \n",
       "3  Volodymyr Zelensky           113         130  Protagonist   \n",
       "4              Rússia           372         377   Antagonist   \n",
       "\n",
       "             sub_roles  \n",
       "0           [Guardian]  \n",
       "1           [Guardian]  \n",
       "2          [Forgotten]  \n",
       "3         [Peacemaker]  \n",
       "4  [Foreign Adversary]  "
      ]
     },
     "execution_count": 10,
     "metadata": {},
     "output_type": "execute_result"
    }
   ],
   "source": [
    "dataset = pd.merge(documents_df, annotations_df, on='article_id')\n",
    "dataset.head()"
   ]
  },
  {
   "cell_type": "code",
   "execution_count": 11,
   "id": "f45bdcb1-f5ba-448a-b57e-604f584f467b",
   "metadata": {
    "colab": {
     "base_uri": "https://localhost:8080/"
    },
    "id": "f45bdcb1-f5ba-448a-b57e-604f584f467b",
    "outputId": "c54ad127-ce8d-4be3-cf61-56d4af025c74"
   },
   "outputs": [
    {
     "name": "stdout",
     "output_type": "stream",
     "text": [
      "103861\n"
     ]
    }
   ],
   "source": [
    "def extract_article_id(filename):\n",
    "    number_part = filename.split('_')[-1].split('.')[0]\n",
    "    return number_part\n",
    "\n",
    "print(extract_article_id('EN_UA_103861.txt'))"
   ]
  },
  {
   "cell_type": "code",
   "execution_count": 12,
   "id": "99bf53f1-5c74-4596-bf41-9b6809967ffb",
   "metadata": {
    "id": "99bf53f1-5c74-4596-bf41-9b6809967ffb"
   },
   "outputs": [],
   "source": [
    "dataset['article_id'] = dataset['article_id'].apply(extract_article_id)"
   ]
  },
  {
   "cell_type": "code",
   "execution_count": 13,
   "id": "27d0f923-2a22-4cad-98a8-03bd9b7e4550",
   "metadata": {
    "colab": {
     "base_uri": "https://localhost:8080/"
    },
    "id": "27d0f923-2a22-4cad-98a8-03bd9b7e4550",
    "outputId": "6c60c9a0-a14b-4ee3-d9a5-175903a7ecf9"
   },
   "outputs": [
    {
     "name": "stdout",
     "output_type": "stream",
     "text": [
      "Mais duas carcaças de golfinhos são encontradas no Lago Tefé, no Amazonas\n",
      "\n",
      "A ação de acompanhamento de emergência e possível retirada dos botos do Lago Tefé, no Amazonas, encontrou duas carcaças destes animais, informou hoje (2) o Instituto de Desenvolvimento Sustentável Mamirauá. A mobilização, realizada no fim de semana, ocorreu após a morte de mais de 100 mamíferos aquáticos, como o boto vermelho e o tucuxi, que viviam no local.\n",
      "\n",
      "No sábado (30), o Instituto Chico Mendes de Conservação da Biodiversidade (ICMBio) enviou equipas de veterinários e servidores do Centro de Mamíferos Aquáticos (CMA) e da Divisão de Emergência Ambiental, para apurar as causas da mortandade extrema destes mamíferos. Além da seca, a hipótese é que o calor esteja a provocar as mortes de peixes e mamíferos na região.\n",
      "\n",
      "A mobilização envolve organizações parceiras, como o Mamirauá, com ações de monitorização dos animais ainda vivos, busca e recolha de carcaças, recolha de amostras da água para análises de doenças e monitorização da temperatura da água, que atingiu os 40 graus Celsius (ºC).\n",
      "\n",
      "“Continuamos na operação a monitorizar a temperatura do lago. No dia 28, a temperatura atingiu os 39,1°C, desceu para os 37ºC, na sexta-feira e os 32ºC, no sábado. No entanto, ontem, às 16h, subiu para os 37,8°C e estamos muito alerta. Ainda não há um avanço maior para saber a causa das mortes, mas a temperatura continua a ser o principal candidato da causa da mortalidade, disse à Agência Brasil o membro do instituto Mamirauá, Ayan Fleischmann.\n",
      "\n",
      "Segundo Fleischmann, ainda não há uma atualização sobre o resgate dos animais ainda vivos que estão no lago. Na sexta-feira (29), o Mamirauá lançou um alerta à população que vive nas imediações do Lago Tefé para evitar o contacto com as águas do lago e também o uso recreativo.\n",
      "\n",
      "Em entrevista ao programa Viva Maria, da Rádio Nacional da Amazónia, a coordenadora do Grupo de Pesquisa em Mamíferos Aquáticos Amazónicos do Mamirauá, Miriam Marmontel, afirmou, no sábado (30), que estes animais acabam por atuar como sentinelas da qualidade da água e são os primeiros a serem afetados com alterações provocadas no ambiente.\n",
      "\n",
      "\"Deram-nos o alerta e agora temos de estar atentos a isso. A tendência, se não mudarmos os nossos hábitos, é para estes eventos continuarem a acontecer. O aquecimento global e a alteração dos parâmetros climáticos estão a afetar um ambiente que utilizamos muito, especialmente no Amazonas. A água é primordial para os amazónidas e essa água, que atualmente não está propícia para o boto, também não é propícia para o humano”, disse a investigadora.\n",
      "\n"
     ]
    }
   ],
   "source": [
    "print(dataset.iloc[6].content)"
   ]
  },
  {
   "cell_type": "code",
   "execution_count": 14,
   "id": "0c8caa4c-107a-482f-8b6d-c87fd8c621ef",
   "metadata": {
    "colab": {
     "base_uri": "https://localhost:8080/"
    },
    "id": "0c8caa4c-107a-482f-8b6d-c87fd8c621ef",
    "outputId": "1847fef2-ae77-4e78-9296-059f03802fb6"
   },
   "outputs": [
    {
     "name": "stdout",
     "output_type": "stream",
     "text": [
      "Fleischmann\n"
     ]
    }
   ],
   "source": [
    "print(dataset.iloc[6].entity_mention)"
   ]
  },
  {
   "cell_type": "code",
   "execution_count": 15,
   "id": "9cb31718-ca93-41f0-b37e-e6e3f47406c5",
   "metadata": {
    "colab": {
     "base_uri": "https://localhost:8080/",
     "height": 204
    },
    "id": "9cb31718-ca93-41f0-b37e-e6e3f47406c5",
    "outputId": "97a347d5-959e-4dd3-b37d-8502bdedd3bd"
   },
   "outputs": [
    {
     "data": {
      "text/html": [
       "<div>\n",
       "<style scoped>\n",
       "    .dataframe tbody tr th:only-of-type {\n",
       "        vertical-align: middle;\n",
       "    }\n",
       "\n",
       "    .dataframe tbody tr th {\n",
       "        vertical-align: top;\n",
       "    }\n",
       "\n",
       "    .dataframe thead th {\n",
       "        text-align: right;\n",
       "    }\n",
       "</style>\n",
       "<table border=\"1\" class=\"dataframe\">\n",
       "  <thead>\n",
       "    <tr style=\"text-align: right;\">\n",
       "      <th></th>\n",
       "      <th>language</th>\n",
       "      <th>article_id</th>\n",
       "      <th>content</th>\n",
       "      <th>entity_mention</th>\n",
       "      <th>start_offset</th>\n",
       "      <th>end_offset</th>\n",
       "      <th>main_role</th>\n",
       "      <th>sub_roles</th>\n",
       "    </tr>\n",
       "  </thead>\n",
       "  <tbody>\n",
       "    <tr>\n",
       "      <th>0</th>\n",
       "      <td>PT</td>\n",
       "      <td>53</td>\n",
       "      <td>Mais de 1600 Cientistas Negam a Emergência Cli...</td>\n",
       "      <td>Ivar Giaever</td>\n",
       "      <td>937</td>\n",
       "      <td>948</td>\n",
       "      <td>Protagonist</td>\n",
       "      <td>[Guardian]</td>\n",
       "    </tr>\n",
       "    <tr>\n",
       "      <th>1</th>\n",
       "      <td>PT</td>\n",
       "      <td>53</td>\n",
       "      <td>Mais de 1600 Cientistas Negam a Emergência Cli...</td>\n",
       "      <td>John F. Clauser</td>\n",
       "      <td>952</td>\n",
       "      <td>966</td>\n",
       "      <td>Protagonist</td>\n",
       "      <td>[Guardian]</td>\n",
       "    </tr>\n",
       "    <tr>\n",
       "      <th>2</th>\n",
       "      <td>PT</td>\n",
       "      <td>47</td>\n",
       "      <td>Zelensky admite a inevitabilidade da retirada ...</td>\n",
       "      <td>Ucrânia</td>\n",
       "      <td>857</td>\n",
       "      <td>863</td>\n",
       "      <td>Innocent</td>\n",
       "      <td>[Forgotten]</td>\n",
       "    </tr>\n",
       "    <tr>\n",
       "      <th>3</th>\n",
       "      <td>PT</td>\n",
       "      <td>84</td>\n",
       "      <td>Zelensky planeia segunda cimeira de paz em nov...</td>\n",
       "      <td>Volodymyr Zelensky</td>\n",
       "      <td>113</td>\n",
       "      <td>130</td>\n",
       "      <td>Protagonist</td>\n",
       "      <td>[Peacemaker]</td>\n",
       "    </tr>\n",
       "    <tr>\n",
       "      <th>4</th>\n",
       "      <td>PT</td>\n",
       "      <td>84</td>\n",
       "      <td>Zelensky planeia segunda cimeira de paz em nov...</td>\n",
       "      <td>Rússia</td>\n",
       "      <td>372</td>\n",
       "      <td>377</td>\n",
       "      <td>Antagonist</td>\n",
       "      <td>[Foreign Adversary]</td>\n",
       "    </tr>\n",
       "  </tbody>\n",
       "</table>\n",
       "</div>"
      ],
      "text/plain": [
       "  language article_id                                            content  \\\n",
       "0       PT         53  Mais de 1600 Cientistas Negam a Emergência Cli...   \n",
       "1       PT         53  Mais de 1600 Cientistas Negam a Emergência Cli...   \n",
       "2       PT         47  Zelensky admite a inevitabilidade da retirada ...   \n",
       "3       PT         84  Zelensky planeia segunda cimeira de paz em nov...   \n",
       "4       PT         84  Zelensky planeia segunda cimeira de paz em nov...   \n",
       "\n",
       "       entity_mention  start_offset  end_offset    main_role  \\\n",
       "0        Ivar Giaever           937         948  Protagonist   \n",
       "1     John F. Clauser           952         966  Protagonist   \n",
       "2             Ucrânia           857         863     Innocent   \n",
       "3  Volodymyr Zelensky           113         130  Protagonist   \n",
       "4              Rússia           372         377   Antagonist   \n",
       "\n",
       "             sub_roles  \n",
       "0           [Guardian]  \n",
       "1           [Guardian]  \n",
       "2          [Forgotten]  \n",
       "3         [Peacemaker]  \n",
       "4  [Foreign Adversary]  "
      ]
     },
     "execution_count": 15,
     "metadata": {},
     "output_type": "execute_result"
    }
   ],
   "source": [
    "dataset.head()"
   ]
  },
  {
   "cell_type": "code",
   "execution_count": 16,
   "id": "3aa8efed-27c8-4981-9464-1f08a5e9dc0f",
   "metadata": {
    "colab": {
     "base_uri": "https://localhost:8080/"
    },
    "id": "3aa8efed-27c8-4981-9464-1f08a5e9dc0f",
    "outputId": "9b5ab1fe-772a-472a-d0d7-23b459dbbdd7"
   },
   "outputs": [
    {
     "data": {
      "text/plain": [
       "(2535, 8)"
      ]
     },
     "execution_count": 16,
     "metadata": {},
     "output_type": "execute_result"
    }
   ],
   "source": [
    "dataset.shape"
   ]
  },
  {
   "cell_type": "code",
   "execution_count": 17,
   "id": "b7b2deab-4216-4afb-b827-143c8d64cbb0",
   "metadata": {
    "colab": {
     "base_uri": "https://localhost:8080/",
     "height": 207
    },
    "id": "b7b2deab-4216-4afb-b827-143c8d64cbb0",
    "outputId": "46c3f570-3796-48e9-e8f4-e3c5e7d42fda"
   },
   "outputs": [
    {
     "data": {
      "text/plain": [
       "main_role\n",
       "Antagonist     1234\n",
       "Protagonist     737\n",
       "Innocent        564\n",
       "Name: count, dtype: int64"
      ]
     },
     "execution_count": 17,
     "metadata": {},
     "output_type": "execute_result"
    }
   ],
   "source": [
    "dataset['main_role'].explode().value_counts()"
   ]
  },
  {
   "cell_type": "code",
   "execution_count": 18,
   "id": "24cfb27b-064c-4822-992c-339f1a6d468c",
   "metadata": {
    "colab": {
     "base_uri": "https://localhost:8080/",
     "height": 796
    },
    "id": "24cfb27b-064c-4822-992c-339f1a6d468c",
    "outputId": "f16c364c-ccc5-4738-a1c4-1bb1c69b346a"
   },
   "outputs": [
    {
     "data": {
      "text/plain": [
       "sub_roles\n",
       "Victim               478\n",
       "Foreign Adversary    363\n",
       "Guardian             285\n",
       "Virtuous             218\n",
       "Instigator           207\n",
       "Peacemaker           163\n",
       "Incompetent          144\n",
       "Tyrant               127\n",
       "Conspirator          120\n",
       "Deceiver             112\n",
       "Terrorist            101\n",
       "Corrupt               90\n",
       "Rebel                 60\n",
       "Saboteur              52\n",
       "Exploited             49\n",
       "Underdog              43\n",
       "Traitor               31\n",
       "Scapegoat             26\n",
       "Forgotten             24\n",
       "Bigot                 23\n",
       "Martyr                20\n",
       "Spy                   16\n",
       "Name: count, dtype: int64"
      ]
     },
     "execution_count": 18,
     "metadata": {},
     "output_type": "execute_result"
    }
   ],
   "source": [
    "dataset['sub_roles'].explode().value_counts()"
   ]
  },
  {
   "cell_type": "code",
   "execution_count": 19,
   "id": "7b7ac3af-8892-4915-8473-0a4d9b54f4a1",
   "metadata": {
    "colab": {
     "base_uri": "https://localhost:8080/",
     "height": 331
    },
    "id": "7b7ac3af-8892-4915-8473-0a4d9b54f4a1",
    "outputId": "e3186f22-7432-46f9-9de8-19af27e3890c"
   },
   "outputs": [
    {
     "data": {
      "text/plain": [
       "language          0\n",
       "article_id        0\n",
       "content           0\n",
       "entity_mention    0\n",
       "start_offset      0\n",
       "end_offset        0\n",
       "main_role         0\n",
       "sub_roles         0\n",
       "dtype: int64"
      ]
     },
     "execution_count": 19,
     "metadata": {},
     "output_type": "execute_result"
    }
   ],
   "source": [
    "dataset.isnull().sum()"
   ]
  },
  {
   "cell_type": "code",
   "execution_count": 20,
   "id": "8cb592fc-34e4-435d-9929-cffde383e419",
   "metadata": {
    "id": "8cb592fc-34e4-435d-9929-cffde383e419"
   },
   "outputs": [],
   "source": [
    "def get_context(row, window=50):\n",
    "    content = row['content']\n",
    "    start = int(row['start_offset'])\n",
    "    end = int(row['end_offset'])\n",
    "\n",
    "    words = content.split()\n",
    "\n",
    "    pre_entity_text = content[:start].split()\n",
    "    post_entity_text = content[end + 1:].split()\n",
    "\n",
    "    # Get context words before and after\n",
    "    context_before = \" \".join(pre_entity_text[-window:])\n",
    "    context_after = \" \".join(post_entity_text[:window])\n",
    "\n",
    "    return context_before, context_after\n",
    "\n",
    "dataset['context_before'], dataset['context_after'] = zip(*dataset.apply(get_context, axis=1))"
   ]
  },
  {
   "cell_type": "code",
   "execution_count": 21,
   "id": "77936c41-a093-40e7-a837-a3002f1ebe2a",
   "metadata": {
    "colab": {
     "base_uri": "https://localhost:8080/",
     "height": 89
    },
    "id": "77936c41-a093-40e7-a837-a3002f1ebe2a",
    "outputId": "af20c5e8-17fa-4aab-f21d-2c53b29c552f"
   },
   "outputs": [
    {
     "data": {
      "text/html": [
       "<div>\n",
       "<style scoped>\n",
       "    .dataframe tbody tr th:only-of-type {\n",
       "        vertical-align: middle;\n",
       "    }\n",
       "\n",
       "    .dataframe tbody tr th {\n",
       "        vertical-align: top;\n",
       "    }\n",
       "\n",
       "    .dataframe thead th {\n",
       "        text-align: right;\n",
       "    }\n",
       "</style>\n",
       "<table border=\"1\" class=\"dataframe\">\n",
       "  <thead>\n",
       "    <tr style=\"text-align: right;\">\n",
       "      <th></th>\n",
       "      <th>content</th>\n",
       "      <th>entity_mention</th>\n",
       "      <th>start_offset</th>\n",
       "      <th>end_offset</th>\n",
       "    </tr>\n",
       "  </thead>\n",
       "  <tbody>\n",
       "    <tr>\n",
       "      <th>0</th>\n",
       "      <td>Moscow: Russia will ask the UN Security Counci...</td>\n",
       "      <td>Russia</td>\n",
       "      <td>8</td>\n",
       "      <td>13</td>\n",
       "    </tr>\n",
       "  </tbody>\n",
       "</table>\n",
       "</div>"
      ],
      "text/plain": [
       "                                             content entity_mention  \\\n",
       "0  Moscow: Russia will ask the UN Security Counci...         Russia   \n",
       "\n",
       "   start_offset  end_offset  \n",
       "0             8          13  "
      ]
     },
     "execution_count": 21,
     "metadata": {},
     "output_type": "execute_result"
    }
   ],
   "source": [
    "example_context = \"Moscow: Russia will ask the UN Security Council for an investigation\"\n",
    "entity_mention = \"Russia\"\n",
    "start_offset = 8\n",
    "end_offset = 13\n",
    "\n",
    "example_df = pd.DataFrame({\n",
    "    'content': [example_context],\n",
    "    'entity_mention': [entity_mention],\n",
    "    'start_offset': [start_offset],\n",
    "    'end_offset': [end_offset]\n",
    "})\n",
    "\n",
    "example_df"
   ]
  },
  {
   "cell_type": "code",
   "execution_count": 22,
   "id": "808e6651-b4d7-4d89-94bf-5466d58c6a90",
   "metadata": {
    "colab": {
     "base_uri": "https://localhost:8080/"
    },
    "id": "808e6651-b4d7-4d89-94bf-5466d58c6a90",
    "outputId": "7d1fecd6-fb38-46ef-8f99-0b8eadb38ad9"
   },
   "outputs": [
    {
     "data": {
      "text/plain": [
       "('Moscow:', 'will ask the UN Security Council for an investigation')"
      ]
     },
     "execution_count": 22,
     "metadata": {},
     "output_type": "execute_result"
    }
   ],
   "source": [
    "get_context(example_df.iloc[0])"
   ]
  },
  {
   "cell_type": "code",
   "execution_count": 23,
   "id": "e5217fa2-1aa0-48d5-9f28-5edd411827c2",
   "metadata": {
    "id": "e5217fa2-1aa0-48d5-9f28-5edd411827c2"
   },
   "outputs": [],
   "source": [
    "dataset['entity_context'] = dataset['context_before'] + \" \" + dataset['entity_mention'] + \" \" + dataset['context_after']"
   ]
  },
  {
   "cell_type": "code",
   "execution_count": 24,
   "id": "d5cb08f9-53b0-430a-9054-ffe7f857dcde",
   "metadata": {
    "colab": {
     "base_uri": "https://localhost:8080/",
     "height": 289
    },
    "id": "d5cb08f9-53b0-430a-9054-ffe7f857dcde",
    "outputId": "82884b9d-0507-4111-c9ec-1776914ddf99"
   },
   "outputs": [
    {
     "data": {
      "text/html": [
       "<div>\n",
       "<style scoped>\n",
       "    .dataframe tbody tr th:only-of-type {\n",
       "        vertical-align: middle;\n",
       "    }\n",
       "\n",
       "    .dataframe tbody tr th {\n",
       "        vertical-align: top;\n",
       "    }\n",
       "\n",
       "    .dataframe thead th {\n",
       "        text-align: right;\n",
       "    }\n",
       "</style>\n",
       "<table border=\"1\" class=\"dataframe\">\n",
       "  <thead>\n",
       "    <tr style=\"text-align: right;\">\n",
       "      <th></th>\n",
       "      <th>language</th>\n",
       "      <th>article_id</th>\n",
       "      <th>content</th>\n",
       "      <th>entity_mention</th>\n",
       "      <th>start_offset</th>\n",
       "      <th>end_offset</th>\n",
       "      <th>main_role</th>\n",
       "      <th>sub_roles</th>\n",
       "      <th>entity_context</th>\n",
       "    </tr>\n",
       "  </thead>\n",
       "  <tbody>\n",
       "    <tr>\n",
       "      <th>0</th>\n",
       "      <td>PT</td>\n",
       "      <td>53</td>\n",
       "      <td>Mais de 1600 Cientistas Negam a Emergência Cli...</td>\n",
       "      <td>Ivar Giaever</td>\n",
       "      <td>937</td>\n",
       "      <td>948</td>\n",
       "      <td>Protagonist</td>\n",
       "      <td>[Guardian]</td>\n",
       "      <td>causas”, disse o grupo de cientistas. Defendem...</td>\n",
       "    </tr>\n",
       "    <tr>\n",
       "      <th>1</th>\n",
       "      <td>PT</td>\n",
       "      <td>53</td>\n",
       "      <td>Mais de 1600 Cientistas Negam a Emergência Cli...</td>\n",
       "      <td>John F. Clauser</td>\n",
       "      <td>952</td>\n",
       "      <td>966</td>\n",
       "      <td>Protagonist</td>\n",
       "      <td>[Guardian]</td>\n",
       "      <td>de cientistas. Defendem que este gás é “essenc...</td>\n",
       "    </tr>\n",
       "    <tr>\n",
       "      <th>2</th>\n",
       "      <td>PT</td>\n",
       "      <td>47</td>\n",
       "      <td>Zelensky admite a inevitabilidade da retirada ...</td>\n",
       "      <td>Ucrânia</td>\n",
       "      <td>857</td>\n",
       "      <td>863</td>\n",
       "      <td>Innocent</td>\n",
       "      <td>[Forgotten]</td>\n",
       "      <td>Washington Post. \"Se não houver apoio dos Esta...</td>\n",
       "    </tr>\n",
       "    <tr>\n",
       "      <th>3</th>\n",
       "      <td>PT</td>\n",
       "      <td>84</td>\n",
       "      <td>Zelensky planeia segunda cimeira de paz em nov...</td>\n",
       "      <td>Volodymyr Zelensky</td>\n",
       "      <td>113</td>\n",
       "      <td>130</td>\n",
       "      <td>Protagonist</td>\n",
       "      <td>[Peacemaker]</td>\n",
       "      <td>Zelensky planeia segunda cimeira de paz em nov...</td>\n",
       "    </tr>\n",
       "    <tr>\n",
       "      <th>4</th>\n",
       "      <td>PT</td>\n",
       "      <td>84</td>\n",
       "      <td>Zelensky planeia segunda cimeira de paz em nov...</td>\n",
       "      <td>Rússia</td>\n",
       "      <td>372</td>\n",
       "      <td>377</td>\n",
       "      <td>Antagonist</td>\n",
       "      <td>[Foreign Adversary]</td>\n",
       "      <td>e diz que Rússia deve participar O presidente ...</td>\n",
       "    </tr>\n",
       "  </tbody>\n",
       "</table>\n",
       "</div>"
      ],
      "text/plain": [
       "  language article_id                                            content  \\\n",
       "0       PT         53  Mais de 1600 Cientistas Negam a Emergência Cli...   \n",
       "1       PT         53  Mais de 1600 Cientistas Negam a Emergência Cli...   \n",
       "2       PT         47  Zelensky admite a inevitabilidade da retirada ...   \n",
       "3       PT         84  Zelensky planeia segunda cimeira de paz em nov...   \n",
       "4       PT         84  Zelensky planeia segunda cimeira de paz em nov...   \n",
       "\n",
       "       entity_mention  start_offset  end_offset    main_role  \\\n",
       "0        Ivar Giaever           937         948  Protagonist   \n",
       "1     John F. Clauser           952         966  Protagonist   \n",
       "2             Ucrânia           857         863     Innocent   \n",
       "3  Volodymyr Zelensky           113         130  Protagonist   \n",
       "4              Rússia           372         377   Antagonist   \n",
       "\n",
       "             sub_roles                                     entity_context  \n",
       "0           [Guardian]  causas”, disse o grupo de cientistas. Defendem...  \n",
       "1           [Guardian]  de cientistas. Defendem que este gás é “essenc...  \n",
       "2          [Forgotten]  Washington Post. \"Se não houver apoio dos Esta...  \n",
       "3         [Peacemaker]  Zelensky planeia segunda cimeira de paz em nov...  \n",
       "4  [Foreign Adversary]  e diz que Rússia deve participar O presidente ...  "
      ]
     },
     "execution_count": 24,
     "metadata": {},
     "output_type": "execute_result"
    }
   ],
   "source": [
    "dataset.drop(columns=['context_before', 'context_after'], inplace=True)\n",
    "dataset.head()"
   ]
  },
  {
   "cell_type": "code",
   "execution_count": 25,
   "id": "5582235e-b52d-43b1-9b66-89e423e4332c",
   "metadata": {
    "colab": {
     "base_uri": "https://localhost:8080/",
     "height": 289
    },
    "id": "5582235e-b52d-43b1-9b66-89e423e4332c",
    "outputId": "3f71f5da-8786-4434-c1cb-7fbed22778f7"
   },
   "outputs": [
    {
     "data": {
      "text/html": [
       "<div>\n",
       "<style scoped>\n",
       "    .dataframe tbody tr th:only-of-type {\n",
       "        vertical-align: middle;\n",
       "    }\n",
       "\n",
       "    .dataframe tbody tr th {\n",
       "        vertical-align: top;\n",
       "    }\n",
       "\n",
       "    .dataframe thead th {\n",
       "        text-align: right;\n",
       "    }\n",
       "</style>\n",
       "<table border=\"1\" class=\"dataframe\">\n",
       "  <thead>\n",
       "    <tr style=\"text-align: right;\">\n",
       "      <th></th>\n",
       "      <th>language</th>\n",
       "      <th>article_id</th>\n",
       "      <th>content</th>\n",
       "      <th>entity_mention</th>\n",
       "      <th>start_offset</th>\n",
       "      <th>end_offset</th>\n",
       "      <th>main_role</th>\n",
       "      <th>sub_roles</th>\n",
       "      <th>entity_context</th>\n",
       "    </tr>\n",
       "  </thead>\n",
       "  <tbody>\n",
       "    <tr>\n",
       "      <th>0</th>\n",
       "      <td>PT</td>\n",
       "      <td>53</td>\n",
       "      <td>Mais de 1600 Cientistas Negam a Emergência Cli...</td>\n",
       "      <td>Ivar Giaever</td>\n",
       "      <td>937</td>\n",
       "      <td>948</td>\n",
       "      <td>Protagonist</td>\n",
       "      <td>[Guardian]</td>\n",
       "      <td>causas”, disse o grupo de cientistas. Defendem...</td>\n",
       "    </tr>\n",
       "    <tr>\n",
       "      <th>1</th>\n",
       "      <td>PT</td>\n",
       "      <td>53</td>\n",
       "      <td>Mais de 1600 Cientistas Negam a Emergência Cli...</td>\n",
       "      <td>John F. Clauser</td>\n",
       "      <td>952</td>\n",
       "      <td>966</td>\n",
       "      <td>Protagonist</td>\n",
       "      <td>[Guardian]</td>\n",
       "      <td>de cientistas. Defendem que este gás é “essenc...</td>\n",
       "    </tr>\n",
       "    <tr>\n",
       "      <th>2</th>\n",
       "      <td>PT</td>\n",
       "      <td>47</td>\n",
       "      <td>Zelensky admite a inevitabilidade da retirada ...</td>\n",
       "      <td>Ucrânia</td>\n",
       "      <td>857</td>\n",
       "      <td>863</td>\n",
       "      <td>Innocent</td>\n",
       "      <td>[Forgotten]</td>\n",
       "      <td>Washington Post. \"Se não houver apoio dos Esta...</td>\n",
       "    </tr>\n",
       "    <tr>\n",
       "      <th>3</th>\n",
       "      <td>PT</td>\n",
       "      <td>84</td>\n",
       "      <td>Zelensky planeia segunda cimeira de paz em nov...</td>\n",
       "      <td>Volodymyr Zelensky</td>\n",
       "      <td>113</td>\n",
       "      <td>130</td>\n",
       "      <td>Protagonist</td>\n",
       "      <td>[Peacemaker]</td>\n",
       "      <td>Zelensky planeia segunda cimeira de paz em nov...</td>\n",
       "    </tr>\n",
       "    <tr>\n",
       "      <th>4</th>\n",
       "      <td>PT</td>\n",
       "      <td>84</td>\n",
       "      <td>Zelensky planeia segunda cimeira de paz em nov...</td>\n",
       "      <td>Rússia</td>\n",
       "      <td>372</td>\n",
       "      <td>377</td>\n",
       "      <td>Antagonist</td>\n",
       "      <td>[Foreign Adversary]</td>\n",
       "      <td>e diz que Rússia deve participar O presidente ...</td>\n",
       "    </tr>\n",
       "  </tbody>\n",
       "</table>\n",
       "</div>"
      ],
      "text/plain": [
       "  language article_id                                            content  \\\n",
       "0       PT         53  Mais de 1600 Cientistas Negam a Emergência Cli...   \n",
       "1       PT         53  Mais de 1600 Cientistas Negam a Emergência Cli...   \n",
       "2       PT         47  Zelensky admite a inevitabilidade da retirada ...   \n",
       "3       PT         84  Zelensky planeia segunda cimeira de paz em nov...   \n",
       "4       PT         84  Zelensky planeia segunda cimeira de paz em nov...   \n",
       "\n",
       "       entity_mention  start_offset  end_offset    main_role  \\\n",
       "0        Ivar Giaever           937         948  Protagonist   \n",
       "1     John F. Clauser           952         966  Protagonist   \n",
       "2             Ucrânia           857         863     Innocent   \n",
       "3  Volodymyr Zelensky           113         130  Protagonist   \n",
       "4              Rússia           372         377   Antagonist   \n",
       "\n",
       "             sub_roles                                     entity_context  \n",
       "0           [Guardian]  causas”, disse o grupo de cientistas. Defendem...  \n",
       "1           [Guardian]  de cientistas. Defendem que este gás é “essenc...  \n",
       "2          [Forgotten]  Washington Post. \"Se não houver apoio dos Esta...  \n",
       "3         [Peacemaker]  Zelensky planeia segunda cimeira de paz em nov...  \n",
       "4  [Foreign Adversary]  e diz que Rússia deve participar O presidente ...  "
      ]
     },
     "execution_count": 25,
     "metadata": {},
     "output_type": "execute_result"
    }
   ],
   "source": [
    "dataset.head()"
   ]
  },
  {
   "cell_type": "code",
   "execution_count": 26,
   "id": "7b2c3cd0-9e79-4960-bfe7-347211a4b48f",
   "metadata": {
    "colab": {
     "base_uri": "https://localhost:8080/"
    },
    "id": "7b2c3cd0-9e79-4960-bfe7-347211a4b48f",
    "outputId": "6c83a9b9-1457-4b48-9bed-c18423526bdb"
   },
   "outputs": [
    {
     "name": "stdout",
     "output_type": "stream",
     "text": [
      "Collecting xx-ent-wiki-sm==3.8.0\n",
      "  Downloading https://github.com/explosion/spacy-models/releases/download/xx_ent_wiki_sm-3.8.0/xx_ent_wiki_sm-3.8.0-py3-none-any.whl (11.1 MB)\n",
      "\u001b[2K     \u001b[90m━━━━━━━━━━━━━━━━━━━━━━━━━━━━━━━━━━━━━━━━\u001b[0m \u001b[32m11.1/11.1 MB\u001b[0m \u001b[31m11.4 MB/s\u001b[0m eta \u001b[36m0:00:00\u001b[0m00:01\u001b[0m0:01\u001b[0m\n",
      "\u001b[?25h\u001b[38;5;2m✔ Download and installation successful\u001b[0m\n",
      "You can now load the package via spacy.load('xx_ent_wiki_sm')\n",
      "Collecting en-core-web-sm==3.8.0\n",
      "  Downloading https://github.com/explosion/spacy-models/releases/download/en_core_web_sm-3.8.0/en_core_web_sm-3.8.0-py3-none-any.whl (12.8 MB)\n",
      "\u001b[2K     \u001b[90m━━━━━━━━━━━━━━━━━━━━━━━━━━━━━━━━━━━━━━━━\u001b[0m \u001b[32m12.8/12.8 MB\u001b[0m \u001b[31m9.3 MB/s\u001b[0m eta \u001b[36m0:00:00\u001b[0m00:01\u001b[0m00:01\u001b[0m\n",
      "\u001b[?25h\u001b[38;5;2m✔ Download and installation successful\u001b[0m\n",
      "You can now load the package via spacy.load('en_core_web_sm')\n",
      "Collecting pt-core-news-sm==3.8.0\n",
      "  Downloading https://github.com/explosion/spacy-models/releases/download/pt_core_news_sm-3.8.0/pt_core_news_sm-3.8.0-py3-none-any.whl (13.0 MB)\n",
      "\u001b[2K     \u001b[90m━━━━━━━━━━━━━━━━━━━━━━━━━━━━━━━━━━━━━━━━\u001b[0m \u001b[32m13.0/13.0 MB\u001b[0m \u001b[31m10.6 MB/s\u001b[0m eta \u001b[36m0:00:00\u001b[0ma \u001b[36m0:00:01\u001b[0m\n",
      "\u001b[?25h\u001b[38;5;2m✔ Download and installation successful\u001b[0m\n",
      "You can now load the package via spacy.load('pt_core_news_sm')\n"
     ]
    }
   ],
   "source": [
    "!python3 -m spacy download xx_ent_wiki_sm\n",
    "!python3 -m spacy download en_core_web_sm\n",
    "!python3 -m spacy download pt_core_news_sm"
   ]
  },
  {
   "cell_type": "code",
   "execution_count": 27,
   "id": "e14061b7-9949-4577-99a2-c13141d617be",
   "metadata": {
    "id": "e14061b7-9949-4577-99a2-c13141d617be"
   },
   "outputs": [],
   "source": [
    "language_model_map = {\n",
    "    \"BG\": \"xx_ent_wiki_sm\",\n",
    "    \"EN\": \"en_core_web_sm\",\n",
    "    \"HI\": \"xx_ent_wiki_sm\",\n",
    "    \"PT\": \"pt_core_news_sm\",\n",
    "}"
   ]
  },
  {
   "cell_type": "code",
   "execution_count": 28,
   "id": "914ad703-e2ec-4390-b99d-625665779423",
   "metadata": {
    "colab": {
     "base_uri": "https://localhost:8080/"
    },
    "id": "914ad703-e2ec-4390-b99d-625665779423",
    "outputId": "d895e851-808b-4567-da9a-df52a5280c49"
   },
   "outputs": [
    {
     "name": "stdout",
     "output_type": "stream",
     "text": [
      "Requirement already satisfied: emoji in /Library/Frameworks/Python.framework/Versions/3.12/lib/python3.12/site-packages (2.14.0)\n"
     ]
    }
   ],
   "source": [
    "!pip3 install emoji"
   ]
  },
  {
   "cell_type": "code",
   "execution_count": 29,
   "id": "d5b5ba80-e193-444b-b3da-805d15c4bf5e",
   "metadata": {
    "id": "d5b5ba80-e193-444b-b3da-805d15c4bf5e"
   },
   "outputs": [],
   "source": [
    "import spacy\n",
    "import re\n",
    "import emoji\n",
    "\n",
    "nlp_models = {lang: spacy.load(model) for lang, model in language_model_map.items()}\n",
    "\n",
    "def clean_article(article_text, language_code, entity_mention):\n",
    "    nlp = nlp_models.get(language_code, nlp_models[\"EN\"])\n",
    "\n",
    "    article_text = re.sub(\n",
    "        r'(http\\S+|www\\S+|https\\S+|[a-zA-Z0-9.-]+\\.com|'\n",
    "        r'[a-zA-Z0-9_.+-]+@[a-zA-Z0-9-]+\\.[a-zA-Z0-9-.]+|@[A-Za-z0-9_]+)',\n",
    "        '',\n",
    "        article_text\n",
    "    )\n",
    "\n",
    "    doc = nlp(article_text)\n",
    "\n",
    "    cleaned_tokens = []\n",
    "    important_entity_types = [\"PERSON\", \"ORG\", \"GPE\"]\n",
    "\n",
    "    for token in doc:\n",
    "        if token.is_space or emoji.is_emoji(token.text):\n",
    "            continue\n",
    "\n",
    "        if token.text.lower() == entity_mention.lower():\n",
    "            cleaned_tokens.append(f\"[ENTITY_START] {entity_mention} [ENTITY_END] \")\n",
    "        else:\n",
    "            cleaned_tokens.append(token.text.lower() + token.whitespace_)\n",
    "\n",
    "    return \"\".join(cleaned_tokens).strip()\n",
    "\n",
    "dataset[\"entity_context\"] = dataset.apply(\n",
    "    lambda row: clean_article(row[\"entity_context\"], row[\"language\"], row[\"entity_mention\"]),\n",
    "    axis=1\n",
    ")"
   ]
  },
  {
   "cell_type": "code",
   "execution_count": 30,
   "id": "1bf9f6be-4198-478d-88c6-b8b602893830",
   "metadata": {
    "id": "1bf9f6be-4198-478d-88c6-b8b602893830"
   },
   "outputs": [
    {
     "name": "stdout",
     "output_type": "stream",
     "text": [
      "no entanto, ontem, às 16h, subiu para os 37,8°c e estamos muito alerta. ainda não há um avanço maior para saber a causa das mortes, mas a temperatura continua a ser o principal candidato da causa da mortalidade, disse à agência brasil o membro do instituto mamirauá, ayan [ENTITY_START] Fleischmann [ENTITY_END] . segundo [ENTITY_START] Fleischmann [ENTITY_END] , ainda não há uma atualização sobre o resgate dos animais ainda vivos que estão no lago. na sexta-feira (29), o mamirauá lançou um alerta à população que vive nas imediações do lago tefé para evitar o contacto com as águas do lago e também o uso recreativo. em entrevista\n"
     ]
    }
   ],
   "source": [
    "print(dataset.iloc[6].entity_context)"
   ]
  },
  {
   "cell_type": "code",
   "execution_count": 31,
   "id": "1ec178e8-714f-458e-ab77-c7c47177ec2a",
   "metadata": {
    "id": "1ec178e8-714f-458e-ab77-c7c47177ec2a"
   },
   "outputs": [],
   "source": [
    "from sklearn.preprocessing import LabelEncoder\n",
    "\n",
    "le_main_role = LabelEncoder()\n",
    "dataset['main_role_encoded'] = le_main_role.fit_transform(dataset['main_role'])"
   ]
  },
  {
   "cell_type": "code",
   "execution_count": 32,
   "id": "SOsaVWs-JLlQ",
   "metadata": {
    "id": "SOsaVWs-JLlQ"
   },
   "outputs": [
    {
     "name": "stdout",
     "output_type": "stream",
     "text": [
      "(2535, 11)\n"
     ]
    },
    {
     "data": {
      "text/html": [
       "<div>\n",
       "<style scoped>\n",
       "    .dataframe tbody tr th:only-of-type {\n",
       "        vertical-align: middle;\n",
       "    }\n",
       "\n",
       "    .dataframe tbody tr th {\n",
       "        vertical-align: top;\n",
       "    }\n",
       "\n",
       "    .dataframe thead th {\n",
       "        text-align: right;\n",
       "    }\n",
       "</style>\n",
       "<table border=\"1\" class=\"dataframe\">\n",
       "  <thead>\n",
       "    <tr style=\"text-align: right;\">\n",
       "      <th></th>\n",
       "      <th>language</th>\n",
       "      <th>article_id</th>\n",
       "      <th>content</th>\n",
       "      <th>entity_mention</th>\n",
       "      <th>start_offset</th>\n",
       "      <th>end_offset</th>\n",
       "      <th>main_role</th>\n",
       "      <th>sub_roles</th>\n",
       "      <th>entity_context</th>\n",
       "      <th>main_role_encoded</th>\n",
       "      <th>sub_roles_encoded</th>\n",
       "    </tr>\n",
       "  </thead>\n",
       "  <tbody>\n",
       "    <tr>\n",
       "      <th>0</th>\n",
       "      <td>PT</td>\n",
       "      <td>53</td>\n",
       "      <td>Mais de 1600 Cientistas Negam a Emergência Cli...</td>\n",
       "      <td>Ivar Giaever</td>\n",
       "      <td>937</td>\n",
       "      <td>948</td>\n",
       "      <td>Protagonist</td>\n",
       "      <td>[Guardian]</td>\n",
       "      <td>causas”, disse o grupo de cientistas. defendem...</td>\n",
       "      <td>2</td>\n",
       "      <td>[0, 0, 0, 0, 0, 0, 0, 1, 0, 0, 0, 0, 0, 0, 0, ...</td>\n",
       "    </tr>\n",
       "    <tr>\n",
       "      <th>1</th>\n",
       "      <td>PT</td>\n",
       "      <td>53</td>\n",
       "      <td>Mais de 1600 Cientistas Negam a Emergência Cli...</td>\n",
       "      <td>John F. Clauser</td>\n",
       "      <td>952</td>\n",
       "      <td>966</td>\n",
       "      <td>Protagonist</td>\n",
       "      <td>[Guardian]</td>\n",
       "      <td>de cientistas. defendem que este gás é “essenc...</td>\n",
       "      <td>2</td>\n",
       "      <td>[0, 0, 0, 0, 0, 0, 0, 1, 0, 0, 0, 0, 0, 0, 0, ...</td>\n",
       "    </tr>\n",
       "    <tr>\n",
       "      <th>2</th>\n",
       "      <td>PT</td>\n",
       "      <td>47</td>\n",
       "      <td>Zelensky admite a inevitabilidade da retirada ...</td>\n",
       "      <td>Ucrânia</td>\n",
       "      <td>857</td>\n",
       "      <td>863</td>\n",
       "      <td>Innocent</td>\n",
       "      <td>[Forgotten]</td>\n",
       "      <td>washington post. \"se não houver apoio dos esta...</td>\n",
       "      <td>1</td>\n",
       "      <td>[0, 0, 0, 0, 0, 0, 1, 0, 0, 0, 0, 0, 0, 0, 0, ...</td>\n",
       "    </tr>\n",
       "    <tr>\n",
       "      <th>3</th>\n",
       "      <td>PT</td>\n",
       "      <td>84</td>\n",
       "      <td>Zelensky planeia segunda cimeira de paz em nov...</td>\n",
       "      <td>Volodymyr Zelensky</td>\n",
       "      <td>113</td>\n",
       "      <td>130</td>\n",
       "      <td>Protagonist</td>\n",
       "      <td>[Peacemaker]</td>\n",
       "      <td>zelensky planeia segunda cimeira de paz em nov...</td>\n",
       "      <td>2</td>\n",
       "      <td>[0, 0, 0, 0, 0, 0, 0, 0, 0, 0, 0, 1, 0, 0, 0, ...</td>\n",
       "    </tr>\n",
       "    <tr>\n",
       "      <th>4</th>\n",
       "      <td>PT</td>\n",
       "      <td>84</td>\n",
       "      <td>Zelensky planeia segunda cimeira de paz em nov...</td>\n",
       "      <td>Rússia</td>\n",
       "      <td>372</td>\n",
       "      <td>377</td>\n",
       "      <td>Antagonist</td>\n",
       "      <td>[Foreign Adversary]</td>\n",
       "      <td>e diz que [ENTITY_START] Rússia [ENTITY_END] d...</td>\n",
       "      <td>0</td>\n",
       "      <td>[0, 0, 0, 0, 0, 1, 0, 0, 0, 0, 0, 0, 0, 0, 0, ...</td>\n",
       "    </tr>\n",
       "  </tbody>\n",
       "</table>\n",
       "</div>"
      ],
      "text/plain": [
       "  language article_id                                            content  \\\n",
       "0       PT         53  Mais de 1600 Cientistas Negam a Emergência Cli...   \n",
       "1       PT         53  Mais de 1600 Cientistas Negam a Emergência Cli...   \n",
       "2       PT         47  Zelensky admite a inevitabilidade da retirada ...   \n",
       "3       PT         84  Zelensky planeia segunda cimeira de paz em nov...   \n",
       "4       PT         84  Zelensky planeia segunda cimeira de paz em nov...   \n",
       "\n",
       "       entity_mention  start_offset  end_offset    main_role  \\\n",
       "0        Ivar Giaever           937         948  Protagonist   \n",
       "1     John F. Clauser           952         966  Protagonist   \n",
       "2             Ucrânia           857         863     Innocent   \n",
       "3  Volodymyr Zelensky           113         130  Protagonist   \n",
       "4              Rússia           372         377   Antagonist   \n",
       "\n",
       "             sub_roles                                     entity_context  \\\n",
       "0           [Guardian]  causas”, disse o grupo de cientistas. defendem...   \n",
       "1           [Guardian]  de cientistas. defendem que este gás é “essenc...   \n",
       "2          [Forgotten]  washington post. \"se não houver apoio dos esta...   \n",
       "3         [Peacemaker]  zelensky planeia segunda cimeira de paz em nov...   \n",
       "4  [Foreign Adversary]  e diz que [ENTITY_START] Rússia [ENTITY_END] d...   \n",
       "\n",
       "   main_role_encoded                                  sub_roles_encoded  \n",
       "0                  2  [0, 0, 0, 0, 0, 0, 0, 1, 0, 0, 0, 0, 0, 0, 0, ...  \n",
       "1                  2  [0, 0, 0, 0, 0, 0, 0, 1, 0, 0, 0, 0, 0, 0, 0, ...  \n",
       "2                  1  [0, 0, 0, 0, 0, 0, 1, 0, 0, 0, 0, 0, 0, 0, 0, ...  \n",
       "3                  2  [0, 0, 0, 0, 0, 0, 0, 0, 0, 0, 0, 1, 0, 0, 0, ...  \n",
       "4                  0  [0, 0, 0, 0, 0, 1, 0, 0, 0, 0, 0, 0, 0, 0, 0, ...  "
      ]
     },
     "execution_count": 32,
     "metadata": {},
     "output_type": "execute_result"
    }
   ],
   "source": [
    "from sklearn.preprocessing import MultiLabelBinarizer\n",
    "\n",
    "mlb_sub_role = MultiLabelBinarizer()\n",
    "dataset.loc[:, 'sub_roles_encoded'] = list(mlb_sub_role.fit_transform(dataset['sub_roles']))\n",
    "\n",
    "print(dataset.shape)\n",
    "dataset.head()"
   ]
  },
  {
   "cell_type": "code",
   "execution_count": 64,
   "id": "6266250f-84d3-4bd8-a23c-049d1974d640",
   "metadata": {
    "id": "6266250f-84d3-4bd8-a23c-049d1974d640"
   },
   "outputs": [
    {
     "name": "stderr",
     "output_type": "stream",
     "text": [
      "/Library/Frameworks/Python.framework/Versions/3.12/lib/python3.12/site-packages/transformers/tokenization_utils_base.py:1602: FutureWarning: `clean_up_tokenization_spaces` was not set. It will be set to `True` by default. This behavior will be deprecated in transformers v4.45, and will be then set to `False` by default. For more details check this issue: https://github.com/huggingface/transformers/issues/31884\n",
      "  warnings.warn(\n",
      "/Library/Frameworks/Python.framework/Versions/3.12/lib/python3.12/site-packages/sentence_transformers/models/Dense.py:63: FutureWarning: You are using `torch.load` with `weights_only=False` (the current default value), which uses the default pickle module implicitly. It is possible to construct malicious pickle data which will execute arbitrary code during unpickling (See https://github.com/pytorch/pytorch/blob/main/SECURITY.md#untrusted-models for more details). In a future release, the default value for `weights_only` will be flipped to `True`. This limits the functions that could be executed during unpickling. Arbitrary objects will no longer be allowed to be loaded via this mode unless they are explicitly allowlisted by the user via `torch.serialization.add_safe_globals`. We recommend you start setting `weights_only=True` for any use case where you don't have full control of the loaded file. Please open an issue on GitHub for any issues related to this experimental feature.\n",
      "  model.load_state_dict(torch.load(os.path.join(input_path, 'pytorch_model.bin'), map_location=torch.device('cpu')))\n"
     ]
    }
   ],
   "source": [
    "from sentence_transformers import SentenceTransformer\n",
    "model = SentenceTransformer('sentence-transformers/LaBSE')"
   ]
  },
  {
   "cell_type": "code",
   "execution_count": 34,
   "id": "6efa0141-e7f7-4f58-a0be-758bfa7ff6da",
   "metadata": {
    "id": "6efa0141-e7f7-4f58-a0be-758bfa7ff6da"
   },
   "outputs": [],
   "source": [
    "texts = [\n",
    "    \"This is a news article about politics.\",  # English\n",
    "    \"यह राजनीति के बारे में एक समाचार लेख है।\",  # Hindi\n",
    "    \"Este é um artigo de notícias sobre política.\",  # Portuguese\n",
    "    \"Това е новинарска статия за политика.\",  # Bulgarian\n",
    "    \"The sun rises in the east.\"  # Unrelated English sentence\n",
    "]"
   ]
  },
  {
   "cell_type": "code",
   "execution_count": 35,
   "id": "cfbfdace-c929-4995-9380-6af5b811081b",
   "metadata": {
    "id": "cfbfdace-c929-4995-9380-6af5b811081b"
   },
   "outputs": [],
   "source": [
    "embeddings = model.encode(texts)"
   ]
  },
  {
   "cell_type": "code",
   "execution_count": 36,
   "id": "2b69e7cc-3e34-4604-8441-72078e0a46ce",
   "metadata": {
    "id": "2b69e7cc-3e34-4604-8441-72078e0a46ce"
   },
   "outputs": [
    {
     "name": "stdout",
     "output_type": "stream",
     "text": [
      "Cosine Similarity Matrix:\n",
      "[[1.         0.8829176  0.9265815  0.8651781  0.19801825]\n",
      " [0.8829176  1.0000002  0.96578115 0.89237857 0.23692542]\n",
      " [0.9265815  0.96578115 1.0000002  0.9107212  0.21260464]\n",
      " [0.8651781  0.89237857 0.9107212  1.0000002  0.18266794]\n",
      " [0.19801825 0.23692542 0.21260464 0.18266794 1.        ]]\n"
     ]
    }
   ],
   "source": [
    "from sklearn.metrics.pairwise import cosine_similarity\n",
    "\n",
    "cos_sim_matrix = cosine_similarity(embeddings)\n",
    "\n",
    "print(\"Cosine Similarity Matrix:\")\n",
    "print(cos_sim_matrix)"
   ]
  },
  {
   "cell_type": "code",
   "execution_count": 37,
   "id": "28a894cf-2874-4b9a-a506-7a5f492bc254",
   "metadata": {
    "id": "28a894cf-2874-4b9a-a506-7a5f492bc254"
   },
   "outputs": [],
   "source": [
    "from sklearn.model_selection import train_test_split\n",
    "\n",
    "dataset_train, dataset_temp = train_test_split(\n",
    "    dataset,\n",
    "    train_size=0.85,\n",
    "    shuffle=True,\n",
    "    stratify=dataset['main_role_encoded']\n",
    ")\n",
    "\n",
    "dataset_val, dataset_test = train_test_split(\n",
    "    dataset_temp,\n",
    "    train_size=0.5,\n",
    "    shuffle=True,\n",
    "    stratify=dataset_temp['main_role_encoded']\n",
    ")"
   ]
  },
  {
   "cell_type": "code",
   "execution_count": 38,
   "id": "722bf5df-6797-4597-a5ce-206070a3c745",
   "metadata": {
    "id": "722bf5df-6797-4597-a5ce-206070a3c745"
   },
   "outputs": [],
   "source": [
    "def get_embeddings_multilingual(dataset):\n",
    "    embeddings = []\n",
    "    for index, row in dataset.iterrows():\n",
    "        content = row['entity_context']\n",
    "        embedding = model.encode(content)\n",
    "        combined_embedding = np.concatenate([embedding])\n",
    "        embeddings.append(combined_embedding)\n",
    "    embeddings_array = np.array(embeddings)\n",
    "    return embeddings_array"
   ]
  },
  {
   "cell_type": "code",
   "execution_count": 39,
   "id": "20a0dc7a-f095-40d8-b89f-165423b06f3b",
   "metadata": {
    "id": "20a0dc7a-f095-40d8-b89f-165423b06f3b"
   },
   "outputs": [],
   "source": [
    "def prepare_data(train_data, val_data):\n",
    "    train_embeddings = get_embeddings_multilingual(train_data)\n",
    "    val_embeddings = get_embeddings_multilingual(val_data)\n",
    "\n",
    "    return train_embeddings, val_embeddings"
   ]
  },
  {
   "cell_type": "code",
   "execution_count": 40,
   "id": "192c39c4-84e4-4cf9-9410-a5d69cee3e13",
   "metadata": {
    "id": "192c39c4-84e4-4cf9-9410-a5d69cee3e13"
   },
   "outputs": [],
   "source": [
    "train_embeddings, val_embeddings = prepare_data(dataset_train, dataset_val)"
   ]
  },
  {
   "cell_type": "code",
   "execution_count": 41,
   "id": "wt9_vFSsJ5W2",
   "metadata": {
    "id": "wt9_vFSsJ5W2"
   },
   "outputs": [],
   "source": [
    "y_train_main_encoded = np.array(dataset_train['main_role_encoded'].tolist())\n",
    "y_val_main_encoded = np.array(dataset_val['main_role_encoded'].tolist())"
   ]
  },
  {
   "cell_type": "code",
   "execution_count": 42,
   "id": "nrPOuQxhKC-Q",
   "metadata": {
    "id": "nrPOuQxhKC-Q"
   },
   "outputs": [],
   "source": [
    "y_train_sub_encoded = np.array(dataset_train['sub_roles_encoded'].tolist())\n",
    "y_val_sub_encoded = np.array(dataset_val['sub_roles_encoded'].tolist())"
   ]
  },
  {
   "cell_type": "code",
   "execution_count": 43,
   "id": "1b8c57c4-b899-4571-aeb9-7f16ea8df21d",
   "metadata": {
    "id": "1b8c57c4-b899-4571-aeb9-7f16ea8df21d"
   },
   "outputs": [],
   "source": [
    "import warnings\n",
    "from sklearn.metrics import classification_report, confusion_matrix\n",
    "\n",
    "def get_classification_report(y_true, y_pred):\n",
    "  # Ignore warnings\n",
    "    with warnings.catch_warnings():\n",
    "        warnings.simplefilter(\"ignore\")\n",
    "        report = classification_report(y_true, y_pred, output_dict=True)\n",
    "    report_df = pd.DataFrame(report).transpose()\n",
    "    return report_df\n",
    "\n",
    "def plot_confusion_matrix(y_true, y_pred):\n",
    "    conf_matrix = confusion_matrix(y_true, y_pred)\n",
    "    plt.figure(figsize=(8, 6))\n",
    "    sns.heatmap(conf_matrix, annot=True, fmt='d', cmap='Blues')\n",
    "    plt.xlabel('Predicted')\n",
    "    plt.ylabel('True')\n",
    "    plt.title('Confusion Matrix')\n",
    "    plt.show()\n",
    "    return conf_matrix"
   ]
  },
  {
   "cell_type": "code",
   "execution_count": 44,
   "id": "d09b3978-c10a-4b34-8971-2aec901004f7",
   "metadata": {
    "id": "d09b3978-c10a-4b34-8971-2aec901004f7"
   },
   "outputs": [],
   "source": [
    "from sklearn.model_selection import StratifiedKFold, cross_val_score\n",
    "\n",
    "def evaluate_model(model, x, y_true):\n",
    "  y_pred = model.predict(x)\n",
    "  classification_report_df = get_classification_report(y_true, y_pred)\n",
    "  print(classification_report_df)\n",
    "  print('\\n')\n",
    "  conf = plot_confusion_matrix(y_true, y_pred)\n",
    "  return conf\n",
    "\n",
    "def get_cross_val_score(model, x, y, scoring='f1_macro', splits=3):\n",
    "  cv = StratifiedKFold(n_splits=splits, shuffle=True)\n",
    "  cross_val_scores = cross_val_score(model, x, y, cv=cv, scoring=scoring)\n",
    "  print(f\"Cross-validation scores: {cross_val_scores}\")\n",
    "  print(f\"Mean CV F1 Score: {cross_val_scores.mean()}\")"
   ]
  },
  {
   "cell_type": "code",
   "execution_count": 45,
   "id": "a975a215-69d0-47dd-9bd0-f371b8c9bf5c",
   "metadata": {
    "id": "a975a215-69d0-47dd-9bd0-f371b8c9bf5c"
   },
   "outputs": [
    {
     "name": "stdout",
     "output_type": "stream",
     "text": [
      "Cross-validation scores: [0.52934691 0.52436629 0.5147386 ]\n",
      "Mean CV F1 Score: 0.5228172683272464\n"
     ]
    }
   ],
   "source": [
    "from sklearn.neighbors import KNeighborsClassifier\n",
    "\n",
    "knn_classifier = KNeighborsClassifier(n_neighbors=3, weights='distance', metric='cosine')\n",
    "get_cross_val_score(knn_classifier, train_embeddings, y_train_main_encoded)"
   ]
  },
  {
   "cell_type": "code",
   "execution_count": 46,
   "id": "bdded57d-5655-4b82-a07c-bc1cbcc5e544",
   "metadata": {
    "id": "bdded57d-5655-4b82-a07c-bc1cbcc5e544"
   },
   "outputs": [
    {
     "data": {
      "text/html": [
       "<style>#sk-container-id-1 {\n",
       "  /* Definition of color scheme common for light and dark mode */\n",
       "  --sklearn-color-text: black;\n",
       "  --sklearn-color-line: gray;\n",
       "  /* Definition of color scheme for unfitted estimators */\n",
       "  --sklearn-color-unfitted-level-0: #fff5e6;\n",
       "  --sklearn-color-unfitted-level-1: #f6e4d2;\n",
       "  --sklearn-color-unfitted-level-2: #ffe0b3;\n",
       "  --sklearn-color-unfitted-level-3: chocolate;\n",
       "  /* Definition of color scheme for fitted estimators */\n",
       "  --sklearn-color-fitted-level-0: #f0f8ff;\n",
       "  --sklearn-color-fitted-level-1: #d4ebff;\n",
       "  --sklearn-color-fitted-level-2: #b3dbfd;\n",
       "  --sklearn-color-fitted-level-3: cornflowerblue;\n",
       "\n",
       "  /* Specific color for light theme */\n",
       "  --sklearn-color-text-on-default-background: var(--sg-text-color, var(--theme-code-foreground, var(--jp-content-font-color1, black)));\n",
       "  --sklearn-color-background: var(--sg-background-color, var(--theme-background, var(--jp-layout-color0, white)));\n",
       "  --sklearn-color-border-box: var(--sg-text-color, var(--theme-code-foreground, var(--jp-content-font-color1, black)));\n",
       "  --sklearn-color-icon: #696969;\n",
       "\n",
       "  @media (prefers-color-scheme: dark) {\n",
       "    /* Redefinition of color scheme for dark theme */\n",
       "    --sklearn-color-text-on-default-background: var(--sg-text-color, var(--theme-code-foreground, var(--jp-content-font-color1, white)));\n",
       "    --sklearn-color-background: var(--sg-background-color, var(--theme-background, var(--jp-layout-color0, #111)));\n",
       "    --sklearn-color-border-box: var(--sg-text-color, var(--theme-code-foreground, var(--jp-content-font-color1, white)));\n",
       "    --sklearn-color-icon: #878787;\n",
       "  }\n",
       "}\n",
       "\n",
       "#sk-container-id-1 {\n",
       "  color: var(--sklearn-color-text);\n",
       "}\n",
       "\n",
       "#sk-container-id-1 pre {\n",
       "  padding: 0;\n",
       "}\n",
       "\n",
       "#sk-container-id-1 input.sk-hidden--visually {\n",
       "  border: 0;\n",
       "  clip: rect(1px 1px 1px 1px);\n",
       "  clip: rect(1px, 1px, 1px, 1px);\n",
       "  height: 1px;\n",
       "  margin: -1px;\n",
       "  overflow: hidden;\n",
       "  padding: 0;\n",
       "  position: absolute;\n",
       "  width: 1px;\n",
       "}\n",
       "\n",
       "#sk-container-id-1 div.sk-dashed-wrapped {\n",
       "  border: 1px dashed var(--sklearn-color-line);\n",
       "  margin: 0 0.4em 0.5em 0.4em;\n",
       "  box-sizing: border-box;\n",
       "  padding-bottom: 0.4em;\n",
       "  background-color: var(--sklearn-color-background);\n",
       "}\n",
       "\n",
       "#sk-container-id-1 div.sk-container {\n",
       "  /* jupyter's `normalize.less` sets `[hidden] { display: none; }`\n",
       "     but bootstrap.min.css set `[hidden] { display: none !important; }`\n",
       "     so we also need the `!important` here to be able to override the\n",
       "     default hidden behavior on the sphinx rendered scikit-learn.org.\n",
       "     See: https://github.com/scikit-learn/scikit-learn/issues/21755 */\n",
       "  display: inline-block !important;\n",
       "  position: relative;\n",
       "}\n",
       "\n",
       "#sk-container-id-1 div.sk-text-repr-fallback {\n",
       "  display: none;\n",
       "}\n",
       "\n",
       "div.sk-parallel-item,\n",
       "div.sk-serial,\n",
       "div.sk-item {\n",
       "  /* draw centered vertical line to link estimators */\n",
       "  background-image: linear-gradient(var(--sklearn-color-text-on-default-background), var(--sklearn-color-text-on-default-background));\n",
       "  background-size: 2px 100%;\n",
       "  background-repeat: no-repeat;\n",
       "  background-position: center center;\n",
       "}\n",
       "\n",
       "/* Parallel-specific style estimator block */\n",
       "\n",
       "#sk-container-id-1 div.sk-parallel-item::after {\n",
       "  content: \"\";\n",
       "  width: 100%;\n",
       "  border-bottom: 2px solid var(--sklearn-color-text-on-default-background);\n",
       "  flex-grow: 1;\n",
       "}\n",
       "\n",
       "#sk-container-id-1 div.sk-parallel {\n",
       "  display: flex;\n",
       "  align-items: stretch;\n",
       "  justify-content: center;\n",
       "  background-color: var(--sklearn-color-background);\n",
       "  position: relative;\n",
       "}\n",
       "\n",
       "#sk-container-id-1 div.sk-parallel-item {\n",
       "  display: flex;\n",
       "  flex-direction: column;\n",
       "}\n",
       "\n",
       "#sk-container-id-1 div.sk-parallel-item:first-child::after {\n",
       "  align-self: flex-end;\n",
       "  width: 50%;\n",
       "}\n",
       "\n",
       "#sk-container-id-1 div.sk-parallel-item:last-child::after {\n",
       "  align-self: flex-start;\n",
       "  width: 50%;\n",
       "}\n",
       "\n",
       "#sk-container-id-1 div.sk-parallel-item:only-child::after {\n",
       "  width: 0;\n",
       "}\n",
       "\n",
       "/* Serial-specific style estimator block */\n",
       "\n",
       "#sk-container-id-1 div.sk-serial {\n",
       "  display: flex;\n",
       "  flex-direction: column;\n",
       "  align-items: center;\n",
       "  background-color: var(--sklearn-color-background);\n",
       "  padding-right: 1em;\n",
       "  padding-left: 1em;\n",
       "}\n",
       "\n",
       "\n",
       "/* Toggleable style: style used for estimator/Pipeline/ColumnTransformer box that is\n",
       "clickable and can be expanded/collapsed.\n",
       "- Pipeline and ColumnTransformer use this feature and define the default style\n",
       "- Estimators will overwrite some part of the style using the `sk-estimator` class\n",
       "*/\n",
       "\n",
       "/* Pipeline and ColumnTransformer style (default) */\n",
       "\n",
       "#sk-container-id-1 div.sk-toggleable {\n",
       "  /* Default theme specific background. It is overwritten whether we have a\n",
       "  specific estimator or a Pipeline/ColumnTransformer */\n",
       "  background-color: var(--sklearn-color-background);\n",
       "}\n",
       "\n",
       "/* Toggleable label */\n",
       "#sk-container-id-1 label.sk-toggleable__label {\n",
       "  cursor: pointer;\n",
       "  display: block;\n",
       "  width: 100%;\n",
       "  margin-bottom: 0;\n",
       "  padding: 0.5em;\n",
       "  box-sizing: border-box;\n",
       "  text-align: center;\n",
       "}\n",
       "\n",
       "#sk-container-id-1 label.sk-toggleable__label-arrow:before {\n",
       "  /* Arrow on the left of the label */\n",
       "  content: \"▸\";\n",
       "  float: left;\n",
       "  margin-right: 0.25em;\n",
       "  color: var(--sklearn-color-icon);\n",
       "}\n",
       "\n",
       "#sk-container-id-1 label.sk-toggleable__label-arrow:hover:before {\n",
       "  color: var(--sklearn-color-text);\n",
       "}\n",
       "\n",
       "/* Toggleable content - dropdown */\n",
       "\n",
       "#sk-container-id-1 div.sk-toggleable__content {\n",
       "  max-height: 0;\n",
       "  max-width: 0;\n",
       "  overflow: hidden;\n",
       "  text-align: left;\n",
       "  /* unfitted */\n",
       "  background-color: var(--sklearn-color-unfitted-level-0);\n",
       "}\n",
       "\n",
       "#sk-container-id-1 div.sk-toggleable__content.fitted {\n",
       "  /* fitted */\n",
       "  background-color: var(--sklearn-color-fitted-level-0);\n",
       "}\n",
       "\n",
       "#sk-container-id-1 div.sk-toggleable__content pre {\n",
       "  margin: 0.2em;\n",
       "  border-radius: 0.25em;\n",
       "  color: var(--sklearn-color-text);\n",
       "  /* unfitted */\n",
       "  background-color: var(--sklearn-color-unfitted-level-0);\n",
       "}\n",
       "\n",
       "#sk-container-id-1 div.sk-toggleable__content.fitted pre {\n",
       "  /* unfitted */\n",
       "  background-color: var(--sklearn-color-fitted-level-0);\n",
       "}\n",
       "\n",
       "#sk-container-id-1 input.sk-toggleable__control:checked~div.sk-toggleable__content {\n",
       "  /* Expand drop-down */\n",
       "  max-height: 200px;\n",
       "  max-width: 100%;\n",
       "  overflow: auto;\n",
       "}\n",
       "\n",
       "#sk-container-id-1 input.sk-toggleable__control:checked~label.sk-toggleable__label-arrow:before {\n",
       "  content: \"▾\";\n",
       "}\n",
       "\n",
       "/* Pipeline/ColumnTransformer-specific style */\n",
       "\n",
       "#sk-container-id-1 div.sk-label input.sk-toggleable__control:checked~label.sk-toggleable__label {\n",
       "  color: var(--sklearn-color-text);\n",
       "  background-color: var(--sklearn-color-unfitted-level-2);\n",
       "}\n",
       "\n",
       "#sk-container-id-1 div.sk-label.fitted input.sk-toggleable__control:checked~label.sk-toggleable__label {\n",
       "  background-color: var(--sklearn-color-fitted-level-2);\n",
       "}\n",
       "\n",
       "/* Estimator-specific style */\n",
       "\n",
       "/* Colorize estimator box */\n",
       "#sk-container-id-1 div.sk-estimator input.sk-toggleable__control:checked~label.sk-toggleable__label {\n",
       "  /* unfitted */\n",
       "  background-color: var(--sklearn-color-unfitted-level-2);\n",
       "}\n",
       "\n",
       "#sk-container-id-1 div.sk-estimator.fitted input.sk-toggleable__control:checked~label.sk-toggleable__label {\n",
       "  /* fitted */\n",
       "  background-color: var(--sklearn-color-fitted-level-2);\n",
       "}\n",
       "\n",
       "#sk-container-id-1 div.sk-label label.sk-toggleable__label,\n",
       "#sk-container-id-1 div.sk-label label {\n",
       "  /* The background is the default theme color */\n",
       "  color: var(--sklearn-color-text-on-default-background);\n",
       "}\n",
       "\n",
       "/* On hover, darken the color of the background */\n",
       "#sk-container-id-1 div.sk-label:hover label.sk-toggleable__label {\n",
       "  color: var(--sklearn-color-text);\n",
       "  background-color: var(--sklearn-color-unfitted-level-2);\n",
       "}\n",
       "\n",
       "/* Label box, darken color on hover, fitted */\n",
       "#sk-container-id-1 div.sk-label.fitted:hover label.sk-toggleable__label.fitted {\n",
       "  color: var(--sklearn-color-text);\n",
       "  background-color: var(--sklearn-color-fitted-level-2);\n",
       "}\n",
       "\n",
       "/* Estimator label */\n",
       "\n",
       "#sk-container-id-1 div.sk-label label {\n",
       "  font-family: monospace;\n",
       "  font-weight: bold;\n",
       "  display: inline-block;\n",
       "  line-height: 1.2em;\n",
       "}\n",
       "\n",
       "#sk-container-id-1 div.sk-label-container {\n",
       "  text-align: center;\n",
       "}\n",
       "\n",
       "/* Estimator-specific */\n",
       "#sk-container-id-1 div.sk-estimator {\n",
       "  font-family: monospace;\n",
       "  border: 1px dotted var(--sklearn-color-border-box);\n",
       "  border-radius: 0.25em;\n",
       "  box-sizing: border-box;\n",
       "  margin-bottom: 0.5em;\n",
       "  /* unfitted */\n",
       "  background-color: var(--sklearn-color-unfitted-level-0);\n",
       "}\n",
       "\n",
       "#sk-container-id-1 div.sk-estimator.fitted {\n",
       "  /* fitted */\n",
       "  background-color: var(--sklearn-color-fitted-level-0);\n",
       "}\n",
       "\n",
       "/* on hover */\n",
       "#sk-container-id-1 div.sk-estimator:hover {\n",
       "  /* unfitted */\n",
       "  background-color: var(--sklearn-color-unfitted-level-2);\n",
       "}\n",
       "\n",
       "#sk-container-id-1 div.sk-estimator.fitted:hover {\n",
       "  /* fitted */\n",
       "  background-color: var(--sklearn-color-fitted-level-2);\n",
       "}\n",
       "\n",
       "/* Specification for estimator info (e.g. \"i\" and \"?\") */\n",
       "\n",
       "/* Common style for \"i\" and \"?\" */\n",
       "\n",
       ".sk-estimator-doc-link,\n",
       "a:link.sk-estimator-doc-link,\n",
       "a:visited.sk-estimator-doc-link {\n",
       "  float: right;\n",
       "  font-size: smaller;\n",
       "  line-height: 1em;\n",
       "  font-family: monospace;\n",
       "  background-color: var(--sklearn-color-background);\n",
       "  border-radius: 1em;\n",
       "  height: 1em;\n",
       "  width: 1em;\n",
       "  text-decoration: none !important;\n",
       "  margin-left: 1ex;\n",
       "  /* unfitted */\n",
       "  border: var(--sklearn-color-unfitted-level-1) 1pt solid;\n",
       "  color: var(--sklearn-color-unfitted-level-1);\n",
       "}\n",
       "\n",
       ".sk-estimator-doc-link.fitted,\n",
       "a:link.sk-estimator-doc-link.fitted,\n",
       "a:visited.sk-estimator-doc-link.fitted {\n",
       "  /* fitted */\n",
       "  border: var(--sklearn-color-fitted-level-1) 1pt solid;\n",
       "  color: var(--sklearn-color-fitted-level-1);\n",
       "}\n",
       "\n",
       "/* On hover */\n",
       "div.sk-estimator:hover .sk-estimator-doc-link:hover,\n",
       ".sk-estimator-doc-link:hover,\n",
       "div.sk-label-container:hover .sk-estimator-doc-link:hover,\n",
       ".sk-estimator-doc-link:hover {\n",
       "  /* unfitted */\n",
       "  background-color: var(--sklearn-color-unfitted-level-3);\n",
       "  color: var(--sklearn-color-background);\n",
       "  text-decoration: none;\n",
       "}\n",
       "\n",
       "div.sk-estimator.fitted:hover .sk-estimator-doc-link.fitted:hover,\n",
       ".sk-estimator-doc-link.fitted:hover,\n",
       "div.sk-label-container:hover .sk-estimator-doc-link.fitted:hover,\n",
       ".sk-estimator-doc-link.fitted:hover {\n",
       "  /* fitted */\n",
       "  background-color: var(--sklearn-color-fitted-level-3);\n",
       "  color: var(--sklearn-color-background);\n",
       "  text-decoration: none;\n",
       "}\n",
       "\n",
       "/* Span, style for the box shown on hovering the info icon */\n",
       ".sk-estimator-doc-link span {\n",
       "  display: none;\n",
       "  z-index: 9999;\n",
       "  position: relative;\n",
       "  font-weight: normal;\n",
       "  right: .2ex;\n",
       "  padding: .5ex;\n",
       "  margin: .5ex;\n",
       "  width: min-content;\n",
       "  min-width: 20ex;\n",
       "  max-width: 50ex;\n",
       "  color: var(--sklearn-color-text);\n",
       "  box-shadow: 2pt 2pt 4pt #999;\n",
       "  /* unfitted */\n",
       "  background: var(--sklearn-color-unfitted-level-0);\n",
       "  border: .5pt solid var(--sklearn-color-unfitted-level-3);\n",
       "}\n",
       "\n",
       ".sk-estimator-doc-link.fitted span {\n",
       "  /* fitted */\n",
       "  background: var(--sklearn-color-fitted-level-0);\n",
       "  border: var(--sklearn-color-fitted-level-3);\n",
       "}\n",
       "\n",
       ".sk-estimator-doc-link:hover span {\n",
       "  display: block;\n",
       "}\n",
       "\n",
       "/* \"?\"-specific style due to the `<a>` HTML tag */\n",
       "\n",
       "#sk-container-id-1 a.estimator_doc_link {\n",
       "  float: right;\n",
       "  font-size: 1rem;\n",
       "  line-height: 1em;\n",
       "  font-family: monospace;\n",
       "  background-color: var(--sklearn-color-background);\n",
       "  border-radius: 1rem;\n",
       "  height: 1rem;\n",
       "  width: 1rem;\n",
       "  text-decoration: none;\n",
       "  /* unfitted */\n",
       "  color: var(--sklearn-color-unfitted-level-1);\n",
       "  border: var(--sklearn-color-unfitted-level-1) 1pt solid;\n",
       "}\n",
       "\n",
       "#sk-container-id-1 a.estimator_doc_link.fitted {\n",
       "  /* fitted */\n",
       "  border: var(--sklearn-color-fitted-level-1) 1pt solid;\n",
       "  color: var(--sklearn-color-fitted-level-1);\n",
       "}\n",
       "\n",
       "/* On hover */\n",
       "#sk-container-id-1 a.estimator_doc_link:hover {\n",
       "  /* unfitted */\n",
       "  background-color: var(--sklearn-color-unfitted-level-3);\n",
       "  color: var(--sklearn-color-background);\n",
       "  text-decoration: none;\n",
       "}\n",
       "\n",
       "#sk-container-id-1 a.estimator_doc_link.fitted:hover {\n",
       "  /* fitted */\n",
       "  background-color: var(--sklearn-color-fitted-level-3);\n",
       "}\n",
       "</style><div id=\"sk-container-id-1\" class=\"sk-top-container\"><div class=\"sk-text-repr-fallback\"><pre>KNeighborsClassifier(metric=&#x27;cosine&#x27;, n_neighbors=3, weights=&#x27;distance&#x27;)</pre><b>In a Jupyter environment, please rerun this cell to show the HTML representation or trust the notebook. <br />On GitHub, the HTML representation is unable to render, please try loading this page with nbviewer.org.</b></div><div class=\"sk-container\" hidden><div class=\"sk-item\"><div class=\"sk-estimator fitted sk-toggleable\"><input class=\"sk-toggleable__control sk-hidden--visually\" id=\"sk-estimator-id-1\" type=\"checkbox\" checked><label for=\"sk-estimator-id-1\" class=\"sk-toggleable__label fitted sk-toggleable__label-arrow fitted\">&nbsp;&nbsp;KNeighborsClassifier<a class=\"sk-estimator-doc-link fitted\" rel=\"noreferrer\" target=\"_blank\" href=\"https://scikit-learn.org/1.5/modules/generated/sklearn.neighbors.KNeighborsClassifier.html\">?<span>Documentation for KNeighborsClassifier</span></a><span class=\"sk-estimator-doc-link fitted\">i<span>Fitted</span></span></label><div class=\"sk-toggleable__content fitted\"><pre>KNeighborsClassifier(metric=&#x27;cosine&#x27;, n_neighbors=3, weights=&#x27;distance&#x27;)</pre></div> </div></div></div></div>"
      ],
      "text/plain": [
       "KNeighborsClassifier(metric='cosine', n_neighbors=3, weights='distance')"
      ]
     },
     "execution_count": 46,
     "metadata": {},
     "output_type": "execute_result"
    }
   ],
   "source": [
    "knn_classifier.fit(train_embeddings, y_train_main_encoded)"
   ]
  },
  {
   "cell_type": "code",
   "execution_count": 47,
   "id": "e683e555-ddc1-4cc0-9d06-05d6dac72099",
   "metadata": {
    "id": "e683e555-ddc1-4cc0-9d06-05d6dac72099"
   },
   "outputs": [
    {
     "name": "stdout",
     "output_type": "stream",
     "text": [
      "              precision    recall  f1-score     support\n",
      "0              0.628866  0.663043  0.645503   92.000000\n",
      "1              0.476190  0.465116  0.470588   43.000000\n",
      "2              0.549020  0.509091  0.528302   55.000000\n",
      "accuracy       0.573684  0.573684  0.573684    0.573684\n",
      "macro avg      0.551359  0.545750  0.548131  190.000000\n",
      "weighted avg   0.571200  0.573684  0.571990  190.000000\n",
      "\n",
      "\n"
     ]
    },
    {
     "data": {
      "image/png": "[encoded data removed]",
      "text/plain": [
       "<Figure size 800x600 with 2 Axes>"
      ]
     },
     "metadata": {},
     "output_type": "display_data"
    },
    {
     "data": {
      "text/plain": [
       "array([[61, 15, 16],\n",
       "       [16, 20,  7],\n",
       "       [20,  7, 28]])"
      ]
     },
     "execution_count": 47,
     "metadata": {},
     "output_type": "execute_result"
    }
   ],
   "source": [
    "evaluate_model(knn_classifier, val_embeddings, y_val_main_encoded)"
   ]
  },
  {
   "cell_type": "code",
   "execution_count": 48,
   "id": "1adb1fe4-417b-4d0b-8699-49054fff0b21",
   "metadata": {
    "id": "1adb1fe4-417b-4d0b-8699-49054fff0b21"
   },
   "outputs": [
    {
     "name": "stdout",
     "output_type": "stream",
     "text": [
      "Cross-validation scores: [0.55326269 0.53615225 0.52555892]\n",
      "Mean CV F1 Score: 0.5383246210729511\n"
     ]
    }
   ],
   "source": [
    "from sklearn.linear_model import LogisticRegression\n",
    "logreg = LogisticRegression(max_iter=1000, class_weight='balanced')\n",
    "\n",
    "get_cross_val_score(logreg, train_embeddings, y_train_main_encoded)"
   ]
  },
  {
   "cell_type": "code",
   "execution_count": 49,
   "id": "ba8bab53-8480-4504-8cf8-e1ca94ceedd7",
   "metadata": {
    "id": "ba8bab53-8480-4504-8cf8-e1ca94ceedd7"
   },
   "outputs": [
    {
     "data": {
      "text/html": [
       "<style>#sk-container-id-2 {\n",
       "  /* Definition of color scheme common for light and dark mode */\n",
       "  --sklearn-color-text: black;\n",
       "  --sklearn-color-line: gray;\n",
       "  /* Definition of color scheme for unfitted estimators */\n",
       "  --sklearn-color-unfitted-level-0: #fff5e6;\n",
       "  --sklearn-color-unfitted-level-1: #f6e4d2;\n",
       "  --sklearn-color-unfitted-level-2: #ffe0b3;\n",
       "  --sklearn-color-unfitted-level-3: chocolate;\n",
       "  /* Definition of color scheme for fitted estimators */\n",
       "  --sklearn-color-fitted-level-0: #f0f8ff;\n",
       "  --sklearn-color-fitted-level-1: #d4ebff;\n",
       "  --sklearn-color-fitted-level-2: #b3dbfd;\n",
       "  --sklearn-color-fitted-level-3: cornflowerblue;\n",
       "\n",
       "  /* Specific color for light theme */\n",
       "  --sklearn-color-text-on-default-background: var(--sg-text-color, var(--theme-code-foreground, var(--jp-content-font-color1, black)));\n",
       "  --sklearn-color-background: var(--sg-background-color, var(--theme-background, var(--jp-layout-color0, white)));\n",
       "  --sklearn-color-border-box: var(--sg-text-color, var(--theme-code-foreground, var(--jp-content-font-color1, black)));\n",
       "  --sklearn-color-icon: #696969;\n",
       "\n",
       "  @media (prefers-color-scheme: dark) {\n",
       "    /* Redefinition of color scheme for dark theme */\n",
       "    --sklearn-color-text-on-default-background: var(--sg-text-color, var(--theme-code-foreground, var(--jp-content-font-color1, white)));\n",
       "    --sklearn-color-background: var(--sg-background-color, var(--theme-background, var(--jp-layout-color0, #111)));\n",
       "    --sklearn-color-border-box: var(--sg-text-color, var(--theme-code-foreground, var(--jp-content-font-color1, white)));\n",
       "    --sklearn-color-icon: #878787;\n",
       "  }\n",
       "}\n",
       "\n",
       "#sk-container-id-2 {\n",
       "  color: var(--sklearn-color-text);\n",
       "}\n",
       "\n",
       "#sk-container-id-2 pre {\n",
       "  padding: 0;\n",
       "}\n",
       "\n",
       "#sk-container-id-2 input.sk-hidden--visually {\n",
       "  border: 0;\n",
       "  clip: rect(1px 1px 1px 1px);\n",
       "  clip: rect(1px, 1px, 1px, 1px);\n",
       "  height: 1px;\n",
       "  margin: -1px;\n",
       "  overflow: hidden;\n",
       "  padding: 0;\n",
       "  position: absolute;\n",
       "  width: 1px;\n",
       "}\n",
       "\n",
       "#sk-container-id-2 div.sk-dashed-wrapped {\n",
       "  border: 1px dashed var(--sklearn-color-line);\n",
       "  margin: 0 0.4em 0.5em 0.4em;\n",
       "  box-sizing: border-box;\n",
       "  padding-bottom: 0.4em;\n",
       "  background-color: var(--sklearn-color-background);\n",
       "}\n",
       "\n",
       "#sk-container-id-2 div.sk-container {\n",
       "  /* jupyter's `normalize.less` sets `[hidden] { display: none; }`\n",
       "     but bootstrap.min.css set `[hidden] { display: none !important; }`\n",
       "     so we also need the `!important` here to be able to override the\n",
       "     default hidden behavior on the sphinx rendered scikit-learn.org.\n",
       "     See: https://github.com/scikit-learn/scikit-learn/issues/21755 */\n",
       "  display: inline-block !important;\n",
       "  position: relative;\n",
       "}\n",
       "\n",
       "#sk-container-id-2 div.sk-text-repr-fallback {\n",
       "  display: none;\n",
       "}\n",
       "\n",
       "div.sk-parallel-item,\n",
       "div.sk-serial,\n",
       "div.sk-item {\n",
       "  /* draw centered vertical line to link estimators */\n",
       "  background-image: linear-gradient(var(--sklearn-color-text-on-default-background), var(--sklearn-color-text-on-default-background));\n",
       "  background-size: 2px 100%;\n",
       "  background-repeat: no-repeat;\n",
       "  background-position: center center;\n",
       "}\n",
       "\n",
       "/* Parallel-specific style estimator block */\n",
       "\n",
       "#sk-container-id-2 div.sk-parallel-item::after {\n",
       "  content: \"\";\n",
       "  width: 100%;\n",
       "  border-bottom: 2px solid var(--sklearn-color-text-on-default-background);\n",
       "  flex-grow: 1;\n",
       "}\n",
       "\n",
       "#sk-container-id-2 div.sk-parallel {\n",
       "  display: flex;\n",
       "  align-items: stretch;\n",
       "  justify-content: center;\n",
       "  background-color: var(--sklearn-color-background);\n",
       "  position: relative;\n",
       "}\n",
       "\n",
       "#sk-container-id-2 div.sk-parallel-item {\n",
       "  display: flex;\n",
       "  flex-direction: column;\n",
       "}\n",
       "\n",
       "#sk-container-id-2 div.sk-parallel-item:first-child::after {\n",
       "  align-self: flex-end;\n",
       "  width: 50%;\n",
       "}\n",
       "\n",
       "#sk-container-id-2 div.sk-parallel-item:last-child::after {\n",
       "  align-self: flex-start;\n",
       "  width: 50%;\n",
       "}\n",
       "\n",
       "#sk-container-id-2 div.sk-parallel-item:only-child::after {\n",
       "  width: 0;\n",
       "}\n",
       "\n",
       "/* Serial-specific style estimator block */\n",
       "\n",
       "#sk-container-id-2 div.sk-serial {\n",
       "  display: flex;\n",
       "  flex-direction: column;\n",
       "  align-items: center;\n",
       "  background-color: var(--sklearn-color-background);\n",
       "  padding-right: 1em;\n",
       "  padding-left: 1em;\n",
       "}\n",
       "\n",
       "\n",
       "/* Toggleable style: style used for estimator/Pipeline/ColumnTransformer box that is\n",
       "clickable and can be expanded/collapsed.\n",
       "- Pipeline and ColumnTransformer use this feature and define the default style\n",
       "- Estimators will overwrite some part of the style using the `sk-estimator` class\n",
       "*/\n",
       "\n",
       "/* Pipeline and ColumnTransformer style (default) */\n",
       "\n",
       "#sk-container-id-2 div.sk-toggleable {\n",
       "  /* Default theme specific background. It is overwritten whether we have a\n",
       "  specific estimator or a Pipeline/ColumnTransformer */\n",
       "  background-color: var(--sklearn-color-background);\n",
       "}\n",
       "\n",
       "/* Toggleable label */\n",
       "#sk-container-id-2 label.sk-toggleable__label {\n",
       "  cursor: pointer;\n",
       "  display: block;\n",
       "  width: 100%;\n",
       "  margin-bottom: 0;\n",
       "  padding: 0.5em;\n",
       "  box-sizing: border-box;\n",
       "  text-align: center;\n",
       "}\n",
       "\n",
       "#sk-container-id-2 label.sk-toggleable__label-arrow:before {\n",
       "  /* Arrow on the left of the label */\n",
       "  content: \"▸\";\n",
       "  float: left;\n",
       "  margin-right: 0.25em;\n",
       "  color: var(--sklearn-color-icon);\n",
       "}\n",
       "\n",
       "#sk-container-id-2 label.sk-toggleable__label-arrow:hover:before {\n",
       "  color: var(--sklearn-color-text);\n",
       "}\n",
       "\n",
       "/* Toggleable content - dropdown */\n",
       "\n",
       "#sk-container-id-2 div.sk-toggleable__content {\n",
       "  max-height: 0;\n",
       "  max-width: 0;\n",
       "  overflow: hidden;\n",
       "  text-align: left;\n",
       "  /* unfitted */\n",
       "  background-color: var(--sklearn-color-unfitted-level-0);\n",
       "}\n",
       "\n",
       "#sk-container-id-2 div.sk-toggleable__content.fitted {\n",
       "  /* fitted */\n",
       "  background-color: var(--sklearn-color-fitted-level-0);\n",
       "}\n",
       "\n",
       "#sk-container-id-2 div.sk-toggleable__content pre {\n",
       "  margin: 0.2em;\n",
       "  border-radius: 0.25em;\n",
       "  color: var(--sklearn-color-text);\n",
       "  /* unfitted */\n",
       "  background-color: var(--sklearn-color-unfitted-level-0);\n",
       "}\n",
       "\n",
       "#sk-container-id-2 div.sk-toggleable__content.fitted pre {\n",
       "  /* unfitted */\n",
       "  background-color: var(--sklearn-color-fitted-level-0);\n",
       "}\n",
       "\n",
       "#sk-container-id-2 input.sk-toggleable__control:checked~div.sk-toggleable__content {\n",
       "  /* Expand drop-down */\n",
       "  max-height: 200px;\n",
       "  max-width: 100%;\n",
       "  overflow: auto;\n",
       "}\n",
       "\n",
       "#sk-container-id-2 input.sk-toggleable__control:checked~label.sk-toggleable__label-arrow:before {\n",
       "  content: \"▾\";\n",
       "}\n",
       "\n",
       "/* Pipeline/ColumnTransformer-specific style */\n",
       "\n",
       "#sk-container-id-2 div.sk-label input.sk-toggleable__control:checked~label.sk-toggleable__label {\n",
       "  color: var(--sklearn-color-text);\n",
       "  background-color: var(--sklearn-color-unfitted-level-2);\n",
       "}\n",
       "\n",
       "#sk-container-id-2 div.sk-label.fitted input.sk-toggleable__control:checked~label.sk-toggleable__label {\n",
       "  background-color: var(--sklearn-color-fitted-level-2);\n",
       "}\n",
       "\n",
       "/* Estimator-specific style */\n",
       "\n",
       "/* Colorize estimator box */\n",
       "#sk-container-id-2 div.sk-estimator input.sk-toggleable__control:checked~label.sk-toggleable__label {\n",
       "  /* unfitted */\n",
       "  background-color: var(--sklearn-color-unfitted-level-2);\n",
       "}\n",
       "\n",
       "#sk-container-id-2 div.sk-estimator.fitted input.sk-toggleable__control:checked~label.sk-toggleable__label {\n",
       "  /* fitted */\n",
       "  background-color: var(--sklearn-color-fitted-level-2);\n",
       "}\n",
       "\n",
       "#sk-container-id-2 div.sk-label label.sk-toggleable__label,\n",
       "#sk-container-id-2 div.sk-label label {\n",
       "  /* The background is the default theme color */\n",
       "  color: var(--sklearn-color-text-on-default-background);\n",
       "}\n",
       "\n",
       "/* On hover, darken the color of the background */\n",
       "#sk-container-id-2 div.sk-label:hover label.sk-toggleable__label {\n",
       "  color: var(--sklearn-color-text);\n",
       "  background-color: var(--sklearn-color-unfitted-level-2);\n",
       "}\n",
       "\n",
       "/* Label box, darken color on hover, fitted */\n",
       "#sk-container-id-2 div.sk-label.fitted:hover label.sk-toggleable__label.fitted {\n",
       "  color: var(--sklearn-color-text);\n",
       "  background-color: var(--sklearn-color-fitted-level-2);\n",
       "}\n",
       "\n",
       "/* Estimator label */\n",
       "\n",
       "#sk-container-id-2 div.sk-label label {\n",
       "  font-family: monospace;\n",
       "  font-weight: bold;\n",
       "  display: inline-block;\n",
       "  line-height: 1.2em;\n",
       "}\n",
       "\n",
       "#sk-container-id-2 div.sk-label-container {\n",
       "  text-align: center;\n",
       "}\n",
       "\n",
       "/* Estimator-specific */\n",
       "#sk-container-id-2 div.sk-estimator {\n",
       "  font-family: monospace;\n",
       "  border: 1px dotted var(--sklearn-color-border-box);\n",
       "  border-radius: 0.25em;\n",
       "  box-sizing: border-box;\n",
       "  margin-bottom: 0.5em;\n",
       "  /* unfitted */\n",
       "  background-color: var(--sklearn-color-unfitted-level-0);\n",
       "}\n",
       "\n",
       "#sk-container-id-2 div.sk-estimator.fitted {\n",
       "  /* fitted */\n",
       "  background-color: var(--sklearn-color-fitted-level-0);\n",
       "}\n",
       "\n",
       "/* on hover */\n",
       "#sk-container-id-2 div.sk-estimator:hover {\n",
       "  /* unfitted */\n",
       "  background-color: var(--sklearn-color-unfitted-level-2);\n",
       "}\n",
       "\n",
       "#sk-container-id-2 div.sk-estimator.fitted:hover {\n",
       "  /* fitted */\n",
       "  background-color: var(--sklearn-color-fitted-level-2);\n",
       "}\n",
       "\n",
       "/* Specification for estimator info (e.g. \"i\" and \"?\") */\n",
       "\n",
       "/* Common style for \"i\" and \"?\" */\n",
       "\n",
       ".sk-estimator-doc-link,\n",
       "a:link.sk-estimator-doc-link,\n",
       "a:visited.sk-estimator-doc-link {\n",
       "  float: right;\n",
       "  font-size: smaller;\n",
       "  line-height: 1em;\n",
       "  font-family: monospace;\n",
       "  background-color: var(--sklearn-color-background);\n",
       "  border-radius: 1em;\n",
       "  height: 1em;\n",
       "  width: 1em;\n",
       "  text-decoration: none !important;\n",
       "  margin-left: 1ex;\n",
       "  /* unfitted */\n",
       "  border: var(--sklearn-color-unfitted-level-1) 1pt solid;\n",
       "  color: var(--sklearn-color-unfitted-level-1);\n",
       "}\n",
       "\n",
       ".sk-estimator-doc-link.fitted,\n",
       "a:link.sk-estimator-doc-link.fitted,\n",
       "a:visited.sk-estimator-doc-link.fitted {\n",
       "  /* fitted */\n",
       "  border: var(--sklearn-color-fitted-level-1) 1pt solid;\n",
       "  color: var(--sklearn-color-fitted-level-1);\n",
       "}\n",
       "\n",
       "/* On hover */\n",
       "div.sk-estimator:hover .sk-estimator-doc-link:hover,\n",
       ".sk-estimator-doc-link:hover,\n",
       "div.sk-label-container:hover .sk-estimator-doc-link:hover,\n",
       ".sk-estimator-doc-link:hover {\n",
       "  /* unfitted */\n",
       "  background-color: var(--sklearn-color-unfitted-level-3);\n",
       "  color: var(--sklearn-color-background);\n",
       "  text-decoration: none;\n",
       "}\n",
       "\n",
       "div.sk-estimator.fitted:hover .sk-estimator-doc-link.fitted:hover,\n",
       ".sk-estimator-doc-link.fitted:hover,\n",
       "div.sk-label-container:hover .sk-estimator-doc-link.fitted:hover,\n",
       ".sk-estimator-doc-link.fitted:hover {\n",
       "  /* fitted */\n",
       "  background-color: var(--sklearn-color-fitted-level-3);\n",
       "  color: var(--sklearn-color-background);\n",
       "  text-decoration: none;\n",
       "}\n",
       "\n",
       "/* Span, style for the box shown on hovering the info icon */\n",
       ".sk-estimator-doc-link span {\n",
       "  display: none;\n",
       "  z-index: 9999;\n",
       "  position: relative;\n",
       "  font-weight: normal;\n",
       "  right: .2ex;\n",
       "  padding: .5ex;\n",
       "  margin: .5ex;\n",
       "  width: min-content;\n",
       "  min-width: 20ex;\n",
       "  max-width: 50ex;\n",
       "  color: var(--sklearn-color-text);\n",
       "  box-shadow: 2pt 2pt 4pt #999;\n",
       "  /* unfitted */\n",
       "  background: var(--sklearn-color-unfitted-level-0);\n",
       "  border: .5pt solid var(--sklearn-color-unfitted-level-3);\n",
       "}\n",
       "\n",
       ".sk-estimator-doc-link.fitted span {\n",
       "  /* fitted */\n",
       "  background: var(--sklearn-color-fitted-level-0);\n",
       "  border: var(--sklearn-color-fitted-level-3);\n",
       "}\n",
       "\n",
       ".sk-estimator-doc-link:hover span {\n",
       "  display: block;\n",
       "}\n",
       "\n",
       "/* \"?\"-specific style due to the `<a>` HTML tag */\n",
       "\n",
       "#sk-container-id-2 a.estimator_doc_link {\n",
       "  float: right;\n",
       "  font-size: 1rem;\n",
       "  line-height: 1em;\n",
       "  font-family: monospace;\n",
       "  background-color: var(--sklearn-color-background);\n",
       "  border-radius: 1rem;\n",
       "  height: 1rem;\n",
       "  width: 1rem;\n",
       "  text-decoration: none;\n",
       "  /* unfitted */\n",
       "  color: var(--sklearn-color-unfitted-level-1);\n",
       "  border: var(--sklearn-color-unfitted-level-1) 1pt solid;\n",
       "}\n",
       "\n",
       "#sk-container-id-2 a.estimator_doc_link.fitted {\n",
       "  /* fitted */\n",
       "  border: var(--sklearn-color-fitted-level-1) 1pt solid;\n",
       "  color: var(--sklearn-color-fitted-level-1);\n",
       "}\n",
       "\n",
       "/* On hover */\n",
       "#sk-container-id-2 a.estimator_doc_link:hover {\n",
       "  /* unfitted */\n",
       "  background-color: var(--sklearn-color-unfitted-level-3);\n",
       "  color: var(--sklearn-color-background);\n",
       "  text-decoration: none;\n",
       "}\n",
       "\n",
       "#sk-container-id-2 a.estimator_doc_link.fitted:hover {\n",
       "  /* fitted */\n",
       "  background-color: var(--sklearn-color-fitted-level-3);\n",
       "}\n",
       "</style><div id=\"sk-container-id-2\" class=\"sk-top-container\"><div class=\"sk-text-repr-fallback\"><pre>LogisticRegression(class_weight=&#x27;balanced&#x27;, max_iter=1000)</pre><b>In a Jupyter environment, please rerun this cell to show the HTML representation or trust the notebook. <br />On GitHub, the HTML representation is unable to render, please try loading this page with nbviewer.org.</b></div><div class=\"sk-container\" hidden><div class=\"sk-item\"><div class=\"sk-estimator fitted sk-toggleable\"><input class=\"sk-toggleable__control sk-hidden--visually\" id=\"sk-estimator-id-2\" type=\"checkbox\" checked><label for=\"sk-estimator-id-2\" class=\"sk-toggleable__label fitted sk-toggleable__label-arrow fitted\">&nbsp;&nbsp;LogisticRegression<a class=\"sk-estimator-doc-link fitted\" rel=\"noreferrer\" target=\"_blank\" href=\"https://scikit-learn.org/1.5/modules/generated/sklearn.linear_model.LogisticRegression.html\">?<span>Documentation for LogisticRegression</span></a><span class=\"sk-estimator-doc-link fitted\">i<span>Fitted</span></span></label><div class=\"sk-toggleable__content fitted\"><pre>LogisticRegression(class_weight=&#x27;balanced&#x27;, max_iter=1000)</pre></div> </div></div></div></div>"
      ],
      "text/plain": [
       "LogisticRegression(class_weight='balanced', max_iter=1000)"
      ]
     },
     "execution_count": 49,
     "metadata": {},
     "output_type": "execute_result"
    }
   ],
   "source": [
    "logreg.fit(train_embeddings, y_train_main_encoded)"
   ]
  },
  {
   "cell_type": "code",
   "execution_count": 50,
   "id": "930a541c-5f9d-46ce-9645-6d02f028feb5",
   "metadata": {
    "id": "930a541c-5f9d-46ce-9645-6d02f028feb5"
   },
   "outputs": [
    {
     "name": "stdout",
     "output_type": "stream",
     "text": [
      "              precision    recall  f1-score     support\n",
      "0              0.616279  0.576087  0.595506   92.000000\n",
      "1              0.433962  0.534884  0.479167   43.000000\n",
      "2              0.490196  0.454545  0.471698   55.000000\n",
      "accuracy       0.531579  0.531579  0.531579    0.531579\n",
      "macro avg      0.513479  0.521839  0.515457  190.000000\n",
      "weighted avg   0.538520  0.531579  0.533337  190.000000\n",
      "\n",
      "\n"
     ]
    },
    {
     "data": {
      "image/png": "[encoded data removed]",
      "text/plain": [
       "<Figure size 800x600 with 2 Axes>"
      ]
     },
     "metadata": {},
     "output_type": "display_data"
    },
    {
     "data": {
      "text/plain": [
       "array([[53, 17, 22],\n",
       "       [16, 23,  4],\n",
       "       [17, 13, 25]])"
      ]
     },
     "execution_count": 50,
     "metadata": {},
     "output_type": "execute_result"
    }
   ],
   "source": [
    "evaluate_model(logreg, val_embeddings, y_val_main_encoded)"
   ]
  },
  {
   "cell_type": "code",
   "execution_count": 51,
   "id": "74ec7bb4-02e0-4bc2-8171-7b573e8d2026",
   "metadata": {
    "id": "74ec7bb4-02e0-4bc2-8171-7b573e8d2026"
   },
   "outputs": [
    {
     "name": "stdout",
     "output_type": "stream",
     "text": [
      "Cross-validation scores: [0.58101157 0.53279597 0.54586934]\n",
      "Mean CV F1 Score: 0.5532256291345582\n"
     ]
    }
   ],
   "source": [
    "import xgboost as xgb\n",
    "from xgboost import XGBClassifier\n",
    "\n",
    "xgb_classifier = XGBClassifier(learning_rate=0.1, max_depth=3, n_estimators=150)\n",
    "get_cross_val_score(xgb_classifier, train_embeddings, y_train_main_encoded)"
   ]
  },
  {
   "cell_type": "code",
   "execution_count": 52,
   "id": "431ec328-13d4-4716-bb0e-cb7fbefb7300",
   "metadata": {
    "id": "431ec328-13d4-4716-bb0e-cb7fbefb7300"
   },
   "outputs": [
    {
     "name": "stdout",
     "output_type": "stream",
     "text": [
      "              precision    recall  f1-score     support\n",
      "0              0.576642  0.858696  0.689956   92.000000\n",
      "1              0.722222  0.302326  0.426230   43.000000\n",
      "2              0.657143  0.418182  0.511111   55.000000\n",
      "accuracy       0.605263  0.605263  0.605263    0.605263\n",
      "macro avg      0.652002  0.526401  0.542432  190.000000\n",
      "weighted avg   0.632892  0.605263  0.578500  190.000000\n",
      "\n",
      "\n"
     ]
    },
    {
     "data": {
      "image/png": "[encoded data removed]",
      "text/plain": [
       "<Figure size 800x600 with 2 Axes>"
      ]
     },
     "metadata": {},
     "output_type": "display_data"
    },
    {
     "data": {
      "text/plain": [
       "array([[79,  4,  9],\n",
       "       [27, 13,  3],\n",
       "       [31,  1, 23]])"
      ]
     },
     "execution_count": 52,
     "metadata": {},
     "output_type": "execute_result"
    }
   ],
   "source": [
    "xgb_classifier.fit(train_embeddings, y_train_main_encoded)\n",
    "evaluate_model(xgb_classifier, val_embeddings, y_val_main_encoded)"
   ]
  },
  {
   "cell_type": "code",
   "execution_count": 53,
   "id": "ddb3d0b2-0d0e-4984-95cc-fdc1b8cea5d0",
   "metadata": {
    "id": "ddb3d0b2-0d0e-4984-95cc-fdc1b8cea5d0"
   },
   "outputs": [
    {
     "data": {
      "text/plain": [
       "Counter({0: 1049, 2: 626, 1: 479})"
      ]
     },
     "execution_count": 53,
     "metadata": {},
     "output_type": "execute_result"
    }
   ],
   "source": [
    "from collections import Counter\n",
    "Counter(y_train_main_encoded)"
   ]
  },
  {
   "cell_type": "code",
   "execution_count": 54,
   "id": "3d99f9ab-c655-4c51-b2c9-a70a089867ff",
   "metadata": {
    "id": "3d99f9ab-c655-4c51-b2c9-a70a089867ff"
   },
   "outputs": [
    {
     "data": {
      "text/plain": [
       "array([0.68446139, 1.49895616, 1.14696486])"
      ]
     },
     "execution_count": 54,
     "metadata": {},
     "output_type": "execute_result"
    }
   ],
   "source": [
    "from sklearn.utils import class_weight\n",
    "\n",
    "classes = np.unique(y_train_main_encoded)\n",
    "class_weights = class_weight.compute_class_weight('balanced', classes=classes, y=y_train_main_encoded)\n",
    "class_weights"
   ]
  },
  {
   "cell_type": "code",
   "execution_count": 55,
   "id": "4507bd9a-d766-48ce-a017-fad451add76b",
   "metadata": {
    "id": "4507bd9a-d766-48ce-a017-fad451add76b"
   },
   "outputs": [
    {
     "data": {
      "text/plain": [
       "{0: 0.684461391801716, 1: 1.498956158663883, 2: 1.1469648562300319}"
      ]
     },
     "execution_count": 55,
     "metadata": {},
     "output_type": "execute_result"
    }
   ],
   "source": [
    "class_weights_dict = dict(zip(classes, class_weights))\n",
    "class_weights_dict"
   ]
  },
  {
   "cell_type": "code",
   "execution_count": 56,
   "id": "d5aefe6b-5210-4fad-a26b-8c8e422e3f82",
   "metadata": {
    "id": "d5aefe6b-5210-4fad-a26b-8c8e422e3f82"
   },
   "outputs": [
    {
     "data": {
      "text/plain": [
       "array([0.68446139, 1.49895616, 1.14696486, 0.68446139, 1.14696486,\n",
       "       1.49895616, 1.49895616, 0.68446139, 1.14696486, 0.68446139,\n",
       "       0.68446139, 1.14696486, 1.49895616, 1.49895616, 1.14696486])"
      ]
     },
     "execution_count": 56,
     "metadata": {},
     "output_type": "execute_result"
    }
   ],
   "source": [
    "sample_weights = np.array([class_weights_dict[label] for label in y_train_main_encoded])\n",
    "sample_weights[:15]"
   ]
  },
  {
   "cell_type": "code",
   "execution_count": 57,
   "id": "00780889-d371-4299-b590-e3373c5f4ec9",
   "metadata": {
    "id": "00780889-d371-4299-b590-e3373c5f4ec9"
   },
   "outputs": [
    {
     "name": "stdout",
     "output_type": "stream",
     "text": [
      "              precision    recall  f1-score  support\n",
      "0              0.629630  0.739130  0.680000     92.0\n",
      "1              0.500000  0.395349  0.441558     43.0\n",
      "2              0.604167  0.527273  0.563107     55.0\n",
      "accuracy       0.600000  0.600000  0.600000      0.6\n",
      "macro avg      0.577932  0.553917  0.561555    190.0\n",
      "weighted avg   0.592922  0.600000  0.592199    190.0\n",
      "\n",
      "\n"
     ]
    },
    {
     "data": {
      "image/png": "[encoded data removed]",
      "text/plain": [
       "<Figure size 800x600 with 2 Axes>"
      ]
     },
     "metadata": {},
     "output_type": "display_data"
    },
    {
     "data": {
      "text/plain": [
       "array([[68, 12, 12],\n",
       "       [19, 17,  7],\n",
       "       [21,  5, 29]])"
      ]
     },
     "execution_count": 57,
     "metadata": {},
     "output_type": "execute_result"
    }
   ],
   "source": [
    "import xgboost as xgb\n",
    "\n",
    "xgb_weighted = xgb.XGBClassifier(learning_rate=0.1, max_depth=5, n_estimators=150)\n",
    "xgb_weighted.fit(train_embeddings, y_train_main_encoded, sample_weight=sample_weights)\n",
    "evaluate_model(xgb_weighted, val_embeddings, y_val_main_encoded)"
   ]
  },
  {
   "cell_type": "code",
   "execution_count": 58,
   "id": "3cbccf74-6785-49c4-b55d-a6a644e414d1",
   "metadata": {
    "id": "3cbccf74-6785-49c4-b55d-a6a644e414d1"
   },
   "outputs": [],
   "source": [
    "y_pred = xgb_weighted.predict(val_embeddings)\n",
    "misclassified_indices = np.where(y_pred != y_val_main_encoded)[0]"
   ]
  },
  {
   "cell_type": "code",
   "execution_count": 59,
   "id": "942696b3-670d-47c3-9db1-24d12d0784d7",
   "metadata": {
    "id": "942696b3-670d-47c3-9db1-24d12d0784d7"
   },
   "outputs": [
    {
     "data": {
      "text/plain": [
       "array([  0,   2,   5,   9,  10,  12,  13,  16,  17,  18,  20,  21,  22,\n",
       "        23,  24,  28,  30,  31,  32,  33,  36,  40,  41,  42,  43,  48,\n",
       "        49,  50,  52,  54,  56,  57,  58,  59,  60,  61,  66,  70,  72,\n",
       "        74,  75,  83,  85,  86,  89,  91,  94,  95,  96,  98, 106, 109,\n",
       "       110, 114, 117, 120, 124, 126, 127, 131, 132, 133, 134, 140, 154,\n",
       "       159, 163, 164, 167, 168, 170, 175, 179, 183, 186, 189])"
      ]
     },
     "execution_count": 59,
     "metadata": {},
     "output_type": "execute_result"
    }
   ],
   "source": [
    "misclassified_indices"
   ]
  },
  {
   "cell_type": "code",
   "execution_count": 60,
   "id": "3919cfbd-2b87-4c46-b7cd-5d04aba14586",
   "metadata": {
    "id": "3919cfbd-2b87-4c46-b7cd-5d04aba14586"
   },
   "outputs": [],
   "source": [
    "true_labels_decoded = le_main_role.inverse_transform(y_val_main_encoded)\n",
    "predicted_labels_decoded = le_main_role.inverse_transform(y_pred)"
   ]
  },
  {
   "cell_type": "code",
   "execution_count": 61,
   "id": "5315d9a4-8bc2-46bf-9024-17b160bf7986",
   "metadata": {
    "id": "5315d9a4-8bc2-46bf-9024-17b160bf7986"
   },
   "outputs": [],
   "source": [
    "misclassified_articles = []\n",
    "\n",
    "for idx in misclassified_indices:\n",
    "    misclassified_articles.append({\n",
    "        \"article_id\": idx,\n",
    "        \"true_label\": true_labels_decoded[idx],\n",
    "        \"predicted_label\": predicted_labels_decoded[idx],\n",
    "        \"context\": dataset_val.iloc[idx][\"entity_context\"],\n",
    "        \"language\": dataset_val.iloc[idx][\"language\"],\n",
    "        \"entity_mention\": dataset_val.iloc[idx][\"entity_mention\"]\n",
    "    })\n",
    "\n",
    "misclassified_df = pd.DataFrame(misclassified_articles)"
   ]
  },
  {
   "cell_type": "code",
   "execution_count": 62,
   "id": "a6c73cbd-5746-413a-a77a-70926dd54b67",
   "metadata": {
    "id": "a6c73cbd-5746-413a-a77a-70926dd54b67"
   },
   "outputs": [
    {
     "data": {
      "text/html": [
       "<div>\n",
       "<style scoped>\n",
       "    .dataframe tbody tr th:only-of-type {\n",
       "        vertical-align: middle;\n",
       "    }\n",
       "\n",
       "    .dataframe tbody tr th {\n",
       "        vertical-align: top;\n",
       "    }\n",
       "\n",
       "    .dataframe thead th {\n",
       "        text-align: right;\n",
       "    }\n",
       "</style>\n",
       "<table border=\"1\" class=\"dataframe\">\n",
       "  <thead>\n",
       "    <tr style=\"text-align: right;\">\n",
       "      <th></th>\n",
       "      <th>article_id</th>\n",
       "      <th>true_label</th>\n",
       "      <th>predicted_label</th>\n",
       "      <th>context</th>\n",
       "      <th>language</th>\n",
       "      <th>entity_mention</th>\n",
       "    </tr>\n",
       "  </thead>\n",
       "  <tbody>\n",
       "    <tr>\n",
       "      <th>0</th>\n",
       "      <td>0</td>\n",
       "      <td>Antagonist</td>\n",
       "      <td>Protagonist</td>\n",
       "      <td>e diz que [ENTITY_START] Rússia [ENTITY_END] d...</td>\n",
       "      <td>PT</td>\n",
       "      <td>Rússia</td>\n",
       "    </tr>\n",
       "    <tr>\n",
       "      <th>1</th>\n",
       "      <td>2</td>\n",
       "      <td>Antagonist</td>\n",
       "      <td>Protagonist</td>\n",
       "      <td>प्रधानमंत्री नरेंद्र मोदी की 8 और 9 जुलाई को अ...</td>\n",
       "      <td>HI</td>\n",
       "      <td>पश्चिमी देश</td>\n",
       "    </tr>\n",
       "    <tr>\n",
       "      <th>2</th>\n",
       "      <td>5</td>\n",
       "      <td>Antagonist</td>\n",
       "      <td>Innocent</td>\n",
       "      <td>тъй като предимството на неговата армия започв...</td>\n",
       "      <td>BG</td>\n",
       "      <td>Русия</td>\n",
       "    </tr>\n",
       "    <tr>\n",
       "      <th>3</th>\n",
       "      <td>9</td>\n",
       "      <td>Innocent</td>\n",
       "      <td>Protagonist</td>\n",
       "      <td>critic of congressional republican efforts to ...</td>\n",
       "      <td>EN</td>\n",
       "      <td>Ukraine</td>\n",
       "    </tr>\n",
       "    <tr>\n",
       "      <th>4</th>\n",
       "      <td>10</td>\n",
       "      <td>Innocent</td>\n",
       "      <td>Antagonist</td>\n",
       "      <td>ще трябва да отговаряте за [ENTITY_START] Сева...</td>\n",
       "      <td>BG</td>\n",
       "      <td>Севастопол</td>\n",
       "    </tr>\n",
       "  </tbody>\n",
       "</table>\n",
       "</div>"
      ],
      "text/plain": [
       "   article_id  true_label predicted_label  \\\n",
       "0           0  Antagonist     Protagonist   \n",
       "1           2  Antagonist     Protagonist   \n",
       "2           5  Antagonist        Innocent   \n",
       "3           9    Innocent     Protagonist   \n",
       "4          10    Innocent      Antagonist   \n",
       "\n",
       "                                             context language entity_mention  \n",
       "0  e diz que [ENTITY_START] Rússia [ENTITY_END] d...       PT         Rússia  \n",
       "1  प्रधानमंत्री नरेंद्र मोदी की 8 और 9 जुलाई को अ...       HI    पश्चिमी देश  \n",
       "2  тъй като предимството на неговата армия започв...       BG          Русия  \n",
       "3  critic of congressional republican efforts to ...       EN        Ukraine  \n",
       "4  ще трябва да отговаряте за [ENTITY_START] Сева...       BG     Севастопол  "
      ]
     },
     "execution_count": 62,
     "metadata": {},
     "output_type": "execute_result"
    }
   ],
   "source": [
    "misclassified_df.head()"
   ]
  },
  {
   "cell_type": "code",
   "execution_count": 63,
   "id": "8f759884-7c9b-42eb-943e-b825ee53826d",
   "metadata": {
    "id": "8f759884-7c9b-42eb-943e-b825ee53826d"
   },
   "outputs": [
    {
     "name": "stdout",
     "output_type": "stream",
     "text": [
      "Entity Mention: Ukraine\n",
      "True Label: Innocent | Predicted Label: Protagonist\n",
      "Context: critic of congressional republican efforts to decouple us military aid for israel from a separate aid proposal for [ENTITY_START] Ukraine [ENTITY_END] as it defends itself against russia’s invasion. on tuesday he called on his gop colleagues in the upper chamber to cease efforts to pass a stand-alone israel aid bill. “israel and [ENTITY_START] Ukraine [ENTITY_END] are going through existential threats. we need to send aid to both, and my republican colleagues need to cut the crap,” fetterman wrote on x. “this isn’t a game,” he added.\n",
      "================================================================================\n",
      "Entity Mention: Adams\n",
      "True Label: Antagonist | Predicted Label: Protagonist\n",
      "Context: “global warming.” “we already know that a plant-powered diet is better for your physical and mental health, and i am living proof of that,” [ENTITY_START] Adams [ENTITY_END] declared. “but the reality is that thanks to this new inventory, we’re finding out it is better for the planet.” the simplistic way in which [ENTITY_START] Adams [ENTITY_END] couched his argument against meat and dairy has already been debunked by people who are actually educated in such things, including melissa mckendree, phd, an agricultural economist at michigan state university. “different meats have different kinds of greenhouse gas footprints,” mckendree clarified about how pasture-raised animals do not harm the\n",
      "================================================================================\n",
      "Entity Mention: Putin\n",
      "True Label: Protagonist | Predicted Label: Antagonist\n",
      "Context: the eve of a russia-china leadership summit in moscow, europe’s international criminal court (icc) in the hague issued an arrest warrant for russian president vladimir [ENTITY_START] Putin [ENTITY_END] , the man who controls the world’s largest nuclear arsenal, whose striking power is further enhanced by its revolutionary hypersonic delivery systems. the charges against [ENTITY_START] Putin [ENTITY_END] were that he had ordered the humanitarian evacuation of children from the dangerous ukraine warzone, and the icc also ordered the arrest of maria lvova-belova, the russian commissioner for children’s rights. yet oddly enough, no icc action had ever been taken against american secretary of state madeleine albright, who had\n",
      "================================================================================\n",
      "Entity Mention: US\n",
      "True Label: Protagonist | Predicted Label: Innocent\n",
      "Context: indonesia hosts asean defence chiefs amid multiple crises the annual get-together, which starts on wednesday, comes as conflict rages in the middle east and ukraine and as tensions ratchet up in disputed waters in the south china sea, where china is being accused of aggression against the philippines, which has [ENTITY_START] US [ENTITY_END] backing and seeks to boost its military ties with japan. outheast asian defence ministers meet in indonesia alongside key players in the indo-pacific this week, with the asean bloc set to reinforce a message of centrality as major powers jostle for influence in the region. the annual get-together, which starts\n",
      "================================================================================\n",
      "Entity Mention: President Volodymyr Zelensky\n",
      "True Label: Protagonist | Predicted Label: Antagonist\n",
      "Context: hope they will be slaughtered by ukrainian fighters before they can testify before a war crime tribunal. the kremlin has continued to deny accusations its troops committed war crimes in ukraine after suggesting chilling pictures of dead bodies strewn across kyiv streets were staged by ukraine and the west. heroic president volodymyr zelensky was visibly emotional as he visited the site just days after the mass graves were discovered. the ukrainian leader was flanked by security as he vowed to ensure that the “war crimes” committed by russian soldiers on his country’s soil were “the last such evil on earth”. boris johnson later\n",
      "================================================================================\n",
      "Entity Mention: Biden administration\n",
      "True Label: Protagonist | Predicted Label: Antagonist\n",
      "Context: of ukraine by putin’s forces deployed on its borders. the bill “would undermine the current diplomatic situation,” said senator jeanne shaheen, a new hampshire democrat who had introduced earlier sanctions proposals with cruz. “we are in a very different situation right now” than when two earlier bills were passed. the biden administration also has argued that imposing new sanctions on the undersea pipeline now could undercut the us’s ability to persuade other european nations to join in severe economic penalties later if russia invades ukraine. the legislation “will not counter further russian aggression or protect ukraine,” emily horne, a spokesperson for the\n",
      "================================================================================\n",
      "Entity Mention: Russia\n",
      "True Label: Protagonist | Predicted Label: Antagonist\n",
      "Context: рбк: the picture of widening war is beginning to form: professor sergey karaganov, honorary chairman of [ENTITY_START] Russia [ENTITY_END] ’s council on foreign and defense policy, and academic supervisor at the school of international economics and foreign affairs higher school of economics (hse) in moscow sergey karaganov: by using its nuclear weapons, [ENTITY_START] Russia [ENTITY_END] could save humanity from a global catastrophe a tough but necessary decision would likely force the west to back off, enabling an earlier end to the ukraine crisis and preventing it from expanding to other states karaganov’s description of the western world as “anti-human ideologies: the denial of family, homeland,\n",
      "================================================================================\n",
      "Entity Mention: Kyiv\n",
      "True Label: Protagonist | Predicted Label: Antagonist\n",
      "Context: missiles to be transferred to ukraine currency \"russia does not feel threatened\": estonian prime minister calls for long-range missiles to be transferred to ukraine western countries should provide the armed forces of ukraine with all the weapons they need to liberate all the territories seized by russia. first of all, [ENTITY_START] Kyiv [ENTITY_END] needs to be provided with long-range missiles. this was the call to the west made by estonian prime minister kaja kallas in an interview with the [ENTITY_START] Kyiv [ENTITY_END] independent published on sunday, january 14. in her opinion, this is the only way to repel the aggressor country. the head of the\n",
      "================================================================================\n",
      "Entity Mention: Russia\n",
      "True Label: Protagonist | Predicted Label: Antagonist\n",
      "Context: their military to catch up to the political rhetoric coming out of berlin. a march 14 article by john cody at remix news shows that the german army lacks the personnel, equipment and infrastructure to wage a major war of any kind, let alone with a nuclear-armed military superpower like [ENTITY_START] Russia [ENTITY_END] . “germany’s own military and government are painting such a dire picture of the armed forces that there are now calls from some of the most powerful politicians in the country to reinstate mandatory military service,” cody writes. yes, a military draft. a video produced by remix news details testimony\n",
      "================================================================================\n",
      "Entity Mention: Ukraine\n",
      "True Label: Innocent | Predicted Label: Antagonist\n",
      "Context: blackmail,” cruz said thursday on the senate floor. president vladimir putin has done that “openly, brazenly and laughingly and absolutely nothing happened,” cruz said. opponents of the measure said it would damage u.s. cooperation with germany and other nato partners as they try to head off a potential invasion of [ENTITY_START] Ukraine [ENTITY_END] by putin’s forces deployed on its borders. the bill “would undermine the current diplomatic situation,” said senator jeanne shaheen, a new hampshire democrat who had introduced earlier sanctions proposals with cruz. “we are in a very different situation right now” than when two earlier bills were passed. the biden administration\n",
      "================================================================================\n",
      "Entity Mention: EU\n",
      "True Label: Antagonist | Predicted Label: Protagonist\n",
      "Context: disaster for russia.\" he said that any russian invasion would be \"bitterly and bloodily resisted\" by the ukrainian people. a cabinet minister today said germany are \"dragging their feet\" on retaliating against russian aggression towards ukraine, a cabinet minister blasted today. treasury chief sec simon clarke railed against the sluggish [ENTITY_START] EU [ENTITY_END] response - and hailed brexit for letting britain swiftly hit back at vladimir putin. most read in the sun the uk is preparing to slam sanctions on banks and oligarchs with ties to the kremlin to turn the thumbscrews on russia. british combat soldiers are unlikely to be sent to\n",
      "================================================================================\n",
      "Entity Mention: Russia's\n",
      "True Label: Antagonist | Predicted Label: Innocent\n",
      "Context: the point of a strike on russian territory, apart from protecting ukraine? and how would the second world war have ended if the prime minister had not allowed british and american bombs to fall on german soil?\" asks the colonel. according to sir richard kemp, throughout the entire period of russia's full-scale invasion of ukraine, \"the most pathetic were the western allies\" who pursued a policy not based on ukraine's defense needs, \"but on the groundless fear of russian retaliation.\" and although all of putin's so-called red lines turned out to be nothing more than baseless intimidation, each subsequent western decision\n",
      "================================================================================\n",
      "Entity Mention: Iraq\n",
      "True Label: Innocent | Predicted Label: Antagonist\n",
      "Context: and warmonger propagandist max boot weighed in on the meaningless and unenforcible decision to arrest president putin. boot’s argument is delusional, but then neocons thrive on lies and delusions. truth lives on at propaganda, pure and simple. boot is an accessory to mass murder, having advocated the invasion of [ENTITY_START] Iraq [ENTITY_END] , the slaughter of over a million iraqis, and the engineered destruction of their country. the hypocritical icc didn’t bother to contrast and compare putin’s supposed abduction of ukrainian children to an organized mass kidnapping of vietnamese children. it was dubbed “operation babylift,” ordered by then president ford, and was\n",
      "================================================================================\n",
      "Entity Mention: Ukraine\n",
      "True Label: Innocent | Predicted Label: Antagonist\n",
      "Context: like in personnel, but also in number of pieces of equipment that are being taken out.” austin said in his remarks tuesday that “russia has paid a staggering cost for (president vladimir) putin’s imperial dreams”, using “up to $211 billion to equip, deploy, maintain, and sustain its imperial aggression against [ENTITY_START] Ukraine [ENTITY_END] .” “at least 315,000 russian troops have been killed or wounded” since russia launched its all-out invasion of [ENTITY_START] Ukraine [ENTITY_END] in 2022, austin said, adding that [ENTITY_START] Ukraine [ENTITY_END] has also “sunk, destroyed, or damaged some 20 medium-to-large russian navy vessels.” the sinkings have been an embarrassment for moscow and russian state media\n",
      "================================================================================\n"
     ]
    }
   ],
   "source": [
    "misclassified_df_en = misclassified_df[misclassified_df['language'] == \"EN\"]\n",
    "\n",
    "for _, row in misclassified_df_en.iterrows():\n",
    "    print(f\"Entity Mention: {row['entity_mention']}\")\n",
    "    print(f\"True Label: {row['true_label']} | Predicted Label: {row['predicted_label']}\")\n",
    "    print(f\"Context: {row['context']}\")\n",
    "    print(\"=\" * 80)"
   ]
  },
  {
   "cell_type": "markdown",
   "id": "79339588-20df-4272-8f21-f30b68f3355a",
   "metadata": {
    "id": "79339588-20df-4272-8f21-f30b68f3355a"
   },
   "source": [
    "### Using Roberta to classify main roles"
   ]
  },
  {
   "cell_type": "code",
   "execution_count": 65,
   "id": "f41a0641-7aaa-4397-a5ff-4bf18c54ea3a",
   "metadata": {
    "id": "f41a0641-7aaa-4397-a5ff-4bf18c54ea3a"
   },
   "outputs": [],
   "source": [
    "from transformers import XLMRobertaTokenizer\n",
    "\n",
    "tokenizer = XLMRobertaTokenizer.from_pretrained(\"xlm-roberta-base\")"
   ]
  },
  {
   "cell_type": "code",
   "execution_count": 66,
   "id": "bf686c3c-8caa-4051-a460-b33501d135d8",
   "metadata": {
    "id": "bf686c3c-8caa-4051-a460-b33501d135d8"
   },
   "outputs": [],
   "source": [
    "def tokenize_data(entity_contexts, max_length=512):\n",
    "    encodings = tokenizer(entity_contexts, truncation=True, padding=True, max_length=max_length, return_tensors=\"pt\")\n",
    "    return encodings"
   ]
  },
  {
   "cell_type": "code",
   "execution_count": 67,
   "id": "35e61b16-19ce-4090-99ee-ce39c078e722",
   "metadata": {
    "id": "35e61b16-19ce-4090-99ee-ce39c078e722"
   },
   "outputs": [],
   "source": [
    "train_encodings = tokenize_data(dataset_train['entity_context'].tolist())\n",
    "val_encodings = tokenize_data(dataset_val['entity_context'].tolist())"
   ]
  },
  {
   "cell_type": "code",
   "execution_count": 68,
   "id": "935e18f6-c7b0-40be-85f9-98321255a33f",
   "metadata": {
    "id": "935e18f6-c7b0-40be-85f9-98321255a33f"
   },
   "outputs": [
    {
     "data": {
      "text/plain": [
       "[0, 1, 2, 0, 2]"
      ]
     },
     "execution_count": 68,
     "metadata": {},
     "output_type": "execute_result"
    }
   ],
   "source": [
    "train_main_roles_truths = dataset_train['main_role_encoded'].tolist()\n",
    "\n",
    "train_main_roles_truths[:5]"
   ]
  },
  {
   "cell_type": "code",
   "execution_count": 69,
   "id": "846733e2-47aa-403c-b931-cfb9c15f0cbc",
   "metadata": {
    "id": "846733e2-47aa-403c-b931-cfb9c15f0cbc"
   },
   "outputs": [
    {
     "data": {
      "text/plain": [
       "[0, 0, 0, 0, 0]"
      ]
     },
     "execution_count": 69,
     "metadata": {},
     "output_type": "execute_result"
    }
   ],
   "source": [
    "val_main_roles_truths = dataset_val['main_role_encoded'].tolist()\n",
    "\n",
    "val_main_roles_truths[:5]"
   ]
  },
  {
   "cell_type": "code",
   "execution_count": 70,
   "id": "aqpHShdS3_qM",
   "metadata": {
    "id": "aqpHShdS3_qM"
   },
   "outputs": [],
   "source": [
    "from torch.utils.data import DataLoader, Dataset\n",
    "import torch\n",
    "import torch.optim as optim\n",
    "from torch.nn import CrossEntropyLoss\n",
    "\n",
    "model_config = {\n",
    "    'batch_size': 16,\n",
    "    'num_epochs': 5,\n",
    "    'lr': 3e-5\n",
    "}"
   ]
  },
  {
   "cell_type": "code",
   "execution_count": null,
   "id": "507f2f7e-ba6f-471e-bf2a-3cca43ca0ac4",
   "metadata": {
    "id": "507f2f7e-ba6f-471e-bf2a-3cca43ca0ac4"
   },
   "outputs": [],
   "source": [
    "from transformers import XLMRobertaModel\n",
    "import torch.nn as nn\n",
    "\n",
    "class MultilingualRoleClassifier(nn.Module):\n",
    "    def __init__(self, main_roles_len):\n",
    "        super(MultilingualRoleClassifier, self).__init__()\n",
    "        self.backbone = XLMRobertaModel.from_pretrained(\"xlm-roberta-base\")\n",
    "        self.classifier = nn.Linear(self.backbone.config.hidden_size, main_roles_len)\n",
    "\n",
    "    def forward(self, input_ids, attention_mask):\n",
    "        outputs = self.backbone(input_ids=input_ids, attention_mask=attention_mask)\n",
    "        pooled_output = outputs.last_hidden_state[:, 0]\n",
    "        main_role_logits = self.classifier(pooled_output)\n",
    "        return main_role_logits"
   ]
  },
  {
   "cell_type": "code",
   "execution_count": null,
   "id": "brU_zH01Ls2M",
   "metadata": {
    "id": "brU_zH01Ls2M"
   },
   "outputs": [],
   "source": [
    "class EntityContextDataset(Dataset):\n",
    "    def __init__(self, input_ids, attention_mask, labels):\n",
    "        self.input_ids = input_ids\n",
    "        self.attention_mask = attention_mask\n",
    "        self.labels = labels\n",
    "\n",
    "    def __len__(self):\n",
    "        return len(self.labels)\n",
    "\n",
    "    def __getitem__(self, idx):\n",
    "        return {\n",
    "            'input_ids': self.input_ids[idx],\n",
    "            'attention_mask': self.attention_mask[idx],\n",
    "            'main_role_labels': self.labels[idx]\n",
    "        }\n",
    "\n",
    "train_dataset = EntityContextDataset(\n",
    "                              input_ids=train_encodings['input_ids'],\n",
    "                              attention_mask=train_encodings['attention_mask'],\n",
    "                             labels=train_main_roles_truths\n",
    "                            )\n",
    "\n",
    "val_dataset = EntityContextDataset(\n",
    "                              input_ids=val_encodings['input_ids'],\n",
    "                             attention_mask=val_encodings['attention_mask'],\n",
    "                             labels=val_main_roles_truths\n",
    "                            )"
   ]
  },
  {
   "cell_type": "code",
   "execution_count": null,
   "id": "4XJe0kgpjfOq",
   "metadata": {
    "id": "4XJe0kgpjfOq"
   },
   "outputs": [],
   "source": [
    "train_loader = DataLoader(train_dataset, batch_size=model_config['batch_size'], shuffle=True)\n",
    "val_loader = DataLoader(val_dataset, batch_size=model_config['batch_size'])"
   ]
  },
  {
   "cell_type": "code",
   "execution_count": null,
   "id": "f33531a0-383f-4806-af1d-aefb0c02d34d",
   "metadata": {
    "id": "f33531a0-383f-4806-af1d-aefb0c02d34d"
   },
   "outputs": [],
   "source": [
    "model = MultilingualRoleClassifier(main_roles_len=len(le_main_role.classes_))\n",
    "optimizer = optim.AdamW(model.parameters(), lr=model_config['lr'])\n",
    "criterion = CrossEntropyLoss()\n",
    "\n",
    "device = torch.device(\"cuda\" if torch.cuda.is_available() else \"cpu\")\n",
    "model = model.to(device)"
   ]
  },
  {
   "cell_type": "code",
   "execution_count": null,
   "id": "fOxTMeDVzEiT",
   "metadata": {
    "id": "fOxTMeDVzEiT"
   },
   "outputs": [],
   "source": [
    "from transformers import get_linear_schedule_with_warmup\n",
    "\n",
    "total_steps = len(train_loader) * model_config['num_epochs']\n",
    "warmup_steps = int(0.1 * total_steps)\n",
    "\n",
    "scheduler = get_linear_schedule_with_warmup(\n",
    "    optimizer,\n",
    "    num_warmup_steps=warmup_steps,\n",
    "    num_training_steps=total_steps\n",
    ")"
   ]
  },
  {
   "cell_type": "code",
   "execution_count": null,
   "id": "30bb49b3-b925-4c42-b158-6dcb534ab986",
   "metadata": {
    "id": "30bb49b3-b925-4c42-b158-6dcb534ab986"
   },
   "outputs": [],
   "source": [
    "def freeze_roberta_layers(model, num_layers_to_freeze=2):\n",
    "  assert hasattr(model, 'classifier'), \"Model must have a classifier attribute\"\n",
    "  for i in range(num_layers_to_freeze):\n",
    "    for param in model.backbone.encoder.layer[i].parameters():\n",
    "      param.requires_grad = False\n",
    "\n",
    "  for param in model.classifier.parameters():\n",
    "    param.requires_grad = True"
   ]
  },
  {
   "cell_type": "code",
   "execution_count": null,
   "id": "ed627b41-dc8c-4825-9805-94f13b3b2aa9",
   "metadata": {
    "id": "ed627b41-dc8c-4825-9805-94f13b3b2aa9"
   },
   "outputs": [],
   "source": [
    "freeze_roberta_layers(model)"
   ]
  },
  {
   "cell_type": "code",
   "execution_count": null,
   "id": "7efa5e65-6387-46ae-a585-b1d105e3990e",
   "metadata": {
    "id": "7efa5e65-6387-46ae-a585-b1d105e3990e"
   },
   "outputs": [],
   "source": [
    "import torch\n",
    "\n",
    "def train(train_loader, val_loader, model, optimizer, criterion, label, scheduler=None, num_epochs=10, patience=3, device='cuda'):\n",
    "    best_val_loss = float('inf')\n",
    "    epochs_without_improvement = 0\n",
    "    for epoch in range(num_epochs):\n",
    "        model.train()\n",
    "        train_loss = 0.0\n",
    "        for batch in train_loader:\n",
    "            optimizer.zero_grad()\n",
    "            input_ids = batch['input_ids'].to(device)\n",
    "            attention_mask = batch['attention_mask'].to(device)\n",
    "            labels = batch[label].to(device)\n",
    "            logits = model(input_ids, attention_mask)\n",
    "\n",
    "            loss = criterion(logits, labels)\n",
    "            loss.backward()\n",
    "            optimizer.step()\n",
    "            if scheduler is not None:\n",
    "                scheduler.step()\n",
    "            train_loss += loss.item()\n",
    "\n",
    "        model.eval()\n",
    "        val_loss = 0.0\n",
    "        with torch.no_grad():\n",
    "            for batch in val_loader:\n",
    "                input_ids = batch['input_ids'].to(device)\n",
    "                attention_mask = batch['attention_mask'].to(device)\n",
    "                labels = batch[label].to(device)\n",
    "\n",
    "                logits = model(input_ids, attention_mask)\n",
    "                loss = criterion(logits, labels)\n",
    "                val_loss += loss.item()\n",
    "\n",
    "        avg_train_loss = train_loss / len(train_loader)\n",
    "        avg_val_loss = val_loss / len(val_loader)\n",
    "\n",
    "        print(f\"Epoch {epoch+1}/{num_epochs}, Train Loss (Avg): {avg_train_loss:.4f}, Val Loss (Avg): {avg_val_loss:.4f}\")\n",
    "\n",
    "        if avg_val_loss < best_val_loss:\n",
    "            best_val_loss = avg_val_loss\n",
    "            epochs_without_improvement = 0\n",
    "        else:\n",
    "            epochs_without_improvement += 1\n",
    "\n",
    "        if epochs_without_improvement >= patience:\n",
    "            print(f\"Early stopping triggered. Stopping training after {epoch+1} epochs.\")\n",
    "            break"
   ]
  },
  {
   "cell_type": "code",
   "execution_count": null,
   "id": "42b0516a-e581-4844-8b17-cf2519c37a7e",
   "metadata": {
    "id": "42b0516a-e581-4844-8b17-cf2519c37a7e"
   },
   "outputs": [],
   "source": [
    "train(train_loader=train_loader, val_loader=val_loader, model=model, optimizer=optimizer, criterion=criterion, label='main_role_labels', scheduler=scheduler)"
   ]
  },
  {
   "cell_type": "code",
   "execution_count": null,
   "id": "vBxkN6hdkWMb",
   "metadata": {
    "id": "vBxkN6hdkWMb"
   },
   "outputs": [],
   "source": [
    "from sklearn.metrics import f1_score\n",
    "\n",
    "def evaluate_transformer_model(\n",
    "    model,\n",
    "    val_loader,\n",
    "    label_column,\n",
    "    device='cuda',\n",
    "    target_names=None\n",
    "):\n",
    "    model.eval()\n",
    "\n",
    "    all_preds = []\n",
    "    all_truths = []\n",
    "\n",
    "    with torch.no_grad():\n",
    "        for batch in val_loader:\n",
    "            input_ids = batch['input_ids'].to(device)\n",
    "            attention_mask = batch['attention_mask'].to(device)\n",
    "            labels = batch[label_column].to(device)\n",
    "\n",
    "            logits = model(input_ids, attention_mask)\n",
    "\n",
    "            probs = torch.softmax(logits, dim=-1)\n",
    "            model_preds = torch.argmax(probs, dim=-1)\n",
    "\n",
    "            all_preds.extend(model_preds.cpu().numpy())\n",
    "            all_truths.extend(labels.cpu().numpy())\n",
    "\n",
    "    classification_rep = classification_report(all_truths, all_preds, target_names=target_names, zero_division=0)\n",
    "    current_f1 = f1_score(all_truths, all_preds, average='macro')\n",
    "    micro_f1 = f1_score(all_truths, all_preds, average='micro')\n",
    "\n",
    "    print(\"Classification Report:\")\n",
    "    print(classification_rep)\n",
    "    print(f\"F1 Score (Macro Average): {current_f1}\")\n",
    "    print(f\"F1 Score (Micro Average): {micro_f1}\")\n",
    "\n",
    "    accuracy = (np.array(all_preds) == np.array(all_truths)).mean()\n",
    "    print(f\"Accuracy: {accuracy}\")\n",
    "\n",
    "    conf_matrix = confusion_matrix(all_truths, all_preds)\n",
    "    print(\"Confusion Matrix:\")\n",
    "    print(conf_matrix)"
   ]
  },
  {
   "cell_type": "code",
   "execution_count": null,
   "id": "W2kdhegCku0X",
   "metadata": {
    "id": "W2kdhegCku0X"
   },
   "outputs": [],
   "source": [
    "evaluate_transformer_model(\n",
    "    model,\n",
    "    val_loader,\n",
    "    label_column='main_role_labels',\n",
    "    device='cuda',\n",
    "    target_names=le_main_role.classes_\n",
    ")"
   ]
  },
  {
   "cell_type": "markdown",
   "id": "PUIYOcHMJXKE",
   "metadata": {
    "id": "PUIYOcHMJXKE"
   },
   "source": [
    "### Using Roberta to classify sub roles"
   ]
  },
  {
   "cell_type": "code",
   "execution_count": null,
   "id": "mUcV1awdJdGI",
   "metadata": {
    "id": "mUcV1awdJdGI"
   },
   "outputs": [],
   "source": [
    "train_sub_roles_truth = dataset_train['sub_roles_encoded'].tolist()\n",
    "\n",
    "train_sub_roles_truth[:5]"
   ]
  },
  {
   "cell_type": "code",
   "execution_count": null,
   "id": "HYDJU9yGJsh2",
   "metadata": {
    "id": "HYDJU9yGJsh2"
   },
   "outputs": [],
   "source": [
    "val_sub_roles_truth = dataset_val['sub_roles_encoded'].tolist()\n",
    "\n",
    "val_sub_roles_truth[:5]"
   ]
  },
  {
   "cell_type": "code",
   "execution_count": null,
   "id": "LG8i_zBrLcCH",
   "metadata": {
    "id": "LG8i_zBrLcCH"
   },
   "outputs": [],
   "source": [
    "from transformers import XLMRobertaModel\n",
    "import torch.nn as nn\n",
    "\n",
    "class MultilingualSubRoleClassifier(nn.Module):\n",
    "    def __init__(self, sub_roles_len):\n",
    "        super(MultilingualSubRoleClassifier, self).__init__()\n",
    "        self.backbone = XLMRobertaModel.from_pretrained(\"xlm-roberta-base\")\n",
    "        self.classifier = nn.Linear(self.backbone.config.hidden_size, sub_roles_len)\n",
    "        self.dropout = nn.Dropout(p=0.3)\n",
    "\n",
    "    def forward(self, input_ids, attention_mask):\n",
    "        outputs = self.backbone(input_ids=input_ids, attention_mask=attention_mask)\n",
    "        pooled_output = outputs.last_hidden_state[:, 0]\n",
    "        pooled_output = self.dropout(pooled_output)\n",
    "        sub_roles_logits = self.classifier(pooled_output)\n",
    "        return sub_roles_logits"
   ]
  },
  {
   "cell_type": "code",
   "execution_count": null,
   "id": "6UgvtAnoLoWG",
   "metadata": {
    "id": "6UgvtAnoLoWG"
   },
   "outputs": [],
   "source": [
    "class SubRoleDataset(Dataset):\n",
    "    def __init__(self, input_ids, attention_mask, labels):\n",
    "        self.input_ids = input_ids\n",
    "        self.attention_mask = attention_mask\n",
    "        self.labels = labels\n",
    "\n",
    "    def __len__(self):\n",
    "        return len(self.labels)\n",
    "\n",
    "    def __getitem__(self, idx):\n",
    "        return {\n",
    "            'input_ids': self.input_ids[idx],\n",
    "            'attention_mask': self.attention_mask[idx],\n",
    "            'sub_role_labels': self.labels[idx].astype(np.float32)\n",
    "        }\n",
    "\n",
    "train_dataset_sbr = SubRoleDataset(\n",
    "                              input_ids=train_encodings['input_ids'],\n",
    "                              attention_mask=train_encodings['attention_mask'],\n",
    "                              labels=train_sub_roles_truth\n",
    "                            )\n",
    "\n",
    "val_dataset_sbr = SubRoleDataset(\n",
    "                              input_ids=val_encodings['input_ids'],\n",
    "                              attention_mask=val_encodings['attention_mask'],\n",
    "                              labels=val_sub_roles_truth\n",
    "                            )"
   ]
  },
  {
   "cell_type": "code",
   "execution_count": null,
   "id": "5JAV2rm1L1M_",
   "metadata": {
    "id": "5JAV2rm1L1M_"
   },
   "outputs": [],
   "source": [
    "train_loader_sbr = DataLoader(train_dataset_sbr, batch_size=model_config['batch_size'], shuffle=True)\n",
    "val_loader_sbr = DataLoader(val_dataset_sbr, batch_size=model_config['batch_size'], shuffle=False)"
   ]
  },
  {
   "cell_type": "code",
   "execution_count": null,
   "id": "N7W1wso-MJYS",
   "metadata": {
    "id": "N7W1wso-MJYS"
   },
   "outputs": [],
   "source": [
    "sbr_model = MultilingualSubRoleClassifier(sub_roles_len=len(mlb_sub_role.classes_))"
   ]
  },
  {
   "cell_type": "code",
   "execution_count": null,
   "id": "hOpgt8N4Me8Q",
   "metadata": {
    "id": "hOpgt8N4Me8Q"
   },
   "outputs": [],
   "source": [
    "from torch.nn import BCEWithLogitsLoss\n",
    "\n",
    "model_config = {\n",
    "    'batch_size': 16,\n",
    "    'num_epochs': 10,\n",
    "    'lr': 4e-5\n",
    "}\n",
    "\n",
    "device = torch.device(\"cuda\" if torch.cuda.is_available() else \"cpu\")\n",
    "optimizer_sbr = optim.AdamW(sbr_model.parameters(), lr=model_config['lr'])\n",
    "criterion_sbr = BCEWithLogitsLoss()\n",
    "\n",
    "sbr_model.to(device)"
   ]
  },
  {
   "cell_type": "code",
   "execution_count": null,
   "id": "gYrqIoxq3rIJ",
   "metadata": {
    "id": "gYrqIoxq3rIJ"
   },
   "outputs": [],
   "source": [
    "from transformers import get_scheduler\n",
    "\n",
    "num_training_steps = len(train_loader_sbr) * model_config['num_epochs']\n",
    "scheduler_sbr = get_scheduler(\n",
    "    \"linear\",\n",
    "    optimizer=optimizer_sbr,\n",
    "    num_warmup_steps=0.1 * num_training_steps,\n",
    "    num_training_steps=num_training_steps,\n",
    ")"
   ]
  },
  {
   "cell_type": "code",
   "execution_count": null,
   "id": "bW0AHVijMznN",
   "metadata": {
    "id": "bW0AHVijMznN"
   },
   "outputs": [],
   "source": [
    "train(train_loader_sbr, val_loader_sbr, sbr_model, optimizer_sbr, criterion_sbr, 'sub_role_labels', scheduler=scheduler_sbr)"
   ]
  },
  {
   "cell_type": "code",
   "execution_count": null,
   "id": "4KGAW7YUMyu6",
   "metadata": {
    "id": "4KGAW7YUMyu6"
   },
   "outputs": [],
   "source": [
    "from sklearn.metrics import f1_score\n",
    "\n",
    "def evaluate_transformer_model(\n",
    "    model,\n",
    "    val_loader,\n",
    "    label_column,\n",
    "    thresholds=np.arange(0.1, 1.0, 0.1),\n",
    "    device='cuda',\n",
    "    target_names=None\n",
    "):\n",
    "    best_threshold = 0\n",
    "    best_f1 = 0\n",
    "    best_classification_report = None\n",
    "\n",
    "    all_preds = []\n",
    "    all_truths = []\n",
    "\n",
    "    for threshold in thresholds:\n",
    "        preds = []\n",
    "        truths = []\n",
    "\n",
    "        with torch.no_grad():\n",
    "            for batch in val_loader:\n",
    "                input_ids = batch['input_ids'].to(device)\n",
    "                attention_mask = batch['attention_mask'].to(device)\n",
    "                labels = batch[label_column].to(device)\n",
    "                logits = model(input_ids, attention_mask)\n",
    "                probs = torch.sigmoid(logits)\n",
    "\n",
    "                model_preds = (probs >= threshold).int()\n",
    "                preds.extend(model_preds.cpu().numpy())\n",
    "                truths.extend(labels.cpu().numpy())\n",
    "\n",
    "        classification_rep = classification_report(truths, preds, target_names=target_names, zero_division=0)\n",
    "        current_f1 = f1_score(truths, preds, average='macro')\n",
    "\n",
    "        if current_f1 > best_f1:\n",
    "            best_f1 = current_f1\n",
    "            best_threshold = threshold\n",
    "            best_classification_report = classification_rep\n",
    "\n",
    "    print(f\"Best Threshold: {best_threshold}, Best F1 Score: {best_f1}\")\n",
    "    print(\"Best Classification Report:\")\n",
    "    print(best_classification_report)"
   ]
  },
  {
   "cell_type": "code",
   "execution_count": null,
   "id": "xTZmsW5VPd3g",
   "metadata": {
    "id": "xTZmsW5VPd3g"
   },
   "outputs": [],
   "source": [
    "evaluate_transformer_model(sbr_model, val_loader_sbr, label_column='sub_role_labels', device='cuda', target_names=mlb_sub_role.classes_)"
   ]
  }
 ],
 "metadata": {
  "accelerator": "GPU",
  "colab": {
   "gpuType": "T4",
   "provenance": []
  },
  "kernelspec": {
   "display_name": "Python 3 (ipykernel)",
   "language": "python",
   "name": "python3"
  },
  "language_info": {
   "codemirror_mode": {
    "name": "ipython",
    "version": 3
   },
   "file_extension": ".py",
   "mimetype": "text/x-python",
   "name": "python",
   "nbconvert_exporter": "python",
   "pygments_lexer": "ipython3",
   "version": "3.12.4"
  }
 },
 "nbformat": 4,
 "nbformat_minor": 5
}
