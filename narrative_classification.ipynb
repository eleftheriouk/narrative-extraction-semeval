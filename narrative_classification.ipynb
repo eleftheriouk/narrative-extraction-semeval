{
 "cells": [
  {
   "cell_type": "markdown",
   "metadata": {
    "id": "_KUMoUzrlwiU"
   },
   "source": [
    "# Semeval 2025 Task 10\n",
    "### Subtask 2: Narrative Classification\n",
    "\n",
    "Given a news article and a [two-level taxonomy of narrative labels](https://propaganda.math.unipd.it/semeval2025task10/NARRATIVE-TAXONOMIES.pdf) (where each narrative is subdivided into subnarratives) from a particular domain, assign to the article all the appropriate subnarrative labels. This is a multi-label multi-class document classification task."
   ]
  },
  {
   "cell_type": "markdown",
   "metadata": {
    "id": "GzN0KSMwnjSU"
   },
   "source": [
    "## 1. Importing libraries"
   ]
  },
  {
   "cell_type": "markdown",
   "metadata": {
    "id": "K5dyA3SCnmV3"
   },
   "source": [
    "We will start by importing the libraries needed."
   ]
  },
  {
   "cell_type": "code",
   "execution_count": 1,
   "metadata": {
    "colab": {
     "base_uri": "https://localhost:8080/"
    },
    "id": "74Oco_3Pno2i",
    "outputId": "ac60ea84-8d98-44f7-d96e-b3d78ffdbcc9"
   },
   "outputs": [],
   "source": [
    "import pandas as pd\n",
    "import numpy as np\n",
    "\n",
    "import tensorflow as tf\n",
    "from tensorflow.keras import layers\n",
    "from tensorflow.keras import optimizers\n",
    "from tensorflow.keras.callbacks import ModelCheckpoint\n",
    "\n",
    "from matplotlib import pyplot as plt\n",
    "import seaborn as sns\n",
    "import os\n"
   ]
  },
  {
   "cell_type": "code",
   "execution_count": 2,
   "metadata": {
    "colab": {
     "base_uri": "https://localhost:8080/"
    },
    "id": "8rMZwi3jno_q",
    "outputId": "7f3c172e-17f5-4a6b-aa8d-95f4a8e000ae"
   },
   "outputs": [
    {
     "name": "stdout",
     "output_type": "stream",
     "text": [
      "Requirement already satisfied: InstructorEmbedding in /Users/kwstasel/Desktop/instructor-embedding (1.0.2)\n"
     ]
    }
   ],
   "source": [
    "!pip install InstructorEmbedding"
   ]
  },
  {
   "cell_type": "markdown",
   "metadata": {
    "id": "nev7JIa3nyfd"
   },
   "source": [
    "## 2. Reading our data"
   ]
  },
  {
   "cell_type": "code",
   "execution_count": 3,
   "metadata": {
    "id": "RgLfgkNlnyz5"
   },
   "outputs": [],
   "source": [
    "raw_annotation_data = []\n",
    "\n",
    "with open(\"data/semeval_data/subtask-2-annotations.txt\", 'r') as file:\n",
    "    for line in file:\n",
    "        parts = line.strip().split('\\t')\n",
    "        article_id = parts[0]\n",
    "        narrative_to_subnarratives = parts[2].split(';') # second part is the mapping from narrative to subnarrative\n",
    "        narratives = []\n",
    "        subnarratives = []\n",
    "\n",
    "        # look to that narrative to subnarrative mapping\n",
    "        for nar_to_sub in narrative_to_subnarratives:\n",
    "          subnarrative_list = nar_to_sub.split(' ')\n",
    "          if subnarrative_list[0] == 'Other':\n",
    "            narratives.append('Other')\n",
    "            subnarratives.append('Other')\n",
    "            continue\n",
    "\n",
    "          nar_to_sub = ' '.join(subnarrative_list[1:])\n",
    "          nar, sub = nar_to_sub.split(':')\n",
    "          narratives.append(nar.strip())\n",
    "          subnarratives.append(sub.strip())\n",
    "\n",
    "        raw_annotation_data.append({\n",
    "            'article_id': article_id,\n",
    "            'narratives': narratives,\n",
    "            'subnarratives': subnarratives\n",
    "        })\n",
    "\n",
    "annotations_df = pd.DataFrame(raw_annotation_data)"
   ]
  },
  {
   "cell_type": "code",
   "execution_count": 4,
   "metadata": {
    "colab": {
     "base_uri": "https://localhost:8080/",
     "height": 657
    },
    "id": "1Vj7t3iR9VC8",
    "outputId": "ead0b0bd-3214-45d6-b473-e9ab30b33116"
   },
   "outputs": [
    {
     "data": {
      "text/html": [
       "<div>\n",
       "<style scoped>\n",
       "    .dataframe tbody tr th:only-of-type {\n",
       "        vertical-align: middle;\n",
       "    }\n",
       "\n",
       "    .dataframe tbody tr th {\n",
       "        vertical-align: top;\n",
       "    }\n",
       "\n",
       "    .dataframe thead th {\n",
       "        text-align: right;\n",
       "    }\n",
       "</style>\n",
       "<table border=\"1\" class=\"dataframe\">\n",
       "  <thead>\n",
       "    <tr style=\"text-align: right;\">\n",
       "      <th></th>\n",
       "      <th>article_id</th>\n",
       "      <th>narratives</th>\n",
       "      <th>subnarratives</th>\n",
       "    </tr>\n",
       "  </thead>\n",
       "  <tbody>\n",
       "    <tr>\n",
       "      <th>45</th>\n",
       "      <td>EN_UA_102963.txt</td>\n",
       "      <td>[Other]</td>\n",
       "      <td>[Other]</td>\n",
       "    </tr>\n",
       "    <tr>\n",
       "      <th>21</th>\n",
       "      <td>EN_CC_100122.txt</td>\n",
       "      <td>[Other]</td>\n",
       "      <td>[Other]</td>\n",
       "    </tr>\n",
       "    <tr>\n",
       "      <th>86</th>\n",
       "      <td>EN_UA_022339.txt</td>\n",
       "      <td>[Speculating war outcomes, Discrediting Ukrain...</td>\n",
       "      <td>[Ukrainian army is collapsing, Situation in Uk...</td>\n",
       "    </tr>\n",
       "    <tr>\n",
       "      <th>143</th>\n",
       "      <td>EN_UA_103025.txt</td>\n",
       "      <td>[Criticism of climate policies, Criticism of c...</td>\n",
       "      <td>[Climate policies are ineffective, Climate pol...</td>\n",
       "    </tr>\n",
       "    <tr>\n",
       "      <th>66</th>\n",
       "      <td>EN_UA_010735.txt</td>\n",
       "      <td>[Other]</td>\n",
       "      <td>[Other]</td>\n",
       "    </tr>\n",
       "    <tr>\n",
       "      <th>195</th>\n",
       "      <td>EN_UA_013257.txt</td>\n",
       "      <td>[Russia is the Victim, Blaming the war on othe...</td>\n",
       "      <td>[Russia actions in Ukraine are only self-defen...</td>\n",
       "    </tr>\n",
       "    <tr>\n",
       "      <th>15</th>\n",
       "      <td>EN_UA_022051.txt</td>\n",
       "      <td>[Amplifying war-related fears, Blaming the war...</td>\n",
       "      <td>[Russia will also attack other countries, The ...</td>\n",
       "    </tr>\n",
       "    <tr>\n",
       "      <th>63</th>\n",
       "      <td>EN_CC_100243.txt</td>\n",
       "      <td>[Other]</td>\n",
       "      <td>[Other]</td>\n",
       "    </tr>\n",
       "    <tr>\n",
       "      <th>83</th>\n",
       "      <td>EN_UA_002991.txt</td>\n",
       "      <td>[Other]</td>\n",
       "      <td>[Other]</td>\n",
       "    </tr>\n",
       "    <tr>\n",
       "      <th>116</th>\n",
       "      <td>EN_UA_029155.txt</td>\n",
       "      <td>[Discrediting Ukraine, Distrust towards Media]</td>\n",
       "      <td>[Discrediting Ukrainian government and officia...</td>\n",
       "    </tr>\n",
       "    <tr>\n",
       "      <th>17</th>\n",
       "      <td>EN_UA_102703.txt</td>\n",
       "      <td>[Other]</td>\n",
       "      <td>[Other]</td>\n",
       "    </tr>\n",
       "    <tr>\n",
       "      <th>133</th>\n",
       "      <td>EN_CC_100038.txt</td>\n",
       "      <td>[Criticism of institutions and authorities, Qu...</td>\n",
       "      <td>[Criticism of national governments, Methodolog...</td>\n",
       "    </tr>\n",
       "    <tr>\n",
       "      <th>192</th>\n",
       "      <td>EN_UA_101079.txt</td>\n",
       "      <td>[Negative Consequences for the West]</td>\n",
       "      <td>[Sanctions imposed by Western countries will b...</td>\n",
       "    </tr>\n",
       "    <tr>\n",
       "      <th>38</th>\n",
       "      <td>EN_UA_103732.txt</td>\n",
       "      <td>[Discrediting Ukraine, Discrediting the West, ...</td>\n",
       "      <td>[Discrediting Ukrainian government and officia...</td>\n",
       "    </tr>\n",
       "    <tr>\n",
       "      <th>97</th>\n",
       "      <td>EN_UA_013344.txt</td>\n",
       "      <td>[Hidden plots by secret schemes of powerful gr...</td>\n",
       "      <td>[Other]</td>\n",
       "    </tr>\n",
       "    <tr>\n",
       "      <th>60</th>\n",
       "      <td>EN_CC_100091.txt</td>\n",
       "      <td>[Other]</td>\n",
       "      <td>[Other]</td>\n",
       "    </tr>\n",
       "    <tr>\n",
       "      <th>144</th>\n",
       "      <td>EN_UA_100868.txt</td>\n",
       "      <td>[Hidden plots by secret schemes of powerful gr...</td>\n",
       "      <td>[Other]</td>\n",
       "    </tr>\n",
       "    <tr>\n",
       "      <th>22</th>\n",
       "      <td>EN_UA_100840.txt</td>\n",
       "      <td>[Negative Consequences for the West, Discredit...</td>\n",
       "      <td>[Sanctions imposed by Western countries will b...</td>\n",
       "    </tr>\n",
       "    <tr>\n",
       "      <th>89</th>\n",
       "      <td>EN_UA_029053.txt</td>\n",
       "      <td>[Discrediting the West, Diplomacy, Discreditin...</td>\n",
       "      <td>[The West is weak, Diplomacy does/will not wor...</td>\n",
       "    </tr>\n",
       "    <tr>\n",
       "      <th>92</th>\n",
       "      <td>EN_CC_100010.txt</td>\n",
       "      <td>[Other]</td>\n",
       "      <td>[Other]</td>\n",
       "    </tr>\n",
       "  </tbody>\n",
       "</table>\n",
       "</div>"
      ],
      "text/plain": [
       "           article_id                                         narratives  \\\n",
       "45   EN_UA_102963.txt                                            [Other]   \n",
       "21   EN_CC_100122.txt                                            [Other]   \n",
       "86   EN_UA_022339.txt  [Speculating war outcomes, Discrediting Ukrain...   \n",
       "143  EN_UA_103025.txt  [Criticism of climate policies, Criticism of c...   \n",
       "66   EN_UA_010735.txt                                            [Other]   \n",
       "195  EN_UA_013257.txt  [Russia is the Victim, Blaming the war on othe...   \n",
       "15   EN_UA_022051.txt  [Amplifying war-related fears, Blaming the war...   \n",
       "63   EN_CC_100243.txt                                            [Other]   \n",
       "83   EN_UA_002991.txt                                            [Other]   \n",
       "116  EN_UA_029155.txt     [Discrediting Ukraine, Distrust towards Media]   \n",
       "17   EN_UA_102703.txt                                            [Other]   \n",
       "133  EN_CC_100038.txt  [Criticism of institutions and authorities, Qu...   \n",
       "192  EN_UA_101079.txt               [Negative Consequences for the West]   \n",
       "38   EN_UA_103732.txt  [Discrediting Ukraine, Discrediting the West, ...   \n",
       "97   EN_UA_013344.txt  [Hidden plots by secret schemes of powerful gr...   \n",
       "60   EN_CC_100091.txt                                            [Other]   \n",
       "144  EN_UA_100868.txt  [Hidden plots by secret schemes of powerful gr...   \n",
       "22   EN_UA_100840.txt  [Negative Consequences for the West, Discredit...   \n",
       "89   EN_UA_029053.txt  [Discrediting the West, Diplomacy, Discreditin...   \n",
       "92   EN_CC_100010.txt                                            [Other]   \n",
       "\n",
       "                                         subnarratives  \n",
       "45                                             [Other]  \n",
       "21                                             [Other]  \n",
       "86   [Ukrainian army is collapsing, Situation in Uk...  \n",
       "143  [Climate policies are ineffective, Climate pol...  \n",
       "66                                             [Other]  \n",
       "195  [Russia actions in Ukraine are only self-defen...  \n",
       "15   [Russia will also attack other countries, The ...  \n",
       "63                                             [Other]  \n",
       "83                                             [Other]  \n",
       "116  [Discrediting Ukrainian government and officia...  \n",
       "17                                             [Other]  \n",
       "133  [Criticism of national governments, Methodolog...  \n",
       "192  [Sanctions imposed by Western countries will b...  \n",
       "38   [Discrediting Ukrainian government and officia...  \n",
       "97                                             [Other]  \n",
       "60                                             [Other]  \n",
       "144                                            [Other]  \n",
       "22   [Sanctions imposed by Western countries will b...  \n",
       "89   [The West is weak, Diplomacy does/will not wor...  \n",
       "92                                             [Other]  "
      ]
     },
     "execution_count": 4,
     "metadata": {},
     "output_type": "execute_result"
    }
   ],
   "source": [
    "annotations_df.sample(20)"
   ]
  },
  {
   "cell_type": "code",
   "execution_count": 5,
   "metadata": {
    "colab": {
     "base_uri": "https://localhost:8080/"
    },
    "id": "4iAeSnTpDADH",
    "outputId": "b9fe2c9c-dd7e-4d8a-9330-e6c11d876086"
   },
   "outputs": [
    {
     "data": {
      "text/plain": [
       "(200, 3)"
      ]
     },
     "execution_count": 5,
     "metadata": {},
     "output_type": "execute_result"
    }
   ],
   "source": [
    "annotations_df.shape"
   ]
  },
  {
   "cell_type": "code",
   "execution_count": 6,
   "metadata": {
    "colab": {
     "base_uri": "https://localhost:8080/",
     "height": 172
    },
    "id": "HCBZM0C1DB99",
    "outputId": "3f1c00b5-6d4c-4553-c69c-3e9bfbe301ca"
   },
   "outputs": [
    {
     "data": {
      "text/plain": [
       "article_id                                        EN_UA_021270.txt\n",
       "narratives       [Speculating war outcomes, Discrediting Ukrain...\n",
       "subnarratives    [Other, Situation in Ukraine is hopeless, West...\n",
       "Name: 2, dtype: object"
      ]
     },
     "execution_count": 6,
     "metadata": {},
     "output_type": "execute_result"
    }
   ],
   "source": [
    "annotations_df.iloc[2]"
   ]
  },
  {
   "cell_type": "code",
   "execution_count": 7,
   "metadata": {
    "colab": {
     "base_uri": "https://localhost:8080/"
    },
    "id": "neNtsPcrCwnn",
    "outputId": "01b2f768-c81d-4b23-bcb0-01fc46af24b7"
   },
   "outputs": [
    {
     "data": {
      "text/plain": [
       "['Speculating war outcomes',\n",
       " 'Discrediting Ukraine',\n",
       " 'Discrediting the West, Diplomacy',\n",
       " 'Praise of Russia',\n",
       " 'Discrediting the West, Diplomacy']"
      ]
     },
     "execution_count": 7,
     "metadata": {},
     "output_type": "execute_result"
    }
   ],
   "source": [
    "annotations_df.iloc[2].narratives"
   ]
  },
  {
   "cell_type": "code",
   "execution_count": 8,
   "metadata": {
    "colab": {
     "base_uri": "https://localhost:8080/"
    },
    "id": "9sKS1EGtC3km",
    "outputId": "a2d203a7-75ab-4ea7-e291-049bd2488c87"
   },
   "outputs": [
    {
     "data": {
      "text/plain": [
       "['Other',\n",
       " 'Situation in Ukraine is hopeless',\n",
       " 'West is tired of Ukraine',\n",
       " 'Praise of Russian military might',\n",
       " 'The West does not care about Ukraine, only about its interests']"
      ]
     },
     "execution_count": 8,
     "metadata": {},
     "output_type": "execute_result"
    }
   ],
   "source": [
    "annotations_df.iloc[2].subnarratives"
   ]
  },
  {
   "cell_type": "code",
   "execution_count": 9,
   "metadata": {
    "id": "h2v7_ZUjFwYk"
   },
   "outputs": [],
   "source": [
    "def read_file_content(file_path):\n",
    "    with open(file_path, 'r', encoding='utf-8') as file:\n",
    "        return file.read()\n"
   ]
  },
  {
   "cell_type": "code",
   "execution_count": 10,
   "metadata": {
    "colab": {
     "base_uri": "https://localhost:8080/",
     "height": 201
    },
    "id": "-OhX4IFa-Xv5",
    "outputId": "fdcbdd47-1e51-4ed8-aff8-8c650059a76a"
   },
   "outputs": [
    {
     "data": {
      "text/html": [
       "<div>\n",
       "<style scoped>\n",
       "    .dataframe tbody tr th:only-of-type {\n",
       "        vertical-align: middle;\n",
       "    }\n",
       "\n",
       "    .dataframe tbody tr th {\n",
       "        vertical-align: top;\n",
       "    }\n",
       "\n",
       "    .dataframe thead th {\n",
       "        text-align: right;\n",
       "    }\n",
       "</style>\n",
       "<table border=\"1\" class=\"dataframe\">\n",
       "  <thead>\n",
       "    <tr style=\"text-align: right;\">\n",
       "      <th></th>\n",
       "      <th>article_id</th>\n",
       "      <th>content</th>\n",
       "    </tr>\n",
       "  </thead>\n",
       "  <tbody>\n",
       "    <tr>\n",
       "      <th>0</th>\n",
       "      <td>EN_UA_104876.txt</td>\n",
       "      <td>Putin honours army unit blamed for Bucha massa...</td>\n",
       "    </tr>\n",
       "    <tr>\n",
       "      <th>1</th>\n",
       "      <td>EN_UA_023211.txt</td>\n",
       "      <td>Europe Putin thanks US journalist Tucker Carls...</td>\n",
       "    </tr>\n",
       "    <tr>\n",
       "      <th>2</th>\n",
       "      <td>EN_UA_011260.txt</td>\n",
       "      <td>Russia has a clear plan to resolve the conflic...</td>\n",
       "    </tr>\n",
       "    <tr>\n",
       "      <th>3</th>\n",
       "      <td>EN_UA_101067.txt</td>\n",
       "      <td>First war of TikTok era sees tragedy, humor an...</td>\n",
       "    </tr>\n",
       "    <tr>\n",
       "      <th>4</th>\n",
       "      <td>EN_UA_102963.txt</td>\n",
       "      <td>Ukraine's President Zelenskyy to address Mexic...</td>\n",
       "    </tr>\n",
       "  </tbody>\n",
       "</table>\n",
       "</div>"
      ],
      "text/plain": [
       "         article_id                                            content\n",
       "0  EN_UA_104876.txt  Putin honours army unit blamed for Bucha massa...\n",
       "1  EN_UA_023211.txt  Europe Putin thanks US journalist Tucker Carls...\n",
       "2  EN_UA_011260.txt  Russia has a clear plan to resolve the conflic...\n",
       "3  EN_UA_101067.txt  First war of TikTok era sees tragedy, humor an...\n",
       "4  EN_UA_102963.txt  Ukraine's President Zelenskyy to address Mexic..."
      ]
     },
     "execution_count": 10,
     "metadata": {},
     "output_type": "execute_result"
    }
   ],
   "source": [
    "folder_path = \"data/semeval_data/raw-documents\"\n",
    "documents_df = pd.DataFrame(columns=['article_id', 'content'])\n",
    "for filename in os.listdir(folder_path):\n",
    "    if filename.endswith('.txt') and filename.startswith('EN'):\n",
    "        article_id = (filename)\n",
    "        file_path = os.path.join(folder_path, filename)\n",
    "        content = read_file_content(file_path)\n",
    "\n",
    "        new_row = pd.DataFrame({'article_id': [article_id], 'content': [content]})\n",
    "\n",
    "        documents_df = pd.concat([documents_df, new_row], ignore_index=True)\n",
    "\n",
    "documents_df.head()"
   ]
  },
  {
   "cell_type": "code",
   "execution_count": 11,
   "metadata": {
    "colab": {
     "base_uri": "https://localhost:8080/"
    },
    "id": "1PkQRNU2Fu23",
    "outputId": "f90d1ddd-c6cd-400d-9381-ce8eb16dc59c"
   },
   "outputs": [
    {
     "data": {
      "text/plain": [
       "(200, 2)"
      ]
     },
     "execution_count": 11,
     "metadata": {},
     "output_type": "execute_result"
    }
   ],
   "source": [
    "documents_df.shape"
   ]
  },
  {
   "cell_type": "code",
   "execution_count": 12,
   "metadata": {
    "colab": {
     "base_uri": "https://localhost:8080/",
     "height": 201
    },
    "id": "3IMbdC-hGCVc",
    "outputId": "691793d9-2df0-40e8-a263-2788741455d9"
   },
   "outputs": [
    {
     "data": {
      "text/html": [
       "<div>\n",
       "<style scoped>\n",
       "    .dataframe tbody tr th:only-of-type {\n",
       "        vertical-align: middle;\n",
       "    }\n",
       "\n",
       "    .dataframe tbody tr th {\n",
       "        vertical-align: top;\n",
       "    }\n",
       "\n",
       "    .dataframe thead th {\n",
       "        text-align: right;\n",
       "    }\n",
       "</style>\n",
       "<table border=\"1\" class=\"dataframe\">\n",
       "  <thead>\n",
       "    <tr style=\"text-align: right;\">\n",
       "      <th></th>\n",
       "      <th>article_id</th>\n",
       "      <th>content</th>\n",
       "      <th>narratives</th>\n",
       "      <th>subnarratives</th>\n",
       "    </tr>\n",
       "  </thead>\n",
       "  <tbody>\n",
       "    <tr>\n",
       "      <th>0</th>\n",
       "      <td>EN_UA_104876.txt</td>\n",
       "      <td>Putin honours army unit blamed for Bucha massa...</td>\n",
       "      <td>[Other]</td>\n",
       "      <td>[Other]</td>\n",
       "    </tr>\n",
       "    <tr>\n",
       "      <th>1</th>\n",
       "      <td>EN_UA_023211.txt</td>\n",
       "      <td>Europe Putin thanks US journalist Tucker Carls...</td>\n",
       "      <td>[Other]</td>\n",
       "      <td>[Other]</td>\n",
       "    </tr>\n",
       "    <tr>\n",
       "      <th>2</th>\n",
       "      <td>EN_UA_011260.txt</td>\n",
       "      <td>Russia has a clear plan to resolve the conflic...</td>\n",
       "      <td>[Russia is the Victim, Discrediting Ukraine, D...</td>\n",
       "      <td>[UA is anti-RU extremists, Ukraine is a hub fo...</td>\n",
       "    </tr>\n",
       "    <tr>\n",
       "      <th>3</th>\n",
       "      <td>EN_UA_101067.txt</td>\n",
       "      <td>First war of TikTok era sees tragedy, humor an...</td>\n",
       "      <td>[Other]</td>\n",
       "      <td>[Other]</td>\n",
       "    </tr>\n",
       "    <tr>\n",
       "      <th>4</th>\n",
       "      <td>EN_UA_102963.txt</td>\n",
       "      <td>Ukraine's President Zelenskyy to address Mexic...</td>\n",
       "      <td>[Other]</td>\n",
       "      <td>[Other]</td>\n",
       "    </tr>\n",
       "  </tbody>\n",
       "</table>\n",
       "</div>"
      ],
      "text/plain": [
       "         article_id                                            content  \\\n",
       "0  EN_UA_104876.txt  Putin honours army unit blamed for Bucha massa...   \n",
       "1  EN_UA_023211.txt  Europe Putin thanks US journalist Tucker Carls...   \n",
       "2  EN_UA_011260.txt  Russia has a clear plan to resolve the conflic...   \n",
       "3  EN_UA_101067.txt  First war of TikTok era sees tragedy, humor an...   \n",
       "4  EN_UA_102963.txt  Ukraine's President Zelenskyy to address Mexic...   \n",
       "\n",
       "                                          narratives  \\\n",
       "0                                            [Other]   \n",
       "1                                            [Other]   \n",
       "2  [Russia is the Victim, Discrediting Ukraine, D...   \n",
       "3                                            [Other]   \n",
       "4                                            [Other]   \n",
       "\n",
       "                                       subnarratives  \n",
       "0                                            [Other]  \n",
       "1                                            [Other]  \n",
       "2  [UA is anti-RU extremists, Ukraine is a hub fo...  \n",
       "3                                            [Other]  \n",
       "4                                            [Other]  "
      ]
     },
     "execution_count": 12,
     "metadata": {},
     "output_type": "execute_result"
    }
   ],
   "source": [
    "dataset = pd.merge(documents_df, annotations_df, on='article_id')\n",
    "dataset.head()"
   ]
  },
  {
   "cell_type": "code",
   "execution_count": 13,
   "metadata": {
    "colab": {
     "base_uri": "https://localhost:8080/"
    },
    "id": "X1MhIRZAGEjH",
    "outputId": "3ed1c0e9-1b16-403c-8294-8375bfe7dd3a"
   },
   "outputs": [
    {
     "name": "stdout",
     "output_type": "stream",
     "text": [
      "103861\n"
     ]
    }
   ],
   "source": [
    "def extract_article_id(filename):\n",
    "    number_part = filename.split('_')[-1].split('.')[0]\n",
    "    return number_part\n",
    "\n",
    "print(extract_article_id('EN_UA_103861.txt'))"
   ]
  },
  {
   "cell_type": "code",
   "execution_count": 14,
   "metadata": {
    "colab": {
     "base_uri": "https://localhost:8080/",
     "height": 201
    },
    "id": "28JkqN8pGhaj",
    "outputId": "e30b9600-15f0-4317-eed4-04d0fa99bb6e"
   },
   "outputs": [
    {
     "data": {
      "text/html": [
       "<div>\n",
       "<style scoped>\n",
       "    .dataframe tbody tr th:only-of-type {\n",
       "        vertical-align: middle;\n",
       "    }\n",
       "\n",
       "    .dataframe tbody tr th {\n",
       "        vertical-align: top;\n",
       "    }\n",
       "\n",
       "    .dataframe thead th {\n",
       "        text-align: right;\n",
       "    }\n",
       "</style>\n",
       "<table border=\"1\" class=\"dataframe\">\n",
       "  <thead>\n",
       "    <tr style=\"text-align: right;\">\n",
       "      <th></th>\n",
       "      <th>article_id</th>\n",
       "      <th>content</th>\n",
       "      <th>narratives</th>\n",
       "      <th>subnarratives</th>\n",
       "    </tr>\n",
       "  </thead>\n",
       "  <tbody>\n",
       "    <tr>\n",
       "      <th>0</th>\n",
       "      <td>104876</td>\n",
       "      <td>Putin honours army unit blamed for Bucha massa...</td>\n",
       "      <td>[Other]</td>\n",
       "      <td>[Other]</td>\n",
       "    </tr>\n",
       "    <tr>\n",
       "      <th>1</th>\n",
       "      <td>023211</td>\n",
       "      <td>Europe Putin thanks US journalist Tucker Carls...</td>\n",
       "      <td>[Other]</td>\n",
       "      <td>[Other]</td>\n",
       "    </tr>\n",
       "    <tr>\n",
       "      <th>2</th>\n",
       "      <td>011260</td>\n",
       "      <td>Russia has a clear plan to resolve the conflic...</td>\n",
       "      <td>[Russia is the Victim, Discrediting Ukraine, D...</td>\n",
       "      <td>[UA is anti-RU extremists, Ukraine is a hub fo...</td>\n",
       "    </tr>\n",
       "    <tr>\n",
       "      <th>3</th>\n",
       "      <td>101067</td>\n",
       "      <td>First war of TikTok era sees tragedy, humor an...</td>\n",
       "      <td>[Other]</td>\n",
       "      <td>[Other]</td>\n",
       "    </tr>\n",
       "    <tr>\n",
       "      <th>4</th>\n",
       "      <td>102963</td>\n",
       "      <td>Ukraine's President Zelenskyy to address Mexic...</td>\n",
       "      <td>[Other]</td>\n",
       "      <td>[Other]</td>\n",
       "    </tr>\n",
       "  </tbody>\n",
       "</table>\n",
       "</div>"
      ],
      "text/plain": [
       "  article_id                                            content  \\\n",
       "0     104876  Putin honours army unit blamed for Bucha massa...   \n",
       "1     023211  Europe Putin thanks US journalist Tucker Carls...   \n",
       "2     011260  Russia has a clear plan to resolve the conflic...   \n",
       "3     101067  First war of TikTok era sees tragedy, humor an...   \n",
       "4     102963  Ukraine's President Zelenskyy to address Mexic...   \n",
       "\n",
       "                                          narratives  \\\n",
       "0                                            [Other]   \n",
       "1                                            [Other]   \n",
       "2  [Russia is the Victim, Discrediting Ukraine, D...   \n",
       "3                                            [Other]   \n",
       "4                                            [Other]   \n",
       "\n",
       "                                       subnarratives  \n",
       "0                                            [Other]  \n",
       "1                                            [Other]  \n",
       "2  [UA is anti-RU extremists, Ukraine is a hub fo...  \n",
       "3                                            [Other]  \n",
       "4                                            [Other]  "
      ]
     },
     "execution_count": 14,
     "metadata": {},
     "output_type": "execute_result"
    }
   ],
   "source": [
    "dataset['article_id'] = dataset['article_id'].apply(extract_article_id)\n",
    "dataset.head()"
   ]
  },
  {
   "cell_type": "code",
   "execution_count": 15,
   "metadata": {
    "colab": {
     "base_uri": "https://localhost:8080/"
    },
    "id": "PO80XHz-GguT",
    "outputId": "55683628-4173-47a8-ae4e-62c485b03d30"
   },
   "outputs": [
    {
     "data": {
      "text/plain": [
       "(200, 4)"
      ]
     },
     "execution_count": 15,
     "metadata": {},
     "output_type": "execute_result"
    }
   ],
   "source": [
    "dataset.shape"
   ]
  },
  {
   "cell_type": "code",
   "execution_count": 16,
   "metadata": {
    "colab": {
     "base_uri": "https://localhost:8080/"
    },
    "id": "foCZnwt4HwK_",
    "outputId": "7c9739c0-a730-45d2-c35b-41314a164604"
   },
   "outputs": [
    {
     "data": {
      "text/plain": [
       "array(['Other', 'Russia is the Victim', 'Discrediting Ukraine',\n",
       "       'Blaming the war on others rather than the invader',\n",
       "       'Discrediting the West, Diplomacy',\n",
       "       'Criticism of institutions and authorities',\n",
       "       'Criticism of climate policies', 'Criticism of climate movement',\n",
       "       'Hidden plots by secret schemes of powerful groups',\n",
       "       'Controversy about green technologies',\n",
       "       'Amplifying war-related fears', 'Downplaying climate change',\n",
       "       'Speculating war outcomes', 'Overpraising the West',\n",
       "       'Distrust towards Media',\n",
       "       'Questioning the measurements and science', 'Praise of Russia',\n",
       "       'Negative Consequences for the West',\n",
       "       'Climate change is beneficial',\n",
       "       'Green policies are geopolitical instruments'], dtype=object)"
      ]
     },
     "execution_count": 16,
     "metadata": {},
     "output_type": "execute_result"
    }
   ],
   "source": [
    "unique_narratives = dataset['narratives'].explode().unique()\n",
    "unique_narratives"
   ]
  },
  {
   "cell_type": "code",
   "execution_count": 17,
   "metadata": {
    "colab": {
     "base_uri": "https://localhost:8080/",
     "height": 721
    },
    "id": "BJ1Ek2g4H_OL",
    "outputId": "d07d689d-1b48-4d3d-b02d-7584202d8d43"
   },
   "outputs": [
    {
     "data": {
      "text/plain": [
       "narratives\n",
       "Other                                                97\n",
       "Discrediting the West, Diplomacy                     50\n",
       "Amplifying war-related fears                         43\n",
       "Discrediting Ukraine                                 29\n",
       "Criticism of institutions and authorities            24\n",
       "Blaming the war on others rather than the invader    21\n",
       "Criticism of climate movement                        18\n",
       "Russia is the Victim                                 17\n",
       "Speculating war outcomes                             17\n",
       "Criticism of climate policies                        16\n",
       "Hidden plots by secret schemes of powerful groups    16\n",
       "Praise of Russia                                     12\n",
       "Overpraising the West                                10\n",
       "Distrust towards Media                               10\n",
       "Controversy about green technologies                  9\n",
       "Questioning the measurements and science              8\n",
       "Negative Consequences for the West                    7\n",
       "Downplaying climate change                            3\n",
       "Climate change is beneficial                          1\n",
       "Green policies are geopolitical instruments           1\n",
       "Name: count, dtype: int64"
      ]
     },
     "execution_count": 17,
     "metadata": {},
     "output_type": "execute_result"
    }
   ],
   "source": [
    "dataset['narratives'].explode().value_counts()"
   ]
  },
  {
   "cell_type": "code",
   "execution_count": 18,
   "metadata": {
    "colab": {
     "base_uri": "https://localhost:8080/"
    },
    "id": "RUAHYcmCH0Za",
    "outputId": "220724b5-f7c4-4962-8a56-f464d27dc916"
   },
   "outputs": [
    {
     "data": {
      "text/plain": [
       "array(['Other', 'UA is anti-RU extremists',\n",
       "       'Ukraine is a hub for criminal activities',\n",
       "       'Ukraine is associated with nazism', 'Ukraine is the aggressor',\n",
       "       'The West are the aggressors', 'Ukraine is a puppet of the West',\n",
       "       'Diplomacy does/will not work',\n",
       "       'Criticism of political organizations and figures',\n",
       "       'Climate movement is corrupt',\n",
       "       'Ad hominem attacks on key activists', 'Blaming global elites',\n",
       "       'Climate policies are ineffective',\n",
       "       'By continuing the war we risk WWIII',\n",
       "       'There is a real possibility that nuclear weapons will be employed',\n",
       "       'Ice is not melting', 'Climate cycles are natural',\n",
       "       'Criticism of international entities',\n",
       "       'Russia will also attack other countries',\n",
       "       'Criticism of national governments',\n",
       "       'Discrediting Ukrainian military', 'Ukrainian army is collapsing',\n",
       "       'Discrediting Ukrainian government and officials and policies',\n",
       "       'West is tired of Ukraine',\n",
       "       'Climate policies have negative impact on the economy',\n",
       "       'The West has the strongest international support',\n",
       "       'The West does not care about Ukraine, only about its interests',\n",
       "       'The West is weak',\n",
       "       'The West belongs in the right side of history',\n",
       "       'NATO should/will directly intervene', 'The West is overreacting',\n",
       "       'Western media is an instrument of propaganda',\n",
       "       'Russian army is collapsing',\n",
       "       'Russia actions in Ukraine are only self-defence',\n",
       "       'Scientific community is unreliable',\n",
       "       'Climate movement is alarmist',\n",
       "       'Methodologies/metrics used are unreliable/faulty',\n",
       "       'Situation in Ukraine is hopeless',\n",
       "       'Climate policies are only for profit',\n",
       "       'Praise of Russian military might', 'The West is russophobic',\n",
       "       'Russia has international support from a number of countries and people',\n",
       "       'Ukrainian media cannot be trusted',\n",
       "       'Sanctions imposed by Western countries will backfire',\n",
       "       'Russian invasion has strong national support',\n",
       "       'Renewable energy is dangerous', 'Renewable energy is costly',\n",
       "       'Renewable energy is unreliable',\n",
       "       'CO2 concentrations are too small to have an impact',\n",
       "       'CO2 is beneficial', 'The EU is divided',\n",
       "       'Russia is a guarantor of peace and prosperity',\n",
       "       'The conflict will increase the Ukrainian refugee flows to Europe',\n",
       "       'Climate agenda has hidden motives', 'Criticism of the EU',\n",
       "       'Green activities are a form of neo-colonialism',\n",
       "       'Greenhouse effect/carbon dioxide do not drive climate change',\n",
       "       'Praise of Russian President Vladimir Putin'], dtype=object)"
      ]
     },
     "execution_count": 18,
     "metadata": {},
     "output_type": "execute_result"
    }
   ],
   "source": [
    "unique_subnarratives = dataset['subnarratives'].explode().unique()\n",
    "unique_subnarratives"
   ]
  },
  {
   "cell_type": "code",
   "execution_count": 19,
   "metadata": {
    "colab": {
     "base_uri": "https://localhost:8080/",
     "height": 1000
    },
    "id": "T45tar0pHyEs",
    "outputId": "da696db0-3b88-49a9-8b22-01e3e03203ff"
   },
   "outputs": [
    {
     "data": {
      "text/plain": [
       "subnarratives\n",
       "Other                                                                     151\n",
       "The West are the aggressors                                                18\n",
       "There is a real possibility that nuclear weapons will be employed          16\n",
       "Criticism of national governments                                          12\n",
       "Russia will also attack other countries                                    11\n",
       "Western media is an instrument of propaganda                                9\n",
       "The West does not care about Ukraine, only about its interests              8\n",
       "Ad hominem attacks on key activists                                         8\n",
       "Ukraine is a puppet of the West                                             8\n",
       "Criticism of political organizations and figures                            7\n",
       "Diplomacy does/will not work                                                7\n",
       "The West belongs in the right side of history                               7\n",
       "The West is weak                                                            7\n",
       "West is tired of Ukraine                                                    7\n",
       "The West is russophobic                                                     7\n",
       "Discrediting Ukrainian government and officials and policies                7\n",
       "Ukrainian army is collapsing                                                6\n",
       "Blaming global elites                                                       6\n",
       "Climate movement is alarmist                                                5\n",
       "Climate policies have negative impact on the economy                        5\n",
       "Sanctions imposed by Western countries will backfire                        5\n",
       "NATO should/will directly intervene                                         5\n",
       "Ukraine is associated with nazism                                           5\n",
       "By continuing the war we risk WWIII                                         5\n",
       "The EU is divided                                                           4\n",
       "Praise of Russian military might                                            4\n",
       "Climate policies are ineffective                                            4\n",
       "UA is anti-RU extremists                                                    4\n",
       "Situation in Ukraine is hopeless                                            4\n",
       "Russian army is collapsing                                                  4\n",
       "Russia actions in Ukraine are only self-defence                             4\n",
       "Ukraine is the aggressor                                                    3\n",
       "Criticism of international entities                                         3\n",
       "Methodologies/metrics used are unreliable/faulty                            3\n",
       "Discrediting Ukrainian military                                             3\n",
       "Scientific community is unreliable                                          3\n",
       "Climate movement is corrupt                                                 3\n",
       "The West has the strongest international support                            3\n",
       "Ukraine is a hub for criminal activities                                    2\n",
       "Russia is a guarantor of peace and prosperity                               2\n",
       "Renewable energy is unreliable                                              2\n",
       "Russian invasion has strong national support                                2\n",
       "Renewable energy is costly                                                  2\n",
       "Russia has international support from a number of countries and people      2\n",
       "Climate policies are only for profit                                        2\n",
       "The West is overreacting                                                    2\n",
       "Ukrainian media cannot be trusted                                           1\n",
       "Renewable energy is dangerous                                               1\n",
       "Ice is not melting                                                          1\n",
       "CO2 concentrations are too small to have an impact                          1\n",
       "CO2 is beneficial                                                           1\n",
       "Climate cycles are natural                                                  1\n",
       "The conflict will increase the Ukrainian refugee flows to Europe            1\n",
       "Climate agenda has hidden motives                                           1\n",
       "Criticism of the EU                                                         1\n",
       "Green activities are a form of neo-colonialism                              1\n",
       "Greenhouse effect/carbon dioxide do not drive climate change                1\n",
       "Praise of Russian President Vladimir Putin                                  1\n",
       "Name: count, dtype: int64"
      ]
     },
     "execution_count": 19,
     "metadata": {},
     "output_type": "execute_result"
    }
   ],
   "source": [
    "dataset['subnarratives'].explode().value_counts()"
   ]
  },
  {
   "cell_type": "markdown",
   "metadata": {
    "id": "Ud3S7K7yKWpS"
   },
   "source": [
    "Our initial labels look something like this:\n",
    "\n",
    "```\n",
    "data = [\n",
    "    [\"Class A\", \"Class B\"],\n",
    "    [\"Class B\", \"Class C\"],\n",
    "    [\"Class A\"]\n",
    "]\n",
    "```\n",
    "\n",
    "The fit step identifies the unique labels across the dataset (Class A, Class B, Class C).\n",
    "And then we get:\n",
    "\n",
    "```\n",
    "[[1 1 0]\n",
    " [0 1 1]\n",
    " [1 0 0]]\n",
    " ```"
   ]
  },
  {
   "cell_type": "code",
   "execution_count": 20,
   "metadata": {
    "id": "Dt_Bw_eGIU-R"
   },
   "outputs": [],
   "source": [
    "from sklearn.preprocessing import MultiLabelBinarizer\n",
    "\n",
    "mlb_narratives = MultiLabelBinarizer()\n",
    "mlb_subnarratives = MultiLabelBinarizer()"
   ]
  },
  {
   "cell_type": "code",
   "execution_count": 21,
   "metadata": {
    "colab": {
     "base_uri": "https://localhost:8080/",
     "height": 444
    },
    "id": "ziLYBhUnLNQb",
    "outputId": "ee6da4c1-f465-49ce-ef73-a6c690da9364"
   },
   "outputs": [
    {
     "data": {
      "text/plain": [
       "0                                                [Other]\n",
       "1                                                [Other]\n",
       "2      [Russia is the Victim, Discrediting Ukraine, D...\n",
       "3                                                [Other]\n",
       "4                                                [Other]\n",
       "                             ...                        \n",
       "195    [Criticism of institutions and authorities, Cr...\n",
       "196                   [Discrediting the West, Diplomacy]\n",
       "197                                              [Other]\n",
       "198                       [Amplifying war-related fears]\n",
       "199                           [Speculating war outcomes]\n",
       "Name: narratives, Length: 200, dtype: object"
      ]
     },
     "execution_count": 21,
     "metadata": {},
     "output_type": "execute_result"
    }
   ],
   "source": [
    "dataset['narratives']"
   ]
  },
  {
   "cell_type": "code",
   "execution_count": 22,
   "metadata": {
    "id": "C4R179sCK2ZF"
   },
   "outputs": [],
   "source": [
    "narratives_binary = mlb_narratives.fit_transform(dataset['narratives'])\n",
    "subnarratives_binary = mlb_subnarratives.fit_transform(dataset['subnarratives'])\n",
    "\n",
    "dataset['narratives_encoded'] = narratives_binary.tolist()\n",
    "dataset['subnarratives_encoded'] = subnarratives_binary.tolist()"
   ]
  },
  {
   "cell_type": "code",
   "execution_count": 23,
   "metadata": {
    "colab": {
     "base_uri": "https://localhost:8080/",
     "height": 201
    },
    "id": "MuWjedRoLKBh",
    "outputId": "d2370f94-a35a-4b70-8b6b-0ce3eedaf284"
   },
   "outputs": [
    {
     "data": {
      "text/html": [
       "<div>\n",
       "<style scoped>\n",
       "    .dataframe tbody tr th:only-of-type {\n",
       "        vertical-align: middle;\n",
       "    }\n",
       "\n",
       "    .dataframe tbody tr th {\n",
       "        vertical-align: top;\n",
       "    }\n",
       "\n",
       "    .dataframe thead th {\n",
       "        text-align: right;\n",
       "    }\n",
       "</style>\n",
       "<table border=\"1\" class=\"dataframe\">\n",
       "  <thead>\n",
       "    <tr style=\"text-align: right;\">\n",
       "      <th></th>\n",
       "      <th>article_id</th>\n",
       "      <th>content</th>\n",
       "      <th>narratives</th>\n",
       "      <th>subnarratives</th>\n",
       "      <th>narratives_encoded</th>\n",
       "      <th>subnarratives_encoded</th>\n",
       "    </tr>\n",
       "  </thead>\n",
       "  <tbody>\n",
       "    <tr>\n",
       "      <th>0</th>\n",
       "      <td>104876</td>\n",
       "      <td>Putin honours army unit blamed for Bucha massa...</td>\n",
       "      <td>[Other]</td>\n",
       "      <td>[Other]</td>\n",
       "      <td>[0, 0, 0, 0, 0, 0, 0, 0, 0, 0, 0, 0, 0, 0, 1, ...</td>\n",
       "      <td>[0, 0, 0, 0, 0, 0, 0, 0, 0, 0, 0, 0, 0, 0, 0, ...</td>\n",
       "    </tr>\n",
       "    <tr>\n",
       "      <th>1</th>\n",
       "      <td>023211</td>\n",
       "      <td>Europe Putin thanks US journalist Tucker Carls...</td>\n",
       "      <td>[Other]</td>\n",
       "      <td>[Other]</td>\n",
       "      <td>[0, 0, 0, 0, 0, 0, 0, 0, 0, 0, 0, 0, 0, 0, 1, ...</td>\n",
       "      <td>[0, 0, 0, 0, 0, 0, 0, 0, 0, 0, 0, 0, 0, 0, 0, ...</td>\n",
       "    </tr>\n",
       "    <tr>\n",
       "      <th>2</th>\n",
       "      <td>011260</td>\n",
       "      <td>Russia has a clear plan to resolve the conflic...</td>\n",
       "      <td>[Russia is the Victim, Discrediting Ukraine, D...</td>\n",
       "      <td>[UA is anti-RU extremists, Ukraine is a hub fo...</td>\n",
       "      <td>[0, 1, 0, 0, 0, 0, 0, 1, 1, 0, 0, 0, 0, 0, 0, ...</td>\n",
       "      <td>[0, 0, 0, 0, 0, 0, 0, 0, 0, 0, 0, 0, 0, 0, 0, ...</td>\n",
       "    </tr>\n",
       "    <tr>\n",
       "      <th>3</th>\n",
       "      <td>101067</td>\n",
       "      <td>First war of TikTok era sees tragedy, humor an...</td>\n",
       "      <td>[Other]</td>\n",
       "      <td>[Other]</td>\n",
       "      <td>[0, 0, 0, 0, 0, 0, 0, 0, 0, 0, 0, 0, 0, 0, 1, ...</td>\n",
       "      <td>[0, 0, 0, 0, 0, 0, 0, 0, 0, 0, 0, 0, 0, 0, 0, ...</td>\n",
       "    </tr>\n",
       "    <tr>\n",
       "      <th>4</th>\n",
       "      <td>102963</td>\n",
       "      <td>Ukraine's President Zelenskyy to address Mexic...</td>\n",
       "      <td>[Other]</td>\n",
       "      <td>[Other]</td>\n",
       "      <td>[0, 0, 0, 0, 0, 0, 0, 0, 0, 0, 0, 0, 0, 0, 1, ...</td>\n",
       "      <td>[0, 0, 0, 0, 0, 0, 0, 0, 0, 0, 0, 0, 0, 0, 0, ...</td>\n",
       "    </tr>\n",
       "  </tbody>\n",
       "</table>\n",
       "</div>"
      ],
      "text/plain": [
       "  article_id                                            content  \\\n",
       "0     104876  Putin honours army unit blamed for Bucha massa...   \n",
       "1     023211  Europe Putin thanks US journalist Tucker Carls...   \n",
       "2     011260  Russia has a clear plan to resolve the conflic...   \n",
       "3     101067  First war of TikTok era sees tragedy, humor an...   \n",
       "4     102963  Ukraine's President Zelenskyy to address Mexic...   \n",
       "\n",
       "                                          narratives  \\\n",
       "0                                            [Other]   \n",
       "1                                            [Other]   \n",
       "2  [Russia is the Victim, Discrediting Ukraine, D...   \n",
       "3                                            [Other]   \n",
       "4                                            [Other]   \n",
       "\n",
       "                                       subnarratives  \\\n",
       "0                                            [Other]   \n",
       "1                                            [Other]   \n",
       "2  [UA is anti-RU extremists, Ukraine is a hub fo...   \n",
       "3                                            [Other]   \n",
       "4                                            [Other]   \n",
       "\n",
       "                                  narratives_encoded  \\\n",
       "0  [0, 0, 0, 0, 0, 0, 0, 0, 0, 0, 0, 0, 0, 0, 1, ...   \n",
       "1  [0, 0, 0, 0, 0, 0, 0, 0, 0, 0, 0, 0, 0, 0, 1, ...   \n",
       "2  [0, 1, 0, 0, 0, 0, 0, 1, 1, 0, 0, 0, 0, 0, 0, ...   \n",
       "3  [0, 0, 0, 0, 0, 0, 0, 0, 0, 0, 0, 0, 0, 0, 1, ...   \n",
       "4  [0, 0, 0, 0, 0, 0, 0, 0, 0, 0, 0, 0, 0, 0, 1, ...   \n",
       "\n",
       "                               subnarratives_encoded  \n",
       "0  [0, 0, 0, 0, 0, 0, 0, 0, 0, 0, 0, 0, 0, 0, 0, ...  \n",
       "1  [0, 0, 0, 0, 0, 0, 0, 0, 0, 0, 0, 0, 0, 0, 0, ...  \n",
       "2  [0, 0, 0, 0, 0, 0, 0, 0, 0, 0, 0, 0, 0, 0, 0, ...  \n",
       "3  [0, 0, 0, 0, 0, 0, 0, 0, 0, 0, 0, 0, 0, 0, 0, ...  \n",
       "4  [0, 0, 0, 0, 0, 0, 0, 0, 0, 0, 0, 0, 0, 0, 0, ...  "
      ]
     },
     "execution_count": 23,
     "metadata": {},
     "output_type": "execute_result"
    }
   ],
   "source": [
    "dataset.head()"
   ]
  },
  {
   "cell_type": "code",
   "execution_count": 24,
   "metadata": {
    "id": "qhnXdAQHo3IQ"
   },
   "outputs": [
    {
     "data": {
      "text/plain": [
       "20"
      ]
     },
     "execution_count": 24,
     "metadata": {},
     "output_type": "execute_result"
    }
   ],
   "source": [
    "len(unique_narratives)"
   ]
  },
  {
   "cell_type": "code",
   "execution_count": 25,
   "metadata": {
    "colab": {
     "base_uri": "https://localhost:8080/"
    },
    "id": "uc0qAPQTM7g-",
    "outputId": "087c748b-0c4d-4966-d8f1-15168de8a483"
   },
   "outputs": [
    {
     "data": {
      "text/plain": [
       "58"
      ]
     },
     "execution_count": 25,
     "metadata": {},
     "output_type": "execute_result"
    }
   ],
   "source": [
    "len(unique_subnarratives)"
   ]
  },
  {
   "cell_type": "code",
   "execution_count": 26,
   "metadata": {
    "id": "jv5RtDTKM9JO"
   },
   "outputs": [],
   "source": [
    "import spacy\n",
    "import re\n",
    "import emoji\n",
    "\n",
    "nlp = spacy.load(\"en_core_web_sm\")\n",
    "\n",
    "def clean_article(article_text):\n",
    "    # Remove URLs\n",
    "    article_text = re.sub(r'http\\S+|www\\S+|https\\S+|[a-zA-Z0-9.-]+\\.com', '', article_text, flags=re.MULTILINE)\n",
    "\n",
    "    doc = nlp(article_text)\n",
    "    cleaned_tokens = []\n",
    "\n",
    "    for token in doc:\n",
    "        if (token.is_space or '@' in token.text or emoji.is_emoji(token.text)):\n",
    "            continue\n",
    "\n",
    "        cleaned_tokens.append(token.text + token.whitespace_)\n",
    "\n",
    "    cleaned_article = \"\".join(cleaned_tokens).strip()\n",
    "\n",
    "    return cleaned_article"
   ]
  },
  {
   "cell_type": "code",
   "execution_count": 27,
   "metadata": {
    "id": "Q73QIbQnROnK"
   },
   "outputs": [],
   "source": [
    "dataset['cleaned_content'] = dataset['content'].apply(clean_article)"
   ]
  },
  {
   "cell_type": "code",
   "execution_count": 28,
   "metadata": {
    "id": "bJWRxiJ-RRpA"
   },
   "outputs": [],
   "source": [
    "import warnings\n",
    "from sklearn.metrics import classification_report, confusion_matrix\n",
    "\n",
    "def get_classification_report(y_true, y_pred):\n",
    "  # We will ignore the warnings we get\n",
    "    with warnings.catch_warnings():\n",
    "        warnings.simplefilter(\"ignore\")\n",
    "        report = classification_report(y_true, y_pred, output_dict=True)\n",
    "    report_df = pd.DataFrame(report).transpose()\n",
    "    return report_df\n",
    "\n",
    "def plot_confusion_matrix(y_true, y_pred):\n",
    "    conf_matrix = confusion_matrix(y_true, y_pred)\n",
    "    plt.figure(figsize=(8, 6))\n",
    "    sns.heatmap(conf_matrix, annot=True, fmt='d', cmap='Blues')\n",
    "    plt.xlabel('Predicted')\n",
    "    plt.ylabel('True')\n",
    "    plt.title('Confusion Matrix')\n",
    "    plt.show()\n",
    "    return conf_matrix"
   ]
  }
 ],
 "metadata": {
  "colab": {
   "provenance": []
  },
  "kernelspec": {
   "display_name": "Python 3 (ipykernel)",
   "language": "python",
   "name": "python3"
  },
  "language_info": {
   "codemirror_mode": {
    "name": "ipython",
    "version": 3
   },
   "file_extension": ".py",
   "mimetype": "text/x-python",
   "name": "python",
   "nbconvert_exporter": "python",
   "pygments_lexer": "ipython3",
   "version": "3.12.4"
  }
 },
 "nbformat": 4,
 "nbformat_minor": 4
}
