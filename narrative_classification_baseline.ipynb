{
 "cells": [
  {
   "cell_type": "markdown",
   "metadata": {
    "id": "_KUMoUzrlwiU"
   },
   "source": [
    "# Semeval 2025 Task 10\n",
    "### Subtask 2: Narrative Classification\n",
    "\n",
    "Given a news article and a [two-level taxonomy of narrative labels](https://propaganda.math.unipd.it/semeval2025task10/NARRATIVE-TAXONOMIES.pdf) (where each narrative is subdivided into subnarratives) from a particular domain, assign to the article all the appropriate subnarrative labels. This is a multi-label multi-class document classification task."
   ]
  },
  {
   "cell_type": "code",
   "execution_count": 1,
   "metadata": {},
   "outputs": [],
   "source": [
    "# Instructor compatible with these versions only\n",
    "!pip install -q huggingface_hub==0.25.0\n",
    "!pip install -q langchain==0.1.2 sentence_transformers==2.2.2"
   ]
  },
  {
   "cell_type": "markdown",
   "metadata": {
    "id": "GzN0KSMwnjSU"
   },
   "source": [
    "## 1. Importing libraries"
   ]
  },
  {
   "cell_type": "markdown",
   "metadata": {
    "id": "K5dyA3SCnmV3"
   },
   "source": [
    "We will start by importing the libraries needed."
   ]
  },
  {
   "cell_type": "code",
   "execution_count": 2,
   "metadata": {
    "colab": {
     "base_uri": "https://localhost:8080/"
    },
    "id": "74Oco_3Pno2i",
    "outputId": "ac60ea84-8d98-44f7-d96e-b3d78ffdbcc9"
   },
   "outputs": [],
   "source": [
    "import pandas as pd\n",
    "import numpy as np\n",
    "\n",
    "import tensorflow as tf\n",
    "from tensorflow.keras import layers\n",
    "from tensorflow.keras import optimizers\n",
    "from tensorflow.keras.callbacks import ModelCheckpoint\n",
    "\n",
    "from matplotlib import pyplot as plt\n",
    "import seaborn as sns\n",
    "import os"
   ]
  },
  {
   "cell_type": "code",
   "execution_count": 3,
   "metadata": {
    "colab": {
     "base_uri": "https://localhost:8080/"
    },
    "id": "8rMZwi3jno_q",
    "outputId": "7f3c172e-17f5-4a6b-aa8d-95f4a8e000ae"
   },
   "outputs": [
    {
     "name": "stdout",
     "output_type": "stream",
     "text": [
      "Requirement already satisfied: InstructorEmbedding in /Library/Frameworks/Python.framework/Versions/3.12/lib/python3.12/site-packages (1.0.1)\n"
     ]
    }
   ],
   "source": [
    "!pip install InstructorEmbedding"
   ]
  },
  {
   "cell_type": "markdown",
   "metadata": {
    "id": "nev7JIa3nyfd"
   },
   "source": [
    "## 2. Reading our data"
   ]
  },
  {
   "cell_type": "code",
   "execution_count": 4,
   "metadata": {
    "id": "RgLfgkNlnyz5"
   },
   "outputs": [],
   "source": [
    "raw_annotation_data = []\n",
    "\n",
    "with open(\"data/semeval_data/labels/EN/subtask-2-annotations.txt\", 'r') as file:\n",
    "    for line in file:\n",
    "        parts = line.strip().split('\\t')\n",
    "        article_id = parts[0]\n",
    "        narrative_to_subnarratives = parts[2].split(';') # second part is the mapping from narrative to subnarrative\n",
    "        narratives = []\n",
    "        subnarratives = []\n",
    "\n",
    "        # look to that narrative to subnarrative mapping\n",
    "        for nar_to_sub in narrative_to_subnarratives:\n",
    "          subnarrative_list = nar_to_sub.split(' ')\n",
    "          if subnarrative_list[0] == 'Other':\n",
    "            narratives.append('Other')\n",
    "            subnarratives.append('Other')\n",
    "            continue\n",
    "\n",
    "          nar_to_sub = ' '.join(subnarrative_list[1:])\n",
    "          nar, sub = nar_to_sub.split(':')\n",
    "          narratives.append(nar.strip())\n",
    "          subnarratives.append(sub.strip())\n",
    "\n",
    "        raw_annotation_data.append({\n",
    "            'article_id': article_id,\n",
    "            'narratives': narratives,\n",
    "            'subnarratives': subnarratives\n",
    "        })\n",
    "\n",
    "annotations_df = pd.DataFrame(raw_annotation_data)"
   ]
  },
  {
   "cell_type": "code",
   "execution_count": 5,
   "metadata": {
    "colab": {
     "base_uri": "https://localhost:8080/",
     "height": 657
    },
    "id": "1Vj7t3iR9VC8",
    "outputId": "ead0b0bd-3214-45d6-b473-e9ab30b33116"
   },
   "outputs": [
    {
     "data": {
      "text/html": [
       "<div>\n",
       "<style scoped>\n",
       "    .dataframe tbody tr th:only-of-type {\n",
       "        vertical-align: middle;\n",
       "    }\n",
       "\n",
       "    .dataframe tbody tr th {\n",
       "        vertical-align: top;\n",
       "    }\n",
       "\n",
       "    .dataframe thead th {\n",
       "        text-align: right;\n",
       "    }\n",
       "</style>\n",
       "<table border=\"1\" class=\"dataframe\">\n",
       "  <thead>\n",
       "    <tr style=\"text-align: right;\">\n",
       "      <th></th>\n",
       "      <th>article_id</th>\n",
       "      <th>narratives</th>\n",
       "      <th>subnarratives</th>\n",
       "    </tr>\n",
       "  </thead>\n",
       "  <tbody>\n",
       "    <tr>\n",
       "      <th>47</th>\n",
       "      <td>EN_UA_024847.txt</td>\n",
       "      <td>[Blaming the war on others rather than the inv...</td>\n",
       "      <td>[The West are the aggressors, Other, Other, Uk...</td>\n",
       "    </tr>\n",
       "    <tr>\n",
       "      <th>191</th>\n",
       "      <td>EN_CC_100002.txt</td>\n",
       "      <td>[Criticism of institutions and authorities, Hi...</td>\n",
       "      <td>[Criticism of national governments, Blaming gl...</td>\n",
       "    </tr>\n",
       "    <tr>\n",
       "      <th>128</th>\n",
       "      <td>EN_CC_100147.txt</td>\n",
       "      <td>[Other]</td>\n",
       "      <td>[Other]</td>\n",
       "    </tr>\n",
       "    <tr>\n",
       "      <th>152</th>\n",
       "      <td>EN_UA_022319.txt</td>\n",
       "      <td>[Other]</td>\n",
       "      <td>[Other]</td>\n",
       "    </tr>\n",
       "    <tr>\n",
       "      <th>177</th>\n",
       "      <td>EN_UA_103168.txt</td>\n",
       "      <td>[Amplifying war-related fears]</td>\n",
       "      <td>[Other]</td>\n",
       "    </tr>\n",
       "    <tr>\n",
       "      <th>144</th>\n",
       "      <td>EN_UA_100868.txt</td>\n",
       "      <td>[Hidden plots by secret schemes of powerful gr...</td>\n",
       "      <td>[Other]</td>\n",
       "    </tr>\n",
       "    <tr>\n",
       "      <th>77</th>\n",
       "      <td>EN_UA_016466.txt</td>\n",
       "      <td>[Amplifying war-related fears, Amplifying war-...</td>\n",
       "      <td>[By continuing the war we risk WWIII, Russia w...</td>\n",
       "    </tr>\n",
       "    <tr>\n",
       "      <th>51</th>\n",
       "      <td>EN_CC_100065.txt</td>\n",
       "      <td>[Other]</td>\n",
       "      <td>[Other]</td>\n",
       "    </tr>\n",
       "    <tr>\n",
       "      <th>48</th>\n",
       "      <td>EN_UA_100587.txt</td>\n",
       "      <td>[Other]</td>\n",
       "      <td>[Other]</td>\n",
       "    </tr>\n",
       "    <tr>\n",
       "      <th>148</th>\n",
       "      <td>EN_UA_100864.txt</td>\n",
       "      <td>[Amplifying war-related fears, Discrediting th...</td>\n",
       "      <td>[Russia will also attack other countries, Othe...</td>\n",
       "    </tr>\n",
       "    <tr>\n",
       "      <th>122</th>\n",
       "      <td>EN_UA_103995.txt</td>\n",
       "      <td>[Other]</td>\n",
       "      <td>[Other]</td>\n",
       "    </tr>\n",
       "    <tr>\n",
       "      <th>185</th>\n",
       "      <td>EN_CC_200016.txt</td>\n",
       "      <td>[Criticism of climate movement, Hidden plots b...</td>\n",
       "      <td>[Other, Blaming global elites, Criticism of na...</td>\n",
       "    </tr>\n",
       "    <tr>\n",
       "      <th>1</th>\n",
       "      <td>EN_UA_103667.txt</td>\n",
       "      <td>[Other]</td>\n",
       "      <td>[Other]</td>\n",
       "    </tr>\n",
       "    <tr>\n",
       "      <th>156</th>\n",
       "      <td>EN_UA_101189.txt</td>\n",
       "      <td>[Praise of Russia]</td>\n",
       "      <td>[Russian invasion has strong national support]</td>\n",
       "    </tr>\n",
       "    <tr>\n",
       "      <th>107</th>\n",
       "      <td>EN_UA_021918.txt</td>\n",
       "      <td>[Other]</td>\n",
       "      <td>[Other]</td>\n",
       "    </tr>\n",
       "    <tr>\n",
       "      <th>160</th>\n",
       "      <td>EN_UA_103941.txt</td>\n",
       "      <td>[Other]</td>\n",
       "      <td>[Other]</td>\n",
       "    </tr>\n",
       "    <tr>\n",
       "      <th>5</th>\n",
       "      <td>EN_CC_100021.txt</td>\n",
       "      <td>[Other]</td>\n",
       "      <td>[Other]</td>\n",
       "    </tr>\n",
       "    <tr>\n",
       "      <th>84</th>\n",
       "      <td>EN_CC_200007.txt</td>\n",
       "      <td>[Criticism of institutions and authorities, Cr...</td>\n",
       "      <td>[Criticism of national governments, Climate po...</td>\n",
       "    </tr>\n",
       "    <tr>\n",
       "      <th>33</th>\n",
       "      <td>EN_CC_100150.txt</td>\n",
       "      <td>[Other]</td>\n",
       "      <td>[Other]</td>\n",
       "    </tr>\n",
       "    <tr>\n",
       "      <th>8</th>\n",
       "      <td>EN_UA_017310.txt</td>\n",
       "      <td>[Discrediting the West, Diplomacy, Discreditin...</td>\n",
       "      <td>[The West is weak, Other, The West belongs in ...</td>\n",
       "    </tr>\n",
       "  </tbody>\n",
       "</table>\n",
       "</div>"
      ],
      "text/plain": [
       "           article_id                                         narratives  \\\n",
       "47   EN_UA_024847.txt  [Blaming the war on others rather than the inv...   \n",
       "191  EN_CC_100002.txt  [Criticism of institutions and authorities, Hi...   \n",
       "128  EN_CC_100147.txt                                            [Other]   \n",
       "152  EN_UA_022319.txt                                            [Other]   \n",
       "177  EN_UA_103168.txt                     [Amplifying war-related fears]   \n",
       "144  EN_UA_100868.txt  [Hidden plots by secret schemes of powerful gr...   \n",
       "77   EN_UA_016466.txt  [Amplifying war-related fears, Amplifying war-...   \n",
       "51   EN_CC_100065.txt                                            [Other]   \n",
       "48   EN_UA_100587.txt                                            [Other]   \n",
       "148  EN_UA_100864.txt  [Amplifying war-related fears, Discrediting th...   \n",
       "122  EN_UA_103995.txt                                            [Other]   \n",
       "185  EN_CC_200016.txt  [Criticism of climate movement, Hidden plots b...   \n",
       "1    EN_UA_103667.txt                                            [Other]   \n",
       "156  EN_UA_101189.txt                                 [Praise of Russia]   \n",
       "107  EN_UA_021918.txt                                            [Other]   \n",
       "160  EN_UA_103941.txt                                            [Other]   \n",
       "5    EN_CC_100021.txt                                            [Other]   \n",
       "84   EN_CC_200007.txt  [Criticism of institutions and authorities, Cr...   \n",
       "33   EN_CC_100150.txt                                            [Other]   \n",
       "8    EN_UA_017310.txt  [Discrediting the West, Diplomacy, Discreditin...   \n",
       "\n",
       "                                         subnarratives  \n",
       "47   [The West are the aggressors, Other, Other, Uk...  \n",
       "191  [Criticism of national governments, Blaming gl...  \n",
       "128                                            [Other]  \n",
       "152                                            [Other]  \n",
       "177                                            [Other]  \n",
       "144                                            [Other]  \n",
       "77   [By continuing the war we risk WWIII, Russia w...  \n",
       "51                                             [Other]  \n",
       "48                                             [Other]  \n",
       "148  [Russia will also attack other countries, Othe...  \n",
       "122                                            [Other]  \n",
       "185  [Other, Blaming global elites, Criticism of na...  \n",
       "1                                              [Other]  \n",
       "156     [Russian invasion has strong national support]  \n",
       "107                                            [Other]  \n",
       "160                                            [Other]  \n",
       "5                                              [Other]  \n",
       "84   [Criticism of national governments, Climate po...  \n",
       "33                                             [Other]  \n",
       "8    [The West is weak, Other, The West belongs in ...  "
      ]
     },
     "execution_count": 5,
     "metadata": {},
     "output_type": "execute_result"
    }
   ],
   "source": [
    "annotations_df.sample(20)"
   ]
  },
  {
   "cell_type": "code",
   "execution_count": 6,
   "metadata": {
    "colab": {
     "base_uri": "https://localhost:8080/"
    },
    "id": "4iAeSnTpDADH",
    "outputId": "b9fe2c9c-dd7e-4d8a-9330-e6c11d876086"
   },
   "outputs": [
    {
     "data": {
      "text/plain": [
       "(200, 3)"
      ]
     },
     "execution_count": 6,
     "metadata": {},
     "output_type": "execute_result"
    }
   ],
   "source": [
    "annotations_df.shape"
   ]
  },
  {
   "cell_type": "code",
   "execution_count": 7,
   "metadata": {
    "colab": {
     "base_uri": "https://localhost:8080/",
     "height": 172
    },
    "id": "HCBZM0C1DB99",
    "outputId": "3f1c00b5-6d4c-4553-c69c-3e9bfbe301ca"
   },
   "outputs": [
    {
     "data": {
      "text/plain": [
       "article_id                                        EN_UA_021270.txt\n",
       "narratives       [Speculating war outcomes, Discrediting Ukrain...\n",
       "subnarratives    [Other, Situation in Ukraine is hopeless, West...\n",
       "Name: 2, dtype: object"
      ]
     },
     "execution_count": 7,
     "metadata": {},
     "output_type": "execute_result"
    }
   ],
   "source": [
    "annotations_df.iloc[2]"
   ]
  },
  {
   "cell_type": "code",
   "execution_count": 8,
   "metadata": {
    "colab": {
     "base_uri": "https://localhost:8080/"
    },
    "id": "neNtsPcrCwnn",
    "outputId": "01b2f768-c81d-4b23-bcb0-01fc46af24b7"
   },
   "outputs": [
    {
     "data": {
      "text/plain": [
       "['Speculating war outcomes',\n",
       " 'Discrediting Ukraine',\n",
       " 'Discrediting the West, Diplomacy',\n",
       " 'Praise of Russia',\n",
       " 'Discrediting the West, Diplomacy']"
      ]
     },
     "execution_count": 8,
     "metadata": {},
     "output_type": "execute_result"
    }
   ],
   "source": [
    "annotations_df.iloc[2].narratives"
   ]
  },
  {
   "cell_type": "code",
   "execution_count": 9,
   "metadata": {
    "colab": {
     "base_uri": "https://localhost:8080/"
    },
    "id": "9sKS1EGtC3km",
    "outputId": "a2d203a7-75ab-4ea7-e291-049bd2488c87"
   },
   "outputs": [
    {
     "data": {
      "text/plain": [
       "['Other',\n",
       " 'Situation in Ukraine is hopeless',\n",
       " 'West is tired of Ukraine',\n",
       " 'Praise of Russian military might',\n",
       " 'The West does not care about Ukraine, only about its interests']"
      ]
     },
     "execution_count": 9,
     "metadata": {},
     "output_type": "execute_result"
    }
   ],
   "source": [
    "annotations_df.iloc[2].subnarratives"
   ]
  },
  {
   "cell_type": "code",
   "execution_count": 10,
   "metadata": {
    "id": "h2v7_ZUjFwYk"
   },
   "outputs": [],
   "source": [
    "def read_file_content(file_path):\n",
    "    with open(file_path, 'r', encoding='utf-8') as file:\n",
    "        return file.read()\n"
   ]
  },
  {
   "cell_type": "code",
   "execution_count": 11,
   "metadata": {
    "colab": {
     "base_uri": "https://localhost:8080/",
     "height": 201
    },
    "id": "-OhX4IFa-Xv5",
    "outputId": "fdcbdd47-1e51-4ed8-aff8-8c650059a76a"
   },
   "outputs": [
    {
     "data": {
      "text/html": [
       "<div>\n",
       "<style scoped>\n",
       "    .dataframe tbody tr th:only-of-type {\n",
       "        vertical-align: middle;\n",
       "    }\n",
       "\n",
       "    .dataframe tbody tr th {\n",
       "        vertical-align: top;\n",
       "    }\n",
       "\n",
       "    .dataframe thead th {\n",
       "        text-align: right;\n",
       "    }\n",
       "</style>\n",
       "<table border=\"1\" class=\"dataframe\">\n",
       "  <thead>\n",
       "    <tr style=\"text-align: right;\">\n",
       "      <th></th>\n",
       "      <th>article_id</th>\n",
       "      <th>content</th>\n",
       "    </tr>\n",
       "  </thead>\n",
       "  <tbody>\n",
       "    <tr>\n",
       "      <th>0</th>\n",
       "      <td>EN_UA_104876.txt</td>\n",
       "      <td>Putin honours army unit blamed for Bucha massa...</td>\n",
       "    </tr>\n",
       "    <tr>\n",
       "      <th>1</th>\n",
       "      <td>EN_UA_023211.txt</td>\n",
       "      <td>Europe Putin thanks US journalist Tucker Carls...</td>\n",
       "    </tr>\n",
       "    <tr>\n",
       "      <th>2</th>\n",
       "      <td>EN_UA_011260.txt</td>\n",
       "      <td>Russia has a clear plan to resolve the conflic...</td>\n",
       "    </tr>\n",
       "    <tr>\n",
       "      <th>3</th>\n",
       "      <td>EN_UA_101067.txt</td>\n",
       "      <td>First war of TikTok era sees tragedy, humor an...</td>\n",
       "    </tr>\n",
       "    <tr>\n",
       "      <th>4</th>\n",
       "      <td>EN_UA_102963.txt</td>\n",
       "      <td>Ukraine's President Zelenskyy to address Mexic...</td>\n",
       "    </tr>\n",
       "  </tbody>\n",
       "</table>\n",
       "</div>"
      ],
      "text/plain": [
       "         article_id                                            content\n",
       "0  EN_UA_104876.txt  Putin honours army unit blamed for Bucha massa...\n",
       "1  EN_UA_023211.txt  Europe Putin thanks US journalist Tucker Carls...\n",
       "2  EN_UA_011260.txt  Russia has a clear plan to resolve the conflic...\n",
       "3  EN_UA_101067.txt  First war of TikTok era sees tragedy, humor an...\n",
       "4  EN_UA_102963.txt  Ukraine's President Zelenskyy to address Mexic..."
      ]
     },
     "execution_count": 11,
     "metadata": {},
     "output_type": "execute_result"
    }
   ],
   "source": [
    "folder_path = \"data/semeval_data/raw-documents/EN\"\n",
    "documents_df = pd.DataFrame(columns=['article_id', 'content'])\n",
    "for filename in os.listdir(folder_path):\n",
    "    if filename.endswith('.txt') and filename.startswith('EN'):\n",
    "        article_id = (filename)\n",
    "        file_path = os.path.join(folder_path, filename)\n",
    "        content = read_file_content(file_path)\n",
    "\n",
    "        new_row = pd.DataFrame({'article_id': [article_id], 'content': [content]})\n",
    "\n",
    "        documents_df = pd.concat([documents_df, new_row], ignore_index=True)\n",
    "\n",
    "documents_df.head()"
   ]
  },
  {
   "cell_type": "code",
   "execution_count": 12,
   "metadata": {
    "colab": {
     "base_uri": "https://localhost:8080/"
    },
    "id": "1PkQRNU2Fu23",
    "outputId": "f90d1ddd-c6cd-400d-9381-ce8eb16dc59c"
   },
   "outputs": [
    {
     "data": {
      "text/plain": [
       "(200, 2)"
      ]
     },
     "execution_count": 12,
     "metadata": {},
     "output_type": "execute_result"
    }
   ],
   "source": [
    "documents_df.shape"
   ]
  },
  {
   "cell_type": "code",
   "execution_count": 13,
   "metadata": {
    "colab": {
     "base_uri": "https://localhost:8080/",
     "height": 201
    },
    "id": "3IMbdC-hGCVc",
    "outputId": "691793d9-2df0-40e8-a263-2788741455d9"
   },
   "outputs": [
    {
     "data": {
      "text/html": [
       "<div>\n",
       "<style scoped>\n",
       "    .dataframe tbody tr th:only-of-type {\n",
       "        vertical-align: middle;\n",
       "    }\n",
       "\n",
       "    .dataframe tbody tr th {\n",
       "        vertical-align: top;\n",
       "    }\n",
       "\n",
       "    .dataframe thead th {\n",
       "        text-align: right;\n",
       "    }\n",
       "</style>\n",
       "<table border=\"1\" class=\"dataframe\">\n",
       "  <thead>\n",
       "    <tr style=\"text-align: right;\">\n",
       "      <th></th>\n",
       "      <th>article_id</th>\n",
       "      <th>content</th>\n",
       "      <th>narratives</th>\n",
       "      <th>subnarratives</th>\n",
       "    </tr>\n",
       "  </thead>\n",
       "  <tbody>\n",
       "    <tr>\n",
       "      <th>0</th>\n",
       "      <td>EN_UA_104876.txt</td>\n",
       "      <td>Putin honours army unit blamed for Bucha massa...</td>\n",
       "      <td>[Other]</td>\n",
       "      <td>[Other]</td>\n",
       "    </tr>\n",
       "    <tr>\n",
       "      <th>1</th>\n",
       "      <td>EN_UA_023211.txt</td>\n",
       "      <td>Europe Putin thanks US journalist Tucker Carls...</td>\n",
       "      <td>[Other]</td>\n",
       "      <td>[Other]</td>\n",
       "    </tr>\n",
       "    <tr>\n",
       "      <th>2</th>\n",
       "      <td>EN_UA_011260.txt</td>\n",
       "      <td>Russia has a clear plan to resolve the conflic...</td>\n",
       "      <td>[Russia is the Victim, Discrediting Ukraine, D...</td>\n",
       "      <td>[UA is anti-RU extremists, Ukraine is a hub fo...</td>\n",
       "    </tr>\n",
       "    <tr>\n",
       "      <th>3</th>\n",
       "      <td>EN_UA_101067.txt</td>\n",
       "      <td>First war of TikTok era sees tragedy, humor an...</td>\n",
       "      <td>[Other]</td>\n",
       "      <td>[Other]</td>\n",
       "    </tr>\n",
       "    <tr>\n",
       "      <th>4</th>\n",
       "      <td>EN_UA_102963.txt</td>\n",
       "      <td>Ukraine's President Zelenskyy to address Mexic...</td>\n",
       "      <td>[Other]</td>\n",
       "      <td>[Other]</td>\n",
       "    </tr>\n",
       "  </tbody>\n",
       "</table>\n",
       "</div>"
      ],
      "text/plain": [
       "         article_id                                            content  \\\n",
       "0  EN_UA_104876.txt  Putin honours army unit blamed for Bucha massa...   \n",
       "1  EN_UA_023211.txt  Europe Putin thanks US journalist Tucker Carls...   \n",
       "2  EN_UA_011260.txt  Russia has a clear plan to resolve the conflic...   \n",
       "3  EN_UA_101067.txt  First war of TikTok era sees tragedy, humor an...   \n",
       "4  EN_UA_102963.txt  Ukraine's President Zelenskyy to address Mexic...   \n",
       "\n",
       "                                          narratives  \\\n",
       "0                                            [Other]   \n",
       "1                                            [Other]   \n",
       "2  [Russia is the Victim, Discrediting Ukraine, D...   \n",
       "3                                            [Other]   \n",
       "4                                            [Other]   \n",
       "\n",
       "                                       subnarratives  \n",
       "0                                            [Other]  \n",
       "1                                            [Other]  \n",
       "2  [UA is anti-RU extremists, Ukraine is a hub fo...  \n",
       "3                                            [Other]  \n",
       "4                                            [Other]  "
      ]
     },
     "execution_count": 13,
     "metadata": {},
     "output_type": "execute_result"
    }
   ],
   "source": [
    "dataset = pd.merge(documents_df, annotations_df, on='article_id')\n",
    "dataset.head()"
   ]
  },
  {
   "cell_type": "code",
   "execution_count": 14,
   "metadata": {
    "colab": {
     "base_uri": "https://localhost:8080/"
    },
    "id": "X1MhIRZAGEjH",
    "outputId": "3ed1c0e9-1b16-403c-8294-8375bfe7dd3a"
   },
   "outputs": [
    {
     "name": "stdout",
     "output_type": "stream",
     "text": [
      "103861\n"
     ]
    }
   ],
   "source": [
    "def extract_article_id(filename):\n",
    "    number_part = filename.split('_')[-1].split('.')[0]\n",
    "    return number_part\n",
    "\n",
    "print(extract_article_id('EN_UA_103861.txt'))"
   ]
  },
  {
   "cell_type": "code",
   "execution_count": 15,
   "metadata": {
    "colab": {
     "base_uri": "https://localhost:8080/",
     "height": 201
    },
    "id": "28JkqN8pGhaj",
    "outputId": "e30b9600-15f0-4317-eed4-04d0fa99bb6e"
   },
   "outputs": [
    {
     "data": {
      "text/html": [
       "<div>\n",
       "<style scoped>\n",
       "    .dataframe tbody tr th:only-of-type {\n",
       "        vertical-align: middle;\n",
       "    }\n",
       "\n",
       "    .dataframe tbody tr th {\n",
       "        vertical-align: top;\n",
       "    }\n",
       "\n",
       "    .dataframe thead th {\n",
       "        text-align: right;\n",
       "    }\n",
       "</style>\n",
       "<table border=\"1\" class=\"dataframe\">\n",
       "  <thead>\n",
       "    <tr style=\"text-align: right;\">\n",
       "      <th></th>\n",
       "      <th>article_id</th>\n",
       "      <th>content</th>\n",
       "      <th>narratives</th>\n",
       "      <th>subnarratives</th>\n",
       "    </tr>\n",
       "  </thead>\n",
       "  <tbody>\n",
       "    <tr>\n",
       "      <th>0</th>\n",
       "      <td>104876</td>\n",
       "      <td>Putin honours army unit blamed for Bucha massa...</td>\n",
       "      <td>[Other]</td>\n",
       "      <td>[Other]</td>\n",
       "    </tr>\n",
       "    <tr>\n",
       "      <th>1</th>\n",
       "      <td>023211</td>\n",
       "      <td>Europe Putin thanks US journalist Tucker Carls...</td>\n",
       "      <td>[Other]</td>\n",
       "      <td>[Other]</td>\n",
       "    </tr>\n",
       "    <tr>\n",
       "      <th>2</th>\n",
       "      <td>011260</td>\n",
       "      <td>Russia has a clear plan to resolve the conflic...</td>\n",
       "      <td>[Russia is the Victim, Discrediting Ukraine, D...</td>\n",
       "      <td>[UA is anti-RU extremists, Ukraine is a hub fo...</td>\n",
       "    </tr>\n",
       "    <tr>\n",
       "      <th>3</th>\n",
       "      <td>101067</td>\n",
       "      <td>First war of TikTok era sees tragedy, humor an...</td>\n",
       "      <td>[Other]</td>\n",
       "      <td>[Other]</td>\n",
       "    </tr>\n",
       "    <tr>\n",
       "      <th>4</th>\n",
       "      <td>102963</td>\n",
       "      <td>Ukraine's President Zelenskyy to address Mexic...</td>\n",
       "      <td>[Other]</td>\n",
       "      <td>[Other]</td>\n",
       "    </tr>\n",
       "  </tbody>\n",
       "</table>\n",
       "</div>"
      ],
      "text/plain": [
       "  article_id                                            content  \\\n",
       "0     104876  Putin honours army unit blamed for Bucha massa...   \n",
       "1     023211  Europe Putin thanks US journalist Tucker Carls...   \n",
       "2     011260  Russia has a clear plan to resolve the conflic...   \n",
       "3     101067  First war of TikTok era sees tragedy, humor an...   \n",
       "4     102963  Ukraine's President Zelenskyy to address Mexic...   \n",
       "\n",
       "                                          narratives  \\\n",
       "0                                            [Other]   \n",
       "1                                            [Other]   \n",
       "2  [Russia is the Victim, Discrediting Ukraine, D...   \n",
       "3                                            [Other]   \n",
       "4                                            [Other]   \n",
       "\n",
       "                                       subnarratives  \n",
       "0                                            [Other]  \n",
       "1                                            [Other]  \n",
       "2  [UA is anti-RU extremists, Ukraine is a hub fo...  \n",
       "3                                            [Other]  \n",
       "4                                            [Other]  "
      ]
     },
     "execution_count": 15,
     "metadata": {},
     "output_type": "execute_result"
    }
   ],
   "source": [
    "dataset['article_id'] = dataset['article_id'].apply(extract_article_id)\n",
    "dataset.head()"
   ]
  },
  {
   "cell_type": "code",
   "execution_count": 16,
   "metadata": {},
   "outputs": [
    {
     "data": {
      "text/plain": [
       "0                                                [Other]\n",
       "1                                                [Other]\n",
       "2      [Russia is the Victim, Discrediting Ukraine, D...\n",
       "3                                                [Other]\n",
       "4                                                [Other]\n",
       "                             ...                        \n",
       "195    [Criticism of institutions and authorities, Cr...\n",
       "196                   [Discrediting the West, Diplomacy]\n",
       "197                                              [Other]\n",
       "198                       [Amplifying war-related fears]\n",
       "199                           [Speculating war outcomes]\n",
       "Name: narratives, Length: 200, dtype: object"
      ]
     },
     "execution_count": 16,
     "metadata": {},
     "output_type": "execute_result"
    }
   ],
   "source": [
    "dataset['narratives']"
   ]
  },
  {
   "cell_type": "code",
   "execution_count": 17,
   "metadata": {
    "colab": {
     "base_uri": "https://localhost:8080/"
    },
    "id": "PO80XHz-GguT",
    "outputId": "55683628-4173-47a8-ae4e-62c485b03d30"
   },
   "outputs": [
    {
     "data": {
      "text/plain": [
       "(200, 4)"
      ]
     },
     "execution_count": 17,
     "metadata": {},
     "output_type": "execute_result"
    }
   ],
   "source": [
    "dataset.shape"
   ]
  },
  {
   "cell_type": "code",
   "execution_count": 18,
   "metadata": {
    "colab": {
     "base_uri": "https://localhost:8080/"
    },
    "id": "foCZnwt4HwK_",
    "outputId": "7c9739c0-a730-45d2-c35b-41314a164604"
   },
   "outputs": [
    {
     "data": {
      "text/plain": [
       "array(['Other', 'Russia is the Victim', 'Discrediting Ukraine',\n",
       "       'Blaming the war on others rather than the invader',\n",
       "       'Discrediting the West, Diplomacy',\n",
       "       'Criticism of institutions and authorities',\n",
       "       'Criticism of climate policies', 'Criticism of climate movement',\n",
       "       'Hidden plots by secret schemes of powerful groups',\n",
       "       'Controversy about green technologies',\n",
       "       'Amplifying war-related fears', 'Downplaying climate change',\n",
       "       'Speculating war outcomes', 'Overpraising the West',\n",
       "       'Distrust towards Media',\n",
       "       'Questioning the measurements and science', 'Praise of Russia',\n",
       "       'Negative Consequences for the West',\n",
       "       'Climate change is beneficial',\n",
       "       'Green policies are geopolitical instruments'], dtype=object)"
      ]
     },
     "execution_count": 18,
     "metadata": {},
     "output_type": "execute_result"
    }
   ],
   "source": [
    "unique_narratives = dataset['narratives'].explode().unique()\n",
    "unique_narratives"
   ]
  },
  {
   "cell_type": "code",
   "execution_count": 19,
   "metadata": {
    "colab": {
     "base_uri": "https://localhost:8080/",
     "height": 721
    },
    "id": "BJ1Ek2g4H_OL",
    "outputId": "d07d689d-1b48-4d3d-b02d-7584202d8d43"
   },
   "outputs": [
    {
     "data": {
      "text/plain": [
       "narratives\n",
       "Other                                                97\n",
       "Discrediting the West, Diplomacy                     50\n",
       "Amplifying war-related fears                         43\n",
       "Discrediting Ukraine                                 29\n",
       "Criticism of institutions and authorities            24\n",
       "Blaming the war on others rather than the invader    21\n",
       "Criticism of climate movement                        18\n",
       "Russia is the Victim                                 17\n",
       "Speculating war outcomes                             17\n",
       "Criticism of climate policies                        16\n",
       "Hidden plots by secret schemes of powerful groups    16\n",
       "Praise of Russia                                     12\n",
       "Overpraising the West                                10\n",
       "Distrust towards Media                               10\n",
       "Controversy about green technologies                  9\n",
       "Questioning the measurements and science              8\n",
       "Negative Consequences for the West                    7\n",
       "Downplaying climate change                            3\n",
       "Climate change is beneficial                          1\n",
       "Green policies are geopolitical instruments           1\n",
       "Name: count, dtype: int64"
      ]
     },
     "execution_count": 19,
     "metadata": {},
     "output_type": "execute_result"
    }
   ],
   "source": [
    "dataset['narratives'].explode().value_counts()"
   ]
  },
  {
   "cell_type": "code",
   "execution_count": 20,
   "metadata": {
    "colab": {
     "base_uri": "https://localhost:8080/"
    },
    "id": "RUAHYcmCH0Za",
    "outputId": "220724b5-f7c4-4962-8a56-f464d27dc916"
   },
   "outputs": [
    {
     "data": {
      "text/plain": [
       "array(['Other', 'UA is anti-RU extremists',\n",
       "       'Ukraine is a hub for criminal activities',\n",
       "       'Ukraine is associated with nazism', 'Ukraine is the aggressor',\n",
       "       'The West are the aggressors', 'Ukraine is a puppet of the West',\n",
       "       'Diplomacy does/will not work',\n",
       "       'Criticism of political organizations and figures',\n",
       "       'Climate movement is corrupt',\n",
       "       'Ad hominem attacks on key activists', 'Blaming global elites',\n",
       "       'Climate policies are ineffective',\n",
       "       'By continuing the war we risk WWIII',\n",
       "       'There is a real possibility that nuclear weapons will be employed',\n",
       "       'Ice is not melting', 'Climate cycles are natural',\n",
       "       'Criticism of international entities',\n",
       "       'Russia will also attack other countries',\n",
       "       'Criticism of national governments',\n",
       "       'Discrediting Ukrainian military', 'Ukrainian army is collapsing',\n",
       "       'Discrediting Ukrainian government and officials and policies',\n",
       "       'West is tired of Ukraine',\n",
       "       'Climate policies have negative impact on the economy',\n",
       "       'The West has the strongest international support',\n",
       "       'The West does not care about Ukraine, only about its interests',\n",
       "       'The West is weak',\n",
       "       'The West belongs in the right side of history',\n",
       "       'NATO should/will directly intervene', 'The West is overreacting',\n",
       "       'Western media is an instrument of propaganda',\n",
       "       'Russian army is collapsing',\n",
       "       'Russia actions in Ukraine are only self-defence',\n",
       "       'Scientific community is unreliable',\n",
       "       'Climate movement is alarmist',\n",
       "       'Methodologies/metrics used are unreliable/faulty',\n",
       "       'Situation in Ukraine is hopeless',\n",
       "       'Climate policies are only for profit',\n",
       "       'Praise of Russian military might', 'The West is russophobic',\n",
       "       'Russia has international support from a number of countries and people',\n",
       "       'Ukrainian media cannot be trusted',\n",
       "       'Sanctions imposed by Western countries will backfire',\n",
       "       'Russian invasion has strong national support',\n",
       "       'Renewable energy is dangerous', 'Renewable energy is costly',\n",
       "       'Renewable energy is unreliable',\n",
       "       'CO2 concentrations are too small to have an impact',\n",
       "       'CO2 is beneficial', 'The EU is divided',\n",
       "       'Russia is a guarantor of peace and prosperity',\n",
       "       'The conflict will increase the Ukrainian refugee flows to Europe',\n",
       "       'Climate agenda has hidden motives', 'Criticism of the EU',\n",
       "       'Green activities are a form of neo-colonialism',\n",
       "       'Greenhouse effect/carbon dioxide do not drive climate change',\n",
       "       'Praise of Russian President Vladimir Putin'], dtype=object)"
      ]
     },
     "execution_count": 20,
     "metadata": {},
     "output_type": "execute_result"
    }
   ],
   "source": [
    "unique_subnarratives = dataset['subnarratives'].explode().unique()\n",
    "unique_subnarratives"
   ]
  },
  {
   "cell_type": "code",
   "execution_count": 21,
   "metadata": {
    "colab": {
     "base_uri": "https://localhost:8080/",
     "height": 1000
    },
    "id": "T45tar0pHyEs",
    "outputId": "da696db0-3b88-49a9-8b22-01e3e03203ff"
   },
   "outputs": [
    {
     "data": {
      "text/plain": [
       "subnarratives\n",
       "Other                                                                     151\n",
       "The West are the aggressors                                                18\n",
       "There is a real possibility that nuclear weapons will be employed          16\n",
       "Criticism of national governments                                          12\n",
       "Russia will also attack other countries                                    11\n",
       "Western media is an instrument of propaganda                                9\n",
       "The West does not care about Ukraine, only about its interests              8\n",
       "Ad hominem attacks on key activists                                         8\n",
       "Ukraine is a puppet of the West                                             8\n",
       "Criticism of political organizations and figures                            7\n",
       "Diplomacy does/will not work                                                7\n",
       "The West belongs in the right side of history                               7\n",
       "The West is weak                                                            7\n",
       "West is tired of Ukraine                                                    7\n",
       "The West is russophobic                                                     7\n",
       "Discrediting Ukrainian government and officials and policies                7\n",
       "Ukrainian army is collapsing                                                6\n",
       "Blaming global elites                                                       6\n",
       "Climate movement is alarmist                                                5\n",
       "Climate policies have negative impact on the economy                        5\n",
       "Sanctions imposed by Western countries will backfire                        5\n",
       "NATO should/will directly intervene                                         5\n",
       "Ukraine is associated with nazism                                           5\n",
       "By continuing the war we risk WWIII                                         5\n",
       "The EU is divided                                                           4\n",
       "Praise of Russian military might                                            4\n",
       "Climate policies are ineffective                                            4\n",
       "UA is anti-RU extremists                                                    4\n",
       "Situation in Ukraine is hopeless                                            4\n",
       "Russian army is collapsing                                                  4\n",
       "Russia actions in Ukraine are only self-defence                             4\n",
       "Ukraine is the aggressor                                                    3\n",
       "Criticism of international entities                                         3\n",
       "Methodologies/metrics used are unreliable/faulty                            3\n",
       "Discrediting Ukrainian military                                             3\n",
       "Scientific community is unreliable                                          3\n",
       "Climate movement is corrupt                                                 3\n",
       "The West has the strongest international support                            3\n",
       "Ukraine is a hub for criminal activities                                    2\n",
       "Russia is a guarantor of peace and prosperity                               2\n",
       "Renewable energy is unreliable                                              2\n",
       "Russian invasion has strong national support                                2\n",
       "Renewable energy is costly                                                  2\n",
       "Russia has international support from a number of countries and people      2\n",
       "Climate policies are only for profit                                        2\n",
       "The West is overreacting                                                    2\n",
       "Ukrainian media cannot be trusted                                           1\n",
       "Renewable energy is dangerous                                               1\n",
       "Ice is not melting                                                          1\n",
       "CO2 concentrations are too small to have an impact                          1\n",
       "CO2 is beneficial                                                           1\n",
       "Climate cycles are natural                                                  1\n",
       "The conflict will increase the Ukrainian refugee flows to Europe            1\n",
       "Climate agenda has hidden motives                                           1\n",
       "Criticism of the EU                                                         1\n",
       "Green activities are a form of neo-colonialism                              1\n",
       "Greenhouse effect/carbon dioxide do not drive climate change                1\n",
       "Praise of Russian President Vladimir Putin                                  1\n",
       "Name: count, dtype: int64"
      ]
     },
     "execution_count": 21,
     "metadata": {},
     "output_type": "execute_result"
    }
   ],
   "source": [
    "dataset['subnarratives'].explode().value_counts()"
   ]
  },
  {
   "cell_type": "code",
   "execution_count": 22,
   "metadata": {
    "id": "Dt_Bw_eGIU-R"
   },
   "outputs": [],
   "source": [
    "from sklearn.preprocessing import MultiLabelBinarizer\n",
    "\n",
    "mlb_narratives = MultiLabelBinarizer()\n",
    "mlb_subnarratives = MultiLabelBinarizer()"
   ]
  },
  {
   "cell_type": "code",
   "execution_count": 23,
   "metadata": {
    "colab": {
     "base_uri": "https://localhost:8080/",
     "height": 444
    },
    "id": "ziLYBhUnLNQb",
    "outputId": "ee6da4c1-f465-49ce-ef73-a6c690da9364"
   },
   "outputs": [
    {
     "data": {
      "text/plain": [
       "0                                                [Other]\n",
       "1                                                [Other]\n",
       "2      [Russia is the Victim, Discrediting Ukraine, D...\n",
       "3                                                [Other]\n",
       "4                                                [Other]\n",
       "                             ...                        \n",
       "195    [Criticism of institutions and authorities, Cr...\n",
       "196                   [Discrediting the West, Diplomacy]\n",
       "197                                              [Other]\n",
       "198                       [Amplifying war-related fears]\n",
       "199                           [Speculating war outcomes]\n",
       "Name: narratives, Length: 200, dtype: object"
      ]
     },
     "execution_count": 23,
     "metadata": {},
     "output_type": "execute_result"
    }
   ],
   "source": [
    "dataset['narratives']"
   ]
  },
  {
   "cell_type": "code",
   "execution_count": 24,
   "metadata": {
    "id": "C4R179sCK2ZF"
   },
   "outputs": [],
   "source": [
    "narratives_binary = mlb_narratives.fit_transform(dataset['narratives'])\n",
    "subnarratives_binary = mlb_subnarratives.fit_transform(dataset['subnarratives'])\n",
    "\n",
    "dataset['narratives_encoded'] = narratives_binary.tolist()\n",
    "dataset['subnarratives_encoded'] = subnarratives_binary.tolist()"
   ]
  },
  {
   "cell_type": "code",
   "execution_count": 25,
   "metadata": {
    "colab": {
     "base_uri": "https://localhost:8080/",
     "height": 201
    },
    "id": "MuWjedRoLKBh",
    "outputId": "d2370f94-a35a-4b70-8b6b-0ce3eedaf284"
   },
   "outputs": [
    {
     "data": {
      "text/html": [
       "<div>\n",
       "<style scoped>\n",
       "    .dataframe tbody tr th:only-of-type {\n",
       "        vertical-align: middle;\n",
       "    }\n",
       "\n",
       "    .dataframe tbody tr th {\n",
       "        vertical-align: top;\n",
       "    }\n",
       "\n",
       "    .dataframe thead th {\n",
       "        text-align: right;\n",
       "    }\n",
       "</style>\n",
       "<table border=\"1\" class=\"dataframe\">\n",
       "  <thead>\n",
       "    <tr style=\"text-align: right;\">\n",
       "      <th></th>\n",
       "      <th>article_id</th>\n",
       "      <th>content</th>\n",
       "      <th>narratives</th>\n",
       "      <th>subnarratives</th>\n",
       "      <th>narratives_encoded</th>\n",
       "      <th>subnarratives_encoded</th>\n",
       "    </tr>\n",
       "  </thead>\n",
       "  <tbody>\n",
       "    <tr>\n",
       "      <th>0</th>\n",
       "      <td>104876</td>\n",
       "      <td>Putin honours army unit blamed for Bucha massa...</td>\n",
       "      <td>[Other]</td>\n",
       "      <td>[Other]</td>\n",
       "      <td>[0, 0, 0, 0, 0, 0, 0, 0, 0, 0, 0, 0, 0, 0, 1, ...</td>\n",
       "      <td>[0, 0, 0, 0, 0, 0, 0, 0, 0, 0, 0, 0, 0, 0, 0, ...</td>\n",
       "    </tr>\n",
       "    <tr>\n",
       "      <th>1</th>\n",
       "      <td>023211</td>\n",
       "      <td>Europe Putin thanks US journalist Tucker Carls...</td>\n",
       "      <td>[Other]</td>\n",
       "      <td>[Other]</td>\n",
       "      <td>[0, 0, 0, 0, 0, 0, 0, 0, 0, 0, 0, 0, 0, 0, 1, ...</td>\n",
       "      <td>[0, 0, 0, 0, 0, 0, 0, 0, 0, 0, 0, 0, 0, 0, 0, ...</td>\n",
       "    </tr>\n",
       "    <tr>\n",
       "      <th>2</th>\n",
       "      <td>011260</td>\n",
       "      <td>Russia has a clear plan to resolve the conflic...</td>\n",
       "      <td>[Russia is the Victim, Discrediting Ukraine, D...</td>\n",
       "      <td>[UA is anti-RU extremists, Ukraine is a hub fo...</td>\n",
       "      <td>[0, 1, 0, 0, 0, 0, 0, 1, 1, 0, 0, 0, 0, 0, 0, ...</td>\n",
       "      <td>[0, 0, 0, 0, 0, 0, 0, 0, 0, 0, 0, 0, 0, 0, 0, ...</td>\n",
       "    </tr>\n",
       "    <tr>\n",
       "      <th>3</th>\n",
       "      <td>101067</td>\n",
       "      <td>First war of TikTok era sees tragedy, humor an...</td>\n",
       "      <td>[Other]</td>\n",
       "      <td>[Other]</td>\n",
       "      <td>[0, 0, 0, 0, 0, 0, 0, 0, 0, 0, 0, 0, 0, 0, 1, ...</td>\n",
       "      <td>[0, 0, 0, 0, 0, 0, 0, 0, 0, 0, 0, 0, 0, 0, 0, ...</td>\n",
       "    </tr>\n",
       "    <tr>\n",
       "      <th>4</th>\n",
       "      <td>102963</td>\n",
       "      <td>Ukraine's President Zelenskyy to address Mexic...</td>\n",
       "      <td>[Other]</td>\n",
       "      <td>[Other]</td>\n",
       "      <td>[0, 0, 0, 0, 0, 0, 0, 0, 0, 0, 0, 0, 0, 0, 1, ...</td>\n",
       "      <td>[0, 0, 0, 0, 0, 0, 0, 0, 0, 0, 0, 0, 0, 0, 0, ...</td>\n",
       "    </tr>\n",
       "  </tbody>\n",
       "</table>\n",
       "</div>"
      ],
      "text/plain": [
       "  article_id                                            content  \\\n",
       "0     104876  Putin honours army unit blamed for Bucha massa...   \n",
       "1     023211  Europe Putin thanks US journalist Tucker Carls...   \n",
       "2     011260  Russia has a clear plan to resolve the conflic...   \n",
       "3     101067  First war of TikTok era sees tragedy, humor an...   \n",
       "4     102963  Ukraine's President Zelenskyy to address Mexic...   \n",
       "\n",
       "                                          narratives  \\\n",
       "0                                            [Other]   \n",
       "1                                            [Other]   \n",
       "2  [Russia is the Victim, Discrediting Ukraine, D...   \n",
       "3                                            [Other]   \n",
       "4                                            [Other]   \n",
       "\n",
       "                                       subnarratives  \\\n",
       "0                                            [Other]   \n",
       "1                                            [Other]   \n",
       "2  [UA is anti-RU extremists, Ukraine is a hub fo...   \n",
       "3                                            [Other]   \n",
       "4                                            [Other]   \n",
       "\n",
       "                                  narratives_encoded  \\\n",
       "0  [0, 0, 0, 0, 0, 0, 0, 0, 0, 0, 0, 0, 0, 0, 1, ...   \n",
       "1  [0, 0, 0, 0, 0, 0, 0, 0, 0, 0, 0, 0, 0, 0, 1, ...   \n",
       "2  [0, 1, 0, 0, 0, 0, 0, 1, 1, 0, 0, 0, 0, 0, 0, ...   \n",
       "3  [0, 0, 0, 0, 0, 0, 0, 0, 0, 0, 0, 0, 0, 0, 1, ...   \n",
       "4  [0, 0, 0, 0, 0, 0, 0, 0, 0, 0, 0, 0, 0, 0, 1, ...   \n",
       "\n",
       "                               subnarratives_encoded  \n",
       "0  [0, 0, 0, 0, 0, 0, 0, 0, 0, 0, 0, 0, 0, 0, 0, ...  \n",
       "1  [0, 0, 0, 0, 0, 0, 0, 0, 0, 0, 0, 0, 0, 0, 0, ...  \n",
       "2  [0, 0, 0, 0, 0, 0, 0, 0, 0, 0, 0, 0, 0, 0, 0, ...  \n",
       "3  [0, 0, 0, 0, 0, 0, 0, 0, 0, 0, 0, 0, 0, 0, 0, ...  \n",
       "4  [0, 0, 0, 0, 0, 0, 0, 0, 0, 0, 0, 0, 0, 0, 0, ...  "
      ]
     },
     "execution_count": 25,
     "metadata": {},
     "output_type": "execute_result"
    }
   ],
   "source": [
    "dataset.head()"
   ]
  },
  {
   "cell_type": "code",
   "execution_count": 26,
   "metadata": {
    "id": "qhnXdAQHo3IQ"
   },
   "outputs": [
    {
     "data": {
      "text/plain": [
       "20"
      ]
     },
     "execution_count": 26,
     "metadata": {},
     "output_type": "execute_result"
    }
   ],
   "source": [
    "len(unique_narratives)"
   ]
  },
  {
   "cell_type": "code",
   "execution_count": 27,
   "metadata": {
    "colab": {
     "base_uri": "https://localhost:8080/"
    },
    "id": "uc0qAPQTM7g-",
    "outputId": "087c748b-0c4d-4966-d8f1-15168de8a483"
   },
   "outputs": [
    {
     "data": {
      "text/plain": [
       "58"
      ]
     },
     "execution_count": 27,
     "metadata": {},
     "output_type": "execute_result"
    }
   ],
   "source": [
    "len(unique_subnarratives)"
   ]
  },
  {
   "cell_type": "code",
   "execution_count": 28,
   "metadata": {
    "id": "jv5RtDTKM9JO"
   },
   "outputs": [],
   "source": [
    "import spacy\n",
    "import re\n",
    "import emoji\n",
    "\n",
    "nlp = spacy.load(\"en_core_web_sm\")\n",
    "\n",
    "def clean_article(article_text):\n",
    "    # Remove URLs\n",
    "    article_text = re.sub(r'http\\S+|www\\S+|https\\S+|[a-zA-Z0-9.-]+\\.com', '', article_text, flags=re.MULTILINE)\n",
    "\n",
    "    doc = nlp(article_text)\n",
    "    cleaned_tokens = []\n",
    "\n",
    "    for token in doc:\n",
    "        if (token.is_space or '@' in token.text or emoji.is_emoji(token.text)):\n",
    "            continue\n",
    "\n",
    "        cleaned_tokens.append(token.text + token.whitespace_)\n",
    "\n",
    "    cleaned_article = \"\".join(cleaned_tokens).strip()\n",
    "\n",
    "    return cleaned_article"
   ]
  },
  {
   "cell_type": "code",
   "execution_count": 29,
   "metadata": {
    "id": "Q73QIbQnROnK"
   },
   "outputs": [],
   "source": [
    "dataset['cleaned_content'] = dataset['content'].apply(clean_article)"
   ]
  },
  {
   "cell_type": "code",
   "execution_count": 30,
   "metadata": {
    "id": "bJWRxiJ-RRpA"
   },
   "outputs": [],
   "source": [
    "import warnings\n",
    "from sklearn.metrics import classification_report, confusion_matrix\n",
    "\n",
    "def get_classification_report(y_true, y_pred):\n",
    "  # We will ignore the warnings we get\n",
    "    with warnings.catch_warnings():\n",
    "        warnings.simplefilter(\"ignore\")\n",
    "        report = classification_report(y_true, y_pred, output_dict=True)\n",
    "    report_df = pd.DataFrame(report).transpose()\n",
    "    return report_df\n",
    "\n",
    "def plot_confusion_matrix(y_true, y_pred):\n",
    "    conf_matrix = confusion_matrix(y_true, y_pred)\n",
    "    plt.figure(figsize=(8, 6))\n",
    "    sns.heatmap(conf_matrix, annot=True, fmt='d', cmap='Blues')\n",
    "    plt.xlabel('Predicted')\n",
    "    plt.ylabel('True')\n",
    "    plt.title('Confusion Matrix')\n",
    "    plt.show()\n",
    "    return conf_matrix"
   ]
  },
  {
   "cell_type": "code",
   "execution_count": 31,
   "metadata": {},
   "outputs": [],
   "source": [
    "embeddings_dir = 'data/embeddings/narrative_classification/'\n",
    "embedding_file_name = 'all_embeddings.npy'\n",
    "embeddings_full_path = embeddings_dir + embedding_file_name"
   ]
  },
  {
   "cell_type": "code",
   "execution_count": 32,
   "metadata": {},
   "outputs": [],
   "source": [
    "import os\n",
    "\n",
    "def are_embeddings_saved(filepath):\n",
    "    if os.path.exists(filepath):\n",
    "        return True\n",
    "    return False"
   ]
  },
  {
   "cell_type": "code",
   "execution_count": 33,
   "metadata": {},
   "outputs": [
    {
     "name": "stderr",
     "output_type": "stream",
     "text": [
      "/Library/Frameworks/Python.framework/Versions/3.12/lib/python3.12/site-packages/InstructorEmbedding/instructor.py:7: TqdmExperimentalWarning: Using `tqdm.autonotebook.tqdm` in notebook mode. Use `tqdm.tqdm` instead to force console mode (e.g. in jupyter console)\n",
      "  from tqdm.autonotebook import trange\n"
     ]
    },
    {
     "name": "stdout",
     "output_type": "stream",
     "text": [
      "load INSTRUCTOR_Transformer\n",
      "max_seq_length  512\n"
     ]
    },
    {
     "name": "stderr",
     "output_type": "stream",
     "text": [
      "/Library/Frameworks/Python.framework/Versions/3.12/lib/python3.12/site-packages/transformers/tokenization_utils_base.py:1602: FutureWarning: `clean_up_tokenization_spaces` was not set. It will be set to `True` by default. This behavior will be deprecated in transformers v4.45, and will be then set to `False` by default. For more details check this issue: https://github.com/huggingface/transformers/issues/31884\n",
      "  warnings.warn(\n",
      "/Library/Frameworks/Python.framework/Versions/3.12/lib/python3.12/site-packages/sentence_transformers/models/Dense.py:63: FutureWarning: You are using `torch.load` with `weights_only=False` (the current default value), which uses the default pickle module implicitly. It is possible to construct malicious pickle data which will execute arbitrary code during unpickling (See https://github.com/pytorch/pytorch/blob/main/SECURITY.md#untrusted-models for more details). In a future release, the default value for `weights_only` will be flipped to `True`. This limits the functions that could be executed during unpickling. Arbitrary objects will no longer be allowed to be loaded via this mode unless they are explicitly allowlisted by the user via `torch.serialization.add_safe_globals`. We recommend you start setting `weights_only=True` for any use case where you don't have full control of the loaded file. Please open an issue on GitHub for any issues related to this experimental feature.\n",
      "  model.load_state_dict(torch.load(os.path.join(input_path, 'pytorch_model.bin'), map_location=torch.device('cpu')))\n"
     ]
    }
   ],
   "source": [
    "from InstructorEmbedding import INSTRUCTOR\n",
    "instructor_model = INSTRUCTOR('hkunlp/instructor-large')"
   ]
  },
  {
   "cell_type": "code",
   "execution_count": 34,
   "metadata": {},
   "outputs": [],
   "source": [
    "def precompute_embeddings(dataset, model, file_path):\n",
    "    embeddings = []\n",
    "    for index, row in dataset.iterrows():\n",
    "        context = row['cleaned_content']\n",
    "        instruction = f\"\"\"\n",
    "                    Given the following article, classify the narrative based on its content. The narrative classification\n",
    "                    should capture the main theme of the article, which could relate to topics such as the Ukraine-Russia war, \n",
    "                    climate change, or other global issues. The model should focus on understanding the key events, actors, and \n",
    "                    emotions expressed in the article.\n",
    "                    \"\"\"\n",
    "        embedding = instructor_model.encode([[instruction, context]])\n",
    "        embeddings.append(embedding[0])\n",
    "\n",
    "    embeddings_array = np.array(embeddings)\n",
    "    np.save(file_path, embeddings_array)\n",
    "    print(f\"Embeddings saved to {file_path}\")\n",
    "\n",
    "def load_embeddings(filename):\n",
    "    return np.load(filename)\n",
    "\n",
    "if not are_embeddings_saved(embeddings_full_path): precompute_embeddings(dataset, instructor_model, embeddings_full_path)"
   ]
  },
  {
   "cell_type": "code",
   "execution_count": 35,
   "metadata": {},
   "outputs": [],
   "source": [
    "all_embeddings = load_embeddings(embeddings_full_path)"
   ]
  },
  {
   "cell_type": "code",
   "execution_count": 36,
   "metadata": {},
   "outputs": [],
   "source": [
    "from iterstrat.ml_stratifiers import MultilabelStratifiedKFold\n",
    "import numpy as np\n",
    "\n",
    "def iterative_split_data_with_embeddings(data, embeddings, labels_column, \n",
    "                                         train_size=0.8, val_size_ratio=0.5, \n",
    "                                         splits=5, shuffle=True):\n",
    "    if shuffle:\n",
    "        shuffled_indices = np.arange(len(data))\n",
    "        np.random.shuffle(shuffled_indices)\n",
    "        data = data.iloc[shuffled_indices].reset_index(drop=True)\n",
    "        embeddings = embeddings[shuffled_indices]\n",
    "\n",
    "    labels = np.array(data[labels_column].tolist())\n",
    "\n",
    "    mskf = MultilabelStratifiedKFold(n_splits=splits)\n",
    "    for train_idx, temp_idx in mskf.split(np.zeros(len(labels)), labels):\n",
    "        train_data = data.iloc[train_idx]\n",
    "        temp_data = data.iloc[temp_idx]\n",
    "        train_embeddings = embeddings[train_idx]\n",
    "        temp_embeddings = embeddings[temp_idx]\n",
    "        break\n",
    "\n",
    "    temp_labels = np.array(temp_data[labels_column].tolist())\n",
    "    val_size = int(len(temp_data) * val_size_ratio)\n",
    "    mskf_temp = MultilabelStratifiedKFold(n_splits=splits)\n",
    "\n",
    "    for val_idx, test_idx in mskf_temp.split(np.zeros(len(temp_labels)), temp_labels):\n",
    "        val_data = temp_data.iloc[val_idx]\n",
    "        test_data = temp_data.iloc[test_idx]\n",
    "        val_embeddings = temp_embeddings[val_idx]\n",
    "        test_embeddings = temp_embeddings[test_idx]\n",
    "        break\n",
    "\n",
    "    return (train_data, train_embeddings), (val_data, val_embeddings), (test_data, test_embeddings)\n",
    "\n",
    "\n",
    "(dataset_train, train_embeddings), \\\n",
    "(dataset_val, val_embeddings), \\\n",
    "(dataset_test, test_embeddings) = iterative_split_data_with_embeddings(\n",
    "    dataset, \n",
    "    all_embeddings, \n",
    "    splits=4,\n",
    "    labels_column=\"narratives_encoded\", \n",
    ")"
   ]
  },
  {
   "cell_type": "code",
   "execution_count": 37,
   "metadata": {},
   "outputs": [
    {
     "data": {
      "text/plain": [
       "(151, 7)"
      ]
     },
     "execution_count": 37,
     "metadata": {},
     "output_type": "execute_result"
    }
   ],
   "source": [
    "dataset_train.shape"
   ]
  },
  {
   "cell_type": "code",
   "execution_count": 38,
   "metadata": {},
   "outputs": [
    {
     "data": {
      "text/plain": [
       "(37, 7)"
      ]
     },
     "execution_count": 38,
     "metadata": {},
     "output_type": "execute_result"
    }
   ],
   "source": [
    "dataset_val.shape"
   ]
  },
  {
   "cell_type": "code",
   "execution_count": 39,
   "metadata": {},
   "outputs": [],
   "source": [
    "y_train_nar = dataset_train['narratives_encoded'].tolist()\n",
    "y_val_nar = dataset_val['narratives_encoded'].tolist()\n",
    "y_test_nar = dataset_test['narratives_encoded'].tolist()"
   ]
  },
  {
   "cell_type": "code",
   "execution_count": 40,
   "metadata": {},
   "outputs": [],
   "source": [
    "from sklearn.linear_model import LogisticRegression\n",
    "from sklearn.model_selection import train_test_split\n",
    "from sklearn.metrics import accuracy_score, f1_score, multilabel_confusion_matrix\n",
    "from sklearn.multiclass import OneVsRestClassifier\n",
    "\n",
    "ovr_logistic = OneVsRestClassifier(LogisticRegression(max_iter=1000, class_weight='balanced'))"
   ]
  },
  {
   "cell_type": "code",
   "execution_count": 41,
   "metadata": {},
   "outputs": [
    {
     "name": "stderr",
     "output_type": "stream",
     "text": [
      "/Library/Frameworks/Python.framework/Versions/3.12/lib/python3.12/site-packages/sklearn/multiclass.py:90: UserWarning: Label not 2 is present in all training examples.\n",
      "  warnings.warn(\n"
     ]
    },
    {
     "data": {
      "text/html": [
       "<style>#sk-container-id-1 {\n",
       "  /* Definition of color scheme common for light and dark mode */\n",
       "  --sklearn-color-text: black;\n",
       "  --sklearn-color-line: gray;\n",
       "  /* Definition of color scheme for unfitted estimators */\n",
       "  --sklearn-color-unfitted-level-0: #fff5e6;\n",
       "  --sklearn-color-unfitted-level-1: #f6e4d2;\n",
       "  --sklearn-color-unfitted-level-2: #ffe0b3;\n",
       "  --sklearn-color-unfitted-level-3: chocolate;\n",
       "  /* Definition of color scheme for fitted estimators */\n",
       "  --sklearn-color-fitted-level-0: #f0f8ff;\n",
       "  --sklearn-color-fitted-level-1: #d4ebff;\n",
       "  --sklearn-color-fitted-level-2: #b3dbfd;\n",
       "  --sklearn-color-fitted-level-3: cornflowerblue;\n",
       "\n",
       "  /* Specific color for light theme */\n",
       "  --sklearn-color-text-on-default-background: var(--sg-text-color, var(--theme-code-foreground, var(--jp-content-font-color1, black)));\n",
       "  --sklearn-color-background: var(--sg-background-color, var(--theme-background, var(--jp-layout-color0, white)));\n",
       "  --sklearn-color-border-box: var(--sg-text-color, var(--theme-code-foreground, var(--jp-content-font-color1, black)));\n",
       "  --sklearn-color-icon: #696969;\n",
       "\n",
       "  @media (prefers-color-scheme: dark) {\n",
       "    /* Redefinition of color scheme for dark theme */\n",
       "    --sklearn-color-text-on-default-background: var(--sg-text-color, var(--theme-code-foreground, var(--jp-content-font-color1, white)));\n",
       "    --sklearn-color-background: var(--sg-background-color, var(--theme-background, var(--jp-layout-color0, #111)));\n",
       "    --sklearn-color-border-box: var(--sg-text-color, var(--theme-code-foreground, var(--jp-content-font-color1, white)));\n",
       "    --sklearn-color-icon: #878787;\n",
       "  }\n",
       "}\n",
       "\n",
       "#sk-container-id-1 {\n",
       "  color: var(--sklearn-color-text);\n",
       "}\n",
       "\n",
       "#sk-container-id-1 pre {\n",
       "  padding: 0;\n",
       "}\n",
       "\n",
       "#sk-container-id-1 input.sk-hidden--visually {\n",
       "  border: 0;\n",
       "  clip: rect(1px 1px 1px 1px);\n",
       "  clip: rect(1px, 1px, 1px, 1px);\n",
       "  height: 1px;\n",
       "  margin: -1px;\n",
       "  overflow: hidden;\n",
       "  padding: 0;\n",
       "  position: absolute;\n",
       "  width: 1px;\n",
       "}\n",
       "\n",
       "#sk-container-id-1 div.sk-dashed-wrapped {\n",
       "  border: 1px dashed var(--sklearn-color-line);\n",
       "  margin: 0 0.4em 0.5em 0.4em;\n",
       "  box-sizing: border-box;\n",
       "  padding-bottom: 0.4em;\n",
       "  background-color: var(--sklearn-color-background);\n",
       "}\n",
       "\n",
       "#sk-container-id-1 div.sk-container {\n",
       "  /* jupyter's `normalize.less` sets `[hidden] { display: none; }`\n",
       "     but bootstrap.min.css set `[hidden] { display: none !important; }`\n",
       "     so we also need the `!important` here to be able to override the\n",
       "     default hidden behavior on the sphinx rendered scikit-learn.org.\n",
       "     See: https://github.com/scikit-learn/scikit-learn/issues/21755 */\n",
       "  display: inline-block !important;\n",
       "  position: relative;\n",
       "}\n",
       "\n",
       "#sk-container-id-1 div.sk-text-repr-fallback {\n",
       "  display: none;\n",
       "}\n",
       "\n",
       "div.sk-parallel-item,\n",
       "div.sk-serial,\n",
       "div.sk-item {\n",
       "  /* draw centered vertical line to link estimators */\n",
       "  background-image: linear-gradient(var(--sklearn-color-text-on-default-background), var(--sklearn-color-text-on-default-background));\n",
       "  background-size: 2px 100%;\n",
       "  background-repeat: no-repeat;\n",
       "  background-position: center center;\n",
       "}\n",
       "\n",
       "/* Parallel-specific style estimator block */\n",
       "\n",
       "#sk-container-id-1 div.sk-parallel-item::after {\n",
       "  content: \"\";\n",
       "  width: 100%;\n",
       "  border-bottom: 2px solid var(--sklearn-color-text-on-default-background);\n",
       "  flex-grow: 1;\n",
       "}\n",
       "\n",
       "#sk-container-id-1 div.sk-parallel {\n",
       "  display: flex;\n",
       "  align-items: stretch;\n",
       "  justify-content: center;\n",
       "  background-color: var(--sklearn-color-background);\n",
       "  position: relative;\n",
       "}\n",
       "\n",
       "#sk-container-id-1 div.sk-parallel-item {\n",
       "  display: flex;\n",
       "  flex-direction: column;\n",
       "}\n",
       "\n",
       "#sk-container-id-1 div.sk-parallel-item:first-child::after {\n",
       "  align-self: flex-end;\n",
       "  width: 50%;\n",
       "}\n",
       "\n",
       "#sk-container-id-1 div.sk-parallel-item:last-child::after {\n",
       "  align-self: flex-start;\n",
       "  width: 50%;\n",
       "}\n",
       "\n",
       "#sk-container-id-1 div.sk-parallel-item:only-child::after {\n",
       "  width: 0;\n",
       "}\n",
       "\n",
       "/* Serial-specific style estimator block */\n",
       "\n",
       "#sk-container-id-1 div.sk-serial {\n",
       "  display: flex;\n",
       "  flex-direction: column;\n",
       "  align-items: center;\n",
       "  background-color: var(--sklearn-color-background);\n",
       "  padding-right: 1em;\n",
       "  padding-left: 1em;\n",
       "}\n",
       "\n",
       "\n",
       "/* Toggleable style: style used for estimator/Pipeline/ColumnTransformer box that is\n",
       "clickable and can be expanded/collapsed.\n",
       "- Pipeline and ColumnTransformer use this feature and define the default style\n",
       "- Estimators will overwrite some part of the style using the `sk-estimator` class\n",
       "*/\n",
       "\n",
       "/* Pipeline and ColumnTransformer style (default) */\n",
       "\n",
       "#sk-container-id-1 div.sk-toggleable {\n",
       "  /* Default theme specific background. It is overwritten whether we have a\n",
       "  specific estimator or a Pipeline/ColumnTransformer */\n",
       "  background-color: var(--sklearn-color-background);\n",
       "}\n",
       "\n",
       "/* Toggleable label */\n",
       "#sk-container-id-1 label.sk-toggleable__label {\n",
       "  cursor: pointer;\n",
       "  display: block;\n",
       "  width: 100%;\n",
       "  margin-bottom: 0;\n",
       "  padding: 0.5em;\n",
       "  box-sizing: border-box;\n",
       "  text-align: center;\n",
       "}\n",
       "\n",
       "#sk-container-id-1 label.sk-toggleable__label-arrow:before {\n",
       "  /* Arrow on the left of the label */\n",
       "  content: \"▸\";\n",
       "  float: left;\n",
       "  margin-right: 0.25em;\n",
       "  color: var(--sklearn-color-icon);\n",
       "}\n",
       "\n",
       "#sk-container-id-1 label.sk-toggleable__label-arrow:hover:before {\n",
       "  color: var(--sklearn-color-text);\n",
       "}\n",
       "\n",
       "/* Toggleable content - dropdown */\n",
       "\n",
       "#sk-container-id-1 div.sk-toggleable__content {\n",
       "  max-height: 0;\n",
       "  max-width: 0;\n",
       "  overflow: hidden;\n",
       "  text-align: left;\n",
       "  /* unfitted */\n",
       "  background-color: var(--sklearn-color-unfitted-level-0);\n",
       "}\n",
       "\n",
       "#sk-container-id-1 div.sk-toggleable__content.fitted {\n",
       "  /* fitted */\n",
       "  background-color: var(--sklearn-color-fitted-level-0);\n",
       "}\n",
       "\n",
       "#sk-container-id-1 div.sk-toggleable__content pre {\n",
       "  margin: 0.2em;\n",
       "  border-radius: 0.25em;\n",
       "  color: var(--sklearn-color-text);\n",
       "  /* unfitted */\n",
       "  background-color: var(--sklearn-color-unfitted-level-0);\n",
       "}\n",
       "\n",
       "#sk-container-id-1 div.sk-toggleable__content.fitted pre {\n",
       "  /* unfitted */\n",
       "  background-color: var(--sklearn-color-fitted-level-0);\n",
       "}\n",
       "\n",
       "#sk-container-id-1 input.sk-toggleable__control:checked~div.sk-toggleable__content {\n",
       "  /* Expand drop-down */\n",
       "  max-height: 200px;\n",
       "  max-width: 100%;\n",
       "  overflow: auto;\n",
       "}\n",
       "\n",
       "#sk-container-id-1 input.sk-toggleable__control:checked~label.sk-toggleable__label-arrow:before {\n",
       "  content: \"▾\";\n",
       "}\n",
       "\n",
       "/* Pipeline/ColumnTransformer-specific style */\n",
       "\n",
       "#sk-container-id-1 div.sk-label input.sk-toggleable__control:checked~label.sk-toggleable__label {\n",
       "  color: var(--sklearn-color-text);\n",
       "  background-color: var(--sklearn-color-unfitted-level-2);\n",
       "}\n",
       "\n",
       "#sk-container-id-1 div.sk-label.fitted input.sk-toggleable__control:checked~label.sk-toggleable__label {\n",
       "  background-color: var(--sklearn-color-fitted-level-2);\n",
       "}\n",
       "\n",
       "/* Estimator-specific style */\n",
       "\n",
       "/* Colorize estimator box */\n",
       "#sk-container-id-1 div.sk-estimator input.sk-toggleable__control:checked~label.sk-toggleable__label {\n",
       "  /* unfitted */\n",
       "  background-color: var(--sklearn-color-unfitted-level-2);\n",
       "}\n",
       "\n",
       "#sk-container-id-1 div.sk-estimator.fitted input.sk-toggleable__control:checked~label.sk-toggleable__label {\n",
       "  /* fitted */\n",
       "  background-color: var(--sklearn-color-fitted-level-2);\n",
       "}\n",
       "\n",
       "#sk-container-id-1 div.sk-label label.sk-toggleable__label,\n",
       "#sk-container-id-1 div.sk-label label {\n",
       "  /* The background is the default theme color */\n",
       "  color: var(--sklearn-color-text-on-default-background);\n",
       "}\n",
       "\n",
       "/* On hover, darken the color of the background */\n",
       "#sk-container-id-1 div.sk-label:hover label.sk-toggleable__label {\n",
       "  color: var(--sklearn-color-text);\n",
       "  background-color: var(--sklearn-color-unfitted-level-2);\n",
       "}\n",
       "\n",
       "/* Label box, darken color on hover, fitted */\n",
       "#sk-container-id-1 div.sk-label.fitted:hover label.sk-toggleable__label.fitted {\n",
       "  color: var(--sklearn-color-text);\n",
       "  background-color: var(--sklearn-color-fitted-level-2);\n",
       "}\n",
       "\n",
       "/* Estimator label */\n",
       "\n",
       "#sk-container-id-1 div.sk-label label {\n",
       "  font-family: monospace;\n",
       "  font-weight: bold;\n",
       "  display: inline-block;\n",
       "  line-height: 1.2em;\n",
       "}\n",
       "\n",
       "#sk-container-id-1 div.sk-label-container {\n",
       "  text-align: center;\n",
       "}\n",
       "\n",
       "/* Estimator-specific */\n",
       "#sk-container-id-1 div.sk-estimator {\n",
       "  font-family: monospace;\n",
       "  border: 1px dotted var(--sklearn-color-border-box);\n",
       "  border-radius: 0.25em;\n",
       "  box-sizing: border-box;\n",
       "  margin-bottom: 0.5em;\n",
       "  /* unfitted */\n",
       "  background-color: var(--sklearn-color-unfitted-level-0);\n",
       "}\n",
       "\n",
       "#sk-container-id-1 div.sk-estimator.fitted {\n",
       "  /* fitted */\n",
       "  background-color: var(--sklearn-color-fitted-level-0);\n",
       "}\n",
       "\n",
       "/* on hover */\n",
       "#sk-container-id-1 div.sk-estimator:hover {\n",
       "  /* unfitted */\n",
       "  background-color: var(--sklearn-color-unfitted-level-2);\n",
       "}\n",
       "\n",
       "#sk-container-id-1 div.sk-estimator.fitted:hover {\n",
       "  /* fitted */\n",
       "  background-color: var(--sklearn-color-fitted-level-2);\n",
       "}\n",
       "\n",
       "/* Specification for estimator info (e.g. \"i\" and \"?\") */\n",
       "\n",
       "/* Common style for \"i\" and \"?\" */\n",
       "\n",
       ".sk-estimator-doc-link,\n",
       "a:link.sk-estimator-doc-link,\n",
       "a:visited.sk-estimator-doc-link {\n",
       "  float: right;\n",
       "  font-size: smaller;\n",
       "  line-height: 1em;\n",
       "  font-family: monospace;\n",
       "  background-color: var(--sklearn-color-background);\n",
       "  border-radius: 1em;\n",
       "  height: 1em;\n",
       "  width: 1em;\n",
       "  text-decoration: none !important;\n",
       "  margin-left: 1ex;\n",
       "  /* unfitted */\n",
       "  border: var(--sklearn-color-unfitted-level-1) 1pt solid;\n",
       "  color: var(--sklearn-color-unfitted-level-1);\n",
       "}\n",
       "\n",
       ".sk-estimator-doc-link.fitted,\n",
       "a:link.sk-estimator-doc-link.fitted,\n",
       "a:visited.sk-estimator-doc-link.fitted {\n",
       "  /* fitted */\n",
       "  border: var(--sklearn-color-fitted-level-1) 1pt solid;\n",
       "  color: var(--sklearn-color-fitted-level-1);\n",
       "}\n",
       "\n",
       "/* On hover */\n",
       "div.sk-estimator:hover .sk-estimator-doc-link:hover,\n",
       ".sk-estimator-doc-link:hover,\n",
       "div.sk-label-container:hover .sk-estimator-doc-link:hover,\n",
       ".sk-estimator-doc-link:hover {\n",
       "  /* unfitted */\n",
       "  background-color: var(--sklearn-color-unfitted-level-3);\n",
       "  color: var(--sklearn-color-background);\n",
       "  text-decoration: none;\n",
       "}\n",
       "\n",
       "div.sk-estimator.fitted:hover .sk-estimator-doc-link.fitted:hover,\n",
       ".sk-estimator-doc-link.fitted:hover,\n",
       "div.sk-label-container:hover .sk-estimator-doc-link.fitted:hover,\n",
       ".sk-estimator-doc-link.fitted:hover {\n",
       "  /* fitted */\n",
       "  background-color: var(--sklearn-color-fitted-level-3);\n",
       "  color: var(--sklearn-color-background);\n",
       "  text-decoration: none;\n",
       "}\n",
       "\n",
       "/* Span, style for the box shown on hovering the info icon */\n",
       ".sk-estimator-doc-link span {\n",
       "  display: none;\n",
       "  z-index: 9999;\n",
       "  position: relative;\n",
       "  font-weight: normal;\n",
       "  right: .2ex;\n",
       "  padding: .5ex;\n",
       "  margin: .5ex;\n",
       "  width: min-content;\n",
       "  min-width: 20ex;\n",
       "  max-width: 50ex;\n",
       "  color: var(--sklearn-color-text);\n",
       "  box-shadow: 2pt 2pt 4pt #999;\n",
       "  /* unfitted */\n",
       "  background: var(--sklearn-color-unfitted-level-0);\n",
       "  border: .5pt solid var(--sklearn-color-unfitted-level-3);\n",
       "}\n",
       "\n",
       ".sk-estimator-doc-link.fitted span {\n",
       "  /* fitted */\n",
       "  background: var(--sklearn-color-fitted-level-0);\n",
       "  border: var(--sklearn-color-fitted-level-3);\n",
       "}\n",
       "\n",
       ".sk-estimator-doc-link:hover span {\n",
       "  display: block;\n",
       "}\n",
       "\n",
       "/* \"?\"-specific style due to the `<a>` HTML tag */\n",
       "\n",
       "#sk-container-id-1 a.estimator_doc_link {\n",
       "  float: right;\n",
       "  font-size: 1rem;\n",
       "  line-height: 1em;\n",
       "  font-family: monospace;\n",
       "  background-color: var(--sklearn-color-background);\n",
       "  border-radius: 1rem;\n",
       "  height: 1rem;\n",
       "  width: 1rem;\n",
       "  text-decoration: none;\n",
       "  /* unfitted */\n",
       "  color: var(--sklearn-color-unfitted-level-1);\n",
       "  border: var(--sklearn-color-unfitted-level-1) 1pt solid;\n",
       "}\n",
       "\n",
       "#sk-container-id-1 a.estimator_doc_link.fitted {\n",
       "  /* fitted */\n",
       "  border: var(--sklearn-color-fitted-level-1) 1pt solid;\n",
       "  color: var(--sklearn-color-fitted-level-1);\n",
       "}\n",
       "\n",
       "/* On hover */\n",
       "#sk-container-id-1 a.estimator_doc_link:hover {\n",
       "  /* unfitted */\n",
       "  background-color: var(--sklearn-color-unfitted-level-3);\n",
       "  color: var(--sklearn-color-background);\n",
       "  text-decoration: none;\n",
       "}\n",
       "\n",
       "#sk-container-id-1 a.estimator_doc_link.fitted:hover {\n",
       "  /* fitted */\n",
       "  background-color: var(--sklearn-color-fitted-level-3);\n",
       "}\n",
       "</style><div id=\"sk-container-id-1\" class=\"sk-top-container\"><div class=\"sk-text-repr-fallback\"><pre>OneVsRestClassifier(estimator=LogisticRegression(class_weight=&#x27;balanced&#x27;,\n",
       "                                                 max_iter=1000))</pre><b>In a Jupyter environment, please rerun this cell to show the HTML representation or trust the notebook. <br />On GitHub, the HTML representation is unable to render, please try loading this page with nbviewer.org.</b></div><div class=\"sk-container\" hidden><div class=\"sk-item sk-dashed-wrapped\"><div class=\"sk-label-container\"><div class=\"sk-label fitted sk-toggleable\"><input class=\"sk-toggleable__control sk-hidden--visually\" id=\"sk-estimator-id-1\" type=\"checkbox\" ><label for=\"sk-estimator-id-1\" class=\"sk-toggleable__label fitted sk-toggleable__label-arrow fitted\">&nbsp;&nbsp;OneVsRestClassifier<a class=\"sk-estimator-doc-link fitted\" rel=\"noreferrer\" target=\"_blank\" href=\"https://scikit-learn.org/1.5/modules/generated/sklearn.multiclass.OneVsRestClassifier.html\">?<span>Documentation for OneVsRestClassifier</span></a><span class=\"sk-estimator-doc-link fitted\">i<span>Fitted</span></span></label><div class=\"sk-toggleable__content fitted\"><pre>OneVsRestClassifier(estimator=LogisticRegression(class_weight=&#x27;balanced&#x27;,\n",
       "                                                 max_iter=1000))</pre></div> </div></div><div class=\"sk-parallel\"><div class=\"sk-parallel-item\"><div class=\"sk-item\"><div class=\"sk-label-container\"><div class=\"sk-label fitted sk-toggleable\"><input class=\"sk-toggleable__control sk-hidden--visually\" id=\"sk-estimator-id-2\" type=\"checkbox\" ><label for=\"sk-estimator-id-2\" class=\"sk-toggleable__label fitted sk-toggleable__label-arrow fitted\">estimator: LogisticRegression</label><div class=\"sk-toggleable__content fitted\"><pre>LogisticRegression(class_weight=&#x27;balanced&#x27;, max_iter=1000)</pre></div> </div></div><div class=\"sk-serial\"><div class=\"sk-item\"><div class=\"sk-estimator fitted sk-toggleable\"><input class=\"sk-toggleable__control sk-hidden--visually\" id=\"sk-estimator-id-3\" type=\"checkbox\" ><label for=\"sk-estimator-id-3\" class=\"sk-toggleable__label fitted sk-toggleable__label-arrow fitted\">&nbsp;LogisticRegression<a class=\"sk-estimator-doc-link fitted\" rel=\"noreferrer\" target=\"_blank\" href=\"https://scikit-learn.org/1.5/modules/generated/sklearn.linear_model.LogisticRegression.html\">?<span>Documentation for LogisticRegression</span></a></label><div class=\"sk-toggleable__content fitted\"><pre>LogisticRegression(class_weight=&#x27;balanced&#x27;, max_iter=1000)</pre></div> </div></div></div></div></div></div></div></div></div>"
      ],
      "text/plain": [
       "OneVsRestClassifier(estimator=LogisticRegression(class_weight='balanced',\n",
       "                                                 max_iter=1000))"
      ]
     },
     "execution_count": 41,
     "metadata": {},
     "output_type": "execute_result"
    }
   ],
   "source": [
    "ovr_logistic.fit(train_embeddings, y_train_nar)"
   ]
  },
  {
   "cell_type": "code",
   "execution_count": 42,
   "metadata": {},
   "outputs": [],
   "source": [
    "from sklearn.model_selection import StratifiedKFold, cross_val_score\n",
    "\n",
    "def evaluate_model(model, x, y_true, show_confusion=True):\n",
    "  y_pred = model.predict(x)\n",
    "  classification_report_df = get_classification_report(y_true, y_pred)\n",
    "  print(classification_report_df)\n",
    "  print('\\n')\n",
    "  if show_confusion: conf = plot_confusion_matrix(y_true, y_pred)\n",
    "\n",
    "def get_cross_val_score(model, x, y, scoring='f1_macro', splits=3):\n",
    "  cv = StratifiedKFold(n_splits=splits, shuffle=True)\n",
    "  cross_val_scores = cross_val_score(model, x, y, cv=cv, scoring=scoring)\n",
    "  print(f\"Cross-validation scores: {cross_val_scores}\")\n",
    "  print(f\"Mean CV F1 Score: {cross_val_scores.mean()}\")"
   ]
  },
  {
   "cell_type": "code",
   "execution_count": 43,
   "metadata": {},
   "outputs": [
    {
     "name": "stdout",
     "output_type": "stream",
     "text": [
      "              precision    recall  f1-score  support\n",
      "0              0.250000  0.600000  0.352941      5.0\n",
      "1              0.090909  0.250000  0.133333      4.0\n",
      "2              0.000000  0.000000  0.000000      1.0\n",
      "3              0.666667  1.000000  0.800000      2.0\n",
      "4              0.428571  1.000000  0.600000      3.0\n",
      "5              0.200000  1.000000  0.333333      1.0\n",
      "6              0.444444  1.000000  0.615385      4.0\n",
      "7              0.166667  0.666667  0.266667      3.0\n",
      "8              0.352941  0.857143  0.500000      7.0\n",
      "9              0.250000  1.000000  0.400000      1.0\n",
      "10             0.000000  0.000000  0.000000      1.0\n",
      "11             0.000000  0.000000  0.000000      0.0\n",
      "12             0.250000  0.666667  0.363636      3.0\n",
      "13             0.333333  1.000000  0.500000      1.0\n",
      "14             0.785714  0.611111  0.687500     18.0\n",
      "15             0.125000  0.500000  0.200000      2.0\n",
      "16             0.000000  0.000000  0.000000      1.0\n",
      "17             0.000000  0.000000  0.000000      1.0\n",
      "18             0.230769  1.000000  0.375000      3.0\n",
      "19             0.200000  1.000000  0.333333      2.0\n",
      "micro avg      0.286667  0.682540  0.403756     63.0\n",
      "macro avg      0.238751  0.607579  0.323056     63.0\n",
      "weighted avg   0.412691  0.682540  0.465881     63.0\n",
      "samples avg    0.397072  0.649550  0.448147     63.0\n",
      "\n",
      "\n"
     ]
    }
   ],
   "source": [
    "evaluate_model(ovr_logistic, val_embeddings, y_val_nar, False)"
   ]
  },
  {
   "cell_type": "code",
   "execution_count": 44,
   "metadata": {},
   "outputs": [
    {
     "name": "stderr",
     "output_type": "stream",
     "text": [
      "/Library/Frameworks/Python.framework/Versions/3.12/lib/python3.12/site-packages/sklearn/multiclass.py:90: UserWarning: Label not 2 is present in all training examples.\n",
      "  warnings.warn(\n"
     ]
    },
    {
     "data": {
      "text/html": [
       "<style>#sk-container-id-2 {\n",
       "  /* Definition of color scheme common for light and dark mode */\n",
       "  --sklearn-color-text: black;\n",
       "  --sklearn-color-line: gray;\n",
       "  /* Definition of color scheme for unfitted estimators */\n",
       "  --sklearn-color-unfitted-level-0: #fff5e6;\n",
       "  --sklearn-color-unfitted-level-1: #f6e4d2;\n",
       "  --sklearn-color-unfitted-level-2: #ffe0b3;\n",
       "  --sklearn-color-unfitted-level-3: chocolate;\n",
       "  /* Definition of color scheme for fitted estimators */\n",
       "  --sklearn-color-fitted-level-0: #f0f8ff;\n",
       "  --sklearn-color-fitted-level-1: #d4ebff;\n",
       "  --sklearn-color-fitted-level-2: #b3dbfd;\n",
       "  --sklearn-color-fitted-level-3: cornflowerblue;\n",
       "\n",
       "  /* Specific color for light theme */\n",
       "  --sklearn-color-text-on-default-background: var(--sg-text-color, var(--theme-code-foreground, var(--jp-content-font-color1, black)));\n",
       "  --sklearn-color-background: var(--sg-background-color, var(--theme-background, var(--jp-layout-color0, white)));\n",
       "  --sklearn-color-border-box: var(--sg-text-color, var(--theme-code-foreground, var(--jp-content-font-color1, black)));\n",
       "  --sklearn-color-icon: #696969;\n",
       "\n",
       "  @media (prefers-color-scheme: dark) {\n",
       "    /* Redefinition of color scheme for dark theme */\n",
       "    --sklearn-color-text-on-default-background: var(--sg-text-color, var(--theme-code-foreground, var(--jp-content-font-color1, white)));\n",
       "    --sklearn-color-background: var(--sg-background-color, var(--theme-background, var(--jp-layout-color0, #111)));\n",
       "    --sklearn-color-border-box: var(--sg-text-color, var(--theme-code-foreground, var(--jp-content-font-color1, white)));\n",
       "    --sklearn-color-icon: #878787;\n",
       "  }\n",
       "}\n",
       "\n",
       "#sk-container-id-2 {\n",
       "  color: var(--sklearn-color-text);\n",
       "}\n",
       "\n",
       "#sk-container-id-2 pre {\n",
       "  padding: 0;\n",
       "}\n",
       "\n",
       "#sk-container-id-2 input.sk-hidden--visually {\n",
       "  border: 0;\n",
       "  clip: rect(1px 1px 1px 1px);\n",
       "  clip: rect(1px, 1px, 1px, 1px);\n",
       "  height: 1px;\n",
       "  margin: -1px;\n",
       "  overflow: hidden;\n",
       "  padding: 0;\n",
       "  position: absolute;\n",
       "  width: 1px;\n",
       "}\n",
       "\n",
       "#sk-container-id-2 div.sk-dashed-wrapped {\n",
       "  border: 1px dashed var(--sklearn-color-line);\n",
       "  margin: 0 0.4em 0.5em 0.4em;\n",
       "  box-sizing: border-box;\n",
       "  padding-bottom: 0.4em;\n",
       "  background-color: var(--sklearn-color-background);\n",
       "}\n",
       "\n",
       "#sk-container-id-2 div.sk-container {\n",
       "  /* jupyter's `normalize.less` sets `[hidden] { display: none; }`\n",
       "     but bootstrap.min.css set `[hidden] { display: none !important; }`\n",
       "     so we also need the `!important` here to be able to override the\n",
       "     default hidden behavior on the sphinx rendered scikit-learn.org.\n",
       "     See: https://github.com/scikit-learn/scikit-learn/issues/21755 */\n",
       "  display: inline-block !important;\n",
       "  position: relative;\n",
       "}\n",
       "\n",
       "#sk-container-id-2 div.sk-text-repr-fallback {\n",
       "  display: none;\n",
       "}\n",
       "\n",
       "div.sk-parallel-item,\n",
       "div.sk-serial,\n",
       "div.sk-item {\n",
       "  /* draw centered vertical line to link estimators */\n",
       "  background-image: linear-gradient(var(--sklearn-color-text-on-default-background), var(--sklearn-color-text-on-default-background));\n",
       "  background-size: 2px 100%;\n",
       "  background-repeat: no-repeat;\n",
       "  background-position: center center;\n",
       "}\n",
       "\n",
       "/* Parallel-specific style estimator block */\n",
       "\n",
       "#sk-container-id-2 div.sk-parallel-item::after {\n",
       "  content: \"\";\n",
       "  width: 100%;\n",
       "  border-bottom: 2px solid var(--sklearn-color-text-on-default-background);\n",
       "  flex-grow: 1;\n",
       "}\n",
       "\n",
       "#sk-container-id-2 div.sk-parallel {\n",
       "  display: flex;\n",
       "  align-items: stretch;\n",
       "  justify-content: center;\n",
       "  background-color: var(--sklearn-color-background);\n",
       "  position: relative;\n",
       "}\n",
       "\n",
       "#sk-container-id-2 div.sk-parallel-item {\n",
       "  display: flex;\n",
       "  flex-direction: column;\n",
       "}\n",
       "\n",
       "#sk-container-id-2 div.sk-parallel-item:first-child::after {\n",
       "  align-self: flex-end;\n",
       "  width: 50%;\n",
       "}\n",
       "\n",
       "#sk-container-id-2 div.sk-parallel-item:last-child::after {\n",
       "  align-self: flex-start;\n",
       "  width: 50%;\n",
       "}\n",
       "\n",
       "#sk-container-id-2 div.sk-parallel-item:only-child::after {\n",
       "  width: 0;\n",
       "}\n",
       "\n",
       "/* Serial-specific style estimator block */\n",
       "\n",
       "#sk-container-id-2 div.sk-serial {\n",
       "  display: flex;\n",
       "  flex-direction: column;\n",
       "  align-items: center;\n",
       "  background-color: var(--sklearn-color-background);\n",
       "  padding-right: 1em;\n",
       "  padding-left: 1em;\n",
       "}\n",
       "\n",
       "\n",
       "/* Toggleable style: style used for estimator/Pipeline/ColumnTransformer box that is\n",
       "clickable and can be expanded/collapsed.\n",
       "- Pipeline and ColumnTransformer use this feature and define the default style\n",
       "- Estimators will overwrite some part of the style using the `sk-estimator` class\n",
       "*/\n",
       "\n",
       "/* Pipeline and ColumnTransformer style (default) */\n",
       "\n",
       "#sk-container-id-2 div.sk-toggleable {\n",
       "  /* Default theme specific background. It is overwritten whether we have a\n",
       "  specific estimator or a Pipeline/ColumnTransformer */\n",
       "  background-color: var(--sklearn-color-background);\n",
       "}\n",
       "\n",
       "/* Toggleable label */\n",
       "#sk-container-id-2 label.sk-toggleable__label {\n",
       "  cursor: pointer;\n",
       "  display: block;\n",
       "  width: 100%;\n",
       "  margin-bottom: 0;\n",
       "  padding: 0.5em;\n",
       "  box-sizing: border-box;\n",
       "  text-align: center;\n",
       "}\n",
       "\n",
       "#sk-container-id-2 label.sk-toggleable__label-arrow:before {\n",
       "  /* Arrow on the left of the label */\n",
       "  content: \"▸\";\n",
       "  float: left;\n",
       "  margin-right: 0.25em;\n",
       "  color: var(--sklearn-color-icon);\n",
       "}\n",
       "\n",
       "#sk-container-id-2 label.sk-toggleable__label-arrow:hover:before {\n",
       "  color: var(--sklearn-color-text);\n",
       "}\n",
       "\n",
       "/* Toggleable content - dropdown */\n",
       "\n",
       "#sk-container-id-2 div.sk-toggleable__content {\n",
       "  max-height: 0;\n",
       "  max-width: 0;\n",
       "  overflow: hidden;\n",
       "  text-align: left;\n",
       "  /* unfitted */\n",
       "  background-color: var(--sklearn-color-unfitted-level-0);\n",
       "}\n",
       "\n",
       "#sk-container-id-2 div.sk-toggleable__content.fitted {\n",
       "  /* fitted */\n",
       "  background-color: var(--sklearn-color-fitted-level-0);\n",
       "}\n",
       "\n",
       "#sk-container-id-2 div.sk-toggleable__content pre {\n",
       "  margin: 0.2em;\n",
       "  border-radius: 0.25em;\n",
       "  color: var(--sklearn-color-text);\n",
       "  /* unfitted */\n",
       "  background-color: var(--sklearn-color-unfitted-level-0);\n",
       "}\n",
       "\n",
       "#sk-container-id-2 div.sk-toggleable__content.fitted pre {\n",
       "  /* unfitted */\n",
       "  background-color: var(--sklearn-color-fitted-level-0);\n",
       "}\n",
       "\n",
       "#sk-container-id-2 input.sk-toggleable__control:checked~div.sk-toggleable__content {\n",
       "  /* Expand drop-down */\n",
       "  max-height: 200px;\n",
       "  max-width: 100%;\n",
       "  overflow: auto;\n",
       "}\n",
       "\n",
       "#sk-container-id-2 input.sk-toggleable__control:checked~label.sk-toggleable__label-arrow:before {\n",
       "  content: \"▾\";\n",
       "}\n",
       "\n",
       "/* Pipeline/ColumnTransformer-specific style */\n",
       "\n",
       "#sk-container-id-2 div.sk-label input.sk-toggleable__control:checked~label.sk-toggleable__label {\n",
       "  color: var(--sklearn-color-text);\n",
       "  background-color: var(--sklearn-color-unfitted-level-2);\n",
       "}\n",
       "\n",
       "#sk-container-id-2 div.sk-label.fitted input.sk-toggleable__control:checked~label.sk-toggleable__label {\n",
       "  background-color: var(--sklearn-color-fitted-level-2);\n",
       "}\n",
       "\n",
       "/* Estimator-specific style */\n",
       "\n",
       "/* Colorize estimator box */\n",
       "#sk-container-id-2 div.sk-estimator input.sk-toggleable__control:checked~label.sk-toggleable__label {\n",
       "  /* unfitted */\n",
       "  background-color: var(--sklearn-color-unfitted-level-2);\n",
       "}\n",
       "\n",
       "#sk-container-id-2 div.sk-estimator.fitted input.sk-toggleable__control:checked~label.sk-toggleable__label {\n",
       "  /* fitted */\n",
       "  background-color: var(--sklearn-color-fitted-level-2);\n",
       "}\n",
       "\n",
       "#sk-container-id-2 div.sk-label label.sk-toggleable__label,\n",
       "#sk-container-id-2 div.sk-label label {\n",
       "  /* The background is the default theme color */\n",
       "  color: var(--sklearn-color-text-on-default-background);\n",
       "}\n",
       "\n",
       "/* On hover, darken the color of the background */\n",
       "#sk-container-id-2 div.sk-label:hover label.sk-toggleable__label {\n",
       "  color: var(--sklearn-color-text);\n",
       "  background-color: var(--sklearn-color-unfitted-level-2);\n",
       "}\n",
       "\n",
       "/* Label box, darken color on hover, fitted */\n",
       "#sk-container-id-2 div.sk-label.fitted:hover label.sk-toggleable__label.fitted {\n",
       "  color: var(--sklearn-color-text);\n",
       "  background-color: var(--sklearn-color-fitted-level-2);\n",
       "}\n",
       "\n",
       "/* Estimator label */\n",
       "\n",
       "#sk-container-id-2 div.sk-label label {\n",
       "  font-family: monospace;\n",
       "  font-weight: bold;\n",
       "  display: inline-block;\n",
       "  line-height: 1.2em;\n",
       "}\n",
       "\n",
       "#sk-container-id-2 div.sk-label-container {\n",
       "  text-align: center;\n",
       "}\n",
       "\n",
       "/* Estimator-specific */\n",
       "#sk-container-id-2 div.sk-estimator {\n",
       "  font-family: monospace;\n",
       "  border: 1px dotted var(--sklearn-color-border-box);\n",
       "  border-radius: 0.25em;\n",
       "  box-sizing: border-box;\n",
       "  margin-bottom: 0.5em;\n",
       "  /* unfitted */\n",
       "  background-color: var(--sklearn-color-unfitted-level-0);\n",
       "}\n",
       "\n",
       "#sk-container-id-2 div.sk-estimator.fitted {\n",
       "  /* fitted */\n",
       "  background-color: var(--sklearn-color-fitted-level-0);\n",
       "}\n",
       "\n",
       "/* on hover */\n",
       "#sk-container-id-2 div.sk-estimator:hover {\n",
       "  /* unfitted */\n",
       "  background-color: var(--sklearn-color-unfitted-level-2);\n",
       "}\n",
       "\n",
       "#sk-container-id-2 div.sk-estimator.fitted:hover {\n",
       "  /* fitted */\n",
       "  background-color: var(--sklearn-color-fitted-level-2);\n",
       "}\n",
       "\n",
       "/* Specification for estimator info (e.g. \"i\" and \"?\") */\n",
       "\n",
       "/* Common style for \"i\" and \"?\" */\n",
       "\n",
       ".sk-estimator-doc-link,\n",
       "a:link.sk-estimator-doc-link,\n",
       "a:visited.sk-estimator-doc-link {\n",
       "  float: right;\n",
       "  font-size: smaller;\n",
       "  line-height: 1em;\n",
       "  font-family: monospace;\n",
       "  background-color: var(--sklearn-color-background);\n",
       "  border-radius: 1em;\n",
       "  height: 1em;\n",
       "  width: 1em;\n",
       "  text-decoration: none !important;\n",
       "  margin-left: 1ex;\n",
       "  /* unfitted */\n",
       "  border: var(--sklearn-color-unfitted-level-1) 1pt solid;\n",
       "  color: var(--sklearn-color-unfitted-level-1);\n",
       "}\n",
       "\n",
       ".sk-estimator-doc-link.fitted,\n",
       "a:link.sk-estimator-doc-link.fitted,\n",
       "a:visited.sk-estimator-doc-link.fitted {\n",
       "  /* fitted */\n",
       "  border: var(--sklearn-color-fitted-level-1) 1pt solid;\n",
       "  color: var(--sklearn-color-fitted-level-1);\n",
       "}\n",
       "\n",
       "/* On hover */\n",
       "div.sk-estimator:hover .sk-estimator-doc-link:hover,\n",
       ".sk-estimator-doc-link:hover,\n",
       "div.sk-label-container:hover .sk-estimator-doc-link:hover,\n",
       ".sk-estimator-doc-link:hover {\n",
       "  /* unfitted */\n",
       "  background-color: var(--sklearn-color-unfitted-level-3);\n",
       "  color: var(--sklearn-color-background);\n",
       "  text-decoration: none;\n",
       "}\n",
       "\n",
       "div.sk-estimator.fitted:hover .sk-estimator-doc-link.fitted:hover,\n",
       ".sk-estimator-doc-link.fitted:hover,\n",
       "div.sk-label-container:hover .sk-estimator-doc-link.fitted:hover,\n",
       ".sk-estimator-doc-link.fitted:hover {\n",
       "  /* fitted */\n",
       "  background-color: var(--sklearn-color-fitted-level-3);\n",
       "  color: var(--sklearn-color-background);\n",
       "  text-decoration: none;\n",
       "}\n",
       "\n",
       "/* Span, style for the box shown on hovering the info icon */\n",
       ".sk-estimator-doc-link span {\n",
       "  display: none;\n",
       "  z-index: 9999;\n",
       "  position: relative;\n",
       "  font-weight: normal;\n",
       "  right: .2ex;\n",
       "  padding: .5ex;\n",
       "  margin: .5ex;\n",
       "  width: min-content;\n",
       "  min-width: 20ex;\n",
       "  max-width: 50ex;\n",
       "  color: var(--sklearn-color-text);\n",
       "  box-shadow: 2pt 2pt 4pt #999;\n",
       "  /* unfitted */\n",
       "  background: var(--sklearn-color-unfitted-level-0);\n",
       "  border: .5pt solid var(--sklearn-color-unfitted-level-3);\n",
       "}\n",
       "\n",
       ".sk-estimator-doc-link.fitted span {\n",
       "  /* fitted */\n",
       "  background: var(--sklearn-color-fitted-level-0);\n",
       "  border: var(--sklearn-color-fitted-level-3);\n",
       "}\n",
       "\n",
       ".sk-estimator-doc-link:hover span {\n",
       "  display: block;\n",
       "}\n",
       "\n",
       "/* \"?\"-specific style due to the `<a>` HTML tag */\n",
       "\n",
       "#sk-container-id-2 a.estimator_doc_link {\n",
       "  float: right;\n",
       "  font-size: 1rem;\n",
       "  line-height: 1em;\n",
       "  font-family: monospace;\n",
       "  background-color: var(--sklearn-color-background);\n",
       "  border-radius: 1rem;\n",
       "  height: 1rem;\n",
       "  width: 1rem;\n",
       "  text-decoration: none;\n",
       "  /* unfitted */\n",
       "  color: var(--sklearn-color-unfitted-level-1);\n",
       "  border: var(--sklearn-color-unfitted-level-1) 1pt solid;\n",
       "}\n",
       "\n",
       "#sk-container-id-2 a.estimator_doc_link.fitted {\n",
       "  /* fitted */\n",
       "  border: var(--sklearn-color-fitted-level-1) 1pt solid;\n",
       "  color: var(--sklearn-color-fitted-level-1);\n",
       "}\n",
       "\n",
       "/* On hover */\n",
       "#sk-container-id-2 a.estimator_doc_link:hover {\n",
       "  /* unfitted */\n",
       "  background-color: var(--sklearn-color-unfitted-level-3);\n",
       "  color: var(--sklearn-color-background);\n",
       "  text-decoration: none;\n",
       "}\n",
       "\n",
       "#sk-container-id-2 a.estimator_doc_link.fitted:hover {\n",
       "  /* fitted */\n",
       "  background-color: var(--sklearn-color-fitted-level-3);\n",
       "}\n",
       "</style><div id=\"sk-container-id-2\" class=\"sk-top-container\"><div class=\"sk-text-repr-fallback\"><pre>OneVsRestClassifier(estimator=KNeighborsClassifier(metric=&#x27;cosine&#x27;))</pre><b>In a Jupyter environment, please rerun this cell to show the HTML representation or trust the notebook. <br />On GitHub, the HTML representation is unable to render, please try loading this page with nbviewer.org.</b></div><div class=\"sk-container\" hidden><div class=\"sk-item sk-dashed-wrapped\"><div class=\"sk-label-container\"><div class=\"sk-label fitted sk-toggleable\"><input class=\"sk-toggleable__control sk-hidden--visually\" id=\"sk-estimator-id-4\" type=\"checkbox\" ><label for=\"sk-estimator-id-4\" class=\"sk-toggleable__label fitted sk-toggleable__label-arrow fitted\">&nbsp;&nbsp;OneVsRestClassifier<a class=\"sk-estimator-doc-link fitted\" rel=\"noreferrer\" target=\"_blank\" href=\"https://scikit-learn.org/1.5/modules/generated/sklearn.multiclass.OneVsRestClassifier.html\">?<span>Documentation for OneVsRestClassifier</span></a><span class=\"sk-estimator-doc-link fitted\">i<span>Fitted</span></span></label><div class=\"sk-toggleable__content fitted\"><pre>OneVsRestClassifier(estimator=KNeighborsClassifier(metric=&#x27;cosine&#x27;))</pre></div> </div></div><div class=\"sk-parallel\"><div class=\"sk-parallel-item\"><div class=\"sk-item\"><div class=\"sk-label-container\"><div class=\"sk-label fitted sk-toggleable\"><input class=\"sk-toggleable__control sk-hidden--visually\" id=\"sk-estimator-id-5\" type=\"checkbox\" ><label for=\"sk-estimator-id-5\" class=\"sk-toggleable__label fitted sk-toggleable__label-arrow fitted\">estimator: KNeighborsClassifier</label><div class=\"sk-toggleable__content fitted\"><pre>KNeighborsClassifier(metric=&#x27;cosine&#x27;)</pre></div> </div></div><div class=\"sk-serial\"><div class=\"sk-item\"><div class=\"sk-estimator fitted sk-toggleable\"><input class=\"sk-toggleable__control sk-hidden--visually\" id=\"sk-estimator-id-6\" type=\"checkbox\" ><label for=\"sk-estimator-id-6\" class=\"sk-toggleable__label fitted sk-toggleable__label-arrow fitted\">&nbsp;KNeighborsClassifier<a class=\"sk-estimator-doc-link fitted\" rel=\"noreferrer\" target=\"_blank\" href=\"https://scikit-learn.org/1.5/modules/generated/sklearn.neighbors.KNeighborsClassifier.html\">?<span>Documentation for KNeighborsClassifier</span></a></label><div class=\"sk-toggleable__content fitted\"><pre>KNeighborsClassifier(metric=&#x27;cosine&#x27;)</pre></div> </div></div></div></div></div></div></div></div></div>"
      ],
      "text/plain": [
       "OneVsRestClassifier(estimator=KNeighborsClassifier(metric='cosine'))"
      ]
     },
     "execution_count": 44,
     "metadata": {},
     "output_type": "execute_result"
    }
   ],
   "source": [
    "from sklearn.neighbors import KNeighborsClassifier\n",
    "\n",
    "knn = KNeighborsClassifier(n_neighbors=5, metric='cosine')\n",
    "\n",
    "ovr_knn = OneVsRestClassifier(knn)\n",
    "\n",
    "ovr_knn.fit(train_embeddings, y_train_nar)"
   ]
  },
  {
   "cell_type": "code",
   "execution_count": 45,
   "metadata": {},
   "outputs": [
    {
     "name": "stdout",
     "output_type": "stream",
     "text": [
      "              precision    recall  f1-score  support\n",
      "0              0.400000  0.400000  0.400000      5.0\n",
      "1              0.000000  0.000000  0.000000      4.0\n",
      "2              0.000000  0.000000  0.000000      1.0\n",
      "3              0.000000  0.000000  0.000000      2.0\n",
      "4              0.000000  0.000000  0.000000      3.0\n",
      "5              0.500000  1.000000  0.666667      1.0\n",
      "6              1.000000  0.250000  0.400000      4.0\n",
      "7              0.000000  0.000000  0.000000      3.0\n",
      "8              0.285714  0.285714  0.285714      7.0\n",
      "9              0.000000  0.000000  0.000000      1.0\n",
      "10             0.000000  0.000000  0.000000      1.0\n",
      "11             0.000000  0.000000  0.000000      0.0\n",
      "12             0.000000  0.000000  0.000000      3.0\n",
      "13             0.000000  0.000000  0.000000      1.0\n",
      "14             0.888889  0.444444  0.592593     18.0\n",
      "15             0.000000  0.000000  0.000000      2.0\n",
      "16             0.000000  0.000000  0.000000      1.0\n",
      "17             0.000000  0.000000  0.000000      1.0\n",
      "18             0.500000  0.333333  0.400000      3.0\n",
      "19             0.000000  0.000000  0.000000      2.0\n",
      "micro avg      0.454545  0.238095  0.312500     63.0\n",
      "macro avg      0.178730  0.135675  0.137249     63.0\n",
      "weighted avg   0.412698  0.238095  0.287831     63.0\n",
      "samples avg    0.364865  0.325225  0.333333     63.0\n",
      "\n",
      "\n"
     ]
    }
   ],
   "source": [
    "evaluate_model(ovr_knn, val_embeddings, y_val_nar, False)"
   ]
  },
  {
   "cell_type": "markdown",
   "metadata": {},
   "source": [
    "### Fine-tuning BERT to predict narratives"
   ]
  },
  {
   "cell_type": "code",
   "execution_count": 46,
   "metadata": {},
   "outputs": [
    {
     "name": "stderr",
     "output_type": "stream",
     "text": [
      "/Library/Frameworks/Python.framework/Versions/3.12/lib/python3.12/site-packages/transformers/tokenization_utils_base.py:1602: FutureWarning: `clean_up_tokenization_spaces` was not set. It will be set to `True` by default. This behavior will be deprecated in transformers v4.45, and will be then set to `False` by default. For more details check this issue: https://github.com/huggingface/transformers/issues/31884\n",
      "  warnings.warn(\n"
     ]
    }
   ],
   "source": [
    "from transformers import AutoTokenizer, AutoModel\n",
    "tokenizer = AutoTokenizer.from_pretrained(\"bert-base-uncased\")\n",
    "model = AutoModel.from_pretrained(\"bert-base-uncased\")"
   ]
  },
  {
   "cell_type": "code",
   "execution_count": 47,
   "metadata": {},
   "outputs": [
    {
     "data": {
      "text/html": [
       "<div>\n",
       "<style scoped>\n",
       "    .dataframe tbody tr th:only-of-type {\n",
       "        vertical-align: middle;\n",
       "    }\n",
       "\n",
       "    .dataframe tbody tr th {\n",
       "        vertical-align: top;\n",
       "    }\n",
       "\n",
       "    .dataframe thead th {\n",
       "        text-align: right;\n",
       "    }\n",
       "</style>\n",
       "<table border=\"1\" class=\"dataframe\">\n",
       "  <thead>\n",
       "    <tr style=\"text-align: right;\">\n",
       "      <th></th>\n",
       "      <th>article_id</th>\n",
       "      <th>content</th>\n",
       "      <th>narratives</th>\n",
       "      <th>subnarratives</th>\n",
       "      <th>narratives_encoded</th>\n",
       "      <th>subnarratives_encoded</th>\n",
       "      <th>cleaned_content</th>\n",
       "    </tr>\n",
       "  </thead>\n",
       "  <tbody>\n",
       "    <tr>\n",
       "      <th>0</th>\n",
       "      <td>025165</td>\n",
       "      <td>Zelensky Says US Politicians ‘Don’t Care About...</td>\n",
       "      <td>[Discrediting the West, Diplomacy, Discreditin...</td>\n",
       "      <td>[The West does not care about Ukraine, only ab...</td>\n",
       "      <td>[0, 1, 0, 0, 0, 0, 0, 1, 1, 0, 0, 0, 0, 0, 0, ...</td>\n",
       "      <td>[0, 0, 0, 0, 0, 0, 0, 0, 0, 0, 0, 0, 0, 0, 0, ...</td>\n",
       "      <td>Zelensky Says US Politicians ‘Don’t Care About...</td>\n",
       "    </tr>\n",
       "    <tr>\n",
       "      <th>1</th>\n",
       "      <td>010901</td>\n",
       "      <td>G20 communique set to echo Modi's Ukraine line...</td>\n",
       "      <td>[Other]</td>\n",
       "      <td>[Other]</td>\n",
       "      <td>[0, 0, 0, 0, 0, 0, 0, 0, 0, 0, 0, 0, 0, 0, 1, ...</td>\n",
       "      <td>[0, 0, 0, 0, 0, 0, 0, 0, 0, 0, 0, 0, 0, 0, 0, ...</td>\n",
       "      <td>G20 communique set to echo Modi's Ukraine line...</td>\n",
       "    </tr>\n",
       "    <tr>\n",
       "      <th>3</th>\n",
       "      <td>100093</td>\n",
       "      <td>Disease X is a ‘blueprint’ for future pandemic...</td>\n",
       "      <td>[Other]</td>\n",
       "      <td>[Other]</td>\n",
       "      <td>[0, 0, 0, 0, 0, 0, 0, 0, 0, 0, 0, 0, 0, 0, 1, ...</td>\n",
       "      <td>[0, 0, 0, 0, 0, 0, 0, 0, 0, 0, 0, 0, 0, 0, 0, ...</td>\n",
       "      <td>Disease X is a ‘blueprint’ for future pandemic...</td>\n",
       "    </tr>\n",
       "    <tr>\n",
       "      <th>4</th>\n",
       "      <td>103861</td>\n",
       "      <td>The World Needs Peacemaker Trump Again \\n\\n by...</td>\n",
       "      <td>[Other]</td>\n",
       "      <td>[Other]</td>\n",
       "      <td>[0, 0, 0, 0, 0, 0, 0, 0, 0, 0, 0, 0, 0, 0, 1, ...</td>\n",
       "      <td>[0, 0, 0, 0, 0, 0, 0, 0, 0, 0, 0, 0, 0, 0, 0, ...</td>\n",
       "      <td>The World Needs Peacemaker Trump Again by Jeff...</td>\n",
       "    </tr>\n",
       "    <tr>\n",
       "      <th>5</th>\n",
       "      <td>101954</td>\n",
       "      <td>A 'Watershed Event': Five Takeaways From Israe...</td>\n",
       "      <td>[Other]</td>\n",
       "      <td>[Other]</td>\n",
       "      <td>[0, 0, 0, 0, 0, 0, 0, 0, 0, 0, 0, 0, 0, 0, 1, ...</td>\n",
       "      <td>[0, 0, 0, 0, 0, 0, 0, 0, 0, 0, 0, 0, 0, 0, 0, ...</td>\n",
       "      <td>A 'Watershed Event': Five Takeaways From Israe...</td>\n",
       "    </tr>\n",
       "  </tbody>\n",
       "</table>\n",
       "</div>"
      ],
      "text/plain": [
       "  article_id                                            content  \\\n",
       "0     025165  Zelensky Says US Politicians ‘Don’t Care About...   \n",
       "1     010901  G20 communique set to echo Modi's Ukraine line...   \n",
       "3     100093  Disease X is a ‘blueprint’ for future pandemic...   \n",
       "4     103861  The World Needs Peacemaker Trump Again \\n\\n by...   \n",
       "5     101954  A 'Watershed Event': Five Takeaways From Israe...   \n",
       "\n",
       "                                          narratives  \\\n",
       "0  [Discrediting the West, Diplomacy, Discreditin...   \n",
       "1                                            [Other]   \n",
       "3                                            [Other]   \n",
       "4                                            [Other]   \n",
       "5                                            [Other]   \n",
       "\n",
       "                                       subnarratives  \\\n",
       "0  [The West does not care about Ukraine, only ab...   \n",
       "1                                            [Other]   \n",
       "3                                            [Other]   \n",
       "4                                            [Other]   \n",
       "5                                            [Other]   \n",
       "\n",
       "                                  narratives_encoded  \\\n",
       "0  [0, 1, 0, 0, 0, 0, 0, 1, 1, 0, 0, 0, 0, 0, 0, ...   \n",
       "1  [0, 0, 0, 0, 0, 0, 0, 0, 0, 0, 0, 0, 0, 0, 1, ...   \n",
       "3  [0, 0, 0, 0, 0, 0, 0, 0, 0, 0, 0, 0, 0, 0, 1, ...   \n",
       "4  [0, 0, 0, 0, 0, 0, 0, 0, 0, 0, 0, 0, 0, 0, 1, ...   \n",
       "5  [0, 0, 0, 0, 0, 0, 0, 0, 0, 0, 0, 0, 0, 0, 1, ...   \n",
       "\n",
       "                               subnarratives_encoded  \\\n",
       "0  [0, 0, 0, 0, 0, 0, 0, 0, 0, 0, 0, 0, 0, 0, 0, ...   \n",
       "1  [0, 0, 0, 0, 0, 0, 0, 0, 0, 0, 0, 0, 0, 0, 0, ...   \n",
       "3  [0, 0, 0, 0, 0, 0, 0, 0, 0, 0, 0, 0, 0, 0, 0, ...   \n",
       "4  [0, 0, 0, 0, 0, 0, 0, 0, 0, 0, 0, 0, 0, 0, 0, ...   \n",
       "5  [0, 0, 0, 0, 0, 0, 0, 0, 0, 0, 0, 0, 0, 0, 0, ...   \n",
       "\n",
       "                                     cleaned_content  \n",
       "0  Zelensky Says US Politicians ‘Don’t Care About...  \n",
       "1  G20 communique set to echo Modi's Ukraine line...  \n",
       "3  Disease X is a ‘blueprint’ for future pandemic...  \n",
       "4  The World Needs Peacemaker Trump Again by Jeff...  \n",
       "5  A 'Watershed Event': Five Takeaways From Israe...  "
      ]
     },
     "execution_count": 47,
     "metadata": {},
     "output_type": "execute_result"
    }
   ],
   "source": [
    "dataset_train.head()"
   ]
  },
  {
   "cell_type": "code",
   "execution_count": 48,
   "metadata": {},
   "outputs": [],
   "source": [
    "def tokenize_data(texts, max_length=512):\n",
    "    return tokenizer(texts, padding=\"max_length\", truncation=True, max_length=max_length, return_tensors=\"pt\")\n",
    "\n",
    "train_encodings = tokenize_data(dataset_train['cleaned_content'].tolist())\n",
    "val_encodings = tokenize_data(dataset_val['cleaned_content'].tolist())"
   ]
  },
  {
   "cell_type": "code",
   "execution_count": 49,
   "metadata": {},
   "outputs": [
    {
     "name": "stdout",
     "output_type": "stream",
     "text": [
      "0      [0, 1, 0, 0, 0, 0, 0, 1, 1, 0, 0, 0, 0, 0, 0, ...\n",
      "1      [0, 0, 0, 0, 0, 0, 0, 0, 0, 0, 0, 0, 0, 0, 1, ...\n",
      "3      [0, 0, 0, 0, 0, 0, 0, 0, 0, 0, 0, 0, 0, 0, 1, ...\n",
      "4      [0, 0, 0, 0, 0, 0, 0, 0, 0, 0, 0, 0, 0, 0, 1, ...\n",
      "5      [0, 0, 0, 0, 0, 0, 0, 0, 0, 0, 0, 0, 0, 0, 1, ...\n",
      "                             ...                        \n",
      "193    [0, 0, 0, 0, 0, 0, 0, 0, 0, 0, 0, 0, 0, 0, 1, ...\n",
      "195    [0, 0, 0, 0, 0, 0, 0, 0, 0, 0, 0, 0, 0, 0, 1, ...\n",
      "196    [0, 0, 0, 0, 0, 0, 0, 0, 0, 0, 0, 0, 0, 0, 1, ...\n",
      "198    [0, 0, 0, 0, 0, 0, 0, 0, 0, 0, 0, 0, 0, 0, 1, ...\n",
      "199    [0, 0, 0, 0, 0, 0, 0, 0, 0, 0, 0, 0, 0, 0, 1, ...\n",
      "Name: narratives_encoded, Length: 151, dtype: object\n"
     ]
    }
   ],
   "source": [
    "narrative_encodings = dataset_train['narratives_encoded']\n",
    "\n",
    "print(narrative_encodings)"
   ]
  },
  {
   "cell_type": "code",
   "execution_count": 50,
   "metadata": {},
   "outputs": [],
   "source": [
    "import torch\n",
    "from torch import nn\n",
    "\n",
    "class NarrativeClassificationBERT(nn.Module):\n",
    "    def __init__(self, bert_model, narrative_classes):\n",
    "        super(NarrativeClassificationBERT, self).__init__()\n",
    "        self.bert = bert_model\n",
    "        self.dropout = nn.Dropout(0.3)\n",
    "\n",
    "        hidden_size = self.bert.config.hidden_size\n",
    "        self.narrative_classifier = nn.Linear(hidden_size, narrative_classes)\n",
    "\n",
    "    def forward(self, input_ids, attention_mask):\n",
    "        outputs = self.bert(input_ids=input_ids, attention_mask=attention_mask, output_hidden_states=True)\n",
    "        pooled_output = outputs.pooler_output\n",
    "        pooled_output = self.dropout(pooled_output)\n",
    "\n",
    "        narrative_logits = self.narrative_classifier(pooled_output)\n",
    "        return narrative_logits"
   ]
  },
  {
   "cell_type": "code",
   "execution_count": 55,
   "metadata": {},
   "outputs": [],
   "source": [
    "import torch\n",
    "from torch.utils.data import Dataset\n",
    "\n",
    "class ArticleDataset(Dataset):\n",
    "    def __init__(self, encodings, narrative_labels):\n",
    "        self.encodings = encodings\n",
    "        self.narrative_labels = narrative_labels\n",
    "\n",
    "    def __getitem__(self, idx):\n",
    "        print(self.encodings)\n",
    "        item = {key: torch.tensor(val[idx]) for key, val in self.encodings.items()}\n",
    "        item['narrative_labels'] = torch.tensor(self.narrative_labels[idx], dtype=torch.float)\n",
    "        return item\n",
    "\n",
    "    def __len__(self):\n",
    "        return len(self.narrative_labels)\n",
    "\n",
    "train_dataset = ArticleDataset(\n",
    "    train_encodings,\n",
    "    dataset_train['narratives_encoded'].tolist()\n",
    ")\n",
    "\n",
    "val_dataset = ArticleDataset(\n",
    "    val_encodings,\n",
    "    dataset_val['narratives_encoded'].tolist()\n",
    ")"
   ]
  },
  {
   "cell_type": "code",
   "execution_count": 56,
   "metadata": {},
   "outputs": [
    {
     "data": {
      "text/plain": [
       "151"
      ]
     },
     "execution_count": 56,
     "metadata": {},
     "output_type": "execute_result"
    }
   ],
   "source": [
    "len(train_dataset)"
   ]
  },
  {
   "cell_type": "code",
   "execution_count": null,
   "metadata": {},
   "outputs": [],
   "source": [
    "from torch.nn.functional import binary_cross_entropy_with_logits\n",
    "\n",
    "def compute_loss(narrative_logits, narrative_labels, weights=None):\n",
    "    return binary_cross_entropy_with_logits(narrative_logits, narrative_labels, pos_weight=weights)"
   ]
  },
  {
   "cell_type": "code",
   "execution_count": 68,
   "metadata": {},
   "outputs": [
    {
     "data": {
      "text/plain": [
       "NarrativeClassificationBERT(\n",
       "  (bert): BertModel(\n",
       "    (embeddings): BertEmbeddings(\n",
       "      (word_embeddings): Embedding(30522, 768, padding_idx=0)\n",
       "      (position_embeddings): Embedding(512, 768)\n",
       "      (token_type_embeddings): Embedding(2, 768)\n",
       "      (LayerNorm): LayerNorm((768,), eps=1e-12, elementwise_affine=True)\n",
       "      (dropout): Dropout(p=0.1, inplace=False)\n",
       "    )\n",
       "    (encoder): BertEncoder(\n",
       "      (layer): ModuleList(\n",
       "        (0-11): 12 x BertLayer(\n",
       "          (attention): BertAttention(\n",
       "            (self): BertSdpaSelfAttention(\n",
       "              (query): Linear(in_features=768, out_features=768, bias=True)\n",
       "              (key): Linear(in_features=768, out_features=768, bias=True)\n",
       "              (value): Linear(in_features=768, out_features=768, bias=True)\n",
       "              (dropout): Dropout(p=0.1, inplace=False)\n",
       "            )\n",
       "            (output): BertSelfOutput(\n",
       "              (dense): Linear(in_features=768, out_features=768, bias=True)\n",
       "              (LayerNorm): LayerNorm((768,), eps=1e-12, elementwise_affine=True)\n",
       "              (dropout): Dropout(p=0.1, inplace=False)\n",
       "            )\n",
       "          )\n",
       "          (intermediate): BertIntermediate(\n",
       "            (dense): Linear(in_features=768, out_features=3072, bias=True)\n",
       "            (intermediate_act_fn): GELUActivation()\n",
       "          )\n",
       "          (output): BertOutput(\n",
       "            (dense): Linear(in_features=3072, out_features=768, bias=True)\n",
       "            (LayerNorm): LayerNorm((768,), eps=1e-12, elementwise_affine=True)\n",
       "            (dropout): Dropout(p=0.1, inplace=False)\n",
       "          )\n",
       "        )\n",
       "      )\n",
       "    )\n",
       "    (pooler): BertPooler(\n",
       "      (dense): Linear(in_features=768, out_features=768, bias=True)\n",
       "      (activation): Tanh()\n",
       "    )\n",
       "  )\n",
       "  (dropout): Dropout(p=0.3, inplace=False)\n",
       "  (narrative_classifier): Linear(in_features=768, out_features=20, bias=True)\n",
       ")"
      ]
     },
     "execution_count": 68,
     "metadata": {},
     "output_type": "execute_result"
    }
   ],
   "source": [
    "from torch.utils.data import DataLoader\n",
    "from torch.optim import AdamW\n",
    "from transformers import BertModel, BertConfig\n",
    "\n",
    "model_config = {\n",
    "    'lr': 4e-5,\n",
    "    'batch_size': 16,\n",
    "}\n",
    "\n",
    "bert_config = BertConfig.from_pretrained('bert-base-uncased')\n",
    "bert_model = BertModel.from_pretrained('bert-base-uncased')\n",
    "\n",
    "model = NarrativeClassificationBERT(bert_model, len(mlb_narratives.classes_))\n",
    "optimizer = AdamW(model.parameters(), lr=model_config['lr'])\n",
    "\n",
    "train_loader = DataLoader(train_dataset, batch_size=model_config['batch_size'], shuffle=True)\n",
    "val_loader = DataLoader(val_dataset, batch_size=model_config['batch_size'])\n",
    "\n",
    "device = torch.device(\"cuda\" if torch.cuda.is_available() else \"cpu\")\n",
    "model.to(device)"
   ]
  },
  {
   "cell_type": "code",
   "execution_count": null,
   "metadata": {},
   "outputs": [],
   "source": [
    "def train(num_epochs=15):\n",
    "    for epoch in range(num_epochs):\n",
    "        \n",
    "        model.train()\n",
    "        for batch in train_loader:\n",
    "            optimizer.zero_grad()\n",
    "    \n",
    "            input_ids = batch['input_ids'].to(device)\n",
    "            attention_mask = batch['attention_mask'].to(device)\n",
    "            narrative_labels = batch['narrative_labels'].to(device)\n",
    "    \n",
    "            narrative_logits = model(input_ids, attention_mask)\n",
    "    \n",
    "            loss = compute_loss(narrative_logits, narrative_labels)\n",
    "            \n",
    "            loss.backward()\n",
    "            optimizer.step()\n",
    "    \n",
    "        model.eval()\n",
    "        val_loss = 0\n",
    "        with torch.no_grad():\n",
    "            for batch in val_loader:\n",
    "                input_ids = batch['input_ids'].to(device)\n",
    "                attention_mask = batch['attention_mask'].to(device)\n",
    "                narrative_labels = batch['narrative_labels'].to(device)\n",
    "    \n",
    "                narrative_logits = model(input_ids, attention_mask)\n",
    "                loss = compute_loss(narrative_logits, narrative_labels)\n",
    "                val_loss += loss.item()\n",
    "    \n",
    "        avg_val_loss = val_loss / len(val_loader)\n",
    "        print(f\"Epoch {epoch + 1}, Training Loss: {loss.item()}, Validation Loss: {avg_val_loss}\")"
   ]
  },
  {
   "cell_type": "code",
   "execution_count": null,
   "metadata": {},
   "outputs": [],
   "source": [
    "train()"
   ]
  }
 ],
 "metadata": {
  "colab": {
   "provenance": []
  },
  "kernelspec": {
   "display_name": "Python 3 (ipykernel)",
   "language": "python",
   "name": "python3"
  },
  "language_info": {
   "codemirror_mode": {
    "name": "ipython",
    "version": 3
   },
   "file_extension": ".py",
   "mimetype": "text/x-python",
   "name": "python",
   "nbconvert_exporter": "python",
   "pygments_lexer": "ipython3",
   "version": "3.12.4"
  }
 },
 "nbformat": 4,
 "nbformat_minor": 4
}
