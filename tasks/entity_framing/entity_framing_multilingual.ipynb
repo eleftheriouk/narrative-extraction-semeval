{
 "cells": [
  {
   "cell_type": "markdown",
   "id": "c4810ebd-f54f-4ddb-b744-f97a109c28a8",
   "metadata": {
    "id": "c4810ebd-f54f-4ddb-b744-f97a109c28a8"
   },
   "source": [
    "# Semeval 2025 Task 10\n",
    "\n",
    "## Subtask 1: Entity Framing -- Multilingual\n",
    "\n",
    "Given a news article and a list of mentions of named entities (NEs) in the article, assign for each such mention one or more roles using a predefined taxonomy of fine-grained roles covering three main type of roles: protagonists, antagonists, and innocent. This is a multi-label multi-class text-span classification task."
   ]
  },
  {
   "cell_type": "markdown",
   "id": "7a85d11f-e1b3-4b50-8c91-767a15adf65e",
   "metadata": {
    "id": "7a85d11f-e1b3-4b50-8c91-767a15adf65e"
   },
   "source": [
    "### Using multilingual embeddings, and ML models"
   ]
  },
  {
   "cell_type": "code",
   "execution_count": 1,
   "id": "74b7bbb9-ca9c-4d37-9cf3-e84fdc1e9509",
   "metadata": {
    "colab": {
     "base_uri": "https://localhost:8080/"
    },
    "id": "74b7bbb9-ca9c-4d37-9cf3-e84fdc1e9509",
    "outputId": "c2a287fd-1776-439b-d2ed-2923f6c482c4"
   },
   "outputs": [],
   "source": [
    "import pandas as pd\n",
    "import numpy as np\n",
    "\n",
    "import tensorflow as tf\n",
    "from tensorflow import keras\n",
    "from tensorflow.keras import layers\n",
    "from tensorflow.keras import optimizers\n",
    "from tensorflow.keras.callbacks import ModelCheckpoint\n",
    "\n",
    "from matplotlib import pyplot as plt\n",
    "import seaborn as sns\n",
    "import os"
   ]
  },
  {
   "cell_type": "code",
   "execution_count": 2,
   "id": "fea70e59-e0a8-4ee0-9739-60f53274423e",
   "metadata": {
    "id": "fea70e59-e0a8-4ee0-9739-60f53274423e"
   },
   "outputs": [],
   "source": [
    "data = []\n",
    "ignore_folders = ['.DS_Store']\n",
    "\n",
    "base_dir_documents = '../data/semeval_data/train/raw-documents'\n",
    "\n",
    "for language_folder in os.listdir(base_dir_documents):\n",
    "\n",
    "    if language_folder in ignore_folders:\n",
    "        continue\n",
    "\n",
    "    language_path = os.path.join(base_dir_documents, language_folder)\n",
    "    if os.path.isdir(language_path):\n",
    "        for root, _, files in os.walk(language_path):\n",
    "            for file in files:\n",
    "                if file.endswith('.txt'):\n",
    "                    file_path = os.path.join(root, file)\n",
    "\n",
    "                    article_id = file\n",
    "                    with open(file_path, 'r', encoding='utf-8') as f:\n",
    "                        content = f.read()\n",
    "\n",
    "                    data.append({\n",
    "                        'language': language_folder,\n",
    "                        'article_id': article_id,\n",
    "                        'content': content\n",
    "                    })\n",
    "\n",
    "documents_df = pd.DataFrame(data)"
   ]
  },
  {
   "cell_type": "code",
   "execution_count": 3,
   "id": "ac14cdd9-6e72-408a-96a5-702fc3a77cee",
   "metadata": {
    "colab": {
     "base_uri": "https://localhost:8080/"
    },
    "id": "ac14cdd9-6e72-408a-96a5-702fc3a77cee",
    "outputId": "667385e2-7b8c-4e78-f0b7-7062eb37c748"
   },
   "outputs": [
    {
     "data": {
      "text/plain": [
       "(1709, 3)"
      ]
     },
     "execution_count": 3,
     "metadata": {},
     "output_type": "execute_result"
    }
   ],
   "source": [
    "documents_df.shape"
   ]
  },
  {
   "cell_type": "code",
   "execution_count": 4,
   "id": "c229ff5b-a241-4413-a7a9-7cf035d14d36",
   "metadata": {
    "colab": {
     "base_uri": "https://localhost:8080/",
     "height": 204
    },
    "id": "c229ff5b-a241-4413-a7a9-7cf035d14d36",
    "outputId": "d02fde89-cdb9-42ef-d1b3-8dfc50bcc79b"
   },
   "outputs": [
    {
     "data": {
      "text/html": [
       "<div>\n",
       "<style scoped>\n",
       "    .dataframe tbody tr th:only-of-type {\n",
       "        vertical-align: middle;\n",
       "    }\n",
       "\n",
       "    .dataframe tbody tr th {\n",
       "        vertical-align: top;\n",
       "    }\n",
       "\n",
       "    .dataframe thead th {\n",
       "        text-align: right;\n",
       "    }\n",
       "</style>\n",
       "<table border=\"1\" class=\"dataframe\">\n",
       "  <thead>\n",
       "    <tr style=\"text-align: right;\">\n",
       "      <th></th>\n",
       "      <th>language</th>\n",
       "      <th>article_id</th>\n",
       "      <th>content</th>\n",
       "    </tr>\n",
       "  </thead>\n",
       "  <tbody>\n",
       "    <tr>\n",
       "      <th>807</th>\n",
       "      <td>BG</td>\n",
       "      <td>A9_BG_2719.txt</td>\n",
       "      <td>Американски политолог: Свалянето на Зеленски и...</td>\n",
       "    </tr>\n",
       "    <tr>\n",
       "      <th>1572</th>\n",
       "      <td>EN</td>\n",
       "      <td>EN_CC_100003.txt</td>\n",
       "      <td>Fonda Heads To Canada For Oil Sands Protest, M...</td>\n",
       "    </tr>\n",
       "    <tr>\n",
       "      <th>1608</th>\n",
       "      <td>EN</td>\n",
       "      <td>EN_UA_300032.txt</td>\n",
       "      <td>Russia Says Britain Blocked Ukraine Peace Deal...</td>\n",
       "    </tr>\n",
       "    <tr>\n",
       "      <th>1059</th>\n",
       "      <td>HI</td>\n",
       "      <td>HI_8.txt</td>\n",
       "      <td>शीत युद्ध के बाद रूस-अमेरिका के बीच कैदियों की...</td>\n",
       "    </tr>\n",
       "    <tr>\n",
       "      <th>1012</th>\n",
       "      <td>HI</td>\n",
       "      <td>HI_306.txt</td>\n",
       "      <td>यूक्रेन का पलटवार: रूस के 1,000 वर्ग किलोमीटर ...</td>\n",
       "    </tr>\n",
       "  </tbody>\n",
       "</table>\n",
       "</div>"
      ],
      "text/plain": [
       "     language        article_id  \\\n",
       "807        BG    A9_BG_2719.txt   \n",
       "1572       EN  EN_CC_100003.txt   \n",
       "1608       EN  EN_UA_300032.txt   \n",
       "1059       HI          HI_8.txt   \n",
       "1012       HI        HI_306.txt   \n",
       "\n",
       "                                                content  \n",
       "807   Американски политолог: Свалянето на Зеленски и...  \n",
       "1572  Fonda Heads To Canada For Oil Sands Protest, M...  \n",
       "1608  Russia Says Britain Blocked Ukraine Peace Deal...  \n",
       "1059  शीत युद्ध के बाद रूस-अमेरिका के बीच कैदियों की...  \n",
       "1012  यूक्रेन का पलटवार: रूस के 1,000 वर्ग किलोमीटर ...  "
      ]
     },
     "execution_count": 4,
     "metadata": {},
     "output_type": "execute_result"
    }
   ],
   "source": [
    "documents_df.sample(5)"
   ]
  },
  {
   "cell_type": "code",
   "execution_count": 5,
   "id": "3a93f0e9-23f8-47ad-96cf-7a8bc1c84375",
   "metadata": {
    "colab": {
     "base_uri": "https://localhost:8080/",
     "height": 186
    },
    "id": "3a93f0e9-23f8-47ad-96cf-7a8bc1c84375",
    "outputId": "06745b8a-5789-4a87-d60b-1f3b13ef4a2d"
   },
   "outputs": [
    {
     "data": {
      "text/plain": [
       "<bound method Series.unique of 0        RU-URW-1161.txt\n",
       "1        RU-URW-1175.txt\n",
       "2        RU-URW-1149.txt\n",
       "3        RU-URW-1015.txt\n",
       "4        RU-URW-1001.txt\n",
       "              ...       \n",
       "1704    EN_UA_008072.txt\n",
       "1705    EN_CC_300151.txt\n",
       "1706    EN_CC_200145.txt\n",
       "1707    EN_UA_015962.txt\n",
       "1708    EN_CC_300179.txt\n",
       "Name: article_id, Length: 1709, dtype: object>"
      ]
     },
     "execution_count": 5,
     "metadata": {},
     "output_type": "execute_result"
    }
   ],
   "source": [
    "documents_df['article_id'].unique"
   ]
  },
  {
   "cell_type": "code",
   "execution_count": 6,
   "id": "d235446f-3189-4d83-b6fe-aa8b703f1697",
   "metadata": {
    "id": "d235446f-3189-4d83-b6fe-aa8b703f1697"
   },
   "outputs": [],
   "source": [
    "base_dir_labels = '../data/semeval_data/train/labels'\n",
    "\n",
    "raw_annotation_data = []\n",
    "\n",
    "for language_folder in os.listdir(base_dir_labels):\n",
    "\n",
    "    if language_folder in ignore_folders:\n",
    "        continue\n",
    "\n",
    "    language_path = os.path.join(base_dir_labels, language_folder)\n",
    "    if os.path.isdir(language_path):\n",
    "        for root, _, files in os.walk(language_path):\n",
    "            label_file = 'subtask-1-annotations.txt'\n",
    "            file_path = os.path.join(root, label_file)\n",
    "            with open(file_path, 'r', encoding='utf-8') as file:\n",
    "                for line in file:\n",
    "                    parts = line.strip().split('\\t')\n",
    "                    article_id = parts[0]\n",
    "                    entity_mention = parts[1]\n",
    "                    start_offset = int(parts[2])\n",
    "                    end_offset = int(parts[3])\n",
    "                    main_role = parts[4]\n",
    "\n",
    "                    sub_roles = parts[5:]\n",
    "                    raw_annotation_data.append({\n",
    "                        \"article_id\": article_id,\n",
    "                        \"entity_mention\": entity_mention,\n",
    "                        \"start_offset\": start_offset,\n",
    "                        \"end_offset\": end_offset,\n",
    "                        \"main_role\": main_role,\n",
    "                        \"sub_roles\": sub_roles,\n",
    "                    })\n",
    "\n",
    "annotations_df = pd.DataFrame(raw_annotation_data)"
   ]
  },
  {
   "cell_type": "code",
   "execution_count": 7,
   "id": "fc6c6b0d-6648-4d00-96fe-bd5126d5231c",
   "metadata": {
    "colab": {
     "base_uri": "https://localhost:8080/",
     "height": 204
    },
    "id": "fc6c6b0d-6648-4d00-96fe-bd5126d5231c",
    "outputId": "4b60a9a6-c9a8-478a-8ca4-6b762a1a43e2"
   },
   "outputs": [
    {
     "data": {
      "text/html": [
       "<div>\n",
       "<style scoped>\n",
       "    .dataframe tbody tr th:only-of-type {\n",
       "        vertical-align: middle;\n",
       "    }\n",
       "\n",
       "    .dataframe tbody tr th {\n",
       "        vertical-align: top;\n",
       "    }\n",
       "\n",
       "    .dataframe thead th {\n",
       "        text-align: right;\n",
       "    }\n",
       "</style>\n",
       "<table border=\"1\" class=\"dataframe\">\n",
       "  <thead>\n",
       "    <tr style=\"text-align: right;\">\n",
       "      <th></th>\n",
       "      <th>article_id</th>\n",
       "      <th>entity_mention</th>\n",
       "      <th>start_offset</th>\n",
       "      <th>end_offset</th>\n",
       "      <th>main_role</th>\n",
       "      <th>sub_roles</th>\n",
       "    </tr>\n",
       "  </thead>\n",
       "  <tbody>\n",
       "    <tr>\n",
       "      <th>0</th>\n",
       "      <td>RU-URW-1080.txt</td>\n",
       "      <td>Ермак</td>\n",
       "      <td>155</td>\n",
       "      <td>159</td>\n",
       "      <td>Antagonist</td>\n",
       "      <td>[Incompetent]</td>\n",
       "    </tr>\n",
       "    <tr>\n",
       "      <th>1</th>\n",
       "      <td>RU-URW-1080.txt</td>\n",
       "      <td>Трамп</td>\n",
       "      <td>492</td>\n",
       "      <td>496</td>\n",
       "      <td>Protagonist</td>\n",
       "      <td>[Peacemaker]</td>\n",
       "    </tr>\n",
       "    <tr>\n",
       "      <th>2</th>\n",
       "      <td>RU-URW-1013.txt</td>\n",
       "      <td>Украины</td>\n",
       "      <td>108</td>\n",
       "      <td>114</td>\n",
       "      <td>Innocent</td>\n",
       "      <td>[Victim]</td>\n",
       "    </tr>\n",
       "    <tr>\n",
       "      <th>3</th>\n",
       "      <td>RU-URW-1145.txt</td>\n",
       "      <td>Российские войска</td>\n",
       "      <td>105</td>\n",
       "      <td>121</td>\n",
       "      <td>Protagonist</td>\n",
       "      <td>[Guardian]</td>\n",
       "    </tr>\n",
       "    <tr>\n",
       "      <th>4</th>\n",
       "      <td>RU-URW-1145.txt</td>\n",
       "      <td>ВСУ</td>\n",
       "      <td>131</td>\n",
       "      <td>133</td>\n",
       "      <td>Antagonist</td>\n",
       "      <td>[Terrorist]</td>\n",
       "    </tr>\n",
       "  </tbody>\n",
       "</table>\n",
       "</div>"
      ],
      "text/plain": [
       "        article_id     entity_mention  start_offset  end_offset    main_role  \\\n",
       "0  RU-URW-1080.txt              Ермак           155         159   Antagonist   \n",
       "1  RU-URW-1080.txt              Трамп           492         496  Protagonist   \n",
       "2  RU-URW-1013.txt            Украины           108         114     Innocent   \n",
       "3  RU-URW-1145.txt  Российские войска           105         121  Protagonist   \n",
       "4  RU-URW-1145.txt                ВСУ           131         133   Antagonist   \n",
       "\n",
       "       sub_roles  \n",
       "0  [Incompetent]  \n",
       "1   [Peacemaker]  \n",
       "2       [Victim]  \n",
       "3     [Guardian]  \n",
       "4    [Terrorist]  "
      ]
     },
     "execution_count": 7,
     "metadata": {},
     "output_type": "execute_result"
    }
   ],
   "source": [
    "annotations_df.head()"
   ]
  },
  {
   "cell_type": "code",
   "execution_count": 8,
   "id": "f25265a8-32d2-4f2c-86e7-4d855a930828",
   "metadata": {
    "colab": {
     "base_uri": "https://localhost:8080/"
    },
    "id": "f25265a8-32d2-4f2c-86e7-4d855a930828",
    "outputId": "cad03b9f-c20d-4d4b-81cb-438d238abb23"
   },
   "outputs": [
    {
     "data": {
      "text/plain": [
       "(5262, 6)"
      ]
     },
     "execution_count": 8,
     "metadata": {},
     "output_type": "execute_result"
    }
   ],
   "source": [
    "annotations_df.shape"
   ]
  },
  {
   "cell_type": "code",
   "execution_count": 9,
   "id": "5065796a-e88c-4662-9cbc-81a9f92f0c2e",
   "metadata": {
    "colab": {
     "base_uri": "https://localhost:8080/",
     "height": 204
    },
    "id": "5065796a-e88c-4662-9cbc-81a9f92f0c2e",
    "outputId": "0ddd9be4-83bd-4b61-9638-de6b68fff695"
   },
   "outputs": [
    {
     "data": {
      "text/html": [
       "<div>\n",
       "<style scoped>\n",
       "    .dataframe tbody tr th:only-of-type {\n",
       "        vertical-align: middle;\n",
       "    }\n",
       "\n",
       "    .dataframe tbody tr th {\n",
       "        vertical-align: top;\n",
       "    }\n",
       "\n",
       "    .dataframe thead th {\n",
       "        text-align: right;\n",
       "    }\n",
       "</style>\n",
       "<table border=\"1\" class=\"dataframe\">\n",
       "  <thead>\n",
       "    <tr style=\"text-align: right;\">\n",
       "      <th></th>\n",
       "      <th>language</th>\n",
       "      <th>article_id</th>\n",
       "      <th>content</th>\n",
       "      <th>entity_mention</th>\n",
       "      <th>start_offset</th>\n",
       "      <th>end_offset</th>\n",
       "      <th>main_role</th>\n",
       "      <th>sub_roles</th>\n",
       "    </tr>\n",
       "  </thead>\n",
       "  <tbody>\n",
       "    <tr>\n",
       "      <th>0</th>\n",
       "      <td>RU</td>\n",
       "      <td>RU-URW-1161.txt</td>\n",
       "      <td>В ближайшие два месяца США будут стремиться к ...</td>\n",
       "      <td>НАТО</td>\n",
       "      <td>173</td>\n",
       "      <td>176</td>\n",
       "      <td>Antagonist</td>\n",
       "      <td>[Foreign Adversary]</td>\n",
       "    </tr>\n",
       "    <tr>\n",
       "      <th>1</th>\n",
       "      <td>RU</td>\n",
       "      <td>RU-URW-1161.txt</td>\n",
       "      <td>В ближайшие два месяца США будут стремиться к ...</td>\n",
       "      <td>Украине</td>\n",
       "      <td>262</td>\n",
       "      <td>268</td>\n",
       "      <td>Innocent</td>\n",
       "      <td>[Exploited]</td>\n",
       "    </tr>\n",
       "    <tr>\n",
       "      <th>2</th>\n",
       "      <td>RU</td>\n",
       "      <td>RU-URW-1161.txt</td>\n",
       "      <td>В ближайшие два месяца США будут стремиться к ...</td>\n",
       "      <td>Вадим Колесниченко</td>\n",
       "      <td>414</td>\n",
       "      <td>431</td>\n",
       "      <td>Protagonist</td>\n",
       "      <td>[Virtuous]</td>\n",
       "    </tr>\n",
       "    <tr>\n",
       "      <th>3</th>\n",
       "      <td>RU</td>\n",
       "      <td>RU-URW-1161.txt</td>\n",
       "      <td>В ближайшие два месяца США будут стремиться к ...</td>\n",
       "      <td>России</td>\n",
       "      <td>1292</td>\n",
       "      <td>1297</td>\n",
       "      <td>Innocent</td>\n",
       "      <td>[Victim]</td>\n",
       "    </tr>\n",
       "    <tr>\n",
       "      <th>4</th>\n",
       "      <td>RU</td>\n",
       "      <td>RU-URW-1175.txt</td>\n",
       "      <td>В ЕС испугались последствий популярности правы...</td>\n",
       "      <td>Макрона</td>\n",
       "      <td>3422</td>\n",
       "      <td>3428</td>\n",
       "      <td>Antagonist</td>\n",
       "      <td>[Incompetent]</td>\n",
       "    </tr>\n",
       "  </tbody>\n",
       "</table>\n",
       "</div>"
      ],
      "text/plain": [
       "  language       article_id  \\\n",
       "0       RU  RU-URW-1161.txt   \n",
       "1       RU  RU-URW-1161.txt   \n",
       "2       RU  RU-URW-1161.txt   \n",
       "3       RU  RU-URW-1161.txt   \n",
       "4       RU  RU-URW-1175.txt   \n",
       "\n",
       "                                             content      entity_mention  \\\n",
       "0  В ближайшие два месяца США будут стремиться к ...                НАТО   \n",
       "1  В ближайшие два месяца США будут стремиться к ...             Украине   \n",
       "2  В ближайшие два месяца США будут стремиться к ...  Вадим Колесниченко   \n",
       "3  В ближайшие два месяца США будут стремиться к ...              России   \n",
       "4  В ЕС испугались последствий популярности правы...             Макрона   \n",
       "\n",
       "   start_offset  end_offset    main_role            sub_roles  \n",
       "0           173         176   Antagonist  [Foreign Adversary]  \n",
       "1           262         268     Innocent          [Exploited]  \n",
       "2           414         431  Protagonist           [Virtuous]  \n",
       "3          1292        1297     Innocent             [Victim]  \n",
       "4          3422        3428   Antagonist        [Incompetent]  "
      ]
     },
     "execution_count": 9,
     "metadata": {},
     "output_type": "execute_result"
    }
   ],
   "source": [
    "dataset = pd.merge(documents_df, annotations_df, on='article_id')\n",
    "dataset.head()"
   ]
  },
  {
   "cell_type": "code",
   "execution_count": 10,
   "id": "f45bdcb1-f5ba-448a-b57e-604f584f467b",
   "metadata": {
    "colab": {
     "base_uri": "https://localhost:8080/"
    },
    "id": "f45bdcb1-f5ba-448a-b57e-604f584f467b",
    "outputId": "c54ad127-ce8d-4be3-cf61-56d4af025c74"
   },
   "outputs": [
    {
     "name": "stdout",
     "output_type": "stream",
     "text": [
      "103861\n"
     ]
    }
   ],
   "source": [
    "def extract_article_id(filename):\n",
    "    number_part = filename.split('_')[-1].split('.')[0]\n",
    "    return number_part\n",
    "\n",
    "print(extract_article_id('EN_UA_103861.txt'))"
   ]
  },
  {
   "cell_type": "code",
   "execution_count": 11,
   "id": "99bf53f1-5c74-4596-bf41-9b6809967ffb",
   "metadata": {
    "id": "99bf53f1-5c74-4596-bf41-9b6809967ffb"
   },
   "outputs": [],
   "source": [
    "dataset['article_id'] = dataset['article_id'].apply(extract_article_id)"
   ]
  },
  {
   "cell_type": "code",
   "execution_count": 12,
   "id": "27d0f923-2a22-4cad-98a8-03bd9b7e4550",
   "metadata": {
    "colab": {
     "base_uri": "https://localhost:8080/"
    },
    "id": "27d0f923-2a22-4cad-98a8-03bd9b7e4550",
    "outputId": "6c60c9a0-a14b-4ee3-d9a5-175903a7ecf9"
   },
   "outputs": [
    {
     "name": "stdout",
     "output_type": "stream",
     "text": [
      "Возможность признания Аллы Пугачевой иностранным агентом\n",
      "\n",
      "\"В свете недавних событий вокруг Аллы Пугачевой возник вопрос о возможности признания её иностранным агентом. Этот сложный юридический процесс требует тщательного рассмотрения ряда факторов. Управляющий партнер компании \"\"Русяев и партнеры\"\", юрист Илья Русяев, пояснил, что для признания Пугачевой иноагентом необходимо установить наличие иностранного финансирования или влияния. Учитывая её международную известность и связи, можно предположить наличие зарубежных источников дохода. Однако этого недостаточно нужно доказать, что эти средства используются для политической деятельности в России.\n",
      "\n",
      "Ключевым аспектом в данном случае может стать публичная позиция Пугачевой. Её недавний пост о ситуации в Киеве может быть расценен как распространение информации, дискредитирующей действия российских Вооруженных сил, что может интерпретироваться как политическая деятельность. Для инициирования процесса Министерству юстиции потребуется собрать доказательную базу, включая анализ её финансовых операций, публичных выступлений и постов в социальных сетях. Сам факт критических высказываний недостаточен необходимо доказать систематический характер такой деятельности и её связь с иностранным влиянием. Если Минюст решит включить Пугачеву в реестр иноагентов , она получит уведомление и право обжаловать это решение в суде. Такой процесс, учитывая статус Пугачевой, вероятно, вызовет значительный общественный резонанс и потребует дополнительных юридических обоснований. В случае признания иноагентом, Пугачева будет обязана маркировать все свои публичные заявления и творческие работы соответствующим образом, что может существенно повлиять на её публичный образ и карьеру. Также ей придётся регулярно отчитываться о своих доходах и расходах, что может быть сложной задачей для артиста такого уровня. Что касается конфискации имущества, действующее законодательство не предусматривает автоматической конфискации у иноагентов. Для этого потребуется отдельное судебное решение, основанное на доказательствах незаконного использования имущества. Признание такой знаковой фигуры, как Алла Пугачева, иностранным агентом это не только юридический, но и политический вопрос. Такое решение может иметь далеко идущие последствия для общественного мнения и культурной сферы России. Поэтому процесс, если будет инициирован, вероятно, будет проходить с особой тщательностью и вниманием к деталям, сообщает Общественная Служба Новостей.\"\n"
     ]
    }
   ],
   "source": [
    "print(dataset.iloc[6].content)"
   ]
  },
  {
   "cell_type": "code",
   "execution_count": 13,
   "id": "0c8caa4c-107a-482f-8b6d-c87fd8c621ef",
   "metadata": {
    "colab": {
     "base_uri": "https://localhost:8080/"
    },
    "id": "0c8caa4c-107a-482f-8b6d-c87fd8c621ef",
    "outputId": "1847fef2-ae77-4e78-9296-059f03802fb6"
   },
   "outputs": [
    {
     "name": "stdout",
     "output_type": "stream",
     "text": [
      "Министерству юстиции\n"
     ]
    }
   ],
   "source": [
    "print(dataset.iloc[6].entity_mention)"
   ]
  },
  {
   "cell_type": "code",
   "execution_count": 14,
   "id": "9cb31718-ca93-41f0-b37e-e6e3f47406c5",
   "metadata": {
    "colab": {
     "base_uri": "https://localhost:8080/",
     "height": 204
    },
    "id": "9cb31718-ca93-41f0-b37e-e6e3f47406c5",
    "outputId": "97a347d5-959e-4dd3-b37d-8502bdedd3bd"
   },
   "outputs": [
    {
     "data": {
      "text/html": [
       "<div>\n",
       "<style scoped>\n",
       "    .dataframe tbody tr th:only-of-type {\n",
       "        vertical-align: middle;\n",
       "    }\n",
       "\n",
       "    .dataframe tbody tr th {\n",
       "        vertical-align: top;\n",
       "    }\n",
       "\n",
       "    .dataframe thead th {\n",
       "        text-align: right;\n",
       "    }\n",
       "</style>\n",
       "<table border=\"1\" class=\"dataframe\">\n",
       "  <thead>\n",
       "    <tr style=\"text-align: right;\">\n",
       "      <th></th>\n",
       "      <th>language</th>\n",
       "      <th>article_id</th>\n",
       "      <th>content</th>\n",
       "      <th>entity_mention</th>\n",
       "      <th>start_offset</th>\n",
       "      <th>end_offset</th>\n",
       "      <th>main_role</th>\n",
       "      <th>sub_roles</th>\n",
       "    </tr>\n",
       "  </thead>\n",
       "  <tbody>\n",
       "    <tr>\n",
       "      <th>0</th>\n",
       "      <td>RU</td>\n",
       "      <td>RU-URW-1161</td>\n",
       "      <td>В ближайшие два месяца США будут стремиться к ...</td>\n",
       "      <td>НАТО</td>\n",
       "      <td>173</td>\n",
       "      <td>176</td>\n",
       "      <td>Antagonist</td>\n",
       "      <td>[Foreign Adversary]</td>\n",
       "    </tr>\n",
       "    <tr>\n",
       "      <th>1</th>\n",
       "      <td>RU</td>\n",
       "      <td>RU-URW-1161</td>\n",
       "      <td>В ближайшие два месяца США будут стремиться к ...</td>\n",
       "      <td>Украине</td>\n",
       "      <td>262</td>\n",
       "      <td>268</td>\n",
       "      <td>Innocent</td>\n",
       "      <td>[Exploited]</td>\n",
       "    </tr>\n",
       "    <tr>\n",
       "      <th>2</th>\n",
       "      <td>RU</td>\n",
       "      <td>RU-URW-1161</td>\n",
       "      <td>В ближайшие два месяца США будут стремиться к ...</td>\n",
       "      <td>Вадим Колесниченко</td>\n",
       "      <td>414</td>\n",
       "      <td>431</td>\n",
       "      <td>Protagonist</td>\n",
       "      <td>[Virtuous]</td>\n",
       "    </tr>\n",
       "    <tr>\n",
       "      <th>3</th>\n",
       "      <td>RU</td>\n",
       "      <td>RU-URW-1161</td>\n",
       "      <td>В ближайшие два месяца США будут стремиться к ...</td>\n",
       "      <td>России</td>\n",
       "      <td>1292</td>\n",
       "      <td>1297</td>\n",
       "      <td>Innocent</td>\n",
       "      <td>[Victim]</td>\n",
       "    </tr>\n",
       "    <tr>\n",
       "      <th>4</th>\n",
       "      <td>RU</td>\n",
       "      <td>RU-URW-1175</td>\n",
       "      <td>В ЕС испугались последствий популярности правы...</td>\n",
       "      <td>Макрона</td>\n",
       "      <td>3422</td>\n",
       "      <td>3428</td>\n",
       "      <td>Antagonist</td>\n",
       "      <td>[Incompetent]</td>\n",
       "    </tr>\n",
       "  </tbody>\n",
       "</table>\n",
       "</div>"
      ],
      "text/plain": [
       "  language   article_id                                            content  \\\n",
       "0       RU  RU-URW-1161  В ближайшие два месяца США будут стремиться к ...   \n",
       "1       RU  RU-URW-1161  В ближайшие два месяца США будут стремиться к ...   \n",
       "2       RU  RU-URW-1161  В ближайшие два месяца США будут стремиться к ...   \n",
       "3       RU  RU-URW-1161  В ближайшие два месяца США будут стремиться к ...   \n",
       "4       RU  RU-URW-1175  В ЕС испугались последствий популярности правы...   \n",
       "\n",
       "       entity_mention  start_offset  end_offset    main_role  \\\n",
       "0                НАТО           173         176   Antagonist   \n",
       "1             Украине           262         268     Innocent   \n",
       "2  Вадим Колесниченко           414         431  Protagonist   \n",
       "3              России          1292        1297     Innocent   \n",
       "4             Макрона          3422        3428   Antagonist   \n",
       "\n",
       "             sub_roles  \n",
       "0  [Foreign Adversary]  \n",
       "1          [Exploited]  \n",
       "2           [Virtuous]  \n",
       "3             [Victim]  \n",
       "4        [Incompetent]  "
      ]
     },
     "execution_count": 14,
     "metadata": {},
     "output_type": "execute_result"
    }
   ],
   "source": [
    "dataset.head()"
   ]
  },
  {
   "cell_type": "code",
   "execution_count": 15,
   "id": "3aa8efed-27c8-4981-9464-1f08a5e9dc0f",
   "metadata": {
    "colab": {
     "base_uri": "https://localhost:8080/"
    },
    "id": "3aa8efed-27c8-4981-9464-1f08a5e9dc0f",
    "outputId": "9b5ab1fe-772a-472a-d0d7-23b459dbbdd7"
   },
   "outputs": [
    {
     "data": {
      "text/plain": [
       "(5262, 8)"
      ]
     },
     "execution_count": 15,
     "metadata": {},
     "output_type": "execute_result"
    }
   ],
   "source": [
    "dataset.shape"
   ]
  },
  {
   "cell_type": "code",
   "execution_count": 16,
   "id": "b7b2deab-4216-4afb-b827-143c8d64cbb0",
   "metadata": {
    "colab": {
     "base_uri": "https://localhost:8080/",
     "height": 207
    },
    "id": "b7b2deab-4216-4afb-b827-143c8d64cbb0",
    "outputId": "46c3f570-3796-48e9-e8f4-e3c5e7d42fda"
   },
   "outputs": [
    {
     "data": {
      "text/plain": [
       "main_role\n",
       "Antagonist     2435\n",
       "Protagonist    1759\n",
       "Innocent       1068\n",
       "Name: count, dtype: int64"
      ]
     },
     "execution_count": 16,
     "metadata": {},
     "output_type": "execute_result"
    }
   ],
   "source": [
    "dataset['main_role'].explode().value_counts()"
   ]
  },
  {
   "cell_type": "code",
   "execution_count": 17,
   "id": "24cfb27b-064c-4822-992c-339f1a6d468c",
   "metadata": {
    "colab": {
     "base_uri": "https://localhost:8080/",
     "height": 796
    },
    "id": "24cfb27b-064c-4822-992c-339f1a6d468c",
    "outputId": "f16c364c-ccc5-4738-a1c4-1bb1c69b346a"
   },
   "outputs": [
    {
     "data": {
      "text/plain": [
       "sub_roles\n",
       "Victim               939\n",
       "Guardian             808\n",
       "Foreign Adversary    781\n",
       "Virtuous             493\n",
       "Instigator           376\n",
       "Peacemaker           294\n",
       "Incompetent          293\n",
       "Tyrant               279\n",
       "Conspirator          226\n",
       "Rebel                224\n",
       "Deceiver             209\n",
       "Terrorist            201\n",
       "Underdog             188\n",
       "Corrupt              157\n",
       "Exploited            104\n",
       "Saboteur              82\n",
       "Bigot                 69\n",
       "Traitor               49\n",
       "Scapegoat             33\n",
       "Forgotten             32\n",
       "Martyr                31\n",
       "Spy                   20\n",
       "Name: count, dtype: int64"
      ]
     },
     "execution_count": 17,
     "metadata": {},
     "output_type": "execute_result"
    }
   ],
   "source": [
    "dataset['sub_roles'].explode().value_counts()"
   ]
  },
  {
   "cell_type": "code",
   "execution_count": 18,
   "id": "7b7ac3af-8892-4915-8473-0a4d9b54f4a1",
   "metadata": {
    "colab": {
     "base_uri": "https://localhost:8080/",
     "height": 331
    },
    "id": "7b7ac3af-8892-4915-8473-0a4d9b54f4a1",
    "outputId": "e3186f22-7432-46f9-9de8-19af27e3890c"
   },
   "outputs": [
    {
     "data": {
      "text/plain": [
       "language          0\n",
       "article_id        0\n",
       "content           0\n",
       "entity_mention    0\n",
       "start_offset      0\n",
       "end_offset        0\n",
       "main_role         0\n",
       "sub_roles         0\n",
       "dtype: int64"
      ]
     },
     "execution_count": 18,
     "metadata": {},
     "output_type": "execute_result"
    }
   ],
   "source": [
    "dataset.isnull().sum()"
   ]
  },
  {
   "cell_type": "code",
   "execution_count": 19,
   "id": "8cb592fc-34e4-435d-9929-cffde383e419",
   "metadata": {
    "id": "8cb592fc-34e4-435d-9929-cffde383e419"
   },
   "outputs": [],
   "source": [
    "def get_context(row, window=50):\n",
    "    content = row['content']\n",
    "    start = int(row['start_offset'])\n",
    "    end = int(row['end_offset'])\n",
    "\n",
    "    words = content.split()\n",
    "\n",
    "    pre_entity_text = content[:start].split()\n",
    "    post_entity_text = content[end + 1:].split()\n",
    "\n",
    "    # Get context words before and after\n",
    "    context_before = \" \".join(pre_entity_text[-window:])\n",
    "    context_after = \" \".join(post_entity_text[:window])\n",
    "\n",
    "    return context_before, context_after\n",
    "\n",
    "dataset['context_before'], dataset['context_after'] = zip(*dataset.apply(get_context, axis=1))"
   ]
  },
  {
   "cell_type": "code",
   "execution_count": 20,
   "id": "77936c41-a093-40e7-a837-a3002f1ebe2a",
   "metadata": {
    "colab": {
     "base_uri": "https://localhost:8080/",
     "height": 89
    },
    "id": "77936c41-a093-40e7-a837-a3002f1ebe2a",
    "outputId": "af20c5e8-17fa-4aab-f21d-2c53b29c552f"
   },
   "outputs": [
    {
     "data": {
      "text/html": [
       "<div>\n",
       "<style scoped>\n",
       "    .dataframe tbody tr th:only-of-type {\n",
       "        vertical-align: middle;\n",
       "    }\n",
       "\n",
       "    .dataframe tbody tr th {\n",
       "        vertical-align: top;\n",
       "    }\n",
       "\n",
       "    .dataframe thead th {\n",
       "        text-align: right;\n",
       "    }\n",
       "</style>\n",
       "<table border=\"1\" class=\"dataframe\">\n",
       "  <thead>\n",
       "    <tr style=\"text-align: right;\">\n",
       "      <th></th>\n",
       "      <th>content</th>\n",
       "      <th>entity_mention</th>\n",
       "      <th>start_offset</th>\n",
       "      <th>end_offset</th>\n",
       "    </tr>\n",
       "  </thead>\n",
       "  <tbody>\n",
       "    <tr>\n",
       "      <th>0</th>\n",
       "      <td>Moscow: Russia will ask the UN Security Counci...</td>\n",
       "      <td>Russia</td>\n",
       "      <td>8</td>\n",
       "      <td>13</td>\n",
       "    </tr>\n",
       "  </tbody>\n",
       "</table>\n",
       "</div>"
      ],
      "text/plain": [
       "                                             content entity_mention  \\\n",
       "0  Moscow: Russia will ask the UN Security Counci...         Russia   \n",
       "\n",
       "   start_offset  end_offset  \n",
       "0             8          13  "
      ]
     },
     "execution_count": 20,
     "metadata": {},
     "output_type": "execute_result"
    }
   ],
   "source": [
    "example_context = \"Moscow: Russia will ask the UN Security Council for an investigation\"\n",
    "entity_mention = \"Russia\"\n",
    "start_offset = 8\n",
    "end_offset = 13\n",
    "\n",
    "example_df = pd.DataFrame({\n",
    "    'content': [example_context],\n",
    "    'entity_mention': [entity_mention],\n",
    "    'start_offset': [start_offset],\n",
    "    'end_offset': [end_offset]\n",
    "})\n",
    "\n",
    "example_df"
   ]
  },
  {
   "cell_type": "code",
   "execution_count": 21,
   "id": "808e6651-b4d7-4d89-94bf-5466d58c6a90",
   "metadata": {
    "colab": {
     "base_uri": "https://localhost:8080/"
    },
    "id": "808e6651-b4d7-4d89-94bf-5466d58c6a90",
    "outputId": "7d1fecd6-fb38-46ef-8f99-0b8eadb38ad9"
   },
   "outputs": [
    {
     "data": {
      "text/plain": [
       "('Moscow:', 'will ask the UN Security Council for an investigation')"
      ]
     },
     "execution_count": 21,
     "metadata": {},
     "output_type": "execute_result"
    }
   ],
   "source": [
    "get_context(example_df.iloc[0])"
   ]
  },
  {
   "cell_type": "code",
   "execution_count": 22,
   "id": "e5217fa2-1aa0-48d5-9f28-5edd411827c2",
   "metadata": {
    "id": "e5217fa2-1aa0-48d5-9f28-5edd411827c2"
   },
   "outputs": [],
   "source": [
    "dataset['entity_context'] = dataset['context_before'] + \" \" + dataset['entity_mention'] + \" \" + dataset['context_after']"
   ]
  },
  {
   "cell_type": "code",
   "execution_count": 23,
   "id": "d5cb08f9-53b0-430a-9054-ffe7f857dcde",
   "metadata": {
    "colab": {
     "base_uri": "https://localhost:8080/",
     "height": 289
    },
    "id": "d5cb08f9-53b0-430a-9054-ffe7f857dcde",
    "outputId": "82884b9d-0507-4111-c9ec-1776914ddf99"
   },
   "outputs": [
    {
     "data": {
      "text/html": [
       "<div>\n",
       "<style scoped>\n",
       "    .dataframe tbody tr th:only-of-type {\n",
       "        vertical-align: middle;\n",
       "    }\n",
       "\n",
       "    .dataframe tbody tr th {\n",
       "        vertical-align: top;\n",
       "    }\n",
       "\n",
       "    .dataframe thead th {\n",
       "        text-align: right;\n",
       "    }\n",
       "</style>\n",
       "<table border=\"1\" class=\"dataframe\">\n",
       "  <thead>\n",
       "    <tr style=\"text-align: right;\">\n",
       "      <th></th>\n",
       "      <th>language</th>\n",
       "      <th>article_id</th>\n",
       "      <th>content</th>\n",
       "      <th>entity_mention</th>\n",
       "      <th>start_offset</th>\n",
       "      <th>end_offset</th>\n",
       "      <th>main_role</th>\n",
       "      <th>sub_roles</th>\n",
       "      <th>entity_context</th>\n",
       "    </tr>\n",
       "  </thead>\n",
       "  <tbody>\n",
       "    <tr>\n",
       "      <th>0</th>\n",
       "      <td>RU</td>\n",
       "      <td>RU-URW-1161</td>\n",
       "      <td>В ближайшие два месяца США будут стремиться к ...</td>\n",
       "      <td>НАТО</td>\n",
       "      <td>173</td>\n",
       "      <td>176</td>\n",
       "      <td>Antagonist</td>\n",
       "      <td>[Foreign Adversary]</td>\n",
       "      <td>В ближайшие два месяца США будут стремиться к ...</td>\n",
       "    </tr>\n",
       "    <tr>\n",
       "      <th>1</th>\n",
       "      <td>RU</td>\n",
       "      <td>RU-URW-1161</td>\n",
       "      <td>В ближайшие два месяца США будут стремиться к ...</td>\n",
       "      <td>Украине</td>\n",
       "      <td>262</td>\n",
       "      <td>268</td>\n",
       "      <td>Innocent</td>\n",
       "      <td>[Exploited]</td>\n",
       "      <td>В ближайшие два месяца США будут стремиться к ...</td>\n",
       "    </tr>\n",
       "    <tr>\n",
       "      <th>2</th>\n",
       "      <td>RU</td>\n",
       "      <td>RU-URW-1161</td>\n",
       "      <td>В ближайшие два месяца США будут стремиться к ...</td>\n",
       "      <td>Вадим Колесниченко</td>\n",
       "      <td>414</td>\n",
       "      <td>431</td>\n",
       "      <td>Protagonist</td>\n",
       "      <td>[Virtuous]</td>\n",
       "      <td>стремиться к эскалации конфликта на Украине – ...</td>\n",
       "    </tr>\n",
       "    <tr>\n",
       "      <th>3</th>\n",
       "      <td>RU</td>\n",
       "      <td>RU-URW-1161</td>\n",
       "      <td>В ближайшие два месяца США будут стремиться к ...</td>\n",
       "      <td>России</td>\n",
       "      <td>1292</td>\n",
       "      <td>1297</td>\n",
       "      <td>Innocent</td>\n",
       "      <td>[Victim]</td>\n",
       "      <td>долг вырос более чем на 7 триллионов долларов\"...</td>\n",
       "    </tr>\n",
       "    <tr>\n",
       "      <th>4</th>\n",
       "      <td>RU</td>\n",
       "      <td>RU-URW-1175</td>\n",
       "      <td>В ЕС испугались последствий популярности правы...</td>\n",
       "      <td>Макрона</td>\n",
       "      <td>3422</td>\n",
       "      <td>3428</td>\n",
       "      <td>Antagonist</td>\n",
       "      <td>[Incompetent]</td>\n",
       "      <td>институтами ЕС. Оппозиция \"\"Национальное объед...</td>\n",
       "    </tr>\n",
       "  </tbody>\n",
       "</table>\n",
       "</div>"
      ],
      "text/plain": [
       "  language   article_id                                            content  \\\n",
       "0       RU  RU-URW-1161  В ближайшие два месяца США будут стремиться к ...   \n",
       "1       RU  RU-URW-1161  В ближайшие два месяца США будут стремиться к ...   \n",
       "2       RU  RU-URW-1161  В ближайшие два месяца США будут стремиться к ...   \n",
       "3       RU  RU-URW-1161  В ближайшие два месяца США будут стремиться к ...   \n",
       "4       RU  RU-URW-1175  В ЕС испугались последствий популярности правы...   \n",
       "\n",
       "       entity_mention  start_offset  end_offset    main_role  \\\n",
       "0                НАТО           173         176   Antagonist   \n",
       "1             Украине           262         268     Innocent   \n",
       "2  Вадим Колесниченко           414         431  Protagonist   \n",
       "3              России          1292        1297     Innocent   \n",
       "4             Макрона          3422        3428   Antagonist   \n",
       "\n",
       "             sub_roles                                     entity_context  \n",
       "0  [Foreign Adversary]  В ближайшие два месяца США будут стремиться к ...  \n",
       "1          [Exploited]  В ближайшие два месяца США будут стремиться к ...  \n",
       "2           [Virtuous]  стремиться к эскалации конфликта на Украине – ...  \n",
       "3             [Victim]  долг вырос более чем на 7 триллионов долларов\"...  \n",
       "4        [Incompetent]  институтами ЕС. Оппозиция \"\"Национальное объед...  "
      ]
     },
     "execution_count": 23,
     "metadata": {},
     "output_type": "execute_result"
    }
   ],
   "source": [
    "dataset.drop(columns=['context_before', 'context_after'], inplace=True)\n",
    "dataset.head()"
   ]
  },
  {
   "cell_type": "code",
   "execution_count": 24,
   "id": "5582235e-b52d-43b1-9b66-89e423e4332c",
   "metadata": {
    "colab": {
     "base_uri": "https://localhost:8080/",
     "height": 289
    },
    "id": "5582235e-b52d-43b1-9b66-89e423e4332c",
    "outputId": "3f71f5da-8786-4434-c1cb-7fbed22778f7"
   },
   "outputs": [
    {
     "data": {
      "text/html": [
       "<div>\n",
       "<style scoped>\n",
       "    .dataframe tbody tr th:only-of-type {\n",
       "        vertical-align: middle;\n",
       "    }\n",
       "\n",
       "    .dataframe tbody tr th {\n",
       "        vertical-align: top;\n",
       "    }\n",
       "\n",
       "    .dataframe thead th {\n",
       "        text-align: right;\n",
       "    }\n",
       "</style>\n",
       "<table border=\"1\" class=\"dataframe\">\n",
       "  <thead>\n",
       "    <tr style=\"text-align: right;\">\n",
       "      <th></th>\n",
       "      <th>language</th>\n",
       "      <th>article_id</th>\n",
       "      <th>content</th>\n",
       "      <th>entity_mention</th>\n",
       "      <th>start_offset</th>\n",
       "      <th>end_offset</th>\n",
       "      <th>main_role</th>\n",
       "      <th>sub_roles</th>\n",
       "      <th>entity_context</th>\n",
       "    </tr>\n",
       "  </thead>\n",
       "  <tbody>\n",
       "    <tr>\n",
       "      <th>0</th>\n",
       "      <td>RU</td>\n",
       "      <td>RU-URW-1161</td>\n",
       "      <td>В ближайшие два месяца США будут стремиться к ...</td>\n",
       "      <td>НАТО</td>\n",
       "      <td>173</td>\n",
       "      <td>176</td>\n",
       "      <td>Antagonist</td>\n",
       "      <td>[Foreign Adversary]</td>\n",
       "      <td>В ближайшие два месяца США будут стремиться к ...</td>\n",
       "    </tr>\n",
       "    <tr>\n",
       "      <th>1</th>\n",
       "      <td>RU</td>\n",
       "      <td>RU-URW-1161</td>\n",
       "      <td>В ближайшие два месяца США будут стремиться к ...</td>\n",
       "      <td>Украине</td>\n",
       "      <td>262</td>\n",
       "      <td>268</td>\n",
       "      <td>Innocent</td>\n",
       "      <td>[Exploited]</td>\n",
       "      <td>В ближайшие два месяца США будут стремиться к ...</td>\n",
       "    </tr>\n",
       "    <tr>\n",
       "      <th>2</th>\n",
       "      <td>RU</td>\n",
       "      <td>RU-URW-1161</td>\n",
       "      <td>В ближайшие два месяца США будут стремиться к ...</td>\n",
       "      <td>Вадим Колесниченко</td>\n",
       "      <td>414</td>\n",
       "      <td>431</td>\n",
       "      <td>Protagonist</td>\n",
       "      <td>[Virtuous]</td>\n",
       "      <td>стремиться к эскалации конфликта на Украине – ...</td>\n",
       "    </tr>\n",
       "    <tr>\n",
       "      <th>3</th>\n",
       "      <td>RU</td>\n",
       "      <td>RU-URW-1161</td>\n",
       "      <td>В ближайшие два месяца США будут стремиться к ...</td>\n",
       "      <td>России</td>\n",
       "      <td>1292</td>\n",
       "      <td>1297</td>\n",
       "      <td>Innocent</td>\n",
       "      <td>[Victim]</td>\n",
       "      <td>долг вырос более чем на 7 триллионов долларов\"...</td>\n",
       "    </tr>\n",
       "    <tr>\n",
       "      <th>4</th>\n",
       "      <td>RU</td>\n",
       "      <td>RU-URW-1175</td>\n",
       "      <td>В ЕС испугались последствий популярности правы...</td>\n",
       "      <td>Макрона</td>\n",
       "      <td>3422</td>\n",
       "      <td>3428</td>\n",
       "      <td>Antagonist</td>\n",
       "      <td>[Incompetent]</td>\n",
       "      <td>институтами ЕС. Оппозиция \"\"Национальное объед...</td>\n",
       "    </tr>\n",
       "  </tbody>\n",
       "</table>\n",
       "</div>"
      ],
      "text/plain": [
       "  language   article_id                                            content  \\\n",
       "0       RU  RU-URW-1161  В ближайшие два месяца США будут стремиться к ...   \n",
       "1       RU  RU-URW-1161  В ближайшие два месяца США будут стремиться к ...   \n",
       "2       RU  RU-URW-1161  В ближайшие два месяца США будут стремиться к ...   \n",
       "3       RU  RU-URW-1161  В ближайшие два месяца США будут стремиться к ...   \n",
       "4       RU  RU-URW-1175  В ЕС испугались последствий популярности правы...   \n",
       "\n",
       "       entity_mention  start_offset  end_offset    main_role  \\\n",
       "0                НАТО           173         176   Antagonist   \n",
       "1             Украине           262         268     Innocent   \n",
       "2  Вадим Колесниченко           414         431  Protagonist   \n",
       "3              России          1292        1297     Innocent   \n",
       "4             Макрона          3422        3428   Antagonist   \n",
       "\n",
       "             sub_roles                                     entity_context  \n",
       "0  [Foreign Adversary]  В ближайшие два месяца США будут стремиться к ...  \n",
       "1          [Exploited]  В ближайшие два месяца США будут стремиться к ...  \n",
       "2           [Virtuous]  стремиться к эскалации конфликта на Украине – ...  \n",
       "3             [Victim]  долг вырос более чем на 7 триллионов долларов\"...  \n",
       "4        [Incompetent]  институтами ЕС. Оппозиция \"\"Национальное объед...  "
      ]
     },
     "execution_count": 24,
     "metadata": {},
     "output_type": "execute_result"
    }
   ],
   "source": [
    "dataset.head()"
   ]
  },
  {
   "cell_type": "code",
   "execution_count": 30,
   "id": "7b2c3cd0-9e79-4960-bfe7-347211a4b48f",
   "metadata": {
    "colab": {
     "base_uri": "https://localhost:8080/"
    },
    "id": "7b2c3cd0-9e79-4960-bfe7-347211a4b48f",
    "outputId": "6c83a9b9-1457-4b48-9bed-c18423526bdb"
   },
   "outputs": [
    {
     "name": "stdout",
     "output_type": "stream",
     "text": [
      "Collecting xx-ent-wiki-sm==3.8.0\n",
      "  Downloading https://github.com/explosion/spacy-models/releases/download/xx_ent_wiki_sm-3.8.0/xx_ent_wiki_sm-3.8.0-py3-none-any.whl (11.1 MB)\n",
      "\u001b[2K     \u001b[90m━━━━━━━━━━━━━━━━━━━━━━━━━━━━━━━━━━━━━━━━\u001b[0m \u001b[32m11.1/11.1 MB\u001b[0m \u001b[31m4.1 MB/s\u001b[0m eta \u001b[36m0:00:00\u001b[0ma \u001b[36m0:00:01\u001b[0m\n",
      "\u001b[?25h\u001b[38;5;2m✔ Download and installation successful\u001b[0m\n",
      "You can now load the package via spacy.load('xx_ent_wiki_sm')\n",
      "Collecting en-core-web-sm==3.8.0\n",
      "  Downloading https://github.com/explosion/spacy-models/releases/download/en_core_web_sm-3.8.0/en_core_web_sm-3.8.0-py3-none-any.whl (12.8 MB)\n",
      "\u001b[2K     \u001b[90m━━━━━━━━━━━━━━━━━━━━━━━━━━━━━━━━━━━━━━━━\u001b[0m \u001b[32m12.8/12.8 MB\u001b[0m \u001b[31m1.8 MB/s\u001b[0m eta \u001b[36m0:00:00\u001b[0m00:01\u001b[0m00:01\u001b[0m\n",
      "\u001b[?25h\u001b[38;5;2m✔ Download and installation successful\u001b[0m\n",
      "You can now load the package via spacy.load('en_core_web_sm')\n",
      "Collecting pt-core-news-sm==3.8.0\n",
      "  Downloading https://github.com/explosion/spacy-models/releases/download/pt_core_news_sm-3.8.0/pt_core_news_sm-3.8.0-py3-none-any.whl (13.0 MB)\n",
      "\u001b[2K     \u001b[90m━━━━━━━━━━━━━━━━━━━━━━━━━━━━━━━━━━━━━━━━\u001b[0m \u001b[32m13.0/13.0 MB\u001b[0m \u001b[31m4.5 MB/s\u001b[0m eta \u001b[36m0:00:00\u001b[0ma \u001b[36m0:00:01\u001b[0m\n",
      "\u001b[?25h\u001b[38;5;2m✔ Download and installation successful\u001b[0m\n",
      "You can now load the package via spacy.load('pt_core_news_sm')\n"
     ]
    }
   ],
   "source": [
    "!python3 -m spacy download xx_ent_wiki_sm\n",
    "!python3 -m spacy download en_core_web_sm\n",
    "!python3 -m spacy download pt_core_news_sm"
   ]
  },
  {
   "cell_type": "code",
   "execution_count": 31,
   "id": "5843882d-57b5-4717-9d49-65f99eac989c",
   "metadata": {},
   "outputs": [
    {
     "name": "stdout",
     "output_type": "stream",
     "text": [
      "Collecting ru-core-news-sm==3.8.0\n",
      "  Downloading https://github.com/explosion/spacy-models/releases/download/ru_core_news_sm-3.8.0/ru_core_news_sm-3.8.0-py3-none-any.whl (15.3 MB)\n",
      "\u001b[2K     \u001b[90m━━━━━━━━━━━━━━━━━━━━━━━━━━━━━━━━━━━━━━━━\u001b[0m \u001b[32m15.3/15.3 MB\u001b[0m \u001b[31m2.8 MB/s\u001b[0m eta \u001b[36m0:00:00\u001b[0m00:01\u001b[0m00:01\u001b[0m\n",
      "\u001b[?25hRequirement already satisfied: pymorphy3>=1.0.0 in /Library/Frameworks/Python.framework/Versions/3.12/lib/python3.12/site-packages (from ru-core-news-sm==3.8.0) (2.0.2)\n",
      "Requirement already satisfied: dawg-python>=0.7.1 in /Library/Frameworks/Python.framework/Versions/3.12/lib/python3.12/site-packages (from pymorphy3>=1.0.0->ru-core-news-sm==3.8.0) (0.7.2)\n",
      "Requirement already satisfied: pymorphy3-dicts-ru in /Library/Frameworks/Python.framework/Versions/3.12/lib/python3.12/site-packages (from pymorphy3>=1.0.0->ru-core-news-sm==3.8.0) (2.4.417150.4580142)\n",
      "Requirement already satisfied: setuptools>=68.2.2 in /Library/Frameworks/Python.framework/Versions/3.12/lib/python3.12/site-packages (from pymorphy3>=1.0.0->ru-core-news-sm==3.8.0) (70.3.0)\n",
      "\u001b[38;5;2m✔ Download and installation successful\u001b[0m\n",
      "You can now load the package via spacy.load('ru_core_news_sm')\n"
     ]
    }
   ],
   "source": [
    "!python3 -m spacy download ru_core_news_sm"
   ]
  },
  {
   "cell_type": "code",
   "execution_count": 32,
   "id": "e14061b7-9949-4577-99a2-c13141d617be",
   "metadata": {
    "id": "e14061b7-9949-4577-99a2-c13141d617be"
   },
   "outputs": [],
   "source": [
    "language_model_map = {\n",
    "    \"BG\": \"xx_ent_wiki_sm\",\n",
    "    \"EN\": \"en_core_web_sm\",\n",
    "    \"HI\": \"xx_ent_wiki_sm\",\n",
    "    \"PT\": \"pt_core_news_sm\",\n",
    "    \"RU\": \"ru_core_news_sm\",\n",
    "}"
   ]
  },
  {
   "cell_type": "code",
   "execution_count": 33,
   "id": "914ad703-e2ec-4390-b99d-625665779423",
   "metadata": {
    "colab": {
     "base_uri": "https://localhost:8080/"
    },
    "id": "914ad703-e2ec-4390-b99d-625665779423",
    "outputId": "d895e851-808b-4567-da9a-df52a5280c49"
   },
   "outputs": [
    {
     "name": "stdout",
     "output_type": "stream",
     "text": [
      "Requirement already satisfied: emoji in /Library/Frameworks/Python.framework/Versions/3.12/lib/python3.12/site-packages (2.14.0)\n"
     ]
    }
   ],
   "source": [
    "!pip3 install emoji"
   ]
  },
  {
   "cell_type": "code",
   "execution_count": 34,
   "id": "d5b5ba80-e193-444b-b3da-805d15c4bf5e",
   "metadata": {
    "id": "d5b5ba80-e193-444b-b3da-805d15c4bf5e"
   },
   "outputs": [],
   "source": [
    "import spacy\n",
    "import re\n",
    "import emoji\n",
    "\n",
    "nlp_models = {lang: spacy.load(model) for lang, model in language_model_map.items()}\n",
    "\n",
    "def clean_article(article_text, language_code, entity_mention):\n",
    "    nlp = nlp_models.get(language_code, nlp_models[\"EN\"])\n",
    "\n",
    "    article_text = re.sub(\n",
    "        r'(http\\S+|www\\S+|https\\S+|[a-zA-Z0-9.-]+\\.com|'\n",
    "        r'[a-zA-Z0-9_.+-]+@[a-zA-Z0-9-]+\\.[a-zA-Z0-9-.]+|@[A-Za-z0-9_]+)',\n",
    "        '',\n",
    "        article_text\n",
    "    )\n",
    "\n",
    "    doc = nlp(article_text)\n",
    "\n",
    "    cleaned_tokens = []\n",
    "    important_entity_types = [\"PERSON\", \"ORG\", \"GPE\"]\n",
    "\n",
    "    for token in doc:\n",
    "        if token.is_space or emoji.is_emoji(token.text):\n",
    "            continue\n",
    "\n",
    "        if token.text.lower() == entity_mention.lower():\n",
    "            cleaned_tokens.append(f\"[ENTITY_START] {entity_mention} [ENTITY_END] \")\n",
    "        else:\n",
    "            cleaned_tokens.append(token.text.lower() + token.whitespace_)\n",
    "\n",
    "    return \"\".join(cleaned_tokens).strip()\n",
    "\n",
    "dataset[\"entity_context\"] = dataset.apply(\n",
    "    lambda row: clean_article(row[\"entity_context\"], row[\"language\"], row[\"entity_mention\"]),\n",
    "    axis=1\n",
    ")"
   ]
  },
  {
   "cell_type": "code",
   "execution_count": 35,
   "id": "1bf9f6be-4198-478d-88c6-b8b602893830",
   "metadata": {
    "id": "1bf9f6be-4198-478d-88c6-b8b602893830"
   },
   "outputs": [
    {
     "name": "stdout",
     "output_type": "stream",
     "text": [
      "недостаточно нужно доказать, что эти средства используются для политической деятельности в россии. ключевым аспектом в данном случае может стать публичная позиция пугачевой. её недавний пост о ситуации в киеве может быть расценен как распространение информации, дискредитирующей действия российских вооруженных сил, что может интерпретироваться как политическая деятельность. для инициирования процесса мини министерству юстиции ребуется собрать доказательную базу, включая анализ её финансовых операций, публичных выступлений и постов в социальных сетях. сам факт критических высказываний недостаточен необходимо доказать систематический характер такой деятельности и её связь с иностранным влиянием. если минюст решит включить пугачеву в реестр иноагентов , она получит уведомление и право обжаловать это решение\n"
     ]
    }
   ],
   "source": [
    "print(dataset.iloc[6].entity_context)"
   ]
  },
  {
   "cell_type": "code",
   "execution_count": 36,
   "id": "1ec178e8-714f-458e-ab77-c7c47177ec2a",
   "metadata": {
    "id": "1ec178e8-714f-458e-ab77-c7c47177ec2a"
   },
   "outputs": [],
   "source": [
    "from sklearn.preprocessing import LabelEncoder\n",
    "\n",
    "le_main_role = LabelEncoder()\n",
    "dataset['main_role_encoded'] = le_main_role.fit_transform(dataset['main_role'])"
   ]
  },
  {
   "cell_type": "code",
   "execution_count": 37,
   "id": "SOsaVWs-JLlQ",
   "metadata": {
    "id": "SOsaVWs-JLlQ"
   },
   "outputs": [
    {
     "name": "stdout",
     "output_type": "stream",
     "text": [
      "(5262, 11)\n"
     ]
    },
    {
     "data": {
      "text/html": [
       "<div>\n",
       "<style scoped>\n",
       "    .dataframe tbody tr th:only-of-type {\n",
       "        vertical-align: middle;\n",
       "    }\n",
       "\n",
       "    .dataframe tbody tr th {\n",
       "        vertical-align: top;\n",
       "    }\n",
       "\n",
       "    .dataframe thead th {\n",
       "        text-align: right;\n",
       "    }\n",
       "</style>\n",
       "<table border=\"1\" class=\"dataframe\">\n",
       "  <thead>\n",
       "    <tr style=\"text-align: right;\">\n",
       "      <th></th>\n",
       "      <th>language</th>\n",
       "      <th>article_id</th>\n",
       "      <th>content</th>\n",
       "      <th>entity_mention</th>\n",
       "      <th>start_offset</th>\n",
       "      <th>end_offset</th>\n",
       "      <th>main_role</th>\n",
       "      <th>sub_roles</th>\n",
       "      <th>entity_context</th>\n",
       "      <th>main_role_encoded</th>\n",
       "      <th>sub_roles_encoded</th>\n",
       "    </tr>\n",
       "  </thead>\n",
       "  <tbody>\n",
       "    <tr>\n",
       "      <th>0</th>\n",
       "      <td>RU</td>\n",
       "      <td>RU-URW-1161</td>\n",
       "      <td>В ближайшие два месяца США будут стремиться к ...</td>\n",
       "      <td>НАТО</td>\n",
       "      <td>173</td>\n",
       "      <td>176</td>\n",
       "      <td>Antagonist</td>\n",
       "      <td>[Foreign Adversary]</td>\n",
       "      <td>в ближайшие два месяца сша будут стремиться к ...</td>\n",
       "      <td>0</td>\n",
       "      <td>[0, 0, 0, 0, 0, 1, 0, 0, 0, 0, 0, 0, 0, 0, 0, ...</td>\n",
       "    </tr>\n",
       "    <tr>\n",
       "      <th>1</th>\n",
       "      <td>RU</td>\n",
       "      <td>RU-URW-1161</td>\n",
       "      <td>В ближайшие два месяца США будут стремиться к ...</td>\n",
       "      <td>Украине</td>\n",
       "      <td>262</td>\n",
       "      <td>268</td>\n",
       "      <td>Innocent</td>\n",
       "      <td>[Exploited]</td>\n",
       "      <td>в ближайшие два месяца сша будут стремиться к ...</td>\n",
       "      <td>1</td>\n",
       "      <td>[0, 0, 0, 0, 1, 0, 0, 0, 0, 0, 0, 0, 0, 0, 0, ...</td>\n",
       "    </tr>\n",
       "    <tr>\n",
       "      <th>2</th>\n",
       "      <td>RU</td>\n",
       "      <td>RU-URW-1161</td>\n",
       "      <td>В ближайшие два месяца США будут стремиться к ...</td>\n",
       "      <td>Вадим Колесниченко</td>\n",
       "      <td>414</td>\n",
       "      <td>431</td>\n",
       "      <td>Protagonist</td>\n",
       "      <td>[Virtuous]</td>\n",
       "      <td>стремиться к эскалации конфликта на украине – ...</td>\n",
       "      <td>2</td>\n",
       "      <td>[0, 0, 0, 0, 0, 0, 0, 0, 0, 0, 0, 0, 0, 0, 0, ...</td>\n",
       "    </tr>\n",
       "    <tr>\n",
       "      <th>3</th>\n",
       "      <td>RU</td>\n",
       "      <td>RU-URW-1161</td>\n",
       "      <td>В ближайшие два месяца США будут стремиться к ...</td>\n",
       "      <td>России</td>\n",
       "      <td>1292</td>\n",
       "      <td>1297</td>\n",
       "      <td>Innocent</td>\n",
       "      <td>[Victim]</td>\n",
       "      <td>долг вырос более чем на 7 триллионов долларов\"...</td>\n",
       "      <td>1</td>\n",
       "      <td>[0, 0, 0, 0, 0, 0, 0, 0, 0, 0, 0, 0, 0, 0, 0, ...</td>\n",
       "    </tr>\n",
       "    <tr>\n",
       "      <th>4</th>\n",
       "      <td>RU</td>\n",
       "      <td>RU-URW-1175</td>\n",
       "      <td>В ЕС испугались последствий популярности правы...</td>\n",
       "      <td>Макрона</td>\n",
       "      <td>3422</td>\n",
       "      <td>3428</td>\n",
       "      <td>Antagonist</td>\n",
       "      <td>[Incompetent]</td>\n",
       "      <td>институтами ес. оппозиция \"\"национальное объед...</td>\n",
       "      <td>0</td>\n",
       "      <td>[0, 0, 0, 0, 0, 0, 0, 0, 1, 0, 0, 0, 0, 0, 0, ...</td>\n",
       "    </tr>\n",
       "  </tbody>\n",
       "</table>\n",
       "</div>"
      ],
      "text/plain": [
       "  language   article_id                                            content  \\\n",
       "0       RU  RU-URW-1161  В ближайшие два месяца США будут стремиться к ...   \n",
       "1       RU  RU-URW-1161  В ближайшие два месяца США будут стремиться к ...   \n",
       "2       RU  RU-URW-1161  В ближайшие два месяца США будут стремиться к ...   \n",
       "3       RU  RU-URW-1161  В ближайшие два месяца США будут стремиться к ...   \n",
       "4       RU  RU-URW-1175  В ЕС испугались последствий популярности правы...   \n",
       "\n",
       "       entity_mention  start_offset  end_offset    main_role  \\\n",
       "0                НАТО           173         176   Antagonist   \n",
       "1             Украине           262         268     Innocent   \n",
       "2  Вадим Колесниченко           414         431  Protagonist   \n",
       "3              России          1292        1297     Innocent   \n",
       "4             Макрона          3422        3428   Antagonist   \n",
       "\n",
       "             sub_roles                                     entity_context  \\\n",
       "0  [Foreign Adversary]  в ближайшие два месяца сша будут стремиться к ...   \n",
       "1          [Exploited]  в ближайшие два месяца сша будут стремиться к ...   \n",
       "2           [Virtuous]  стремиться к эскалации конфликта на украине – ...   \n",
       "3             [Victim]  долг вырос более чем на 7 триллионов долларов\"...   \n",
       "4        [Incompetent]  институтами ес. оппозиция \"\"национальное объед...   \n",
       "\n",
       "   main_role_encoded                                  sub_roles_encoded  \n",
       "0                  0  [0, 0, 0, 0, 0, 1, 0, 0, 0, 0, 0, 0, 0, 0, 0, ...  \n",
       "1                  1  [0, 0, 0, 0, 1, 0, 0, 0, 0, 0, 0, 0, 0, 0, 0, ...  \n",
       "2                  2  [0, 0, 0, 0, 0, 0, 0, 0, 0, 0, 0, 0, 0, 0, 0, ...  \n",
       "3                  1  [0, 0, 0, 0, 0, 0, 0, 0, 0, 0, 0, 0, 0, 0, 0, ...  \n",
       "4                  0  [0, 0, 0, 0, 0, 0, 0, 0, 1, 0, 0, 0, 0, 0, 0, ...  "
      ]
     },
     "execution_count": 37,
     "metadata": {},
     "output_type": "execute_result"
    }
   ],
   "source": [
    "from sklearn.preprocessing import MultiLabelBinarizer\n",
    "\n",
    "mlb_sub_role = MultiLabelBinarizer()\n",
    "dataset.loc[:, 'sub_roles_encoded'] = list(mlb_sub_role.fit_transform(dataset['sub_roles']))\n",
    "\n",
    "print(dataset.shape)\n",
    "dataset.head()"
   ]
  },
  {
   "cell_type": "code",
   "execution_count": 38,
   "id": "6266250f-84d3-4bd8-a23c-049d1974d640",
   "metadata": {
    "id": "6266250f-84d3-4bd8-a23c-049d1974d640"
   },
   "outputs": [
    {
     "name": "stderr",
     "output_type": "stream",
     "text": [
      "/Library/Frameworks/Python.framework/Versions/3.12/lib/python3.12/site-packages/transformers/tokenization_utils_base.py:1602: FutureWarning: `clean_up_tokenization_spaces` was not set. It will be set to `True` by default. This behavior will be deprecated in transformers v4.45, and will be then set to `False` by default. For more details check this issue: https://github.com/huggingface/transformers/issues/31884\n",
      "  warnings.warn(\n",
      "/Library/Frameworks/Python.framework/Versions/3.12/lib/python3.12/site-packages/sentence_transformers/models/Dense.py:63: FutureWarning: You are using `torch.load` with `weights_only=False` (the current default value), which uses the default pickle module implicitly. It is possible to construct malicious pickle data which will execute arbitrary code during unpickling (See https://github.com/pytorch/pytorch/blob/main/SECURITY.md#untrusted-models for more details). In a future release, the default value for `weights_only` will be flipped to `True`. This limits the functions that could be executed during unpickling. Arbitrary objects will no longer be allowed to be loaded via this mode unless they are explicitly allowlisted by the user via `torch.serialization.add_safe_globals`. We recommend you start setting `weights_only=True` for any use case where you don't have full control of the loaded file. Please open an issue on GitHub for any issues related to this experimental feature.\n",
      "  model.load_state_dict(torch.load(os.path.join(input_path, 'pytorch_model.bin'), map_location=torch.device('cpu')))\n"
     ]
    }
   ],
   "source": [
    "from sentence_transformers import SentenceTransformer\n",
    "model = SentenceTransformer('sentence-transformers/LaBSE')"
   ]
  },
  {
   "cell_type": "code",
   "execution_count": 39,
   "id": "6efa0141-e7f7-4f58-a0be-758bfa7ff6da",
   "metadata": {
    "id": "6efa0141-e7f7-4f58-a0be-758bfa7ff6da"
   },
   "outputs": [],
   "source": [
    "texts = [\n",
    "    \"This is a news article about politics.\",  # English\n",
    "    \"यह राजनीति के बारे में एक समाचार लेख है।\",  # Hindi\n",
    "    \"Este é um artigo de notícias sobre política.\",  # Portuguese\n",
    "    \"Това е новинарска статия за политика.\",  # Bulgarian\n",
    "    \"The sun rises in the east.\"  # Unrelated English sentence\n",
    "]"
   ]
  },
  {
   "cell_type": "code",
   "execution_count": 40,
   "id": "cfbfdace-c929-4995-9380-6af5b811081b",
   "metadata": {
    "id": "cfbfdace-c929-4995-9380-6af5b811081b"
   },
   "outputs": [],
   "source": [
    "embeddings = model.encode(texts)"
   ]
  },
  {
   "cell_type": "code",
   "execution_count": 41,
   "id": "2b69e7cc-3e34-4604-8441-72078e0a46ce",
   "metadata": {
    "id": "2b69e7cc-3e34-4604-8441-72078e0a46ce"
   },
   "outputs": [
    {
     "name": "stdout",
     "output_type": "stream",
     "text": [
      "Cosine Similarity Matrix:\n",
      "[[1.         0.8829176  0.9265815  0.8651781  0.19801825]\n",
      " [0.8829176  1.0000002  0.96578115 0.89237857 0.23692542]\n",
      " [0.9265815  0.96578115 1.0000002  0.9107212  0.21260464]\n",
      " [0.8651781  0.89237857 0.9107212  1.0000002  0.18266794]\n",
      " [0.19801825 0.23692542 0.21260464 0.18266794 1.        ]]\n"
     ]
    }
   ],
   "source": [
    "from sklearn.metrics.pairwise import cosine_similarity\n",
    "\n",
    "cos_sim_matrix = cosine_similarity(embeddings)\n",
    "\n",
    "print(\"Cosine Similarity Matrix:\")\n",
    "print(cos_sim_matrix)"
   ]
  },
  {
   "cell_type": "code",
   "execution_count": 42,
   "id": "9f380f6c-d89f-4d28-a823-aa9e1c3d979c",
   "metadata": {},
   "outputs": [
    {
     "name": "stderr",
     "output_type": "stream",
     "text": [
      "huggingface/tokenizers: The current process just got forked, after parallelism has already been used. Disabling parallelism to avoid deadlocks...\n",
      "To disable this warning, you can either:\n",
      "\t- Avoid using `tokenizers` before the fork if possible\n",
      "\t- Explicitly set the environment variable TOKENIZERS_PARALLELISM=(true | false)\n"
     ]
    }
   ],
   "source": [
    "!pip install -q iterative-stratification"
   ]
  },
  {
   "cell_type": "code",
   "execution_count": 44,
   "id": "bdfb6760-52a8-4f4b-a414-d50e93f10e25",
   "metadata": {},
   "outputs": [],
   "source": [
    "from iterstrat.ml_stratifiers import MultilabelStratifiedKFold\n",
    "\n",
    "def stratified_train_val_split(data, labels_column, train_size=0.8, splits=5, shuffle=True, min_instances=2):\n",
    "    if shuffle:\n",
    "        shuffled_indices = np.arange(len(data))\n",
    "        np.random.shuffle(shuffled_indices)\n",
    "        data = data.iloc[shuffled_indices].reset_index(drop=True)\n",
    "\n",
    "    labels = np.array(data[labels_column].tolist())\n",
    "    rare_indices = []\n",
    "    common_indices = []\n",
    "\n",
    "    class_counts = labels.sum(axis=0)\n",
    "    rare_classes = np.where(class_counts <= min_instances)[0]\n",
    "\n",
    "    for idx, label_row in enumerate(labels):\n",
    "        if any(label_row[rare_classes]):\n",
    "            rare_indices.append(idx)\n",
    "        else:\n",
    "            common_indices.append(idx)\n",
    "\n",
    "    rare_data = data.iloc[rare_indices]\n",
    "    rare_labels = labels[rare_indices]\n",
    "    train_rare = rare_data.iloc[:len(rare_data) // 2].reset_index(drop=True)\n",
    "    val_rare = rare_data.iloc[len(rare_data) // 2:].reset_index(drop=True)\n",
    "\n",
    "    common_data = data.iloc[common_indices].reset_index(drop=True)\n",
    "    common_labels = labels[common_indices]\n",
    "\n",
    "    mskf = MultilabelStratifiedKFold(n_splits=splits)\n",
    "    for train_idx, val_idx in mskf.split(np.zeros(len(common_labels)), common_labels):\n",
    "        train_common = common_data.iloc[train_idx]\n",
    "        val_common = common_data.iloc[val_idx]\n",
    "        break\n",
    "\n",
    "    train_data = pd.concat([train_rare, train_common]).reset_index(drop=True)\n",
    "    val_data = pd.concat([val_rare, val_common]).reset_index(drop=True)\n",
    "\n",
    "    return train_data, val_data\n",
    "\n",
    "(dataset_train), (dataset_val) = stratified_train_val_split(\n",
    "    dataset,\n",
    "    labels_column=\"sub_roles_encoded\",\n",
    "    min_instances=2\n",
    ")"
   ]
  },
  {
   "cell_type": "code",
   "execution_count": 48,
   "id": "0a19f05e-c36e-4d58-8413-d46f21d02b0a",
   "metadata": {},
   "outputs": [
    {
     "data": {
      "text/plain": [
       "(4215, 11)"
      ]
     },
     "execution_count": 48,
     "metadata": {},
     "output_type": "execute_result"
    }
   ],
   "source": [
    "dataset_train.shape"
   ]
  },
  {
   "cell_type": "code",
   "execution_count": 49,
   "id": "13319753-4a25-471e-9df4-5c00aa069e31",
   "metadata": {},
   "outputs": [
    {
     "data": {
      "text/plain": [
       "(1047, 11)"
      ]
     },
     "execution_count": 49,
     "metadata": {},
     "output_type": "execute_result"
    }
   ],
   "source": [
    "dataset_val.shape"
   ]
  },
  {
   "cell_type": "code",
   "execution_count": 50,
   "id": "722bf5df-6797-4597-a5ce-206070a3c745",
   "metadata": {
    "id": "722bf5df-6797-4597-a5ce-206070a3c745"
   },
   "outputs": [],
   "source": [
    "def get_embeddings_multilingual(dataset):\n",
    "    embeddings = []\n",
    "    for index, row in dataset.iterrows():\n",
    "        content = row['entity_context']\n",
    "        embedding = model.encode(content)\n",
    "        combined_embedding = np.concatenate([embedding])\n",
    "        embeddings.append(combined_embedding)\n",
    "    embeddings_array = np.array(embeddings)\n",
    "    return embeddings_array"
   ]
  },
  {
   "cell_type": "code",
   "execution_count": 51,
   "id": "20a0dc7a-f095-40d8-b89f-165423b06f3b",
   "metadata": {
    "id": "20a0dc7a-f095-40d8-b89f-165423b06f3b"
   },
   "outputs": [],
   "source": [
    "def prepare_data(train_data, val_data):\n",
    "    train_embeddings = get_embeddings_multilingual(train_data)\n",
    "    val_embeddings = get_embeddings_multilingual(val_data)\n",
    "\n",
    "    return train_embeddings, val_embeddings"
   ]
  },
  {
   "cell_type": "code",
   "execution_count": 52,
   "id": "192c39c4-84e4-4cf9-9410-a5d69cee3e13",
   "metadata": {
    "id": "192c39c4-84e4-4cf9-9410-a5d69cee3e13"
   },
   "outputs": [],
   "source": [
    "train_embeddings, val_embeddings = prepare_data(dataset_train, dataset_val)"
   ]
  },
  {
   "cell_type": "code",
   "execution_count": 53,
   "id": "wt9_vFSsJ5W2",
   "metadata": {
    "id": "wt9_vFSsJ5W2"
   },
   "outputs": [],
   "source": [
    "y_train_main_encoded = np.array(dataset_train['main_role_encoded'].tolist())\n",
    "y_val_main_encoded = np.array(dataset_val['main_role_encoded'].tolist())"
   ]
  },
  {
   "cell_type": "code",
   "execution_count": 54,
   "id": "nrPOuQxhKC-Q",
   "metadata": {
    "id": "nrPOuQxhKC-Q"
   },
   "outputs": [],
   "source": [
    "y_train_sub_encoded = np.array(dataset_train['sub_roles_encoded'].tolist())\n",
    "y_val_sub_encoded = np.array(dataset_val['sub_roles_encoded'].tolist())"
   ]
  },
  {
   "cell_type": "code",
   "execution_count": 55,
   "id": "1b8c57c4-b899-4571-aeb9-7f16ea8df21d",
   "metadata": {
    "id": "1b8c57c4-b899-4571-aeb9-7f16ea8df21d"
   },
   "outputs": [],
   "source": [
    "import warnings\n",
    "from sklearn.metrics import classification_report, confusion_matrix\n",
    "\n",
    "def get_classification_report(y_true, y_pred):\n",
    "  # Ignore warnings\n",
    "    with warnings.catch_warnings():\n",
    "        warnings.simplefilter(\"ignore\")\n",
    "        report = classification_report(y_true, y_pred, output_dict=True)\n",
    "    report_df = pd.DataFrame(report).transpose()\n",
    "    return report_df\n",
    "\n",
    "def plot_confusion_matrix(y_true, y_pred):\n",
    "    conf_matrix = confusion_matrix(y_true, y_pred)\n",
    "    plt.figure(figsize=(8, 6))\n",
    "    sns.heatmap(conf_matrix, annot=True, fmt='d', cmap='Blues')\n",
    "    plt.xlabel('Predicted')\n",
    "    plt.ylabel('True')\n",
    "    plt.title('Confusion Matrix')\n",
    "    plt.show()\n",
    "    return conf_matrix"
   ]
  },
  {
   "cell_type": "code",
   "execution_count": 56,
   "id": "d09b3978-c10a-4b34-8971-2aec901004f7",
   "metadata": {
    "id": "d09b3978-c10a-4b34-8971-2aec901004f7"
   },
   "outputs": [],
   "source": [
    "from sklearn.model_selection import StratifiedKFold, cross_val_score\n",
    "\n",
    "def evaluate_model(model, x, y_true):\n",
    "  y_pred = model.predict(x)\n",
    "  classification_report_df = get_classification_report(y_true, y_pred)\n",
    "  print(classification_report_df)\n",
    "  print('\\n')\n",
    "  conf = plot_confusion_matrix(y_true, y_pred)\n",
    "  return conf\n",
    "\n",
    "def get_cross_val_score(model, x, y, scoring='f1_macro', splits=3):\n",
    "  cv = StratifiedKFold(n_splits=splits, shuffle=True)\n",
    "  cross_val_scores = cross_val_score(model, x, y, cv=cv, scoring=scoring)\n",
    "  print(f\"Cross-validation scores: {cross_val_scores}\")\n",
    "  print(f\"Mean CV F1 Score: {cross_val_scores.mean()}\")"
   ]
  },
  {
   "cell_type": "code",
   "execution_count": 57,
   "id": "a975a215-69d0-47dd-9bd0-f371b8c9bf5c",
   "metadata": {
    "id": "a975a215-69d0-47dd-9bd0-f371b8c9bf5c"
   },
   "outputs": [
    {
     "name": "stdout",
     "output_type": "stream",
     "text": [
      "Cross-validation scores: [0.53102614 0.55565229 0.55260466]\n",
      "Mean CV F1 Score: 0.5464276947696124\n"
     ]
    }
   ],
   "source": [
    "from sklearn.neighbors import KNeighborsClassifier\n",
    "\n",
    "knn_classifier = KNeighborsClassifier(n_neighbors=3, weights='distance', metric='cosine')\n",
    "get_cross_val_score(knn_classifier, train_embeddings, y_train_main_encoded)"
   ]
  },
  {
   "cell_type": "code",
   "execution_count": 58,
   "id": "bdded57d-5655-4b82-a07c-bc1cbcc5e544",
   "metadata": {
    "id": "bdded57d-5655-4b82-a07c-bc1cbcc5e544"
   },
   "outputs": [
    {
     "data": {
      "text/html": [
       "<style>#sk-container-id-1 {\n",
       "  /* Definition of color scheme common for light and dark mode */\n",
       "  --sklearn-color-text: black;\n",
       "  --sklearn-color-line: gray;\n",
       "  /* Definition of color scheme for unfitted estimators */\n",
       "  --sklearn-color-unfitted-level-0: #fff5e6;\n",
       "  --sklearn-color-unfitted-level-1: #f6e4d2;\n",
       "  --sklearn-color-unfitted-level-2: #ffe0b3;\n",
       "  --sklearn-color-unfitted-level-3: chocolate;\n",
       "  /* Definition of color scheme for fitted estimators */\n",
       "  --sklearn-color-fitted-level-0: #f0f8ff;\n",
       "  --sklearn-color-fitted-level-1: #d4ebff;\n",
       "  --sklearn-color-fitted-level-2: #b3dbfd;\n",
       "  --sklearn-color-fitted-level-3: cornflowerblue;\n",
       "\n",
       "  /* Specific color for light theme */\n",
       "  --sklearn-color-text-on-default-background: var(--sg-text-color, var(--theme-code-foreground, var(--jp-content-font-color1, black)));\n",
       "  --sklearn-color-background: var(--sg-background-color, var(--theme-background, var(--jp-layout-color0, white)));\n",
       "  --sklearn-color-border-box: var(--sg-text-color, var(--theme-code-foreground, var(--jp-content-font-color1, black)));\n",
       "  --sklearn-color-icon: #696969;\n",
       "\n",
       "  @media (prefers-color-scheme: dark) {\n",
       "    /* Redefinition of color scheme for dark theme */\n",
       "    --sklearn-color-text-on-default-background: var(--sg-text-color, var(--theme-code-foreground, var(--jp-content-font-color1, white)));\n",
       "    --sklearn-color-background: var(--sg-background-color, var(--theme-background, var(--jp-layout-color0, #111)));\n",
       "    --sklearn-color-border-box: var(--sg-text-color, var(--theme-code-foreground, var(--jp-content-font-color1, white)));\n",
       "    --sklearn-color-icon: #878787;\n",
       "  }\n",
       "}\n",
       "\n",
       "#sk-container-id-1 {\n",
       "  color: var(--sklearn-color-text);\n",
       "}\n",
       "\n",
       "#sk-container-id-1 pre {\n",
       "  padding: 0;\n",
       "}\n",
       "\n",
       "#sk-container-id-1 input.sk-hidden--visually {\n",
       "  border: 0;\n",
       "  clip: rect(1px 1px 1px 1px);\n",
       "  clip: rect(1px, 1px, 1px, 1px);\n",
       "  height: 1px;\n",
       "  margin: -1px;\n",
       "  overflow: hidden;\n",
       "  padding: 0;\n",
       "  position: absolute;\n",
       "  width: 1px;\n",
       "}\n",
       "\n",
       "#sk-container-id-1 div.sk-dashed-wrapped {\n",
       "  border: 1px dashed var(--sklearn-color-line);\n",
       "  margin: 0 0.4em 0.5em 0.4em;\n",
       "  box-sizing: border-box;\n",
       "  padding-bottom: 0.4em;\n",
       "  background-color: var(--sklearn-color-background);\n",
       "}\n",
       "\n",
       "#sk-container-id-1 div.sk-container {\n",
       "  /* jupyter's `normalize.less` sets `[hidden] { display: none; }`\n",
       "     but bootstrap.min.css set `[hidden] { display: none !important; }`\n",
       "     so we also need the `!important` here to be able to override the\n",
       "     default hidden behavior on the sphinx rendered scikit-learn.org.\n",
       "     See: https://github.com/scikit-learn/scikit-learn/issues/21755 */\n",
       "  display: inline-block !important;\n",
       "  position: relative;\n",
       "}\n",
       "\n",
       "#sk-container-id-1 div.sk-text-repr-fallback {\n",
       "  display: none;\n",
       "}\n",
       "\n",
       "div.sk-parallel-item,\n",
       "div.sk-serial,\n",
       "div.sk-item {\n",
       "  /* draw centered vertical line to link estimators */\n",
       "  background-image: linear-gradient(var(--sklearn-color-text-on-default-background), var(--sklearn-color-text-on-default-background));\n",
       "  background-size: 2px 100%;\n",
       "  background-repeat: no-repeat;\n",
       "  background-position: center center;\n",
       "}\n",
       "\n",
       "/* Parallel-specific style estimator block */\n",
       "\n",
       "#sk-container-id-1 div.sk-parallel-item::after {\n",
       "  content: \"\";\n",
       "  width: 100%;\n",
       "  border-bottom: 2px solid var(--sklearn-color-text-on-default-background);\n",
       "  flex-grow: 1;\n",
       "}\n",
       "\n",
       "#sk-container-id-1 div.sk-parallel {\n",
       "  display: flex;\n",
       "  align-items: stretch;\n",
       "  justify-content: center;\n",
       "  background-color: var(--sklearn-color-background);\n",
       "  position: relative;\n",
       "}\n",
       "\n",
       "#sk-container-id-1 div.sk-parallel-item {\n",
       "  display: flex;\n",
       "  flex-direction: column;\n",
       "}\n",
       "\n",
       "#sk-container-id-1 div.sk-parallel-item:first-child::after {\n",
       "  align-self: flex-end;\n",
       "  width: 50%;\n",
       "}\n",
       "\n",
       "#sk-container-id-1 div.sk-parallel-item:last-child::after {\n",
       "  align-self: flex-start;\n",
       "  width: 50%;\n",
       "}\n",
       "\n",
       "#sk-container-id-1 div.sk-parallel-item:only-child::after {\n",
       "  width: 0;\n",
       "}\n",
       "\n",
       "/* Serial-specific style estimator block */\n",
       "\n",
       "#sk-container-id-1 div.sk-serial {\n",
       "  display: flex;\n",
       "  flex-direction: column;\n",
       "  align-items: center;\n",
       "  background-color: var(--sklearn-color-background);\n",
       "  padding-right: 1em;\n",
       "  padding-left: 1em;\n",
       "}\n",
       "\n",
       "\n",
       "/* Toggleable style: style used for estimator/Pipeline/ColumnTransformer box that is\n",
       "clickable and can be expanded/collapsed.\n",
       "- Pipeline and ColumnTransformer use this feature and define the default style\n",
       "- Estimators will overwrite some part of the style using the `sk-estimator` class\n",
       "*/\n",
       "\n",
       "/* Pipeline and ColumnTransformer style (default) */\n",
       "\n",
       "#sk-container-id-1 div.sk-toggleable {\n",
       "  /* Default theme specific background. It is overwritten whether we have a\n",
       "  specific estimator or a Pipeline/ColumnTransformer */\n",
       "  background-color: var(--sklearn-color-background);\n",
       "}\n",
       "\n",
       "/* Toggleable label */\n",
       "#sk-container-id-1 label.sk-toggleable__label {\n",
       "  cursor: pointer;\n",
       "  display: block;\n",
       "  width: 100%;\n",
       "  margin-bottom: 0;\n",
       "  padding: 0.5em;\n",
       "  box-sizing: border-box;\n",
       "  text-align: center;\n",
       "}\n",
       "\n",
       "#sk-container-id-1 label.sk-toggleable__label-arrow:before {\n",
       "  /* Arrow on the left of the label */\n",
       "  content: \"▸\";\n",
       "  float: left;\n",
       "  margin-right: 0.25em;\n",
       "  color: var(--sklearn-color-icon);\n",
       "}\n",
       "\n",
       "#sk-container-id-1 label.sk-toggleable__label-arrow:hover:before {\n",
       "  color: var(--sklearn-color-text);\n",
       "}\n",
       "\n",
       "/* Toggleable content - dropdown */\n",
       "\n",
       "#sk-container-id-1 div.sk-toggleable__content {\n",
       "  max-height: 0;\n",
       "  max-width: 0;\n",
       "  overflow: hidden;\n",
       "  text-align: left;\n",
       "  /* unfitted */\n",
       "  background-color: var(--sklearn-color-unfitted-level-0);\n",
       "}\n",
       "\n",
       "#sk-container-id-1 div.sk-toggleable__content.fitted {\n",
       "  /* fitted */\n",
       "  background-color: var(--sklearn-color-fitted-level-0);\n",
       "}\n",
       "\n",
       "#sk-container-id-1 div.sk-toggleable__content pre {\n",
       "  margin: 0.2em;\n",
       "  border-radius: 0.25em;\n",
       "  color: var(--sklearn-color-text);\n",
       "  /* unfitted */\n",
       "  background-color: var(--sklearn-color-unfitted-level-0);\n",
       "}\n",
       "\n",
       "#sk-container-id-1 div.sk-toggleable__content.fitted pre {\n",
       "  /* unfitted */\n",
       "  background-color: var(--sklearn-color-fitted-level-0);\n",
       "}\n",
       "\n",
       "#sk-container-id-1 input.sk-toggleable__control:checked~div.sk-toggleable__content {\n",
       "  /* Expand drop-down */\n",
       "  max-height: 200px;\n",
       "  max-width: 100%;\n",
       "  overflow: auto;\n",
       "}\n",
       "\n",
       "#sk-container-id-1 input.sk-toggleable__control:checked~label.sk-toggleable__label-arrow:before {\n",
       "  content: \"▾\";\n",
       "}\n",
       "\n",
       "/* Pipeline/ColumnTransformer-specific style */\n",
       "\n",
       "#sk-container-id-1 div.sk-label input.sk-toggleable__control:checked~label.sk-toggleable__label {\n",
       "  color: var(--sklearn-color-text);\n",
       "  background-color: var(--sklearn-color-unfitted-level-2);\n",
       "}\n",
       "\n",
       "#sk-container-id-1 div.sk-label.fitted input.sk-toggleable__control:checked~label.sk-toggleable__label {\n",
       "  background-color: var(--sklearn-color-fitted-level-2);\n",
       "}\n",
       "\n",
       "/* Estimator-specific style */\n",
       "\n",
       "/* Colorize estimator box */\n",
       "#sk-container-id-1 div.sk-estimator input.sk-toggleable__control:checked~label.sk-toggleable__label {\n",
       "  /* unfitted */\n",
       "  background-color: var(--sklearn-color-unfitted-level-2);\n",
       "}\n",
       "\n",
       "#sk-container-id-1 div.sk-estimator.fitted input.sk-toggleable__control:checked~label.sk-toggleable__label {\n",
       "  /* fitted */\n",
       "  background-color: var(--sklearn-color-fitted-level-2);\n",
       "}\n",
       "\n",
       "#sk-container-id-1 div.sk-label label.sk-toggleable__label,\n",
       "#sk-container-id-1 div.sk-label label {\n",
       "  /* The background is the default theme color */\n",
       "  color: var(--sklearn-color-text-on-default-background);\n",
       "}\n",
       "\n",
       "/* On hover, darken the color of the background */\n",
       "#sk-container-id-1 div.sk-label:hover label.sk-toggleable__label {\n",
       "  color: var(--sklearn-color-text);\n",
       "  background-color: var(--sklearn-color-unfitted-level-2);\n",
       "}\n",
       "\n",
       "/* Label box, darken color on hover, fitted */\n",
       "#sk-container-id-1 div.sk-label.fitted:hover label.sk-toggleable__label.fitted {\n",
       "  color: var(--sklearn-color-text);\n",
       "  background-color: var(--sklearn-color-fitted-level-2);\n",
       "}\n",
       "\n",
       "/* Estimator label */\n",
       "\n",
       "#sk-container-id-1 div.sk-label label {\n",
       "  font-family: monospace;\n",
       "  font-weight: bold;\n",
       "  display: inline-block;\n",
       "  line-height: 1.2em;\n",
       "}\n",
       "\n",
       "#sk-container-id-1 div.sk-label-container {\n",
       "  text-align: center;\n",
       "}\n",
       "\n",
       "/* Estimator-specific */\n",
       "#sk-container-id-1 div.sk-estimator {\n",
       "  font-family: monospace;\n",
       "  border: 1px dotted var(--sklearn-color-border-box);\n",
       "  border-radius: 0.25em;\n",
       "  box-sizing: border-box;\n",
       "  margin-bottom: 0.5em;\n",
       "  /* unfitted */\n",
       "  background-color: var(--sklearn-color-unfitted-level-0);\n",
       "}\n",
       "\n",
       "#sk-container-id-1 div.sk-estimator.fitted {\n",
       "  /* fitted */\n",
       "  background-color: var(--sklearn-color-fitted-level-0);\n",
       "}\n",
       "\n",
       "/* on hover */\n",
       "#sk-container-id-1 div.sk-estimator:hover {\n",
       "  /* unfitted */\n",
       "  background-color: var(--sklearn-color-unfitted-level-2);\n",
       "}\n",
       "\n",
       "#sk-container-id-1 div.sk-estimator.fitted:hover {\n",
       "  /* fitted */\n",
       "  background-color: var(--sklearn-color-fitted-level-2);\n",
       "}\n",
       "\n",
       "/* Specification for estimator info (e.g. \"i\" and \"?\") */\n",
       "\n",
       "/* Common style for \"i\" and \"?\" */\n",
       "\n",
       ".sk-estimator-doc-link,\n",
       "a:link.sk-estimator-doc-link,\n",
       "a:visited.sk-estimator-doc-link {\n",
       "  float: right;\n",
       "  font-size: smaller;\n",
       "  line-height: 1em;\n",
       "  font-family: monospace;\n",
       "  background-color: var(--sklearn-color-background);\n",
       "  border-radius: 1em;\n",
       "  height: 1em;\n",
       "  width: 1em;\n",
       "  text-decoration: none !important;\n",
       "  margin-left: 1ex;\n",
       "  /* unfitted */\n",
       "  border: var(--sklearn-color-unfitted-level-1) 1pt solid;\n",
       "  color: var(--sklearn-color-unfitted-level-1);\n",
       "}\n",
       "\n",
       ".sk-estimator-doc-link.fitted,\n",
       "a:link.sk-estimator-doc-link.fitted,\n",
       "a:visited.sk-estimator-doc-link.fitted {\n",
       "  /* fitted */\n",
       "  border: var(--sklearn-color-fitted-level-1) 1pt solid;\n",
       "  color: var(--sklearn-color-fitted-level-1);\n",
       "}\n",
       "\n",
       "/* On hover */\n",
       "div.sk-estimator:hover .sk-estimator-doc-link:hover,\n",
       ".sk-estimator-doc-link:hover,\n",
       "div.sk-label-container:hover .sk-estimator-doc-link:hover,\n",
       ".sk-estimator-doc-link:hover {\n",
       "  /* unfitted */\n",
       "  background-color: var(--sklearn-color-unfitted-level-3);\n",
       "  color: var(--sklearn-color-background);\n",
       "  text-decoration: none;\n",
       "}\n",
       "\n",
       "div.sk-estimator.fitted:hover .sk-estimator-doc-link.fitted:hover,\n",
       ".sk-estimator-doc-link.fitted:hover,\n",
       "div.sk-label-container:hover .sk-estimator-doc-link.fitted:hover,\n",
       ".sk-estimator-doc-link.fitted:hover {\n",
       "  /* fitted */\n",
       "  background-color: var(--sklearn-color-fitted-level-3);\n",
       "  color: var(--sklearn-color-background);\n",
       "  text-decoration: none;\n",
       "}\n",
       "\n",
       "/* Span, style for the box shown on hovering the info icon */\n",
       ".sk-estimator-doc-link span {\n",
       "  display: none;\n",
       "  z-index: 9999;\n",
       "  position: relative;\n",
       "  font-weight: normal;\n",
       "  right: .2ex;\n",
       "  padding: .5ex;\n",
       "  margin: .5ex;\n",
       "  width: min-content;\n",
       "  min-width: 20ex;\n",
       "  max-width: 50ex;\n",
       "  color: var(--sklearn-color-text);\n",
       "  box-shadow: 2pt 2pt 4pt #999;\n",
       "  /* unfitted */\n",
       "  background: var(--sklearn-color-unfitted-level-0);\n",
       "  border: .5pt solid var(--sklearn-color-unfitted-level-3);\n",
       "}\n",
       "\n",
       ".sk-estimator-doc-link.fitted span {\n",
       "  /* fitted */\n",
       "  background: var(--sklearn-color-fitted-level-0);\n",
       "  border: var(--sklearn-color-fitted-level-3);\n",
       "}\n",
       "\n",
       ".sk-estimator-doc-link:hover span {\n",
       "  display: block;\n",
       "}\n",
       "\n",
       "/* \"?\"-specific style due to the `<a>` HTML tag */\n",
       "\n",
       "#sk-container-id-1 a.estimator_doc_link {\n",
       "  float: right;\n",
       "  font-size: 1rem;\n",
       "  line-height: 1em;\n",
       "  font-family: monospace;\n",
       "  background-color: var(--sklearn-color-background);\n",
       "  border-radius: 1rem;\n",
       "  height: 1rem;\n",
       "  width: 1rem;\n",
       "  text-decoration: none;\n",
       "  /* unfitted */\n",
       "  color: var(--sklearn-color-unfitted-level-1);\n",
       "  border: var(--sklearn-color-unfitted-level-1) 1pt solid;\n",
       "}\n",
       "\n",
       "#sk-container-id-1 a.estimator_doc_link.fitted {\n",
       "  /* fitted */\n",
       "  border: var(--sklearn-color-fitted-level-1) 1pt solid;\n",
       "  color: var(--sklearn-color-fitted-level-1);\n",
       "}\n",
       "\n",
       "/* On hover */\n",
       "#sk-container-id-1 a.estimator_doc_link:hover {\n",
       "  /* unfitted */\n",
       "  background-color: var(--sklearn-color-unfitted-level-3);\n",
       "  color: var(--sklearn-color-background);\n",
       "  text-decoration: none;\n",
       "}\n",
       "\n",
       "#sk-container-id-1 a.estimator_doc_link.fitted:hover {\n",
       "  /* fitted */\n",
       "  background-color: var(--sklearn-color-fitted-level-3);\n",
       "}\n",
       "</style><div id=\"sk-container-id-1\" class=\"sk-top-container\"><div class=\"sk-text-repr-fallback\"><pre>KNeighborsClassifier(metric=&#x27;cosine&#x27;, n_neighbors=3, weights=&#x27;distance&#x27;)</pre><b>In a Jupyter environment, please rerun this cell to show the HTML representation or trust the notebook. <br />On GitHub, the HTML representation is unable to render, please try loading this page with nbviewer.org.</b></div><div class=\"sk-container\" hidden><div class=\"sk-item\"><div class=\"sk-estimator fitted sk-toggleable\"><input class=\"sk-toggleable__control sk-hidden--visually\" id=\"sk-estimator-id-1\" type=\"checkbox\" checked><label for=\"sk-estimator-id-1\" class=\"sk-toggleable__label fitted sk-toggleable__label-arrow fitted\">&nbsp;&nbsp;KNeighborsClassifier<a class=\"sk-estimator-doc-link fitted\" rel=\"noreferrer\" target=\"_blank\" href=\"https://scikit-learn.org/1.5/modules/generated/sklearn.neighbors.KNeighborsClassifier.html\">?<span>Documentation for KNeighborsClassifier</span></a><span class=\"sk-estimator-doc-link fitted\">i<span>Fitted</span></span></label><div class=\"sk-toggleable__content fitted\"><pre>KNeighborsClassifier(metric=&#x27;cosine&#x27;, n_neighbors=3, weights=&#x27;distance&#x27;)</pre></div> </div></div></div></div>"
      ],
      "text/plain": [
       "KNeighborsClassifier(metric='cosine', n_neighbors=3, weights='distance')"
      ]
     },
     "execution_count": 58,
     "metadata": {},
     "output_type": "execute_result"
    }
   ],
   "source": [
    "knn_classifier.fit(train_embeddings, y_train_main_encoded)"
   ]
  },
  {
   "cell_type": "code",
   "execution_count": 59,
   "id": "e683e555-ddc1-4cc0-9d06-05d6dac72099",
   "metadata": {
    "id": "e683e555-ddc1-4cc0-9d06-05d6dac72099"
   },
   "outputs": [
    {
     "name": "stdout",
     "output_type": "stream",
     "text": [
      "              precision    recall  f1-score      support\n",
      "0              0.596421  0.626305  0.610998   479.000000\n",
      "1              0.440529  0.471698  0.455581   212.000000\n",
      "2              0.570978  0.508427  0.537890   356.000000\n",
      "accuracy       0.554919  0.554919  0.554919     0.554919\n",
      "macro avg      0.535976  0.535477  0.534823  1047.000000\n",
      "weighted avg   0.556204  0.554919  0.554671  1047.000000\n",
      "\n",
      "\n"
     ]
    },
    {
     "data": {
      "image/png": "[encoded data removed]",
      "text/plain": [
       "<Figure size 800x600 with 2 Axes>"
      ]
     },
     "metadata": {},
     "output_type": "display_data"
    },
    {
     "data": {
      "text/plain": [
       "array([[300,  75, 104],\n",
       "       [ 80, 100,  32],\n",
       "       [123,  52, 181]])"
      ]
     },
     "execution_count": 59,
     "metadata": {},
     "output_type": "execute_result"
    }
   ],
   "source": [
    "evaluate_model(knn_classifier, val_embeddings, y_val_main_encoded)"
   ]
  },
  {
   "cell_type": "code",
   "execution_count": 60,
   "id": "1adb1fe4-417b-4d0b-8699-49054fff0b21",
   "metadata": {
    "id": "1adb1fe4-417b-4d0b-8699-49054fff0b21"
   },
   "outputs": [
    {
     "name": "stdout",
     "output_type": "stream",
     "text": [
      "Cross-validation scores: [0.5461387  0.55550506 0.54858969]\n",
      "Mean CV F1 Score: 0.5500778181257738\n"
     ]
    }
   ],
   "source": [
    "from sklearn.linear_model import LogisticRegression\n",
    "logreg = LogisticRegression(max_iter=1000, class_weight='balanced')\n",
    "\n",
    "get_cross_val_score(logreg, train_embeddings, y_train_main_encoded)"
   ]
  },
  {
   "cell_type": "code",
   "execution_count": 61,
   "id": "ba8bab53-8480-4504-8cf8-e1ca94ceedd7",
   "metadata": {
    "id": "ba8bab53-8480-4504-8cf8-e1ca94ceedd7"
   },
   "outputs": [
    {
     "data": {
      "text/html": [
       "<style>#sk-container-id-2 {\n",
       "  /* Definition of color scheme common for light and dark mode */\n",
       "  --sklearn-color-text: black;\n",
       "  --sklearn-color-line: gray;\n",
       "  /* Definition of color scheme for unfitted estimators */\n",
       "  --sklearn-color-unfitted-level-0: #fff5e6;\n",
       "  --sklearn-color-unfitted-level-1: #f6e4d2;\n",
       "  --sklearn-color-unfitted-level-2: #ffe0b3;\n",
       "  --sklearn-color-unfitted-level-3: chocolate;\n",
       "  /* Definition of color scheme for fitted estimators */\n",
       "  --sklearn-color-fitted-level-0: #f0f8ff;\n",
       "  --sklearn-color-fitted-level-1: #d4ebff;\n",
       "  --sklearn-color-fitted-level-2: #b3dbfd;\n",
       "  --sklearn-color-fitted-level-3: cornflowerblue;\n",
       "\n",
       "  /* Specific color for light theme */\n",
       "  --sklearn-color-text-on-default-background: var(--sg-text-color, var(--theme-code-foreground, var(--jp-content-font-color1, black)));\n",
       "  --sklearn-color-background: var(--sg-background-color, var(--theme-background, var(--jp-layout-color0, white)));\n",
       "  --sklearn-color-border-box: var(--sg-text-color, var(--theme-code-foreground, var(--jp-content-font-color1, black)));\n",
       "  --sklearn-color-icon: #696969;\n",
       "\n",
       "  @media (prefers-color-scheme: dark) {\n",
       "    /* Redefinition of color scheme for dark theme */\n",
       "    --sklearn-color-text-on-default-background: var(--sg-text-color, var(--theme-code-foreground, var(--jp-content-font-color1, white)));\n",
       "    --sklearn-color-background: var(--sg-background-color, var(--theme-background, var(--jp-layout-color0, #111)));\n",
       "    --sklearn-color-border-box: var(--sg-text-color, var(--theme-code-foreground, var(--jp-content-font-color1, white)));\n",
       "    --sklearn-color-icon: #878787;\n",
       "  }\n",
       "}\n",
       "\n",
       "#sk-container-id-2 {\n",
       "  color: var(--sklearn-color-text);\n",
       "}\n",
       "\n",
       "#sk-container-id-2 pre {\n",
       "  padding: 0;\n",
       "}\n",
       "\n",
       "#sk-container-id-2 input.sk-hidden--visually {\n",
       "  border: 0;\n",
       "  clip: rect(1px 1px 1px 1px);\n",
       "  clip: rect(1px, 1px, 1px, 1px);\n",
       "  height: 1px;\n",
       "  margin: -1px;\n",
       "  overflow: hidden;\n",
       "  padding: 0;\n",
       "  position: absolute;\n",
       "  width: 1px;\n",
       "}\n",
       "\n",
       "#sk-container-id-2 div.sk-dashed-wrapped {\n",
       "  border: 1px dashed var(--sklearn-color-line);\n",
       "  margin: 0 0.4em 0.5em 0.4em;\n",
       "  box-sizing: border-box;\n",
       "  padding-bottom: 0.4em;\n",
       "  background-color: var(--sklearn-color-background);\n",
       "}\n",
       "\n",
       "#sk-container-id-2 div.sk-container {\n",
       "  /* jupyter's `normalize.less` sets `[hidden] { display: none; }`\n",
       "     but bootstrap.min.css set `[hidden] { display: none !important; }`\n",
       "     so we also need the `!important` here to be able to override the\n",
       "     default hidden behavior on the sphinx rendered scikit-learn.org.\n",
       "     See: https://github.com/scikit-learn/scikit-learn/issues/21755 */\n",
       "  display: inline-block !important;\n",
       "  position: relative;\n",
       "}\n",
       "\n",
       "#sk-container-id-2 div.sk-text-repr-fallback {\n",
       "  display: none;\n",
       "}\n",
       "\n",
       "div.sk-parallel-item,\n",
       "div.sk-serial,\n",
       "div.sk-item {\n",
       "  /* draw centered vertical line to link estimators */\n",
       "  background-image: linear-gradient(var(--sklearn-color-text-on-default-background), var(--sklearn-color-text-on-default-background));\n",
       "  background-size: 2px 100%;\n",
       "  background-repeat: no-repeat;\n",
       "  background-position: center center;\n",
       "}\n",
       "\n",
       "/* Parallel-specific style estimator block */\n",
       "\n",
       "#sk-container-id-2 div.sk-parallel-item::after {\n",
       "  content: \"\";\n",
       "  width: 100%;\n",
       "  border-bottom: 2px solid var(--sklearn-color-text-on-default-background);\n",
       "  flex-grow: 1;\n",
       "}\n",
       "\n",
       "#sk-container-id-2 div.sk-parallel {\n",
       "  display: flex;\n",
       "  align-items: stretch;\n",
       "  justify-content: center;\n",
       "  background-color: var(--sklearn-color-background);\n",
       "  position: relative;\n",
       "}\n",
       "\n",
       "#sk-container-id-2 div.sk-parallel-item {\n",
       "  display: flex;\n",
       "  flex-direction: column;\n",
       "}\n",
       "\n",
       "#sk-container-id-2 div.sk-parallel-item:first-child::after {\n",
       "  align-self: flex-end;\n",
       "  width: 50%;\n",
       "}\n",
       "\n",
       "#sk-container-id-2 div.sk-parallel-item:last-child::after {\n",
       "  align-self: flex-start;\n",
       "  width: 50%;\n",
       "}\n",
       "\n",
       "#sk-container-id-2 div.sk-parallel-item:only-child::after {\n",
       "  width: 0;\n",
       "}\n",
       "\n",
       "/* Serial-specific style estimator block */\n",
       "\n",
       "#sk-container-id-2 div.sk-serial {\n",
       "  display: flex;\n",
       "  flex-direction: column;\n",
       "  align-items: center;\n",
       "  background-color: var(--sklearn-color-background);\n",
       "  padding-right: 1em;\n",
       "  padding-left: 1em;\n",
       "}\n",
       "\n",
       "\n",
       "/* Toggleable style: style used for estimator/Pipeline/ColumnTransformer box that is\n",
       "clickable and can be expanded/collapsed.\n",
       "- Pipeline and ColumnTransformer use this feature and define the default style\n",
       "- Estimators will overwrite some part of the style using the `sk-estimator` class\n",
       "*/\n",
       "\n",
       "/* Pipeline and ColumnTransformer style (default) */\n",
       "\n",
       "#sk-container-id-2 div.sk-toggleable {\n",
       "  /* Default theme specific background. It is overwritten whether we have a\n",
       "  specific estimator or a Pipeline/ColumnTransformer */\n",
       "  background-color: var(--sklearn-color-background);\n",
       "}\n",
       "\n",
       "/* Toggleable label */\n",
       "#sk-container-id-2 label.sk-toggleable__label {\n",
       "  cursor: pointer;\n",
       "  display: block;\n",
       "  width: 100%;\n",
       "  margin-bottom: 0;\n",
       "  padding: 0.5em;\n",
       "  box-sizing: border-box;\n",
       "  text-align: center;\n",
       "}\n",
       "\n",
       "#sk-container-id-2 label.sk-toggleable__label-arrow:before {\n",
       "  /* Arrow on the left of the label */\n",
       "  content: \"▸\";\n",
       "  float: left;\n",
       "  margin-right: 0.25em;\n",
       "  color: var(--sklearn-color-icon);\n",
       "}\n",
       "\n",
       "#sk-container-id-2 label.sk-toggleable__label-arrow:hover:before {\n",
       "  color: var(--sklearn-color-text);\n",
       "}\n",
       "\n",
       "/* Toggleable content - dropdown */\n",
       "\n",
       "#sk-container-id-2 div.sk-toggleable__content {\n",
       "  max-height: 0;\n",
       "  max-width: 0;\n",
       "  overflow: hidden;\n",
       "  text-align: left;\n",
       "  /* unfitted */\n",
       "  background-color: var(--sklearn-color-unfitted-level-0);\n",
       "}\n",
       "\n",
       "#sk-container-id-2 div.sk-toggleable__content.fitted {\n",
       "  /* fitted */\n",
       "  background-color: var(--sklearn-color-fitted-level-0);\n",
       "}\n",
       "\n",
       "#sk-container-id-2 div.sk-toggleable__content pre {\n",
       "  margin: 0.2em;\n",
       "  border-radius: 0.25em;\n",
       "  color: var(--sklearn-color-text);\n",
       "  /* unfitted */\n",
       "  background-color: var(--sklearn-color-unfitted-level-0);\n",
       "}\n",
       "\n",
       "#sk-container-id-2 div.sk-toggleable__content.fitted pre {\n",
       "  /* unfitted */\n",
       "  background-color: var(--sklearn-color-fitted-level-0);\n",
       "}\n",
       "\n",
       "#sk-container-id-2 input.sk-toggleable__control:checked~div.sk-toggleable__content {\n",
       "  /* Expand drop-down */\n",
       "  max-height: 200px;\n",
       "  max-width: 100%;\n",
       "  overflow: auto;\n",
       "}\n",
       "\n",
       "#sk-container-id-2 input.sk-toggleable__control:checked~label.sk-toggleable__label-arrow:before {\n",
       "  content: \"▾\";\n",
       "}\n",
       "\n",
       "/* Pipeline/ColumnTransformer-specific style */\n",
       "\n",
       "#sk-container-id-2 div.sk-label input.sk-toggleable__control:checked~label.sk-toggleable__label {\n",
       "  color: var(--sklearn-color-text);\n",
       "  background-color: var(--sklearn-color-unfitted-level-2);\n",
       "}\n",
       "\n",
       "#sk-container-id-2 div.sk-label.fitted input.sk-toggleable__control:checked~label.sk-toggleable__label {\n",
       "  background-color: var(--sklearn-color-fitted-level-2);\n",
       "}\n",
       "\n",
       "/* Estimator-specific style */\n",
       "\n",
       "/* Colorize estimator box */\n",
       "#sk-container-id-2 div.sk-estimator input.sk-toggleable__control:checked~label.sk-toggleable__label {\n",
       "  /* unfitted */\n",
       "  background-color: var(--sklearn-color-unfitted-level-2);\n",
       "}\n",
       "\n",
       "#sk-container-id-2 div.sk-estimator.fitted input.sk-toggleable__control:checked~label.sk-toggleable__label {\n",
       "  /* fitted */\n",
       "  background-color: var(--sklearn-color-fitted-level-2);\n",
       "}\n",
       "\n",
       "#sk-container-id-2 div.sk-label label.sk-toggleable__label,\n",
       "#sk-container-id-2 div.sk-label label {\n",
       "  /* The background is the default theme color */\n",
       "  color: var(--sklearn-color-text-on-default-background);\n",
       "}\n",
       "\n",
       "/* On hover, darken the color of the background */\n",
       "#sk-container-id-2 div.sk-label:hover label.sk-toggleable__label {\n",
       "  color: var(--sklearn-color-text);\n",
       "  background-color: var(--sklearn-color-unfitted-level-2);\n",
       "}\n",
       "\n",
       "/* Label box, darken color on hover, fitted */\n",
       "#sk-container-id-2 div.sk-label.fitted:hover label.sk-toggleable__label.fitted {\n",
       "  color: var(--sklearn-color-text);\n",
       "  background-color: var(--sklearn-color-fitted-level-2);\n",
       "}\n",
       "\n",
       "/* Estimator label */\n",
       "\n",
       "#sk-container-id-2 div.sk-label label {\n",
       "  font-family: monospace;\n",
       "  font-weight: bold;\n",
       "  display: inline-block;\n",
       "  line-height: 1.2em;\n",
       "}\n",
       "\n",
       "#sk-container-id-2 div.sk-label-container {\n",
       "  text-align: center;\n",
       "}\n",
       "\n",
       "/* Estimator-specific */\n",
       "#sk-container-id-2 div.sk-estimator {\n",
       "  font-family: monospace;\n",
       "  border: 1px dotted var(--sklearn-color-border-box);\n",
       "  border-radius: 0.25em;\n",
       "  box-sizing: border-box;\n",
       "  margin-bottom: 0.5em;\n",
       "  /* unfitted */\n",
       "  background-color: var(--sklearn-color-unfitted-level-0);\n",
       "}\n",
       "\n",
       "#sk-container-id-2 div.sk-estimator.fitted {\n",
       "  /* fitted */\n",
       "  background-color: var(--sklearn-color-fitted-level-0);\n",
       "}\n",
       "\n",
       "/* on hover */\n",
       "#sk-container-id-2 div.sk-estimator:hover {\n",
       "  /* unfitted */\n",
       "  background-color: var(--sklearn-color-unfitted-level-2);\n",
       "}\n",
       "\n",
       "#sk-container-id-2 div.sk-estimator.fitted:hover {\n",
       "  /* fitted */\n",
       "  background-color: var(--sklearn-color-fitted-level-2);\n",
       "}\n",
       "\n",
       "/* Specification for estimator info (e.g. \"i\" and \"?\") */\n",
       "\n",
       "/* Common style for \"i\" and \"?\" */\n",
       "\n",
       ".sk-estimator-doc-link,\n",
       "a:link.sk-estimator-doc-link,\n",
       "a:visited.sk-estimator-doc-link {\n",
       "  float: right;\n",
       "  font-size: smaller;\n",
       "  line-height: 1em;\n",
       "  font-family: monospace;\n",
       "  background-color: var(--sklearn-color-background);\n",
       "  border-radius: 1em;\n",
       "  height: 1em;\n",
       "  width: 1em;\n",
       "  text-decoration: none !important;\n",
       "  margin-left: 1ex;\n",
       "  /* unfitted */\n",
       "  border: var(--sklearn-color-unfitted-level-1) 1pt solid;\n",
       "  color: var(--sklearn-color-unfitted-level-1);\n",
       "}\n",
       "\n",
       ".sk-estimator-doc-link.fitted,\n",
       "a:link.sk-estimator-doc-link.fitted,\n",
       "a:visited.sk-estimator-doc-link.fitted {\n",
       "  /* fitted */\n",
       "  border: var(--sklearn-color-fitted-level-1) 1pt solid;\n",
       "  color: var(--sklearn-color-fitted-level-1);\n",
       "}\n",
       "\n",
       "/* On hover */\n",
       "div.sk-estimator:hover .sk-estimator-doc-link:hover,\n",
       ".sk-estimator-doc-link:hover,\n",
       "div.sk-label-container:hover .sk-estimator-doc-link:hover,\n",
       ".sk-estimator-doc-link:hover {\n",
       "  /* unfitted */\n",
       "  background-color: var(--sklearn-color-unfitted-level-3);\n",
       "  color: var(--sklearn-color-background);\n",
       "  text-decoration: none;\n",
       "}\n",
       "\n",
       "div.sk-estimator.fitted:hover .sk-estimator-doc-link.fitted:hover,\n",
       ".sk-estimator-doc-link.fitted:hover,\n",
       "div.sk-label-container:hover .sk-estimator-doc-link.fitted:hover,\n",
       ".sk-estimator-doc-link.fitted:hover {\n",
       "  /* fitted */\n",
       "  background-color: var(--sklearn-color-fitted-level-3);\n",
       "  color: var(--sklearn-color-background);\n",
       "  text-decoration: none;\n",
       "}\n",
       "\n",
       "/* Span, style for the box shown on hovering the info icon */\n",
       ".sk-estimator-doc-link span {\n",
       "  display: none;\n",
       "  z-index: 9999;\n",
       "  position: relative;\n",
       "  font-weight: normal;\n",
       "  right: .2ex;\n",
       "  padding: .5ex;\n",
       "  margin: .5ex;\n",
       "  width: min-content;\n",
       "  min-width: 20ex;\n",
       "  max-width: 50ex;\n",
       "  color: var(--sklearn-color-text);\n",
       "  box-shadow: 2pt 2pt 4pt #999;\n",
       "  /* unfitted */\n",
       "  background: var(--sklearn-color-unfitted-level-0);\n",
       "  border: .5pt solid var(--sklearn-color-unfitted-level-3);\n",
       "}\n",
       "\n",
       ".sk-estimator-doc-link.fitted span {\n",
       "  /* fitted */\n",
       "  background: var(--sklearn-color-fitted-level-0);\n",
       "  border: var(--sklearn-color-fitted-level-3);\n",
       "}\n",
       "\n",
       ".sk-estimator-doc-link:hover span {\n",
       "  display: block;\n",
       "}\n",
       "\n",
       "/* \"?\"-specific style due to the `<a>` HTML tag */\n",
       "\n",
       "#sk-container-id-2 a.estimator_doc_link {\n",
       "  float: right;\n",
       "  font-size: 1rem;\n",
       "  line-height: 1em;\n",
       "  font-family: monospace;\n",
       "  background-color: var(--sklearn-color-background);\n",
       "  border-radius: 1rem;\n",
       "  height: 1rem;\n",
       "  width: 1rem;\n",
       "  text-decoration: none;\n",
       "  /* unfitted */\n",
       "  color: var(--sklearn-color-unfitted-level-1);\n",
       "  border: var(--sklearn-color-unfitted-level-1) 1pt solid;\n",
       "}\n",
       "\n",
       "#sk-container-id-2 a.estimator_doc_link.fitted {\n",
       "  /* fitted */\n",
       "  border: var(--sklearn-color-fitted-level-1) 1pt solid;\n",
       "  color: var(--sklearn-color-fitted-level-1);\n",
       "}\n",
       "\n",
       "/* On hover */\n",
       "#sk-container-id-2 a.estimator_doc_link:hover {\n",
       "  /* unfitted */\n",
       "  background-color: var(--sklearn-color-unfitted-level-3);\n",
       "  color: var(--sklearn-color-background);\n",
       "  text-decoration: none;\n",
       "}\n",
       "\n",
       "#sk-container-id-2 a.estimator_doc_link.fitted:hover {\n",
       "  /* fitted */\n",
       "  background-color: var(--sklearn-color-fitted-level-3);\n",
       "}\n",
       "</style><div id=\"sk-container-id-2\" class=\"sk-top-container\"><div class=\"sk-text-repr-fallback\"><pre>LogisticRegression(class_weight=&#x27;balanced&#x27;, max_iter=1000)</pre><b>In a Jupyter environment, please rerun this cell to show the HTML representation or trust the notebook. <br />On GitHub, the HTML representation is unable to render, please try loading this page with nbviewer.org.</b></div><div class=\"sk-container\" hidden><div class=\"sk-item\"><div class=\"sk-estimator fitted sk-toggleable\"><input class=\"sk-toggleable__control sk-hidden--visually\" id=\"sk-estimator-id-2\" type=\"checkbox\" checked><label for=\"sk-estimator-id-2\" class=\"sk-toggleable__label fitted sk-toggleable__label-arrow fitted\">&nbsp;&nbsp;LogisticRegression<a class=\"sk-estimator-doc-link fitted\" rel=\"noreferrer\" target=\"_blank\" href=\"https://scikit-learn.org/1.5/modules/generated/sklearn.linear_model.LogisticRegression.html\">?<span>Documentation for LogisticRegression</span></a><span class=\"sk-estimator-doc-link fitted\">i<span>Fitted</span></span></label><div class=\"sk-toggleable__content fitted\"><pre>LogisticRegression(class_weight=&#x27;balanced&#x27;, max_iter=1000)</pre></div> </div></div></div></div>"
      ],
      "text/plain": [
       "LogisticRegression(class_weight='balanced', max_iter=1000)"
      ]
     },
     "execution_count": 61,
     "metadata": {},
     "output_type": "execute_result"
    }
   ],
   "source": [
    "logreg.fit(train_embeddings, y_train_main_encoded)"
   ]
  },
  {
   "cell_type": "code",
   "execution_count": 62,
   "id": "930a541c-5f9d-46ce-9645-6d02f028feb5",
   "metadata": {
    "id": "930a541c-5f9d-46ce-9645-6d02f028feb5"
   },
   "outputs": [
    {
     "name": "stdout",
     "output_type": "stream",
     "text": [
      "              precision    recall  f1-score      support\n",
      "0              0.666667  0.555324  0.605923   479.000000\n",
      "1              0.419795  0.580189  0.487129   212.000000\n",
      "2              0.591549  0.589888  0.590717   356.000000\n",
      "accuracy       0.572111  0.572111  0.572111     0.572111\n",
      "macro avg      0.559337  0.575133  0.561256  1047.000000\n",
      "weighted avg   0.591138  0.572111  0.576699  1047.000000\n",
      "\n",
      "\n"
     ]
    },
    {
     "data": {
      "image/png": "[encoded data removed]",
      "text/plain": [
       "<Figure size 800x600 with 2 Axes>"
      ]
     },
     "metadata": {},
     "output_type": "display_data"
    },
    {
     "data": {
      "text/plain": [
       "array([[266, 107, 106],\n",
       "       [ 50, 123,  39],\n",
       "       [ 83,  63, 210]])"
      ]
     },
     "execution_count": 62,
     "metadata": {},
     "output_type": "execute_result"
    }
   ],
   "source": [
    "evaluate_model(logreg, val_embeddings, y_val_main_encoded)"
   ]
  },
  {
   "cell_type": "code",
   "execution_count": 63,
   "id": "74ec7bb4-02e0-4bc2-8171-7b573e8d2026",
   "metadata": {
    "id": "74ec7bb4-02e0-4bc2-8171-7b573e8d2026"
   },
   "outputs": [
    {
     "name": "stdout",
     "output_type": "stream",
     "text": [
      "Cross-validation scores: [0.57476447 0.58055139 0.56973754]\n",
      "Mean CV F1 Score: 0.5750178018629591\n"
     ]
    }
   ],
   "source": [
    "import xgboost as xgb\n",
    "from xgboost import XGBClassifier\n",
    "\n",
    "xgb_classifier = XGBClassifier(learning_rate=0.1, max_depth=3, n_estimators=150)\n",
    "get_cross_val_score(xgb_classifier, train_embeddings, y_train_main_encoded)"
   ]
  },
  {
   "cell_type": "code",
   "execution_count": null,
   "id": "431ec328-13d4-4716-bb0e-cb7fbefb7300",
   "metadata": {
    "id": "431ec328-13d4-4716-bb0e-cb7fbefb7300"
   },
   "outputs": [],
   "source": [
    "xgb_classifier.fit(train_embeddings, y_train_main_encoded)\n",
    "evaluate_model(xgb_classifier, val_embeddings, y_val_main_encoded)"
   ]
  },
  {
   "cell_type": "code",
   "execution_count": null,
   "id": "ddb3d0b2-0d0e-4984-95cc-fdc1b8cea5d0",
   "metadata": {
    "id": "ddb3d0b2-0d0e-4984-95cc-fdc1b8cea5d0"
   },
   "outputs": [],
   "source": [
    "from collections import Counter\n",
    "Counter(y_train_main_encoded)"
   ]
  },
  {
   "cell_type": "code",
   "execution_count": null,
   "id": "3d99f9ab-c655-4c51-b2c9-a70a089867ff",
   "metadata": {
    "id": "3d99f9ab-c655-4c51-b2c9-a70a089867ff"
   },
   "outputs": [],
   "source": [
    "from sklearn.utils import class_weight\n",
    "\n",
    "classes = np.unique(y_train_main_encoded)\n",
    "class_weights = class_weight.compute_class_weight('balanced', classes=classes, y=y_train_main_encoded)\n",
    "class_weights"
   ]
  },
  {
   "cell_type": "code",
   "execution_count": null,
   "id": "4507bd9a-d766-48ce-a017-fad451add76b",
   "metadata": {
    "id": "4507bd9a-d766-48ce-a017-fad451add76b"
   },
   "outputs": [],
   "source": [
    "class_weights_dict = dict(zip(classes, class_weights))\n",
    "class_weights_dict"
   ]
  },
  {
   "cell_type": "code",
   "execution_count": null,
   "id": "d5aefe6b-5210-4fad-a26b-8c8e422e3f82",
   "metadata": {
    "id": "d5aefe6b-5210-4fad-a26b-8c8e422e3f82"
   },
   "outputs": [],
   "source": [
    "sample_weights = np.array([class_weights_dict[label] for label in y_train_main_encoded])\n",
    "sample_weights[:15]"
   ]
  },
  {
   "cell_type": "code",
   "execution_count": 58,
   "id": "00780889-d371-4299-b590-e3373c5f4ec9",
   "metadata": {
    "id": "00780889-d371-4299-b590-e3373c5f4ec9"
   },
   "outputs": [
    {
     "name": "stdout",
     "output_type": "stream",
     "text": [
      "              precision    recall  f1-score     support\n",
      "0              0.676923  0.721311  0.698413  183.000000\n",
      "1              0.655738  0.500000  0.567376   80.000000\n",
      "2              0.625899  0.659091  0.642066  132.000000\n",
      "accuracy       0.655696  0.655696  0.655696    0.655696\n",
      "macro avg      0.652853  0.626801  0.635952  395.000000\n",
      "weighted avg   0.655581  0.655696  0.653044  395.000000\n",
      "\n",
      "\n"
     ]
    },
    {
     "data": {
      "image/png": "[encoded data removed]",
      "text/plain": [
       "<Figure size 800x600 with 2 Axes>"
      ]
     },
     "metadata": {},
     "output_type": "display_data"
    },
    {
     "data": {
      "text/plain": [
       "array([[132,  13,  38],\n",
       "       [ 26,  40,  14],\n",
       "       [ 37,   8,  87]])"
      ]
     },
     "execution_count": 58,
     "metadata": {},
     "output_type": "execute_result"
    }
   ],
   "source": [
    "import xgboost as xgb\n",
    "\n",
    "xgb_weighted = xgb.XGBClassifier(learning_rate=0.1, max_depth=5, n_estimators=150)\n",
    "xgb_weighted.fit(train_embeddings, y_train_main_encoded, sample_weight=sample_weights)\n",
    "evaluate_model(xgb_weighted, val_embeddings, y_val_main_encoded)"
   ]
  },
  {
   "cell_type": "code",
   "execution_count": 59,
   "id": "3cbccf74-6785-49c4-b55d-a6a644e414d1",
   "metadata": {
    "id": "3cbccf74-6785-49c4-b55d-a6a644e414d1"
   },
   "outputs": [],
   "source": [
    "y_pred = xgb_weighted.predict(val_embeddings)\n",
    "misclassified_indices = np.where(y_pred != y_val_main_encoded)[0]"
   ]
  },
  {
   "cell_type": "code",
   "execution_count": 60,
   "id": "942696b3-670d-47c3-9db1-24d12d0784d7",
   "metadata": {
    "id": "942696b3-670d-47c3-9db1-24d12d0784d7"
   },
   "outputs": [
    {
     "data": {
      "text/plain": [
       "array([  1,   4,   8,   9,  10,  18,  20,  22,  24,  28,  35,  45,  47,\n",
       "        49,  51,  54,  56,  58,  63,  64,  68,  69,  74,  75,  77,  78,\n",
       "        81,  85,  89,  92,  95,  96,  99, 103, 111, 112, 117, 127, 130,\n",
       "       132, 134, 136, 137, 143, 145, 149, 153, 157, 158, 159, 165, 167,\n",
       "       168, 172, 173, 176, 177, 184, 187, 194, 200, 206, 207, 208, 211,\n",
       "       214, 216, 224, 225, 229, 231, 232, 237, 239, 242, 243, 244, 245,\n",
       "       249, 251, 253, 261, 262, 263, 266, 267, 268, 269, 270, 272, 276,\n",
       "       278, 279, 281, 282, 286, 291, 294, 295, 297, 300, 303, 307, 308,\n",
       "       317, 319, 321, 324, 325, 326, 329, 332, 335, 337, 339, 342, 343,\n",
       "       344, 347, 350, 352, 353, 356, 359, 362, 365, 368, 373, 378, 381,\n",
       "       382, 383, 385, 386, 387, 388])"
      ]
     },
     "execution_count": 60,
     "metadata": {},
     "output_type": "execute_result"
    }
   ],
   "source": [
    "misclassified_indices"
   ]
  },
  {
   "cell_type": "code",
   "execution_count": 61,
   "id": "3919cfbd-2b87-4c46-b7cd-5d04aba14586",
   "metadata": {
    "id": "3919cfbd-2b87-4c46-b7cd-5d04aba14586"
   },
   "outputs": [],
   "source": [
    "true_labels_decoded = le_main_role.inverse_transform(y_val_main_encoded)\n",
    "predicted_labels_decoded = le_main_role.inverse_transform(y_pred)"
   ]
  },
  {
   "cell_type": "code",
   "execution_count": 62,
   "id": "5315d9a4-8bc2-46bf-9024-17b160bf7986",
   "metadata": {
    "id": "5315d9a4-8bc2-46bf-9024-17b160bf7986"
   },
   "outputs": [],
   "source": [
    "misclassified_articles = []\n",
    "\n",
    "for idx in misclassified_indices:\n",
    "    misclassified_articles.append({\n",
    "        \"article_id\": idx,\n",
    "        \"true_label\": true_labels_decoded[idx],\n",
    "        \"predicted_label\": predicted_labels_decoded[idx],\n",
    "        \"context\": dataset_val.iloc[idx][\"entity_context\"],\n",
    "        \"language\": dataset_val.iloc[idx][\"language\"],\n",
    "        \"entity_mention\": dataset_val.iloc[idx][\"entity_mention\"]\n",
    "    })\n",
    "\n",
    "misclassified_df = pd.DataFrame(misclassified_articles)"
   ]
  },
  {
   "cell_type": "code",
   "execution_count": 63,
   "id": "a6c73cbd-5746-413a-a77a-70926dd54b67",
   "metadata": {
    "id": "a6c73cbd-5746-413a-a77a-70926dd54b67"
   },
   "outputs": [
    {
     "data": {
      "text/html": [
       "<div>\n",
       "<style scoped>\n",
       "    .dataframe tbody tr th:only-of-type {\n",
       "        vertical-align: middle;\n",
       "    }\n",
       "\n",
       "    .dataframe tbody tr th {\n",
       "        vertical-align: top;\n",
       "    }\n",
       "\n",
       "    .dataframe thead th {\n",
       "        text-align: right;\n",
       "    }\n",
       "</style>\n",
       "<table border=\"1\" class=\"dataframe\">\n",
       "  <thead>\n",
       "    <tr style=\"text-align: right;\">\n",
       "      <th></th>\n",
       "      <th>article_id</th>\n",
       "      <th>true_label</th>\n",
       "      <th>predicted_label</th>\n",
       "      <th>context</th>\n",
       "      <th>language</th>\n",
       "      <th>entity_mention</th>\n",
       "    </tr>\n",
       "  </thead>\n",
       "  <tbody>\n",
       "    <tr>\n",
       "      <th>0</th>\n",
       "      <td>1</td>\n",
       "      <td>Innocent</td>\n",
       "      <td>Antagonist</td>\n",
       "      <td>добави, че позицията на президента на франция ...</td>\n",
       "      <td>BG</td>\n",
       "      <td>Европа</td>\n",
       "    </tr>\n",
       "    <tr>\n",
       "      <th>1</th>\n",
       "      <td>4</td>\n",
       "      <td>Antagonist</td>\n",
       "      <td>Innocent</td>\n",
       "      <td>глава мид фрг заявила, что путин хочет пошатну...</td>\n",
       "      <td>RU</td>\n",
       "      <td>Анналена Бербок</td>\n",
       "    </tr>\n",
       "    <tr>\n",
       "      <th>2</th>\n",
       "      <td>8</td>\n",
       "      <td>Innocent</td>\n",
       "      <td>Protagonist</td>\n",
       "      <td>पुतिन से कहा, \"भारत ने हमेशा क्षेत्रीय अखंडता ...</td>\n",
       "      <td>HI</td>\n",
       "      <td>भारतीयों</td>\n",
       "    </tr>\n",
       "    <tr>\n",
       "      <th>3</th>\n",
       "      <td>9</td>\n",
       "      <td>Antagonist</td>\n",
       "      <td>Protagonist</td>\n",
       "      <td>não queremos que o conflito na ucrânia se tran...</td>\n",
       "      <td>PT</td>\n",
       "      <td>Emmanuel Macron</td>\n",
       "    </tr>\n",
       "    <tr>\n",
       "      <th>4</th>\n",
       "      <td>10</td>\n",
       "      <td>Protagonist</td>\n",
       "      <td>Antagonist</td>\n",
       "      <td>militar zvezda, citado pelo moscow times. pesk...</td>\n",
       "      <td>PT</td>\n",
       "      <td>Moscovo</td>\n",
       "    </tr>\n",
       "  </tbody>\n",
       "</table>\n",
       "</div>"
      ],
      "text/plain": [
       "   article_id   true_label predicted_label  \\\n",
       "0           1     Innocent      Antagonist   \n",
       "1           4   Antagonist        Innocent   \n",
       "2           8     Innocent     Protagonist   \n",
       "3           9   Antagonist     Protagonist   \n",
       "4          10  Protagonist      Antagonist   \n",
       "\n",
       "                                             context language   entity_mention  \n",
       "0  добави, че позицията на президента на франция ...       BG           Европа  \n",
       "1  глава мид фрг заявила, что путин хочет пошатну...       RU  Анналена Бербок  \n",
       "2  पुतिन से कहा, \"भारत ने हमेशा क्षेत्रीय अखंडता ...       HI         भारतीयों  \n",
       "3  não queremos que o conflito na ucrânia se tran...       PT  Emmanuel Macron  \n",
       "4  militar zvezda, citado pelo moscow times. pesk...       PT          Moscovo  "
      ]
     },
     "execution_count": 63,
     "metadata": {},
     "output_type": "execute_result"
    }
   ],
   "source": [
    "misclassified_df.head()"
   ]
  },
  {
   "cell_type": "code",
   "execution_count": 64,
   "id": "8f759884-7c9b-42eb-943e-b825ee53826d",
   "metadata": {
    "id": "8f759884-7c9b-42eb-943e-b825ee53826d"
   },
   "outputs": [
    {
     "name": "stdout",
     "output_type": "stream",
     "text": [
      "Entity Mention: Iraq\n",
      "True Label: Innocent | Predicted Label: Antagonist\n",
      "Context: and warmonger propagandist max boot weighed in on the meaningless and unenforcible decision to arrest president putin. boot’s argument is delusional, but then neocons thrive on lies and delusions. truth lives on at propaganda, pure and simple. boot is an accessory to mass murder, having advocated the invasion of [ENTITY_START] Iraq [ENTITY_END] , the slaughter of over a million iraqis, and the engineered destruction of their country. the hypocritical icc didn’t bother to contrast and compare putin’s supposed abduction of ukrainian children to an organized mass kidnapping of vietnamese children. it was dubbed “operation babylift,” ordered by then president ford, and was\n",
      "================================================================================\n",
      "Entity Mention: Biden administration\n",
      "True Label: Protagonist | Predicted Label: Antagonist\n",
      "Context: senate blocks sanctions aimed at stopping nord stream 2 pipeline the senate blocked a measure to impose new sanctions on the nord stream 2 gas pipeline from russia to germany after the biden administration warned it could disrupt allied unity in the confrontation over ukraine. the measure by republican senator ted cruz of texas failed on a vote of 55 to 44. it needed 60 votes to pass. the vote was held open for several hours as democrats grappled with a setback on unrelated\n",
      "================================================================================\n",
      "Entity Mention: Zelensky's\n",
      "True Label: Antagonist | Predicted Label: Protagonist\n",
      "Context: appears to be dispatching his envoys to calm washington jitters over all the \"bad news\" of late out of ukraine. yermak also sought to assure the hudson institute conference that more billions given to ukraine won't be \"charity\" but is instead an \"investment\" in america's \"global leadership.\" he further emphasized zelensky's continued rejection of ceasefire talks with russia, unless it's purely on kiev's terms. \"we seek peace, but not just any peace. in our case, ending the war through compromise is nothing more than pausing it. ukraine will not repeat the mistake of minsk,\" yermak said. watch the full hudson institute\n",
      "================================================================================\n",
      "Entity Mention: Ohio’s state government\n",
      "True Label: Innocent | Predicted Label: Antagonist\n",
      "Context: train derailment disaster in east palestine that led to an unprecedented release of highly toxic chemicals, just days after the cdc edited the toxicology profile for vinyl chloride, massively increasing the lethal exposure level and removing information about how the chemical affects children the federal emergency management agency (fema) told ohio’s state government that it was not eligible for disaster assistance to help the community recover from the toxic spill, dan tierney, a spokesperson for dewine, told fox news digital on thursday. tierney explained that fema believed the incident didn’t qualify as a traditional disaster, such as a tornado or hurricane, for which\n",
      "================================================================================\n",
      "Entity Mention: Washington\n",
      "True Label: Protagonist | Predicted Label: Antagonist\n",
      "Context: the ramstein us base, german defence minister boris pistorius said berlin has offered another half a million euros worth of military aid to ukraine. “that includes 10,000 rounds of ammunition from the stock of our armed forces,” he told journalists. germany is ukraine’s second biggest donor of military support, after [ENTITY_START] Washington [ENTITY_END] , which has committed tens of billions of dollars to aid kyiv since february 2022.\n",
      "================================================================================\n",
      "Entity Mention: Vietnamese children\n",
      "True Label: Innocent | Predicted Label: Antagonist\n",
      "Context: icc didn’t bother to contrast and compare putin’s supposed abduction of ukrainian children to an organized mass kidnapping of vietnamese children. it was dubbed “operation babylift,” ordered by then president ford, and was conducted at the end of the vietnam war as the usg evacuated, having lost the war. the vietnamese children abducted without permission were described as “orphans,” although many had parents and relatives that were left behind. 3,300 children, described as “infants” (many were older children), were parceled out to families in america, australia, west germany, and france. the “rescue” of these children was an organized act of kidnapping pure\n",
      "================================================================================\n",
      "Entity Mention: Ukraine\n",
      "True Label: Innocent | Predicted Label: Antagonist\n",
      "Context: that it’s not welcome.” the remarks come as russia has massed an estimated 100,000 troops near [ENTITY_START] Ukraine [ENTITY_END] ’s border, demanding that [ENTITY_START] Ukraine [ENTITY_END] not join nato. russia also has denied it is planning an invasion, and it says the western accusations are merely a cover for nato’s own planned provocations. russia invaded [ENTITY_START] Ukraine [ENTITY_END] to annex the crimean peninsula in 2014. meanwhile, moscow also backed pro-russian separatists fighting in the eastern portion of the country known as the donbas. nato will “take all necessary measures to protect and defend all allies,” said jens stoltenberg, the alliance’s secretary-general. “we will always respond to any deterioration\n",
      "================================================================================\n",
      "Entity Mention: Lula\n",
      "True Label: Protagonist | Predicted Label: Antagonist\n",
      "Context: since taking office in january, [ENTITY_START] Lula [ENTITY_END] also lashed out the international monetary fund (imf) and criticised the outsize role of the greenback in global trade. his comments came mere days after the brazilian government ditched dollar as an intermediary and announced a deal to trade in local currency with china. [ENTITY_START] Lula [ENTITY_END] voices for de-dollarization lending his voice to china’s efforts to shed the dollar’s dominance and promote the use of the renminbi (rmb)/ yuan in overseas trade settlement, the brazilian president said: “who was it that decided that the dollar was the currency after the disappearance of the gold standard?” don’t\n",
      "================================================================================\n",
      "Entity Mention: Kyiv\n",
      "True Label: Protagonist | Predicted Label: Antagonist\n",
      "Context: missiles to be transferred to ukraine currency \"russia does not feel threatened\": estonian prime minister calls for long-range missiles to be transferred to ukraine western countries should provide the armed forces of ukraine with all the weapons they need to liberate all the territories seized by russia. first of all, [ENTITY_START] Kyiv [ENTITY_END] needs to be provided with long-range missiles. this was the call to the west made by estonian prime minister kaja kallas in an interview with the [ENTITY_START] Kyiv [ENTITY_END] independent published on sunday, january 14. in her opinion, this is the only way to repel the aggressor country. the head of the\n",
      "================================================================================\n",
      "Entity Mention: Ukraine\n",
      "True Label: Innocent | Predicted Label: Antagonist\n",
      "Context: equipment they have,\" said the estonian prime minister. the absence of long-range weapons in the ukrainian army gives the russian occupation forces an advantage to seize more territories, kallas noted. \"if they (russians - ed.) think they can win, then of course they don't feel threatened and just keep hitting [ENTITY_START] Ukraine [ENTITY_END] ,\" the official said. she also added that some western countries are afraid that moscow will lose and what consequences it will have. according to kallas, the main task now is to end the war. speaking in the estonian parliament on january 11, ukrainian president volodymyr zelensky said that [ENTITY_START] Ukraine [ENTITY_END]\n",
      "================================================================================\n",
      "Entity Mention: Bashkort\n",
      "True Label: Protagonist | Predicted Label: Antagonist\n",
      "Context: “poor people” and were mistranslated into russian. he plans to appeal the verdict. alsynov has previously criticized military mobilization in the region as “genocide” against the bashkir people. ongoing concerns exist about the disproportionate deployment of ethnic minorities, including bashkirs, in conflicts such as ukraine. alsynov was a leader of [ENTITY_START] Bashkort [ENTITY_END] , a grassroots movement focused on preserving bashkir ethnic identity, which was banned as extremist in 2020. the clashes signify a rare instance of public dissent in russia, underscoring the intensity of emotions surrounding alsynov’s case and broader issues of ethnic identity and activism in the country.\n",
      "================================================================================\n",
      "Entity Mention: Russia\n",
      "True Label: Protagonist | Predicted Label: Antagonist\n",
      "Context: discriminate against russian-speaking ukrainians,” vasily nebenzya, [ENTITY_START] Russia [ENTITY_END] 's ambassador to the un security council, said at a briefing at the un security council. \"if this result can be achieved through negotiations, we are ready for such a scenario. if not, then our objectives will be achieved by military means,\" he added. [ENTITY_START] Russia [ENTITY_END] is not fighting against the ukrainian people. [ENTITY_START] Russia [ENTITY_END] is fighting against the criminal nationalist regime that came to power in 2014” after the coup in kyiv, the diplomat said. \"the new ukrainian leadership is trying to purge the country of everything connected with [ENTITY_START] Russia [ENTITY_END] and glorify nazi accomplices. <…> \"the\n",
      "================================================================================\n",
      "Entity Mention: Yulia Navalnaya\n",
      "True Label: Protagonist | Predicted Label: Antagonist\n",
      "Context: molotov cocktail attack on russian embassy in moldova on last day of election molotov cocktail attack on russian embassy in moldova on last day of election sunday is the final day of three days of presidential elections in russia. yulia navalnaya , the wife of deceased opposition activist alexei navalny, is urging mass protests against president putin as he stands of the verge of winning another six year term as president, an outcome quite obvious to all observers. she's calling on russians to disrupt the final day of voting in what's\n",
      "================================================================================\n"
     ]
    }
   ],
   "source": [
    "misclassified_df_en = misclassified_df[misclassified_df['language'] == \"EN\"]\n",
    "\n",
    "for _, row in misclassified_df_en.iterrows():\n",
    "    print(f\"Entity Mention: {row['entity_mention']}\")\n",
    "    print(f\"True Label: {row['true_label']} | Predicted Label: {row['predicted_label']}\")\n",
    "    print(f\"Context: {row['context']}\")\n",
    "    print(\"=\" * 80)"
   ]
  },
  {
   "cell_type": "markdown",
   "id": "79339588-20df-4272-8f21-f30b68f3355a",
   "metadata": {
    "id": "79339588-20df-4272-8f21-f30b68f3355a"
   },
   "source": [
    "### Using Roberta to classify main roles"
   ]
  },
  {
   "cell_type": "code",
   "execution_count": 65,
   "id": "f41a0641-7aaa-4397-a5ff-4bf18c54ea3a",
   "metadata": {
    "id": "f41a0641-7aaa-4397-a5ff-4bf18c54ea3a"
   },
   "outputs": [],
   "source": [
    "from transformers import XLMRobertaTokenizer\n",
    "\n",
    "tokenizer = XLMRobertaTokenizer.from_pretrained(\"xlm-roberta-base\")"
   ]
  },
  {
   "cell_type": "code",
   "execution_count": 66,
   "id": "bf686c3c-8caa-4051-a460-b33501d135d8",
   "metadata": {
    "id": "bf686c3c-8caa-4051-a460-b33501d135d8"
   },
   "outputs": [],
   "source": [
    "def tokenize_data(entity_contexts, max_length=512):\n",
    "    encodings = tokenizer(entity_contexts, truncation=True, padding=True, max_length=max_length, return_tensors=\"pt\")\n",
    "    return encodings"
   ]
  },
  {
   "cell_type": "code",
   "execution_count": 67,
   "id": "35e61b16-19ce-4090-99ee-ce39c078e722",
   "metadata": {
    "id": "35e61b16-19ce-4090-99ee-ce39c078e722"
   },
   "outputs": [],
   "source": [
    "train_encodings = tokenize_data(dataset_train['entity_context'].tolist())\n",
    "val_encodings = tokenize_data(dataset_val['entity_context'].tolist())"
   ]
  },
  {
   "cell_type": "code",
   "execution_count": 68,
   "id": "935e18f6-c7b0-40be-85f9-98321255a33f",
   "metadata": {
    "id": "935e18f6-c7b0-40be-85f9-98321255a33f"
   },
   "outputs": [
    {
     "data": {
      "text/plain": [
       "[0, 1, 2, 0, 2]"
      ]
     },
     "execution_count": 68,
     "metadata": {},
     "output_type": "execute_result"
    }
   ],
   "source": [
    "train_main_roles_truths = dataset_train['main_role_encoded'].tolist()\n",
    "\n",
    "train_main_roles_truths[:5]"
   ]
  },
  {
   "cell_type": "code",
   "execution_count": 69,
   "id": "846733e2-47aa-403c-b931-cfb9c15f0cbc",
   "metadata": {
    "id": "846733e2-47aa-403c-b931-cfb9c15f0cbc"
   },
   "outputs": [
    {
     "data": {
      "text/plain": [
       "[0, 0, 0, 0, 0]"
      ]
     },
     "execution_count": 69,
     "metadata": {},
     "output_type": "execute_result"
    }
   ],
   "source": [
    "val_main_roles_truths = dataset_val['main_role_encoded'].tolist()\n",
    "\n",
    "val_main_roles_truths[:5]"
   ]
  },
  {
   "cell_type": "code",
   "execution_count": 70,
   "id": "aqpHShdS3_qM",
   "metadata": {
    "id": "aqpHShdS3_qM"
   },
   "outputs": [],
   "source": [
    "from torch.utils.data import DataLoader, Dataset\n",
    "import torch\n",
    "import torch.optim as optim\n",
    "from torch.nn import CrossEntropyLoss\n",
    "\n",
    "model_config = {\n",
    "    'batch_size': 16,\n",
    "    'num_epochs': 5,\n",
    "    'lr': 3e-5\n",
    "}"
   ]
  },
  {
   "cell_type": "code",
   "execution_count": null,
   "id": "507f2f7e-ba6f-471e-bf2a-3cca43ca0ac4",
   "metadata": {
    "id": "507f2f7e-ba6f-471e-bf2a-3cca43ca0ac4"
   },
   "outputs": [],
   "source": [
    "from transformers import XLMRobertaModel\n",
    "import torch.nn as nn\n",
    "\n",
    "class MultilingualRoleClassifier(nn.Module):\n",
    "    def __init__(self, main_roles_len):\n",
    "        super(MultilingualRoleClassifier, self).__init__()\n",
    "        self.backbone = XLMRobertaModel.from_pretrained(\"xlm-roberta-base\")\n",
    "        self.classifier = nn.Linear(self.backbone.config.hidden_size, main_roles_len)\n",
    "\n",
    "    def forward(self, input_ids, attention_mask):\n",
    "        outputs = self.backbone(input_ids=input_ids, attention_mask=attention_mask)\n",
    "        pooled_output = outputs.last_hidden_state[:, 0]\n",
    "        main_role_logits = self.classifier(pooled_output)\n",
    "        return main_role_logits"
   ]
  },
  {
   "cell_type": "code",
   "execution_count": null,
   "id": "brU_zH01Ls2M",
   "metadata": {
    "id": "brU_zH01Ls2M"
   },
   "outputs": [],
   "source": [
    "class EntityContextDataset(Dataset):\n",
    "    def __init__(self, input_ids, attention_mask, labels):\n",
    "        self.input_ids = input_ids\n",
    "        self.attention_mask = attention_mask\n",
    "        self.labels = labels\n",
    "\n",
    "    def __len__(self):\n",
    "        return len(self.labels)\n",
    "\n",
    "    def __getitem__(self, idx):\n",
    "        return {\n",
    "            'input_ids': self.input_ids[idx],\n",
    "            'attention_mask': self.attention_mask[idx],\n",
    "            'main_role_labels': self.labels[idx]\n",
    "        }\n",
    "\n",
    "train_dataset = EntityContextDataset(\n",
    "                              input_ids=train_encodings['input_ids'],\n",
    "                              attention_mask=train_encodings['attention_mask'],\n",
    "                             labels=train_main_roles_truths\n",
    "                            )\n",
    "\n",
    "val_dataset = EntityContextDataset(\n",
    "                              input_ids=val_encodings['input_ids'],\n",
    "                             attention_mask=val_encodings['attention_mask'],\n",
    "                             labels=val_main_roles_truths\n",
    "                            )"
   ]
  },
  {
   "cell_type": "code",
   "execution_count": null,
   "id": "4XJe0kgpjfOq",
   "metadata": {
    "id": "4XJe0kgpjfOq"
   },
   "outputs": [],
   "source": [
    "train_loader = DataLoader(train_dataset, batch_size=model_config['batch_size'], shuffle=True)\n",
    "val_loader = DataLoader(val_dataset, batch_size=model_config['batch_size'])"
   ]
  },
  {
   "cell_type": "code",
   "execution_count": null,
   "id": "f33531a0-383f-4806-af1d-aefb0c02d34d",
   "metadata": {
    "id": "f33531a0-383f-4806-af1d-aefb0c02d34d"
   },
   "outputs": [],
   "source": [
    "model = MultilingualRoleClassifier(main_roles_len=len(le_main_role.classes_))\n",
    "optimizer = optim.AdamW(model.parameters(), lr=model_config['lr'])\n",
    "criterion = CrossEntropyLoss()\n",
    "\n",
    "device = torch.device(\"cuda\" if torch.cuda.is_available() else \"cpu\")\n",
    "model = model.to(device)"
   ]
  },
  {
   "cell_type": "code",
   "execution_count": null,
   "id": "fOxTMeDVzEiT",
   "metadata": {
    "id": "fOxTMeDVzEiT"
   },
   "outputs": [],
   "source": [
    "from transformers import get_linear_schedule_with_warmup\n",
    "\n",
    "total_steps = len(train_loader) * model_config['num_epochs']\n",
    "warmup_steps = int(0.1 * total_steps)\n",
    "\n",
    "scheduler = get_linear_schedule_with_warmup(\n",
    "    optimizer,\n",
    "    num_warmup_steps=warmup_steps,\n",
    "    num_training_steps=total_steps\n",
    ")"
   ]
  },
  {
   "cell_type": "code",
   "execution_count": null,
   "id": "30bb49b3-b925-4c42-b158-6dcb534ab986",
   "metadata": {
    "id": "30bb49b3-b925-4c42-b158-6dcb534ab986"
   },
   "outputs": [],
   "source": [
    "def freeze_roberta_layers(model, num_layers_to_freeze=2):\n",
    "  assert hasattr(model, 'classifier'), \"Model must have a classifier attribute\"\n",
    "  for i in range(num_layers_to_freeze):\n",
    "    for param in model.backbone.encoder.layer[i].parameters():\n",
    "      param.requires_grad = False\n",
    "\n",
    "  for param in model.classifier.parameters():\n",
    "    param.requires_grad = True"
   ]
  },
  {
   "cell_type": "code",
   "execution_count": null,
   "id": "ed627b41-dc8c-4825-9805-94f13b3b2aa9",
   "metadata": {
    "id": "ed627b41-dc8c-4825-9805-94f13b3b2aa9"
   },
   "outputs": [],
   "source": [
    "freeze_roberta_layers(model)"
   ]
  },
  {
   "cell_type": "code",
   "execution_count": null,
   "id": "7efa5e65-6387-46ae-a585-b1d105e3990e",
   "metadata": {
    "id": "7efa5e65-6387-46ae-a585-b1d105e3990e"
   },
   "outputs": [],
   "source": [
    "import torch\n",
    "\n",
    "def train(train_loader, val_loader, model, optimizer, criterion, label, scheduler=None, num_epochs=10, patience=3, device='cuda'):\n",
    "    best_val_loss = float('inf')\n",
    "    epochs_without_improvement = 0\n",
    "    for epoch in range(num_epochs):\n",
    "        model.train()\n",
    "        train_loss = 0.0\n",
    "        for batch in train_loader:\n",
    "            optimizer.zero_grad()\n",
    "            input_ids = batch['input_ids'].to(device)\n",
    "            attention_mask = batch['attention_mask'].to(device)\n",
    "            labels = batch[label].to(device)\n",
    "            logits = model(input_ids, attention_mask)\n",
    "\n",
    "            loss = criterion(logits, labels)\n",
    "            loss.backward()\n",
    "            optimizer.step()\n",
    "            if scheduler is not None:\n",
    "                scheduler.step()\n",
    "            train_loss += loss.item()\n",
    "\n",
    "        model.eval()\n",
    "        val_loss = 0.0\n",
    "        with torch.no_grad():\n",
    "            for batch in val_loader:\n",
    "                input_ids = batch['input_ids'].to(device)\n",
    "                attention_mask = batch['attention_mask'].to(device)\n",
    "                labels = batch[label].to(device)\n",
    "\n",
    "                logits = model(input_ids, attention_mask)\n",
    "                loss = criterion(logits, labels)\n",
    "                val_loss += loss.item()\n",
    "\n",
    "        avg_train_loss = train_loss / len(train_loader)\n",
    "        avg_val_loss = val_loss / len(val_loader)\n",
    "\n",
    "        print(f\"Epoch {epoch+1}/{num_epochs}, Train Loss (Avg): {avg_train_loss:.4f}, Val Loss (Avg): {avg_val_loss:.4f}\")\n",
    "\n",
    "        if avg_val_loss < best_val_loss:\n",
    "            best_val_loss = avg_val_loss\n",
    "            epochs_without_improvement = 0\n",
    "        else:\n",
    "            epochs_without_improvement += 1\n",
    "\n",
    "        if epochs_without_improvement >= patience:\n",
    "            print(f\"Early stopping triggered. Stopping training after {epoch+1} epochs.\")\n",
    "            break"
   ]
  },
  {
   "cell_type": "code",
   "execution_count": null,
   "id": "42b0516a-e581-4844-8b17-cf2519c37a7e",
   "metadata": {
    "id": "42b0516a-e581-4844-8b17-cf2519c37a7e"
   },
   "outputs": [],
   "source": [
    "train(train_loader=train_loader, val_loader=val_loader, model=model, optimizer=optimizer, criterion=criterion, label='main_role_labels', scheduler=scheduler)"
   ]
  },
  {
   "cell_type": "code",
   "execution_count": null,
   "id": "vBxkN6hdkWMb",
   "metadata": {
    "id": "vBxkN6hdkWMb"
   },
   "outputs": [],
   "source": [
    "from sklearn.metrics import f1_score\n",
    "\n",
    "def evaluate_transformer_model(\n",
    "    model,\n",
    "    val_loader,\n",
    "    label_column,\n",
    "    device='cuda',\n",
    "    target_names=None\n",
    "):\n",
    "    model.eval()\n",
    "\n",
    "    all_preds = []\n",
    "    all_truths = []\n",
    "\n",
    "    with torch.no_grad():\n",
    "        for batch in val_loader:\n",
    "            input_ids = batch['input_ids'].to(device)\n",
    "            attention_mask = batch['attention_mask'].to(device)\n",
    "            labels = batch[label_column].to(device)\n",
    "\n",
    "            logits = model(input_ids, attention_mask)\n",
    "\n",
    "            probs = torch.softmax(logits, dim=-1)\n",
    "            model_preds = torch.argmax(probs, dim=-1)\n",
    "\n",
    "            all_preds.extend(model_preds.cpu().numpy())\n",
    "            all_truths.extend(labels.cpu().numpy())\n",
    "\n",
    "    classification_rep = classification_report(all_truths, all_preds, target_names=target_names, zero_division=0)\n",
    "    current_f1 = f1_score(all_truths, all_preds, average='macro')\n",
    "    micro_f1 = f1_score(all_truths, all_preds, average='micro')\n",
    "\n",
    "    print(\"Classification Report:\")\n",
    "    print(classification_rep)\n",
    "    print(f\"F1 Score (Macro Average): {current_f1}\")\n",
    "    print(f\"F1 Score (Micro Average): {micro_f1}\")\n",
    "\n",
    "    accuracy = (np.array(all_preds) == np.array(all_truths)).mean()\n",
    "    print(f\"Accuracy: {accuracy}\")\n",
    "\n",
    "    conf_matrix = confusion_matrix(all_truths, all_preds)\n",
    "    print(\"Confusion Matrix:\")\n",
    "    print(conf_matrix)"
   ]
  },
  {
   "cell_type": "code",
   "execution_count": null,
   "id": "W2kdhegCku0X",
   "metadata": {
    "id": "W2kdhegCku0X"
   },
   "outputs": [],
   "source": [
    "evaluate_transformer_model(\n",
    "    model,\n",
    "    val_loader,\n",
    "    label_column='main_role_labels',\n",
    "    device='cuda',\n",
    "    target_names=le_main_role.classes_\n",
    ")"
   ]
  },
  {
   "cell_type": "markdown",
   "id": "PUIYOcHMJXKE",
   "metadata": {
    "id": "PUIYOcHMJXKE"
   },
   "source": [
    "### Using Roberta to classify sub roles"
   ]
  },
  {
   "cell_type": "code",
   "execution_count": null,
   "id": "mUcV1awdJdGI",
   "metadata": {
    "id": "mUcV1awdJdGI"
   },
   "outputs": [],
   "source": [
    "train_sub_roles_truth = dataset_train['sub_roles_encoded'].tolist()\n",
    "\n",
    "train_sub_roles_truth[:5]"
   ]
  },
  {
   "cell_type": "code",
   "execution_count": null,
   "id": "HYDJU9yGJsh2",
   "metadata": {
    "id": "HYDJU9yGJsh2"
   },
   "outputs": [],
   "source": [
    "val_sub_roles_truth = dataset_val['sub_roles_encoded'].tolist()\n",
    "\n",
    "val_sub_roles_truth[:5]"
   ]
  },
  {
   "cell_type": "code",
   "execution_count": null,
   "id": "LG8i_zBrLcCH",
   "metadata": {
    "id": "LG8i_zBrLcCH"
   },
   "outputs": [],
   "source": [
    "from transformers import XLMRobertaModel\n",
    "import torch.nn as nn\n",
    "\n",
    "class MultilingualSubRoleClassifier(nn.Module):\n",
    "    def __init__(self, sub_roles_len):\n",
    "        super(MultilingualSubRoleClassifier, self).__init__()\n",
    "        self.backbone = XLMRobertaModel.from_pretrained(\"xlm-roberta-base\")\n",
    "        self.classifier = nn.Linear(self.backbone.config.hidden_size, sub_roles_len)\n",
    "        self.dropout = nn.Dropout(p=0.3)\n",
    "\n",
    "    def forward(self, input_ids, attention_mask):\n",
    "        outputs = self.backbone(input_ids=input_ids, attention_mask=attention_mask)\n",
    "        pooled_output = outputs.last_hidden_state[:, 0]\n",
    "        pooled_output = self.dropout(pooled_output)\n",
    "        sub_roles_logits = self.classifier(pooled_output)\n",
    "        return sub_roles_logits"
   ]
  },
  {
   "cell_type": "code",
   "execution_count": null,
   "id": "6UgvtAnoLoWG",
   "metadata": {
    "id": "6UgvtAnoLoWG"
   },
   "outputs": [],
   "source": [
    "class SubRoleDataset(Dataset):\n",
    "    def __init__(self, input_ids, attention_mask, labels):\n",
    "        self.input_ids = input_ids\n",
    "        self.attention_mask = attention_mask\n",
    "        self.labels = labels\n",
    "\n",
    "    def __len__(self):\n",
    "        return len(self.labels)\n",
    "\n",
    "    def __getitem__(self, idx):\n",
    "        return {\n",
    "            'input_ids': self.input_ids[idx],\n",
    "            'attention_mask': self.attention_mask[idx],\n",
    "            'sub_role_labels': self.labels[idx].astype(np.float32)\n",
    "        }\n",
    "\n",
    "train_dataset_sbr = SubRoleDataset(\n",
    "                              input_ids=train_encodings['input_ids'],\n",
    "                              attention_mask=train_encodings['attention_mask'],\n",
    "                              labels=train_sub_roles_truth\n",
    "                            )\n",
    "\n",
    "val_dataset_sbr = SubRoleDataset(\n",
    "                              input_ids=val_encodings['input_ids'],\n",
    "                              attention_mask=val_encodings['attention_mask'],\n",
    "                              labels=val_sub_roles_truth\n",
    "                            )"
   ]
  },
  {
   "cell_type": "code",
   "execution_count": null,
   "id": "5JAV2rm1L1M_",
   "metadata": {
    "id": "5JAV2rm1L1M_"
   },
   "outputs": [],
   "source": [
    "train_loader_sbr = DataLoader(train_dataset_sbr, batch_size=model_config['batch_size'], shuffle=True)\n",
    "val_loader_sbr = DataLoader(val_dataset_sbr, batch_size=model_config['batch_size'], shuffle=False)"
   ]
  },
  {
   "cell_type": "code",
   "execution_count": null,
   "id": "N7W1wso-MJYS",
   "metadata": {
    "id": "N7W1wso-MJYS"
   },
   "outputs": [],
   "source": [
    "sbr_model = MultilingualSubRoleClassifier(sub_roles_len=len(mlb_sub_role.classes_))"
   ]
  },
  {
   "cell_type": "code",
   "execution_count": null,
   "id": "hOpgt8N4Me8Q",
   "metadata": {
    "id": "hOpgt8N4Me8Q"
   },
   "outputs": [],
   "source": [
    "from torch.nn import BCEWithLogitsLoss\n",
    "\n",
    "model_config = {\n",
    "    'batch_size': 16,\n",
    "    'num_epochs': 10,\n",
    "    'lr': 4e-5\n",
    "}\n",
    "\n",
    "device = torch.device(\"cuda\" if torch.cuda.is_available() else \"cpu\")\n",
    "optimizer_sbr = optim.AdamW(sbr_model.parameters(), lr=model_config['lr'])\n",
    "criterion_sbr = BCEWithLogitsLoss()\n",
    "\n",
    "sbr_model.to(device)"
   ]
  },
  {
   "cell_type": "code",
   "execution_count": null,
   "id": "gYrqIoxq3rIJ",
   "metadata": {
    "id": "gYrqIoxq3rIJ"
   },
   "outputs": [],
   "source": [
    "from transformers import get_scheduler\n",
    "\n",
    "num_training_steps = len(train_loader_sbr) * model_config['num_epochs']\n",
    "scheduler_sbr = get_scheduler(\n",
    "    \"linear\",\n",
    "    optimizer=optimizer_sbr,\n",
    "    num_warmup_steps=0.1 * num_training_steps,\n",
    "    num_training_steps=num_training_steps,\n",
    ")"
   ]
  },
  {
   "cell_type": "code",
   "execution_count": null,
   "id": "bW0AHVijMznN",
   "metadata": {
    "id": "bW0AHVijMznN"
   },
   "outputs": [],
   "source": [
    "train(train_loader_sbr, val_loader_sbr, sbr_model, optimizer_sbr, criterion_sbr, 'sub_role_labels', scheduler=scheduler_sbr)"
   ]
  },
  {
   "cell_type": "code",
   "execution_count": null,
   "id": "4KGAW7YUMyu6",
   "metadata": {
    "id": "4KGAW7YUMyu6"
   },
   "outputs": [],
   "source": [
    "from sklearn.metrics import f1_score\n",
    "\n",
    "def evaluate_transformer_model(\n",
    "    model,\n",
    "    val_loader,\n",
    "    label_column,\n",
    "    thresholds=np.arange(0.1, 1.0, 0.1),\n",
    "    device='cuda',\n",
    "    target_names=None\n",
    "):\n",
    "    best_threshold = 0\n",
    "    best_f1 = 0\n",
    "    best_classification_report = None\n",
    "\n",
    "    all_preds = []\n",
    "    all_truths = []\n",
    "\n",
    "    for threshold in thresholds:\n",
    "        preds = []\n",
    "        truths = []\n",
    "\n",
    "        with torch.no_grad():\n",
    "            for batch in val_loader:\n",
    "                input_ids = batch['input_ids'].to(device)\n",
    "                attention_mask = batch['attention_mask'].to(device)\n",
    "                labels = batch[label_column].to(device)\n",
    "                logits = model(input_ids, attention_mask)\n",
    "                probs = torch.sigmoid(logits)\n",
    "\n",
    "                model_preds = (probs >= threshold).int()\n",
    "                preds.extend(model_preds.cpu().numpy())\n",
    "                truths.extend(labels.cpu().numpy())\n",
    "\n",
    "        classification_rep = classification_report(truths, preds, target_names=target_names, zero_division=0)\n",
    "        current_f1 = f1_score(truths, preds, average='macro')\n",
    "\n",
    "        if current_f1 > best_f1:\n",
    "            best_f1 = current_f1\n",
    "            best_threshold = threshold\n",
    "            best_classification_report = classification_rep\n",
    "\n",
    "    print(f\"Best Threshold: {best_threshold}, Best F1 Score: {best_f1}\")\n",
    "    print(\"Best Classification Report:\")\n",
    "    print(best_classification_report)"
   ]
  },
  {
   "cell_type": "code",
   "execution_count": null,
   "id": "xTZmsW5VPd3g",
   "metadata": {
    "id": "xTZmsW5VPd3g"
   },
   "outputs": [],
   "source": [
    "evaluate_transformer_model(sbr_model, val_loader_sbr, label_column='sub_role_labels', device='cuda', target_names=mlb_sub_role.classes_)"
   ]
  }
 ],
 "metadata": {
  "accelerator": "GPU",
  "colab": {
   "gpuType": "T4",
   "provenance": []
  },
  "kernelspec": {
   "display_name": "Python 3 (ipykernel)",
   "language": "python",
   "name": "python3"
  },
  "language_info": {
   "codemirror_mode": {
    "name": "ipython",
    "version": 3
   },
   "file_extension": ".py",
   "mimetype": "text/x-python",
   "name": "python",
   "nbconvert_exporter": "python",
   "pygments_lexer": "ipython3",
   "version": "3.12.4"
  }
 },
 "nbformat": 4,
 "nbformat_minor": 5
}
