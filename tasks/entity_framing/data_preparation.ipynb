{
 "cells": [
  {
   "cell_type": "markdown",
   "id": "8a4e9bd8-e2dc-4758-b4e0-f050f1d02ae8",
   "metadata": {},
   "source": [
    "# Semeval 2025 Task 10\n",
    "\n",
    "## Subtask 1: Entity Framing -- Multilingual\n",
    "\n",
    "Given a news article and a list of mentions of named entities (NEs) in the article, assign for each such mention one or more roles using a predefined taxonomy of fine-grained roles covering three main type of roles: protagonists, antagonists, and innocent. This is a multi-label multi-class text-span classification task."
   ]
  },
  {
   "cell_type": "code",
   "execution_count": 1,
   "id": "ef5e0bf3-ccc7-415d-9e6d-274f0b88cca5",
   "metadata": {},
   "outputs": [],
   "source": [
    "import pandas as pd\n",
    "import numpy as np\n",
    "\n",
    "from matplotlib import pyplot as plt\n",
    "import seaborn as sns\n",
    "import os"
   ]
  },
  {
   "cell_type": "code",
   "execution_count": 2,
   "id": "528d0aed-c9f2-43af-89a4-e5f0c1dde1fd",
   "metadata": {},
   "outputs": [],
   "source": [
    "root_dir = \"../\""
   ]
  },
  {
   "cell_type": "code",
   "execution_count": 3,
   "id": "55a4ac50-e45e-406c-a4f7-54ee2f54c39d",
   "metadata": {},
   "outputs": [],
   "source": [
    "data = []\n",
    "ignore_folders = ['.DS_Store']\n",
    "\n",
    "base_dir_documents = root_dir + '../data/semeval_data/train/raw-documents'\n",
    "\n",
    "for language_folder in os.listdir(base_dir_documents):\n",
    "\n",
    "    if language_folder in ignore_folders:\n",
    "        continue\n",
    "\n",
    "    language_path = os.path.join(base_dir_documents, language_folder)\n",
    "    if os.path.isdir(language_path):\n",
    "        for root, _, files in os.walk(language_path):\n",
    "            for file in files:\n",
    "                if file.endswith('.txt'):\n",
    "                    file_path = os.path.join(root, file)\n",
    "\n",
    "                    article_id = file\n",
    "                    with open(file_path, 'r', encoding='utf-8') as f:\n",
    "                        content = f.read()\n",
    "\n",
    "                    data.append({\n",
    "                        'language': language_folder,\n",
    "                        'article_id': article_id,\n",
    "                        'content': content\n",
    "                    })\n",
    "\n",
    "documents_df = pd.DataFrame(data)"
   ]
  },
  {
   "cell_type": "code",
   "execution_count": 4,
   "id": "4544bc79-03bc-4f4a-94d2-45d751a67cac",
   "metadata": {},
   "outputs": [
    {
     "data": {
      "text/plain": [
       "(1709, 3)"
      ]
     },
     "execution_count": 4,
     "metadata": {},
     "output_type": "execute_result"
    }
   ],
   "source": [
    "documents_df.shape"
   ]
  },
  {
   "cell_type": "code",
   "execution_count": 5,
   "id": "2489d124-cf4d-4b1d-a453-9dcdc881503d",
   "metadata": {},
   "outputs": [
    {
     "data": {
      "text/html": [
       "<div>\n",
       "<style scoped>\n",
       "    .dataframe tbody tr th:only-of-type {\n",
       "        vertical-align: middle;\n",
       "    }\n",
       "\n",
       "    .dataframe tbody tr th {\n",
       "        vertical-align: top;\n",
       "    }\n",
       "\n",
       "    .dataframe thead th {\n",
       "        text-align: right;\n",
       "    }\n",
       "</style>\n",
       "<table border=\"1\" class=\"dataframe\">\n",
       "  <thead>\n",
       "    <tr style=\"text-align: right;\">\n",
       "      <th></th>\n",
       "      <th>language</th>\n",
       "      <th>article_id</th>\n",
       "      <th>content</th>\n",
       "    </tr>\n",
       "  </thead>\n",
       "  <tbody>\n",
       "    <tr>\n",
       "      <th>952</th>\n",
       "      <td>HI</td>\n",
       "      <td>HI_68.txt</td>\n",
       "      <td>यूक्रेन में रूसी सेना द्वारा किए गए सबसे बड़े ...</td>\n",
       "    </tr>\n",
       "    <tr>\n",
       "      <th>1371</th>\n",
       "      <td>EN</td>\n",
       "      <td>EN_CC_100136.txt</td>\n",
       "      <td>Climate Science Denial Group GWPF Admits It Us...</td>\n",
       "    </tr>\n",
       "    <tr>\n",
       "      <th>567</th>\n",
       "      <td>BG</td>\n",
       "      <td>BG_546.txt</td>\n",
       "      <td>The National Interest: Удари по ВСУ с бомби FA...</td>\n",
       "    </tr>\n",
       "    <tr>\n",
       "      <th>1135</th>\n",
       "      <td>HI</td>\n",
       "      <td>HI_197.txt</td>\n",
       "      <td>बर्बरता पर उतर आई रूसी सेना, यूक्रेनियों के खू...</td>\n",
       "    </tr>\n",
       "    <tr>\n",
       "      <th>1610</th>\n",
       "      <td>EN</td>\n",
       "      <td>EN_UA_100840.txt</td>\n",
       "      <td>Warning US could be ‘hit with most debilitatin...</td>\n",
       "    </tr>\n",
       "  </tbody>\n",
       "</table>\n",
       "</div>"
      ],
      "text/plain": [
       "     language        article_id  \\\n",
       "952        HI         HI_68.txt   \n",
       "1371       EN  EN_CC_100136.txt   \n",
       "567        BG        BG_546.txt   \n",
       "1135       HI        HI_197.txt   \n",
       "1610       EN  EN_UA_100840.txt   \n",
       "\n",
       "                                                content  \n",
       "952   यूक्रेन में रूसी सेना द्वारा किए गए सबसे बड़े ...  \n",
       "1371  Climate Science Denial Group GWPF Admits It Us...  \n",
       "567   The National Interest: Удари по ВСУ с бомби FA...  \n",
       "1135  बर्बरता पर उतर आई रूसी सेना, यूक्रेनियों के खू...  \n",
       "1610  Warning US could be ‘hit with most debilitatin...  "
      ]
     },
     "execution_count": 5,
     "metadata": {},
     "output_type": "execute_result"
    }
   ],
   "source": [
    "documents_df.sample(5)"
   ]
  },
  {
   "cell_type": "code",
   "execution_count": 6,
   "id": "37352b7f-e2b6-47bc-a8ab-9d1682f456b4",
   "metadata": {},
   "outputs": [
    {
     "data": {
      "text/plain": [
       "<bound method Series.unique of 0        RU-URW-1161.txt\n",
       "1        RU-URW-1175.txt\n",
       "2        RU-URW-1149.txt\n",
       "3        RU-URW-1015.txt\n",
       "4        RU-URW-1001.txt\n",
       "              ...       \n",
       "1704    EN_UA_008072.txt\n",
       "1705    EN_CC_300151.txt\n",
       "1706    EN_CC_200145.txt\n",
       "1707    EN_UA_015962.txt\n",
       "1708    EN_CC_300179.txt\n",
       "Name: article_id, Length: 1709, dtype: object>"
      ]
     },
     "execution_count": 6,
     "metadata": {},
     "output_type": "execute_result"
    }
   ],
   "source": [
    "documents_df['article_id'].unique"
   ]
  },
  {
   "cell_type": "code",
   "execution_count": 7,
   "id": "0457181c-b11d-4a64-b76a-c624048f3a65",
   "metadata": {},
   "outputs": [],
   "source": [
    "base_dir_labels = root_dir + '../data/semeval_data/train/labels'\n",
    "\n",
    "raw_annotation_data = []\n",
    "\n",
    "for language_folder in os.listdir(base_dir_labels):\n",
    "\n",
    "    if language_folder in ignore_folders:\n",
    "        continue\n",
    "\n",
    "    language_path = os.path.join(base_dir_labels, language_folder)\n",
    "    if os.path.isdir(language_path):\n",
    "        for root, _, files in os.walk(language_path):\n",
    "            label_file = 'subtask-1-annotations.txt'\n",
    "            file_path = os.path.join(root, label_file)\n",
    "            with open(file_path, 'r', encoding='utf-8') as file:\n",
    "                for line in file:\n",
    "                    parts = line.strip().split('\\t')\n",
    "                    article_id = parts[0]\n",
    "                    entity_mention = parts[1]\n",
    "                    start_offset = int(parts[2])\n",
    "                    end_offset = int(parts[3])\n",
    "                    main_role = parts[4]\n",
    "\n",
    "                    sub_roles = parts[5:]\n",
    "                    raw_annotation_data.append({\n",
    "                        \"article_id\": article_id,\n",
    "                        \"entity_mention\": entity_mention,\n",
    "                        \"start_offset\": start_offset,\n",
    "                        \"end_offset\": end_offset,\n",
    "                        \"main_role\": main_role,\n",
    "                        \"sub_roles\": sub_roles,\n",
    "                    })\n",
    "\n",
    "annotations_df = pd.DataFrame(raw_annotation_data)"
   ]
  },
  {
   "cell_type": "code",
   "execution_count": 8,
   "id": "fb0463cb-61e6-418f-81d9-0097092062e0",
   "metadata": {},
   "outputs": [
    {
     "data": {
      "text/html": [
       "<div>\n",
       "<style scoped>\n",
       "    .dataframe tbody tr th:only-of-type {\n",
       "        vertical-align: middle;\n",
       "    }\n",
       "\n",
       "    .dataframe tbody tr th {\n",
       "        vertical-align: top;\n",
       "    }\n",
       "\n",
       "    .dataframe thead th {\n",
       "        text-align: right;\n",
       "    }\n",
       "</style>\n",
       "<table border=\"1\" class=\"dataframe\">\n",
       "  <thead>\n",
       "    <tr style=\"text-align: right;\">\n",
       "      <th></th>\n",
       "      <th>article_id</th>\n",
       "      <th>entity_mention</th>\n",
       "      <th>start_offset</th>\n",
       "      <th>end_offset</th>\n",
       "      <th>main_role</th>\n",
       "      <th>sub_roles</th>\n",
       "    </tr>\n",
       "  </thead>\n",
       "  <tbody>\n",
       "    <tr>\n",
       "      <th>0</th>\n",
       "      <td>RU-URW-1080.txt</td>\n",
       "      <td>Ермак</td>\n",
       "      <td>155</td>\n",
       "      <td>159</td>\n",
       "      <td>Antagonist</td>\n",
       "      <td>[Incompetent]</td>\n",
       "    </tr>\n",
       "    <tr>\n",
       "      <th>1</th>\n",
       "      <td>RU-URW-1080.txt</td>\n",
       "      <td>Трамп</td>\n",
       "      <td>492</td>\n",
       "      <td>496</td>\n",
       "      <td>Protagonist</td>\n",
       "      <td>[Peacemaker]</td>\n",
       "    </tr>\n",
       "    <tr>\n",
       "      <th>2</th>\n",
       "      <td>RU-URW-1013.txt</td>\n",
       "      <td>Украины</td>\n",
       "      <td>108</td>\n",
       "      <td>114</td>\n",
       "      <td>Innocent</td>\n",
       "      <td>[Victim]</td>\n",
       "    </tr>\n",
       "    <tr>\n",
       "      <th>3</th>\n",
       "      <td>RU-URW-1145.txt</td>\n",
       "      <td>Российские войска</td>\n",
       "      <td>105</td>\n",
       "      <td>121</td>\n",
       "      <td>Protagonist</td>\n",
       "      <td>[Guardian]</td>\n",
       "    </tr>\n",
       "    <tr>\n",
       "      <th>4</th>\n",
       "      <td>RU-URW-1145.txt</td>\n",
       "      <td>ВСУ</td>\n",
       "      <td>131</td>\n",
       "      <td>133</td>\n",
       "      <td>Antagonist</td>\n",
       "      <td>[Terrorist]</td>\n",
       "    </tr>\n",
       "  </tbody>\n",
       "</table>\n",
       "</div>"
      ],
      "text/plain": [
       "        article_id     entity_mention  start_offset  end_offset    main_role  \\\n",
       "0  RU-URW-1080.txt              Ермак           155         159   Antagonist   \n",
       "1  RU-URW-1080.txt              Трамп           492         496  Protagonist   \n",
       "2  RU-URW-1013.txt            Украины           108         114     Innocent   \n",
       "3  RU-URW-1145.txt  Российские войска           105         121  Protagonist   \n",
       "4  RU-URW-1145.txt                ВСУ           131         133   Antagonist   \n",
       "\n",
       "       sub_roles  \n",
       "0  [Incompetent]  \n",
       "1   [Peacemaker]  \n",
       "2       [Victim]  \n",
       "3     [Guardian]  \n",
       "4    [Terrorist]  "
      ]
     },
     "execution_count": 8,
     "metadata": {},
     "output_type": "execute_result"
    }
   ],
   "source": [
    "annotations_df.head()"
   ]
  },
  {
   "cell_type": "code",
   "execution_count": 9,
   "id": "f88fc721-2fde-4ce3-a8a3-707ee6336bf3",
   "metadata": {},
   "outputs": [
    {
     "data": {
      "text/plain": [
       "(5262, 6)"
      ]
     },
     "execution_count": 9,
     "metadata": {},
     "output_type": "execute_result"
    }
   ],
   "source": [
    "annotations_df.shape"
   ]
  },
  {
   "cell_type": "code",
   "execution_count": 10,
   "id": "3b526c98-f507-4d61-8705-eb8afb6d1be9",
   "metadata": {},
   "outputs": [],
   "source": [
    "from collections import defaultdict\n",
    "\n",
    "main_to_sub = defaultdict(set)\n",
    "\n",
    "for record in raw_annotation_data:\n",
    "    main_role = record['main_role']\n",
    "    sub_roles = record['sub_roles']\n",
    "    for main, sub in zip([main_role], sub_roles):\n",
    "        main_to_sub[main].add(sub)\n",
    "\n",
    "main_to_sub = {main: list(subs) for main, subs in main_to_sub.items()}"
   ]
  },
  {
   "cell_type": "code",
   "execution_count": 11,
   "id": "a82f1611-9ca1-4e7b-a89c-a913021c9b22",
   "metadata": {},
   "outputs": [
    {
     "data": {
      "text/plain": [
       "{'Antagonist': ['Corrupt',\n",
       "  'Instigator',\n",
       "  'Spy',\n",
       "  'Terrorist',\n",
       "  'Incompetent',\n",
       "  'Saboteur',\n",
       "  'Deceiver',\n",
       "  'Tyrant',\n",
       "  'Foreign Adversary',\n",
       "  'Conspirator',\n",
       "  'Bigot',\n",
       "  'Traitor'],\n",
       " 'Protagonist': ['Underdog',\n",
       "  'Peacemaker',\n",
       "  'Martyr',\n",
       "  'Virtuous',\n",
       "  'Rebel',\n",
       "  'Guardian'],\n",
       " 'Innocent': ['Forgotten', 'Exploited', 'Scapegoat', 'Victim']}"
      ]
     },
     "execution_count": 11,
     "metadata": {},
     "output_type": "execute_result"
    }
   ],
   "source": [
    "main_to_sub"
   ]
  },
  {
   "cell_type": "code",
   "execution_count": 12,
   "id": "e23f9e9e-d991-4ecc-9455-6897b352f8d1",
   "metadata": {},
   "outputs": [
    {
     "data": {
      "text/html": [
       "<div>\n",
       "<style scoped>\n",
       "    .dataframe tbody tr th:only-of-type {\n",
       "        vertical-align: middle;\n",
       "    }\n",
       "\n",
       "    .dataframe tbody tr th {\n",
       "        vertical-align: top;\n",
       "    }\n",
       "\n",
       "    .dataframe thead th {\n",
       "        text-align: right;\n",
       "    }\n",
       "</style>\n",
       "<table border=\"1\" class=\"dataframe\">\n",
       "  <thead>\n",
       "    <tr style=\"text-align: right;\">\n",
       "      <th></th>\n",
       "      <th>language</th>\n",
       "      <th>article_id</th>\n",
       "      <th>content</th>\n",
       "      <th>entity_mention</th>\n",
       "      <th>start_offset</th>\n",
       "      <th>end_offset</th>\n",
       "      <th>main_role</th>\n",
       "      <th>sub_roles</th>\n",
       "    </tr>\n",
       "  </thead>\n",
       "  <tbody>\n",
       "    <tr>\n",
       "      <th>0</th>\n",
       "      <td>RU</td>\n",
       "      <td>RU-URW-1161.txt</td>\n",
       "      <td>В ближайшие два месяца США будут стремиться к ...</td>\n",
       "      <td>НАТО</td>\n",
       "      <td>173</td>\n",
       "      <td>176</td>\n",
       "      <td>Antagonist</td>\n",
       "      <td>[Foreign Adversary]</td>\n",
       "    </tr>\n",
       "    <tr>\n",
       "      <th>1</th>\n",
       "      <td>RU</td>\n",
       "      <td>RU-URW-1161.txt</td>\n",
       "      <td>В ближайшие два месяца США будут стремиться к ...</td>\n",
       "      <td>Украине</td>\n",
       "      <td>262</td>\n",
       "      <td>268</td>\n",
       "      <td>Innocent</td>\n",
       "      <td>[Exploited]</td>\n",
       "    </tr>\n",
       "    <tr>\n",
       "      <th>2</th>\n",
       "      <td>RU</td>\n",
       "      <td>RU-URW-1161.txt</td>\n",
       "      <td>В ближайшие два месяца США будут стремиться к ...</td>\n",
       "      <td>Вадим Колесниченко</td>\n",
       "      <td>414</td>\n",
       "      <td>431</td>\n",
       "      <td>Protagonist</td>\n",
       "      <td>[Virtuous]</td>\n",
       "    </tr>\n",
       "    <tr>\n",
       "      <th>3</th>\n",
       "      <td>RU</td>\n",
       "      <td>RU-URW-1161.txt</td>\n",
       "      <td>В ближайшие два месяца США будут стремиться к ...</td>\n",
       "      <td>России</td>\n",
       "      <td>1292</td>\n",
       "      <td>1297</td>\n",
       "      <td>Innocent</td>\n",
       "      <td>[Victim]</td>\n",
       "    </tr>\n",
       "    <tr>\n",
       "      <th>4</th>\n",
       "      <td>RU</td>\n",
       "      <td>RU-URW-1175.txt</td>\n",
       "      <td>В ЕС испугались последствий популярности правы...</td>\n",
       "      <td>Макрона</td>\n",
       "      <td>3422</td>\n",
       "      <td>3428</td>\n",
       "      <td>Antagonist</td>\n",
       "      <td>[Incompetent]</td>\n",
       "    </tr>\n",
       "  </tbody>\n",
       "</table>\n",
       "</div>"
      ],
      "text/plain": [
       "  language       article_id  \\\n",
       "0       RU  RU-URW-1161.txt   \n",
       "1       RU  RU-URW-1161.txt   \n",
       "2       RU  RU-URW-1161.txt   \n",
       "3       RU  RU-URW-1161.txt   \n",
       "4       RU  RU-URW-1175.txt   \n",
       "\n",
       "                                             content      entity_mention  \\\n",
       "0  В ближайшие два месяца США будут стремиться к ...                НАТО   \n",
       "1  В ближайшие два месяца США будут стремиться к ...             Украине   \n",
       "2  В ближайшие два месяца США будут стремиться к ...  Вадим Колесниченко   \n",
       "3  В ближайшие два месяца США будут стремиться к ...              России   \n",
       "4  В ЕС испугались последствий популярности правы...             Макрона   \n",
       "\n",
       "   start_offset  end_offset    main_role            sub_roles  \n",
       "0           173         176   Antagonist  [Foreign Adversary]  \n",
       "1           262         268     Innocent          [Exploited]  \n",
       "2           414         431  Protagonist           [Virtuous]  \n",
       "3          1292        1297     Innocent             [Victim]  \n",
       "4          3422        3428   Antagonist        [Incompetent]  "
      ]
     },
     "execution_count": 12,
     "metadata": {},
     "output_type": "execute_result"
    }
   ],
   "source": [
    "dataset = pd.merge(documents_df, annotations_df, on='article_id')\n",
    "dataset.head()"
   ]
  },
  {
   "cell_type": "code",
   "execution_count": 13,
   "id": "042621bb-e373-4c6d-b2bf-0f8af6d4837f",
   "metadata": {},
   "outputs": [
    {
     "name": "stdout",
     "output_type": "stream",
     "text": [
      "Возможность признания Аллы Пугачевой иностранным агентом\n",
      "\n",
      "\"В свете недавних событий вокруг Аллы Пугачевой возник вопрос о возможности признания её иностранным агентом. Этот сложный юридический процесс требует тщательного рассмотрения ряда факторов. Управляющий партнер компании \"\"Русяев и партнеры\"\", юрист Илья Русяев, пояснил, что для признания Пугачевой иноагентом необходимо установить наличие иностранного финансирования или влияния. Учитывая её международную известность и связи, можно предположить наличие зарубежных источников дохода. Однако этого недостаточно нужно доказать, что эти средства используются для политической деятельности в России.\n",
      "\n",
      "Ключевым аспектом в данном случае может стать публичная позиция Пугачевой. Её недавний пост о ситуации в Киеве может быть расценен как распространение информации, дискредитирующей действия российских Вооруженных сил, что может интерпретироваться как политическая деятельность. Для инициирования процесса Министерству юстиции потребуется собрать доказательную базу, включая анализ её финансовых операций, публичных выступлений и постов в социальных сетях. Сам факт критических высказываний недостаточен необходимо доказать систематический характер такой деятельности и её связь с иностранным влиянием. Если Минюст решит включить Пугачеву в реестр иноагентов , она получит уведомление и право обжаловать это решение в суде. Такой процесс, учитывая статус Пугачевой, вероятно, вызовет значительный общественный резонанс и потребует дополнительных юридических обоснований. В случае признания иноагентом, Пугачева будет обязана маркировать все свои публичные заявления и творческие работы соответствующим образом, что может существенно повлиять на её публичный образ и карьеру. Также ей придётся регулярно отчитываться о своих доходах и расходах, что может быть сложной задачей для артиста такого уровня. Что касается конфискации имущества, действующее законодательство не предусматривает автоматической конфискации у иноагентов. Для этого потребуется отдельное судебное решение, основанное на доказательствах незаконного использования имущества. Признание такой знаковой фигуры, как Алла Пугачева, иностранным агентом это не только юридический, но и политический вопрос. Такое решение может иметь далеко идущие последствия для общественного мнения и культурной сферы России. Поэтому процесс, если будет инициирован, вероятно, будет проходить с особой тщательностью и вниманием к деталям, сообщает Общественная Служба Новостей.\"\n"
     ]
    }
   ],
   "source": [
    "print(dataset.iloc[6].content)"
   ]
  },
  {
   "cell_type": "code",
   "execution_count": 14,
   "id": "40e618bd-2b7a-48e7-9f81-aa4f9836025b",
   "metadata": {},
   "outputs": [
    {
     "name": "stdout",
     "output_type": "stream",
     "text": [
      "Министерству юстиции\n"
     ]
    }
   ],
   "source": [
    "print(dataset.iloc[6].entity_mention)"
   ]
  },
  {
   "cell_type": "code",
   "execution_count": 15,
   "id": "b7b169d1-ac86-4575-80a2-db395317aff7",
   "metadata": {},
   "outputs": [
    {
     "data": {
      "text/html": [
       "<div>\n",
       "<style scoped>\n",
       "    .dataframe tbody tr th:only-of-type {\n",
       "        vertical-align: middle;\n",
       "    }\n",
       "\n",
       "    .dataframe tbody tr th {\n",
       "        vertical-align: top;\n",
       "    }\n",
       "\n",
       "    .dataframe thead th {\n",
       "        text-align: right;\n",
       "    }\n",
       "</style>\n",
       "<table border=\"1\" class=\"dataframe\">\n",
       "  <thead>\n",
       "    <tr style=\"text-align: right;\">\n",
       "      <th></th>\n",
       "      <th>language</th>\n",
       "      <th>article_id</th>\n",
       "      <th>content</th>\n",
       "      <th>entity_mention</th>\n",
       "      <th>start_offset</th>\n",
       "      <th>end_offset</th>\n",
       "      <th>main_role</th>\n",
       "      <th>sub_roles</th>\n",
       "    </tr>\n",
       "  </thead>\n",
       "  <tbody>\n",
       "    <tr>\n",
       "      <th>0</th>\n",
       "      <td>RU</td>\n",
       "      <td>RU-URW-1161.txt</td>\n",
       "      <td>В ближайшие два месяца США будут стремиться к ...</td>\n",
       "      <td>НАТО</td>\n",
       "      <td>173</td>\n",
       "      <td>176</td>\n",
       "      <td>Antagonist</td>\n",
       "      <td>[Foreign Adversary]</td>\n",
       "    </tr>\n",
       "    <tr>\n",
       "      <th>1</th>\n",
       "      <td>RU</td>\n",
       "      <td>RU-URW-1161.txt</td>\n",
       "      <td>В ближайшие два месяца США будут стремиться к ...</td>\n",
       "      <td>Украине</td>\n",
       "      <td>262</td>\n",
       "      <td>268</td>\n",
       "      <td>Innocent</td>\n",
       "      <td>[Exploited]</td>\n",
       "    </tr>\n",
       "    <tr>\n",
       "      <th>2</th>\n",
       "      <td>RU</td>\n",
       "      <td>RU-URW-1161.txt</td>\n",
       "      <td>В ближайшие два месяца США будут стремиться к ...</td>\n",
       "      <td>Вадим Колесниченко</td>\n",
       "      <td>414</td>\n",
       "      <td>431</td>\n",
       "      <td>Protagonist</td>\n",
       "      <td>[Virtuous]</td>\n",
       "    </tr>\n",
       "    <tr>\n",
       "      <th>3</th>\n",
       "      <td>RU</td>\n",
       "      <td>RU-URW-1161.txt</td>\n",
       "      <td>В ближайшие два месяца США будут стремиться к ...</td>\n",
       "      <td>России</td>\n",
       "      <td>1292</td>\n",
       "      <td>1297</td>\n",
       "      <td>Innocent</td>\n",
       "      <td>[Victim]</td>\n",
       "    </tr>\n",
       "    <tr>\n",
       "      <th>4</th>\n",
       "      <td>RU</td>\n",
       "      <td>RU-URW-1175.txt</td>\n",
       "      <td>В ЕС испугались последствий популярности правы...</td>\n",
       "      <td>Макрона</td>\n",
       "      <td>3422</td>\n",
       "      <td>3428</td>\n",
       "      <td>Antagonist</td>\n",
       "      <td>[Incompetent]</td>\n",
       "    </tr>\n",
       "  </tbody>\n",
       "</table>\n",
       "</div>"
      ],
      "text/plain": [
       "  language       article_id  \\\n",
       "0       RU  RU-URW-1161.txt   \n",
       "1       RU  RU-URW-1161.txt   \n",
       "2       RU  RU-URW-1161.txt   \n",
       "3       RU  RU-URW-1161.txt   \n",
       "4       RU  RU-URW-1175.txt   \n",
       "\n",
       "                                             content      entity_mention  \\\n",
       "0  В ближайшие два месяца США будут стремиться к ...                НАТО   \n",
       "1  В ближайшие два месяца США будут стремиться к ...             Украине   \n",
       "2  В ближайшие два месяца США будут стремиться к ...  Вадим Колесниченко   \n",
       "3  В ближайшие два месяца США будут стремиться к ...              России   \n",
       "4  В ЕС испугались последствий популярности правы...             Макрона   \n",
       "\n",
       "   start_offset  end_offset    main_role            sub_roles  \n",
       "0           173         176   Antagonist  [Foreign Adversary]  \n",
       "1           262         268     Innocent          [Exploited]  \n",
       "2           414         431  Protagonist           [Virtuous]  \n",
       "3          1292        1297     Innocent             [Victim]  \n",
       "4          3422        3428   Antagonist        [Incompetent]  "
      ]
     },
     "execution_count": 15,
     "metadata": {},
     "output_type": "execute_result"
    }
   ],
   "source": [
    "dataset.head()"
   ]
  },
  {
   "cell_type": "code",
   "execution_count": 16,
   "id": "27d93d48-30bc-4a9a-bbf2-6bb2c4a8c8d0",
   "metadata": {},
   "outputs": [
    {
     "data": {
      "text/plain": [
       "(5262, 8)"
      ]
     },
     "execution_count": 16,
     "metadata": {},
     "output_type": "execute_result"
    }
   ],
   "source": [
    "dataset.shape"
   ]
  },
  {
   "cell_type": "code",
   "execution_count": 17,
   "id": "322f4f50-b88d-4f31-83e9-b20a6d2a2931",
   "metadata": {},
   "outputs": [
    {
     "data": {
      "text/plain": [
       "main_role\n",
       "Antagonist     2435\n",
       "Protagonist    1759\n",
       "Innocent       1068\n",
       "Name: count, dtype: int64"
      ]
     },
     "execution_count": 17,
     "metadata": {},
     "output_type": "execute_result"
    }
   ],
   "source": [
    "dataset['main_role'].explode().value_counts()"
   ]
  },
  {
   "cell_type": "code",
   "execution_count": 18,
   "id": "c4e60344-88fa-4a0e-9564-2b094fabc4f0",
   "metadata": {},
   "outputs": [
    {
     "data": {
      "text/plain": [
       "sub_roles\n",
       "Victim               939\n",
       "Guardian             808\n",
       "Foreign Adversary    781\n",
       "Virtuous             493\n",
       "Instigator           376\n",
       "Peacemaker           294\n",
       "Incompetent          293\n",
       "Tyrant               279\n",
       "Conspirator          226\n",
       "Rebel                224\n",
       "Deceiver             209\n",
       "Terrorist            201\n",
       "Underdog             188\n",
       "Corrupt              157\n",
       "Exploited            104\n",
       "Saboteur              82\n",
       "Bigot                 69\n",
       "Traitor               49\n",
       "Scapegoat             33\n",
       "Forgotten             32\n",
       "Martyr                31\n",
       "Spy                   20\n",
       "Name: count, dtype: int64"
      ]
     },
     "execution_count": 18,
     "metadata": {},
     "output_type": "execute_result"
    }
   ],
   "source": [
    "dataset['sub_roles'].explode().value_counts()"
   ]
  },
  {
   "cell_type": "code",
   "execution_count": 19,
   "id": "b4590099-45a3-48aa-8d12-54e586e97af4",
   "metadata": {},
   "outputs": [
    {
     "data": {
      "text/plain": [
       "language          0\n",
       "article_id        0\n",
       "content           0\n",
       "entity_mention    0\n",
       "start_offset      0\n",
       "end_offset        0\n",
       "main_role         0\n",
       "sub_roles         0\n",
       "dtype: int64"
      ]
     },
     "execution_count": 19,
     "metadata": {},
     "output_type": "execute_result"
    }
   ],
   "source": [
    "dataset.isnull().sum()"
   ]
  },
  {
   "cell_type": "markdown",
   "id": "14645732-4bb7-4e5a-bc10-a2c5191358be",
   "metadata": {},
   "source": [
    "## Setting up"
   ]
  },
  {
   "cell_type": "code",
   "execution_count": 20,
   "id": "3fde9eb5-261e-4c4a-9d3a-e5d5fc1b01d6",
   "metadata": {},
   "outputs": [],
   "source": [
    "def get_context(row, window=50, char_window=500):\n",
    "    content = row['content']\n",
    "    start = int(row['start_offset'])\n",
    "    end = int(row['end_offset'])\n",
    "\n",
    "    context_start = max(0, start - char_window)\n",
    "    context_end = min(len(content), end + char_window)\n",
    "\n",
    "    context_before = content[context_start:start]\n",
    "    context_after = content[end:context_end]\n",
    "\n",
    "    # Ensure we don't cut words in half\n",
    "    context_before = ' '.join(context_before.split()[-window:])\n",
    "    context_after = ' '.join(context_after.split()[:window])\n",
    "\n",
    "    return context_before, context_after\n",
    "\n",
    "dataset['context_before'], dataset['context_after'] = zip(*dataset.apply(get_context, axis=1))"
   ]
  },
  {
   "cell_type": "code",
   "execution_count": 21,
   "id": "9aa01db2-6461-4be8-8990-2e9c170168f6",
   "metadata": {},
   "outputs": [
    {
     "data": {
      "text/html": [
       "<div>\n",
       "<style scoped>\n",
       "    .dataframe tbody tr th:only-of-type {\n",
       "        vertical-align: middle;\n",
       "    }\n",
       "\n",
       "    .dataframe tbody tr th {\n",
       "        vertical-align: top;\n",
       "    }\n",
       "\n",
       "    .dataframe thead th {\n",
       "        text-align: right;\n",
       "    }\n",
       "</style>\n",
       "<table border=\"1\" class=\"dataframe\">\n",
       "  <thead>\n",
       "    <tr style=\"text-align: right;\">\n",
       "      <th></th>\n",
       "      <th>content</th>\n",
       "      <th>entity_mention</th>\n",
       "      <th>start_offset</th>\n",
       "      <th>end_offset</th>\n",
       "    </tr>\n",
       "  </thead>\n",
       "  <tbody>\n",
       "    <tr>\n",
       "      <th>0</th>\n",
       "      <td>Moscow: Russia will ask the UN Security Counci...</td>\n",
       "      <td>Russia</td>\n",
       "      <td>8</td>\n",
       "      <td>13</td>\n",
       "    </tr>\n",
       "  </tbody>\n",
       "</table>\n",
       "</div>"
      ],
      "text/plain": [
       "                                             content entity_mention  \\\n",
       "0  Moscow: Russia will ask the UN Security Counci...         Russia   \n",
       "\n",
       "   start_offset  end_offset  \n",
       "0             8          13  "
      ]
     },
     "execution_count": 21,
     "metadata": {},
     "output_type": "execute_result"
    }
   ],
   "source": [
    "example_context = \"Moscow: Russia will ask the UN Security Council for an investigation\"\n",
    "entity_mention = \"Russia\"\n",
    "start_offset = 8\n",
    "end_offset = 13\n",
    "\n",
    "example_df = pd.DataFrame({\n",
    "    'content': [example_context],\n",
    "    'entity_mention': [entity_mention],\n",
    "    'start_offset': [start_offset],\n",
    "    'end_offset': [end_offset]\n",
    "})\n",
    "\n",
    "example_df"
   ]
  },
  {
   "cell_type": "code",
   "execution_count": 22,
   "id": "fd75a7c1-aae7-4c55-87be-cc805aa4c2c3",
   "metadata": {},
   "outputs": [
    {
     "data": {
      "text/plain": [
       "('Moscow:', 'a will ask the UN Security Council for an investigation')"
      ]
     },
     "execution_count": 22,
     "metadata": {},
     "output_type": "execute_result"
    }
   ],
   "source": [
    "get_context(example_df.iloc[0])"
   ]
  },
  {
   "cell_type": "code",
   "execution_count": 23,
   "id": "81637719-901b-4334-93cc-97790cffcfe1",
   "metadata": {},
   "outputs": [],
   "source": [
    "dataset['entity_context'] = dataset['context_before'] \\\n",
    "                            + \" \" + dataset['entity_mention'] \\\n",
    "                            + \" \" + dataset['context_after']"
   ]
  },
  {
   "cell_type": "code",
   "execution_count": 24,
   "id": "880cf000-c0a5-4c03-aa47-be040274327e",
   "metadata": {},
   "outputs": [
    {
     "data": {
      "text/html": [
       "<div>\n",
       "<style scoped>\n",
       "    .dataframe tbody tr th:only-of-type {\n",
       "        vertical-align: middle;\n",
       "    }\n",
       "\n",
       "    .dataframe tbody tr th {\n",
       "        vertical-align: top;\n",
       "    }\n",
       "\n",
       "    .dataframe thead th {\n",
       "        text-align: right;\n",
       "    }\n",
       "</style>\n",
       "<table border=\"1\" class=\"dataframe\">\n",
       "  <thead>\n",
       "    <tr style=\"text-align: right;\">\n",
       "      <th></th>\n",
       "      <th>language</th>\n",
       "      <th>article_id</th>\n",
       "      <th>content</th>\n",
       "      <th>entity_mention</th>\n",
       "      <th>start_offset</th>\n",
       "      <th>end_offset</th>\n",
       "      <th>main_role</th>\n",
       "      <th>sub_roles</th>\n",
       "      <th>entity_context</th>\n",
       "    </tr>\n",
       "  </thead>\n",
       "  <tbody>\n",
       "    <tr>\n",
       "      <th>0</th>\n",
       "      <td>RU</td>\n",
       "      <td>RU-URW-1161.txt</td>\n",
       "      <td>В ближайшие два месяца США будут стремиться к ...</td>\n",
       "      <td>НАТО</td>\n",
       "      <td>173</td>\n",
       "      <td>176</td>\n",
       "      <td>Antagonist</td>\n",
       "      <td>[Foreign Adversary]</td>\n",
       "      <td>В ближайшие два месяца США будут стремиться к ...</td>\n",
       "    </tr>\n",
       "    <tr>\n",
       "      <th>1</th>\n",
       "      <td>RU</td>\n",
       "      <td>RU-URW-1161.txt</td>\n",
       "      <td>В ближайшие два месяца США будут стремиться к ...</td>\n",
       "      <td>Украине</td>\n",
       "      <td>262</td>\n",
       "      <td>268</td>\n",
       "      <td>Innocent</td>\n",
       "      <td>[Exploited]</td>\n",
       "      <td>В ближайшие два месяца США будут стремиться к ...</td>\n",
       "    </tr>\n",
       "    <tr>\n",
       "      <th>2</th>\n",
       "      <td>RU</td>\n",
       "      <td>RU-URW-1161.txt</td>\n",
       "      <td>В ближайшие два месяца США будут стремиться к ...</td>\n",
       "      <td>Вадим Колесниченко</td>\n",
       "      <td>414</td>\n",
       "      <td>431</td>\n",
       "      <td>Protagonist</td>\n",
       "      <td>[Virtuous]</td>\n",
       "      <td>стремиться к эскалации конфликта на Украине – ...</td>\n",
       "    </tr>\n",
       "    <tr>\n",
       "      <th>3</th>\n",
       "      <td>RU</td>\n",
       "      <td>RU-URW-1161.txt</td>\n",
       "      <td>В ближайшие два месяца США будут стремиться к ...</td>\n",
       "      <td>России</td>\n",
       "      <td>1292</td>\n",
       "      <td>1297</td>\n",
       "      <td>Innocent</td>\n",
       "      <td>[Victim]</td>\n",
       "      <td>долг вырос более чем на 7 триллионов долларов\"...</td>\n",
       "    </tr>\n",
       "    <tr>\n",
       "      <th>4</th>\n",
       "      <td>RU</td>\n",
       "      <td>RU-URW-1175.txt</td>\n",
       "      <td>В ЕС испугались последствий популярности правы...</td>\n",
       "      <td>Макрона</td>\n",
       "      <td>3422</td>\n",
       "      <td>3428</td>\n",
       "      <td>Antagonist</td>\n",
       "      <td>[Incompetent]</td>\n",
       "      <td>институтами ЕС. Оппозиция \"\"Национальное объед...</td>\n",
       "    </tr>\n",
       "  </tbody>\n",
       "</table>\n",
       "</div>"
      ],
      "text/plain": [
       "  language       article_id  \\\n",
       "0       RU  RU-URW-1161.txt   \n",
       "1       RU  RU-URW-1161.txt   \n",
       "2       RU  RU-URW-1161.txt   \n",
       "3       RU  RU-URW-1161.txt   \n",
       "4       RU  RU-URW-1175.txt   \n",
       "\n",
       "                                             content      entity_mention  \\\n",
       "0  В ближайшие два месяца США будут стремиться к ...                НАТО   \n",
       "1  В ближайшие два месяца США будут стремиться к ...             Украине   \n",
       "2  В ближайшие два месяца США будут стремиться к ...  Вадим Колесниченко   \n",
       "3  В ближайшие два месяца США будут стремиться к ...              России   \n",
       "4  В ЕС испугались последствий популярности правы...             Макрона   \n",
       "\n",
       "   start_offset  end_offset    main_role            sub_roles  \\\n",
       "0           173         176   Antagonist  [Foreign Adversary]   \n",
       "1           262         268     Innocent          [Exploited]   \n",
       "2           414         431  Protagonist           [Virtuous]   \n",
       "3          1292        1297     Innocent             [Victim]   \n",
       "4          3422        3428   Antagonist        [Incompetent]   \n",
       "\n",
       "                                      entity_context  \n",
       "0  В ближайшие два месяца США будут стремиться к ...  \n",
       "1  В ближайшие два месяца США будут стремиться к ...  \n",
       "2  стремиться к эскалации конфликта на Украине – ...  \n",
       "3  долг вырос более чем на 7 триллионов долларов\"...  \n",
       "4  институтами ЕС. Оппозиция \"\"Национальное объед...  "
      ]
     },
     "execution_count": 24,
     "metadata": {},
     "output_type": "execute_result"
    }
   ],
   "source": [
    "dataset.drop(columns=['context_before', 'context_after'], inplace=True)\n",
    "dataset.head()"
   ]
  },
  {
   "cell_type": "code",
   "execution_count": 25,
   "id": "6d9906f8-0f0a-4f34-af9b-c31513d74f79",
   "metadata": {},
   "outputs": [
    {
     "data": {
      "text/html": [
       "<div>\n",
       "<style scoped>\n",
       "    .dataframe tbody tr th:only-of-type {\n",
       "        vertical-align: middle;\n",
       "    }\n",
       "\n",
       "    .dataframe tbody tr th {\n",
       "        vertical-align: top;\n",
       "    }\n",
       "\n",
       "    .dataframe thead th {\n",
       "        text-align: right;\n",
       "    }\n",
       "</style>\n",
       "<table border=\"1\" class=\"dataframe\">\n",
       "  <thead>\n",
       "    <tr style=\"text-align: right;\">\n",
       "      <th></th>\n",
       "      <th>language</th>\n",
       "      <th>article_id</th>\n",
       "      <th>content</th>\n",
       "      <th>entity_mention</th>\n",
       "      <th>start_offset</th>\n",
       "      <th>end_offset</th>\n",
       "      <th>main_role</th>\n",
       "      <th>sub_roles</th>\n",
       "      <th>entity_context</th>\n",
       "    </tr>\n",
       "  </thead>\n",
       "  <tbody>\n",
       "    <tr>\n",
       "      <th>0</th>\n",
       "      <td>RU</td>\n",
       "      <td>RU-URW-1161.txt</td>\n",
       "      <td>В ближайшие два месяца США будут стремиться к ...</td>\n",
       "      <td>НАТО</td>\n",
       "      <td>173</td>\n",
       "      <td>176</td>\n",
       "      <td>Antagonist</td>\n",
       "      <td>[Foreign Adversary]</td>\n",
       "      <td>В ближайшие два месяца США будут стремиться к ...</td>\n",
       "    </tr>\n",
       "    <tr>\n",
       "      <th>1</th>\n",
       "      <td>RU</td>\n",
       "      <td>RU-URW-1161.txt</td>\n",
       "      <td>В ближайшие два месяца США будут стремиться к ...</td>\n",
       "      <td>Украине</td>\n",
       "      <td>262</td>\n",
       "      <td>268</td>\n",
       "      <td>Innocent</td>\n",
       "      <td>[Exploited]</td>\n",
       "      <td>В ближайшие два месяца США будут стремиться к ...</td>\n",
       "    </tr>\n",
       "    <tr>\n",
       "      <th>2</th>\n",
       "      <td>RU</td>\n",
       "      <td>RU-URW-1161.txt</td>\n",
       "      <td>В ближайшие два месяца США будут стремиться к ...</td>\n",
       "      <td>Вадим Колесниченко</td>\n",
       "      <td>414</td>\n",
       "      <td>431</td>\n",
       "      <td>Protagonist</td>\n",
       "      <td>[Virtuous]</td>\n",
       "      <td>стремиться к эскалации конфликта на Украине – ...</td>\n",
       "    </tr>\n",
       "    <tr>\n",
       "      <th>3</th>\n",
       "      <td>RU</td>\n",
       "      <td>RU-URW-1161.txt</td>\n",
       "      <td>В ближайшие два месяца США будут стремиться к ...</td>\n",
       "      <td>России</td>\n",
       "      <td>1292</td>\n",
       "      <td>1297</td>\n",
       "      <td>Innocent</td>\n",
       "      <td>[Victim]</td>\n",
       "      <td>долг вырос более чем на 7 триллионов долларов\"...</td>\n",
       "    </tr>\n",
       "    <tr>\n",
       "      <th>4</th>\n",
       "      <td>RU</td>\n",
       "      <td>RU-URW-1175.txt</td>\n",
       "      <td>В ЕС испугались последствий популярности правы...</td>\n",
       "      <td>Макрона</td>\n",
       "      <td>3422</td>\n",
       "      <td>3428</td>\n",
       "      <td>Antagonist</td>\n",
       "      <td>[Incompetent]</td>\n",
       "      <td>институтами ЕС. Оппозиция \"\"Национальное объед...</td>\n",
       "    </tr>\n",
       "  </tbody>\n",
       "</table>\n",
       "</div>"
      ],
      "text/plain": [
       "  language       article_id  \\\n",
       "0       RU  RU-URW-1161.txt   \n",
       "1       RU  RU-URW-1161.txt   \n",
       "2       RU  RU-URW-1161.txt   \n",
       "3       RU  RU-URW-1161.txt   \n",
       "4       RU  RU-URW-1175.txt   \n",
       "\n",
       "                                             content      entity_mention  \\\n",
       "0  В ближайшие два месяца США будут стремиться к ...                НАТО   \n",
       "1  В ближайшие два месяца США будут стремиться к ...             Украине   \n",
       "2  В ближайшие два месяца США будут стремиться к ...  Вадим Колесниченко   \n",
       "3  В ближайшие два месяца США будут стремиться к ...              России   \n",
       "4  В ЕС испугались последствий популярности правы...             Макрона   \n",
       "\n",
       "   start_offset  end_offset    main_role            sub_roles  \\\n",
       "0           173         176   Antagonist  [Foreign Adversary]   \n",
       "1           262         268     Innocent          [Exploited]   \n",
       "2           414         431  Protagonist           [Virtuous]   \n",
       "3          1292        1297     Innocent             [Victim]   \n",
       "4          3422        3428   Antagonist        [Incompetent]   \n",
       "\n",
       "                                      entity_context  \n",
       "0  В ближайшие два месяца США будут стремиться к ...  \n",
       "1  В ближайшие два месяца США будут стремиться к ...  \n",
       "2  стремиться к эскалации конфликта на Украине – ...  \n",
       "3  долг вырос более чем на 7 триллионов долларов\"...  \n",
       "4  институтами ЕС. Оппозиция \"\"Национальное объед...  "
      ]
     },
     "execution_count": 25,
     "metadata": {},
     "output_type": "execute_result"
    }
   ],
   "source": [
    "dataset.head()"
   ]
  },
  {
   "cell_type": "markdown",
   "id": "559982bf-832e-40b5-84d8-f44da7abb39d",
   "metadata": {},
   "source": [
    "## Cleaning data"
   ]
  },
  {
   "cell_type": "code",
   "execution_count": 26,
   "id": "6873fc88-fb0b-4abd-8ed8-9a2eeafca0ae",
   "metadata": {},
   "outputs": [
    {
     "name": "stdout",
     "output_type": "stream",
     "text": [
      "Collecting xx-ent-wiki-sm==3.8.0\n",
      "  Downloading https://github.com/explosion/spacy-models/releases/download/xx_ent_wiki_sm-3.8.0/xx_ent_wiki_sm-3.8.0-py3-none-any.whl (11.1 MB)\n",
      "\u001b[2K     \u001b[90m━━━━━━━━━━━━━━━━━━━━━━━━━━━━━━━━━━━━━━━━\u001b[0m \u001b[32m11.1/11.1 MB\u001b[0m \u001b[31m7.6 MB/s\u001b[0m eta \u001b[36m0:00:00\u001b[0ma \u001b[36m0:00:01\u001b[0m\n",
      "\u001b[?25h\u001b[38;5;2m✔ Download and installation successful\u001b[0m\n",
      "You can now load the package via spacy.load('xx_ent_wiki_sm')\n",
      "Collecting en-core-web-sm==3.8.0\n",
      "  Downloading https://github.com/explosion/spacy-models/releases/download/en_core_web_sm-3.8.0/en_core_web_sm-3.8.0-py3-none-any.whl (12.8 MB)\n",
      "\u001b[2K     \u001b[90m━━━━━━━━━━━━━━━━━━━━━━━━━━━━━━━━━━━━━━━━\u001b[0m \u001b[32m12.8/12.8 MB\u001b[0m \u001b[31m6.9 MB/s\u001b[0m eta \u001b[36m0:00:00\u001b[0ma \u001b[36m0:00:01\u001b[0m\n",
      "\u001b[?25h\u001b[38;5;2m✔ Download and installation successful\u001b[0m\n",
      "You can now load the package via spacy.load('en_core_web_sm')\n",
      "Collecting pt-core-news-sm==3.8.0\n",
      "  Downloading https://github.com/explosion/spacy-models/releases/download/pt_core_news_sm-3.8.0/pt_core_news_sm-3.8.0-py3-none-any.whl (13.0 MB)\n",
      "\u001b[2K     \u001b[90m━━━━━━━━━━━━━━━━━━━━━━━━━━━━━━━━━━━━━━━━\u001b[0m \u001b[32m13.0/13.0 MB\u001b[0m \u001b[31m5.6 MB/s\u001b[0m eta \u001b[36m0:00:00\u001b[0ma \u001b[36m0:00:01\u001b[0m\n",
      "\u001b[?25h\u001b[38;5;2m✔ Download and installation successful\u001b[0m\n",
      "You can now load the package via spacy.load('pt_core_news_sm')\n"
     ]
    }
   ],
   "source": [
    "!python3 -m spacy download xx_ent_wiki_sm\n",
    "!python3 -m spacy download en_core_web_sm\n",
    "!python3 -m spacy download pt_core_news_sm"
   ]
  },
  {
   "cell_type": "code",
   "execution_count": 27,
   "id": "8118215b-f3a4-41f5-9f5c-bd91e106d468",
   "metadata": {},
   "outputs": [
    {
     "name": "stdout",
     "output_type": "stream",
     "text": [
      "Collecting ru-core-news-sm==3.8.0\n",
      "  Downloading https://github.com/explosion/spacy-models/releases/download/ru_core_news_sm-3.8.0/ru_core_news_sm-3.8.0-py3-none-any.whl (15.3 MB)\n",
      "\u001b[2K     \u001b[90m━━━━━━━━━━━━━━━━━━━━━━━━━━━━━━━━━━━━━━━━\u001b[0m \u001b[32m15.3/15.3 MB\u001b[0m \u001b[31m2.8 MB/s\u001b[0m eta \u001b[36m0:00:00\u001b[0ma \u001b[36m0:00:01\u001b[0m\n",
      "\u001b[?25hRequirement already satisfied: pymorphy3>=1.0.0 in /Library/Frameworks/Python.framework/Versions/3.12/lib/python3.12/site-packages (from ru-core-news-sm==3.8.0) (2.0.2)\n",
      "Requirement already satisfied: dawg-python>=0.7.1 in /Library/Frameworks/Python.framework/Versions/3.12/lib/python3.12/site-packages (from pymorphy3>=1.0.0->ru-core-news-sm==3.8.0) (0.7.2)\n",
      "Requirement already satisfied: pymorphy3-dicts-ru in /Library/Frameworks/Python.framework/Versions/3.12/lib/python3.12/site-packages (from pymorphy3>=1.0.0->ru-core-news-sm==3.8.0) (2.4.417150.4580142)\n",
      "Requirement already satisfied: setuptools>=68.2.2 in /Library/Frameworks/Python.framework/Versions/3.12/lib/python3.12/site-packages (from pymorphy3>=1.0.0->ru-core-news-sm==3.8.0) (70.3.0)\n",
      "\u001b[38;5;2m✔ Download and installation successful\u001b[0m\n",
      "You can now load the package via spacy.load('ru_core_news_sm')\n"
     ]
    }
   ],
   "source": [
    "!python3 -m spacy download ru_core_news_sm"
   ]
  },
  {
   "cell_type": "code",
   "execution_count": 28,
   "id": "83eaacc0-0f15-42e6-9df2-4ff7c26fb252",
   "metadata": {},
   "outputs": [],
   "source": [
    "language_model_map = {\n",
    "    \"BG\": \"xx_ent_wiki_sm\",\n",
    "    \"EN\": \"en_core_web_sm\",\n",
    "    \"HI\": \"xx_ent_wiki_sm\",\n",
    "    \"PT\": \"pt_core_news_sm\",\n",
    "    \"RU\": \"ru_core_news_sm\",\n",
    "}"
   ]
  },
  {
   "cell_type": "code",
   "execution_count": 29,
   "id": "49804753-e9e5-44f6-a77f-8a7645889938",
   "metadata": {},
   "outputs": [
    {
     "name": "stdout",
     "output_type": "stream",
     "text": [
      "Requirement already satisfied: emoji in /Library/Frameworks/Python.framework/Versions/3.12/lib/python3.12/site-packages (2.14.0)\n"
     ]
    }
   ],
   "source": [
    "!pip3 install emoji"
   ]
  },
  {
   "cell_type": "code",
   "execution_count": 30,
   "id": "a38b4d4b-3fa2-4401-8c3a-8b1a72d37a0c",
   "metadata": {},
   "outputs": [],
   "source": [
    "import spacy\n",
    "import re\n",
    "import emoji\n",
    "\n",
    "nlp_models = {lang: spacy.load(model) for lang, model in language_model_map.items()}\n",
    "\n",
    "def clean_article(article_text, language_code, entity_mention):\n",
    "    nlp = nlp_models.get(language_code, nlp_models[\"EN\"])\n",
    "\n",
    "    entity_mention = entity_mention.strip()\n",
    "    entity_parts = entity_mention.lower().split()\n",
    "\n",
    "    article_text = article_text.replace('\"', '\"').replace('\"', '\"').replace(\"'\", \"'\")\n",
    "    article_text = re.sub(r'\\s+', ' ', article_text)\n",
    "    article_text = re.sub(r'\\s*([.,!?])\\s*', r'\\1 ', article_text)\n",
    "    article_text = re.sub(\n",
    "        r'(http\\S+|www\\S+|https\\S+|[a-zA-Z0-9.-]+\\.com|'\n",
    "        r'[a-zA-Z0-9_.+-]+@[a-zA-Z0-9-]+\\.[a-zA-Z0-9-.]+|@[A-Za-z0-9_]+)',\n",
    "        '',\n",
    "        article_text\n",
    "    )\n",
    "\n",
    "    coref_markers = [\"he\", \"she\", \"they\", \"it\", \"their\", \"his\", \"her\"]\n",
    "    doc = nlp(article_text)\n",
    "\n",
    "    cleaned_tokens = []\n",
    "    i = 0\n",
    "    while i < len(doc):\n",
    "        token = doc[i]\n",
    "\n",
    "        if token.is_space or emoji.is_emoji(token.text):\n",
    "            i += 1\n",
    "            continue\n",
    "\n",
    "        if i + len(entity_parts) <= len(doc):\n",
    "            potential_entity = ' '.join(t.text.lower() for t in doc[i:i + len(entity_parts)])\n",
    "            if potential_entity == ' '.join(entity_parts):\n",
    "                original_entity = ' '.join(t.text for t in doc[i:i + len(entity_parts)])\n",
    "                cleaned_tokens.append(f\"[ES] {original_entity} [EE] \")\n",
    "                i += len(entity_parts)\n",
    "                continue\n",
    "\n",
    "        if token.text.lower() in entity_parts:\n",
    "            cleaned_tokens.append(f\"[ES] {token.text} [EE] \")\n",
    "        elif token.text.lower() in coref_markers:\n",
    "            cleaned_tokens.append(f\"[COREF] {token.text}\")\n",
    "        elif token.ent_type_ in [\"PERSON\", \"ORG\", \"GPE\"]:\n",
    "            cleaned_tokens.append(token.text)\n",
    "        else:\n",
    "            cleaned_tokens.append(token.text.lower())\n",
    "\n",
    "        if token.whitespace_:\n",
    "            cleaned_tokens.append(\" \")\n",
    "\n",
    "        i += 1\n",
    "\n",
    "    return \"\".join(cleaned_tokens).strip()\n",
    "\n",
    "dataset[\"entity_context\"] = dataset.apply(\n",
    "    lambda row: clean_article(row[\"entity_context\"], row[\"language\"], row[\"entity_mention\"]),\n",
    "    axis=1\n",
    ")"
   ]
  },
  {
   "cell_type": "code",
   "execution_count": 31,
   "id": "e8adc042-ce5e-41e4-b7ca-50258aeafb25",
   "metadata": {},
   "outputs": [
    {
     "name": "stdout",
     "output_type": "stream",
     "text": [
      "недостаточно нужно доказать, что эти средства используются для политической деятельности в россии. ключевым аспектом в данном случае может стать публичная позиция пугачевой. её недавний пост о ситуации в киеве может быть расценен как распространение информации, дискредитирующей действия российских Вооруженных сил, что может интерпретироваться как политическая деятельность. для инициирования процесса мини [ES] Министерству юстиции [EE] требуется собрать доказательную базу, включая анализ её финансовых операций, публичных выступлений и постов в социальных сетях. сам факт критических высказываний недостаточен необходимо доказать систематический характер такой деятельности и её связь с иностранным влиянием. если Минюст решит включить пугачеву в реестр иноагентов, она получит уведомление и право обжаловать это решение\n"
     ]
    }
   ],
   "source": [
    "print(dataset.iloc[6].entity_context)"
   ]
  },
  {
   "cell_type": "code",
   "execution_count": 32,
   "id": "41adb792-8ecd-430f-ac9c-7d34eb711002",
   "metadata": {},
   "outputs": [],
   "source": [
    "from sklearn.preprocessing import LabelEncoder\n",
    "\n",
    "le_main_role = LabelEncoder()\n",
    "dataset['main_role_encoded'] = le_main_role.fit_transform(dataset['main_role'])"
   ]
  },
  {
   "cell_type": "code",
   "execution_count": 33,
   "id": "e52558bb-7e77-40f4-9f79-d93d40130f29",
   "metadata": {},
   "outputs": [
    {
     "name": "stdout",
     "output_type": "stream",
     "text": [
      "(5262, 11)\n"
     ]
    },
    {
     "data": {
      "text/html": [
       "<div>\n",
       "<style scoped>\n",
       "    .dataframe tbody tr th:only-of-type {\n",
       "        vertical-align: middle;\n",
       "    }\n",
       "\n",
       "    .dataframe tbody tr th {\n",
       "        vertical-align: top;\n",
       "    }\n",
       "\n",
       "    .dataframe thead th {\n",
       "        text-align: right;\n",
       "    }\n",
       "</style>\n",
       "<table border=\"1\" class=\"dataframe\">\n",
       "  <thead>\n",
       "    <tr style=\"text-align: right;\">\n",
       "      <th></th>\n",
       "      <th>language</th>\n",
       "      <th>article_id</th>\n",
       "      <th>content</th>\n",
       "      <th>entity_mention</th>\n",
       "      <th>start_offset</th>\n",
       "      <th>end_offset</th>\n",
       "      <th>main_role</th>\n",
       "      <th>sub_roles</th>\n",
       "      <th>entity_context</th>\n",
       "      <th>main_role_encoded</th>\n",
       "      <th>sub_roles_encoded</th>\n",
       "    </tr>\n",
       "  </thead>\n",
       "  <tbody>\n",
       "    <tr>\n",
       "      <th>0</th>\n",
       "      <td>RU</td>\n",
       "      <td>RU-URW-1161.txt</td>\n",
       "      <td>В ближайшие два месяца США будут стремиться к ...</td>\n",
       "      <td>НАТО</td>\n",
       "      <td>173</td>\n",
       "      <td>176</td>\n",
       "      <td>Antagonist</td>\n",
       "      <td>[Foreign Adversary]</td>\n",
       "      <td>в ближайшие два месяца сша будут стремиться к ...</td>\n",
       "      <td>0</td>\n",
       "      <td>[0, 0, 0, 0, 0, 1, 0, 0, 0, 0, 0, 0, 0, 0, 0, ...</td>\n",
       "    </tr>\n",
       "    <tr>\n",
       "      <th>1</th>\n",
       "      <td>RU</td>\n",
       "      <td>RU-URW-1161.txt</td>\n",
       "      <td>В ближайшие два месяца США будут стремиться к ...</td>\n",
       "      <td>Украине</td>\n",
       "      <td>262</td>\n",
       "      <td>268</td>\n",
       "      <td>Innocent</td>\n",
       "      <td>[Exploited]</td>\n",
       "      <td>в ближайшие два месяца сша будут стремиться к ...</td>\n",
       "      <td>1</td>\n",
       "      <td>[0, 0, 0, 0, 1, 0, 0, 0, 0, 0, 0, 0, 0, 0, 0, ...</td>\n",
       "    </tr>\n",
       "    <tr>\n",
       "      <th>2</th>\n",
       "      <td>RU</td>\n",
       "      <td>RU-URW-1161.txt</td>\n",
       "      <td>В ближайшие два месяца США будут стремиться к ...</td>\n",
       "      <td>Вадим Колесниченко</td>\n",
       "      <td>414</td>\n",
       "      <td>431</td>\n",
       "      <td>Protagonist</td>\n",
       "      <td>[Virtuous]</td>\n",
       "      <td>стремиться к эскалации конфликта на украине – ...</td>\n",
       "      <td>2</td>\n",
       "      <td>[0, 0, 0, 0, 0, 0, 0, 0, 0, 0, 0, 0, 0, 0, 0, ...</td>\n",
       "    </tr>\n",
       "    <tr>\n",
       "      <th>3</th>\n",
       "      <td>RU</td>\n",
       "      <td>RU-URW-1161.txt</td>\n",
       "      <td>В ближайшие два месяца США будут стремиться к ...</td>\n",
       "      <td>России</td>\n",
       "      <td>1292</td>\n",
       "      <td>1297</td>\n",
       "      <td>Innocent</td>\n",
       "      <td>[Victim]</td>\n",
       "      <td>долг вырос более чем на 7 триллионов долларов\"...</td>\n",
       "      <td>1</td>\n",
       "      <td>[0, 0, 0, 0, 0, 0, 0, 0, 0, 0, 0, 0, 0, 0, 0, ...</td>\n",
       "    </tr>\n",
       "    <tr>\n",
       "      <th>4</th>\n",
       "      <td>RU</td>\n",
       "      <td>RU-URW-1175.txt</td>\n",
       "      <td>В ЕС испугались последствий популярности правы...</td>\n",
       "      <td>Макрона</td>\n",
       "      <td>3422</td>\n",
       "      <td>3428</td>\n",
       "      <td>Antagonist</td>\n",
       "      <td>[Incompetent]</td>\n",
       "      <td>институтами ес. оппозиция \"\"Национальное объед...</td>\n",
       "      <td>0</td>\n",
       "      <td>[0, 0, 0, 0, 0, 0, 0, 0, 1, 0, 0, 0, 0, 0, 0, ...</td>\n",
       "    </tr>\n",
       "  </tbody>\n",
       "</table>\n",
       "</div>"
      ],
      "text/plain": [
       "  language       article_id  \\\n",
       "0       RU  RU-URW-1161.txt   \n",
       "1       RU  RU-URW-1161.txt   \n",
       "2       RU  RU-URW-1161.txt   \n",
       "3       RU  RU-URW-1161.txt   \n",
       "4       RU  RU-URW-1175.txt   \n",
       "\n",
       "                                             content      entity_mention  \\\n",
       "0  В ближайшие два месяца США будут стремиться к ...                НАТО   \n",
       "1  В ближайшие два месяца США будут стремиться к ...             Украине   \n",
       "2  В ближайшие два месяца США будут стремиться к ...  Вадим Колесниченко   \n",
       "3  В ближайшие два месяца США будут стремиться к ...              России   \n",
       "4  В ЕС испугались последствий популярности правы...             Макрона   \n",
       "\n",
       "   start_offset  end_offset    main_role            sub_roles  \\\n",
       "0           173         176   Antagonist  [Foreign Adversary]   \n",
       "1           262         268     Innocent          [Exploited]   \n",
       "2           414         431  Protagonist           [Virtuous]   \n",
       "3          1292        1297     Innocent             [Victim]   \n",
       "4          3422        3428   Antagonist        [Incompetent]   \n",
       "\n",
       "                                      entity_context  main_role_encoded  \\\n",
       "0  в ближайшие два месяца сша будут стремиться к ...                  0   \n",
       "1  в ближайшие два месяца сша будут стремиться к ...                  1   \n",
       "2  стремиться к эскалации конфликта на украине – ...                  2   \n",
       "3  долг вырос более чем на 7 триллионов долларов\"...                  1   \n",
       "4  институтами ес. оппозиция \"\"Национальное объед...                  0   \n",
       "\n",
       "                                   sub_roles_encoded  \n",
       "0  [0, 0, 0, 0, 0, 1, 0, 0, 0, 0, 0, 0, 0, 0, 0, ...  \n",
       "1  [0, 0, 0, 0, 1, 0, 0, 0, 0, 0, 0, 0, 0, 0, 0, ...  \n",
       "2  [0, 0, 0, 0, 0, 0, 0, 0, 0, 0, 0, 0, 0, 0, 0, ...  \n",
       "3  [0, 0, 0, 0, 0, 0, 0, 0, 0, 0, 0, 0, 0, 0, 0, ...  \n",
       "4  [0, 0, 0, 0, 0, 0, 0, 0, 1, 0, 0, 0, 0, 0, 0, ...  "
      ]
     },
     "execution_count": 33,
     "metadata": {},
     "output_type": "execute_result"
    }
   ],
   "source": [
    "from sklearn.preprocessing import MultiLabelBinarizer\n",
    "\n",
    "mlb_sub_role = MultiLabelBinarizer()\n",
    "dataset.loc[:, 'sub_roles_encoded'] = list(mlb_sub_role.fit_transform(dataset['sub_roles']))\n",
    "\n",
    "print(dataset.shape)\n",
    "dataset.head()"
   ]
  },
  {
   "cell_type": "code",
   "execution_count": 34,
   "id": "057671f1-138f-427d-98ff-ada961899789",
   "metadata": {},
   "outputs": [],
   "source": [
    "base_save_folder_dir = './saved/'\n",
    "\n",
    "os.makedirs(base_save_folder_dir, exist_ok=True)"
   ]
  },
  {
   "cell_type": "code",
   "execution_count": 35,
   "id": "6977d9fe-807b-45a0-b027-6b3b3a673cae",
   "metadata": {},
   "outputs": [],
   "source": [
    "datasets_folder = os.path.join(base_save_folder_dir, 'Datasets')\n",
    "label_encoder_folder = os.path.join(base_save_folder_dir, 'LabelEncoders')\n",
    "misc_folder = os.path.join(base_save_folder_dir, 'Misc')"
   ]
  },
  {
   "cell_type": "code",
   "execution_count": 36,
   "id": "6a45ba41-12f9-45b8-ab5d-a264f4a7d116",
   "metadata": {},
   "outputs": [],
   "source": [
    "import pickle\n",
    "\n",
    "with open(os.path.join(datasets_folder, 'dataset_cleaned.pkl'), 'wb') as f:\n",
    "    pickle.dump(dataset, f)\n",
    "\n",
    "with open(os.path.join(label_encoder_folder, 'le_main_role.pkl'), 'wb') as f:\n",
    "    pickle.dump(le_main_role, f)\n",
    "\n",
    "with open(os.path.join(label_encoder_folder, 'mlb_sub_role.pkl'), 'wb') as f:\n",
    "    pickle.dump(mlb_sub_role, f)\n",
    "\n",
    "with open(os.path.join(misc_folder, 'main_to_sub.pkl'), 'wb') as f:\n",
    "    pickle.dump(main_to_sub, f)"
   ]
  }
 ],
 "metadata": {
  "kernelspec": {
   "display_name": "Python 3 (ipykernel)",
   "language": "python",
   "name": "python3"
  },
  "language_info": {
   "codemirror_mode": {
    "name": "ipython",
    "version": 3
   },
   "file_extension": ".py",
   "mimetype": "text/x-python",
   "name": "python",
   "nbconvert_exporter": "python",
   "pygments_lexer": "ipython3",
   "version": "3.12.4"
  }
 },
 "nbformat": 4,
 "nbformat_minor": 5
}
