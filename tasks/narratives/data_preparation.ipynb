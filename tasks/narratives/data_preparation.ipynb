{
 "cells": [
  {
   "cell_type": "markdown",
   "id": "80dcaa67-4cf1-46a9-bb74-9beb1dce991a",
   "metadata": {},
   "source": [
    "# Semeval 2025 Task 10\n",
    "### Subtask 2: Narrative Baseline Classification -- Multilingual\n",
    "\n",
    "Given a news article and a [two-level taxonomy of narrative labels](https://propaganda.math.unipd.it/semeval2025task10/NARRATIVE-TAXONOMIES.pdf) (where each narrative is subdivided into subnarratives) from a particular domain, assign to the article all the appropriate subnarrative labels. This is a multi-label multi-class document classification task."
   ]
  },
  {
   "cell_type": "markdown",
   "id": "eb85cc8c-3706-4adf-91e6-dad72e212f76",
   "metadata": {},
   "source": [
    "## 1. Setup"
   ]
  },
  {
   "cell_type": "markdown",
   "id": "5dc28d11-448c-49ce-a0c7-79548a218269",
   "metadata": {},
   "source": [
    "### 1.1 Getting and analyzing data"
   ]
  },
  {
   "cell_type": "code",
   "execution_count": 1,
   "id": "b67708e0-5305-4e24-9edb-e2752e9d3b2c",
   "metadata": {},
   "outputs": [],
   "source": [
    "import pandas as pd\n",
    "import numpy as np\n",
    "\n",
    "import tensorflow as tf\n",
    "from tensorflow.keras import layers\n",
    "from tensorflow.keras import optimizers\n",
    "from tensorflow.keras.callbacks import ModelCheckpoint\n",
    "\n",
    "from matplotlib import pyplot as plt\n",
    "import seaborn as sns\n",
    "import os"
   ]
  },
  {
   "cell_type": "code",
   "execution_count": 2,
   "id": "c1512c9b-2910-460a-ae63-388cde722fb3",
   "metadata": {},
   "outputs": [],
   "source": [
    "root_dir = '../../'"
   ]
  },
  {
   "cell_type": "markdown",
   "id": "e94115d3-5aca-4fac-a691-ea7b5ecdb752",
   "metadata": {},
   "source": [
    "We go ahead and read our data, the data are structures in a way that each article or document is stored in a folder that corresponds to each language:"
   ]
  },
  {
   "cell_type": "code",
   "execution_count": 3,
   "id": "c5801931-fa98-4bc8-81a1-1dd22e3afcad",
   "metadata": {},
   "outputs": [],
   "source": [
    "data = []\n",
    "ignore_folders = ['.DS_Store']\n",
    "\n",
    "base_dir_documents = root_dir + 'data/semeval_data/train/raw-documents'\n",
    "\n",
    "for language_folder in os.listdir(base_dir_documents):\n",
    "\n",
    "    if language_folder in ignore_folders:\n",
    "        continue\n",
    "\n",
    "    language_path = os.path.join(base_dir_documents, language_folder)\n",
    "    if os.path.isdir(language_path):\n",
    "        for root, _, files in os.walk(language_path):\n",
    "            for file in files:\n",
    "                if file.endswith('.txt'):\n",
    "                    file_path = os.path.join(root, file)\n",
    "\n",
    "                    article_id = file\n",
    "                    with open(file_path, 'r', encoding='utf-8') as f:\n",
    "                        content = f.read()\n",
    "\n",
    "                    data.append({\n",
    "                        'language': language_folder,\n",
    "                        'article_id': article_id,\n",
    "                        'content': content\n",
    "                    })\n",
    "\n",
    "documents_df = pd.DataFrame(data)"
   ]
  },
  {
   "cell_type": "markdown",
   "id": "6566cb32-bc22-441e-ae7f-68496ef0794e",
   "metadata": {},
   "source": [
    "This is how the dataframe looks like:"
   ]
  },
  {
   "cell_type": "code",
   "execution_count": 4,
   "id": "c9c13c22-f0a9-4ddd-bf9e-945a3e672d5b",
   "metadata": {},
   "outputs": [
    {
     "name": "stdout",
     "output_type": "stream",
     "text": [
      "(1709, 3)\n"
     ]
    },
    {
     "data": {
      "text/html": [
       "<div>\n",
       "<style scoped>\n",
       "    .dataframe tbody tr th:only-of-type {\n",
       "        vertical-align: middle;\n",
       "    }\n",
       "\n",
       "    .dataframe tbody tr th {\n",
       "        vertical-align: top;\n",
       "    }\n",
       "\n",
       "    .dataframe thead th {\n",
       "        text-align: right;\n",
       "    }\n",
       "</style>\n",
       "<table border=\"1\" class=\"dataframe\">\n",
       "  <thead>\n",
       "    <tr style=\"text-align: right;\">\n",
       "      <th></th>\n",
       "      <th>language</th>\n",
       "      <th>article_id</th>\n",
       "      <th>content</th>\n",
       "    </tr>\n",
       "  </thead>\n",
       "  <tbody>\n",
       "    <tr>\n",
       "      <th>0</th>\n",
       "      <td>RU</td>\n",
       "      <td>RU-URW-1161.txt</td>\n",
       "      <td>В ближайшие два месяца США будут стремиться к ...</td>\n",
       "    </tr>\n",
       "    <tr>\n",
       "      <th>1</th>\n",
       "      <td>RU</td>\n",
       "      <td>RU-URW-1175.txt</td>\n",
       "      <td>В ЕС испугались последствий популярности правы...</td>\n",
       "    </tr>\n",
       "    <tr>\n",
       "      <th>2</th>\n",
       "      <td>RU</td>\n",
       "      <td>RU-URW-1149.txt</td>\n",
       "      <td>Возможность признания Аллы Пугачевой иностранн...</td>\n",
       "    </tr>\n",
       "    <tr>\n",
       "      <th>3</th>\n",
       "      <td>RU</td>\n",
       "      <td>RU-URW-1015.txt</td>\n",
       "      <td>Азаров рассказал о смене риторики Киева по пер...</td>\n",
       "    </tr>\n",
       "    <tr>\n",
       "      <th>4</th>\n",
       "      <td>RU</td>\n",
       "      <td>RU-URW-1001.txt</td>\n",
       "      <td>В россиянах проснулась массовая любовь к путеш...</td>\n",
       "    </tr>\n",
       "  </tbody>\n",
       "</table>\n",
       "</div>"
      ],
      "text/plain": [
       "  language       article_id                                            content\n",
       "0       RU  RU-URW-1161.txt  В ближайшие два месяца США будут стремиться к ...\n",
       "1       RU  RU-URW-1175.txt  В ЕС испугались последствий популярности правы...\n",
       "2       RU  RU-URW-1149.txt  Возможность признания Аллы Пугачевой иностранн...\n",
       "3       RU  RU-URW-1015.txt  Азаров рассказал о смене риторики Киева по пер...\n",
       "4       RU  RU-URW-1001.txt  В россиянах проснулась массовая любовь к путеш..."
      ]
     },
     "execution_count": 4,
     "metadata": {},
     "output_type": "execute_result"
    }
   ],
   "source": [
    "print(documents_df.shape)\n",
    "documents_df.head()"
   ]
  },
  {
   "cell_type": "markdown",
   "id": "8e44a6ce-55e3-43f3-88e6-14b9d87233e2",
   "metadata": {},
   "source": [
    "The dataframe contains languages from 5 different languages:"
   ]
  },
  {
   "cell_type": "code",
   "execution_count": 5,
   "id": "6cf4e83a-8ce2-4d03-b033-d651cb854e03",
   "metadata": {},
   "outputs": [
    {
     "data": {
      "text/plain": [
       "array(['RU', 'PT', 'BG', 'HI', 'EN'], dtype=object)"
      ]
     },
     "execution_count": 5,
     "metadata": {},
     "output_type": "execute_result"
    }
   ],
   "source": [
    "documents_df['language'].unique()"
   ]
  },
  {
   "cell_type": "markdown",
   "id": "624b6897-89cc-43fa-9881-f97248e5ee63",
   "metadata": {},
   "source": [
    "The labels are structured as follows:\n",
    "* Each line contains:\n",
    "  - `article_id` (the file name of the article)\n",
    "  - `narratives`: one or more narrative labels (1st level taxonomy)\n",
    "  - `subnarratives`: one or more sub-narrative labels (2nd level taxonomy)\n",
    "  \n",
    "If no specific narrative or subnarrative is assigned, \"Other\" is used. If only a narrative is provided without a subnarrative, the format `[Narrative]: Other` is used.\n",
    "\n",
    "**Example:**\n",
    "```\n",
    "article_id narratives subnarratives \n",
    "\n",
    "EN_10001.txt URW: Blaming Others URW: Ukraine is the aggressor\n",
    "EN_10002.txt URW: Blaming Others; URW: Praise of Russia URW: Blaming Others: Other; URW: Praising Russia’s military might\n",
    "EN_10003.txt Other Other\n",
    "```"
   ]
  },
  {
   "cell_type": "code",
   "execution_count": 6,
   "id": "d278fb2e-059c-4ac5-a9b9-00671da94c73",
   "metadata": {},
   "outputs": [
    {
     "name": "stdout",
     "output_type": "stream",
     "text": [
      "Now processing language RU\n",
      "Now processing language PT\n",
      "Now processing language BG\n",
      "Now processing language HI\n",
      "Now processing language EN\n"
     ]
    }
   ],
   "source": [
    "base_dir_labels = root_dir + 'data/semeval_data/train/labels'\n",
    "\n",
    "raw_annotation_data = []\n",
    "\n",
    "for language_folder in os.listdir(base_dir_labels):\n",
    "\n",
    "    if language_folder in ignore_folders:\n",
    "        continue\n",
    "\n",
    "    print('Now processing language', language_folder)\n",
    "\n",
    "    language_path = os.path.join(base_dir_labels, language_folder)\n",
    "    if os.path.isdir(language_path):\n",
    "        for root, _, files in os.walk(language_path):\n",
    "            label_file = 'subtask-2-annotations.txt'\n",
    "            file_path = os.path.join(root, label_file)\n",
    "\n",
    "            with open(file_path, 'r') as file:\n",
    "                for line in file:\n",
    "                    parts = line.strip().split('\\t')\n",
    "                    article_id = parts[0]\n",
    "                    narrative_to_subnarratives = parts[2].split(';')\n",
    "                    narratives = []\n",
    "                    subnarratives = []\n",
    "\n",
    "                    for nar_to_sub in narrative_to_subnarratives:\n",
    "                      subnarrative_list = nar_to_sub.split(' ')\n",
    "                      if subnarrative_list[0] == 'Other':\n",
    "                        narratives.append('Other')\n",
    "                        subnarratives.append('Other')\n",
    "                        continue\n",
    "\n",
    "                      nar_to_sub = ' '.join(subnarrative_list[1:])\n",
    "                      nar, sub = nar_to_sub.split(':')\n",
    "                      narratives.append(nar.strip())\n",
    "                      subnarratives.append(sub.strip())\n",
    "\n",
    "                    raw_annotation_data.append({\n",
    "                        'article_id': article_id,\n",
    "                        'narratives': narratives,\n",
    "                        'subnarratives': subnarratives\n",
    "                    })\n",
    "\n",
    "annotations_df = pd.DataFrame(raw_annotation_data)"
   ]
  },
  {
   "cell_type": "code",
   "execution_count": 7,
   "id": "ddd82919-e8a1-4610-8ac9-3b4bfb679e78",
   "metadata": {},
   "outputs": [],
   "source": [
    "from collections import defaultdict\n",
    "\n",
    "narrative_to_subnarratives = defaultdict(set)\n",
    "\n",
    "for record in raw_annotation_data:\n",
    "    narratives = record['narratives']\n",
    "    subnarratives = record['subnarratives']\n",
    "\n",
    "    for nar, sub in zip(narratives, subnarratives):\n",
    "        narrative_to_subnarratives[nar].add(sub)\n",
    "\n",
    "narrative_to_subnarratives = {nar: list(subs) for nar, subs in narrative_to_subnarratives.items()}"
   ]
  },
  {
   "cell_type": "code",
   "execution_count": 8,
   "id": "83127131-800b-4f4e-a64e-42a351c63bae",
   "metadata": {},
   "outputs": [
    {
     "data": {
      "text/html": [
       "<div>\n",
       "<style scoped>\n",
       "    .dataframe tbody tr th:only-of-type {\n",
       "        vertical-align: middle;\n",
       "    }\n",
       "\n",
       "    .dataframe tbody tr th {\n",
       "        vertical-align: top;\n",
       "    }\n",
       "\n",
       "    .dataframe thead th {\n",
       "        text-align: right;\n",
       "    }\n",
       "</style>\n",
       "<table border=\"1\" class=\"dataframe\">\n",
       "  <thead>\n",
       "    <tr style=\"text-align: right;\">\n",
       "      <th></th>\n",
       "      <th>article_id</th>\n",
       "      <th>narratives</th>\n",
       "      <th>subnarratives</th>\n",
       "    </tr>\n",
       "  </thead>\n",
       "  <tbody>\n",
       "    <tr>\n",
       "      <th>0</th>\n",
       "      <td>RU-URW-1080.txt</td>\n",
       "      <td>[Discrediting Ukraine]</td>\n",
       "      <td>[Discrediting Ukrainian government and officia...</td>\n",
       "    </tr>\n",
       "    <tr>\n",
       "      <th>1</th>\n",
       "      <td>RU-URW-1013.txt</td>\n",
       "      <td>[Discrediting the West, Diplomacy]</td>\n",
       "      <td>[The West does not care about Ukraine, only ab...</td>\n",
       "    </tr>\n",
       "    <tr>\n",
       "      <th>2</th>\n",
       "      <td>RU-URW-1145.txt</td>\n",
       "      <td>[Praise of Russia]</td>\n",
       "      <td>[Praise of Russian military might]</td>\n",
       "    </tr>\n",
       "    <tr>\n",
       "      <th>3</th>\n",
       "      <td>RU-URW-1048.txt</td>\n",
       "      <td>[Discrediting Ukraine]</td>\n",
       "      <td>[Discrediting Ukrainian military]</td>\n",
       "    </tr>\n",
       "    <tr>\n",
       "      <th>4</th>\n",
       "      <td>RU-URW-1001.txt</td>\n",
       "      <td>[Praise of Russia]</td>\n",
       "      <td>[Russia is a guarantor of peace and prosperity]</td>\n",
       "    </tr>\n",
       "  </tbody>\n",
       "</table>\n",
       "</div>"
      ],
      "text/plain": [
       "        article_id                          narratives  \\\n",
       "0  RU-URW-1080.txt              [Discrediting Ukraine]   \n",
       "1  RU-URW-1013.txt  [Discrediting the West, Diplomacy]   \n",
       "2  RU-URW-1145.txt                  [Praise of Russia]   \n",
       "3  RU-URW-1048.txt              [Discrediting Ukraine]   \n",
       "4  RU-URW-1001.txt                  [Praise of Russia]   \n",
       "\n",
       "                                       subnarratives  \n",
       "0  [Discrediting Ukrainian government and officia...  \n",
       "1  [The West does not care about Ukraine, only ab...  \n",
       "2                 [Praise of Russian military might]  \n",
       "3                  [Discrediting Ukrainian military]  \n",
       "4    [Russia is a guarantor of peace and prosperity]  "
      ]
     },
     "execution_count": 8,
     "metadata": {},
     "output_type": "execute_result"
    }
   ],
   "source": [
    "annotations_df.head()"
   ]
  },
  {
   "cell_type": "code",
   "execution_count": 9,
   "id": "0b0bca31-ea4e-483e-b319-3bc17b2349fc",
   "metadata": {},
   "outputs": [
    {
     "data": {
      "text/html": [
       "<div>\n",
       "<style scoped>\n",
       "    .dataframe tbody tr th:only-of-type {\n",
       "        vertical-align: middle;\n",
       "    }\n",
       "\n",
       "    .dataframe tbody tr th {\n",
       "        vertical-align: top;\n",
       "    }\n",
       "\n",
       "    .dataframe thead th {\n",
       "        text-align: right;\n",
       "    }\n",
       "</style>\n",
       "<table border=\"1\" class=\"dataframe\">\n",
       "  <thead>\n",
       "    <tr style=\"text-align: right;\">\n",
       "      <th></th>\n",
       "      <th>article_id</th>\n",
       "      <th>narratives</th>\n",
       "      <th>subnarratives</th>\n",
       "    </tr>\n",
       "  </thead>\n",
       "  <tbody>\n",
       "    <tr>\n",
       "      <th>1694</th>\n",
       "      <td>EN_CC_200022.txt</td>\n",
       "      <td>[Criticism of institutions and authorities, Cr...</td>\n",
       "      <td>[Criticism of national governments, Other, Met...</td>\n",
       "    </tr>\n",
       "    <tr>\n",
       "      <th>1695</th>\n",
       "      <td>EN_CC_100028.txt</td>\n",
       "      <td>[Other]</td>\n",
       "      <td>[Other]</td>\n",
       "    </tr>\n",
       "    <tr>\n",
       "      <th>1696</th>\n",
       "      <td>EN_CC_300010.txt</td>\n",
       "      <td>[Amplifying Climate Fears]</td>\n",
       "      <td>[Other]</td>\n",
       "    </tr>\n",
       "    <tr>\n",
       "      <th>1697</th>\n",
       "      <td>EN_UA_013257.txt</td>\n",
       "      <td>[Russia is the Victim, Blaming the war on othe...</td>\n",
       "      <td>[Russia actions in Ukraine are only self-defen...</td>\n",
       "    </tr>\n",
       "    <tr>\n",
       "      <th>1698</th>\n",
       "      <td>EN_UA_000104.txt</td>\n",
       "      <td>[Other]</td>\n",
       "      <td>[Other]</td>\n",
       "    </tr>\n",
       "  </tbody>\n",
       "</table>\n",
       "</div>"
      ],
      "text/plain": [
       "            article_id                                         narratives  \\\n",
       "1694  EN_CC_200022.txt  [Criticism of institutions and authorities, Cr...   \n",
       "1695  EN_CC_100028.txt                                            [Other]   \n",
       "1696  EN_CC_300010.txt                         [Amplifying Climate Fears]   \n",
       "1697  EN_UA_013257.txt  [Russia is the Victim, Blaming the war on othe...   \n",
       "1698  EN_UA_000104.txt                                            [Other]   \n",
       "\n",
       "                                          subnarratives  \n",
       "1694  [Criticism of national governments, Other, Met...  \n",
       "1695                                            [Other]  \n",
       "1696                                            [Other]  \n",
       "1697  [Russia actions in Ukraine are only self-defen...  \n",
       "1698                                            [Other]  "
      ]
     },
     "execution_count": 9,
     "metadata": {},
     "output_type": "execute_result"
    }
   ],
   "source": [
    "annotations_df.tail()"
   ]
  },
  {
   "cell_type": "code",
   "execution_count": 10,
   "id": "4230ce56-73d0-4533-bdf1-c4d9f1d3dd0a",
   "metadata": {},
   "outputs": [
    {
     "data": {
      "text/plain": [
       "(1699, 3)"
      ]
     },
     "execution_count": 10,
     "metadata": {},
     "output_type": "execute_result"
    }
   ],
   "source": [
    "annotations_df.shape"
   ]
  },
  {
   "cell_type": "code",
   "execution_count": 11,
   "id": "91d93dc2-4c66-4315-9e52-ce631257b3d5",
   "metadata": {},
   "outputs": [
    {
     "data": {
      "text/html": [
       "<div>\n",
       "<style scoped>\n",
       "    .dataframe tbody tr th:only-of-type {\n",
       "        vertical-align: middle;\n",
       "    }\n",
       "\n",
       "    .dataframe tbody tr th {\n",
       "        vertical-align: top;\n",
       "    }\n",
       "\n",
       "    .dataframe thead th {\n",
       "        text-align: right;\n",
       "    }\n",
       "</style>\n",
       "<table border=\"1\" class=\"dataframe\">\n",
       "  <thead>\n",
       "    <tr style=\"text-align: right;\">\n",
       "      <th></th>\n",
       "      <th>language</th>\n",
       "      <th>article_id</th>\n",
       "      <th>content</th>\n",
       "      <th>narratives</th>\n",
       "      <th>subnarratives</th>\n",
       "    </tr>\n",
       "  </thead>\n",
       "  <tbody>\n",
       "    <tr>\n",
       "      <th>0</th>\n",
       "      <td>RU</td>\n",
       "      <td>RU-URW-1161.txt</td>\n",
       "      <td>В ближайшие два месяца США будут стремиться к ...</td>\n",
       "      <td>[Blaming the war on others rather than the inv...</td>\n",
       "      <td>[The West are the aggressors, Other, The West ...</td>\n",
       "    </tr>\n",
       "    <tr>\n",
       "      <th>1</th>\n",
       "      <td>RU</td>\n",
       "      <td>RU-URW-1175.txt</td>\n",
       "      <td>В ЕС испугались последствий популярности правы...</td>\n",
       "      <td>[Discrediting the West, Diplomacy, Discreditin...</td>\n",
       "      <td>[The West is weak, Other, The EU is divided]</td>\n",
       "    </tr>\n",
       "    <tr>\n",
       "      <th>2</th>\n",
       "      <td>RU</td>\n",
       "      <td>RU-URW-1149.txt</td>\n",
       "      <td>Возможность признания Аллы Пугачевой иностранн...</td>\n",
       "      <td>[Distrust towards Media]</td>\n",
       "      <td>[Western media is an instrument of propaganda]</td>\n",
       "    </tr>\n",
       "    <tr>\n",
       "      <th>3</th>\n",
       "      <td>RU</td>\n",
       "      <td>RU-URW-1015.txt</td>\n",
       "      <td>Азаров рассказал о смене риторики Киева по пер...</td>\n",
       "      <td>[Discrediting Ukraine, Discrediting Ukraine]</td>\n",
       "      <td>[Ukraine is a puppet of the West, Discrediting...</td>\n",
       "    </tr>\n",
       "    <tr>\n",
       "      <th>4</th>\n",
       "      <td>RU</td>\n",
       "      <td>RU-URW-1001.txt</td>\n",
       "      <td>В россиянах проснулась массовая любовь к путеш...</td>\n",
       "      <td>[Praise of Russia]</td>\n",
       "      <td>[Russia is a guarantor of peace and prosperity]</td>\n",
       "    </tr>\n",
       "  </tbody>\n",
       "</table>\n",
       "</div>"
      ],
      "text/plain": [
       "  language       article_id  \\\n",
       "0       RU  RU-URW-1161.txt   \n",
       "1       RU  RU-URW-1175.txt   \n",
       "2       RU  RU-URW-1149.txt   \n",
       "3       RU  RU-URW-1015.txt   \n",
       "4       RU  RU-URW-1001.txt   \n",
       "\n",
       "                                             content  \\\n",
       "0  В ближайшие два месяца США будут стремиться к ...   \n",
       "1  В ЕС испугались последствий популярности правы...   \n",
       "2  Возможность признания Аллы Пугачевой иностранн...   \n",
       "3  Азаров рассказал о смене риторики Киева по пер...   \n",
       "4  В россиянах проснулась массовая любовь к путеш...   \n",
       "\n",
       "                                          narratives  \\\n",
       "0  [Blaming the war on others rather than the inv...   \n",
       "1  [Discrediting the West, Diplomacy, Discreditin...   \n",
       "2                           [Distrust towards Media]   \n",
       "3       [Discrediting Ukraine, Discrediting Ukraine]   \n",
       "4                                 [Praise of Russia]   \n",
       "\n",
       "                                       subnarratives  \n",
       "0  [The West are the aggressors, Other, The West ...  \n",
       "1       [The West is weak, Other, The EU is divided]  \n",
       "2     [Western media is an instrument of propaganda]  \n",
       "3  [Ukraine is a puppet of the West, Discrediting...  \n",
       "4    [Russia is a guarantor of peace and prosperity]  "
      ]
     },
     "execution_count": 11,
     "metadata": {},
     "output_type": "execute_result"
    }
   ],
   "source": [
    "dataset = pd.merge(documents_df, annotations_df, on='article_id')\n",
    "dataset.head()"
   ]
  },
  {
   "cell_type": "code",
   "execution_count": 12,
   "id": "3a47243a-ba13-4a40-83fc-049e0876ec70",
   "metadata": {},
   "outputs": [
    {
     "data": {
      "text/plain": [
       "(1699, 5)"
      ]
     },
     "execution_count": 12,
     "metadata": {},
     "output_type": "execute_result"
    }
   ],
   "source": [
    "dataset.shape"
   ]
  },
  {
   "cell_type": "markdown",
   "id": "3e4d5011-e12c-4e64-9866-d900ea54d24e",
   "metadata": {},
   "source": [
    "This is how an English article looks, like, notice that the article by it's self is newline separated, these consequent newlines indicate the start of a new paragraph."
   ]
  },
  {
   "cell_type": "markdown",
   "id": "c91d405a-86e1-473c-8ff5-77988d4d4e48",
   "metadata": {},
   "source": [
    "This is how an English article looks like:\n",
    "* It is insightful to know that each article is consequently tab separated, indicatiing the start of a new paragraph."
   ]
  },
  {
   "cell_type": "code",
   "execution_count": 13,
   "id": "058cc63f-1c57-45f4-8134-292762760885",
   "metadata": {},
   "outputs": [
    {
     "data": {
      "text/plain": [
       "'Trump Lawyer Demands Accountability From Intel Chiefs Who Backed Hunter Biden \\n\\n An attorney for former President Donald Trump wants the 51 former intelligence chiefs held responsible for backing Hunter Biden in the unfolding story of the laptop abandoned in a Delaware repair shop.\\n\\nLawyer Tim Parlatore\\'s goal is to uncover alleged communications between the 51 former senior intel leaders and the Biden 2020 campaign.\\n\\nPolitico had reported that an Oct. 19, 2020, letter, signed by the former intelligence officials, outlined their assessment that a New York Post disclosure of emails allegedly belonging to Hunter Biden \"has all the classic earmarks of a Russia information operation.\"\\n\\nThose signing the letter included former CIA Directors Leon Panetta, Mike Hayden and John Brennan, along with former Director of National Intelligence James Clapper.\\n\\nThe letter offered no evidence, but raised suspicions by the former intel officials.\\n\\nThe Post had previously reported that during the final months of the heated 2020 presidential race between Joe Biden and Trump, there were emails showing evidence of a possible meeting in the past between Hunter Biden, his father, and a Ukrainian energy firm linked to corruption. Joe Biden denied the meeting described took place.\\n\\nIn March of this year, The New York Times backed up portions of the Post\\'s reporting on the Hunter Biden emails.\\n\\n\"Those emails were obtained by The New York Times from a cache of files that appears to have come from a laptop abandoned by Mr. Biden in a Delaware repair shop. The email and others in the cache were authenticated by people familiar with them and with the investigation,\" the Times reported.\\n\\nNow, Parlatore has filed letters of complaint with the agencies that had employed the 51 former intel officials.\\n\\nThe letters cite \"an egregious breach\" by former agency employees \"that appears to have been overlooked by your agency, as it has gone uninvestigated and certainly unpunished. Specifically, the unauthorized publication and dissemination of an intelligence assessment, purportedly based on classified information that was used wrongfully to influence the outcome of an election.\"\\n\\nAccording to a Post opinion piece by journalist Miranda Devine, letters were sent to John Hollister Hedley, chairman of the Publication Classification Review Board at the CIA; Gen. Paul Nakasone, director of the National Security Agency and commander of United States Cyber Command; Christine Abizaid, director of the National Counterterrorism Center at the Office of the Director of National Intelligence; Caroline Krass, general counsel, Department of Defense; and Avril Haines, director of the Information Management Division in the Office of the DNI.\\n\\nParlatore wants each agency to \"proceed immediately with legal action to [ensure] that such breaches of vital security provisions do not continue to go unchecked, the Post said.\\n\\nHis letter notes that each of the 51 former officials was \"bound by the lifelong obligation\" to submit the letter to their former agencies for pre-publication security review.\\n\\nParlatore is also expected to file a letter with the Federal Election Commission asking that the letter signed by the 51 former officials be considered a campaign \"in-kind contribution.\"\\n\\nThe Post noted that another step is for Parlatore to file a lawsuit as he seeks to establish a link between Democrat operatives and the controversial letter.\\n\\n'"
      ]
     },
     "execution_count": 13,
     "metadata": {},
     "output_type": "execute_result"
    }
   ],
   "source": [
    "row = 5\n",
    "english_article = dataset[dataset['language'] == 'EN'].iloc[row].content\n",
    "english_article"
   ]
  },
  {
   "cell_type": "code",
   "execution_count": 14,
   "id": "37899852-0f4f-4202-b7f9-09a9bcc3a6be",
   "metadata": {},
   "outputs": [
    {
     "data": {
      "text/plain": [
       "(1699, 5)"
      ]
     },
     "execution_count": 14,
     "metadata": {},
     "output_type": "execute_result"
    }
   ],
   "source": [
    "dataset.shape"
   ]
  },
  {
   "cell_type": "code",
   "execution_count": 15,
   "id": "c5b981df-cac4-47e3-9d51-5d96b28dbbc5",
   "metadata": {},
   "outputs": [
    {
     "data": {
      "text/plain": [
       "0       [Blaming the war on others rather than the inv...\n",
       "1       [Discrediting the West, Diplomacy, Discreditin...\n",
       "2                                [Distrust towards Media]\n",
       "3            [Discrediting Ukraine, Discrediting Ukraine]\n",
       "4                                      [Praise of Russia]\n",
       "                              ...                        \n",
       "1694                       [Amplifying war-related fears]\n",
       "1695    [Criticism of climate movement, Downplaying cl...\n",
       "1696    [Criticism of institutions and authorities, Co...\n",
       "1697                           [Speculating war outcomes]\n",
       "1698                           [Amplifying Climate Fears]\n",
       "Name: narratives, Length: 1699, dtype: object"
      ]
     },
     "execution_count": 15,
     "metadata": {},
     "output_type": "execute_result"
    }
   ],
   "source": [
    "dataset['narratives']"
   ]
  },
  {
   "cell_type": "code",
   "execution_count": 16,
   "id": "7258e4f9-0b99-4314-b08f-cc3d3cdeb1a4",
   "metadata": {},
   "outputs": [
    {
     "data": {
      "text/plain": [
       "array(['Blaming the war on others rather than the invader',\n",
       "       'Discrediting the West, Diplomacy',\n",
       "       'Hidden plots by secret schemes of powerful groups',\n",
       "       'Discrediting Ukraine', 'Praise of Russia',\n",
       "       'Distrust towards Media', 'Russia is the Victim',\n",
       "       'Negative Consequences for the West', 'Speculating war outcomes',\n",
       "       'Amplifying war-related fears', 'Overpraising the West',\n",
       "       'Downplaying climate change',\n",
       "       'Criticism of institutions and authorities',\n",
       "       'Questioning the measurements and science',\n",
       "       'Climate change is beneficial', 'Criticism of climate policies',\n",
       "       'Criticism of climate movement', 'Amplifying Climate Fears',\n",
       "       'Other', 'Controversy about green technologies',\n",
       "       'Green policies are geopolitical instruments'], dtype=object)"
      ]
     },
     "execution_count": 16,
     "metadata": {},
     "output_type": "execute_result"
    }
   ],
   "source": [
    "unique_narratives = dataset['narratives'].explode().unique()\n",
    "unique_narratives"
   ]
  },
  {
   "cell_type": "markdown",
   "id": "472a8469-3148-41dc-aabc-9fe9b074e343",
   "metadata": {},
   "source": [
    "The frequency of narratives in the dataset: "
   ]
  },
  {
   "cell_type": "code",
   "execution_count": 17,
   "id": "eaf3b5d3-4564-47e5-b12e-439758eb1bd0",
   "metadata": {},
   "outputs": [
    {
     "name": "stdout",
     "output_type": "stream",
     "text": [
      "21\n"
     ]
    },
    {
     "data": {
      "text/plain": [
       "narratives\n",
       "Discrediting Ukraine                                 584\n",
       "Discrediting the West, Diplomacy                     452\n",
       "Praise of Russia                                     406\n",
       "Amplifying Climate Fears                             357\n",
       "Other                                                324\n",
       "Amplifying war-related fears                         297\n",
       "Russia is the Victim                                 229\n",
       "Criticism of institutions and authorities            216\n",
       "Blaming the war on others rather than the invader    194\n",
       "Speculating war outcomes                             132\n",
       "Criticism of climate policies                        127\n",
       "Negative Consequences for the West                   104\n",
       "Criticism of climate movement                         84\n",
       "Hidden plots by secret schemes of powerful groups     84\n",
       "Downplaying climate change                            68\n",
       "Distrust towards Media                                53\n",
       "Overpraising the West                                 51\n",
       "Controversy about green technologies                  49\n",
       "Questioning the measurements and science              40\n",
       "Climate change is beneficial                          14\n",
       "Green policies are geopolitical instruments            9\n",
       "Name: count, dtype: int64"
      ]
     },
     "execution_count": 17,
     "metadata": {},
     "output_type": "execute_result"
    }
   ],
   "source": [
    "print(len(dataset['narratives'].explode().value_counts()))\n",
    "dataset['narratives'].explode().value_counts()"
   ]
  },
  {
   "cell_type": "code",
   "execution_count": 18,
   "id": "60c74777-36aa-40cf-b494-47fae75e113b",
   "metadata": {},
   "outputs": [
    {
     "data": {
      "text/plain": [
       "array(['The West are the aggressors', 'Other', 'The West is weak',\n",
       "       'Ukraine is a puppet of the West',\n",
       "       'Ukraine is associated with nazism',\n",
       "       'Russia is a guarantor of peace and prosperity',\n",
       "       'The West does not care about Ukraine, only about its interests',\n",
       "       'The EU is divided',\n",
       "       'Western media is an instrument of propaganda',\n",
       "       'Discrediting Ukrainian government and officials and policies',\n",
       "       'The West is overreacting', 'UA is anti-RU extremists',\n",
       "       'Discrediting Ukrainian nation and society',\n",
       "       'Discrediting Ukrainian military',\n",
       "       'Ukrainian media cannot be trusted',\n",
       "       'Praise of Russian military might', 'The West is russophobic',\n",
       "       'Ukrainian army is collapsing',\n",
       "       'Russia has international support from a number of countries and people',\n",
       "       'Praise of Russian President Vladimir Putin',\n",
       "       'By continuing the war we risk WWIII', 'Ukraine is the aggressor',\n",
       "       'Russia actions in Ukraine are only self-defence',\n",
       "       'Situation in Ukraine is hopeless',\n",
       "       'There is a real possibility that nuclear weapons will be employed',\n",
       "       'Rewriting Ukraine’s history',\n",
       "       'Russia will also attack other countries',\n",
       "       'Diplomacy does/will not work',\n",
       "       'NATO should/will directly intervene',\n",
       "       'The conflict will increase the Ukrainian refugee flows to Europe',\n",
       "       'Criticism of political organizations and figures',\n",
       "       'Scientific community is unreliable',\n",
       "       'Humans and nature will adapt to the changes', 'CO2 is beneficial',\n",
       "       'Climate policies have negative impact on the economy',\n",
       "       'Climate cycles are natural',\n",
       "       'Methodologies/metrics used are unreliable/faulty',\n",
       "       'Climate movement is alarmist', 'Doomsday scenarios for humans',\n",
       "       'Amplifying existing fears of global warming',\n",
       "       'Criticism of national governments',\n",
       "       'Ukraine is a hub for criminal activities',\n",
       "       'Climate policies are ineffective',\n",
       "       'Renewable energy is dangerous', 'West is tired of Ukraine',\n",
       "       'Whatever we do it is already too late',\n",
       "       'Criticism of international entities',\n",
       "       'Earth will be uninhabitable soon', 'Climate movement is corrupt',\n",
       "       'Criticism of the EU', 'Climate agenda has hidden motives',\n",
       "       'Ice is not melting', 'Sea levels are not rising',\n",
       "       'Temperature increase is beneficial',\n",
       "       'The West has the strongest international support',\n",
       "       'Sanctions imposed by Western countries will backfire',\n",
       "       'The West belongs in the right side of history',\n",
       "       'Human activities do not impact climate change',\n",
       "       'Ad hominem attacks on key activists',\n",
       "       'Climate policies are only for profit',\n",
       "       'Renewable energy is costly', 'Renewable energy is unreliable',\n",
       "       'Russian army is collapsing',\n",
       "       'Temperature increase does not have significant impact',\n",
       "       'NATO will destroy Russia',\n",
       "       'Weather suggests the trend is global cooling',\n",
       "       'Climate-related international relations are abusive/exploitative',\n",
       "       'Data shows no temperature increase',\n",
       "       'Green activities are a form of neo-colonialism',\n",
       "       'Blaming global elites',\n",
       "       'Russian invasion has strong national support',\n",
       "       'Russian army will lose all the occupied territories',\n",
       "       'CO2 concentrations are too small to have an impact',\n",
       "       'Greenhouse effect/carbon dioxide do not drive climate change'],\n",
       "      dtype=object)"
      ]
     },
     "execution_count": 18,
     "metadata": {},
     "output_type": "execute_result"
    }
   ],
   "source": [
    "unique_subnarratives = dataset['subnarratives'].explode().unique()\n",
    "unique_subnarratives"
   ]
  },
  {
   "cell_type": "code",
   "execution_count": 19,
   "id": "be2ff5df-0f19-4298-9314-faabd9a501ee",
   "metadata": {},
   "outputs": [
    {
     "data": {
      "text/plain": [
       "74"
      ]
     },
     "execution_count": 19,
     "metadata": {},
     "output_type": "execute_result"
    }
   ],
   "source": [
    "len(unique_subnarratives)"
   ]
  },
  {
   "cell_type": "markdown",
   "id": "7b63fded-1742-499d-b5b2-8038bc958c9c",
   "metadata": {},
   "source": [
    "The frequency of subnarratives in the dataset:"
   ]
  },
  {
   "cell_type": "code",
   "execution_count": 20,
   "id": "1702b604-768a-470f-af25-a9b20b1bf94b",
   "metadata": {},
   "outputs": [
    {
     "data": {
      "text/plain": [
       "subnarratives\n",
       "Other                                                                     1164\n",
       "Amplifying existing fears of global warming                                178\n",
       "Discrediting Ukrainian government and officials and policies               157\n",
       "Praise of Russian military might                                           145\n",
       "The West are the aggressors                                                112\n",
       "Ukraine is a puppet of the West                                            106\n",
       "Russia is a guarantor of peace and prosperity                              101\n",
       "Discrediting Ukrainian military                                            100\n",
       "There is a real possibility that nuclear weapons will be employed           96\n",
       "Criticism of national governments                                           85\n",
       "The West does not care about Ukraine, only about its interests              85\n",
       "Ukraine is the aggressor                                                    78\n",
       "Russia has international support from a number of countries and people      77\n",
       "Criticism of political organizations and figures                            73\n",
       "Russia actions in Ukraine are only self-defence                             70\n",
       "The West is russophobic                                                     69\n",
       "By continuing the war we risk WWIII                                         61\n",
       "The West is weak                                                            59\n",
       "Situation in Ukraine is hopeless                                            56\n",
       "Russia will also attack other countries                                     54\n",
       "Climate policies have negative impact on the economy                        45\n",
       "Praise of Russian President Vladimir Putin                                  43\n",
       "Diplomacy does/will not work                                                42\n",
       "Doomsday scenarios for humans                                               41\n",
       "Ukraine is associated with nazism                                           40\n",
       "Western media is an instrument of propaganda                                40\n",
       "The EU is divided                                                           40\n",
       "Ukraine is a hub for criminal activities                                    37\n",
       "Ukrainian army is collapsing                                                37\n",
       "Climate policies are ineffective                                            35\n",
       "Sanctions imposed by Western countries will backfire                        33\n",
       "Climate agenda has hidden motives                                           31\n",
       "Criticism of international entities                                         29\n",
       "NATO should/will directly intervene                                         28\n",
       "Climate movement is alarmist                                                27\n",
       "Earth will be uninhabitable soon                                            24\n",
       "West is tired of Ukraine                                                    21\n",
       "Ad hominem attacks on key activists                                         20\n",
       "Blaming global elites                                                       19\n",
       "The West has the strongest international support                            18\n",
       "Russian army is collapsing                                                  18\n",
       "Climate policies are only for profit                                        18\n",
       "The West belongs in the right side of history                               18\n",
       "UA is anti-RU extremists                                                    17\n",
       "Climate cycles are natural                                                  16\n",
       "Scientific community is unreliable                                          16\n",
       "Renewable energy is unreliable                                              14\n",
       "Renewable energy is costly                                                  14\n",
       "Methodologies/metrics used are unreliable/faulty                            12\n",
       "Climate movement is corrupt                                                 12\n",
       "Discrediting Ukrainian nation and society                                   10\n",
       "The West is overreacting                                                    10\n",
       "Whatever we do it is already too late                                       10\n",
       "Criticism of the EU                                                         10\n",
       "NATO will destroy Russia                                                     8\n",
       "Rewriting Ukraine’s history                                                  8\n",
       "Human activities do not impact climate change                                8\n",
       "The conflict will increase the Ukrainian refugee flows to Europe             8\n",
       "CO2 is beneficial                                                            7\n",
       "Temperature increase is beneficial                                           6\n",
       "Renewable energy is dangerous                                                6\n",
       "Russian invasion has strong national support                                 6\n",
       "CO2 concentrations are too small to have an impact                           5\n",
       "Russian army will lose all the occupied territories                          5\n",
       "Temperature increase does not have significant impact                        5\n",
       "Weather suggests the trend is global cooling                                 4\n",
       "Climate-related international relations are abusive/exploitative             4\n",
       "Green activities are a form of neo-colonialism                               4\n",
       "Humans and nature will adapt to the changes                                  4\n",
       "Ukrainian media cannot be trusted                                            4\n",
       "Ice is not melting                                                           4\n",
       "Data shows no temperature increase                                           3\n",
       "Sea levels are not rising                                                    2\n",
       "Greenhouse effect/carbon dioxide do not drive climate change                 2\n",
       "Name: count, dtype: int64"
      ]
     },
     "execution_count": 20,
     "metadata": {},
     "output_type": "execute_result"
    }
   ],
   "source": [
    "pd.set_option('display.max_rows', 100)\n",
    "\n",
    "dataset['subnarratives'].explode().value_counts()"
   ]
  },
  {
   "cell_type": "markdown",
   "id": "1d7f3a8b-7ce0-493d-bdc6-a39c6b79c072",
   "metadata": {},
   "source": [
    "### 1.2 Encoding classification labels"
   ]
  },
  {
   "cell_type": "markdown",
   "id": "3944b64c-fbbb-4ecb-9b50-c8e0d4214f98",
   "metadata": {},
   "source": [
    "We will know transofrm'narratives' and 'subnarratives' columns\n",
    "into binary format using MultiLabelBinarizer. \n",
    "* Each unique label is represented by a binary vector, enabling the model to handle multiple labels per instance for both narratives and subnarratives."
   ]
  },
  {
   "cell_type": "code",
   "execution_count": 21,
   "id": "731fcf27-f1a0-423a-a950-47864de45a75",
   "metadata": {},
   "outputs": [],
   "source": [
    "from sklearn.preprocessing import MultiLabelBinarizer\n",
    "\n",
    "mlb_narratives = MultiLabelBinarizer()\n",
    "mlb_subnarratives = MultiLabelBinarizer()"
   ]
  },
  {
   "cell_type": "code",
   "execution_count": 22,
   "id": "c3f2e332-55b2-4c2b-909c-6bc41700cb11",
   "metadata": {},
   "outputs": [],
   "source": [
    "narratives_binary = mlb_narratives.fit_transform(dataset['narratives'])\n",
    "subnarratives_binary = mlb_subnarratives.fit_transform(dataset['subnarratives'])\n",
    "\n",
    "dataset['narratives_encoded'] = narratives_binary.tolist()\n",
    "dataset['subnarratives_encoded'] = subnarratives_binary.tolist()"
   ]
  },
  {
   "cell_type": "code",
   "execution_count": 23,
   "id": "51772fa4-a9af-41ce-a530-e2d8296e4968",
   "metadata": {},
   "outputs": [
    {
     "data": {
      "text/html": [
       "<div>\n",
       "<style scoped>\n",
       "    .dataframe tbody tr th:only-of-type {\n",
       "        vertical-align: middle;\n",
       "    }\n",
       "\n",
       "    .dataframe tbody tr th {\n",
       "        vertical-align: top;\n",
       "    }\n",
       "\n",
       "    .dataframe thead th {\n",
       "        text-align: right;\n",
       "    }\n",
       "</style>\n",
       "<table border=\"1\" class=\"dataframe\">\n",
       "  <thead>\n",
       "    <tr style=\"text-align: right;\">\n",
       "      <th></th>\n",
       "      <th>language</th>\n",
       "      <th>article_id</th>\n",
       "      <th>content</th>\n",
       "      <th>narratives</th>\n",
       "      <th>subnarratives</th>\n",
       "      <th>narratives_encoded</th>\n",
       "      <th>subnarratives_encoded</th>\n",
       "    </tr>\n",
       "  </thead>\n",
       "  <tbody>\n",
       "    <tr>\n",
       "      <th>0</th>\n",
       "      <td>RU</td>\n",
       "      <td>RU-URW-1161.txt</td>\n",
       "      <td>В ближайшие два месяца США будут стремиться к ...</td>\n",
       "      <td>[Blaming the war on others rather than the inv...</td>\n",
       "      <td>[The West are the aggressors, Other, The West ...</td>\n",
       "      <td>[0, 0, 1, 0, 0, 0, 0, 0, 1, 1, 0, 0, 0, 1, 0, ...</td>\n",
       "      <td>[0, 0, 0, 0, 0, 0, 0, 0, 0, 0, 0, 0, 0, 0, 0, ...</td>\n",
       "    </tr>\n",
       "    <tr>\n",
       "      <th>1</th>\n",
       "      <td>RU</td>\n",
       "      <td>RU-URW-1175.txt</td>\n",
       "      <td>В ЕС испугались последствий популярности правы...</td>\n",
       "      <td>[Discrediting the West, Diplomacy, Discreditin...</td>\n",
       "      <td>[The West is weak, Other, The EU is divided]</td>\n",
       "      <td>[0, 0, 0, 0, 0, 0, 0, 0, 0, 1, 0, 0, 0, 0, 0, ...</td>\n",
       "      <td>[0, 0, 0, 0, 0, 0, 0, 0, 0, 0, 0, 0, 0, 0, 0, ...</td>\n",
       "    </tr>\n",
       "    <tr>\n",
       "      <th>2</th>\n",
       "      <td>RU</td>\n",
       "      <td>RU-URW-1149.txt</td>\n",
       "      <td>Возможность признания Аллы Пугачевой иностранн...</td>\n",
       "      <td>[Distrust towards Media]</td>\n",
       "      <td>[Western media is an instrument of propaganda]</td>\n",
       "      <td>[0, 0, 0, 0, 0, 0, 0, 0, 0, 0, 1, 0, 0, 0, 0, ...</td>\n",
       "      <td>[0, 0, 0, 0, 0, 0, 0, 0, 0, 0, 0, 0, 0, 0, 0, ...</td>\n",
       "    </tr>\n",
       "    <tr>\n",
       "      <th>3</th>\n",
       "      <td>RU</td>\n",
       "      <td>RU-URW-1015.txt</td>\n",
       "      <td>Азаров рассказал о смене риторики Киева по пер...</td>\n",
       "      <td>[Discrediting Ukraine, Discrediting Ukraine]</td>\n",
       "      <td>[Ukraine is a puppet of the West, Discrediting...</td>\n",
       "      <td>[0, 0, 0, 0, 0, 0, 0, 0, 1, 0, 0, 0, 0, 0, 0, ...</td>\n",
       "      <td>[0, 0, 0, 0, 0, 0, 0, 0, 0, 0, 0, 0, 0, 0, 0, ...</td>\n",
       "    </tr>\n",
       "    <tr>\n",
       "      <th>4</th>\n",
       "      <td>RU</td>\n",
       "      <td>RU-URW-1001.txt</td>\n",
       "      <td>В россиянах проснулась массовая любовь к путеш...</td>\n",
       "      <td>[Praise of Russia]</td>\n",
       "      <td>[Russia is a guarantor of peace and prosperity]</td>\n",
       "      <td>[0, 0, 0, 0, 0, 0, 0, 0, 0, 0, 0, 0, 0, 0, 0, ...</td>\n",
       "      <td>[0, 0, 0, 0, 0, 0, 0, 0, 0, 0, 0, 0, 0, 0, 0, ...</td>\n",
       "    </tr>\n",
       "  </tbody>\n",
       "</table>\n",
       "</div>"
      ],
      "text/plain": [
       "  language       article_id  \\\n",
       "0       RU  RU-URW-1161.txt   \n",
       "1       RU  RU-URW-1175.txt   \n",
       "2       RU  RU-URW-1149.txt   \n",
       "3       RU  RU-URW-1015.txt   \n",
       "4       RU  RU-URW-1001.txt   \n",
       "\n",
       "                                             content  \\\n",
       "0  В ближайшие два месяца США будут стремиться к ...   \n",
       "1  В ЕС испугались последствий популярности правы...   \n",
       "2  Возможность признания Аллы Пугачевой иностранн...   \n",
       "3  Азаров рассказал о смене риторики Киева по пер...   \n",
       "4  В россиянах проснулась массовая любовь к путеш...   \n",
       "\n",
       "                                          narratives  \\\n",
       "0  [Blaming the war on others rather than the inv...   \n",
       "1  [Discrediting the West, Diplomacy, Discreditin...   \n",
       "2                           [Distrust towards Media]   \n",
       "3       [Discrediting Ukraine, Discrediting Ukraine]   \n",
       "4                                 [Praise of Russia]   \n",
       "\n",
       "                                       subnarratives  \\\n",
       "0  [The West are the aggressors, Other, The West ...   \n",
       "1       [The West is weak, Other, The EU is divided]   \n",
       "2     [Western media is an instrument of propaganda]   \n",
       "3  [Ukraine is a puppet of the West, Discrediting...   \n",
       "4    [Russia is a guarantor of peace and prosperity]   \n",
       "\n",
       "                                  narratives_encoded  \\\n",
       "0  [0, 0, 1, 0, 0, 0, 0, 0, 1, 1, 0, 0, 0, 1, 0, ...   \n",
       "1  [0, 0, 0, 0, 0, 0, 0, 0, 0, 1, 0, 0, 0, 0, 0, ...   \n",
       "2  [0, 0, 0, 0, 0, 0, 0, 0, 0, 0, 1, 0, 0, 0, 0, ...   \n",
       "3  [0, 0, 0, 0, 0, 0, 0, 0, 1, 0, 0, 0, 0, 0, 0, ...   \n",
       "4  [0, 0, 0, 0, 0, 0, 0, 0, 0, 0, 0, 0, 0, 0, 0, ...   \n",
       "\n",
       "                               subnarratives_encoded  \n",
       "0  [0, 0, 0, 0, 0, 0, 0, 0, 0, 0, 0, 0, 0, 0, 0, ...  \n",
       "1  [0, 0, 0, 0, 0, 0, 0, 0, 0, 0, 0, 0, 0, 0, 0, ...  \n",
       "2  [0, 0, 0, 0, 0, 0, 0, 0, 0, 0, 0, 0, 0, 0, 0, ...  \n",
       "3  [0, 0, 0, 0, 0, 0, 0, 0, 0, 0, 0, 0, 0, 0, 0, ...  \n",
       "4  [0, 0, 0, 0, 0, 0, 0, 0, 0, 0, 0, 0, 0, 0, 0, ...  "
      ]
     },
     "execution_count": 23,
     "metadata": {},
     "output_type": "execute_result"
    }
   ],
   "source": [
    "dataset.head()"
   ]
  },
  {
   "cell_type": "code",
   "execution_count": 24,
   "id": "14e1b28c-0a96-40e8-a93f-0734bc1e2a70",
   "metadata": {},
   "outputs": [],
   "source": [
    "import pickle\n",
    "\n",
    "base_save_folder_dir = './saved/'\n",
    "\n",
    "os.makedirs(base_save_folder_dir, exist_ok=True)\n",
    "datasets_folder = os.path.join(base_save_folder_dir, 'Dataset')\n",
    "with open(os.path.join(datasets_folder, 'dataset.pkl'), 'wb') as f:\n",
    "    pickle.dump(dataset, f)"
   ]
  },
  {
   "cell_type": "markdown",
   "id": "3a14e7bf-7950-44a8-bddf-350b7875abe3",
   "metadata": {},
   "source": [
    "### 1.3 Cleaning articles"
   ]
  },
  {
   "cell_type": "markdown",
   "id": "096fa81f-aefa-4c1a-8718-3540c81f2797",
   "metadata": {},
   "source": [
    "We will use spaCy to load pre-trained language models for different languages, which will help us clean and preprocess article text.\n",
    "* For each language-model that spacy supports, we will load it, otherwise we will fallback to `xx_ent_wiki_sm`"
   ]
  },
  {
   "cell_type": "code",
   "execution_count": 25,
   "id": "f087e5f5-0d6d-40f4-86f9-bf07399966c2",
   "metadata": {},
   "outputs": [
    {
     "name": "stdout",
     "output_type": "stream",
     "text": [
      "Collecting xx-ent-wiki-sm==3.8.0\n",
      "  Using cached https://github.com/explosion/spacy-models/releases/download/xx_ent_wiki_sm-3.8.0/xx_ent_wiki_sm-3.8.0-py3-none-any.whl (11.1 MB)\n",
      "\u001b[38;5;2m✔ Download and installation successful\u001b[0m\n",
      "You can now load the package via spacy.load('xx_ent_wiki_sm')\n",
      "Collecting pt-core-news-sm==3.8.0\n",
      "  Using cached https://github.com/explosion/spacy-models/releases/download/pt_core_news_sm-3.8.0/pt_core_news_sm-3.8.0-py3-none-any.whl (13.0 MB)\n",
      "\u001b[38;5;2m✔ Download and installation successful\u001b[0m\n",
      "You can now load the package via spacy.load('pt_core_news_sm')\n",
      "Collecting ru-core-news-sm==3.8.0\n",
      "  Using cached https://github.com/explosion/spacy-models/releases/download/ru_core_news_sm-3.8.0/ru_core_news_sm-3.8.0-py3-none-any.whl (15.3 MB)\n",
      "Requirement already satisfied: pymorphy3>=1.0.0 in /Library/Frameworks/Python.framework/Versions/3.12/lib/python3.12/site-packages (from ru-core-news-sm==3.8.0) (2.0.2)\n",
      "Requirement already satisfied: dawg-python>=0.7.1 in /Library/Frameworks/Python.framework/Versions/3.12/lib/python3.12/site-packages (from pymorphy3>=1.0.0->ru-core-news-sm==3.8.0) (0.7.2)\n",
      "Requirement already satisfied: pymorphy3-dicts-ru in /Library/Frameworks/Python.framework/Versions/3.12/lib/python3.12/site-packages (from pymorphy3>=1.0.0->ru-core-news-sm==3.8.0) (2.4.417150.4580142)\n",
      "Requirement already satisfied: setuptools>=68.2.2 in /Library/Frameworks/Python.framework/Versions/3.12/lib/python3.12/site-packages (from pymorphy3>=1.0.0->ru-core-news-sm==3.8.0) (70.3.0)\n",
      "\u001b[38;5;2m✔ Download and installation successful\u001b[0m\n",
      "You can now load the package via spacy.load('ru_core_news_sm')\n",
      "Collecting en-core-web-sm==3.8.0\n",
      "  Using cached https://github.com/explosion/spacy-models/releases/download/en_core_web_sm-3.8.0/en_core_web_sm-3.8.0-py3-none-any.whl (12.8 MB)\n",
      "\u001b[38;5;2m✔ Download and installation successful\u001b[0m\n",
      "You can now load the package via spacy.load('en_core_web_sm')\n"
     ]
    }
   ],
   "source": [
    "language_model_map = {\n",
    "    \"BG\": \"xx_ent_wiki_sm\",\n",
    "    \"EN\": \"en_core_web_sm\",\n",
    "    \"HI\": \"xx_ent_wiki_sm\",\n",
    "    \"PT\": \"pt_core_news_sm\",\n",
    "    \"RU\": \"ru_core_news_sm\",\n",
    "}\n",
    "\n",
    "!python3 -m spacy download xx_ent_wiki_sm\n",
    "!python3 -m spacy download pt_core_news_sm\n",
    "!python3 -m spacy download ru_core_news_sm\n",
    "!python3 -m spacy download en_core_web_sm"
   ]
  },
  {
   "cell_type": "markdown",
   "id": "15446828-bd50-4d81-9f24-8604afba53e5",
   "metadata": {},
   "source": [
    "We will also use the emoji library to remove certain emojis that appeared in the articles, and that's because they don't add meaningful context"
   ]
  },
  {
   "cell_type": "code",
   "execution_count": 26,
   "id": "03a4f407-62e9-4038-9eb8-a1bdc86d7210",
   "metadata": {},
   "outputs": [],
   "source": [
    "!pip3 -q install emoji"
   ]
  },
  {
   "cell_type": "code",
   "execution_count": 27,
   "id": "3fc17c06-41c2-4383-9037-371ae97fb2f8",
   "metadata": {},
   "outputs": [],
   "source": [
    "import spacy\n",
    "import emoji\n",
    "\n",
    "nlp_models = {lang: spacy.load(model) for lang, model in language_model_map.items()}"
   ]
  },
  {
   "cell_type": "markdown",
   "id": "96d42820-ec0b-4daf-b743-2dc4b2d7faa4",
   "metadata": {},
   "source": [
    "The goal of this cleaning is to prepare the article text for analysis by removing irrelevant or noisy data, like URLs, emails, social media mentions, emojis.\n",
    "\n",
    "* It also normalizes the text by converting non-entity words to lowercase and keeps important entities (like people, organizations, and locations) in their original case. This is more task-focused since I think they may add some context to our classification task.\n",
    "* Notice also, that we are splitting our text in paragraphs, this is done just because article's are quite long, and this preparation will later help the embedding data preparation."
   ]
  },
  {
   "cell_type": "code",
   "execution_count": 28,
   "id": "9f87428b-2913-4a99-b9d7-e5dc0c690cd7",
   "metadata": {},
   "outputs": [],
   "source": [
    "import re\n",
    "\n",
    "class ArticleCleaner:\n",
    "    def __init__(self, nlp_models):\n",
    "        self.nlp_models = nlp_models\n",
    "\n",
    "    def _clean_paragraph(self, paragraph, nlp):\n",
    "        \"\"\"Cleans individual paragraphs by removing links, emails, and normalizing tokens.\"\"\"\n",
    "        # Remove URLs, emails, and mentions\n",
    "        paragraph = re.sub(\n",
    "            r'http\\S+|www\\S+|https\\S+|[a-zA-Z0-9.-]+\\.com|[a-zA-Z0-9_.+-]+@[a-zA-Z0-9-]+\\.[a-zA-Z0-9-.]+|@[A-Za-z0-9_]+',\n",
    "            '',\n",
    "            paragraph\n",
    "        )\n",
    "\n",
    "        doc = nlp(paragraph)\n",
    "        cleaned_tokens = []\n",
    "        important_entity_types = [\"PERSON\", \"ORG\", \"GPE\"]\n",
    "\n",
    "        for token in doc:\n",
    "            if token.is_space or emoji.is_emoji(token.text):\n",
    "                continue\n",
    "\n",
    "            if token.ent_type_ in important_entity_types:\n",
    "                cleaned_tokens.append(token.text + token.whitespace_)\n",
    "            else:\n",
    "                cleaned_tokens.append(token.text.lower() + token.whitespace_)\n",
    "\n",
    "        return \"\".join(cleaned_tokens).strip()\n",
    "\n",
    "    def _preprocess_article_text(self, article_text):\n",
    "        \"\"\"Preprocess the article text by splitting into header, body, and footer.\"\"\"\n",
    "        parts = re.split(r'\\n{2,}', article_text)\n",
    "\n",
    "        if len(parts) > 2:\n",
    "            header = parts[0].strip()\n",
    "            footer = parts[-1].strip()\n",
    "            body = parts[1:-1]\n",
    "        else:\n",
    "            header = parts[0].strip() if len(parts) > 0 else \"\"\n",
    "            footer = parts[1].strip() if len(parts) > 1 else \"\"\n",
    "            body = []\n",
    "\n",
    "        return header, body, footer\n",
    "\n",
    "    def clean_article_with_paragraphs(self, article_text, language_code):\n",
    "        \"\"\"Main method to clean the article by processing the header, body, and footer.\"\"\"\n",
    "        nlp = self.nlp_models.get(language_code, self.nlp_models[\"EN\"])\n",
    "\n",
    "        header, body, footer = self._preprocess_article_text(article_text)\n",
    "\n",
    "        cleaned_header = f\"<PARA>{self._clean_paragraph(header, nlp)}</PARA>\" if header else \"\"\n",
    "        cleaned_footer = f\"<PARA>{self._clean_paragraph(footer, nlp)}</PARA>\" if footer else \"\"\n",
    "        cleaned_body = \" \".join([self._clean_paragraph(paragraph, nlp) for paragraph in body])\n",
    "\n",
    "        combined_text = \"\\n\\n\".join(filter(None, [cleaned_header, cleaned_body, cleaned_footer]))\n",
    "        return combined_text.strip()"
   ]
  },
  {
   "cell_type": "code",
   "execution_count": 29,
   "id": "69d907c7-14df-4558-9f85-3a651e576c13",
   "metadata": {},
   "outputs": [],
   "source": [
    "article_cleaner = ArticleCleaner(nlp_models)"
   ]
  },
  {
   "cell_type": "code",
   "execution_count": 30,
   "id": "00788920-70a9-464c-b611-651b0a2463e9",
   "metadata": {},
   "outputs": [],
   "source": [
    "dataset[\"content\"] = dataset.apply(\n",
    "    lambda row: article_cleaner.clean_article_with_paragraphs(row[\"content\"], row[\"language\"]),\n",
    "    axis=1\n",
    ")"
   ]
  },
  {
   "cell_type": "markdown",
   "id": "e4d41712-cdc5-4bf7-a6d4-aa69ecc4901a",
   "metadata": {},
   "source": [
    "This is how the new, modified article looks like:"
   ]
  },
  {
   "cell_type": "code",
   "execution_count": 31,
   "id": "a97d5622-5fd3-4f39-b0d3-564c8c776a46",
   "metadata": {},
   "outputs": [
    {
     "data": {
      "text/plain": [
       "'<PARA>UN chief Warns of global economic crisis at world economic forum in Davos</PARA>\\n\\nUnited Nations secretary-general Antonio Guterres offered a grim outlook on the global economic during the World Economic Forum’s 2023 summit in Davos, Switzerland, warning of a possible worldwide economic downturn. citing the “perfect storm” of the Russia–Ukraine war, high food prices, and high energy costs, Guterres said that there will be “huge economic consequences” around the world. he did not predict, however, when the slowdown would start. Guterres noted that economies outside the United States, europe, and asia would face worsening economic conditions. developing countries in africa, south america, and much of asia are seeing rising interest rates, he noted. “interest rates are going up extremely in the global south. countries are close to default. they have no resources because they couldn’t print money like the United States did, like europe did during the covid-19 [pandemic],” the UN chief told Bartiromo. “they have no access to concessional funding because many of them are middle-income countries. look at small island developing states, the caribbean islands.” some of those countries, he added, “lived on tourism” and “tourism has ended for two years, but as they are middle-income countries, they had no debt to live, they had no concessional funding.” Guterres said that the United Nations is proposing a global stimulus plan to address economic woes, and claimed that economies should transition from oil and gas to other energy sources. “we need to do that in a just way,” he said, adding that “this transition needs to be well-managed.” meanwhile, the west and China need to have “serious” negotiations amid the dim global economic outlook, said the UN chief. other warningswhile inflation has eased at the consumer and producer level in the United States in recent months, a number of economists and business leaders say that americans should prepare for a recession starting in 2023. The Federal Reserve has raised interest rates to their highest levels in decades in order to cool high inflation that reached more than 9 percent in june 2022, though it has since dropped to below 7 percent. “some economists argue that the strength of the labor market—as well as household balance sheets—will keep the economy strong enough to avoid a recession,” wrote Lakshman Achuthan and Anirvan Banerji, co-founders of the Economic Cycle Research Institute, for CNN’s website. “we disagree,” they wrote, saying that “it remains our expectation that the U.S. economy will enter a recession this year.” “i’m confident that Microsoft will emerge from this stronger and more competitive,” Microsoft ceo Satya Nadella told employees in a memo on company’s website on wednesday.\\n\\n<PARA>other tech firms, such as Amazon, Meta, Alphabet, Salesforce, and Twitter, have announced similar moves in recent weeks. Microsoft, based in Redmond, Washington, had 221,000 full-time employees as of june 30, 2022, according to government filings.</PARA>'"
      ]
     },
     "execution_count": 31,
     "metadata": {},
     "output_type": "execute_result"
    }
   ],
   "source": [
    "row = 7\n",
    "english_article = dataset[dataset['language'] == 'EN'].iloc[row].content\n",
    "english_article"
   ]
  },
  {
   "cell_type": "code",
   "execution_count": 32,
   "id": "aea9510b-3709-43fa-8a5c-9e11264c3449",
   "metadata": {},
   "outputs": [],
   "source": [
    "def split_into_sections(content):\n",
    "    parts = re.split(r'<PARA>|</PARA>', content)\n",
    "    parts = [p.strip() for p in parts if p.strip()]\n",
    "\n",
    "    if len(parts) == 1:\n",
    "        return parts[0], \"\", \"\"\n",
    "    elif len(parts) == 2:\n",
    "        return parts[0], parts[1], \"\"\n",
    "    else:\n",
    "        header = parts[0]\n",
    "        footer = parts[-1]\n",
    "        body = \" \".join(parts[1:-1])\n",
    "        return header, body, footer"
   ]
  },
  {
   "cell_type": "markdown",
   "id": "141071fc-694e-49fb-a8cc-c5c5d51fad8c",
   "metadata": {},
   "source": [
    "We do a sanity check to see if our paragraph split works:"
   ]
  },
  {
   "cell_type": "code",
   "execution_count": 33,
   "id": "cbd49d2f-48b9-4ba8-a62c-bd6295007c2e",
   "metadata": {},
   "outputs": [
    {
     "name": "stdout",
     "output_type": "stream",
     "text": [
      "Header:  UN chief Warns of global economic crisis at world economic forum in Davos\n",
      "\n",
      "\n",
      "\n",
      "Body:  United Nations secretary-general Antonio Guterres offered a grim outlook on the global economic during the World Economic Forum’s 2023 summit in Davos, Switzerland, warning of a possible worldwide economic downturn. citing the “perfect storm” of the Russia–Ukraine war, high food prices, and high energy costs, Guterres said that there will be “huge economic consequences” around the world. he did not predict, however, when the slowdown would start. Guterres noted that economies outside the United States, europe, and asia would face worsening economic conditions. developing countries in africa, south america, and much of asia are seeing rising interest rates, he noted. “interest rates are going up extremely in the global south. countries are close to default. they have no resources because they couldn’t print money like the United States did, like europe did during the covid-19 [pandemic],” the UN chief told Bartiromo. “they have no access to concessional funding because many of them are middle-income countries. look at small island developing states, the caribbean islands.” some of those countries, he added, “lived on tourism” and “tourism has ended for two years, but as they are middle-income countries, they had no debt to live, they had no concessional funding.” Guterres said that the United Nations is proposing a global stimulus plan to address economic woes, and claimed that economies should transition from oil and gas to other energy sources. “we need to do that in a just way,” he said, adding that “this transition needs to be well-managed.” meanwhile, the west and China need to have “serious” negotiations amid the dim global economic outlook, said the UN chief. other warningswhile inflation has eased at the consumer and producer level in the United States in recent months, a number of economists and business leaders say that americans should prepare for a recession starting in 2023. The Federal Reserve has raised interest rates to their highest levels in decades in order to cool high inflation that reached more than 9 percent in june 2022, though it has since dropped to below 7 percent. “some economists argue that the strength of the labor market—as well as household balance sheets—will keep the economy strong enough to avoid a recession,” wrote Lakshman Achuthan and Anirvan Banerji, co-founders of the Economic Cycle Research Institute, for CNN’s website. “we disagree,” they wrote, saying that “it remains our expectation that the U.S. economy will enter a recession this year.” “i’m confident that Microsoft will emerge from this stronger and more competitive,” Microsoft ceo Satya Nadella told employees in a memo on company’s website on wednesday.\n",
      "\n",
      "\n",
      "\n",
      "Footer:  other tech firms, such as Amazon, Meta, Alphabet, Salesforce, and Twitter, have announced similar moves in recent weeks. Microsoft, based in Redmond, Washington, had 221,000 full-time employees as of june 30, 2022, according to government filings.\n"
     ]
    }
   ],
   "source": [
    "header, body, footer = split_into_sections(english_article)\n",
    "print(\"Header: \", header)\n",
    "print(\"\\n\\n\")\n",
    "print(\"Body: \", body)\n",
    "print(\"\\n\\n\")\n",
    "print(\"Footer: \", footer)"
   ]
  },
  {
   "cell_type": "code",
   "execution_count": 34,
   "id": "d363b80c-2aa2-4d0e-9fff-7d56ae4e00b6",
   "metadata": {},
   "outputs": [
    {
     "data": {
      "text/html": [
       "<div>\n",
       "<style scoped>\n",
       "    .dataframe tbody tr th:only-of-type {\n",
       "        vertical-align: middle;\n",
       "    }\n",
       "\n",
       "    .dataframe tbody tr th {\n",
       "        vertical-align: top;\n",
       "    }\n",
       "\n",
       "    .dataframe thead th {\n",
       "        text-align: right;\n",
       "    }\n",
       "</style>\n",
       "<table border=\"1\" class=\"dataframe\">\n",
       "  <thead>\n",
       "    <tr style=\"text-align: right;\">\n",
       "      <th></th>\n",
       "      <th>language</th>\n",
       "      <th>article_id</th>\n",
       "      <th>content</th>\n",
       "      <th>narratives</th>\n",
       "      <th>subnarratives</th>\n",
       "      <th>narratives_encoded</th>\n",
       "      <th>subnarratives_encoded</th>\n",
       "    </tr>\n",
       "  </thead>\n",
       "  <tbody>\n",
       "    <tr>\n",
       "      <th>0</th>\n",
       "      <td>RU</td>\n",
       "      <td>RU-URW-1161.txt</td>\n",
       "      <td>&lt;PARA&gt;в ближайшие два месяца сша будут стремит...</td>\n",
       "      <td>[Blaming the war on others rather than the inv...</td>\n",
       "      <td>[The West are the aggressors, Other, The West ...</td>\n",
       "      <td>[0, 0, 1, 0, 0, 0, 0, 0, 1, 1, 0, 0, 0, 1, 0, ...</td>\n",
       "      <td>[0, 0, 0, 0, 0, 0, 0, 0, 0, 0, 0, 0, 0, 0, 0, ...</td>\n",
       "    </tr>\n",
       "    <tr>\n",
       "      <th>1</th>\n",
       "      <td>RU</td>\n",
       "      <td>RU-URW-1175.txt</td>\n",
       "      <td>&lt;PARA&gt;в ес испугались последствий популярности...</td>\n",
       "      <td>[Discrediting the West, Diplomacy, Discreditin...</td>\n",
       "      <td>[The West is weak, Other, The EU is divided]</td>\n",
       "      <td>[0, 0, 0, 0, 0, 0, 0, 0, 0, 1, 0, 0, 0, 0, 0, ...</td>\n",
       "      <td>[0, 0, 0, 0, 0, 0, 0, 0, 0, 0, 0, 0, 0, 0, 0, ...</td>\n",
       "    </tr>\n",
       "    <tr>\n",
       "      <th>2</th>\n",
       "      <td>RU</td>\n",
       "      <td>RU-URW-1149.txt</td>\n",
       "      <td>&lt;PARA&gt;возможность признания аллы пугачевой ино...</td>\n",
       "      <td>[Distrust towards Media]</td>\n",
       "      <td>[Western media is an instrument of propaganda]</td>\n",
       "      <td>[0, 0, 0, 0, 0, 0, 0, 0, 0, 0, 1, 0, 0, 0, 0, ...</td>\n",
       "      <td>[0, 0, 0, 0, 0, 0, 0, 0, 0, 0, 0, 0, 0, 0, 0, ...</td>\n",
       "    </tr>\n",
       "    <tr>\n",
       "      <th>3</th>\n",
       "      <td>RU</td>\n",
       "      <td>RU-URW-1015.txt</td>\n",
       "      <td>&lt;PARA&gt;азаров рассказал о смене риторики киева ...</td>\n",
       "      <td>[Discrediting Ukraine, Discrediting Ukraine]</td>\n",
       "      <td>[Ukraine is a puppet of the West, Discrediting...</td>\n",
       "      <td>[0, 0, 0, 0, 0, 0, 0, 0, 1, 0, 0, 0, 0, 0, 0, ...</td>\n",
       "      <td>[0, 0, 0, 0, 0, 0, 0, 0, 0, 0, 0, 0, 0, 0, 0, ...</td>\n",
       "    </tr>\n",
       "    <tr>\n",
       "      <th>4</th>\n",
       "      <td>RU</td>\n",
       "      <td>RU-URW-1001.txt</td>\n",
       "      <td>&lt;PARA&gt;в россиянах проснулась массовая любовь к...</td>\n",
       "      <td>[Praise of Russia]</td>\n",
       "      <td>[Russia is a guarantor of peace and prosperity]</td>\n",
       "      <td>[0, 0, 0, 0, 0, 0, 0, 0, 0, 0, 0, 0, 0, 0, 0, ...</td>\n",
       "      <td>[0, 0, 0, 0, 0, 0, 0, 0, 0, 0, 0, 0, 0, 0, 0, ...</td>\n",
       "    </tr>\n",
       "  </tbody>\n",
       "</table>\n",
       "</div>"
      ],
      "text/plain": [
       "  language       article_id  \\\n",
       "0       RU  RU-URW-1161.txt   \n",
       "1       RU  RU-URW-1175.txt   \n",
       "2       RU  RU-URW-1149.txt   \n",
       "3       RU  RU-URW-1015.txt   \n",
       "4       RU  RU-URW-1001.txt   \n",
       "\n",
       "                                             content  \\\n",
       "0  <PARA>в ближайшие два месяца сша будут стремит...   \n",
       "1  <PARA>в ес испугались последствий популярности...   \n",
       "2  <PARA>возможность признания аллы пугачевой ино...   \n",
       "3  <PARA>азаров рассказал о смене риторики киева ...   \n",
       "4  <PARA>в россиянах проснулась массовая любовь к...   \n",
       "\n",
       "                                          narratives  \\\n",
       "0  [Blaming the war on others rather than the inv...   \n",
       "1  [Discrediting the West, Diplomacy, Discreditin...   \n",
       "2                           [Distrust towards Media]   \n",
       "3       [Discrediting Ukraine, Discrediting Ukraine]   \n",
       "4                                 [Praise of Russia]   \n",
       "\n",
       "                                       subnarratives  \\\n",
       "0  [The West are the aggressors, Other, The West ...   \n",
       "1       [The West is weak, Other, The EU is divided]   \n",
       "2     [Western media is an instrument of propaganda]   \n",
       "3  [Ukraine is a puppet of the West, Discrediting...   \n",
       "4    [Russia is a guarantor of peace and prosperity]   \n",
       "\n",
       "                                  narratives_encoded  \\\n",
       "0  [0, 0, 1, 0, 0, 0, 0, 0, 1, 1, 0, 0, 0, 1, 0, ...   \n",
       "1  [0, 0, 0, 0, 0, 0, 0, 0, 0, 1, 0, 0, 0, 0, 0, ...   \n",
       "2  [0, 0, 0, 0, 0, 0, 0, 0, 0, 0, 1, 0, 0, 0, 0, ...   \n",
       "3  [0, 0, 0, 0, 0, 0, 0, 0, 1, 0, 0, 0, 0, 0, 0, ...   \n",
       "4  [0, 0, 0, 0, 0, 0, 0, 0, 0, 0, 0, 0, 0, 0, 0, ...   \n",
       "\n",
       "                               subnarratives_encoded  \n",
       "0  [0, 0, 0, 0, 0, 0, 0, 0, 0, 0, 0, 0, 0, 0, 0, ...  \n",
       "1  [0, 0, 0, 0, 0, 0, 0, 0, 0, 0, 0, 0, 0, 0, 0, ...  \n",
       "2  [0, 0, 0, 0, 0, 0, 0, 0, 0, 0, 0, 0, 0, 0, 0, ...  \n",
       "3  [0, 0, 0, 0, 0, 0, 0, 0, 0, 0, 0, 0, 0, 0, 0, ...  \n",
       "4  [0, 0, 0, 0, 0, 0, 0, 0, 0, 0, 0, 0, 0, 0, 0, ...  "
      ]
     },
     "execution_count": 34,
     "metadata": {},
     "output_type": "execute_result"
    }
   ],
   "source": [
    "dataset.head()"
   ]
  },
  {
   "cell_type": "code",
   "execution_count": 35,
   "id": "6311766a-78fa-4c31-b530-a9610d6d48b2",
   "metadata": {},
   "outputs": [
    {
     "data": {
      "text/plain": [
       "{'Discrediting Ukraine': ['Other',\n",
       "  'Rewriting Ukraine’s history',\n",
       "  'Discrediting Ukrainian military',\n",
       "  'Ukraine is a hub for criminal activities',\n",
       "  'Ukraine is associated with nazism',\n",
       "  'Discrediting Ukrainian nation and society',\n",
       "  'Situation in Ukraine is hopeless',\n",
       "  'Ukraine is a puppet of the West',\n",
       "  'Discrediting Ukrainian government and officials and policies'],\n",
       " 'Discrediting the West, Diplomacy': ['Diplomacy does/will not work',\n",
       "  'Other',\n",
       "  'The EU is divided',\n",
       "  'The West is weak',\n",
       "  'The West does not care about Ukraine, only about its interests',\n",
       "  'The West is overreacting',\n",
       "  'West is tired of Ukraine'],\n",
       " 'Praise of Russia': ['Other',\n",
       "  'Praise of Russian President Vladimir Putin',\n",
       "  'Russia is a guarantor of peace and prosperity',\n",
       "  'Russian invasion has strong national support',\n",
       "  'Russia has international support from a number of countries and people',\n",
       "  'Praise of Russian military might'],\n",
       " 'Russia is the Victim': ['Other',\n",
       "  'The West is russophobic',\n",
       "  'UA is anti-RU extremists',\n",
       "  'Russia actions in Ukraine are only self-defence'],\n",
       " 'Distrust towards Media': ['Other',\n",
       "  'Western media is an instrument of propaganda',\n",
       "  'Ukrainian media cannot be trusted'],\n",
       " 'Amplifying war-related fears': ['Other',\n",
       "  'NATO should/will directly intervene',\n",
       "  'Russia will also attack other countries',\n",
       "  'There is a real possibility that nuclear weapons will be employed',\n",
       "  'By continuing the war we risk WWIII'],\n",
       " 'Overpraising the West': ['Other',\n",
       "  'NATO will destroy Russia',\n",
       "  'The West has the strongest international support',\n",
       "  'The West belongs in the right side of history'],\n",
       " 'Blaming the war on others rather than the invader': ['Ukraine is the aggressor',\n",
       "  'The West are the aggressors',\n",
       "  'Other'],\n",
       " 'Speculating war outcomes': ['Other',\n",
       "  'Ukrainian army is collapsing',\n",
       "  'Russian army will lose all the occupied territories',\n",
       "  'Russian army is collapsing'],\n",
       " 'Hidden plots by secret schemes of powerful groups': ['Other',\n",
       "  'Blaming global elites',\n",
       "  'Climate agenda has hidden motives'],\n",
       " 'Negative Consequences for the West': ['Sanctions imposed by Western countries will backfire',\n",
       "  'Other',\n",
       "  'The conflict will increase the Ukrainian refugee flows to Europe'],\n",
       " 'Amplifying Climate Fears': ['Other',\n",
       "  'Amplifying existing fears of global warming',\n",
       "  'Whatever we do it is already too late',\n",
       "  'Doomsday scenarios for humans',\n",
       "  'Earth will be uninhabitable soon'],\n",
       " 'Other': ['Other'],\n",
       " 'Criticism of institutions and authorities': ['Other',\n",
       "  'Criticism of national governments',\n",
       "  'Criticism of international entities',\n",
       "  'Criticism of the EU',\n",
       "  'Criticism of political organizations and figures'],\n",
       " 'Criticism of climate movement': ['Climate movement is alarmist',\n",
       "  'Other',\n",
       "  'Climate movement is corrupt',\n",
       "  'Ad hominem attacks on key activists'],\n",
       " 'Downplaying climate change': ['Other',\n",
       "  'Sea levels are not rising',\n",
       "  'Weather suggests the trend is global cooling',\n",
       "  'Ice is not melting',\n",
       "  'Climate cycles are natural',\n",
       "  'CO2 concentrations are too small to have an impact',\n",
       "  'Human activities do not impact climate change',\n",
       "  'Humans and nature will adapt to the changes',\n",
       "  'Temperature increase does not have significant impact'],\n",
       " 'Criticism of climate policies': ['Climate policies are only for profit',\n",
       "  'Other',\n",
       "  'Climate policies have negative impact on the economy',\n",
       "  'Climate policies are ineffective'],\n",
       " 'Questioning the measurements and science': ['Methodologies/metrics used are unreliable/faulty',\n",
       "  'Other',\n",
       "  'Scientific community is unreliable',\n",
       "  'Greenhouse effect/carbon dioxide do not drive climate change',\n",
       "  'Data shows no temperature increase'],\n",
       " 'Climate change is beneficial': ['Other',\n",
       "  'CO2 is beneficial',\n",
       "  'Temperature increase is beneficial'],\n",
       " 'Controversy about green technologies': ['Renewable energy is dangerous',\n",
       "  'Other',\n",
       "  'Renewable energy is costly',\n",
       "  'Renewable energy is unreliable'],\n",
       " 'Green policies are geopolitical instruments': ['Green activities are a form of neo-colonialism',\n",
       "  'Other',\n",
       "  'Climate-related international relations are abusive/exploitative']}"
      ]
     },
     "execution_count": 35,
     "metadata": {},
     "output_type": "execute_result"
    }
   ],
   "source": [
    "narrative_to_subnarratives"
   ]
  },
  {
   "cell_type": "code",
   "execution_count": 36,
   "id": "8bf6d179-ce0d-4cfb-a8d6-18424722168a",
   "metadata": {},
   "outputs": [],
   "source": [
    "label_encoder_folder = os.path.join(base_save_folder_dir, 'LabelEncoders')\n",
    "misc_folder = os.path.join(base_save_folder_dir, 'Misc')\n",
    "\n",
    "with open(os.path.join(datasets_folder, 'dataset_cleaned.pkl'), 'wb') as f:\n",
    "    pickle.dump(dataset, f)\n",
    "\n",
    "with open(os.path.join(label_encoder_folder, 'mlb_narratives.pkl'), 'wb') as f:\n",
    "    pickle.dump(mlb_narratives, f)\n",
    "\n",
    "with open(os.path.join(label_encoder_folder, 'mlb_subnarratives.pkl'), 'wb') as f:\n",
    "    pickle.dump(mlb_subnarratives, f)\n",
    "\n",
    "with open(os.path.join(misc_folder, 'narrative_to_subnarratives.pkl'), 'wb') as f:\n",
    "    pickle.dump(narrative_to_subnarratives, f)"
   ]
  }
 ],
 "metadata": {
  "kernelspec": {
   "display_name": "Python 3 (ipykernel)",
   "language": "python",
   "name": "python3"
  },
  "language_info": {
   "codemirror_mode": {
    "name": "ipython",
    "version": 3
   },
   "file_extension": ".py",
   "mimetype": "text/x-python",
   "name": "python",
   "nbconvert_exporter": "python",
   "pygments_lexer": "ipython3",
   "version": "3.12.4"
  }
 },
 "nbformat": 4,
 "nbformat_minor": 5
}
