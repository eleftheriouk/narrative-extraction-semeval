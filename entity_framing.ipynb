{
 "cells": [
  {
   "cell_type": "markdown",
   "metadata": {
    "id": "Hg_ttoaozxo9"
   },
   "source": [
    "# Semeval 2025 Task 10\n",
    "### Subtask 1: Entity Framing\n",
    "\n",
    "Given a news article and a list of mentions of named entities (NEs) in the article, assign for each such mention one or more roles using a predefined taxonomy of fine-grained roles covering three main type of roles: protagonists, antagonists, and innocent. This is a multi-label multi-class text-span classification task."
   ]
  },
  {
   "cell_type": "markdown",
   "metadata": {
    "id": "Vle11Vym5CIE"
   },
   "source": [
    "## 1. Importing libraries"
   ]
  },
  {
   "cell_type": "code",
   "execution_count": 1,
   "metadata": {
    "colab": {
     "base_uri": "https://localhost:8080/"
    },
    "id": "xB06IHZ-9EqN",
    "outputId": "a2e6e8da-8107-4c96-f9d1-c77cb678d4e2"
   },
   "outputs": [],
   "source": [
    "# Instructor compatible with these versions only\n",
    "!pip install -q huggingface_hub==0.23.5\n",
    "!pip install -q langchain==0.1.2 sentence_transformers==2.2.2"
   ]
  },
  {
   "cell_type": "code",
   "execution_count": 2,
   "metadata": {
    "id": "lQwatJcI0t2M"
   },
   "outputs": [],
   "source": [
    "import pandas as pd\n",
    "import numpy as np\n",
    "\n",
    "import tensorflow as tf\n",
    "from tensorflow import keras\n",
    "from tensorflow.keras import layers\n",
    "from tensorflow.keras import optimizers\n",
    "from tensorflow.keras.callbacks import ModelCheckpoint\n",
    "\n",
    "from matplotlib import pyplot as plt\n",
    "import seaborn as sns\n",
    "import os\n"
   ]
  },
  {
   "cell_type": "code",
   "execution_count": 3,
   "metadata": {
    "colab": {
     "base_uri": "https://localhost:8080/"
    },
    "id": "uoqLFmWhy6At",
    "outputId": "a3e9b538-6a7a-4105-e3b0-cb64317b479b"
   },
   "outputs": [
    {
     "name": "stdout",
     "output_type": "stream",
     "text": [
      "Requirement already satisfied: InstructorEmbedding in /Library/Frameworks/Python.framework/Versions/3.12/lib/python3.12/site-packages (1.0.1)\n"
     ]
    }
   ],
   "source": [
    "!pip install InstructorEmbedding"
   ]
  },
  {
   "cell_type": "markdown",
   "metadata": {
    "id": "kBUV4JHO43ta"
   },
   "source": [
    "## 2. Reading our data\n"
   ]
  },
  {
   "cell_type": "markdown",
   "metadata": {
    "id": "ukxbwFlb1JnC"
   },
   "source": [
    "We will go ahead and start by reading the annotations from the subtask-1.\n",
    "\n",
    "* The annotations are our ground-truths.\n",
    "For each article we read it's id, it's entity which is by-default given to us, and the class/sub-class where it belongs to."
   ]
  },
  {
   "cell_type": "code",
   "execution_count": 4,
   "metadata": {
    "id": "_PnyYYnTxMu8"
   },
   "outputs": [],
   "source": [
    "raw_annotation_data = []\n",
    "\n",
    "with open(\"data/semeval_data/subtask-1-annotations.txt\", 'r') as file:\n",
    "    for line in file:\n",
    "        parts = line.strip().split('\\t')\n",
    "        raw_annotation_data.append(parts)\n",
    "\n",
    "annotations_df = pd.DataFrame(raw_annotation_data)"
   ]
  },
  {
   "cell_type": "code",
   "execution_count": 5,
   "metadata": {
    "colab": {
     "base_uri": "https://localhost:8080/",
     "height": 201
    },
    "id": "Z-zoHL_6QgHO",
    "outputId": "9d477888-1ede-453d-9cb3-cd02c1450214"
   },
   "outputs": [
    {
     "data": {
      "text/html": [
       "<div>\n",
       "<style scoped>\n",
       "    .dataframe tbody tr th:only-of-type {\n",
       "        vertical-align: middle;\n",
       "    }\n",
       "\n",
       "    .dataframe tbody tr th {\n",
       "        vertical-align: top;\n",
       "    }\n",
       "\n",
       "    .dataframe thead th {\n",
       "        text-align: right;\n",
       "    }\n",
       "</style>\n",
       "<table border=\"1\" class=\"dataframe\">\n",
       "  <thead>\n",
       "    <tr style=\"text-align: right;\">\n",
       "      <th></th>\n",
       "      <th>0</th>\n",
       "      <th>1</th>\n",
       "      <th>2</th>\n",
       "      <th>3</th>\n",
       "      <th>4</th>\n",
       "      <th>5</th>\n",
       "      <th>6</th>\n",
       "    </tr>\n",
       "  </thead>\n",
       "  <tbody>\n",
       "    <tr>\n",
       "      <th>0</th>\n",
       "      <td>EN_UA_103861.txt</td>\n",
       "      <td>Chinese</td>\n",
       "      <td>791</td>\n",
       "      <td>797</td>\n",
       "      <td>Antagonist</td>\n",
       "      <td>Spy</td>\n",
       "      <td>None</td>\n",
       "    </tr>\n",
       "    <tr>\n",
       "      <th>1</th>\n",
       "      <td>EN_UA_103861.txt</td>\n",
       "      <td>China</td>\n",
       "      <td>1516</td>\n",
       "      <td>1520</td>\n",
       "      <td>Antagonist</td>\n",
       "      <td>Instigator</td>\n",
       "      <td>None</td>\n",
       "    </tr>\n",
       "    <tr>\n",
       "      <th>2</th>\n",
       "      <td>EN_UA_103861.txt</td>\n",
       "      <td>Hamas</td>\n",
       "      <td>2121</td>\n",
       "      <td>2125</td>\n",
       "      <td>Antagonist</td>\n",
       "      <td>Terrorist</td>\n",
       "      <td>None</td>\n",
       "    </tr>\n",
       "    <tr>\n",
       "      <th>3</th>\n",
       "      <td>EN_UA_103861.txt</td>\n",
       "      <td>Donald Trump</td>\n",
       "      <td>4909</td>\n",
       "      <td>4920</td>\n",
       "      <td>Protagonist</td>\n",
       "      <td>Peacemaker</td>\n",
       "      <td>Guardian</td>\n",
       "    </tr>\n",
       "    <tr>\n",
       "      <th>4</th>\n",
       "      <td>EN_UA_021270.txt</td>\n",
       "      <td>Yermak</td>\n",
       "      <td>667</td>\n",
       "      <td>672</td>\n",
       "      <td>Antagonist</td>\n",
       "      <td>Incompetent</td>\n",
       "      <td>None</td>\n",
       "    </tr>\n",
       "  </tbody>\n",
       "</table>\n",
       "</div>"
      ],
      "text/plain": [
       "                  0             1     2     3            4            5  \\\n",
       "0  EN_UA_103861.txt       Chinese   791   797   Antagonist          Spy   \n",
       "1  EN_UA_103861.txt         China  1516  1520   Antagonist   Instigator   \n",
       "2  EN_UA_103861.txt         Hamas  2121  2125   Antagonist    Terrorist   \n",
       "3  EN_UA_103861.txt  Donald Trump  4909  4920  Protagonist   Peacemaker   \n",
       "4  EN_UA_021270.txt        Yermak   667   672   Antagonist  Incompetent   \n",
       "\n",
       "          6  \n",
       "0      None  \n",
       "1      None  \n",
       "2      None  \n",
       "3  Guardian  \n",
       "4      None  "
      ]
     },
     "execution_count": 5,
     "metadata": {},
     "output_type": "execute_result"
    }
   ],
   "source": [
    "annotations_df.head()"
   ]
  },
  {
   "cell_type": "code",
   "execution_count": 6,
   "metadata": {
    "colab": {
     "base_uri": "https://localhost:8080/"
    },
    "id": "kb7JO0VbJgZ1",
    "outputId": "1e21d408-cd85-4505-c9e3-74c46764b8be"
   },
   "outputs": [
    {
     "data": {
      "text/plain": [
       "(414, 7)"
      ]
     },
     "execution_count": 6,
     "metadata": {},
     "output_type": "execute_result"
    }
   ],
   "source": [
    "annotations_df.shape"
   ]
  },
  {
   "cell_type": "markdown",
   "metadata": {
    "id": "n3Z3YjKu1_nS"
   },
   "source": [
    "For simplicity, we will ignore the `fine-grained_roles` attribute for, as it requires further thinking on how to handle a specific article on having multiple roles.\n",
    "\n",
    "For now, we will focus on trying to classify each entity on it's `main_role` and then move from there."
   ]
  },
  {
   "cell_type": "markdown",
   "metadata": {
    "id": "pA4lm-q22MQZ"
   },
   "source": [
    "We will also rename our labels to represent the actual ones:"
   ]
  },
  {
   "cell_type": "code",
   "execution_count": 7,
   "metadata": {
    "colab": {
     "base_uri": "https://localhost:8080/",
     "height": 201
    },
    "id": "eZXODZDf2fwn",
    "outputId": "a0dc793b-1c8c-42bc-d948-9c482b26c5cc"
   },
   "outputs": [
    {
     "data": {
      "text/html": [
       "<div>\n",
       "<style scoped>\n",
       "    .dataframe tbody tr th:only-of-type {\n",
       "        vertical-align: middle;\n",
       "    }\n",
       "\n",
       "    .dataframe tbody tr th {\n",
       "        vertical-align: top;\n",
       "    }\n",
       "\n",
       "    .dataframe thead th {\n",
       "        text-align: right;\n",
       "    }\n",
       "</style>\n",
       "<table border=\"1\" class=\"dataframe\">\n",
       "  <thead>\n",
       "    <tr style=\"text-align: right;\">\n",
       "      <th></th>\n",
       "      <th>article_id</th>\n",
       "      <th>entity_mention</th>\n",
       "      <th>start_offset</th>\n",
       "      <th>end_offset</th>\n",
       "      <th>main_role</th>\n",
       "      <th>fine_grained_roles</th>\n",
       "      <th>additional_info</th>\n",
       "    </tr>\n",
       "  </thead>\n",
       "  <tbody>\n",
       "    <tr>\n",
       "      <th>0</th>\n",
       "      <td>EN_UA_103861.txt</td>\n",
       "      <td>Chinese</td>\n",
       "      <td>791</td>\n",
       "      <td>797</td>\n",
       "      <td>Antagonist</td>\n",
       "      <td>Spy</td>\n",
       "      <td>None</td>\n",
       "    </tr>\n",
       "    <tr>\n",
       "      <th>1</th>\n",
       "      <td>EN_UA_103861.txt</td>\n",
       "      <td>China</td>\n",
       "      <td>1516</td>\n",
       "      <td>1520</td>\n",
       "      <td>Antagonist</td>\n",
       "      <td>Instigator</td>\n",
       "      <td>None</td>\n",
       "    </tr>\n",
       "    <tr>\n",
       "      <th>2</th>\n",
       "      <td>EN_UA_103861.txt</td>\n",
       "      <td>Hamas</td>\n",
       "      <td>2121</td>\n",
       "      <td>2125</td>\n",
       "      <td>Antagonist</td>\n",
       "      <td>Terrorist</td>\n",
       "      <td>None</td>\n",
       "    </tr>\n",
       "    <tr>\n",
       "      <th>3</th>\n",
       "      <td>EN_UA_103861.txt</td>\n",
       "      <td>Donald Trump</td>\n",
       "      <td>4909</td>\n",
       "      <td>4920</td>\n",
       "      <td>Protagonist</td>\n",
       "      <td>Peacemaker</td>\n",
       "      <td>Guardian</td>\n",
       "    </tr>\n",
       "    <tr>\n",
       "      <th>4</th>\n",
       "      <td>EN_UA_021270.txt</td>\n",
       "      <td>Yermak</td>\n",
       "      <td>667</td>\n",
       "      <td>672</td>\n",
       "      <td>Antagonist</td>\n",
       "      <td>Incompetent</td>\n",
       "      <td>None</td>\n",
       "    </tr>\n",
       "  </tbody>\n",
       "</table>\n",
       "</div>"
      ],
      "text/plain": [
       "         article_id entity_mention start_offset end_offset    main_role  \\\n",
       "0  EN_UA_103861.txt        Chinese          791        797   Antagonist   \n",
       "1  EN_UA_103861.txt          China         1516       1520   Antagonist   \n",
       "2  EN_UA_103861.txt          Hamas         2121       2125   Antagonist   \n",
       "3  EN_UA_103861.txt   Donald Trump         4909       4920  Protagonist   \n",
       "4  EN_UA_021270.txt         Yermak          667        672   Antagonist   \n",
       "\n",
       "  fine_grained_roles additional_info  \n",
       "0                Spy            None  \n",
       "1         Instigator            None  \n",
       "2          Terrorist            None  \n",
       "3         Peacemaker        Guardian  \n",
       "4        Incompetent            None  "
      ]
     },
     "execution_count": 7,
     "metadata": {},
     "output_type": "execute_result"
    }
   ],
   "source": [
    "annotations_df.rename(columns={0: 'article_id', 1: 'entity_mention', 2: 'start_offset',\n",
    "                   3: 'end_offset', 4: 'main_role', 5: 'fine_grained_roles',\n",
    "                   6: 'additional_info'}, inplace=True)\n",
    "\n",
    "annotations_df.head()"
   ]
  },
  {
   "cell_type": "markdown",
   "metadata": {
    "id": "ySjFcpqDcdTT"
   },
   "source": [
    "Notice that in a single article, we can have the same entity mentioned playing different roles:"
   ]
  },
  {
   "cell_type": "code",
   "execution_count": 8,
   "metadata": {
    "colab": {
     "base_uri": "https://localhost:8080/",
     "height": 201
    },
    "id": "78bbvr2ArNRx",
    "outputId": "75e951bb-4379-4371-e062-698f8291d559"
   },
   "outputs": [
    {
     "data": {
      "text/html": [
       "<div>\n",
       "<style scoped>\n",
       "    .dataframe tbody tr th:only-of-type {\n",
       "        vertical-align: middle;\n",
       "    }\n",
       "\n",
       "    .dataframe tbody tr th {\n",
       "        vertical-align: top;\n",
       "    }\n",
       "\n",
       "    .dataframe thead th {\n",
       "        text-align: right;\n",
       "    }\n",
       "</style>\n",
       "<table border=\"1\" class=\"dataframe\">\n",
       "  <thead>\n",
       "    <tr style=\"text-align: right;\">\n",
       "      <th></th>\n",
       "      <th>article_id</th>\n",
       "      <th>entity_mention</th>\n",
       "      <th>start_offset</th>\n",
       "      <th>end_offset</th>\n",
       "      <th>main_role</th>\n",
       "      <th>fine_grained_roles</th>\n",
       "      <th>additional_info</th>\n",
       "    </tr>\n",
       "  </thead>\n",
       "  <tbody>\n",
       "    <tr>\n",
       "      <th>398</th>\n",
       "      <td>EN_UA_013257.txt</td>\n",
       "      <td>Russia</td>\n",
       "      <td>375</td>\n",
       "      <td>380</td>\n",
       "      <td>Protagonist</td>\n",
       "      <td>Underdog</td>\n",
       "      <td>None</td>\n",
       "    </tr>\n",
       "    <tr>\n",
       "      <th>399</th>\n",
       "      <td>EN_UA_013257.txt</td>\n",
       "      <td>Russia</td>\n",
       "      <td>944</td>\n",
       "      <td>949</td>\n",
       "      <td>Innocent</td>\n",
       "      <td>Victim</td>\n",
       "      <td>None</td>\n",
       "    </tr>\n",
       "    <tr>\n",
       "      <th>400</th>\n",
       "      <td>EN_UA_013257.txt</td>\n",
       "      <td>Russia</td>\n",
       "      <td>1590</td>\n",
       "      <td>1595</td>\n",
       "      <td>Protagonist</td>\n",
       "      <td>Guardian</td>\n",
       "      <td>None</td>\n",
       "    </tr>\n",
       "    <tr>\n",
       "      <th>401</th>\n",
       "      <td>EN_UA_013257.txt</td>\n",
       "      <td>Western countries</td>\n",
       "      <td>1667</td>\n",
       "      <td>1683</td>\n",
       "      <td>Antagonist</td>\n",
       "      <td>Saboteur</td>\n",
       "      <td>None</td>\n",
       "    </tr>\n",
       "    <tr>\n",
       "      <th>402</th>\n",
       "      <td>EN_UA_013257.txt</td>\n",
       "      <td>Russia</td>\n",
       "      <td>1763</td>\n",
       "      <td>1768</td>\n",
       "      <td>Protagonist</td>\n",
       "      <td>Virtuous</td>\n",
       "      <td>None</td>\n",
       "    </tr>\n",
       "  </tbody>\n",
       "</table>\n",
       "</div>"
      ],
      "text/plain": [
       "           article_id     entity_mention start_offset end_offset    main_role  \\\n",
       "398  EN_UA_013257.txt             Russia          375        380  Protagonist   \n",
       "399  EN_UA_013257.txt             Russia          944        949     Innocent   \n",
       "400  EN_UA_013257.txt             Russia         1590       1595  Protagonist   \n",
       "401  EN_UA_013257.txt  Western countries         1667       1683   Antagonist   \n",
       "402  EN_UA_013257.txt             Russia         1763       1768  Protagonist   \n",
       "\n",
       "    fine_grained_roles additional_info  \n",
       "398           Underdog            None  \n",
       "399             Victim            None  \n",
       "400           Guardian            None  \n",
       "401           Saboteur            None  \n",
       "402           Virtuous            None  "
      ]
     },
     "execution_count": 8,
     "metadata": {},
     "output_type": "execute_result"
    }
   ],
   "source": [
    "annotations_df[annotations_df['article_id'] == 'EN_UA_013257.txt']"
   ]
  },
  {
   "cell_type": "code",
   "execution_count": 9,
   "metadata": {
    "colab": {
     "base_uri": "https://localhost:8080/",
     "height": 201
    },
    "id": "T8glS4puEit6",
    "outputId": "63dc0a00-6575-4d27-99b0-33324ea417eb"
   },
   "outputs": [
    {
     "data": {
      "text/html": [
       "<div>\n",
       "<style scoped>\n",
       "    .dataframe tbody tr th:only-of-type {\n",
       "        vertical-align: middle;\n",
       "    }\n",
       "\n",
       "    .dataframe tbody tr th {\n",
       "        vertical-align: top;\n",
       "    }\n",
       "\n",
       "    .dataframe thead th {\n",
       "        text-align: right;\n",
       "    }\n",
       "</style>\n",
       "<table border=\"1\" class=\"dataframe\">\n",
       "  <thead>\n",
       "    <tr style=\"text-align: right;\">\n",
       "      <th></th>\n",
       "      <th>article_id</th>\n",
       "      <th>entity_mention</th>\n",
       "      <th>start_offset</th>\n",
       "      <th>end_offset</th>\n",
       "      <th>main_role</th>\n",
       "    </tr>\n",
       "  </thead>\n",
       "  <tbody>\n",
       "    <tr>\n",
       "      <th>0</th>\n",
       "      <td>EN_UA_103861.txt</td>\n",
       "      <td>Chinese</td>\n",
       "      <td>791</td>\n",
       "      <td>797</td>\n",
       "      <td>Antagonist</td>\n",
       "    </tr>\n",
       "    <tr>\n",
       "      <th>1</th>\n",
       "      <td>EN_UA_103861.txt</td>\n",
       "      <td>China</td>\n",
       "      <td>1516</td>\n",
       "      <td>1520</td>\n",
       "      <td>Antagonist</td>\n",
       "    </tr>\n",
       "    <tr>\n",
       "      <th>2</th>\n",
       "      <td>EN_UA_103861.txt</td>\n",
       "      <td>Hamas</td>\n",
       "      <td>2121</td>\n",
       "      <td>2125</td>\n",
       "      <td>Antagonist</td>\n",
       "    </tr>\n",
       "    <tr>\n",
       "      <th>3</th>\n",
       "      <td>EN_UA_103861.txt</td>\n",
       "      <td>Donald Trump</td>\n",
       "      <td>4909</td>\n",
       "      <td>4920</td>\n",
       "      <td>Protagonist</td>\n",
       "    </tr>\n",
       "    <tr>\n",
       "      <th>4</th>\n",
       "      <td>EN_UA_021270.txt</td>\n",
       "      <td>Yermak</td>\n",
       "      <td>667</td>\n",
       "      <td>672</td>\n",
       "      <td>Antagonist</td>\n",
       "    </tr>\n",
       "  </tbody>\n",
       "</table>\n",
       "</div>"
      ],
      "text/plain": [
       "         article_id entity_mention start_offset end_offset    main_role\n",
       "0  EN_UA_103861.txt        Chinese          791        797   Antagonist\n",
       "1  EN_UA_103861.txt          China         1516       1520   Antagonist\n",
       "2  EN_UA_103861.txt          Hamas         2121       2125   Antagonist\n",
       "3  EN_UA_103861.txt   Donald Trump         4909       4920  Protagonist\n",
       "4  EN_UA_021270.txt         Yermak          667        672   Antagonist"
      ]
     },
     "execution_count": 9,
     "metadata": {},
     "output_type": "execute_result"
    }
   ],
   "source": [
    "# To be changed, for simplity now\n",
    "annotations_df.drop(columns=['fine_grained_roles', 'additional_info'], inplace=True)\n",
    "annotations_df.head()"
   ]
  },
  {
   "cell_type": "markdown",
   "metadata": {
    "id": "DYdJZkwGJ15r"
   },
   "source": [
    "Also, notice that in the `article_id` the beginning of it, the `EN_*` part, is irrelevant to us.\n",
    "\n",
    "We will go ahead and remove it and only keep the id of the article which is the part we actually want."
   ]
  },
  {
   "cell_type": "code",
   "execution_count": 10,
   "metadata": {
    "colab": {
     "base_uri": "https://localhost:8080/"
    },
    "id": "wxgxiKfV3c7z",
    "outputId": "db085d3f-f106-40c5-ff69-a23fda3aa224"
   },
   "outputs": [
    {
     "name": "stdout",
     "output_type": "stream",
     "text": [
      "103861\n"
     ]
    }
   ],
   "source": [
    "def extract_article_id(filename):\n",
    "    number_part = filename.split('_')[-1].split('.')[0]\n",
    "    return number_part\n",
    "\n",
    "print(extract_article_id('EN_UA_103861.txt'))"
   ]
  },
  {
   "cell_type": "code",
   "execution_count": 11,
   "metadata": {
    "colab": {
     "base_uri": "https://localhost:8080/",
     "height": 201
    },
    "id": "gdaq1njk4ZXZ",
    "outputId": "8fafeac7-9113-4ccf-f0cc-0c9cd0586ef2"
   },
   "outputs": [
    {
     "data": {
      "text/html": [
       "<div>\n",
       "<style scoped>\n",
       "    .dataframe tbody tr th:only-of-type {\n",
       "        vertical-align: middle;\n",
       "    }\n",
       "\n",
       "    .dataframe tbody tr th {\n",
       "        vertical-align: top;\n",
       "    }\n",
       "\n",
       "    .dataframe thead th {\n",
       "        text-align: right;\n",
       "    }\n",
       "</style>\n",
       "<table border=\"1\" class=\"dataframe\">\n",
       "  <thead>\n",
       "    <tr style=\"text-align: right;\">\n",
       "      <th></th>\n",
       "      <th>article_id</th>\n",
       "      <th>entity_mention</th>\n",
       "      <th>start_offset</th>\n",
       "      <th>end_offset</th>\n",
       "      <th>main_role</th>\n",
       "    </tr>\n",
       "  </thead>\n",
       "  <tbody>\n",
       "    <tr>\n",
       "      <th>0</th>\n",
       "      <td>103861</td>\n",
       "      <td>Chinese</td>\n",
       "      <td>791</td>\n",
       "      <td>797</td>\n",
       "      <td>Antagonist</td>\n",
       "    </tr>\n",
       "    <tr>\n",
       "      <th>1</th>\n",
       "      <td>103861</td>\n",
       "      <td>China</td>\n",
       "      <td>1516</td>\n",
       "      <td>1520</td>\n",
       "      <td>Antagonist</td>\n",
       "    </tr>\n",
       "    <tr>\n",
       "      <th>2</th>\n",
       "      <td>103861</td>\n",
       "      <td>Hamas</td>\n",
       "      <td>2121</td>\n",
       "      <td>2125</td>\n",
       "      <td>Antagonist</td>\n",
       "    </tr>\n",
       "    <tr>\n",
       "      <th>3</th>\n",
       "      <td>103861</td>\n",
       "      <td>Donald Trump</td>\n",
       "      <td>4909</td>\n",
       "      <td>4920</td>\n",
       "      <td>Protagonist</td>\n",
       "    </tr>\n",
       "    <tr>\n",
       "      <th>4</th>\n",
       "      <td>021270</td>\n",
       "      <td>Yermak</td>\n",
       "      <td>667</td>\n",
       "      <td>672</td>\n",
       "      <td>Antagonist</td>\n",
       "    </tr>\n",
       "  </tbody>\n",
       "</table>\n",
       "</div>"
      ],
      "text/plain": [
       "  article_id entity_mention start_offset end_offset    main_role\n",
       "0     103861        Chinese          791        797   Antagonist\n",
       "1     103861          China         1516       1520   Antagonist\n",
       "2     103861          Hamas         2121       2125   Antagonist\n",
       "3     103861   Donald Trump         4909       4920  Protagonist\n",
       "4     021270         Yermak          667        672   Antagonist"
      ]
     },
     "execution_count": 11,
     "metadata": {},
     "output_type": "execute_result"
    }
   ],
   "source": [
    "annotations_df['article_id'] = annotations_df['article_id'].apply(extract_article_id)\n",
    "annotations_df.head()"
   ]
  },
  {
   "cell_type": "markdown",
   "metadata": {
    "id": "fupWoVGcAzcY"
   },
   "source": [
    "We will know read our actual articles."
   ]
  },
  {
   "cell_type": "code",
   "execution_count": 12,
   "metadata": {
    "id": "NCZ4KLAT5lf7"
   },
   "outputs": [],
   "source": [
    "def read_file_content(file_path):\n",
    "    with open(file_path, 'r', encoding='utf-8') as file:\n",
    "        return file.read()\n"
   ]
  },
  {
   "cell_type": "markdown",
   "metadata": {
    "id": "Z2OX3oalKpmD"
   },
   "source": [
    "We create a placeholder dataframe, that is going to be filled up.\n",
    "\n",
    "There are 2 columns that we are seeking, the `article_id` and the actual `content` of that."
   ]
  },
  {
   "cell_type": "code",
   "execution_count": 13,
   "metadata": {
    "id": "8LzJGzZn4oGF"
   },
   "outputs": [],
   "source": [
    "documents_df = pd.DataFrame(columns=['article_id', 'content'])"
   ]
  },
  {
   "cell_type": "code",
   "execution_count": 14,
   "metadata": {
    "colab": {
     "base_uri": "https://localhost:8080/",
     "height": 201
    },
    "id": "CTPMiwyV5p5j",
    "outputId": "d6d18a65-e567-4bdd-9568-11e3e0892b79"
   },
   "outputs": [
    {
     "data": {
      "text/html": [
       "<div>\n",
       "<style scoped>\n",
       "    .dataframe tbody tr th:only-of-type {\n",
       "        vertical-align: middle;\n",
       "    }\n",
       "\n",
       "    .dataframe tbody tr th {\n",
       "        vertical-align: top;\n",
       "    }\n",
       "\n",
       "    .dataframe thead th {\n",
       "        text-align: right;\n",
       "    }\n",
       "</style>\n",
       "<table border=\"1\" class=\"dataframe\">\n",
       "  <thead>\n",
       "    <tr style=\"text-align: right;\">\n",
       "      <th></th>\n",
       "      <th>article_id</th>\n",
       "      <th>content</th>\n",
       "    </tr>\n",
       "  </thead>\n",
       "  <tbody>\n",
       "    <tr>\n",
       "      <th>0</th>\n",
       "      <td>104876</td>\n",
       "      <td>Putin honours army unit blamed for Bucha massa...</td>\n",
       "    </tr>\n",
       "    <tr>\n",
       "      <th>1</th>\n",
       "      <td>023211</td>\n",
       "      <td>Europe Putin thanks US journalist Tucker Carls...</td>\n",
       "    </tr>\n",
       "    <tr>\n",
       "      <th>2</th>\n",
       "      <td>011260</td>\n",
       "      <td>Russia has a clear plan to resolve the conflic...</td>\n",
       "    </tr>\n",
       "    <tr>\n",
       "      <th>3</th>\n",
       "      <td>101067</td>\n",
       "      <td>First war of TikTok era sees tragedy, humor an...</td>\n",
       "    </tr>\n",
       "    <tr>\n",
       "      <th>4</th>\n",
       "      <td>102963</td>\n",
       "      <td>Ukraine's President Zelenskyy to address Mexic...</td>\n",
       "    </tr>\n",
       "  </tbody>\n",
       "</table>\n",
       "</div>"
      ],
      "text/plain": [
       "  article_id                                            content\n",
       "0     104876  Putin honours army unit blamed for Bucha massa...\n",
       "1     023211  Europe Putin thanks US journalist Tucker Carls...\n",
       "2     011260  Russia has a clear plan to resolve the conflic...\n",
       "3     101067  First war of TikTok era sees tragedy, humor an...\n",
       "4     102963  Ukraine's President Zelenskyy to address Mexic..."
      ]
     },
     "execution_count": 14,
     "metadata": {},
     "output_type": "execute_result"
    }
   ],
   "source": [
    "folder_path = \"data/semeval_data/raw-documents\"\n",
    "\n",
    "for filename in os.listdir(folder_path):\n",
    "    if filename.endswith('.txt') and filename.startswith('EN'):\n",
    "        article_id = extract_article_id(filename)\n",
    "        file_path = os.path.join(folder_path, filename)\n",
    "        content = read_file_content(file_path)\n",
    "\n",
    "        new_row = pd.DataFrame({'article_id': [article_id], 'content': [content]})\n",
    "\n",
    "        documents_df = pd.concat([documents_df, new_row], ignore_index=True)\n",
    "\n",
    "documents_df.head()"
   ]
  },
  {
   "cell_type": "markdown",
   "metadata": {
    "id": "T33Wfuz7KyVs"
   },
   "source": [
    "There are 200 articles that are given to us for this task:"
   ]
  },
  {
   "cell_type": "code",
   "execution_count": 15,
   "metadata": {
    "colab": {
     "base_uri": "https://localhost:8080/"
    },
    "id": "ycMGFJdDKP3r",
    "outputId": "80655796-3e85-4292-ebfb-a15c066b657e"
   },
   "outputs": [
    {
     "data": {
      "text/plain": [
       "(200, 2)"
      ]
     },
     "execution_count": 15,
     "metadata": {},
     "output_type": "execute_result"
    }
   ],
   "source": [
    "documents_df.shape"
   ]
  },
  {
   "cell_type": "markdown",
   "metadata": {
    "id": "xAV65wT3K3-3"
   },
   "source": [
    "We then merge our dataframes into a single dataframe constisting.\n",
    "\n",
    "The derived dataframe has the following columns:\n",
    "\n",
    "* `article_id`\n",
    "* `content`\n",
    "* `entity_mention`\n",
    "* The entity's starting and ending position in the article\n",
    "* The ground truth of the entity."
   ]
  },
  {
   "cell_type": "code",
   "execution_count": 16,
   "metadata": {
    "colab": {
     "base_uri": "https://localhost:8080/",
     "height": 201
    },
    "id": "BwLfmk3G5rW7",
    "outputId": "245197b9-d341-4c23-b02f-065851af32f4"
   },
   "outputs": [
    {
     "data": {
      "text/html": [
       "<div>\n",
       "<style scoped>\n",
       "    .dataframe tbody tr th:only-of-type {\n",
       "        vertical-align: middle;\n",
       "    }\n",
       "\n",
       "    .dataframe tbody tr th {\n",
       "        vertical-align: top;\n",
       "    }\n",
       "\n",
       "    .dataframe thead th {\n",
       "        text-align: right;\n",
       "    }\n",
       "</style>\n",
       "<table border=\"1\" class=\"dataframe\">\n",
       "  <thead>\n",
       "    <tr style=\"text-align: right;\">\n",
       "      <th></th>\n",
       "      <th>article_id</th>\n",
       "      <th>content</th>\n",
       "      <th>entity_mention</th>\n",
       "      <th>start_offset</th>\n",
       "      <th>end_offset</th>\n",
       "      <th>main_role</th>\n",
       "    </tr>\n",
       "  </thead>\n",
       "  <tbody>\n",
       "    <tr>\n",
       "      <th>0</th>\n",
       "      <td>104876</td>\n",
       "      <td>Putin honours army unit blamed for Bucha massa...</td>\n",
       "      <td>VLADIMIR Putin</td>\n",
       "      <td>90</td>\n",
       "      <td>103</td>\n",
       "      <td>Antagonist</td>\n",
       "    </tr>\n",
       "    <tr>\n",
       "      <th>1</th>\n",
       "      <td>104876</td>\n",
       "      <td>Putin honours army unit blamed for Bucha massa...</td>\n",
       "      <td>President Volodymyr Zelensky</td>\n",
       "      <td>2305</td>\n",
       "      <td>2332</td>\n",
       "      <td>Protagonist</td>\n",
       "    </tr>\n",
       "    <tr>\n",
       "      <th>2</th>\n",
       "      <td>011260</td>\n",
       "      <td>Russia has a clear plan to resolve the conflic...</td>\n",
       "      <td>Ukraine</td>\n",
       "      <td>263</td>\n",
       "      <td>269</td>\n",
       "      <td>Antagonist</td>\n",
       "    </tr>\n",
       "    <tr>\n",
       "      <th>3</th>\n",
       "      <td>011260</td>\n",
       "      <td>Russia has a clear plan to resolve the conflic...</td>\n",
       "      <td>Russia</td>\n",
       "      <td>637</td>\n",
       "      <td>642</td>\n",
       "      <td>Protagonist</td>\n",
       "    </tr>\n",
       "    <tr>\n",
       "      <th>4</th>\n",
       "      <td>011260</td>\n",
       "      <td>Russia has a clear plan to resolve the conflic...</td>\n",
       "      <td>Ukrainian leadership</td>\n",
       "      <td>830</td>\n",
       "      <td>849</td>\n",
       "      <td>Antagonist</td>\n",
       "    </tr>\n",
       "  </tbody>\n",
       "</table>\n",
       "</div>"
      ],
      "text/plain": [
       "  article_id                                            content  \\\n",
       "0     104876  Putin honours army unit blamed for Bucha massa...   \n",
       "1     104876  Putin honours army unit blamed for Bucha massa...   \n",
       "2     011260  Russia has a clear plan to resolve the conflic...   \n",
       "3     011260  Russia has a clear plan to resolve the conflic...   \n",
       "4     011260  Russia has a clear plan to resolve the conflic...   \n",
       "\n",
       "                 entity_mention start_offset end_offset    main_role  \n",
       "0                VLADIMIR Putin           90        103   Antagonist  \n",
       "1  President Volodymyr Zelensky         2305       2332  Protagonist  \n",
       "2                       Ukraine          263        269   Antagonist  \n",
       "3                        Russia          637        642  Protagonist  \n",
       "4          Ukrainian leadership          830        849   Antagonist  "
      ]
     },
     "execution_count": 16,
     "metadata": {},
     "output_type": "execute_result"
    }
   ],
   "source": [
    "dataset = pd.merge(documents_df, annotations_df, on='article_id')\n",
    "dataset.head()"
   ]
  },
  {
   "cell_type": "code",
   "execution_count": 17,
   "metadata": {
    "colab": {
     "base_uri": "https://localhost:8080/"
    },
    "id": "OjzRwt7U0Ua1",
    "outputId": "44aaa919-3021-4f56-c191-ca82a269db90"
   },
   "outputs": [
    {
     "name": "stdout",
     "output_type": "stream",
     "text": [
      "Russia has a clear plan to resolve the conflict in Ukraine \n",
      "\n",
      " The conflict in Ukraine may end either by diplomatic or military means. However, it can be possible only after Moscow achieves its goals.\n",
      "\n",
      "\"An opportunity to resolve the conflict will appear only when Ukraine ceases to pose a threat to Russia and discriminate against Russian-speaking Ukrainians,” Vasily Nebenzya, Russia's Ambassador to the UN Security Council, said at a briefing at the UN Security Council.\n",
      "\n",
      "\"If this result can be achieved through negotiations, we are ready for such a scenario. If not, then our objectives will be achieved by military means,\" he added.\n",
      "\n",
      "Russia is not fighting against the Ukrainian people. Russia is fighting against the criminal nationalist regime that came to power in 2014” after the coup in Kyiv, the diplomat said.\n",
      "\n",
      "\"The new Ukrainian leadership is trying to purge the country of everything connected with Russia and glorify Nazi accomplices. <…>\n",
      "\n",
      "\"The Kyiv regime and its most rabid patrons have forgotten the meaning of the word \"peace.\" It is no coincidence that the European Union finances arms supplies to Kyiv through the European Peace Fund, without even thinking about how blasphemous it sounds and looks. <…>\n",
      "\n",
      "\"Ukraine, in fact, has become a NATO PMC. It gets money, weapons and intelligence data. Ukraine receives instructions which targets to attack and where. It is the Ukrainian people who suffer from this in the first place and the people of Ukraine are forced to fight for the sake of someone else's tasks.\"\n",
      "\n",
      "However, the Russian Ambassador to the UN said, everything could have ended differently for Ukraine, if Kyiv had implemented the now-defunct Minsk Agreements that were signed in 2014 and 2015 \"in an attempt to pave the way for peace by granting the Donetsk and Luhansk People's Republics a special status as part of the Ukrainian state\".\n",
      "\n",
      "Former Chancellor of Germany Angela Merkel and ex-president of France Francois Hollande later confirmed that neither sitting President of Ukraine Volodymyr Zelensky, nor his predecessors, nor France and Germany, who were involved in the Minks Agreements process, never intended to fulfil them. This diplomatic process served only as a \"smoke screen\" behind which they secretly armed Ukraine against Russia.\n",
      "\n",
      "Merkel's and Hollande's confessions caused an uproar in Moscow. Russian officials called them a formalisation of betrayal. Interestingly, though, no one in the West was embarrassed about those statements. It appears that the West continues implementing its strategy.\n",
      "\n",
      "In December, Ukraine put forward the idea of the Global Peace Summit based on Zelensky's \"peace formula.\" In that formula, among other things, Zelensky demanded Russia should withdraw its troops from all Ukrainian territories.\n",
      "\n",
      "Moscow dismissed the plan as it ignored the new status of Donetsk and Luhansk People's Republics, Kherson, Zaporozhye (Zaporizhzhia) regions and Crimea as part of Russia.\n",
      "\n",
      "Now Kyiv has a new \"idea\":\n",
      "\n",
      "The Ukrainian administration wants to hold a \"peace summit\" at UN headquarters in New York on February 24 (one year anniversary since the start of the special operation), but without Moscow's participation.\n",
      "\n",
      "According to The Associated Press, Ukrainian President Zelenskiy was planning to visit New York in February to address a high-level meeting of the 193-member General Assembly on the eve of the first anniversary of Russia's February 24 invasion of Ukraine.\n",
      "\n",
      "Ukraine would like the UN General Assembly to adopt two resolutions:\n",
      "\n",
      "\"Peace talks could start after the UN General Assembly passes the resolutions or after the proposed summit is held,\" Ukraine's Deputy Foreign Minister Emine Dzhaparova said.\n",
      "\n",
      "Subscribe to Pravda.Ru Telegram channel, Facebook, RSS!\n",
      "\n",
      "The fighting in several directions in the Kursk region continues. According to the Russian side, the Ukrainian Armed Forces are redeploying to attack in a new area\n"
     ]
    }
   ],
   "source": [
    "print(dataset.iloc[4].content)"
   ]
  },
  {
   "cell_type": "markdown",
   "metadata": {
    "id": "RCQYNsfNLeru"
   },
   "source": [
    "Since the annotations where limited to `417`, we also expect that the merged dataframe will be of that size:"
   ]
  },
  {
   "cell_type": "code",
   "execution_count": 18,
   "metadata": {
    "colab": {
     "base_uri": "https://localhost:8080/"
    },
    "id": "KivWaYH7FO1Y",
    "outputId": "c45054e9-9939-4a2c-c9af-99cd27b2467a"
   },
   "outputs": [
    {
     "data": {
      "text/plain": [
       "(417, 6)"
      ]
     },
     "execution_count": 18,
     "metadata": {},
     "output_type": "execute_result"
    }
   ],
   "source": [
    "dataset.shape"
   ]
  },
  {
   "cell_type": "markdown",
   "metadata": {
    "id": "HdHqA9u2LoEe"
   },
   "source": [
    "We also do a sanity-check to see if there are any missing values:"
   ]
  },
  {
   "cell_type": "code",
   "execution_count": 19,
   "metadata": {
    "colab": {
     "base_uri": "https://localhost:8080/",
     "height": 264
    },
    "id": "eVFYw9e4613A",
    "outputId": "b854d712-59ba-444d-fd32-6ff02052c706"
   },
   "outputs": [
    {
     "data": {
      "text/plain": [
       "article_id        0\n",
       "content           0\n",
       "entity_mention    0\n",
       "start_offset      0\n",
       "end_offset        0\n",
       "main_role         0\n",
       "dtype: int64"
      ]
     },
     "execution_count": 19,
     "metadata": {},
     "output_type": "execute_result"
    }
   ],
   "source": [
    "dataset.isnull().sum()"
   ]
  },
  {
   "cell_type": "markdown",
   "metadata": {
    "id": "NNZFZIA-LpBr"
   },
   "source": [
    "Notice that the distributions of roles are uneven, with the `Antagonist` being the most common class, and `Innocent` being the least common.\n",
    "\n",
    "This should worry us, and we should keep this in mind when attempting to find a good classifier."
   ]
  },
  {
   "cell_type": "code",
   "execution_count": 20,
   "metadata": {
    "colab": {
     "base_uri": "https://localhost:8080/",
     "height": 487
    },
    "id": "axE3boLV6bv3",
    "outputId": "8bf28d1e-de01-4d4e-b07f-5bb111b5834e"
   },
   "outputs": [
    {
     "data": {
      "image/png": "[encoded data removed]",
      "text/plain": [
       "<Figure size 800x500 with 1 Axes>"
      ]
     },
     "metadata": {},
     "output_type": "display_data"
    }
   ],
   "source": [
    "role_counts = dataset['main_role'].value_counts()\n",
    "\n",
    "plt.figure(figsize=(8, 5))\n",
    "role_counts.plot(kind='bar', color=['blue'])\n",
    "plt.title('Distribution of Main Roles')\n",
    "plt.xlabel('Role')\n",
    "plt.xticks(rotation=0)\n",
    "plt.show()"
   ]
  },
  {
   "cell_type": "markdown",
   "metadata": {
    "id": "xYvCAUj-NLKc"
   },
   "source": [
    "## 3. Preparing our data"
   ]
  },
  {
   "cell_type": "markdown",
   "metadata": {
    "id": "7CqHaZczfhgU"
   },
   "source": [
    "We now begin by processing our data and preparing it in order to find a good, initial/baseline classifier for this task.\n",
    "\n",
    "\n",
    "Our goal is to classify those entities into 3 classes:\n",
    "* `Protagonist`\n",
    "* `Antagonist`\n",
    "* `Innocent`\n",
    "\n",
    "It's obvious that this task is an instance of a supervised learning, we have some features and we are also given the ground truth, the class where each entity truly belongs to."
   ]
  },
  {
   "cell_type": "markdown",
   "metadata": {
    "id": "A5CE8fA2gV0s"
   },
   "source": [
    "We begin by shuffling our data:"
   ]
  },
  {
   "cell_type": "code",
   "execution_count": 21,
   "metadata": {
    "colab": {
     "base_uri": "https://localhost:8080/",
     "height": 201
    },
    "id": "10aC6sdbgQFR",
    "outputId": "ec917ef8-16b4-47de-edb1-7ae6358212d9"
   },
   "outputs": [
    {
     "data": {
      "text/html": [
       "<div>\n",
       "<style scoped>\n",
       "    .dataframe tbody tr th:only-of-type {\n",
       "        vertical-align: middle;\n",
       "    }\n",
       "\n",
       "    .dataframe tbody tr th {\n",
       "        vertical-align: top;\n",
       "    }\n",
       "\n",
       "    .dataframe thead th {\n",
       "        text-align: right;\n",
       "    }\n",
       "</style>\n",
       "<table border=\"1\" class=\"dataframe\">\n",
       "  <thead>\n",
       "    <tr style=\"text-align: right;\">\n",
       "      <th></th>\n",
       "      <th>article_id</th>\n",
       "      <th>content</th>\n",
       "      <th>entity_mention</th>\n",
       "      <th>start_offset</th>\n",
       "      <th>end_offset</th>\n",
       "      <th>main_role</th>\n",
       "    </tr>\n",
       "  </thead>\n",
       "  <tbody>\n",
       "    <tr>\n",
       "      <th>167</th>\n",
       "      <td>024321</td>\n",
       "      <td>Molotov Cocktail Attack On Russian Embassy In ...</td>\n",
       "      <td>Moscow</td>\n",
       "      <td>1667</td>\n",
       "      <td>1672</td>\n",
       "      <td>Antagonist</td>\n",
       "    </tr>\n",
       "    <tr>\n",
       "      <th>340</th>\n",
       "      <td>200021</td>\n",
       "      <td>NYC to begin tracking food purchases to make s...</td>\n",
       "      <td>Adams</td>\n",
       "      <td>679</td>\n",
       "      <td>683</td>\n",
       "      <td>Antagonist</td>\n",
       "    </tr>\n",
       "    <tr>\n",
       "      <th>245</th>\n",
       "      <td>013344</td>\n",
       "      <td>I was a KGB spy along side Putin and he IS usi...</td>\n",
       "      <td>Zhirnov</td>\n",
       "      <td>1329</td>\n",
       "      <td>1335</td>\n",
       "      <td>Protagonist</td>\n",
       "    </tr>\n",
       "    <tr>\n",
       "      <th>254</th>\n",
       "      <td>100106</td>\n",
       "      <td>Election in Nigeria triggers deluge of 'misinf...</td>\n",
       "      <td>Al Gore</td>\n",
       "      <td>488</td>\n",
       "      <td>494</td>\n",
       "      <td>Antagonist</td>\n",
       "    </tr>\n",
       "    <tr>\n",
       "      <th>26</th>\n",
       "      <td>026142</td>\n",
       "      <td>Oppose imperialist War! SEP/IYSSE public meeti...</td>\n",
       "      <td>Zionist</td>\n",
       "      <td>2564</td>\n",
       "      <td>2570</td>\n",
       "      <td>Antagonist</td>\n",
       "    </tr>\n",
       "  </tbody>\n",
       "</table>\n",
       "</div>"
      ],
      "text/plain": [
       "    article_id                                            content  \\\n",
       "167     024321  Molotov Cocktail Attack On Russian Embassy In ...   \n",
       "340     200021  NYC to begin tracking food purchases to make s...   \n",
       "245     013344  I was a KGB spy along side Putin and he IS usi...   \n",
       "254     100106  Election in Nigeria triggers deluge of 'misinf...   \n",
       "26      026142  Oppose imperialist War! SEP/IYSSE public meeti...   \n",
       "\n",
       "    entity_mention start_offset end_offset    main_role  \n",
       "167         Moscow         1667       1672   Antagonist  \n",
       "340          Adams          679        683   Antagonist  \n",
       "245        Zhirnov         1329       1335  Protagonist  \n",
       "254        Al Gore          488        494   Antagonist  \n",
       "26         Zionist         2564       2570   Antagonist  "
      ]
     },
     "execution_count": 21,
     "metadata": {},
     "output_type": "execute_result"
    }
   ],
   "source": [
    "random_state = 42 # used for experimentantions\n",
    "dataset = dataset.sample(frac=1)\n",
    "dataset.head()"
   ]
  },
  {
   "cell_type": "code",
   "execution_count": 22,
   "metadata": {
    "colab": {
     "base_uri": "https://localhost:8080/"
    },
    "id": "EIJGQzJqgcDY",
    "outputId": "597acb63-dc93-4462-d728-820424c0a5ca"
   },
   "outputs": [
    {
     "name": "stdout",
     "output_type": "stream",
     "text": [
      "NYC to begin tracking food purchases to make sure residents don’t consume “too much” meat \n",
      "\n",
      "\n",
      "Just as he promised to do, New York City Mayor Eric Adams, a left-wing Democrat, is going after people’s meat with new plans to save the world from “climate change” by forcing everyone to become a “plant-based” vegetarian or vegan.\n",
      "\n",
      "Along with representatives from the Mayor’s Office of Food Policy and the Mayor’s Office of Climate & Environmental Justice, Adams has announced the launch of a new “carbon footprint” and household food consumption tracking scheme that aims to reduce the Big Apple’s “carbon emissions” by 33 percent by the year 2030.\n",
      "\n",
      "\n",
      "In order to cut all that carbon, Adams and his allies are imposing new “caps on meat” that, as the name suggests, will limit the amount of meat that New Yorkers are allowed to purchase and consume at public institutions – and eventually within their own homes as well.\n",
      "\n",
      "(Related: Last month, we warned you that Adams was planning to unleash a horrific new food policing apparatus against New Yorkers, and now he has.)\n",
      "\n",
      "Eric Adams wants all New Yorkers to become vegans\n",
      "\n",
      "At a pre-Earth Day event held at a Brooklyn culinary center run by NYC Health + Hospitals, the city’s public health care system, Adams unveiled a chart depicting New York City’s greenhouse gas inventory. This inventory supposedly tracks the carbon footprint generated by household food consumption.\n",
      "\n",
      "With the help of American Express, C40 Cities, and EcoData, Adams revealed carbon emissions data about household food consumption, which was added to existing carbon emissions data on energy use, transportation, and waste.\n",
      "\n",
      "Commissioner Rohit Aggarwala from the NYC Department of Environmental Protection unveiled the new household food consumption data. Aggarwala, by the way, also founded the Google smart city subsidiary Sidewalk Labs, which collects data in order to forge “a new standard for what cities have to do” as a novel way to shape policy.\n",
      "\n",
      "While the inventory that Aggarwala presented will also now include greenhouse gas “pollution” from the production and consumption of consumer goods like clothing, air travel, and health care, Adams focused his efforts at the event specifically on the foods that New Yorkers consume – mainly meat and dairy, which he personally opposes.\n",
      "\n",
      "“Food is the third-biggest source of cities’ emissions right after buildings and transportation, but all food is not created equal,” Adams unsubstantially stated. “The vast majority of food that is contributing to our emission crisis lies in meat and dairy products.”\n",
      "\n",
      "“It is easy to talk about the emissions that’s coming from buildings and how it impacts our environment, but we now have to talk about beef. And I don’t know if people are ready for this conversation.”\n",
      "\n",
      "Other than fish, Adams reportedly abides by a “plant-based” vegan diet, which he says helped him overcome diabetes. He wrote a vegan cookbook to promote his personal dietary choices, which he now wants all New Yorkers to follow in order to stop “global warming.”\n",
      "\n",
      "“We already know that a plant-powered diet is better for your physical and mental health, and I am living proof of that,” Adams declared. “But the reality is that thanks to this new inventory, we’re finding out it is better for the planet.”\n",
      "\n",
      "The simplistic way in which Adams couched his argument against meat and dairy has already been debunked by people who are actually educated in such things, including Melissa McKendree, PhD, an agricultural economist at Michigan State University.\n",
      "\n",
      "“Different meats have different kinds of greenhouse gas footprints,” McKendree clarified about how pasture-raised animals do not harm the environment like feedlot animals do. “All land is not created equal.”\n"
     ]
    }
   ],
   "source": [
    "print(dataset.iloc[1].content)"
   ]
  },
  {
   "cell_type": "markdown",
   "metadata": {
    "id": "WH_QxEHig4R8"
   },
   "source": [
    "### 3.1 Training a baseline model\n",
    "\n",
    "We will begin by seeing how good of a job traditional machine learning models can do for this kind of tasks.\n",
    "\n",
    "Our idea is simple, since we have the `start_offset` and `end_offset` of each entity, we can also get the nearby x words of that entity surrounding it, before and after:"
   ]
  },
  {
   "cell_type": "code",
   "execution_count": 23,
   "metadata": {
    "id": "OZ_OjeLMQ0IF"
   },
   "outputs": [],
   "source": [
    "def get_context(row, window=150):\n",
    "    content = row['content']\n",
    "    start = int(row['start_offset'])\n",
    "    end = int(row['end_offset'])\n",
    "\n",
    "    words = content.split()\n",
    "\n",
    "    pre_entity_text = content[:start].split()\n",
    "    post_entity_text = content[end + 1:].split()\n",
    "\n",
    "    # Get context words before and after\n",
    "    context_before = \" \".join(pre_entity_text[-window:])\n",
    "    context_after = \" \".join(post_entity_text[:window])\n",
    "\n",
    "    return context_before, context_after\n",
    "\n",
    "dataset['context_before'], dataset['context_after'] = zip(*dataset.apply(get_context, axis=1))"
   ]
  },
  {
   "cell_type": "code",
   "execution_count": 24,
   "metadata": {
    "colab": {
     "base_uri": "https://localhost:8080/",
     "height": 89
    },
    "id": "_n7hbmCbdBgm",
    "outputId": "4b13a4bf-c1e6-4e1d-9087-fef6c4753581"
   },
   "outputs": [
    {
     "data": {
      "text/html": [
       "<div>\n",
       "<style scoped>\n",
       "    .dataframe tbody tr th:only-of-type {\n",
       "        vertical-align: middle;\n",
       "    }\n",
       "\n",
       "    .dataframe tbody tr th {\n",
       "        vertical-align: top;\n",
       "    }\n",
       "\n",
       "    .dataframe thead th {\n",
       "        text-align: right;\n",
       "    }\n",
       "</style>\n",
       "<table border=\"1\" class=\"dataframe\">\n",
       "  <thead>\n",
       "    <tr style=\"text-align: right;\">\n",
       "      <th></th>\n",
       "      <th>content</th>\n",
       "      <th>entity_mention</th>\n",
       "      <th>start_offset</th>\n",
       "      <th>end_offset</th>\n",
       "    </tr>\n",
       "  </thead>\n",
       "  <tbody>\n",
       "    <tr>\n",
       "      <th>0</th>\n",
       "      <td>Moscow: Russia will ask the UN Security Counci...</td>\n",
       "      <td>Russia</td>\n",
       "      <td>8</td>\n",
       "      <td>13</td>\n",
       "    </tr>\n",
       "  </tbody>\n",
       "</table>\n",
       "</div>"
      ],
      "text/plain": [
       "                                             content entity_mention  \\\n",
       "0  Moscow: Russia will ask the UN Security Counci...         Russia   \n",
       "\n",
       "   start_offset  end_offset  \n",
       "0             8          13  "
      ]
     },
     "execution_count": 24,
     "metadata": {},
     "output_type": "execute_result"
    }
   ],
   "source": [
    "example_context = \"Moscow: Russia will ask the UN Security Council for an investigation\"\n",
    "entity_mention = \"Russia\"\n",
    "start_offset = 8\n",
    "end_offset = 13\n",
    "\n",
    "example_df = pd.DataFrame({\n",
    "    'content': [example_context],\n",
    "    'entity_mention': [entity_mention],\n",
    "    'start_offset': [start_offset],\n",
    "    'end_offset': [end_offset]\n",
    "})\n",
    "\n",
    "example_df"
   ]
  },
  {
   "cell_type": "code",
   "execution_count": 25,
   "metadata": {
    "colab": {
     "base_uri": "https://localhost:8080/"
    },
    "id": "1Zaxe9DLdYSO",
    "outputId": "7fd5842e-9d68-4701-cab0-6a6958a0983e"
   },
   "outputs": [
    {
     "data": {
      "text/plain": [
       "('Moscow:', 'will ask the UN Security Council for an investigation')"
      ]
     },
     "execution_count": 25,
     "metadata": {},
     "output_type": "execute_result"
    }
   ],
   "source": [
    "get_context(example_df.iloc[0])"
   ]
  },
  {
   "cell_type": "markdown",
   "metadata": {
    "id": "MQnR1_RqhvQe"
   },
   "source": [
    "The article in row 1, has the entity mentioned:"
   ]
  },
  {
   "cell_type": "code",
   "execution_count": 26,
   "metadata": {
    "colab": {
     "base_uri": "https://localhost:8080/",
     "height": 34
    },
    "id": "RrYZGEKz0-zX",
    "outputId": "634a8451-c0dd-471a-e821-da43062a2265"
   },
   "outputs": [
    {
     "data": {
      "text/plain": [
       "'Adams'"
      ]
     },
     "execution_count": 26,
     "metadata": {},
     "output_type": "execute_result"
    }
   ],
   "source": [
    "dataset.iloc[1].entity_mention"
   ]
  },
  {
   "cell_type": "markdown",
   "metadata": {
    "id": "mPGmkhlWiM42"
   },
   "source": [
    "Context before the entity:"
   ]
  },
  {
   "cell_type": "code",
   "execution_count": 27,
   "metadata": {
    "colab": {
     "base_uri": "https://localhost:8080/",
     "height": 100
    },
    "id": "vll-NtwD1a7s",
    "outputId": "4ce2bdb4-c451-42c9-9ba0-8a55968a8f76"
   },
   "outputs": [
    {
     "data": {
      "text/plain": [
       "'NYC to begin tracking food purchases to make sure residents don’t consume “too much” meat Just as he promised to do, New York City Mayor Eric Adams, a left-wing Democrat, is going after people’s meat with new plans to save the world from “climate change” by forcing everyone to become a “plant-based” vegetarian or vegan. Along with representatives from the Mayor’s Office of Food Policy and the Mayor’s Office of Climate & Environmental Justice, Adams has announced the launch of a new “carbon footprint” and household food consumption tracking scheme that aims to reduce the Big Apple’s “carbon emissions” by 33 percent by the year 2030. In order to cut all that carbon,'"
      ]
     },
     "execution_count": 27,
     "metadata": {},
     "output_type": "execute_result"
    }
   ],
   "source": [
    "dataset.iloc[1].context_before"
   ]
  },
  {
   "cell_type": "markdown",
   "metadata": {
    "id": "sT7TeHy4iP8E"
   },
   "source": [
    "Context after the entity:"
   ]
  },
  {
   "cell_type": "code",
   "execution_count": 28,
   "metadata": {
    "colab": {
     "base_uri": "https://localhost:8080/",
     "height": 100
    },
    "id": "I1hCn4iJ1lnv",
    "outputId": "ec917c02-08d1-4b8b-ab0c-fb953724c332"
   },
   "outputs": [
    {
     "data": {
      "text/plain": [
       "'and his allies are imposing new “caps on meat” that, as the name suggests, will limit the amount of meat that New Yorkers are allowed to purchase and consume at public institutions – and eventually within their own homes as well. (Related: Last month, we warned you that Adams was planning to unleash a horrific new food policing apparatus against New Yorkers, and now he has.) Eric Adams wants all New Yorkers to become vegans At a pre-Earth Day event held at a Brooklyn culinary center run by NYC Health + Hospitals, the city’s public health care system, Adams unveiled a chart depicting New York City’s greenhouse gas inventory. This inventory supposedly tracks the carbon footprint generated by household food consumption. With the help of American Express, C40 Cities, and EcoData, Adams revealed carbon emissions data about household food consumption, which was added to existing carbon emissions data on energy'"
      ]
     },
     "execution_count": 28,
     "metadata": {},
     "output_type": "execute_result"
    }
   ],
   "source": [
    "dataset.iloc[1].context_after"
   ]
  },
  {
   "cell_type": "code",
   "execution_count": 29,
   "metadata": {
    "colab": {
     "base_uri": "https://localhost:8080/",
     "height": 34
    },
    "id": "Jy1MYCpE_WZZ",
    "outputId": "469b1a39-69e0-46b1-8c0b-6eae76c4a8e7"
   },
   "outputs": [
    {
     "data": {
      "text/plain": [
       "'Antagonist'"
      ]
     },
     "execution_count": 29,
     "metadata": {},
     "output_type": "execute_result"
    }
   ],
   "source": [
    "dataset.iloc[1].main_role"
   ]
  },
  {
   "cell_type": "markdown",
   "metadata": {
    "id": "LFCGsTCZiSbK"
   },
   "source": [
    "We also do again a sanity check that our results are correct:"
   ]
  },
  {
   "cell_type": "code",
   "execution_count": 30,
   "metadata": {
    "colab": {
     "base_uri": "https://localhost:8080/",
     "height": 100
    },
    "id": "j0pPWw6Sh5DY",
    "outputId": "96e881f3-2bda-46c0-89e3-06f76a7afeee"
   },
   "outputs": [
    {
     "data": {
      "text/plain": [
       "'NYC to begin tracking food purchases to make sure residents don’t consume “too much” meat \\n\\n\\nJust as he promised to do, New York City Mayor Eric Adams, a left-wing Democrat, is going after people’s meat with new plans to save the world from “climate change” by forcing everyone to become a “plant-based” vegetarian or vegan.\\n\\nAlong with representatives from the Mayor’s Office of Food Policy and the Mayor’s Office of Climate & Environmental Justice, Adams has announced the launch of a new “carbon footprint” and household food consumption tracking scheme that aims to reduce the Big Apple’s “carbon emissions” by 33 percent by the year 2030.\\n\\n\\nIn order to cut all that carbon, Adams and his allies are imposing new “caps on meat” that, as the name suggests, will limit the amount of meat that New Yorkers are allowed to purchase and consume at public institutions – and eventually within their own homes as well.\\n\\n(Related: Last month, we warned you that Adams was planning to unleash a horrific new food policing apparatus against New Yorkers, and now he has.)\\n\\nEric Adams wants all New Yorkers to become vegans\\n\\nAt a pre-Earth Day event held at a Brooklyn culinary center run by NYC Health + Hospitals, the city’s public health care system, Adams unveiled a chart depicting New York City’s greenhouse gas inventory. This inventory supposedly tracks the carbon footprint generated by household food consumption.\\n\\nWith the help of American Express, C40 Cities, and EcoData, Adams revealed carbon emissions data about household food consumption, which was added to existing carbon emissions data on energy use, transportation, and waste.\\n\\nCommissioner Rohit Aggarwala from the NYC Department of Environmental Protection unveiled the new household food consumption data. Aggarwala, by the way, also founded the Google smart city subsidiary Sidewalk Labs, which collects data in order to forge “a new standard for what cities have to do” as a novel way to shape policy.\\n\\nWhile the inventory that Aggarwala presented will also now include greenhouse gas “pollution” from the production and consumption of consumer goods like clothing, air travel, and health care, Adams focused his efforts at the event specifically on the foods that New Yorkers consume – mainly meat and dairy, which he personally opposes.\\n\\n“Food is the third-biggest source of cities’ emissions right after buildings and transportation, but all food is not created equal,” Adams unsubstantially stated. “The vast majority of food that is contributing to our emission crisis lies in meat and dairy products.”\\n\\n“It is easy to talk about the emissions that’s coming from buildings and how it impacts our environment, but we now have to talk about beef. And I don’t know if people are ready for this conversation.”\\n\\nOther than fish, Adams reportedly abides by a “plant-based” vegan diet, which he says helped him overcome diabetes. He wrote a vegan cookbook to promote his personal dietary choices, which he now wants all New Yorkers to follow in order to stop “global warming.”\\n\\n“We already know that a plant-powered diet is better for your physical and mental health, and I am living proof of that,” Adams declared. “But the reality is that thanks to this new inventory, we’re finding out it is better for the planet.”\\n\\nThe simplistic way in which Adams couched his argument against meat and dairy has already been debunked by people who are actually educated in such things, including Melissa McKendree, PhD, an agricultural economist at Michigan State University.\\n\\n“Different meats have different kinds of greenhouse gas footprints,” McKendree clarified about how pasture-raised animals do not harm the environment like feedlot animals do. “All land is not created equal.”'"
      ]
     },
     "execution_count": 30,
     "metadata": {},
     "output_type": "execute_result"
    }
   ],
   "source": [
    "dataset.iloc[1].content"
   ]
  },
  {
   "cell_type": "markdown",
   "metadata": {
    "id": "3QW0spUEicq7"
   },
   "source": [
    "We then combine the ccontext before and after the entity to a single, `entity_context`."
   ]
  },
  {
   "cell_type": "code",
   "execution_count": 31,
   "metadata": {
    "id": "-kENYmud3lE9"
   },
   "outputs": [],
   "source": [
    "dataset['entity_context'] = dataset['context_before'] + \" \" + dataset['entity_mention'] + \" \" + dataset['context_after']"
   ]
  },
  {
   "cell_type": "code",
   "execution_count": 32,
   "metadata": {
    "colab": {
     "base_uri": "https://localhost:8080/",
     "height": 100
    },
    "id": "wLiZh47Sijy6",
    "outputId": "b2b46dd0-c50c-4a74-8478-16810b024ed0"
   },
   "outputs": [
    {
     "data": {
      "text/plain": [
       "'NYC to begin tracking food purchases to make sure residents don’t consume “too much” meat Just as he promised to do, New York City Mayor Eric Adams, a left-wing Democrat, is going after people’s meat with new plans to save the world from “climate change” by forcing everyone to become a “plant-based” vegetarian or vegan. Along with representatives from the Mayor’s Office of Food Policy and the Mayor’s Office of Climate & Environmental Justice, Adams has announced the launch of a new “carbon footprint” and household food consumption tracking scheme that aims to reduce the Big Apple’s “carbon emissions” by 33 percent by the year 2030. In order to cut all that carbon, Adams and his allies are imposing new “caps on meat” that, as the name suggests, will limit the amount of meat that New Yorkers are allowed to purchase and consume at public institutions – and eventually within their own homes as well. (Related: Last month, we warned you that Adams was planning to unleash a horrific new food policing apparatus against New Yorkers, and now he has.) Eric Adams wants all New Yorkers to become vegans At a pre-Earth Day event held at a Brooklyn culinary center run by NYC Health + Hospitals, the city’s public health care system, Adams unveiled a chart depicting New York City’s greenhouse gas inventory. This inventory supposedly tracks the carbon footprint generated by household food consumption. With the help of American Express, C40 Cities, and EcoData, Adams revealed carbon emissions data about household food consumption, which was added to existing carbon emissions data on energy'"
      ]
     },
     "execution_count": 32,
     "metadata": {},
     "output_type": "execute_result"
    }
   ],
   "source": [
    "dataset.iloc[1].entity_context"
   ]
  },
  {
   "cell_type": "code",
   "execution_count": 33,
   "metadata": {
    "colab": {
     "base_uri": "https://localhost:8080/",
     "height": 267
    },
    "id": "zUsJam-_37Qc",
    "outputId": "0c2abff6-02a6-42c2-c5c1-5bb480067e72"
   },
   "outputs": [
    {
     "data": {
      "text/html": [
       "<div>\n",
       "<style scoped>\n",
       "    .dataframe tbody tr th:only-of-type {\n",
       "        vertical-align: middle;\n",
       "    }\n",
       "\n",
       "    .dataframe tbody tr th {\n",
       "        vertical-align: top;\n",
       "    }\n",
       "\n",
       "    .dataframe thead th {\n",
       "        text-align: right;\n",
       "    }\n",
       "</style>\n",
       "<table border=\"1\" class=\"dataframe\">\n",
       "  <thead>\n",
       "    <tr style=\"text-align: right;\">\n",
       "      <th></th>\n",
       "      <th>article_id</th>\n",
       "      <th>content</th>\n",
       "      <th>entity_mention</th>\n",
       "      <th>start_offset</th>\n",
       "      <th>end_offset</th>\n",
       "      <th>main_role</th>\n",
       "      <th>context_before</th>\n",
       "      <th>context_after</th>\n",
       "      <th>entity_context</th>\n",
       "    </tr>\n",
       "  </thead>\n",
       "  <tbody>\n",
       "    <tr>\n",
       "      <th>167</th>\n",
       "      <td>024321</td>\n",
       "      <td>Molotov Cocktail Attack On Russian Embassy In ...</td>\n",
       "      <td>Moscow</td>\n",
       "      <td>1667</td>\n",
       "      <td>1672</td>\n",
       "      <td>Antagonist</td>\n",
       "      <td>incident in the small country of Moldova which...</td>\n",
       "      <td>was breaking laws by printing ballot papers in...</td>\n",
       "      <td>incident in the small country of Moldova which...</td>\n",
       "    </tr>\n",
       "    <tr>\n",
       "      <th>340</th>\n",
       "      <td>200021</td>\n",
       "      <td>NYC to begin tracking food purchases to make s...</td>\n",
       "      <td>Adams</td>\n",
       "      <td>679</td>\n",
       "      <td>683</td>\n",
       "      <td>Antagonist</td>\n",
       "      <td>NYC to begin tracking food purchases to make s...</td>\n",
       "      <td>and his allies are imposing new “caps on meat”...</td>\n",
       "      <td>NYC to begin tracking food purchases to make s...</td>\n",
       "    </tr>\n",
       "    <tr>\n",
       "      <th>245</th>\n",
       "      <td>013344</td>\n",
       "      <td>I was a KGB spy along side Putin and he IS usi...</td>\n",
       "      <td>Zhirnov</td>\n",
       "      <td>1329</td>\n",
       "      <td>1335</td>\n",
       "      <td>Protagonist</td>\n",
       "      <td>Zhirnov said he had believed until now that cl...</td>\n",
       "      <td>is now exiled in France and was a former class...</td>\n",
       "      <td>Zhirnov said he had believed until now that cl...</td>\n",
       "    </tr>\n",
       "    <tr>\n",
       "      <th>254</th>\n",
       "      <td>100106</td>\n",
       "      <td>Election in Nigeria triggers deluge of 'misinf...</td>\n",
       "      <td>Al Gore</td>\n",
       "      <td>488</td>\n",
       "      <td>494</td>\n",
       "      <td>Antagonist</td>\n",
       "      <td>Election in Nigeria triggers deluge of 'misinf...</td>\n",
       "      <td>this ahead of the forthcoming polls.” A BBC re...</td>\n",
       "      <td>Election in Nigeria triggers deluge of 'misinf...</td>\n",
       "    </tr>\n",
       "    <tr>\n",
       "      <th>26</th>\n",
       "      <td>026142</td>\n",
       "      <td>Oppose imperialist War! SEP/IYSSE public meeti...</td>\n",
       "      <td>Zionist</td>\n",
       "      <td>2564</td>\n",
       "      <td>2570</td>\n",
       "      <td>Antagonist</td>\n",
       "      <td>war for domination as the only way out. War is...</td>\n",
       "      <td>regime and its imperialist backers have not on...</td>\n",
       "      <td>war for domination as the only way out. War is...</td>\n",
       "    </tr>\n",
       "  </tbody>\n",
       "</table>\n",
       "</div>"
      ],
      "text/plain": [
       "    article_id                                            content  \\\n",
       "167     024321  Molotov Cocktail Attack On Russian Embassy In ...   \n",
       "340     200021  NYC to begin tracking food purchases to make s...   \n",
       "245     013344  I was a KGB spy along side Putin and he IS usi...   \n",
       "254     100106  Election in Nigeria triggers deluge of 'misinf...   \n",
       "26      026142  Oppose imperialist War! SEP/IYSSE public meeti...   \n",
       "\n",
       "    entity_mention start_offset end_offset    main_role  \\\n",
       "167         Moscow         1667       1672   Antagonist   \n",
       "340          Adams          679        683   Antagonist   \n",
       "245        Zhirnov         1329       1335  Protagonist   \n",
       "254        Al Gore          488        494   Antagonist   \n",
       "26         Zionist         2564       2570   Antagonist   \n",
       "\n",
       "                                        context_before  \\\n",
       "167  incident in the small country of Moldova which...   \n",
       "340  NYC to begin tracking food purchases to make s...   \n",
       "245  Zhirnov said he had believed until now that cl...   \n",
       "254  Election in Nigeria triggers deluge of 'misinf...   \n",
       "26   war for domination as the only way out. War is...   \n",
       "\n",
       "                                         context_after  \\\n",
       "167  was breaking laws by printing ballot papers in...   \n",
       "340  and his allies are imposing new “caps on meat”...   \n",
       "245  is now exiled in France and was a former class...   \n",
       "254  this ahead of the forthcoming polls.” A BBC re...   \n",
       "26   regime and its imperialist backers have not on...   \n",
       "\n",
       "                                        entity_context  \n",
       "167  incident in the small country of Moldova which...  \n",
       "340  NYC to begin tracking food purchases to make s...  \n",
       "245  Zhirnov said he had believed until now that cl...  \n",
       "254  Election in Nigeria triggers deluge of 'misinf...  \n",
       "26   war for domination as the only way out. War is...  "
      ]
     },
     "execution_count": 33,
     "metadata": {},
     "output_type": "execute_result"
    }
   ],
   "source": [
    "dataset.head()"
   ]
  },
  {
   "cell_type": "code",
   "execution_count": 34,
   "metadata": {
    "colab": {
     "base_uri": "https://localhost:8080/"
    },
    "id": "F8Uh82fr4d7V",
    "outputId": "cfd68061-0213-4ff3-f0f6-2bb78b33ac55"
   },
   "outputs": [
    {
     "name": "stdout",
     "output_type": "stream",
     "text": [
      "Requirement already satisfied: emoji in /Library/Frameworks/Python.framework/Versions/3.12/lib/python3.12/site-packages (2.14.0)\n"
     ]
    }
   ],
   "source": [
    "!pip install emoji"
   ]
  },
  {
   "cell_type": "code",
   "execution_count": 35,
   "metadata": {
    "id": "zz7BcjMlBhnZ"
   },
   "outputs": [],
   "source": [
    "import spacy\n",
    "import re\n",
    "import emoji\n",
    "\n",
    "nlp = spacy.load(\"en_core_web_sm\")\n",
    "\n",
    "def clean_article(article_text):\n",
    "    # Remove URLs\n",
    "    article_text = re.sub(r'http\\S+|www\\S+|https\\S+|[a-zA-Z0-9.-]+\\.com', '', article_text, flags=re.MULTILINE)\n",
    "\n",
    "    doc = nlp(article_text)\n",
    "    cleaned_tokens = []\n",
    "\n",
    "    for token in doc:\n",
    "        if (token.is_space or '@' in token.text or emoji.is_emoji(token.text)):\n",
    "            continue\n",
    "\n",
    "        cleaned_tokens.append(token.text + token.whitespace_)\n",
    "\n",
    "    cleaned_article = \"\".join(cleaned_tokens).strip()\n",
    "\n",
    "    return cleaned_article"
   ]
  },
  {
   "cell_type": "code",
   "execution_count": 36,
   "metadata": {
    "colab": {
     "base_uri": "https://localhost:8080/",
     "height": 100
    },
    "id": "3vcmBTLC5dCW",
    "outputId": "757a9533-b885-4014-d091-8bdcfae98cf9"
   },
   "outputs": [
    {
     "data": {
      "text/plain": [
       "\"Election in Nigeria triggers deluge of 'misinformation' on social media New Delhi: Ahead of the presidential election in Nigeria, there has been an explosion of fake news across social media platforms. Divisive content on subjects like religion and ethnicity is also littered across social media networks like Facebook, Twitter, TikTok and WhatsApp. According to a report in Al Jazeera, “Social media allows Nigerians to share information in real-time, political strategists are weapo Al Gore this ahead of the forthcoming polls.” A BBC report in January uncovered how Nigerian politicians secretly paid social media influencers as much as 20 million Nigerian naira ($43,000) or promised government contracts and political appointments to spread disinformation about opponents. Some of these influencers are also being recruited to “situation rooms” to monitor the spread of the fake news, the report added. Meanwhile, Nigeria is grappling with widespread fuel shortages that are forcing motorists to spend hours in lines to buy gas and causing prices to surge for transportation and basic commodities. Russia’s war in Ukraine has caused prices to import fuel go up by more than 100% but retailers complain they can only charge the price set by the government, causing them to operate at a loss. The cost of transporting gasoline to the depots has gone up by 80% in the past few months. Gasoline shortages are frequent\""
      ]
     },
     "execution_count": 36,
     "metadata": {},
     "output_type": "execute_result"
    }
   ],
   "source": [
    "dataset['entity_context'] = dataset['entity_context'].apply(clean_article)\n",
    "dataset.iloc[3].entity_context"
   ]
  },
  {
   "cell_type": "code",
   "execution_count": 37,
   "metadata": {
    "colab": {
     "base_uri": "https://localhost:8080/",
     "height": 100
    },
    "id": "95YU6xadFdP-",
    "outputId": "b2176d7b-53f8-42a3-d39e-a353375b8bb3"
   },
   "outputs": [
    {
     "data": {
      "text/plain": [
       "'NYC to begin tracking food purchases to make sure residents don’t consume “too much” meat Just as he promised to do, New York City Mayor Eric Adams, a left-wing Democrat, is going after people’s meat with new plans to save the world from “climate change” by forcing everyone to become a “plant-based” vegetarian or vegan. Along with representatives from the Mayor’s Office of Food Policy and the Mayor’s Office of Climate & Environmental Justice, Adams has announced the launch of a new “carbon footprint” and household food consumption tracking scheme that aims to reduce the Big Apple’s “carbon emissions” by 33 percent by the year 2030. In order to cut all that carbon, Adams and his allies are imposing new “caps on meat” that, as the name suggests, will limit the amount of meat that New Yorkers are allowed to purchase and consume at public institutions – and eventually within their own homes as well. (Related: Last month, we warned you that Adams was planning to unleash a horrific new food policing apparatus against New Yorkers, and now he has.) Eric Adams wants all New Yorkers to become vegans At a pre-Earth Day event held at a Brooklyn culinary center run by NYC Health + Hospitals, the city’s public health care system, Adams unveiled a chart depicting New York City’s greenhouse gas inventory. This inventory supposedly tracks the carbon footprint generated by household food consumption. With the help of American Express, C40 Cities, and EcoData, Adams revealed carbon emissions data about household food consumption, which was added to existing carbon emissions data on energy'"
      ]
     },
     "execution_count": 37,
     "metadata": {},
     "output_type": "execute_result"
    }
   ],
   "source": [
    "dataset.iloc[1].entity_context"
   ]
  },
  {
   "cell_type": "code",
   "execution_count": 38,
   "metadata": {
    "colab": {
     "base_uri": "https://localhost:8080/",
     "height": 355
    },
    "id": "t1VjmYePB2sp",
    "outputId": "f6e5e35e-44f1-422e-e72c-6fe7edcf79b6"
   },
   "outputs": [
    {
     "data": {
      "text/plain": [
       "article_id                                                   100106\n",
       "content           Election in Nigeria triggers deluge of 'misinf...\n",
       "entity_mention                                              Al Gore\n",
       "start_offset                                                    488\n",
       "end_offset                                                      494\n",
       "main_role                                                Antagonist\n",
       "context_before    Election in Nigeria triggers deluge of 'misinf...\n",
       "context_after     this ahead of the forthcoming polls.” A BBC re...\n",
       "entity_context    Election in Nigeria triggers deluge of 'misinf...\n",
       "Name: 254, dtype: object"
      ]
     },
     "execution_count": 38,
     "metadata": {},
     "output_type": "execute_result"
    }
   ],
   "source": [
    "dataset.iloc[3]"
   ]
  },
  {
   "cell_type": "code",
   "execution_count": 39,
   "metadata": {
    "colab": {
     "base_uri": "https://localhost:8080/",
     "height": 100
    },
    "id": "1Q0d6QolNZxM",
    "outputId": "7b2ba4cb-4756-41cb-9ace-836528f2e427"
   },
   "outputs": [
    {
     "data": {
      "text/plain": [
       "'war for domination as the only way out. War is being accompanied by savage repression against any opposition as the terrible, continued persecution of Julian Assange for exposing the crimes of US imperialism graphically demonstrates. Our comrade Bogdan Syrotiuk of the Young Guard of Bolshevik Leninists has been detained by the fascistic Zelensky government in Ukraine earlier this month on false accusations of being a Russian agent. Bogdan has courageously opposed the war in Ukraine, along with his comrades in Russia, denounced both the Ukrainian and Russian regimes and fought for the unity of the Ukrainian and Russian working class. In the US and other imperialist countries, brutal police crackdowns are taking place against protesters opposing the Gaza genocide with thousands of arrests including of students. The ongoing anti-war protests in universities and cities are significant, but on their own are incapable of halting the bloodbath. For seven months, the Zionist regime and its imperialist backers have not only ignored protests by millions around the world, but they are also turning to police repression. The only social force capable of halting the drive to world war is the international working class which is coming into struggle in Sri Lanka and around the world in opposition to the austerity program of the ruling classes. As governments engage in, support and prepare for war, it is workers who are forced to bear the burden. A struggle against war requires the building of a unified anti-war movement of the working class based on a socialist program, exposing the futility of protest politics and all the apologists for imperialism. Appeals to capitalist governments are bankrupt. The independent mobilisation of workers on this basis needs to take up the fight to free Assange and Syrotiuk as well. The burning need is for a new revolutionary leadership'"
      ]
     },
     "execution_count": 39,
     "metadata": {},
     "output_type": "execute_result"
    }
   ],
   "source": [
    "dataset['entity_context'].iloc[4]"
   ]
  },
  {
   "cell_type": "code",
   "execution_count": 40,
   "metadata": {
    "colab": {
     "base_uri": "https://localhost:8080/",
     "height": 34
    },
    "id": "T8YR49H8Ng1x",
    "outputId": "bea17b46-adc7-479e-c130-3533587e8f1b"
   },
   "outputs": [
    {
     "data": {
      "text/plain": [
       "'Antagonist'"
      ]
     },
     "execution_count": 40,
     "metadata": {},
     "output_type": "execute_result"
    }
   ],
   "source": [
    "dataset['main_role'].iloc[4]"
   ]
  },
  {
   "cell_type": "code",
   "execution_count": 41,
   "metadata": {
    "colab": {
     "base_uri": "https://localhost:8080/",
     "height": 34
    },
    "id": "4Ik5sfiiNkt8",
    "outputId": "7dfcc4d4-ec29-4c9c-aa52-97202690b749"
   },
   "outputs": [
    {
     "data": {
      "text/plain": [
       "'Zionist'"
      ]
     },
     "execution_count": 41,
     "metadata": {},
     "output_type": "execute_result"
    }
   ],
   "source": [
    "dataset['entity_mention'].iloc[4]"
   ]
  },
  {
   "cell_type": "code",
   "execution_count": 42,
   "metadata": {
    "id": "rK516dbHjeWu"
   },
   "outputs": [],
   "source": [
    "from sklearn.preprocessing import LabelEncoder\n",
    "\n",
    "_le = LabelEncoder()\n",
    "dataset['main_role_encoded'] = _le.fit_transform(dataset['main_role'])"
   ]
  },
  {
   "cell_type": "code",
   "execution_count": 43,
   "metadata": {
    "colab": {
     "base_uri": "https://localhost:8080/",
     "height": 444
    },
    "id": "VwuFv5sAHuyS",
    "outputId": "51755cfa-a2b7-4fcb-db6c-a3061bb19af5"
   },
   "outputs": [
    {
     "data": {
      "text/plain": [
       "167    0\n",
       "340    0\n",
       "245    2\n",
       "254    0\n",
       "26     0\n",
       "      ..\n",
       "411    2\n",
       "3      2\n",
       "54     0\n",
       "402    0\n",
       "255    0\n",
       "Name: main_role_encoded, Length: 417, dtype: int64"
      ]
     },
     "execution_count": 43,
     "metadata": {},
     "output_type": "execute_result"
    }
   ],
   "source": [
    "dataset['main_role_encoded']"
   ]
  },
  {
   "cell_type": "code",
   "execution_count": 44,
   "metadata": {
    "id": "RybJQXK94Hal"
   },
   "outputs": [],
   "source": [
    "from sklearn.model_selection import train_test_split\n",
    "dataset_train, dataset_temp = train_test_split(dataset, train_size=0.85, shuffle=True, stratify=dataset['main_role_encoded'])"
   ]
  },
  {
   "cell_type": "code",
   "execution_count": 45,
   "metadata": {
    "id": "Skpw-RX_4QXU"
   },
   "outputs": [],
   "source": [
    "dataset_val, dataset_test = train_test_split(dataset_temp, train_size=0.5, shuffle=True, stratify=dataset_temp['main_role_encoded'])"
   ]
  },
  {
   "cell_type": "code",
   "execution_count": 46,
   "metadata": {
    "colab": {
     "base_uri": "https://localhost:8080/",
     "height": 203
    },
    "id": "zUhU2_K3tCWR",
    "outputId": "12cdf730-fafd-46b6-dbbd-f7254250e336"
   },
   "outputs": [
    {
     "data": {
      "text/plain": [
       "main_role\n",
       "Antagonist     20\n",
       "Protagonist     8\n",
       "Innocent        4\n",
       "Name: count, dtype: int64"
      ]
     },
     "execution_count": 46,
     "metadata": {},
     "output_type": "execute_result"
    }
   ],
   "source": [
    "dataset_test.main_role.value_counts()"
   ]
  },
  {
   "cell_type": "code",
   "execution_count": 47,
   "metadata": {
    "id": "v9C6vx9gZhZM"
   },
   "outputs": [],
   "source": [
    "import warnings\n",
    "from sklearn.metrics import classification_report, confusion_matrix\n",
    "\n",
    "def get_classification_report(y_true, y_pred):\n",
    "  # Ignore warnings\n",
    "    with warnings.catch_warnings():\n",
    "        warnings.simplefilter(\"ignore\")\n",
    "        report = classification_report(y_true, y_pred, output_dict=True)\n",
    "    report_df = pd.DataFrame(report).transpose()\n",
    "    return report_df\n",
    "\n",
    "def plot_confusion_matrix(y_true, y_pred):\n",
    "    conf_matrix = confusion_matrix(y_true, y_pred)\n",
    "    plt.figure(figsize=(8, 6))\n",
    "    sns.heatmap(conf_matrix, annot=True, fmt='d', cmap='Blues')\n",
    "    plt.xlabel('Predicted')\n",
    "    plt.ylabel('True')\n",
    "    plt.title('Confusion Matrix')\n",
    "    plt.show()\n",
    "    return conf_matrix"
   ]
  },
  {
   "cell_type": "code",
   "execution_count": 48,
   "metadata": {
    "id": "QsvsWU6f2GcQ"
   },
   "outputs": [],
   "source": [
    "from sklearn.model_selection import StratifiedKFold, cross_val_score\n",
    "\n",
    "def evaluate_model(model, x, y_true):\n",
    "  y_pred = model.predict(x)\n",
    "  classification_report_df = get_classification_report(y_true, y_pred)\n",
    "  print(classification_report_df)\n",
    "  print('\\n')\n",
    "  conf = plot_confusion_matrix(y_true, y_pred)\n",
    "  return conf\n",
    "\n",
    "def get_cross_val_score(model, x, y, scoring='f1_macro', splits=3):\n",
    "  cv = StratifiedKFold(n_splits=splits, shuffle=True)\n",
    "  cross_val_scores = cross_val_score(model, x, y, cv=cv, scoring=scoring)\n",
    "  print(f\"Cross-validation scores: {cross_val_scores}\")\n",
    "  print(f\"Mean CV F1 Score: {cross_val_scores.mean()}\")"
   ]
  },
  {
   "cell_type": "code",
   "execution_count": 49,
   "metadata": {},
   "outputs": [],
   "source": [
    "import os\n",
    "\n",
    "def embeddings_exist(embeddings_path):\n",
    "    embeddings_files = [\n",
    "        'train_embeddings.npy',\n",
    "        'val_embeddings.npy',\n",
    "        'test_embeddings.npy',\n",
    "    ]\n",
    "    # Check if all required embedding files exist\n",
    "    for embedding_file in embeddings_files:\n",
    "        path = os.path.join(embeddings_path, embedding_file) \n",
    "        if not os.path.exists(path):\n",
    "            return False\n",
    "    return True"
   ]
  },
  {
   "cell_type": "code",
   "execution_count": 50,
   "metadata": {
    "colab": {
     "base_uri": "https://localhost:8080/",
     "height": 682,
     "referenced_widgets": [
      "a93a6e7367fe40feb9b4e1e47402872f",
      "0e8c628e7dd94526abf5729378e3e957",
      "51ab0e09bdb848e18e9aa4e0e8b8b62f",
      "f4feaacf3e9d49998b0ff896fed5d2a4",
      "3a018951e579491fadcd575860fefe5a",
      "c0f97752b26c49309d3613148bbfef2f",
      "1c9b885cf0b143f5b333f4f803b85bdf",
      "0963694f98c945cb8e53a9351ad9eb36",
      "c8821bec583444168f86d10d5a8aa85b",
      "ff437a6c35f44682bff42daa3799457d",
      "df2ba0c7712f480aa8b0a6d274bde261",
      "3ec2bba01a2c4842983236d5237a8503",
      "3165f688bbdb4c82b03ace4fbecabb22",
      "82f3b36b61cd4328bdf1595e1f0f2e21",
      "e5416231df8c456e9db2d70b1eecba3d",
      "ee1b8c9ed6fd475f9b9c50544cf6895b",
      "c5d5d6239121442385e57d5a2d8b652c",
      "886524d22b7543e8a607694e756dec3b",
      "10c2f56a309a417493ce35ecab3c2c89",
      "18f3844d33c94924ab88157e420e43bb",
      "0a0ce0294f6b4cb4936d42202dbe703d",
      "2a6ddc97f5db42d3b7660669c279021b",
      "057e19dcdd2b4931947ff8a20e9c490a",
      "de276a17fbb946499d8230807fbec348",
      "c5f3d161e4f346948db2b555cb1bc80d",
      "7d0e413e1d42425793410943245f0e1b",
      "d69f18c439b24d0cad61b75182e9c0f6",
      "2191229d7e4e44f680bae1b582d7d2ad",
      "fb50b6da5f2e4c04b906e737775e92c6",
      "7b4704cdb87b4103859e7c121c1dfe29",
      "e78abedb595a46859823c2ca1dd678e1",
      "0836b551c14f43cd9cacc59e5daca670",
      "fe50aec8f4ea4ba896f48024f788d886",
      "00e0c84121bf46788e600c8d83dce734",
      "e6cef75b14594d22962609dbc4c6e0da",
      "5dff7ae7d20c42a0a705d423d2048f74",
      "f0d8998f523f4f0baf2ba65b5b17a83b",
      "bb6a68fbb87d4d3294b3dfbcb0fb354d",
      "43a5d52f78be45058283005e206d4afc",
      "e08bbad7b1d84ebc8851931a42c0cf71",
      "2a943816a6894fb7b0192735c223fed5",
      "c04c3b59375f4549851d87aa2c7100a3",
      "48cf11b726cc4a248c7d835bd8256d8d",
      "b12a3c2f36194a7fbdd0f336ac5757a3",
      "09a73ff3bd6b428fbb4b1834d151ee22",
      "311fbed130a84b029e4be05e631cf195",
      "48bd3ad450cb460a97ec3f23a9469a89",
      "138c252c1d084c5cb3abcf5458cae463",
      "4a9c9b019a0644f29ce82bb6e2f5531e",
      "1d081a8349e146c59b3ea7b254272152",
      "923eb87ff68344cab0cd9e33d4b4a5c8",
      "751bed182d7a4a19b2e4f4daa9da47fd",
      "b86942a080df429c8a0bd470b12b01ae",
      "b2bd0d06f829443d91cf19aedb9881bf",
      "6da3d9ef22994ca8920e174446f27d03",
      "51dd1456df524c3499bfe889f4b96e58",
      "21a9554241dd412db3d387b355a79a44",
      "208e03adc48049b4923571496728e7f7",
      "6181e59c7a7141a2be63bdf12e312e4b",
      "f320011758504781b5abae8563bddb0d",
      "77c478c97b4342eea17d19db7c7552d2",
      "21e2268bff8b4c5390844b91d0df7c09",
      "c51a2338d94b471f978ddf2ad24647f4",
      "2a9fc160be504213b11a11ff315ac085",
      "c142c4ad54c44287909f63f4043fb8b1",
      "604e0c0c4d2f41f8be4c441753710c53",
      "3fae30cf6d0c4d679acd4c5808016811",
      "077d99e7ac584506acc5460925373f28",
      "a34decc761ea4a609b0962e82779ba44",
      "207ecef7fac044ecb84479afc38c96dd",
      "bcf0f43316ac41b4b45c29c292ba44de",
      "68cf3376a5ee4ac6973ced01d93bcfe8",
      "889f20f03eeb4681a683dc204e4fba09",
      "55300bb3ea2a4e749e26a6219683aeb4",
      "e00ebdc6f1374f868b2d3bf284ca3a90",
      "b4aef7d276014b079b292ac1a498a1e6",
      "e6fd635ad64b425d9ad4adde376138e9",
      "ccc4401aa8c2468b8899339b225868ca",
      "da3812698f1c4c34b557118941ffa3f8",
      "46fb313743cd4143b8c635fb19bec7b2",
      "bc714e58ab2046689a4fc18102dc8306",
      "4c9c0151478f4f55abb762c131913749",
      "2949c835f81846769f8019be9ab51db8",
      "ee9b9d6c46354307900ee8daaf059918",
      "942f85ef8dd5490cab944141fa826660",
      "dd532fb7dba645018a9b97612ba9dd97",
      "132fa4263e3d4881ab5e9879cd986f4c",
      "632184bf309546db9903cb5af07eb943",
      "fb3266834ce049d6a10d652b576a5f87",
      "8f217084d80242ed865cb23a2a339572",
      "30480a3d55d14093b39bd73c8ef3c415",
      "0f41a55f8e9048928d9bdbe2beabe226",
      "e2c78be0f005413980349517a6caa546",
      "5475f4c8594b42e9bace31baf4298a9b",
      "c1c8a7e2e64542f79271cb9a76a3e4f2",
      "504a0db521cf4c57b7e05cb4c0d8d200",
      "395780dfffc54c11a9b4bf17afc9a893",
      "03d23d09640345deae6d8abcde6ac092",
      "72f58a97c7b4400bb46f43064c968401",
      "c373ce9f106544078a83434025b7dcab",
      "e67fdd8402fd4eadba02d6e754e4592a",
      "ea6b8a0162a94e5cbe213591c9bbe4f6",
      "8f13e5c9b46243cc9e3c66a69fa3d9ee",
      "e6e00651337b4529bf1b0f8254928622",
      "e60950ffdef84a45b9887aaa18d8eced",
      "95c5999089464888a22f9aa4c351a8a8",
      "9b5f976bedb74672a779066c60f13c7e",
      "ed711afd701749b8a040b62cee8647da",
      "ee59322a07e54c3eb61bd309cec1063e",
      "a815086045a54a049ca6ad97a16571d8",
      "be4217fe327d4661b130f8345e4248e3",
      "ac7c24ac48d54e9e89b1215e18c71e78",
      "5b79a5905d39421e8de8035f82539c77",
      "cb826dabe31b41b281a76f378ac431d3",
      "f8470c56dd50400784e51ff257facc98",
      "82fb3fbcbd67408ca4ced44dbda55c90",
      "2ddb62492fb4431f91db9a326b912441",
      "c5e47854b49247fda86fae5653495816",
      "c1c727d8ce074e709a3a8c9dd8a7c71e",
      "c581a3fa7e0240b892668319bfeb23ee",
      "476592e05d9a43bd96081d4f682081b7",
      "ea42b0dfc83e451c896c7a1a5d718356",
      "5f689a6cf6974734945c6de6c099db8c",
      "2661744d046b49118af1a4872e67b89a",
      "05db639868214063bf151a5805a8e06e",
      "d16deebdeb304322b2b02baa3c792d39",
      "cd7be2b7c6ea4322b3ca9134e44b8b2e",
      "c937d640fc0643d78d00b8543f117acd",
      "e05ecebbccf041bfbba253c23cfe8c1a",
      "6651b28344224780b800372d249055ac",
      "4a7730ea91984597ac8cd4a18d380b7d",
      "38e6f1855f7841edba4f7b03a1c8a8d7",
      "7858c38fe06e49dfb99a118c9a07dd07",
      "0702608ff71b401a939535813e0babb7",
      "4345d14d29204f89a1e24458621a4d19",
      "f1bd380d74064c23acfe3a621c592423",
      "c2700e33c6b14494b1764934361d5279",
      "87fa43af0e54431e859c3ff0fd3f4da2",
      "3d131bc5111e45ab8c9605f3de5f78c4",
      "126dc5209d8249abaebc0fddde950492",
      "d501911f2f8d4b5584d47d938eeb635a",
      "036457bf1cd24c858e03cfbbfb59a10e",
      "431ff6a2674d4a64869aa3182aea81d6",
      "0f49fb8b93e14522a1dd7e7cdae5fa9a",
      "042dc7ce508a42ea91f7460f800e646d",
      "c2b2ba7505ab4fc88630ed052e2a184c",
      "216b415af5334e3dadcbe9b25dae0bff",
      "38986974c071441c80a69bccc6d20ef7",
      "5f9144c0f49148f3a7d139a3a7d48b11",
      "72af08fcd38a447786450e8a6ff02989",
      "1a7524bd04024443b94c0f0d6b612707",
      "06691139cd6d402eb61466ef8263f05b",
      "12dc7b4e9b37436c96e605b256f378a3",
      "5120fe698faf44bcba20a3dc69e9f830"
     ]
    },
    "id": "4O3b2EepZWUf",
    "outputId": "bd887faf-7e6b-475e-b2cb-54bd82468f6b"
   },
   "outputs": [
    {
     "name": "stderr",
     "output_type": "stream",
     "text": [
      "/Library/Frameworks/Python.framework/Versions/3.12/lib/python3.12/site-packages/InstructorEmbedding/instructor.py:7: TqdmExperimentalWarning: Using `tqdm.autonotebook.tqdm` in notebook mode. Use `tqdm.tqdm` instead to force console mode (e.g. in jupyter console)\n",
      "  from tqdm.autonotebook import trange\n"
     ]
    },
    {
     "name": "stdout",
     "output_type": "stream",
     "text": [
      "load INSTRUCTOR_Transformer\n",
      "max_seq_length  512\n"
     ]
    },
    {
     "name": "stderr",
     "output_type": "stream",
     "text": [
      "/Library/Frameworks/Python.framework/Versions/3.12/lib/python3.12/site-packages/transformers/tokenization_utils_base.py:1602: FutureWarning: `clean_up_tokenization_spaces` was not set. It will be set to `True` by default. This behavior will be deprecated in transformers v4.45, and will be then set to `False` by default. For more details check this issue: https://github.com/huggingface/transformers/issues/31884\n",
      "  warnings.warn(\n",
      "/Library/Frameworks/Python.framework/Versions/3.12/lib/python3.12/site-packages/sentence_transformers/models/Dense.py:63: FutureWarning: You are using `torch.load` with `weights_only=False` (the current default value), which uses the default pickle module implicitly. It is possible to construct malicious pickle data which will execute arbitrary code during unpickling (See https://github.com/pytorch/pytorch/blob/main/SECURITY.md#untrusted-models for more details). In a future release, the default value for `weights_only` will be flipped to `True`. This limits the functions that could be executed during unpickling. Arbitrary objects will no longer be allowed to be loaded via this mode unless they are explicitly allowlisted by the user via `torch.serialization.add_safe_globals`. We recommend you start setting `weights_only=True` for any use case where you don't have full control of the loaded file. Please open an issue on GitHub for any issues related to this experimental feature.\n",
      "  model.load_state_dict(torch.load(os.path.join(input_path, 'pytorch_model.bin'), map_location=torch.device('cpu')))\n"
     ]
    }
   ],
   "source": [
    "model = None\n",
    "embeddings_dir = 'data/embeddings/entity_framing/'\n",
    "\n",
    "if not embeddings_exist(embeddings_dir):\n",
    "    from InstructorEmbedding import INSTRUCTOR\n",
    "    model = INSTRUCTOR('hkunlp/instructor-large')\n",
    "else:\n",
    "    print(\"Skipping loading model\")"
   ]
  },
  {
   "cell_type": "code",
   "execution_count": 51,
   "metadata": {
    "colab": {
     "base_uri": "https://localhost:8080/"
    },
    "id": "rHS5h99-bSrv",
    "outputId": "1877f121-de67-4a37-8c96-2fffc5368400"
   },
   "outputs": [
    {
     "name": "stdout",
     "output_type": "stream",
     "text": [
      "INSTRUCTOR(\n",
      "  (0): Transformer({'max_seq_length': 512, 'do_lower_case': False}) with Transformer model: T5EncoderModel \n",
      "  (1): Pooling({'word_embedding_dimension': 768, 'pooling_mode_cls_token': False, 'pooling_mode_mean_tokens': True, 'pooling_mode_max_tokens': False, 'pooling_mode_mean_sqrt_len_tokens': False, 'pooling_mode_weightedmean_tokens': False, 'pooling_mode_lasttoken': False})\n",
      "  (2): Dense({'in_features': 1024, 'out_features': 768, 'bias': False, 'activation_function': 'torch.nn.modules.linear.Identity'})\n",
      "  (3): Normalize()\n",
      ")\n"
     ]
    }
   ],
   "source": [
    "print(model)"
   ]
  },
  {
   "cell_type": "code",
   "execution_count": 52,
   "metadata": {
    "id": "_YLV6ERd1AQN"
   },
   "outputs": [],
   "source": [
    "def get_instructor_embeddings(dataset):\n",
    "    embeddings = []\n",
    "    for index, row in dataset.iterrows():\n",
    "        entity = row['entity_mention']\n",
    "        context = row['entity_context']\n",
    "        instruction = (\n",
    "            f\"Classify the role of {entity} in this context as antagonist, protagonist, or innocent. Focus on their \"\n",
    "            f\"actions, intent, and surrounding sentiment: \"\n",
    "        )\n",
    "        embedding = model.encode([[instruction, context]])\n",
    "        embeddings.append(embedding[0])\n",
    "\n",
    "    return np.array(embeddings)"
   ]
  },
  {
   "cell_type": "code",
   "execution_count": 53,
   "metadata": {},
   "outputs": [],
   "source": [
    "train_embeddings_path = os.path.join(embeddings_dir, 'train_embeddings.npy')\n",
    "val_embeddings_path = os.path.join(embeddings_dir, 'val_embeddings.npy')\n",
    "test_embeddings_path = os.path.join(embeddings_dir, 'test_embeddings.npy')\n",
    "\n",
    "def load_embeddings(file_path):\n",
    "  if os.path.exists(file_path):\n",
    "      print(f\"Loading embeddings from {file_path}\")\n",
    "      return np.load(file_path)\n",
    "  else:\n",
    "      print(f\"No embeddings found at {file_path}\")\n",
    "      return None\n",
    "\n",
    "def save_embeddings(embeddings, file_path):\n",
    "    np.save(file_path, embeddings)\n",
    "    print(f\"Embeddings saved to {file_path}\")\n",
    "\n",
    "def ensure_embeddings(dataset, dataset_type='train'):\n",
    "    if dataset_type == 'train':\n",
    "        embeddings_path = train_embeddings_path\n",
    "    elif dataset_type == 'val':\n",
    "        embeddings_path = val_embeddings_path\n",
    "    elif dataset_type == 'test':\n",
    "        embeddings_path = test_embeddings_path\n",
    "    else:\n",
    "        print('Dataset type must be either train, val or test')\n",
    "        return\n",
    "\n",
    "    embeddings = load_embeddings(embeddings_path)\n",
    "\n",
    "    if embeddings is None:\n",
    "        print(f\"Generating {dataset_type} embeddings...\")\n",
    "        embeddings = get_instructor_embeddings(dataset)\n",
    "        save_embeddings(embeddings, embeddings_path)\n",
    "\n",
    "    return embeddings"
   ]
  },
  {
   "cell_type": "code",
   "execution_count": 54,
   "metadata": {},
   "outputs": [
    {
     "name": "stdout",
     "output_type": "stream",
     "text": [
      "No embeddings found at data/embeddings/entity_framing/train_embeddings.npy\n",
      "Generating train embeddings...\n",
      "Embeddings saved to data/embeddings/entity_framing/train_embeddings.npy\n",
      "No embeddings found at data/embeddings/entity_framing/val_embeddings.npy\n",
      "Generating val embeddings...\n",
      "Embeddings saved to data/embeddings/entity_framing/val_embeddings.npy\n"
     ]
    }
   ],
   "source": [
    "train_x_embeddings = ensure_embeddings(dataset_train, dataset_type='train')\n",
    "val_x_embeddings = ensure_embeddings(dataset_val, dataset_type='val')"
   ]
  },
  {
   "cell_type": "code",
   "execution_count": 55,
   "metadata": {
    "colab": {
     "base_uri": "https://localhost:8080/"
    },
    "id": "Wr4mfY8V1l3j",
    "outputId": "6589dee5-2ca5-414b-ad9e-b1f3e410a02b"
   },
   "outputs": [
    {
     "data": {
      "text/plain": [
       "(354, 768)"
      ]
     },
     "execution_count": 55,
     "metadata": {},
     "output_type": "execute_result"
    }
   ],
   "source": [
    "train_x_embeddings.shape"
   ]
  },
  {
   "cell_type": "code",
   "execution_count": 56,
   "metadata": {
    "colab": {
     "base_uri": "https://localhost:8080/"
    },
    "id": "l6V2iex61ooP",
    "outputId": "6482dd19-1d8b-436d-d261-0a87e964a53d"
   },
   "outputs": [
    {
     "data": {
      "text/plain": [
       "array([-0.01067423, -0.04770148, -0.01568508,  0.02918606,  0.0589218 ,\n",
       "        0.02481545,  0.00112661,  0.00801194, -0.06015591,  0.06214703,\n",
       "        0.07781693,  0.00377271,  0.02326236,  0.02937167, -0.03854338,\n",
       "       -0.04004407, -0.0407858 ,  0.0423594 , -0.03022785,  0.0068551 ],\n",
       "      dtype=float32)"
      ]
     },
     "execution_count": 56,
     "metadata": {},
     "output_type": "execute_result"
    }
   ],
   "source": [
    "train_x_embeddings[0][:20]"
   ]
  },
  {
   "cell_type": "code",
   "execution_count": 57,
   "metadata": {},
   "outputs": [
    {
     "data": {
      "text/plain": [
       "array([-0.03175866, -0.01766243, -0.01718685,  0.01814671,  0.07748958,\n",
       "        0.00992958,  0.00991318,  0.01980518, -0.03723301,  0.04197976,\n",
       "        0.07476486, -0.01666038, -0.00676561,  0.05177666, -0.02166705,\n",
       "       -0.03690792, -0.03741233,  0.06025   , -0.06721244, -0.02630915],\n",
       "      dtype=float32)"
      ]
     },
     "execution_count": 57,
     "metadata": {},
     "output_type": "execute_result"
    }
   ],
   "source": [
    "train_x_embeddings[1][:20]"
   ]
  },
  {
   "cell_type": "code",
   "execution_count": 58,
   "metadata": {
    "colab": {
     "base_uri": "https://localhost:8080/",
     "height": 444
    },
    "id": "jIs9DgjIZDs6",
    "outputId": "b292f51b-507f-471a-81ed-fa237f89296f"
   },
   "outputs": [
    {
     "data": {
      "text/plain": [
       "0      2\n",
       "1      0\n",
       "2      0\n",
       "3      1\n",
       "4      1\n",
       "      ..\n",
       "349    0\n",
       "350    0\n",
       "351    0\n",
       "352    0\n",
       "353    0\n",
       "Name: main_role_encoded, Length: 354, dtype: int64"
      ]
     },
     "execution_count": 58,
     "metadata": {},
     "output_type": "execute_result"
    }
   ],
   "source": [
    "train_y_encoded = dataset_train['main_role_encoded'].reset_index(drop=True)\n",
    "val_y_encoded = dataset_val['main_role_encoded'].reset_index(drop=True)\n",
    "\n",
    "train_y_encoded"
   ]
  },
  {
   "cell_type": "code",
   "execution_count": 59,
   "metadata": {
    "id": "YUJIfviyEcGy"
   },
   "outputs": [
    {
     "name": "stdout",
     "output_type": "stream",
     "text": [
      "No embeddings found at data/embeddings/entity_framing/test_embeddings.npy\n",
      "Generating test embeddings...\n",
      "Embeddings saved to data/embeddings/entity_framing/test_embeddings.npy\n"
     ]
    }
   ],
   "source": [
    "test_y_embeddings = ensure_embeddings(dataset_test, dataset_type='test')\n",
    "test_y_encoded = dataset_test['main_role_encoded'].reset_index(drop=True)"
   ]
  },
  {
   "cell_type": "code",
   "execution_count": 60,
   "metadata": {
    "colab": {
     "base_uri": "https://localhost:8080/"
    },
    "id": "iONp61TJDcdn",
    "outputId": "d750e67f-30a7-4f1b-8a73-00d83c237ecf"
   },
   "outputs": [
    {
     "name": "stdout",
     "output_type": "stream",
     "text": [
      "Cross-validation scores: [0.39263102 0.45362109 0.41886724]\n",
      "Mean CV F1 Score: 0.42170645343615304\n"
     ]
    }
   ],
   "source": [
    "from sklearn.neighbors import KNeighborsClassifier\n",
    "\n",
    "knn_classifier = KNeighborsClassifier(n_neighbors=3, weights='distance', metric='cosine')\n",
    "get_cross_val_score(knn_classifier, train_x_embeddings, train_y_encoded)"
   ]
  },
  {
   "cell_type": "code",
   "execution_count": 61,
   "metadata": {
    "colab": {
     "base_uri": "https://localhost:8080/",
     "height": 761
    },
    "id": "8UBl_C5IZI76",
    "outputId": "76a3c8e2-781a-4283-c956-7e8205936638"
   },
   "outputs": [
    {
     "name": "stdout",
     "output_type": "stream",
     "text": [
      "              precision    recall  f1-score    support\n",
      "0              0.736842  0.700000  0.717949  20.000000\n",
      "1              0.500000  0.333333  0.400000   3.000000\n",
      "2              0.500000  0.625000  0.555556   8.000000\n",
      "accuracy       0.645161  0.645161  0.645161   0.645161\n",
      "macro avg      0.578947  0.552778  0.557835  31.000000\n",
      "weighted avg   0.652801  0.645161  0.645272  31.000000\n",
      "\n",
      "\n"
     ]
    },
    {
     "data": {
      "image/png": "[encoded data removed]",
      "text/plain": [
       "<Figure size 800x600 with 2 Axes>"
      ]
     },
     "metadata": {},
     "output_type": "display_data"
    },
    {
     "data": {
      "text/plain": [
       "array([[14,  1,  5],\n",
       "       [ 2,  1,  0],\n",
       "       [ 3,  0,  5]])"
      ]
     },
     "execution_count": 61,
     "metadata": {},
     "output_type": "execute_result"
    }
   ],
   "source": [
    "knn_classifier.fit(train_x_embeddings, train_y_encoded)\n",
    "evaluate_model(knn_classifier, val_x_embeddings, val_y_encoded)"
   ]
  },
  {
   "cell_type": "code",
   "execution_count": 62,
   "metadata": {
    "colab": {
     "base_uri": "https://localhost:8080/"
    },
    "id": "lxyPD1tKhLj4",
    "outputId": "fb0e0817-93e1-4637-b529-3f47d54253ee"
   },
   "outputs": [
    {
     "name": "stdout",
     "output_type": "stream",
     "text": [
      "Cross-validation scores: [0.39096551 0.43152845 0.49285714]\n",
      "Mean CV F1 Score: 0.4384503675580855\n"
     ]
    }
   ],
   "source": [
    "import xgboost as xgb\n",
    "from xgboost import XGBClassifier\n",
    "\n",
    "xgb_classifier = XGBClassifier(learning_rate=0.1, max_depth=3, n_estimators=150)\n",
    "get_cross_val_score(xgb_classifier, train_x_embeddings, train_y_encoded)"
   ]
  },
  {
   "cell_type": "code",
   "execution_count": 63,
   "metadata": {
    "colab": {
     "base_uri": "https://localhost:8080/",
     "height": 761
    },
    "id": "4tVfCTyeZOl4",
    "outputId": "9b55ea73-3278-4ac6-86d6-034faea4fa11"
   },
   "outputs": [
    {
     "name": "stdout",
     "output_type": "stream",
     "text": [
      "              precision    recall  f1-score    support\n",
      "0              0.636364  0.700000  0.666667  20.000000\n",
      "1              0.000000  0.000000  0.000000   3.000000\n",
      "2              0.375000  0.375000  0.375000   8.000000\n",
      "accuracy       0.548387  0.548387  0.548387   0.548387\n",
      "macro avg      0.337121  0.358333  0.347222  31.000000\n",
      "weighted avg   0.507331  0.548387  0.526882  31.000000\n",
      "\n",
      "\n"
     ]
    },
    {
     "data": {
      "image/png": "[encoded data removed]",
      "text/plain": [
       "<Figure size 800x600 with 2 Axes>"
      ]
     },
     "metadata": {},
     "output_type": "display_data"
    },
    {
     "data": {
      "text/plain": [
       "array([[14,  1,  5],\n",
       "       [ 3,  0,  0],\n",
       "       [ 5,  0,  3]])"
      ]
     },
     "execution_count": 63,
     "metadata": {},
     "output_type": "execute_result"
    }
   ],
   "source": [
    "xgb_classifier.fit(train_x_embeddings, train_y_encoded)\n",
    "evaluate_model(xgb_classifier, val_x_embeddings, val_y_encoded)"
   ]
  },
  {
   "cell_type": "code",
   "execution_count": 64,
   "metadata": {
    "colab": {
     "base_uri": "https://localhost:8080/"
    },
    "id": "ewGC-5op_-d2",
    "outputId": "2f9d813a-f4be-4806-ccc7-75d0599f15e9"
   },
   "outputs": [
    {
     "name": "stdout",
     "output_type": "stream",
     "text": [
      "['Innocent']\n"
     ]
    }
   ],
   "source": [
    "label = _le.inverse_transform([1])\n",
    "print(label)"
   ]
  },
  {
   "cell_type": "code",
   "execution_count": 65,
   "metadata": {
    "colab": {
     "base_uri": "https://localhost:8080/"
    },
    "id": "0-iweuombnon",
    "outputId": "9f69bbdc-8e8c-4c88-a482-34c7fa74acc1"
   },
   "outputs": [
    {
     "data": {
      "text/plain": [
       "Counter({0: 227, 2: 87, 1: 40})"
      ]
     },
     "execution_count": 65,
     "metadata": {},
     "output_type": "execute_result"
    }
   ],
   "source": [
    "from collections import Counter\n",
    "Counter(train_y_encoded)"
   ]
  },
  {
   "cell_type": "code",
   "execution_count": null,
   "metadata": {
    "colab": {
     "base_uri": "https://localhost:8080/"
    },
    "id": "rdCijhfu25si",
    "outputId": "d9063876-f336-470f-80ef-7054726b7851"
   },
   "outputs": [
    {
     "name": "stderr",
     "output_type": "stream",
     "text": [
      "/Library/Frameworks/Python.framework/Versions/3.12/lib/python3.12/site-packages/sklearn/ensemble/_weight_boosting.py:527: FutureWarning: The SAMME.R algorithm (the default) is deprecated and will be removed in 1.6. Use the SAMME algorithm to circumvent this warning.\n",
      "  warnings.warn(\n",
      "/Library/Frameworks/Python.framework/Versions/3.12/lib/python3.12/site-packages/sklearn/ensemble/_weight_boosting.py:527: FutureWarning: The SAMME.R algorithm (the default) is deprecated and will be removed in 1.6. Use the SAMME algorithm to circumvent this warning.\n",
      "  warnings.warn(\n",
      "/Library/Frameworks/Python.framework/Versions/3.12/lib/python3.12/site-packages/sklearn/ensemble/_weight_boosting.py:527: FutureWarning: The SAMME.R algorithm (the default) is deprecated and will be removed in 1.6. Use the SAMME algorithm to circumvent this warning.\n",
      "  warnings.warn(\n"
     ]
    }
   ],
   "source": [
    "from sklearn.ensemble import AdaBoostClassifier\n",
    "from sklearn.tree import DecisionTreeClassifier\n",
    "\n",
    "weak_learner = DecisionTreeClassifier(max_depth=5)\n",
    "adaboost_classifier = AdaBoostClassifier(estimator=weak_learner, n_estimators=100, learning_rate=.1)\n",
    "\n",
    "get_cross_val_score(adaboost_classifier, train_x_embeddings, train_y_encoded)"
   ]
  },
  {
   "cell_type": "code",
   "execution_count": null,
   "metadata": {
    "colab": {
     "base_uri": "https://localhost:8080/",
     "height": 187
    },
    "id": "SOn9siYHbOZU",
    "outputId": "9fd30695-27e2-4fee-a999-5f347706803d"
   },
   "outputs": [],
   "source": [
    "adaboost_classifier.fit(train_x_embeddings, train_y_encoded)"
   ]
  },
  {
   "cell_type": "code",
   "execution_count": null,
   "metadata": {
    "colab": {
     "base_uri": "https://localhost:8080/",
     "height": 761
    },
    "id": "Q39ajrDVU8MB",
    "outputId": "653fd926-cb58-410c-884a-c0e7f8fbeade"
   },
   "outputs": [],
   "source": [
    "evaluate_model(adaboost_classifier, val_x_embeddings, val_y_encoded)"
   ]
  },
  {
   "cell_type": "code",
   "execution_count": null,
   "metadata": {
    "colab": {
     "base_uri": "https://localhost:8080/"
    },
    "id": "Mah_4DDaD2bk",
    "outputId": "8ee5008b-363b-4097-9108-b2db03683131"
   },
   "outputs": [],
   "source": [
    "from sklearn.utils import class_weight\n",
    "\n",
    "classes = np.unique(train_y_encoded)\n",
    "class_weights = class_weight.compute_class_weight('balanced', classes=classes, y=train_y_encoded)\n",
    "class_weights"
   ]
  },
  {
   "cell_type": "code",
   "execution_count": null,
   "metadata": {
    "colab": {
     "base_uri": "https://localhost:8080/"
    },
    "id": "rgIAvxiAPQU4",
    "outputId": "5c405ff1-a595-451a-a330-bd4a6a4adb84"
   },
   "outputs": [],
   "source": [
    "class_weights_dict = dict(zip(classes, class_weights))\n",
    "class_weights_dict"
   ]
  },
  {
   "cell_type": "code",
   "execution_count": null,
   "metadata": {
    "id": "-SzRq4i9A9W6"
   },
   "outputs": [],
   "source": [
    "custom_class_weights = {\n",
    "    0: 0.5,  # Antagonist\n",
    "    1: 3.5,  # Innocent (increased from 2.95)\n",
    "    2: 1.5   # Protagonist (slightly increased)\n",
    "}"
   ]
  },
  {
   "cell_type": "code",
   "execution_count": null,
   "metadata": {
    "id": "j98aI9_QAcg_"
   },
   "outputs": [],
   "source": [
    "sample_weights = np.array([custom_class_weights[label] for label in train_y_encoded])"
   ]
  },
  {
   "cell_type": "code",
   "execution_count": null,
   "metadata": {
    "colab": {
     "base_uri": "https://localhost:8080/"
    },
    "id": "-Gflh7JvAzSo",
    "outputId": "19a67184-546f-44bc-b8e1-da50195f4e33"
   },
   "outputs": [],
   "source": [
    "sample_weights"
   ]
  },
  {
   "cell_type": "code",
   "execution_count": null,
   "metadata": {
    "colab": {
     "base_uri": "https://localhost:8080/"
    },
    "id": "yDfLneAD0KIp",
    "outputId": "85129fdb-7f0b-42e4-b13f-6853cb22a2b4"
   },
   "outputs": [],
   "source": [
    "import xgboost as xgb\n",
    "\n",
    "xgb_weighted = xgb.XGBClassifier(learning_rate=0.1, max_depth=5, n_estimators=150)\n",
    "get_cross_val_score(xgb_weighted, train_x_embeddings, train_y_encoded)"
   ]
  },
  {
   "cell_type": "code",
   "execution_count": null,
   "metadata": {
    "colab": {
     "base_uri": "https://localhost:8080/",
     "height": 761
    },
    "id": "Io7NNfRc0YAJ",
    "outputId": "b88d11ea-3d0a-4187-e8dd-93ded55706c4"
   },
   "outputs": [],
   "source": [
    "xgb_weighted.fit(train_x_embeddings, train_y_encoded, sample_weight=sample_weights)\n",
    "evaluate_model(xgb_weighted, val_x_embeddings, val_y_encoded)"
   ]
  },
  {
   "cell_type": "code",
   "execution_count": null,
   "metadata": {
    "colab": {
     "base_uri": "https://localhost:8080/"
    },
    "id": "0r72woZkVTOm",
    "outputId": "afd42118-9810-4421-e63d-96a7fadbc526"
   },
   "outputs": [],
   "source": [
    "from sklearn.ensemble import AdaBoostClassifier\n",
    "from sklearn.tree import DecisionTreeClassifier\n",
    "\n",
    "decision_tree_weighted = DecisionTreeClassifier(max_depth=5, class_weight=custom_class_weights)\n",
    "adaboost_weighted = AdaBoostClassifier(estimator=decision_tree_weighted, n_estimators=150, learning_rate=.1)\n",
    "get_cross_val_score(adaboost_weighted, train_x_embeddings, train_y_encoded)"
   ]
  },
  {
   "cell_type": "code",
   "execution_count": null,
   "metadata": {
    "colab": {
     "base_uri": "https://localhost:8080/",
     "height": 187
    },
    "id": "QbqpFk_FczX4",
    "outputId": "494836ee-4793-40fe-e860-e9d87ec8c67d"
   },
   "outputs": [],
   "source": [
    "adaboost_weighted.fit(train_x_embeddings, train_y_encoded, sample_weight=sample_weights)"
   ]
  },
  {
   "cell_type": "code",
   "execution_count": null,
   "metadata": {
    "colab": {
     "base_uri": "https://localhost:8080/",
     "height": 761
    },
    "id": "GIAbCgYhaR5b",
    "outputId": "1cd0bce6-6797-44df-d4f1-1469f4b34635"
   },
   "outputs": [],
   "source": [
    "evaluate_model(adaboost_weighted, val_x_embeddings, val_y_encoded)"
   ]
  },
  {
   "cell_type": "code",
   "execution_count": null,
   "metadata": {
    "colab": {
     "base_uri": "https://localhost:8080/",
     "height": 78
    },
    "id": "5KJ-qRvJDmjV",
    "outputId": "cf8ba596-42a7-455b-fdfb-c861f6b4b6f8"
   },
   "outputs": [],
   "source": [
    "from sklearn.svm import SVC\n",
    "\n",
    "svm_classifier = SVC(C=10, gamma='scale', kernel='rbf') # attributes after running GridSearch\n",
    "svm_classifier.fit(train_x_embeddings, train_y_encoded, sample_weight=sample_weights)"
   ]
  },
  {
   "cell_type": "code",
   "execution_count": null,
   "metadata": {
    "colab": {
     "base_uri": "https://localhost:8080/"
    },
    "id": "rLD-87paDotI",
    "outputId": "edad7beb-a059-4c81-902f-10738c3d57dd"
   },
   "outputs": [],
   "source": [
    "get_cross_val_score(svm_classifier, train_x_embeddings, train_y_encoded)"
   ]
  },
  {
   "cell_type": "code",
   "execution_count": null,
   "metadata": {
    "colab": {
     "base_uri": "https://localhost:8080/",
     "height": 761
    },
    "id": "I83TWDzpDuw1",
    "outputId": "7f8442e7-61f6-4b8f-ebf3-bd3f50e34e4c"
   },
   "outputs": [],
   "source": [
    "evaluate_model(svm_classifier, val_x_embeddings, val_y_encoded)"
   ]
  },
  {
   "cell_type": "code",
   "execution_count": null,
   "metadata": {
    "colab": {
     "base_uri": "https://localhost:8080/"
    },
    "id": "cCYD1zUQ1A5s",
    "outputId": "5017e42e-275b-4a45-bbf9-8d58e2c57b67"
   },
   "outputs": [],
   "source": [
    "classes = len(np.unique(train_y_encoded))\n",
    "\n",
    "embedding_dim = train_x_embeddings.shape[1]\n",
    "\n",
    "small_model = tf.keras.Sequential([\n",
    "    keras.layers.InputLayer(input_shape=(embedding_dim,)),\n",
    "    keras.layers.Dense(16, activation='relu'),\n",
    "    keras.layers.Dense(classes, activation='softmax')\n",
    "])"
   ]
  },
  {
   "cell_type": "code",
   "execution_count": null,
   "metadata": {
    "id": "acWU0bvC1TcH"
   },
   "outputs": [],
   "source": [
    "def compile_and_fit(x_train, y_train, model, optimizer=None, max_epochs=100, callbacks=[], lr=0.01, use_class_weights=False):\n",
    "    if not optimizer:\n",
    "        optimizer = tf.keras.optimizers.Adam(learning_rate=lr)\n",
    "\n",
    "    model.compile(\n",
    "        optimizer=optimizer,\n",
    "        loss=tf.keras.losses.SparseCategoricalCrossentropy(from_logits=False),\n",
    "      metrics=['accuracy']\n",
    "    )\n",
    "\n",
    "    history = model.fit(\n",
    "        x_train, y_train,\n",
    "        epochs=max_epochs,\n",
    "        validation_data=(val_x_embeddings, val_y_encoded),\n",
    "        callbacks=callbacks,\n",
    "        verbose=2,\n",
    "        class_weight=class_weights_dict if use_class_weights else None\n",
    "    )\n",
    "    return history"
   ]
  },
  {
   "cell_type": "code",
   "execution_count": null,
   "metadata": {
    "id": "7WX8dttePoCr"
   },
   "outputs": [],
   "source": [
    "def plot_history(history, metric='loss'):\n",
    "    plt.figure(figsize=(10, 6))\n",
    "    plt.plot(history.history[metric], label=f'Training {metric}')\n",
    "    plt.plot(history.history[f'val_{metric}'], label=f'Validation {metric}')\n",
    "    plt.xlabel('Epochs')\n",
    "    plt.ylabel(metric)\n",
    "    plt.legend()\n",
    "    plt.show()\n",
    "\n",
    "def evaluate_mlp(model, X, y):\n",
    "    y_pred_prob = model.predict(X)\n",
    "    y_pred = np.argmax(y_pred_prob, axis=-1)\n",
    "\n",
    "    print(\"Classification Report:\")\n",
    "    print(classification_report(y, y_pred))\n",
    "\n",
    "    print(\"Confusion Matrix:\")\n",
    "    cm = confusion_matrix(y, y_pred)\n",
    "\n",
    "    plt.figure(figsize=(8, 6))\n",
    "    sns.heatmap(cm, annot=True, fmt='g', cmap='Blues')\n",
    "    plt.ylabel('True Label')\n",
    "    plt.xlabel('Predicted Label')\n",
    "    plt.title('Confusion Matrix')\n",
    "    plt.show()"
   ]
  },
  {
   "cell_type": "code",
   "execution_count": null,
   "metadata": {
    "colab": {
     "base_uri": "https://localhost:8080/"
    },
    "id": "qwAWZkfP1qPu",
    "outputId": "a0ae4d2d-4845-468f-dda0-19642c02b049"
   },
   "outputs": [],
   "source": [
    "hist_small = compile_and_fit(train_x_embeddings, train_y_encoded, small_model)"
   ]
  },
  {
   "cell_type": "code",
   "execution_count": null,
   "metadata": {
    "colab": {
     "base_uri": "https://localhost:8080/",
     "height": 542
    },
    "id": "L5uYZDfXbOgP",
    "outputId": "1f1a348f-463c-4a10-ced8-9d6c09b2de6d"
   },
   "outputs": [],
   "source": [
    "plot_history(hist_small)"
   ]
  },
  {
   "cell_type": "code",
   "execution_count": null,
   "metadata": {
    "colab": {
     "base_uri": "https://localhost:8080/",
     "height": 777
    },
    "id": "gSvjypGDFqjz",
    "outputId": "94af22e4-83ec-4dbe-8598-2aaa77762f78"
   },
   "outputs": [],
   "source": [
    "evaluate_mlp(small_model, val_x_embeddings, val_y_encoded)"
   ]
  },
  {
   "cell_type": "code",
   "execution_count": null,
   "metadata": {
    "id": "5NbXT0QYHsdI"
   },
   "outputs": [],
   "source": [
    "import time\n",
    "\n",
    "def pause():\n",
    "    try:\n",
    "      while True:\n",
    "          time.sleep(60)\n",
    "    except KeyboardInterrupt:\n",
    "      print(\"Stopped\")\n"
   ]
  },
  {
   "cell_type": "code",
   "execution_count": null,
   "metadata": {
    "id": "SwSO0QtpJcT2"
   },
   "outputs": [],
   "source": [
    "# pause()"
   ]
  }
 ],
 "metadata": {
  "accelerator": "GPU",
  "colab": {
   "gpuType": "T4",
   "machine_shape": "hm",
   "provenance": []
  },
  "kernelspec": {
   "display_name": "Python 3 (ipykernel)",
   "language": "python",
   "name": "python3"
  },
  "language_info": {
   "codemirror_mode": {
    "name": "ipython",
    "version": 3
   },
   "file_extension": ".py",
   "mimetype": "text/x-python",
   "name": "python",
   "nbconvert_exporter": "python",
   "pygments_lexer": "ipython3",
   "version": "3.12.4"
  },
  "widgets": {
   "application/vnd.jupyter.widget-state+json": {
    "00e0c84121bf46788e600c8d83dce734": {
     "model_module": "@jupyter-widgets/controls",
     "model_module_version": "1.5.0",
     "model_name": "HBoxModel",
     "state": {
      "_dom_classes": [],
      "_model_module": "@jupyter-widgets/controls",
      "_model_module_version": "1.5.0",
      "_model_name": "HBoxModel",
      "_view_count": null,
      "_view_module": "@jupyter-widgets/controls",
      "_view_module_version": "1.5.0",
      "_view_name": "HBoxView",
      "box_style": "",
      "children": [
       "IPY_MODEL_e6cef75b14594d22962609dbc4c6e0da",
       "IPY_MODEL_5dff7ae7d20c42a0a705d423d2048f74",
       "IPY_MODEL_f0d8998f523f4f0baf2ba65b5b17a83b"
      ],
      "layout": "IPY_MODEL_bb6a68fbb87d4d3294b3dfbcb0fb354d"
     }
    },
    "036457bf1cd24c858e03cfbbfb59a10e": {
     "model_module": "@jupyter-widgets/base",
     "model_module_version": "1.2.0",
     "model_name": "LayoutModel",
     "state": {
      "_model_module": "@jupyter-widgets/base",
      "_model_module_version": "1.2.0",
      "_model_name": "LayoutModel",
      "_view_count": null,
      "_view_module": "@jupyter-widgets/base",
      "_view_module_version": "1.2.0",
      "_view_name": "LayoutView",
      "align_content": null,
      "align_items": null,
      "align_self": null,
      "border": null,
      "bottom": null,
      "display": null,
      "flex": null,
      "flex_flow": null,
      "grid_area": null,
      "grid_auto_columns": null,
      "grid_auto_flow": null,
      "grid_auto_rows": null,
      "grid_column": null,
      "grid_gap": null,
      "grid_row": null,
      "grid_template_areas": null,
      "grid_template_columns": null,
      "grid_template_rows": null,
      "height": null,
      "justify_content": null,
      "justify_items": null,
      "left": null,
      "margin": null,
      "max_height": null,
      "max_width": null,
      "min_height": null,
      "min_width": null,
      "object_fit": null,
      "object_position": null,
      "order": null,
      "overflow": null,
      "overflow_x": null,
      "overflow_y": null,
      "padding": null,
      "right": null,
      "top": null,
      "visibility": null,
      "width": null
     }
    },
    "03d23d09640345deae6d8abcde6ac092": {
     "model_module": "@jupyter-widgets/base",
     "model_module_version": "1.2.0",
     "model_name": "LayoutModel",
     "state": {
      "_model_module": "@jupyter-widgets/base",
      "_model_module_version": "1.2.0",
      "_model_name": "LayoutModel",
      "_view_count": null,
      "_view_module": "@jupyter-widgets/base",
      "_view_module_version": "1.2.0",
      "_view_name": "LayoutView",
      "align_content": null,
      "align_items": null,
      "align_self": null,
      "border": null,
      "bottom": null,
      "display": null,
      "flex": null,
      "flex_flow": null,
      "grid_area": null,
      "grid_auto_columns": null,
      "grid_auto_flow": null,
      "grid_auto_rows": null,
      "grid_column": null,
      "grid_gap": null,
      "grid_row": null,
      "grid_template_areas": null,
      "grid_template_columns": null,
      "grid_template_rows": null,
      "height": null,
      "justify_content": null,
      "justify_items": null,
      "left": null,
      "margin": null,
      "max_height": null,
      "max_width": null,
      "min_height": null,
      "min_width": null,
      "object_fit": null,
      "object_position": null,
      "order": null,
      "overflow": null,
      "overflow_x": null,
      "overflow_y": null,
      "padding": null,
      "right": null,
      "top": null,
      "visibility": null,
      "width": null
     }
    },
    "042dc7ce508a42ea91f7460f800e646d": {
     "model_module": "@jupyter-widgets/controls",
     "model_module_version": "1.5.0",
     "model_name": "HTMLModel",
     "state": {
      "_dom_classes": [],
      "_model_module": "@jupyter-widgets/controls",
      "_model_module_version": "1.5.0",
      "_model_name": "HTMLModel",
      "_view_count": null,
      "_view_module": "@jupyter-widgets/controls",
      "_view_module_version": "1.5.0",
      "_view_name": "HTMLView",
      "description": "",
      "description_tooltip": null,
      "layout": "IPY_MODEL_5f9144c0f49148f3a7d139a3a7d48b11",
      "placeholder": "​",
      "style": "IPY_MODEL_72af08fcd38a447786450e8a6ff02989",
      "value": "modules.json: 100%"
     }
    },
    "057e19dcdd2b4931947ff8a20e9c490a": {
     "model_module": "@jupyter-widgets/controls",
     "model_module_version": "1.5.0",
     "model_name": "HBoxModel",
     "state": {
      "_dom_classes": [],
      "_model_module": "@jupyter-widgets/controls",
      "_model_module_version": "1.5.0",
      "_model_name": "HBoxModel",
      "_view_count": null,
      "_view_module": "@jupyter-widgets/controls",
      "_view_module_version": "1.5.0",
      "_view_name": "HBoxView",
      "box_style": "",
      "children": [
       "IPY_MODEL_de276a17fbb946499d8230807fbec348",
       "IPY_MODEL_c5f3d161e4f346948db2b555cb1bc80d",
       "IPY_MODEL_7d0e413e1d42425793410943245f0e1b"
      ],
      "layout": "IPY_MODEL_d69f18c439b24d0cad61b75182e9c0f6"
     }
    },
    "05db639868214063bf151a5805a8e06e": {
     "model_module": "@jupyter-widgets/controls",
     "model_module_version": "1.5.0",
     "model_name": "HTMLModel",
     "state": {
      "_dom_classes": [],
      "_model_module": "@jupyter-widgets/controls",
      "_model_module_version": "1.5.0",
      "_model_name": "HTMLModel",
      "_view_count": null,
      "_view_module": "@jupyter-widgets/controls",
      "_view_module_version": "1.5.0",
      "_view_name": "HTMLView",
      "description": "",
      "description_tooltip": null,
      "layout": "IPY_MODEL_4a7730ea91984597ac8cd4a18d380b7d",
      "placeholder": "​",
      "style": "IPY_MODEL_38e6f1855f7841edba4f7b03a1c8a8d7",
      "value": " 2.42M/2.42M [00:00&lt;00:00, 4.91MB/s]"
     }
    },
    "06691139cd6d402eb61466ef8263f05b": {
     "model_module": "@jupyter-widgets/controls",
     "model_module_version": "1.5.0",
     "model_name": "ProgressStyleModel",
     "state": {
      "_model_module": "@jupyter-widgets/controls",
      "_model_module_version": "1.5.0",
      "_model_name": "ProgressStyleModel",
      "_view_count": null,
      "_view_module": "@jupyter-widgets/base",
      "_view_module_version": "1.2.0",
      "_view_name": "StyleView",
      "bar_color": null,
      "description_width": ""
     }
    },
    "0702608ff71b401a939535813e0babb7": {
     "model_module": "@jupyter-widgets/controls",
     "model_module_version": "1.5.0",
     "model_name": "HTMLModel",
     "state": {
      "_dom_classes": [],
      "_model_module": "@jupyter-widgets/controls",
      "_model_module_version": "1.5.0",
      "_model_name": "HTMLModel",
      "_view_count": null,
      "_view_module": "@jupyter-widgets/controls",
      "_view_module_version": "1.5.0",
      "_view_name": "HTMLView",
      "description": "",
      "description_tooltip": null,
      "layout": "IPY_MODEL_87fa43af0e54431e859c3ff0fd3f4da2",
      "placeholder": "​",
      "style": "IPY_MODEL_3d131bc5111e45ab8c9605f3de5f78c4",
      "value": "tokenizer_config.json: 100%"
     }
    },
    "077d99e7ac584506acc5460925373f28": {
     "model_module": "@jupyter-widgets/controls",
     "model_module_version": "1.5.0",
     "model_name": "HTMLModel",
     "state": {
      "_dom_classes": [],
      "_model_module": "@jupyter-widgets/controls",
      "_model_module_version": "1.5.0",
      "_model_name": "HTMLModel",
      "_view_count": null,
      "_view_module": "@jupyter-widgets/controls",
      "_view_module_version": "1.5.0",
      "_view_name": "HTMLView",
      "description": "",
      "description_tooltip": null,
      "layout": "IPY_MODEL_68cf3376a5ee4ac6973ced01d93bcfe8",
      "placeholder": "​",
      "style": "IPY_MODEL_889f20f03eeb4681a683dc204e4fba09",
      "value": "config_sentence_transformers.json: 100%"
     }
    },
    "0836b551c14f43cd9cacc59e5daca670": {
     "model_module": "@jupyter-widgets/base",
     "model_module_version": "1.2.0",
     "model_name": "LayoutModel",
     "state": {
      "_model_module": "@jupyter-widgets/base",
      "_model_module_version": "1.2.0",
      "_model_name": "LayoutModel",
      "_view_count": null,
      "_view_module": "@jupyter-widgets/base",
      "_view_module_version": "1.2.0",
      "_view_name": "LayoutView",
      "align_content": null,
      "align_items": null,
      "align_self": null,
      "border": null,
      "bottom": null,
      "display": null,
      "flex": null,
      "flex_flow": null,
      "grid_area": null,
      "grid_auto_columns": null,
      "grid_auto_flow": null,
      "grid_auto_rows": null,
      "grid_column": null,
      "grid_gap": null,
      "grid_row": null,
      "grid_template_areas": null,
      "grid_template_columns": null,
      "grid_template_rows": null,
      "height": null,
      "justify_content": null,
      "justify_items": null,
      "left": null,
      "margin": null,
      "max_height": null,
      "max_width": null,
      "min_height": null,
      "min_width": null,
      "object_fit": null,
      "object_position": null,
      "order": null,
      "overflow": null,
      "overflow_x": null,
      "overflow_y": null,
      "padding": null,
      "right": null,
      "top": null,
      "visibility": null,
      "width": null
     }
    },
    "0963694f98c945cb8e53a9351ad9eb36": {
     "model_module": "@jupyter-widgets/base",
     "model_module_version": "1.2.0",
     "model_name": "LayoutModel",
     "state": {
      "_model_module": "@jupyter-widgets/base",
      "_model_module_version": "1.2.0",
      "_model_name": "LayoutModel",
      "_view_count": null,
      "_view_module": "@jupyter-widgets/base",
      "_view_module_version": "1.2.0",
      "_view_name": "LayoutView",
      "align_content": null,
      "align_items": null,
      "align_self": null,
      "border": null,
      "bottom": null,
      "display": null,
      "flex": null,
      "flex_flow": null,
      "grid_area": null,
      "grid_auto_columns": null,
      "grid_auto_flow": null,
      "grid_auto_rows": null,
      "grid_column": null,
      "grid_gap": null,
      "grid_row": null,
      "grid_template_areas": null,
      "grid_template_columns": null,
      "grid_template_rows": null,
      "height": null,
      "justify_content": null,
      "justify_items": null,
      "left": null,
      "margin": null,
      "max_height": null,
      "max_width": null,
      "min_height": null,
      "min_width": null,
      "object_fit": null,
      "object_position": null,
      "order": null,
      "overflow": null,
      "overflow_x": null,
      "overflow_y": null,
      "padding": null,
      "right": null,
      "top": null,
      "visibility": null,
      "width": null
     }
    },
    "09a73ff3bd6b428fbb4b1834d151ee22": {
     "model_module": "@jupyter-widgets/controls",
     "model_module_version": "1.5.0",
     "model_name": "HBoxModel",
     "state": {
      "_dom_classes": [],
      "_model_module": "@jupyter-widgets/controls",
      "_model_module_version": "1.5.0",
      "_model_name": "HBoxModel",
      "_view_count": null,
      "_view_module": "@jupyter-widgets/controls",
      "_view_module_version": "1.5.0",
      "_view_name": "HBoxView",
      "box_style": "",
      "children": [
       "IPY_MODEL_311fbed130a84b029e4be05e631cf195",
       "IPY_MODEL_48bd3ad450cb460a97ec3f23a9469a89",
       "IPY_MODEL_138c252c1d084c5cb3abcf5458cae463"
      ],
      "layout": "IPY_MODEL_4a9c9b019a0644f29ce82bb6e2f5531e"
     }
    },
    "0a0ce0294f6b4cb4936d42202dbe703d": {
     "model_module": "@jupyter-widgets/base",
     "model_module_version": "1.2.0",
     "model_name": "LayoutModel",
     "state": {
      "_model_module": "@jupyter-widgets/base",
      "_model_module_version": "1.2.0",
      "_model_name": "LayoutModel",
      "_view_count": null,
      "_view_module": "@jupyter-widgets/base",
      "_view_module_version": "1.2.0",
      "_view_name": "LayoutView",
      "align_content": null,
      "align_items": null,
      "align_self": null,
      "border": null,
      "bottom": null,
      "display": null,
      "flex": null,
      "flex_flow": null,
      "grid_area": null,
      "grid_auto_columns": null,
      "grid_auto_flow": null,
      "grid_auto_rows": null,
      "grid_column": null,
      "grid_gap": null,
      "grid_row": null,
      "grid_template_areas": null,
      "grid_template_columns": null,
      "grid_template_rows": null,
      "height": null,
      "justify_content": null,
      "justify_items": null,
      "left": null,
      "margin": null,
      "max_height": null,
      "max_width": null,
      "min_height": null,
      "min_width": null,
      "object_fit": null,
      "object_position": null,
      "order": null,
      "overflow": null,
      "overflow_x": null,
      "overflow_y": null,
      "padding": null,
      "right": null,
      "top": null,
      "visibility": null,
      "width": null
     }
    },
    "0e8c628e7dd94526abf5729378e3e957": {
     "model_module": "@jupyter-widgets/controls",
     "model_module_version": "1.5.0",
     "model_name": "HTMLModel",
     "state": {
      "_dom_classes": [],
      "_model_module": "@jupyter-widgets/controls",
      "_model_module_version": "1.5.0",
      "_model_name": "HTMLModel",
      "_view_count": null,
      "_view_module": "@jupyter-widgets/controls",
      "_view_module_version": "1.5.0",
      "_view_name": "HTMLView",
      "description": "",
      "description_tooltip": null,
      "layout": "IPY_MODEL_c0f97752b26c49309d3613148bbfef2f",
      "placeholder": "​",
      "style": "IPY_MODEL_1c9b885cf0b143f5b333f4f803b85bdf",
      "value": ".gitattributes: 100%"
     }
    },
    "0f41a55f8e9048928d9bdbe2beabe226": {
     "model_module": "@jupyter-widgets/controls",
     "model_module_version": "1.5.0",
     "model_name": "HTMLModel",
     "state": {
      "_dom_classes": [],
      "_model_module": "@jupyter-widgets/controls",
      "_model_module_version": "1.5.0",
      "_model_name": "HTMLModel",
      "_view_count": null,
      "_view_module": "@jupyter-widgets/controls",
      "_view_module_version": "1.5.0",
      "_view_name": "HTMLView",
      "description": "",
      "description_tooltip": null,
      "layout": "IPY_MODEL_03d23d09640345deae6d8abcde6ac092",
      "placeholder": "​",
      "style": "IPY_MODEL_72f58a97c7b4400bb46f43064c968401",
      "value": " 53.0/53.0 [00:00&lt;00:00, 4.54kB/s]"
     }
    },
    "0f49fb8b93e14522a1dd7e7cdae5fa9a": {
     "model_module": "@jupyter-widgets/controls",
     "model_module_version": "1.5.0",
     "model_name": "HBoxModel",
     "state": {
      "_dom_classes": [],
      "_model_module": "@jupyter-widgets/controls",
      "_model_module_version": "1.5.0",
      "_model_name": "HBoxModel",
      "_view_count": null,
      "_view_module": "@jupyter-widgets/controls",
      "_view_module_version": "1.5.0",
      "_view_name": "HBoxView",
      "box_style": "",
      "children": [
       "IPY_MODEL_042dc7ce508a42ea91f7460f800e646d",
       "IPY_MODEL_c2b2ba7505ab4fc88630ed052e2a184c",
       "IPY_MODEL_216b415af5334e3dadcbe9b25dae0bff"
      ],
      "layout": "IPY_MODEL_38986974c071441c80a69bccc6d20ef7"
     }
    },
    "10c2f56a309a417493ce35ecab3c2c89": {
     "model_module": "@jupyter-widgets/base",
     "model_module_version": "1.2.0",
     "model_name": "LayoutModel",
     "state": {
      "_model_module": "@jupyter-widgets/base",
      "_model_module_version": "1.2.0",
      "_model_name": "LayoutModel",
      "_view_count": null,
      "_view_module": "@jupyter-widgets/base",
      "_view_module_version": "1.2.0",
      "_view_name": "LayoutView",
      "align_content": null,
      "align_items": null,
      "align_self": null,
      "border": null,
      "bottom": null,
      "display": null,
      "flex": null,
      "flex_flow": null,
      "grid_area": null,
      "grid_auto_columns": null,
      "grid_auto_flow": null,
      "grid_auto_rows": null,
      "grid_column": null,
      "grid_gap": null,
      "grid_row": null,
      "grid_template_areas": null,
      "grid_template_columns": null,
      "grid_template_rows": null,
      "height": null,
      "justify_content": null,
      "justify_items": null,
      "left": null,
      "margin": null,
      "max_height": null,
      "max_width": null,
      "min_height": null,
      "min_width": null,
      "object_fit": null,
      "object_position": null,
      "order": null,
      "overflow": null,
      "overflow_x": null,
      "overflow_y": null,
      "padding": null,
      "right": null,
      "top": null,
      "visibility": null,
      "width": null
     }
    },
    "126dc5209d8249abaebc0fddde950492": {
     "model_module": "@jupyter-widgets/base",
     "model_module_version": "1.2.0",
     "model_name": "LayoutModel",
     "state": {
      "_model_module": "@jupyter-widgets/base",
      "_model_module_version": "1.2.0",
      "_model_name": "LayoutModel",
      "_view_count": null,
      "_view_module": "@jupyter-widgets/base",
      "_view_module_version": "1.2.0",
      "_view_name": "LayoutView",
      "align_content": null,
      "align_items": null,
      "align_self": null,
      "border": null,
      "bottom": null,
      "display": null,
      "flex": null,
      "flex_flow": null,
      "grid_area": null,
      "grid_auto_columns": null,
      "grid_auto_flow": null,
      "grid_auto_rows": null,
      "grid_column": null,
      "grid_gap": null,
      "grid_row": null,
      "grid_template_areas": null,
      "grid_template_columns": null,
      "grid_template_rows": null,
      "height": null,
      "justify_content": null,
      "justify_items": null,
      "left": null,
      "margin": null,
      "max_height": null,
      "max_width": null,
      "min_height": null,
      "min_width": null,
      "object_fit": null,
      "object_position": null,
      "order": null,
      "overflow": null,
      "overflow_x": null,
      "overflow_y": null,
      "padding": null,
      "right": null,
      "top": null,
      "visibility": null,
      "width": null
     }
    },
    "12dc7b4e9b37436c96e605b256f378a3": {
     "model_module": "@jupyter-widgets/base",
     "model_module_version": "1.2.0",
     "model_name": "LayoutModel",
     "state": {
      "_model_module": "@jupyter-widgets/base",
      "_model_module_version": "1.2.0",
      "_model_name": "LayoutModel",
      "_view_count": null,
      "_view_module": "@jupyter-widgets/base",
      "_view_module_version": "1.2.0",
      "_view_name": "LayoutView",
      "align_content": null,
      "align_items": null,
      "align_self": null,
      "border": null,
      "bottom": null,
      "display": null,
      "flex": null,
      "flex_flow": null,
      "grid_area": null,
      "grid_auto_columns": null,
      "grid_auto_flow": null,
      "grid_auto_rows": null,
      "grid_column": null,
      "grid_gap": null,
      "grid_row": null,
      "grid_template_areas": null,
      "grid_template_columns": null,
      "grid_template_rows": null,
      "height": null,
      "justify_content": null,
      "justify_items": null,
      "left": null,
      "margin": null,
      "max_height": null,
      "max_width": null,
      "min_height": null,
      "min_width": null,
      "object_fit": null,
      "object_position": null,
      "order": null,
      "overflow": null,
      "overflow_x": null,
      "overflow_y": null,
      "padding": null,
      "right": null,
      "top": null,
      "visibility": null,
      "width": null
     }
    },
    "132fa4263e3d4881ab5e9879cd986f4c": {
     "model_module": "@jupyter-widgets/base",
     "model_module_version": "1.2.0",
     "model_name": "LayoutModel",
     "state": {
      "_model_module": "@jupyter-widgets/base",
      "_model_module_version": "1.2.0",
      "_model_name": "LayoutModel",
      "_view_count": null,
      "_view_module": "@jupyter-widgets/base",
      "_view_module_version": "1.2.0",
      "_view_name": "LayoutView",
      "align_content": null,
      "align_items": null,
      "align_self": null,
      "border": null,
      "bottom": null,
      "display": null,
      "flex": null,
      "flex_flow": null,
      "grid_area": null,
      "grid_auto_columns": null,
      "grid_auto_flow": null,
      "grid_auto_rows": null,
      "grid_column": null,
      "grid_gap": null,
      "grid_row": null,
      "grid_template_areas": null,
      "grid_template_columns": null,
      "grid_template_rows": null,
      "height": null,
      "justify_content": null,
      "justify_items": null,
      "left": null,
      "margin": null,
      "max_height": null,
      "max_width": null,
      "min_height": null,
      "min_width": null,
      "object_fit": null,
      "object_position": null,
      "order": null,
      "overflow": null,
      "overflow_x": null,
      "overflow_y": null,
      "padding": null,
      "right": null,
      "top": null,
      "visibility": null,
      "width": null
     }
    },
    "138c252c1d084c5cb3abcf5458cae463": {
     "model_module": "@jupyter-widgets/controls",
     "model_module_version": "1.5.0",
     "model_name": "HTMLModel",
     "state": {
      "_dom_classes": [],
      "_model_module": "@jupyter-widgets/controls",
      "_model_module_version": "1.5.0",
      "_model_name": "HTMLModel",
      "_view_count": null,
      "_view_module": "@jupyter-widgets/controls",
      "_view_module_version": "1.5.0",
      "_view_name": "HTMLView",
      "description": "",
      "description_tooltip": null,
      "layout": "IPY_MODEL_b2bd0d06f829443d91cf19aedb9881bf",
      "placeholder": "​",
      "style": "IPY_MODEL_6da3d9ef22994ca8920e174446f27d03",
      "value": " 66.3k/66.3k [00:00&lt;00:00, 3.77MB/s]"
     }
    },
    "18f3844d33c94924ab88157e420e43bb": {
     "model_module": "@jupyter-widgets/controls",
     "model_module_version": "1.5.0",
     "model_name": "ProgressStyleModel",
     "state": {
      "_model_module": "@jupyter-widgets/controls",
      "_model_module_version": "1.5.0",
      "_model_name": "ProgressStyleModel",
      "_view_count": null,
      "_view_module": "@jupyter-widgets/base",
      "_view_module_version": "1.2.0",
      "_view_name": "StyleView",
      "bar_color": null,
      "description_width": ""
     }
    },
    "1a7524bd04024443b94c0f0d6b612707": {
     "model_module": "@jupyter-widgets/base",
     "model_module_version": "1.2.0",
     "model_name": "LayoutModel",
     "state": {
      "_model_module": "@jupyter-widgets/base",
      "_model_module_version": "1.2.0",
      "_model_name": "LayoutModel",
      "_view_count": null,
      "_view_module": "@jupyter-widgets/base",
      "_view_module_version": "1.2.0",
      "_view_name": "LayoutView",
      "align_content": null,
      "align_items": null,
      "align_self": null,
      "border": null,
      "bottom": null,
      "display": null,
      "flex": null,
      "flex_flow": null,
      "grid_area": null,
      "grid_auto_columns": null,
      "grid_auto_flow": null,
      "grid_auto_rows": null,
      "grid_column": null,
      "grid_gap": null,
      "grid_row": null,
      "grid_template_areas": null,
      "grid_template_columns": null,
      "grid_template_rows": null,
      "height": null,
      "justify_content": null,
      "justify_items": null,
      "left": null,
      "margin": null,
      "max_height": null,
      "max_width": null,
      "min_height": null,
      "min_width": null,
      "object_fit": null,
      "object_position": null,
      "order": null,
      "overflow": null,
      "overflow_x": null,
      "overflow_y": null,
      "padding": null,
      "right": null,
      "top": null,
      "visibility": null,
      "width": null
     }
    },
    "1c9b885cf0b143f5b333f4f803b85bdf": {
     "model_module": "@jupyter-widgets/controls",
     "model_module_version": "1.5.0",
     "model_name": "DescriptionStyleModel",
     "state": {
      "_model_module": "@jupyter-widgets/controls",
      "_model_module_version": "1.5.0",
      "_model_name": "DescriptionStyleModel",
      "_view_count": null,
      "_view_module": "@jupyter-widgets/base",
      "_view_module_version": "1.2.0",
      "_view_name": "StyleView",
      "description_width": ""
     }
    },
    "1d081a8349e146c59b3ea7b254272152": {
     "model_module": "@jupyter-widgets/base",
     "model_module_version": "1.2.0",
     "model_name": "LayoutModel",
     "state": {
      "_model_module": "@jupyter-widgets/base",
      "_model_module_version": "1.2.0",
      "_model_name": "LayoutModel",
      "_view_count": null,
      "_view_module": "@jupyter-widgets/base",
      "_view_module_version": "1.2.0",
      "_view_name": "LayoutView",
      "align_content": null,
      "align_items": null,
      "align_self": null,
      "border": null,
      "bottom": null,
      "display": null,
      "flex": null,
      "flex_flow": null,
      "grid_area": null,
      "grid_auto_columns": null,
      "grid_auto_flow": null,
      "grid_auto_rows": null,
      "grid_column": null,
      "grid_gap": null,
      "grid_row": null,
      "grid_template_areas": null,
      "grid_template_columns": null,
      "grid_template_rows": null,
      "height": null,
      "justify_content": null,
      "justify_items": null,
      "left": null,
      "margin": null,
      "max_height": null,
      "max_width": null,
      "min_height": null,
      "min_width": null,
      "object_fit": null,
      "object_position": null,
      "order": null,
      "overflow": null,
      "overflow_x": null,
      "overflow_y": null,
      "padding": null,
      "right": null,
      "top": null,
      "visibility": null,
      "width": null
     }
    },
    "207ecef7fac044ecb84479afc38c96dd": {
     "model_module": "@jupyter-widgets/controls",
     "model_module_version": "1.5.0",
     "model_name": "HTMLModel",
     "state": {
      "_dom_classes": [],
      "_model_module": "@jupyter-widgets/controls",
      "_model_module_version": "1.5.0",
      "_model_name": "HTMLModel",
      "_view_count": null,
      "_view_module": "@jupyter-widgets/controls",
      "_view_module_version": "1.5.0",
      "_view_name": "HTMLView",
      "description": "",
      "description_tooltip": null,
      "layout": "IPY_MODEL_b4aef7d276014b079b292ac1a498a1e6",
      "placeholder": "​",
      "style": "IPY_MODEL_e6fd635ad64b425d9ad4adde376138e9",
      "value": " 122/122 [00:00&lt;00:00, 10.4kB/s]"
     }
    },
    "208e03adc48049b4923571496728e7f7": {
     "model_module": "@jupyter-widgets/controls",
     "model_module_version": "1.5.0",
     "model_name": "FloatProgressModel",
     "state": {
      "_dom_classes": [],
      "_model_module": "@jupyter-widgets/controls",
      "_model_module_version": "1.5.0",
      "_model_name": "FloatProgressModel",
      "_view_count": null,
      "_view_module": "@jupyter-widgets/controls",
      "_view_module_version": "1.5.0",
      "_view_name": "ProgressView",
      "bar_style": "success",
      "description": "",
      "description_tooltip": null,
      "layout": "IPY_MODEL_c51a2338d94b471f978ddf2ad24647f4",
      "max": 1529,
      "min": 0,
      "orientation": "horizontal",
      "style": "IPY_MODEL_2a9fc160be504213b11a11ff315ac085",
      "value": 1529
     }
    },
    "216b415af5334e3dadcbe9b25dae0bff": {
     "model_module": "@jupyter-widgets/controls",
     "model_module_version": "1.5.0",
     "model_name": "HTMLModel",
     "state": {
      "_dom_classes": [],
      "_model_module": "@jupyter-widgets/controls",
      "_model_module_version": "1.5.0",
      "_model_name": "HTMLModel",
      "_view_count": null,
      "_view_module": "@jupyter-widgets/controls",
      "_view_module_version": "1.5.0",
      "_view_name": "HTMLView",
      "description": "",
      "description_tooltip": null,
      "layout": "IPY_MODEL_12dc7b4e9b37436c96e605b256f378a3",
      "placeholder": "​",
      "style": "IPY_MODEL_5120fe698faf44bcba20a3dc69e9f830",
      "value": " 461/461 [00:00&lt;00:00, 39.2kB/s]"
     }
    },
    "2191229d7e4e44f680bae1b582d7d2ad": {
     "model_module": "@jupyter-widgets/base",
     "model_module_version": "1.2.0",
     "model_name": "LayoutModel",
     "state": {
      "_model_module": "@jupyter-widgets/base",
      "_model_module_version": "1.2.0",
      "_model_name": "LayoutModel",
      "_view_count": null,
      "_view_module": "@jupyter-widgets/base",
      "_view_module_version": "1.2.0",
      "_view_name": "LayoutView",
      "align_content": null,
      "align_items": null,
      "align_self": null,
      "border": null,
      "bottom": null,
      "display": null,
      "flex": null,
      "flex_flow": null,
      "grid_area": null,
      "grid_auto_columns": null,
      "grid_auto_flow": null,
      "grid_auto_rows": null,
      "grid_column": null,
      "grid_gap": null,
      "grid_row": null,
      "grid_template_areas": null,
      "grid_template_columns": null,
      "grid_template_rows": null,
      "height": null,
      "justify_content": null,
      "justify_items": null,
      "left": null,
      "margin": null,
      "max_height": null,
      "max_width": null,
      "min_height": null,
      "min_width": null,
      "object_fit": null,
      "object_position": null,
      "order": null,
      "overflow": null,
      "overflow_x": null,
      "overflow_y": null,
      "padding": null,
      "right": null,
      "top": null,
      "visibility": null,
      "width": null
     }
    },
    "21a9554241dd412db3d387b355a79a44": {
     "model_module": "@jupyter-widgets/controls",
     "model_module_version": "1.5.0",
     "model_name": "HTMLModel",
     "state": {
      "_dom_classes": [],
      "_model_module": "@jupyter-widgets/controls",
      "_model_module_version": "1.5.0",
      "_model_name": "HTMLModel",
      "_view_count": null,
      "_view_module": "@jupyter-widgets/controls",
      "_view_module_version": "1.5.0",
      "_view_name": "HTMLView",
      "description": "",
      "description_tooltip": null,
      "layout": "IPY_MODEL_77c478c97b4342eea17d19db7c7552d2",
      "placeholder": "​",
      "style": "IPY_MODEL_21e2268bff8b4c5390844b91d0df7c09",
      "value": "config.json: 100%"
     }
    },
    "21e2268bff8b4c5390844b91d0df7c09": {
     "model_module": "@jupyter-widgets/controls",
     "model_module_version": "1.5.0",
     "model_name": "DescriptionStyleModel",
     "state": {
      "_model_module": "@jupyter-widgets/controls",
      "_model_module_version": "1.5.0",
      "_model_name": "DescriptionStyleModel",
      "_view_count": null,
      "_view_module": "@jupyter-widgets/base",
      "_view_module_version": "1.2.0",
      "_view_name": "StyleView",
      "description_width": ""
     }
    },
    "2661744d046b49118af1a4872e67b89a": {
     "model_module": "@jupyter-widgets/controls",
     "model_module_version": "1.5.0",
     "model_name": "FloatProgressModel",
     "state": {
      "_dom_classes": [],
      "_model_module": "@jupyter-widgets/controls",
      "_model_module_version": "1.5.0",
      "_model_name": "FloatProgressModel",
      "_view_count": null,
      "_view_module": "@jupyter-widgets/controls",
      "_view_module_version": "1.5.0",
      "_view_name": "ProgressView",
      "bar_style": "success",
      "description": "",
      "description_tooltip": null,
      "layout": "IPY_MODEL_e05ecebbccf041bfbba253c23cfe8c1a",
      "max": 2422360,
      "min": 0,
      "orientation": "horizontal",
      "style": "IPY_MODEL_6651b28344224780b800372d249055ac",
      "value": 2422360
     }
    },
    "2949c835f81846769f8019be9ab51db8": {
     "model_module": "@jupyter-widgets/base",
     "model_module_version": "1.2.0",
     "model_name": "LayoutModel",
     "state": {
      "_model_module": "@jupyter-widgets/base",
      "_model_module_version": "1.2.0",
      "_model_name": "LayoutModel",
      "_view_count": null,
      "_view_module": "@jupyter-widgets/base",
      "_view_module_version": "1.2.0",
      "_view_name": "LayoutView",
      "align_content": null,
      "align_items": null,
      "align_self": null,
      "border": null,
      "bottom": null,
      "display": null,
      "flex": null,
      "flex_flow": null,
      "grid_area": null,
      "grid_auto_columns": null,
      "grid_auto_flow": null,
      "grid_auto_rows": null,
      "grid_column": null,
      "grid_gap": null,
      "grid_row": null,
      "grid_template_areas": null,
      "grid_template_columns": null,
      "grid_template_rows": null,
      "height": null,
      "justify_content": null,
      "justify_items": null,
      "left": null,
      "margin": null,
      "max_height": null,
      "max_width": null,
      "min_height": null,
      "min_width": null,
      "object_fit": null,
      "object_position": null,
      "order": null,
      "overflow": null,
      "overflow_x": null,
      "overflow_y": null,
      "padding": null,
      "right": null,
      "top": null,
      "visibility": null,
      "width": null
     }
    },
    "2a6ddc97f5db42d3b7660669c279021b": {
     "model_module": "@jupyter-widgets/controls",
     "model_module_version": "1.5.0",
     "model_name": "DescriptionStyleModel",
     "state": {
      "_model_module": "@jupyter-widgets/controls",
      "_model_module_version": "1.5.0",
      "_model_name": "DescriptionStyleModel",
      "_view_count": null,
      "_view_module": "@jupyter-widgets/base",
      "_view_module_version": "1.2.0",
      "_view_name": "StyleView",
      "description_width": ""
     }
    },
    "2a943816a6894fb7b0192735c223fed5": {
     "model_module": "@jupyter-widgets/base",
     "model_module_version": "1.2.0",
     "model_name": "LayoutModel",
     "state": {
      "_model_module": "@jupyter-widgets/base",
      "_model_module_version": "1.2.0",
      "_model_name": "LayoutModel",
      "_view_count": null,
      "_view_module": "@jupyter-widgets/base",
      "_view_module_version": "1.2.0",
      "_view_name": "LayoutView",
      "align_content": null,
      "align_items": null,
      "align_self": null,
      "border": null,
      "bottom": null,
      "display": null,
      "flex": null,
      "flex_flow": null,
      "grid_area": null,
      "grid_auto_columns": null,
      "grid_auto_flow": null,
      "grid_auto_rows": null,
      "grid_column": null,
      "grid_gap": null,
      "grid_row": null,
      "grid_template_areas": null,
      "grid_template_columns": null,
      "grid_template_rows": null,
      "height": null,
      "justify_content": null,
      "justify_items": null,
      "left": null,
      "margin": null,
      "max_height": null,
      "max_width": null,
      "min_height": null,
      "min_width": null,
      "object_fit": null,
      "object_position": null,
      "order": null,
      "overflow": null,
      "overflow_x": null,
      "overflow_y": null,
      "padding": null,
      "right": null,
      "top": null,
      "visibility": null,
      "width": null
     }
    },
    "2a9fc160be504213b11a11ff315ac085": {
     "model_module": "@jupyter-widgets/controls",
     "model_module_version": "1.5.0",
     "model_name": "ProgressStyleModel",
     "state": {
      "_model_module": "@jupyter-widgets/controls",
      "_model_module_version": "1.5.0",
      "_model_name": "ProgressStyleModel",
      "_view_count": null,
      "_view_module": "@jupyter-widgets/base",
      "_view_module_version": "1.2.0",
      "_view_name": "StyleView",
      "bar_color": null,
      "description_width": ""
     }
    },
    "2ddb62492fb4431f91db9a326b912441": {
     "model_module": "@jupyter-widgets/controls",
     "model_module_version": "1.5.0",
     "model_name": "DescriptionStyleModel",
     "state": {
      "_model_module": "@jupyter-widgets/controls",
      "_model_module_version": "1.5.0",
      "_model_name": "DescriptionStyleModel",
      "_view_count": null,
      "_view_module": "@jupyter-widgets/base",
      "_view_module_version": "1.2.0",
      "_view_name": "StyleView",
      "description_width": ""
     }
    },
    "30480a3d55d14093b39bd73c8ef3c415": {
     "model_module": "@jupyter-widgets/controls",
     "model_module_version": "1.5.0",
     "model_name": "FloatProgressModel",
     "state": {
      "_dom_classes": [],
      "_model_module": "@jupyter-widgets/controls",
      "_model_module_version": "1.5.0",
      "_model_name": "FloatProgressModel",
      "_view_count": null,
      "_view_module": "@jupyter-widgets/controls",
      "_view_module_version": "1.5.0",
      "_view_name": "ProgressView",
      "bar_style": "success",
      "description": "",
      "description_tooltip": null,
      "layout": "IPY_MODEL_504a0db521cf4c57b7e05cb4c0d8d200",
      "max": 53,
      "min": 0,
      "orientation": "horizontal",
      "style": "IPY_MODEL_395780dfffc54c11a9b4bf17afc9a893",
      "value": 53
     }
    },
    "311fbed130a84b029e4be05e631cf195": {
     "model_module": "@jupyter-widgets/controls",
     "model_module_version": "1.5.0",
     "model_name": "HTMLModel",
     "state": {
      "_dom_classes": [],
      "_model_module": "@jupyter-widgets/controls",
      "_model_module_version": "1.5.0",
      "_model_name": "HTMLModel",
      "_view_count": null,
      "_view_module": "@jupyter-widgets/controls",
      "_view_module_version": "1.5.0",
      "_view_name": "HTMLView",
      "description": "",
      "description_tooltip": null,
      "layout": "IPY_MODEL_1d081a8349e146c59b3ea7b254272152",
      "placeholder": "​",
      "style": "IPY_MODEL_923eb87ff68344cab0cd9e33d4b4a5c8",
      "value": "README.md: 100%"
     }
    },
    "3165f688bbdb4c82b03ace4fbecabb22": {
     "model_module": "@jupyter-widgets/controls",
     "model_module_version": "1.5.0",
     "model_name": "HTMLModel",
     "state": {
      "_dom_classes": [],
      "_model_module": "@jupyter-widgets/controls",
      "_model_module_version": "1.5.0",
      "_model_name": "HTMLModel",
      "_view_count": null,
      "_view_module": "@jupyter-widgets/controls",
      "_view_module_version": "1.5.0",
      "_view_name": "HTMLView",
      "description": "",
      "description_tooltip": null,
      "layout": "IPY_MODEL_c5d5d6239121442385e57d5a2d8b652c",
      "placeholder": "​",
      "style": "IPY_MODEL_886524d22b7543e8a607694e756dec3b",
      "value": "1_Pooling/config.json: 100%"
     }
    },
    "38986974c071441c80a69bccc6d20ef7": {
     "model_module": "@jupyter-widgets/base",
     "model_module_version": "1.2.0",
     "model_name": "LayoutModel",
     "state": {
      "_model_module": "@jupyter-widgets/base",
      "_model_module_version": "1.2.0",
      "_model_name": "LayoutModel",
      "_view_count": null,
      "_view_module": "@jupyter-widgets/base",
      "_view_module_version": "1.2.0",
      "_view_name": "LayoutView",
      "align_content": null,
      "align_items": null,
      "align_self": null,
      "border": null,
      "bottom": null,
      "display": null,
      "flex": null,
      "flex_flow": null,
      "grid_area": null,
      "grid_auto_columns": null,
      "grid_auto_flow": null,
      "grid_auto_rows": null,
      "grid_column": null,
      "grid_gap": null,
      "grid_row": null,
      "grid_template_areas": null,
      "grid_template_columns": null,
      "grid_template_rows": null,
      "height": null,
      "justify_content": null,
      "justify_items": null,
      "left": null,
      "margin": null,
      "max_height": null,
      "max_width": null,
      "min_height": null,
      "min_width": null,
      "object_fit": null,
      "object_position": null,
      "order": null,
      "overflow": null,
      "overflow_x": null,
      "overflow_y": null,
      "padding": null,
      "right": null,
      "top": null,
      "visibility": null,
      "width": null
     }
    },
    "38e6f1855f7841edba4f7b03a1c8a8d7": {
     "model_module": "@jupyter-widgets/controls",
     "model_module_version": "1.5.0",
     "model_name": "DescriptionStyleModel",
     "state": {
      "_model_module": "@jupyter-widgets/controls",
      "_model_module_version": "1.5.0",
      "_model_name": "DescriptionStyleModel",
      "_view_count": null,
      "_view_module": "@jupyter-widgets/base",
      "_view_module_version": "1.2.0",
      "_view_name": "StyleView",
      "description_width": ""
     }
    },
    "395780dfffc54c11a9b4bf17afc9a893": {
     "model_module": "@jupyter-widgets/controls",
     "model_module_version": "1.5.0",
     "model_name": "ProgressStyleModel",
     "state": {
      "_model_module": "@jupyter-widgets/controls",
      "_model_module_version": "1.5.0",
      "_model_name": "ProgressStyleModel",
      "_view_count": null,
      "_view_module": "@jupyter-widgets/base",
      "_view_module_version": "1.2.0",
      "_view_name": "StyleView",
      "bar_color": null,
      "description_width": ""
     }
    },
    "3a018951e579491fadcd575860fefe5a": {
     "model_module": "@jupyter-widgets/base",
     "model_module_version": "1.2.0",
     "model_name": "LayoutModel",
     "state": {
      "_model_module": "@jupyter-widgets/base",
      "_model_module_version": "1.2.0",
      "_model_name": "LayoutModel",
      "_view_count": null,
      "_view_module": "@jupyter-widgets/base",
      "_view_module_version": "1.2.0",
      "_view_name": "LayoutView",
      "align_content": null,
      "align_items": null,
      "align_self": null,
      "border": null,
      "bottom": null,
      "display": null,
      "flex": null,
      "flex_flow": null,
      "grid_area": null,
      "grid_auto_columns": null,
      "grid_auto_flow": null,
      "grid_auto_rows": null,
      "grid_column": null,
      "grid_gap": null,
      "grid_row": null,
      "grid_template_areas": null,
      "grid_template_columns": null,
      "grid_template_rows": null,
      "height": null,
      "justify_content": null,
      "justify_items": null,
      "left": null,
      "margin": null,
      "max_height": null,
      "max_width": null,
      "min_height": null,
      "min_width": null,
      "object_fit": null,
      "object_position": null,
      "order": null,
      "overflow": null,
      "overflow_x": null,
      "overflow_y": null,
      "padding": null,
      "right": null,
      "top": null,
      "visibility": null,
      "width": null
     }
    },
    "3d131bc5111e45ab8c9605f3de5f78c4": {
     "model_module": "@jupyter-widgets/controls",
     "model_module_version": "1.5.0",
     "model_name": "DescriptionStyleModel",
     "state": {
      "_model_module": "@jupyter-widgets/controls",
      "_model_module_version": "1.5.0",
      "_model_name": "DescriptionStyleModel",
      "_view_count": null,
      "_view_module": "@jupyter-widgets/base",
      "_view_module_version": "1.2.0",
      "_view_name": "StyleView",
      "description_width": ""
     }
    },
    "3ec2bba01a2c4842983236d5237a8503": {
     "model_module": "@jupyter-widgets/controls",
     "model_module_version": "1.5.0",
     "model_name": "HBoxModel",
     "state": {
      "_dom_classes": [],
      "_model_module": "@jupyter-widgets/controls",
      "_model_module_version": "1.5.0",
      "_model_name": "HBoxModel",
      "_view_count": null,
      "_view_module": "@jupyter-widgets/controls",
      "_view_module_version": "1.5.0",
      "_view_name": "HBoxView",
      "box_style": "",
      "children": [
       "IPY_MODEL_3165f688bbdb4c82b03ace4fbecabb22",
       "IPY_MODEL_82f3b36b61cd4328bdf1595e1f0f2e21",
       "IPY_MODEL_e5416231df8c456e9db2d70b1eecba3d"
      ],
      "layout": "IPY_MODEL_ee1b8c9ed6fd475f9b9c50544cf6895b"
     }
    },
    "3fae30cf6d0c4d679acd4c5808016811": {
     "model_module": "@jupyter-widgets/controls",
     "model_module_version": "1.5.0",
     "model_name": "HBoxModel",
     "state": {
      "_dom_classes": [],
      "_model_module": "@jupyter-widgets/controls",
      "_model_module_version": "1.5.0",
      "_model_name": "HBoxModel",
      "_view_count": null,
      "_view_module": "@jupyter-widgets/controls",
      "_view_module_version": "1.5.0",
      "_view_name": "HBoxView",
      "box_style": "",
      "children": [
       "IPY_MODEL_077d99e7ac584506acc5460925373f28",
       "IPY_MODEL_a34decc761ea4a609b0962e82779ba44",
       "IPY_MODEL_207ecef7fac044ecb84479afc38c96dd"
      ],
      "layout": "IPY_MODEL_bcf0f43316ac41b4b45c29c292ba44de"
     }
    },
    "431ff6a2674d4a64869aa3182aea81d6": {
     "model_module": "@jupyter-widgets/controls",
     "model_module_version": "1.5.0",
     "model_name": "DescriptionStyleModel",
     "state": {
      "_model_module": "@jupyter-widgets/controls",
      "_model_module_version": "1.5.0",
      "_model_name": "DescriptionStyleModel",
      "_view_count": null,
      "_view_module": "@jupyter-widgets/base",
      "_view_module_version": "1.2.0",
      "_view_name": "StyleView",
      "description_width": ""
     }
    },
    "4345d14d29204f89a1e24458621a4d19": {
     "model_module": "@jupyter-widgets/controls",
     "model_module_version": "1.5.0",
     "model_name": "FloatProgressModel",
     "state": {
      "_dom_classes": [],
      "_model_module": "@jupyter-widgets/controls",
      "_model_module_version": "1.5.0",
      "_model_name": "FloatProgressModel",
      "_view_count": null,
      "_view_module": "@jupyter-widgets/controls",
      "_view_module_version": "1.5.0",
      "_view_name": "ProgressView",
      "bar_style": "success",
      "description": "",
      "description_tooltip": null,
      "layout": "IPY_MODEL_126dc5209d8249abaebc0fddde950492",
      "max": 2407,
      "min": 0,
      "orientation": "horizontal",
      "style": "IPY_MODEL_d501911f2f8d4b5584d47d938eeb635a",
      "value": 2407
     }
    },
    "43a5d52f78be45058283005e206d4afc": {
     "model_module": "@jupyter-widgets/base",
     "model_module_version": "1.2.0",
     "model_name": "LayoutModel",
     "state": {
      "_model_module": "@jupyter-widgets/base",
      "_model_module_version": "1.2.0",
      "_model_name": "LayoutModel",
      "_view_count": null,
      "_view_module": "@jupyter-widgets/base",
      "_view_module_version": "1.2.0",
      "_view_name": "LayoutView",
      "align_content": null,
      "align_items": null,
      "align_self": null,
      "border": null,
      "bottom": null,
      "display": null,
      "flex": null,
      "flex_flow": null,
      "grid_area": null,
      "grid_auto_columns": null,
      "grid_auto_flow": null,
      "grid_auto_rows": null,
      "grid_column": null,
      "grid_gap": null,
      "grid_row": null,
      "grid_template_areas": null,
      "grid_template_columns": null,
      "grid_template_rows": null,
      "height": null,
      "justify_content": null,
      "justify_items": null,
      "left": null,
      "margin": null,
      "max_height": null,
      "max_width": null,
      "min_height": null,
      "min_width": null,
      "object_fit": null,
      "object_position": null,
      "order": null,
      "overflow": null,
      "overflow_x": null,
      "overflow_y": null,
      "padding": null,
      "right": null,
      "top": null,
      "visibility": null,
      "width": null
     }
    },
    "46fb313743cd4143b8c635fb19bec7b2": {
     "model_module": "@jupyter-widgets/controls",
     "model_module_version": "1.5.0",
     "model_name": "FloatProgressModel",
     "state": {
      "_dom_classes": [],
      "_model_module": "@jupyter-widgets/controls",
      "_model_module_version": "1.5.0",
      "_model_name": "FloatProgressModel",
      "_view_count": null,
      "_view_module": "@jupyter-widgets/controls",
      "_view_module_version": "1.5.0",
      "_view_name": "ProgressView",
      "bar_style": "success",
      "description": "",
      "description_tooltip": null,
      "layout": "IPY_MODEL_942f85ef8dd5490cab944141fa826660",
      "max": 1339823867,
      "min": 0,
      "orientation": "horizontal",
      "style": "IPY_MODEL_dd532fb7dba645018a9b97612ba9dd97",
      "value": 1339823867
     }
    },
    "476592e05d9a43bd96081d4f682081b7": {
     "model_module": "@jupyter-widgets/controls",
     "model_module_version": "1.5.0",
     "model_name": "DescriptionStyleModel",
     "state": {
      "_model_module": "@jupyter-widgets/controls",
      "_model_module_version": "1.5.0",
      "_model_name": "DescriptionStyleModel",
      "_view_count": null,
      "_view_module": "@jupyter-widgets/base",
      "_view_module_version": "1.2.0",
      "_view_name": "StyleView",
      "description_width": ""
     }
    },
    "48bd3ad450cb460a97ec3f23a9469a89": {
     "model_module": "@jupyter-widgets/controls",
     "model_module_version": "1.5.0",
     "model_name": "FloatProgressModel",
     "state": {
      "_dom_classes": [],
      "_model_module": "@jupyter-widgets/controls",
      "_model_module_version": "1.5.0",
      "_model_name": "FloatProgressModel",
      "_view_count": null,
      "_view_module": "@jupyter-widgets/controls",
      "_view_module_version": "1.5.0",
      "_view_name": "ProgressView",
      "bar_style": "success",
      "description": "",
      "description_tooltip": null,
      "layout": "IPY_MODEL_751bed182d7a4a19b2e4f4daa9da47fd",
      "max": 66318,
      "min": 0,
      "orientation": "horizontal",
      "style": "IPY_MODEL_b86942a080df429c8a0bd470b12b01ae",
      "value": 66318
     }
    },
    "48cf11b726cc4a248c7d835bd8256d8d": {
     "model_module": "@jupyter-widgets/base",
     "model_module_version": "1.2.0",
     "model_name": "LayoutModel",
     "state": {
      "_model_module": "@jupyter-widgets/base",
      "_model_module_version": "1.2.0",
      "_model_name": "LayoutModel",
      "_view_count": null,
      "_view_module": "@jupyter-widgets/base",
      "_view_module_version": "1.2.0",
      "_view_name": "LayoutView",
      "align_content": null,
      "align_items": null,
      "align_self": null,
      "border": null,
      "bottom": null,
      "display": null,
      "flex": null,
      "flex_flow": null,
      "grid_area": null,
      "grid_auto_columns": null,
      "grid_auto_flow": null,
      "grid_auto_rows": null,
      "grid_column": null,
      "grid_gap": null,
      "grid_row": null,
      "grid_template_areas": null,
      "grid_template_columns": null,
      "grid_template_rows": null,
      "height": null,
      "justify_content": null,
      "justify_items": null,
      "left": null,
      "margin": null,
      "max_height": null,
      "max_width": null,
      "min_height": null,
      "min_width": null,
      "object_fit": null,
      "object_position": null,
      "order": null,
      "overflow": null,
      "overflow_x": null,
      "overflow_y": null,
      "padding": null,
      "right": null,
      "top": null,
      "visibility": null,
      "width": null
     }
    },
    "4a7730ea91984597ac8cd4a18d380b7d": {
     "model_module": "@jupyter-widgets/base",
     "model_module_version": "1.2.0",
     "model_name": "LayoutModel",
     "state": {
      "_model_module": "@jupyter-widgets/base",
      "_model_module_version": "1.2.0",
      "_model_name": "LayoutModel",
      "_view_count": null,
      "_view_module": "@jupyter-widgets/base",
      "_view_module_version": "1.2.0",
      "_view_name": "LayoutView",
      "align_content": null,
      "align_items": null,
      "align_self": null,
      "border": null,
      "bottom": null,
      "display": null,
      "flex": null,
      "flex_flow": null,
      "grid_area": null,
      "grid_auto_columns": null,
      "grid_auto_flow": null,
      "grid_auto_rows": null,
      "grid_column": null,
      "grid_gap": null,
      "grid_row": null,
      "grid_template_areas": null,
      "grid_template_columns": null,
      "grid_template_rows": null,
      "height": null,
      "justify_content": null,
      "justify_items": null,
      "left": null,
      "margin": null,
      "max_height": null,
      "max_width": null,
      "min_height": null,
      "min_width": null,
      "object_fit": null,
      "object_position": null,
      "order": null,
      "overflow": null,
      "overflow_x": null,
      "overflow_y": null,
      "padding": null,
      "right": null,
      "top": null,
      "visibility": null,
      "width": null
     }
    },
    "4a9c9b019a0644f29ce82bb6e2f5531e": {
     "model_module": "@jupyter-widgets/base",
     "model_module_version": "1.2.0",
     "model_name": "LayoutModel",
     "state": {
      "_model_module": "@jupyter-widgets/base",
      "_model_module_version": "1.2.0",
      "_model_name": "LayoutModel",
      "_view_count": null,
      "_view_module": "@jupyter-widgets/base",
      "_view_module_version": "1.2.0",
      "_view_name": "LayoutView",
      "align_content": null,
      "align_items": null,
      "align_self": null,
      "border": null,
      "bottom": null,
      "display": null,
      "flex": null,
      "flex_flow": null,
      "grid_area": null,
      "grid_auto_columns": null,
      "grid_auto_flow": null,
      "grid_auto_rows": null,
      "grid_column": null,
      "grid_gap": null,
      "grid_row": null,
      "grid_template_areas": null,
      "grid_template_columns": null,
      "grid_template_rows": null,
      "height": null,
      "justify_content": null,
      "justify_items": null,
      "left": null,
      "margin": null,
      "max_height": null,
      "max_width": null,
      "min_height": null,
      "min_width": null,
      "object_fit": null,
      "object_position": null,
      "order": null,
      "overflow": null,
      "overflow_x": null,
      "overflow_y": null,
      "padding": null,
      "right": null,
      "top": null,
      "visibility": null,
      "width": null
     }
    },
    "4c9c0151478f4f55abb762c131913749": {
     "model_module": "@jupyter-widgets/base",
     "model_module_version": "1.2.0",
     "model_name": "LayoutModel",
     "state": {
      "_model_module": "@jupyter-widgets/base",
      "_model_module_version": "1.2.0",
      "_model_name": "LayoutModel",
      "_view_count": null,
      "_view_module": "@jupyter-widgets/base",
      "_view_module_version": "1.2.0",
      "_view_name": "LayoutView",
      "align_content": null,
      "align_items": null,
      "align_self": null,
      "border": null,
      "bottom": null,
      "display": null,
      "flex": null,
      "flex_flow": null,
      "grid_area": null,
      "grid_auto_columns": null,
      "grid_auto_flow": null,
      "grid_auto_rows": null,
      "grid_column": null,
      "grid_gap": null,
      "grid_row": null,
      "grid_template_areas": null,
      "grid_template_columns": null,
      "grid_template_rows": null,
      "height": null,
      "justify_content": null,
      "justify_items": null,
      "left": null,
      "margin": null,
      "max_height": null,
      "max_width": null,
      "min_height": null,
      "min_width": null,
      "object_fit": null,
      "object_position": null,
      "order": null,
      "overflow": null,
      "overflow_x": null,
      "overflow_y": null,
      "padding": null,
      "right": null,
      "top": null,
      "visibility": null,
      "width": null
     }
    },
    "504a0db521cf4c57b7e05cb4c0d8d200": {
     "model_module": "@jupyter-widgets/base",
     "model_module_version": "1.2.0",
     "model_name": "LayoutModel",
     "state": {
      "_model_module": "@jupyter-widgets/base",
      "_model_module_version": "1.2.0",
      "_model_name": "LayoutModel",
      "_view_count": null,
      "_view_module": "@jupyter-widgets/base",
      "_view_module_version": "1.2.0",
      "_view_name": "LayoutView",
      "align_content": null,
      "align_items": null,
      "align_self": null,
      "border": null,
      "bottom": null,
      "display": null,
      "flex": null,
      "flex_flow": null,
      "grid_area": null,
      "grid_auto_columns": null,
      "grid_auto_flow": null,
      "grid_auto_rows": null,
      "grid_column": null,
      "grid_gap": null,
      "grid_row": null,
      "grid_template_areas": null,
      "grid_template_columns": null,
      "grid_template_rows": null,
      "height": null,
      "justify_content": null,
      "justify_items": null,
      "left": null,
      "margin": null,
      "max_height": null,
      "max_width": null,
      "min_height": null,
      "min_width": null,
      "object_fit": null,
      "object_position": null,
      "order": null,
      "overflow": null,
      "overflow_x": null,
      "overflow_y": null,
      "padding": null,
      "right": null,
      "top": null,
      "visibility": null,
      "width": null
     }
    },
    "5120fe698faf44bcba20a3dc69e9f830": {
     "model_module": "@jupyter-widgets/controls",
     "model_module_version": "1.5.0",
     "model_name": "DescriptionStyleModel",
     "state": {
      "_model_module": "@jupyter-widgets/controls",
      "_model_module_version": "1.5.0",
      "_model_name": "DescriptionStyleModel",
      "_view_count": null,
      "_view_module": "@jupyter-widgets/base",
      "_view_module_version": "1.2.0",
      "_view_name": "StyleView",
      "description_width": ""
     }
    },
    "51ab0e09bdb848e18e9aa4e0e8b8b62f": {
     "model_module": "@jupyter-widgets/controls",
     "model_module_version": "1.5.0",
     "model_name": "FloatProgressModel",
     "state": {
      "_dom_classes": [],
      "_model_module": "@jupyter-widgets/controls",
      "_model_module_version": "1.5.0",
      "_model_name": "FloatProgressModel",
      "_view_count": null,
      "_view_module": "@jupyter-widgets/controls",
      "_view_module_version": "1.5.0",
      "_view_name": "ProgressView",
      "bar_style": "success",
      "description": "",
      "description_tooltip": null,
      "layout": "IPY_MODEL_0963694f98c945cb8e53a9351ad9eb36",
      "max": 1477,
      "min": 0,
      "orientation": "horizontal",
      "style": "IPY_MODEL_c8821bec583444168f86d10d5a8aa85b",
      "value": 1477
     }
    },
    "51dd1456df524c3499bfe889f4b96e58": {
     "model_module": "@jupyter-widgets/controls",
     "model_module_version": "1.5.0",
     "model_name": "HBoxModel",
     "state": {
      "_dom_classes": [],
      "_model_module": "@jupyter-widgets/controls",
      "_model_module_version": "1.5.0",
      "_model_name": "HBoxModel",
      "_view_count": null,
      "_view_module": "@jupyter-widgets/controls",
      "_view_module_version": "1.5.0",
      "_view_name": "HBoxView",
      "box_style": "",
      "children": [
       "IPY_MODEL_21a9554241dd412db3d387b355a79a44",
       "IPY_MODEL_208e03adc48049b4923571496728e7f7",
       "IPY_MODEL_6181e59c7a7141a2be63bdf12e312e4b"
      ],
      "layout": "IPY_MODEL_f320011758504781b5abae8563bddb0d"
     }
    },
    "5475f4c8594b42e9bace31baf4298a9b": {
     "model_module": "@jupyter-widgets/base",
     "model_module_version": "1.2.0",
     "model_name": "LayoutModel",
     "state": {
      "_model_module": "@jupyter-widgets/base",
      "_model_module_version": "1.2.0",
      "_model_name": "LayoutModel",
      "_view_count": null,
      "_view_module": "@jupyter-widgets/base",
      "_view_module_version": "1.2.0",
      "_view_name": "LayoutView",
      "align_content": null,
      "align_items": null,
      "align_self": null,
      "border": null,
      "bottom": null,
      "display": null,
      "flex": null,
      "flex_flow": null,
      "grid_area": null,
      "grid_auto_columns": null,
      "grid_auto_flow": null,
      "grid_auto_rows": null,
      "grid_column": null,
      "grid_gap": null,
      "grid_row": null,
      "grid_template_areas": null,
      "grid_template_columns": null,
      "grid_template_rows": null,
      "height": null,
      "justify_content": null,
      "justify_items": null,
      "left": null,
      "margin": null,
      "max_height": null,
      "max_width": null,
      "min_height": null,
      "min_width": null,
      "object_fit": null,
      "object_position": null,
      "order": null,
      "overflow": null,
      "overflow_x": null,
      "overflow_y": null,
      "padding": null,
      "right": null,
      "top": null,
      "visibility": null,
      "width": null
     }
    },
    "55300bb3ea2a4e749e26a6219683aeb4": {
     "model_module": "@jupyter-widgets/base",
     "model_module_version": "1.2.0",
     "model_name": "LayoutModel",
     "state": {
      "_model_module": "@jupyter-widgets/base",
      "_model_module_version": "1.2.0",
      "_model_name": "LayoutModel",
      "_view_count": null,
      "_view_module": "@jupyter-widgets/base",
      "_view_module_version": "1.2.0",
      "_view_name": "LayoutView",
      "align_content": null,
      "align_items": null,
      "align_self": null,
      "border": null,
      "bottom": null,
      "display": null,
      "flex": null,
      "flex_flow": null,
      "grid_area": null,
      "grid_auto_columns": null,
      "grid_auto_flow": null,
      "grid_auto_rows": null,
      "grid_column": null,
      "grid_gap": null,
      "grid_row": null,
      "grid_template_areas": null,
      "grid_template_columns": null,
      "grid_template_rows": null,
      "height": null,
      "justify_content": null,
      "justify_items": null,
      "left": null,
      "margin": null,
      "max_height": null,
      "max_width": null,
      "min_height": null,
      "min_width": null,
      "object_fit": null,
      "object_position": null,
      "order": null,
      "overflow": null,
      "overflow_x": null,
      "overflow_y": null,
      "padding": null,
      "right": null,
      "top": null,
      "visibility": null,
      "width": null
     }
    },
    "5b79a5905d39421e8de8035f82539c77": {
     "model_module": "@jupyter-widgets/controls",
     "model_module_version": "1.5.0",
     "model_name": "FloatProgressModel",
     "state": {
      "_dom_classes": [],
      "_model_module": "@jupyter-widgets/controls",
      "_model_module_version": "1.5.0",
      "_model_name": "FloatProgressModel",
      "_view_count": null,
      "_view_module": "@jupyter-widgets/controls",
      "_view_module_version": "1.5.0",
      "_view_name": "ProgressView",
      "bar_style": "success",
      "description": "",
      "description_tooltip": null,
      "layout": "IPY_MODEL_c5e47854b49247fda86fae5653495816",
      "max": 791656,
      "min": 0,
      "orientation": "horizontal",
      "style": "IPY_MODEL_c1c727d8ce074e709a3a8c9dd8a7c71e",
      "value": 791656
     }
    },
    "5dff7ae7d20c42a0a705d423d2048f74": {
     "model_module": "@jupyter-widgets/controls",
     "model_module_version": "1.5.0",
     "model_name": "FloatProgressModel",
     "state": {
      "_dom_classes": [],
      "_model_module": "@jupyter-widgets/controls",
      "_model_module_version": "1.5.0",
      "_model_name": "FloatProgressModel",
      "_view_count": null,
      "_view_module": "@jupyter-widgets/controls",
      "_view_module_version": "1.5.0",
      "_view_name": "ProgressView",
      "bar_style": "success",
      "description": "",
      "description_tooltip": null,
      "layout": "IPY_MODEL_2a943816a6894fb7b0192735c223fed5",
      "max": 3146603,
      "min": 0,
      "orientation": "horizontal",
      "style": "IPY_MODEL_c04c3b59375f4549851d87aa2c7100a3",
      "value": 3146603
     }
    },
    "5f689a6cf6974734945c6de6c099db8c": {
     "model_module": "@jupyter-widgets/controls",
     "model_module_version": "1.5.0",
     "model_name": "HTMLModel",
     "state": {
      "_dom_classes": [],
      "_model_module": "@jupyter-widgets/controls",
      "_model_module_version": "1.5.0",
      "_model_name": "HTMLModel",
      "_view_count": null,
      "_view_module": "@jupyter-widgets/controls",
      "_view_module_version": "1.5.0",
      "_view_name": "HTMLView",
      "description": "",
      "description_tooltip": null,
      "layout": "IPY_MODEL_cd7be2b7c6ea4322b3ca9134e44b8b2e",
      "placeholder": "​",
      "style": "IPY_MODEL_c937d640fc0643d78d00b8543f117acd",
      "value": "tokenizer.json: 100%"
     }
    },
    "5f9144c0f49148f3a7d139a3a7d48b11": {
     "model_module": "@jupyter-widgets/base",
     "model_module_version": "1.2.0",
     "model_name": "LayoutModel",
     "state": {
      "_model_module": "@jupyter-widgets/base",
      "_model_module_version": "1.2.0",
      "_model_name": "LayoutModel",
      "_view_count": null,
      "_view_module": "@jupyter-widgets/base",
      "_view_module_version": "1.2.0",
      "_view_name": "LayoutView",
      "align_content": null,
      "align_items": null,
      "align_self": null,
      "border": null,
      "bottom": null,
      "display": null,
      "flex": null,
      "flex_flow": null,
      "grid_area": null,
      "grid_auto_columns": null,
      "grid_auto_flow": null,
      "grid_auto_rows": null,
      "grid_column": null,
      "grid_gap": null,
      "grid_row": null,
      "grid_template_areas": null,
      "grid_template_columns": null,
      "grid_template_rows": null,
      "height": null,
      "justify_content": null,
      "justify_items": null,
      "left": null,
      "margin": null,
      "max_height": null,
      "max_width": null,
      "min_height": null,
      "min_width": null,
      "object_fit": null,
      "object_position": null,
      "order": null,
      "overflow": null,
      "overflow_x": null,
      "overflow_y": null,
      "padding": null,
      "right": null,
      "top": null,
      "visibility": null,
      "width": null
     }
    },
    "604e0c0c4d2f41f8be4c441753710c53": {
     "model_module": "@jupyter-widgets/controls",
     "model_module_version": "1.5.0",
     "model_name": "DescriptionStyleModel",
     "state": {
      "_model_module": "@jupyter-widgets/controls",
      "_model_module_version": "1.5.0",
      "_model_name": "DescriptionStyleModel",
      "_view_count": null,
      "_view_module": "@jupyter-widgets/base",
      "_view_module_version": "1.2.0",
      "_view_name": "StyleView",
      "description_width": ""
     }
    },
    "6181e59c7a7141a2be63bdf12e312e4b": {
     "model_module": "@jupyter-widgets/controls",
     "model_module_version": "1.5.0",
     "model_name": "HTMLModel",
     "state": {
      "_dom_classes": [],
      "_model_module": "@jupyter-widgets/controls",
      "_model_module_version": "1.5.0",
      "_model_name": "HTMLModel",
      "_view_count": null,
      "_view_module": "@jupyter-widgets/controls",
      "_view_module_version": "1.5.0",
      "_view_name": "HTMLView",
      "description": "",
      "description_tooltip": null,
      "layout": "IPY_MODEL_c142c4ad54c44287909f63f4043fb8b1",
      "placeholder": "​",
      "style": "IPY_MODEL_604e0c0c4d2f41f8be4c441753710c53",
      "value": " 1.53k/1.53k [00:00&lt;00:00, 119kB/s]"
     }
    },
    "632184bf309546db9903cb5af07eb943": {
     "model_module": "@jupyter-widgets/controls",
     "model_module_version": "1.5.0",
     "model_name": "DescriptionStyleModel",
     "state": {
      "_model_module": "@jupyter-widgets/controls",
      "_model_module_version": "1.5.0",
      "_model_name": "DescriptionStyleModel",
      "_view_count": null,
      "_view_module": "@jupyter-widgets/base",
      "_view_module_version": "1.2.0",
      "_view_name": "StyleView",
      "description_width": ""
     }
    },
    "6651b28344224780b800372d249055ac": {
     "model_module": "@jupyter-widgets/controls",
     "model_module_version": "1.5.0",
     "model_name": "ProgressStyleModel",
     "state": {
      "_model_module": "@jupyter-widgets/controls",
      "_model_module_version": "1.5.0",
      "_model_name": "ProgressStyleModel",
      "_view_count": null,
      "_view_module": "@jupyter-widgets/base",
      "_view_module_version": "1.2.0",
      "_view_name": "StyleView",
      "bar_color": null,
      "description_width": ""
     }
    },
    "68cf3376a5ee4ac6973ced01d93bcfe8": {
     "model_module": "@jupyter-widgets/base",
     "model_module_version": "1.2.0",
     "model_name": "LayoutModel",
     "state": {
      "_model_module": "@jupyter-widgets/base",
      "_model_module_version": "1.2.0",
      "_model_name": "LayoutModel",
      "_view_count": null,
      "_view_module": "@jupyter-widgets/base",
      "_view_module_version": "1.2.0",
      "_view_name": "LayoutView",
      "align_content": null,
      "align_items": null,
      "align_self": null,
      "border": null,
      "bottom": null,
      "display": null,
      "flex": null,
      "flex_flow": null,
      "grid_area": null,
      "grid_auto_columns": null,
      "grid_auto_flow": null,
      "grid_auto_rows": null,
      "grid_column": null,
      "grid_gap": null,
      "grid_row": null,
      "grid_template_areas": null,
      "grid_template_columns": null,
      "grid_template_rows": null,
      "height": null,
      "justify_content": null,
      "justify_items": null,
      "left": null,
      "margin": null,
      "max_height": null,
      "max_width": null,
      "min_height": null,
      "min_width": null,
      "object_fit": null,
      "object_position": null,
      "order": null,
      "overflow": null,
      "overflow_x": null,
      "overflow_y": null,
      "padding": null,
      "right": null,
      "top": null,
      "visibility": null,
      "width": null
     }
    },
    "6da3d9ef22994ca8920e174446f27d03": {
     "model_module": "@jupyter-widgets/controls",
     "model_module_version": "1.5.0",
     "model_name": "DescriptionStyleModel",
     "state": {
      "_model_module": "@jupyter-widgets/controls",
      "_model_module_version": "1.5.0",
      "_model_name": "DescriptionStyleModel",
      "_view_count": null,
      "_view_module": "@jupyter-widgets/base",
      "_view_module_version": "1.2.0",
      "_view_name": "StyleView",
      "description_width": ""
     }
    },
    "72af08fcd38a447786450e8a6ff02989": {
     "model_module": "@jupyter-widgets/controls",
     "model_module_version": "1.5.0",
     "model_name": "DescriptionStyleModel",
     "state": {
      "_model_module": "@jupyter-widgets/controls",
      "_model_module_version": "1.5.0",
      "_model_name": "DescriptionStyleModel",
      "_view_count": null,
      "_view_module": "@jupyter-widgets/base",
      "_view_module_version": "1.2.0",
      "_view_name": "StyleView",
      "description_width": ""
     }
    },
    "72f58a97c7b4400bb46f43064c968401": {
     "model_module": "@jupyter-widgets/controls",
     "model_module_version": "1.5.0",
     "model_name": "DescriptionStyleModel",
     "state": {
      "_model_module": "@jupyter-widgets/controls",
      "_model_module_version": "1.5.0",
      "_model_name": "DescriptionStyleModel",
      "_view_count": null,
      "_view_module": "@jupyter-widgets/base",
      "_view_module_version": "1.2.0",
      "_view_name": "StyleView",
      "description_width": ""
     }
    },
    "751bed182d7a4a19b2e4f4daa9da47fd": {
     "model_module": "@jupyter-widgets/base",
     "model_module_version": "1.2.0",
     "model_name": "LayoutModel",
     "state": {
      "_model_module": "@jupyter-widgets/base",
      "_model_module_version": "1.2.0",
      "_model_name": "LayoutModel",
      "_view_count": null,
      "_view_module": "@jupyter-widgets/base",
      "_view_module_version": "1.2.0",
      "_view_name": "LayoutView",
      "align_content": null,
      "align_items": null,
      "align_self": null,
      "border": null,
      "bottom": null,
      "display": null,
      "flex": null,
      "flex_flow": null,
      "grid_area": null,
      "grid_auto_columns": null,
      "grid_auto_flow": null,
      "grid_auto_rows": null,
      "grid_column": null,
      "grid_gap": null,
      "grid_row": null,
      "grid_template_areas": null,
      "grid_template_columns": null,
      "grid_template_rows": null,
      "height": null,
      "justify_content": null,
      "justify_items": null,
      "left": null,
      "margin": null,
      "max_height": null,
      "max_width": null,
      "min_height": null,
      "min_width": null,
      "object_fit": null,
      "object_position": null,
      "order": null,
      "overflow": null,
      "overflow_x": null,
      "overflow_y": null,
      "padding": null,
      "right": null,
      "top": null,
      "visibility": null,
      "width": null
     }
    },
    "77c478c97b4342eea17d19db7c7552d2": {
     "model_module": "@jupyter-widgets/base",
     "model_module_version": "1.2.0",
     "model_name": "LayoutModel",
     "state": {
      "_model_module": "@jupyter-widgets/base",
      "_model_module_version": "1.2.0",
      "_model_name": "LayoutModel",
      "_view_count": null,
      "_view_module": "@jupyter-widgets/base",
      "_view_module_version": "1.2.0",
      "_view_name": "LayoutView",
      "align_content": null,
      "align_items": null,
      "align_self": null,
      "border": null,
      "bottom": null,
      "display": null,
      "flex": null,
      "flex_flow": null,
      "grid_area": null,
      "grid_auto_columns": null,
      "grid_auto_flow": null,
      "grid_auto_rows": null,
      "grid_column": null,
      "grid_gap": null,
      "grid_row": null,
      "grid_template_areas": null,
      "grid_template_columns": null,
      "grid_template_rows": null,
      "height": null,
      "justify_content": null,
      "justify_items": null,
      "left": null,
      "margin": null,
      "max_height": null,
      "max_width": null,
      "min_height": null,
      "min_width": null,
      "object_fit": null,
      "object_position": null,
      "order": null,
      "overflow": null,
      "overflow_x": null,
      "overflow_y": null,
      "padding": null,
      "right": null,
      "top": null,
      "visibility": null,
      "width": null
     }
    },
    "7858c38fe06e49dfb99a118c9a07dd07": {
     "model_module": "@jupyter-widgets/controls",
     "model_module_version": "1.5.0",
     "model_name": "HBoxModel",
     "state": {
      "_dom_classes": [],
      "_model_module": "@jupyter-widgets/controls",
      "_model_module_version": "1.5.0",
      "_model_name": "HBoxModel",
      "_view_count": null,
      "_view_module": "@jupyter-widgets/controls",
      "_view_module_version": "1.5.0",
      "_view_name": "HBoxView",
      "box_style": "",
      "children": [
       "IPY_MODEL_0702608ff71b401a939535813e0babb7",
       "IPY_MODEL_4345d14d29204f89a1e24458621a4d19",
       "IPY_MODEL_f1bd380d74064c23acfe3a621c592423"
      ],
      "layout": "IPY_MODEL_c2700e33c6b14494b1764934361d5279"
     }
    },
    "7b4704cdb87b4103859e7c121c1dfe29": {
     "model_module": "@jupyter-widgets/base",
     "model_module_version": "1.2.0",
     "model_name": "LayoutModel",
     "state": {
      "_model_module": "@jupyter-widgets/base",
      "_model_module_version": "1.2.0",
      "_model_name": "LayoutModel",
      "_view_count": null,
      "_view_module": "@jupyter-widgets/base",
      "_view_module_version": "1.2.0",
      "_view_name": "LayoutView",
      "align_content": null,
      "align_items": null,
      "align_self": null,
      "border": null,
      "bottom": null,
      "display": null,
      "flex": null,
      "flex_flow": null,
      "grid_area": null,
      "grid_auto_columns": null,
      "grid_auto_flow": null,
      "grid_auto_rows": null,
      "grid_column": null,
      "grid_gap": null,
      "grid_row": null,
      "grid_template_areas": null,
      "grid_template_columns": null,
      "grid_template_rows": null,
      "height": null,
      "justify_content": null,
      "justify_items": null,
      "left": null,
      "margin": null,
      "max_height": null,
      "max_width": null,
      "min_height": null,
      "min_width": null,
      "object_fit": null,
      "object_position": null,
      "order": null,
      "overflow": null,
      "overflow_x": null,
      "overflow_y": null,
      "padding": null,
      "right": null,
      "top": null,
      "visibility": null,
      "width": null
     }
    },
    "7d0e413e1d42425793410943245f0e1b": {
     "model_module": "@jupyter-widgets/controls",
     "model_module_version": "1.5.0",
     "model_name": "HTMLModel",
     "state": {
      "_dom_classes": [],
      "_model_module": "@jupyter-widgets/controls",
      "_model_module_version": "1.5.0",
      "_model_name": "HTMLModel",
      "_view_count": null,
      "_view_module": "@jupyter-widgets/controls",
      "_view_module_version": "1.5.0",
      "_view_name": "HTMLView",
      "description": "",
      "description_tooltip": null,
      "layout": "IPY_MODEL_0836b551c14f43cd9cacc59e5daca670",
      "placeholder": "​",
      "style": "IPY_MODEL_fe50aec8f4ea4ba896f48024f788d886",
      "value": " 116/116 [00:00&lt;00:00, 9.82kB/s]"
     }
    },
    "82f3b36b61cd4328bdf1595e1f0f2e21": {
     "model_module": "@jupyter-widgets/controls",
     "model_module_version": "1.5.0",
     "model_name": "FloatProgressModel",
     "state": {
      "_dom_classes": [],
      "_model_module": "@jupyter-widgets/controls",
      "_model_module_version": "1.5.0",
      "_model_name": "FloatProgressModel",
      "_view_count": null,
      "_view_module": "@jupyter-widgets/controls",
      "_view_module_version": "1.5.0",
      "_view_name": "ProgressView",
      "bar_style": "success",
      "description": "",
      "description_tooltip": null,
      "layout": "IPY_MODEL_10c2f56a309a417493ce35ecab3c2c89",
      "max": 270,
      "min": 0,
      "orientation": "horizontal",
      "style": "IPY_MODEL_18f3844d33c94924ab88157e420e43bb",
      "value": 270
     }
    },
    "82fb3fbcbd67408ca4ced44dbda55c90": {
     "model_module": "@jupyter-widgets/base",
     "model_module_version": "1.2.0",
     "model_name": "LayoutModel",
     "state": {
      "_model_module": "@jupyter-widgets/base",
      "_model_module_version": "1.2.0",
      "_model_name": "LayoutModel",
      "_view_count": null,
      "_view_module": "@jupyter-widgets/base",
      "_view_module_version": "1.2.0",
      "_view_name": "LayoutView",
      "align_content": null,
      "align_items": null,
      "align_self": null,
      "border": null,
      "bottom": null,
      "display": null,
      "flex": null,
      "flex_flow": null,
      "grid_area": null,
      "grid_auto_columns": null,
      "grid_auto_flow": null,
      "grid_auto_rows": null,
      "grid_column": null,
      "grid_gap": null,
      "grid_row": null,
      "grid_template_areas": null,
      "grid_template_columns": null,
      "grid_template_rows": null,
      "height": null,
      "justify_content": null,
      "justify_items": null,
      "left": null,
      "margin": null,
      "max_height": null,
      "max_width": null,
      "min_height": null,
      "min_width": null,
      "object_fit": null,
      "object_position": null,
      "order": null,
      "overflow": null,
      "overflow_x": null,
      "overflow_y": null,
      "padding": null,
      "right": null,
      "top": null,
      "visibility": null,
      "width": null
     }
    },
    "87fa43af0e54431e859c3ff0fd3f4da2": {
     "model_module": "@jupyter-widgets/base",
     "model_module_version": "1.2.0",
     "model_name": "LayoutModel",
     "state": {
      "_model_module": "@jupyter-widgets/base",
      "_model_module_version": "1.2.0",
      "_model_name": "LayoutModel",
      "_view_count": null,
      "_view_module": "@jupyter-widgets/base",
      "_view_module_version": "1.2.0",
      "_view_name": "LayoutView",
      "align_content": null,
      "align_items": null,
      "align_self": null,
      "border": null,
      "bottom": null,
      "display": null,
      "flex": null,
      "flex_flow": null,
      "grid_area": null,
      "grid_auto_columns": null,
      "grid_auto_flow": null,
      "grid_auto_rows": null,
      "grid_column": null,
      "grid_gap": null,
      "grid_row": null,
      "grid_template_areas": null,
      "grid_template_columns": null,
      "grid_template_rows": null,
      "height": null,
      "justify_content": null,
      "justify_items": null,
      "left": null,
      "margin": null,
      "max_height": null,
      "max_width": null,
      "min_height": null,
      "min_width": null,
      "object_fit": null,
      "object_position": null,
      "order": null,
      "overflow": null,
      "overflow_x": null,
      "overflow_y": null,
      "padding": null,
      "right": null,
      "top": null,
      "visibility": null,
      "width": null
     }
    },
    "886524d22b7543e8a607694e756dec3b": {
     "model_module": "@jupyter-widgets/controls",
     "model_module_version": "1.5.0",
     "model_name": "DescriptionStyleModel",
     "state": {
      "_model_module": "@jupyter-widgets/controls",
      "_model_module_version": "1.5.0",
      "_model_name": "DescriptionStyleModel",
      "_view_count": null,
      "_view_module": "@jupyter-widgets/base",
      "_view_module_version": "1.2.0",
      "_view_name": "StyleView",
      "description_width": ""
     }
    },
    "889f20f03eeb4681a683dc204e4fba09": {
     "model_module": "@jupyter-widgets/controls",
     "model_module_version": "1.5.0",
     "model_name": "DescriptionStyleModel",
     "state": {
      "_model_module": "@jupyter-widgets/controls",
      "_model_module_version": "1.5.0",
      "_model_name": "DescriptionStyleModel",
      "_view_count": null,
      "_view_module": "@jupyter-widgets/base",
      "_view_module_version": "1.2.0",
      "_view_name": "StyleView",
      "description_width": ""
     }
    },
    "8f13e5c9b46243cc9e3c66a69fa3d9ee": {
     "model_module": "@jupyter-widgets/controls",
     "model_module_version": "1.5.0",
     "model_name": "HTMLModel",
     "state": {
      "_dom_classes": [],
      "_model_module": "@jupyter-widgets/controls",
      "_model_module_version": "1.5.0",
      "_model_name": "HTMLModel",
      "_view_count": null,
      "_view_module": "@jupyter-widgets/controls",
      "_view_module_version": "1.5.0",
      "_view_name": "HTMLView",
      "description": "",
      "description_tooltip": null,
      "layout": "IPY_MODEL_ee59322a07e54c3eb61bd309cec1063e",
      "placeholder": "​",
      "style": "IPY_MODEL_a815086045a54a049ca6ad97a16571d8",
      "value": " 2.20k/2.20k [00:00&lt;00:00, 188kB/s]"
     }
    },
    "8f217084d80242ed865cb23a2a339572": {
     "model_module": "@jupyter-widgets/controls",
     "model_module_version": "1.5.0",
     "model_name": "HTMLModel",
     "state": {
      "_dom_classes": [],
      "_model_module": "@jupyter-widgets/controls",
      "_model_module_version": "1.5.0",
      "_model_name": "HTMLModel",
      "_view_count": null,
      "_view_module": "@jupyter-widgets/controls",
      "_view_module_version": "1.5.0",
      "_view_name": "HTMLView",
      "description": "",
      "description_tooltip": null,
      "layout": "IPY_MODEL_5475f4c8594b42e9bace31baf4298a9b",
      "placeholder": "​",
      "style": "IPY_MODEL_c1c8a7e2e64542f79271cb9a76a3e4f2",
      "value": "sentence_bert_config.json: 100%"
     }
    },
    "923eb87ff68344cab0cd9e33d4b4a5c8": {
     "model_module": "@jupyter-widgets/controls",
     "model_module_version": "1.5.0",
     "model_name": "DescriptionStyleModel",
     "state": {
      "_model_module": "@jupyter-widgets/controls",
      "_model_module_version": "1.5.0",
      "_model_name": "DescriptionStyleModel",
      "_view_count": null,
      "_view_module": "@jupyter-widgets/base",
      "_view_module_version": "1.2.0",
      "_view_name": "StyleView",
      "description_width": ""
     }
    },
    "942f85ef8dd5490cab944141fa826660": {
     "model_module": "@jupyter-widgets/base",
     "model_module_version": "1.2.0",
     "model_name": "LayoutModel",
     "state": {
      "_model_module": "@jupyter-widgets/base",
      "_model_module_version": "1.2.0",
      "_model_name": "LayoutModel",
      "_view_count": null,
      "_view_module": "@jupyter-widgets/base",
      "_view_module_version": "1.2.0",
      "_view_name": "LayoutView",
      "align_content": null,
      "align_items": null,
      "align_self": null,
      "border": null,
      "bottom": null,
      "display": null,
      "flex": null,
      "flex_flow": null,
      "grid_area": null,
      "grid_auto_columns": null,
      "grid_auto_flow": null,
      "grid_auto_rows": null,
      "grid_column": null,
      "grid_gap": null,
      "grid_row": null,
      "grid_template_areas": null,
      "grid_template_columns": null,
      "grid_template_rows": null,
      "height": null,
      "justify_content": null,
      "justify_items": null,
      "left": null,
      "margin": null,
      "max_height": null,
      "max_width": null,
      "min_height": null,
      "min_width": null,
      "object_fit": null,
      "object_position": null,
      "order": null,
      "overflow": null,
      "overflow_x": null,
      "overflow_y": null,
      "padding": null,
      "right": null,
      "top": null,
      "visibility": null,
      "width": null
     }
    },
    "95c5999089464888a22f9aa4c351a8a8": {
     "model_module": "@jupyter-widgets/controls",
     "model_module_version": "1.5.0",
     "model_name": "DescriptionStyleModel",
     "state": {
      "_model_module": "@jupyter-widgets/controls",
      "_model_module_version": "1.5.0",
      "_model_name": "DescriptionStyleModel",
      "_view_count": null,
      "_view_module": "@jupyter-widgets/base",
      "_view_module_version": "1.2.0",
      "_view_name": "StyleView",
      "description_width": ""
     }
    },
    "9b5f976bedb74672a779066c60f13c7e": {
     "model_module": "@jupyter-widgets/base",
     "model_module_version": "1.2.0",
     "model_name": "LayoutModel",
     "state": {
      "_model_module": "@jupyter-widgets/base",
      "_model_module_version": "1.2.0",
      "_model_name": "LayoutModel",
      "_view_count": null,
      "_view_module": "@jupyter-widgets/base",
      "_view_module_version": "1.2.0",
      "_view_name": "LayoutView",
      "align_content": null,
      "align_items": null,
      "align_self": null,
      "border": null,
      "bottom": null,
      "display": null,
      "flex": null,
      "flex_flow": null,
      "grid_area": null,
      "grid_auto_columns": null,
      "grid_auto_flow": null,
      "grid_auto_rows": null,
      "grid_column": null,
      "grid_gap": null,
      "grid_row": null,
      "grid_template_areas": null,
      "grid_template_columns": null,
      "grid_template_rows": null,
      "height": null,
      "justify_content": null,
      "justify_items": null,
      "left": null,
      "margin": null,
      "max_height": null,
      "max_width": null,
      "min_height": null,
      "min_width": null,
      "object_fit": null,
      "object_position": null,
      "order": null,
      "overflow": null,
      "overflow_x": null,
      "overflow_y": null,
      "padding": null,
      "right": null,
      "top": null,
      "visibility": null,
      "width": null
     }
    },
    "a34decc761ea4a609b0962e82779ba44": {
     "model_module": "@jupyter-widgets/controls",
     "model_module_version": "1.5.0",
     "model_name": "FloatProgressModel",
     "state": {
      "_dom_classes": [],
      "_model_module": "@jupyter-widgets/controls",
      "_model_module_version": "1.5.0",
      "_model_name": "FloatProgressModel",
      "_view_count": null,
      "_view_module": "@jupyter-widgets/controls",
      "_view_module_version": "1.5.0",
      "_view_name": "ProgressView",
      "bar_style": "success",
      "description": "",
      "description_tooltip": null,
      "layout": "IPY_MODEL_55300bb3ea2a4e749e26a6219683aeb4",
      "max": 122,
      "min": 0,
      "orientation": "horizontal",
      "style": "IPY_MODEL_e00ebdc6f1374f868b2d3bf284ca3a90",
      "value": 122
     }
    },
    "a815086045a54a049ca6ad97a16571d8": {
     "model_module": "@jupyter-widgets/controls",
     "model_module_version": "1.5.0",
     "model_name": "DescriptionStyleModel",
     "state": {
      "_model_module": "@jupyter-widgets/controls",
      "_model_module_version": "1.5.0",
      "_model_name": "DescriptionStyleModel",
      "_view_count": null,
      "_view_module": "@jupyter-widgets/base",
      "_view_module_version": "1.2.0",
      "_view_name": "StyleView",
      "description_width": ""
     }
    },
    "a93a6e7367fe40feb9b4e1e47402872f": {
     "model_module": "@jupyter-widgets/controls",
     "model_module_version": "1.5.0",
     "model_name": "HBoxModel",
     "state": {
      "_dom_classes": [],
      "_model_module": "@jupyter-widgets/controls",
      "_model_module_version": "1.5.0",
      "_model_name": "HBoxModel",
      "_view_count": null,
      "_view_module": "@jupyter-widgets/controls",
      "_view_module_version": "1.5.0",
      "_view_name": "HBoxView",
      "box_style": "",
      "children": [
       "IPY_MODEL_0e8c628e7dd94526abf5729378e3e957",
       "IPY_MODEL_51ab0e09bdb848e18e9aa4e0e8b8b62f",
       "IPY_MODEL_f4feaacf3e9d49998b0ff896fed5d2a4"
      ],
      "layout": "IPY_MODEL_3a018951e579491fadcd575860fefe5a"
     }
    },
    "ac7c24ac48d54e9e89b1215e18c71e78": {
     "model_module": "@jupyter-widgets/controls",
     "model_module_version": "1.5.0",
     "model_name": "HTMLModel",
     "state": {
      "_dom_classes": [],
      "_model_module": "@jupyter-widgets/controls",
      "_model_module_version": "1.5.0",
      "_model_name": "HTMLModel",
      "_view_count": null,
      "_view_module": "@jupyter-widgets/controls",
      "_view_module_version": "1.5.0",
      "_view_name": "HTMLView",
      "description": "",
      "description_tooltip": null,
      "layout": "IPY_MODEL_82fb3fbcbd67408ca4ced44dbda55c90",
      "placeholder": "​",
      "style": "IPY_MODEL_2ddb62492fb4431f91db9a326b912441",
      "value": "spiece.model: 100%"
     }
    },
    "b12a3c2f36194a7fbdd0f336ac5757a3": {
     "model_module": "@jupyter-widgets/controls",
     "model_module_version": "1.5.0",
     "model_name": "DescriptionStyleModel",
     "state": {
      "_model_module": "@jupyter-widgets/controls",
      "_model_module_version": "1.5.0",
      "_model_name": "DescriptionStyleModel",
      "_view_count": null,
      "_view_module": "@jupyter-widgets/base",
      "_view_module_version": "1.2.0",
      "_view_name": "StyleView",
      "description_width": ""
     }
    },
    "b2bd0d06f829443d91cf19aedb9881bf": {
     "model_module": "@jupyter-widgets/base",
     "model_module_version": "1.2.0",
     "model_name": "LayoutModel",
     "state": {
      "_model_module": "@jupyter-widgets/base",
      "_model_module_version": "1.2.0",
      "_model_name": "LayoutModel",
      "_view_count": null,
      "_view_module": "@jupyter-widgets/base",
      "_view_module_version": "1.2.0",
      "_view_name": "LayoutView",
      "align_content": null,
      "align_items": null,
      "align_self": null,
      "border": null,
      "bottom": null,
      "display": null,
      "flex": null,
      "flex_flow": null,
      "grid_area": null,
      "grid_auto_columns": null,
      "grid_auto_flow": null,
      "grid_auto_rows": null,
      "grid_column": null,
      "grid_gap": null,
      "grid_row": null,
      "grid_template_areas": null,
      "grid_template_columns": null,
      "grid_template_rows": null,
      "height": null,
      "justify_content": null,
      "justify_items": null,
      "left": null,
      "margin": null,
      "max_height": null,
      "max_width": null,
      "min_height": null,
      "min_width": null,
      "object_fit": null,
      "object_position": null,
      "order": null,
      "overflow": null,
      "overflow_x": null,
      "overflow_y": null,
      "padding": null,
      "right": null,
      "top": null,
      "visibility": null,
      "width": null
     }
    },
    "b4aef7d276014b079b292ac1a498a1e6": {
     "model_module": "@jupyter-widgets/base",
     "model_module_version": "1.2.0",
     "model_name": "LayoutModel",
     "state": {
      "_model_module": "@jupyter-widgets/base",
      "_model_module_version": "1.2.0",
      "_model_name": "LayoutModel",
      "_view_count": null,
      "_view_module": "@jupyter-widgets/base",
      "_view_module_version": "1.2.0",
      "_view_name": "LayoutView",
      "align_content": null,
      "align_items": null,
      "align_self": null,
      "border": null,
      "bottom": null,
      "display": null,
      "flex": null,
      "flex_flow": null,
      "grid_area": null,
      "grid_auto_columns": null,
      "grid_auto_flow": null,
      "grid_auto_rows": null,
      "grid_column": null,
      "grid_gap": null,
      "grid_row": null,
      "grid_template_areas": null,
      "grid_template_columns": null,
      "grid_template_rows": null,
      "height": null,
      "justify_content": null,
      "justify_items": null,
      "left": null,
      "margin": null,
      "max_height": null,
      "max_width": null,
      "min_height": null,
      "min_width": null,
      "object_fit": null,
      "object_position": null,
      "order": null,
      "overflow": null,
      "overflow_x": null,
      "overflow_y": null,
      "padding": null,
      "right": null,
      "top": null,
      "visibility": null,
      "width": null
     }
    },
    "b86942a080df429c8a0bd470b12b01ae": {
     "model_module": "@jupyter-widgets/controls",
     "model_module_version": "1.5.0",
     "model_name": "ProgressStyleModel",
     "state": {
      "_model_module": "@jupyter-widgets/controls",
      "_model_module_version": "1.5.0",
      "_model_name": "ProgressStyleModel",
      "_view_count": null,
      "_view_module": "@jupyter-widgets/base",
      "_view_module_version": "1.2.0",
      "_view_name": "StyleView",
      "bar_color": null,
      "description_width": ""
     }
    },
    "bb6a68fbb87d4d3294b3dfbcb0fb354d": {
     "model_module": "@jupyter-widgets/base",
     "model_module_version": "1.2.0",
     "model_name": "LayoutModel",
     "state": {
      "_model_module": "@jupyter-widgets/base",
      "_model_module_version": "1.2.0",
      "_model_name": "LayoutModel",
      "_view_count": null,
      "_view_module": "@jupyter-widgets/base",
      "_view_module_version": "1.2.0",
      "_view_name": "LayoutView",
      "align_content": null,
      "align_items": null,
      "align_self": null,
      "border": null,
      "bottom": null,
      "display": null,
      "flex": null,
      "flex_flow": null,
      "grid_area": null,
      "grid_auto_columns": null,
      "grid_auto_flow": null,
      "grid_auto_rows": null,
      "grid_column": null,
      "grid_gap": null,
      "grid_row": null,
      "grid_template_areas": null,
      "grid_template_columns": null,
      "grid_template_rows": null,
      "height": null,
      "justify_content": null,
      "justify_items": null,
      "left": null,
      "margin": null,
      "max_height": null,
      "max_width": null,
      "min_height": null,
      "min_width": null,
      "object_fit": null,
      "object_position": null,
      "order": null,
      "overflow": null,
      "overflow_x": null,
      "overflow_y": null,
      "padding": null,
      "right": null,
      "top": null,
      "visibility": null,
      "width": null
     }
    },
    "bc714e58ab2046689a4fc18102dc8306": {
     "model_module": "@jupyter-widgets/controls",
     "model_module_version": "1.5.0",
     "model_name": "HTMLModel",
     "state": {
      "_dom_classes": [],
      "_model_module": "@jupyter-widgets/controls",
      "_model_module_version": "1.5.0",
      "_model_name": "HTMLModel",
      "_view_count": null,
      "_view_module": "@jupyter-widgets/controls",
      "_view_module_version": "1.5.0",
      "_view_name": "HTMLView",
      "description": "",
      "description_tooltip": null,
      "layout": "IPY_MODEL_132fa4263e3d4881ab5e9879cd986f4c",
      "placeholder": "​",
      "style": "IPY_MODEL_632184bf309546db9903cb5af07eb943",
      "value": " 1.34G/1.34G [00:06&lt;00:00, 206MB/s]"
     }
    },
    "bcf0f43316ac41b4b45c29c292ba44de": {
     "model_module": "@jupyter-widgets/base",
     "model_module_version": "1.2.0",
     "model_name": "LayoutModel",
     "state": {
      "_model_module": "@jupyter-widgets/base",
      "_model_module_version": "1.2.0",
      "_model_name": "LayoutModel",
      "_view_count": null,
      "_view_module": "@jupyter-widgets/base",
      "_view_module_version": "1.2.0",
      "_view_name": "LayoutView",
      "align_content": null,
      "align_items": null,
      "align_self": null,
      "border": null,
      "bottom": null,
      "display": null,
      "flex": null,
      "flex_flow": null,
      "grid_area": null,
      "grid_auto_columns": null,
      "grid_auto_flow": null,
      "grid_auto_rows": null,
      "grid_column": null,
      "grid_gap": null,
      "grid_row": null,
      "grid_template_areas": null,
      "grid_template_columns": null,
      "grid_template_rows": null,
      "height": null,
      "justify_content": null,
      "justify_items": null,
      "left": null,
      "margin": null,
      "max_height": null,
      "max_width": null,
      "min_height": null,
      "min_width": null,
      "object_fit": null,
      "object_position": null,
      "order": null,
      "overflow": null,
      "overflow_x": null,
      "overflow_y": null,
      "padding": null,
      "right": null,
      "top": null,
      "visibility": null,
      "width": null
     }
    },
    "be4217fe327d4661b130f8345e4248e3": {
     "model_module": "@jupyter-widgets/controls",
     "model_module_version": "1.5.0",
     "model_name": "HBoxModel",
     "state": {
      "_dom_classes": [],
      "_model_module": "@jupyter-widgets/controls",
      "_model_module_version": "1.5.0",
      "_model_name": "HBoxModel",
      "_view_count": null,
      "_view_module": "@jupyter-widgets/controls",
      "_view_module_version": "1.5.0",
      "_view_name": "HBoxView",
      "box_style": "",
      "children": [
       "IPY_MODEL_ac7c24ac48d54e9e89b1215e18c71e78",
       "IPY_MODEL_5b79a5905d39421e8de8035f82539c77",
       "IPY_MODEL_cb826dabe31b41b281a76f378ac431d3"
      ],
      "layout": "IPY_MODEL_f8470c56dd50400784e51ff257facc98"
     }
    },
    "c04c3b59375f4549851d87aa2c7100a3": {
     "model_module": "@jupyter-widgets/controls",
     "model_module_version": "1.5.0",
     "model_name": "ProgressStyleModel",
     "state": {
      "_model_module": "@jupyter-widgets/controls",
      "_model_module_version": "1.5.0",
      "_model_name": "ProgressStyleModel",
      "_view_count": null,
      "_view_module": "@jupyter-widgets/base",
      "_view_module_version": "1.2.0",
      "_view_name": "StyleView",
      "bar_color": null,
      "description_width": ""
     }
    },
    "c0f97752b26c49309d3613148bbfef2f": {
     "model_module": "@jupyter-widgets/base",
     "model_module_version": "1.2.0",
     "model_name": "LayoutModel",
     "state": {
      "_model_module": "@jupyter-widgets/base",
      "_model_module_version": "1.2.0",
      "_model_name": "LayoutModel",
      "_view_count": null,
      "_view_module": "@jupyter-widgets/base",
      "_view_module_version": "1.2.0",
      "_view_name": "LayoutView",
      "align_content": null,
      "align_items": null,
      "align_self": null,
      "border": null,
      "bottom": null,
      "display": null,
      "flex": null,
      "flex_flow": null,
      "grid_area": null,
      "grid_auto_columns": null,
      "grid_auto_flow": null,
      "grid_auto_rows": null,
      "grid_column": null,
      "grid_gap": null,
      "grid_row": null,
      "grid_template_areas": null,
      "grid_template_columns": null,
      "grid_template_rows": null,
      "height": null,
      "justify_content": null,
      "justify_items": null,
      "left": null,
      "margin": null,
      "max_height": null,
      "max_width": null,
      "min_height": null,
      "min_width": null,
      "object_fit": null,
      "object_position": null,
      "order": null,
      "overflow": null,
      "overflow_x": null,
      "overflow_y": null,
      "padding": null,
      "right": null,
      "top": null,
      "visibility": null,
      "width": null
     }
    },
    "c142c4ad54c44287909f63f4043fb8b1": {
     "model_module": "@jupyter-widgets/base",
     "model_module_version": "1.2.0",
     "model_name": "LayoutModel",
     "state": {
      "_model_module": "@jupyter-widgets/base",
      "_model_module_version": "1.2.0",
      "_model_name": "LayoutModel",
      "_view_count": null,
      "_view_module": "@jupyter-widgets/base",
      "_view_module_version": "1.2.0",
      "_view_name": "LayoutView",
      "align_content": null,
      "align_items": null,
      "align_self": null,
      "border": null,
      "bottom": null,
      "display": null,
      "flex": null,
      "flex_flow": null,
      "grid_area": null,
      "grid_auto_columns": null,
      "grid_auto_flow": null,
      "grid_auto_rows": null,
      "grid_column": null,
      "grid_gap": null,
      "grid_row": null,
      "grid_template_areas": null,
      "grid_template_columns": null,
      "grid_template_rows": null,
      "height": null,
      "justify_content": null,
      "justify_items": null,
      "left": null,
      "margin": null,
      "max_height": null,
      "max_width": null,
      "min_height": null,
      "min_width": null,
      "object_fit": null,
      "object_position": null,
      "order": null,
      "overflow": null,
      "overflow_x": null,
      "overflow_y": null,
      "padding": null,
      "right": null,
      "top": null,
      "visibility": null,
      "width": null
     }
    },
    "c1c727d8ce074e709a3a8c9dd8a7c71e": {
     "model_module": "@jupyter-widgets/controls",
     "model_module_version": "1.5.0",
     "model_name": "ProgressStyleModel",
     "state": {
      "_model_module": "@jupyter-widgets/controls",
      "_model_module_version": "1.5.0",
      "_model_name": "ProgressStyleModel",
      "_view_count": null,
      "_view_module": "@jupyter-widgets/base",
      "_view_module_version": "1.2.0",
      "_view_name": "StyleView",
      "bar_color": null,
      "description_width": ""
     }
    },
    "c1c8a7e2e64542f79271cb9a76a3e4f2": {
     "model_module": "@jupyter-widgets/controls",
     "model_module_version": "1.5.0",
     "model_name": "DescriptionStyleModel",
     "state": {
      "_model_module": "@jupyter-widgets/controls",
      "_model_module_version": "1.5.0",
      "_model_name": "DescriptionStyleModel",
      "_view_count": null,
      "_view_module": "@jupyter-widgets/base",
      "_view_module_version": "1.2.0",
      "_view_name": "StyleView",
      "description_width": ""
     }
    },
    "c2700e33c6b14494b1764934361d5279": {
     "model_module": "@jupyter-widgets/base",
     "model_module_version": "1.2.0",
     "model_name": "LayoutModel",
     "state": {
      "_model_module": "@jupyter-widgets/base",
      "_model_module_version": "1.2.0",
      "_model_name": "LayoutModel",
      "_view_count": null,
      "_view_module": "@jupyter-widgets/base",
      "_view_module_version": "1.2.0",
      "_view_name": "LayoutView",
      "align_content": null,
      "align_items": null,
      "align_self": null,
      "border": null,
      "bottom": null,
      "display": null,
      "flex": null,
      "flex_flow": null,
      "grid_area": null,
      "grid_auto_columns": null,
      "grid_auto_flow": null,
      "grid_auto_rows": null,
      "grid_column": null,
      "grid_gap": null,
      "grid_row": null,
      "grid_template_areas": null,
      "grid_template_columns": null,
      "grid_template_rows": null,
      "height": null,
      "justify_content": null,
      "justify_items": null,
      "left": null,
      "margin": null,
      "max_height": null,
      "max_width": null,
      "min_height": null,
      "min_width": null,
      "object_fit": null,
      "object_position": null,
      "order": null,
      "overflow": null,
      "overflow_x": null,
      "overflow_y": null,
      "padding": null,
      "right": null,
      "top": null,
      "visibility": null,
      "width": null
     }
    },
    "c2b2ba7505ab4fc88630ed052e2a184c": {
     "model_module": "@jupyter-widgets/controls",
     "model_module_version": "1.5.0",
     "model_name": "FloatProgressModel",
     "state": {
      "_dom_classes": [],
      "_model_module": "@jupyter-widgets/controls",
      "_model_module_version": "1.5.0",
      "_model_name": "FloatProgressModel",
      "_view_count": null,
      "_view_module": "@jupyter-widgets/controls",
      "_view_module_version": "1.5.0",
      "_view_name": "ProgressView",
      "bar_style": "success",
      "description": "",
      "description_tooltip": null,
      "layout": "IPY_MODEL_1a7524bd04024443b94c0f0d6b612707",
      "max": 461,
      "min": 0,
      "orientation": "horizontal",
      "style": "IPY_MODEL_06691139cd6d402eb61466ef8263f05b",
      "value": 461
     }
    },
    "c373ce9f106544078a83434025b7dcab": {
     "model_module": "@jupyter-widgets/controls",
     "model_module_version": "1.5.0",
     "model_name": "HBoxModel",
     "state": {
      "_dom_classes": [],
      "_model_module": "@jupyter-widgets/controls",
      "_model_module_version": "1.5.0",
      "_model_name": "HBoxModel",
      "_view_count": null,
      "_view_module": "@jupyter-widgets/controls",
      "_view_module_version": "1.5.0",
      "_view_name": "HBoxView",
      "box_style": "",
      "children": [
       "IPY_MODEL_e67fdd8402fd4eadba02d6e754e4592a",
       "IPY_MODEL_ea6b8a0162a94e5cbe213591c9bbe4f6",
       "IPY_MODEL_8f13e5c9b46243cc9e3c66a69fa3d9ee"
      ],
      "layout": "IPY_MODEL_e6e00651337b4529bf1b0f8254928622"
     }
    },
    "c51a2338d94b471f978ddf2ad24647f4": {
     "model_module": "@jupyter-widgets/base",
     "model_module_version": "1.2.0",
     "model_name": "LayoutModel",
     "state": {
      "_model_module": "@jupyter-widgets/base",
      "_model_module_version": "1.2.0",
      "_model_name": "LayoutModel",
      "_view_count": null,
      "_view_module": "@jupyter-widgets/base",
      "_view_module_version": "1.2.0",
      "_view_name": "LayoutView",
      "align_content": null,
      "align_items": null,
      "align_self": null,
      "border": null,
      "bottom": null,
      "display": null,
      "flex": null,
      "flex_flow": null,
      "grid_area": null,
      "grid_auto_columns": null,
      "grid_auto_flow": null,
      "grid_auto_rows": null,
      "grid_column": null,
      "grid_gap": null,
      "grid_row": null,
      "grid_template_areas": null,
      "grid_template_columns": null,
      "grid_template_rows": null,
      "height": null,
      "justify_content": null,
      "justify_items": null,
      "left": null,
      "margin": null,
      "max_height": null,
      "max_width": null,
      "min_height": null,
      "min_width": null,
      "object_fit": null,
      "object_position": null,
      "order": null,
      "overflow": null,
      "overflow_x": null,
      "overflow_y": null,
      "padding": null,
      "right": null,
      "top": null,
      "visibility": null,
      "width": null
     }
    },
    "c581a3fa7e0240b892668319bfeb23ee": {
     "model_module": "@jupyter-widgets/base",
     "model_module_version": "1.2.0",
     "model_name": "LayoutModel",
     "state": {
      "_model_module": "@jupyter-widgets/base",
      "_model_module_version": "1.2.0",
      "_model_name": "LayoutModel",
      "_view_count": null,
      "_view_module": "@jupyter-widgets/base",
      "_view_module_version": "1.2.0",
      "_view_name": "LayoutView",
      "align_content": null,
      "align_items": null,
      "align_self": null,
      "border": null,
      "bottom": null,
      "display": null,
      "flex": null,
      "flex_flow": null,
      "grid_area": null,
      "grid_auto_columns": null,
      "grid_auto_flow": null,
      "grid_auto_rows": null,
      "grid_column": null,
      "grid_gap": null,
      "grid_row": null,
      "grid_template_areas": null,
      "grid_template_columns": null,
      "grid_template_rows": null,
      "height": null,
      "justify_content": null,
      "justify_items": null,
      "left": null,
      "margin": null,
      "max_height": null,
      "max_width": null,
      "min_height": null,
      "min_width": null,
      "object_fit": null,
      "object_position": null,
      "order": null,
      "overflow": null,
      "overflow_x": null,
      "overflow_y": null,
      "padding": null,
      "right": null,
      "top": null,
      "visibility": null,
      "width": null
     }
    },
    "c5d5d6239121442385e57d5a2d8b652c": {
     "model_module": "@jupyter-widgets/base",
     "model_module_version": "1.2.0",
     "model_name": "LayoutModel",
     "state": {
      "_model_module": "@jupyter-widgets/base",
      "_model_module_version": "1.2.0",
      "_model_name": "LayoutModel",
      "_view_count": null,
      "_view_module": "@jupyter-widgets/base",
      "_view_module_version": "1.2.0",
      "_view_name": "LayoutView",
      "align_content": null,
      "align_items": null,
      "align_self": null,
      "border": null,
      "bottom": null,
      "display": null,
      "flex": null,
      "flex_flow": null,
      "grid_area": null,
      "grid_auto_columns": null,
      "grid_auto_flow": null,
      "grid_auto_rows": null,
      "grid_column": null,
      "grid_gap": null,
      "grid_row": null,
      "grid_template_areas": null,
      "grid_template_columns": null,
      "grid_template_rows": null,
      "height": null,
      "justify_content": null,
      "justify_items": null,
      "left": null,
      "margin": null,
      "max_height": null,
      "max_width": null,
      "min_height": null,
      "min_width": null,
      "object_fit": null,
      "object_position": null,
      "order": null,
      "overflow": null,
      "overflow_x": null,
      "overflow_y": null,
      "padding": null,
      "right": null,
      "top": null,
      "visibility": null,
      "width": null
     }
    },
    "c5e47854b49247fda86fae5653495816": {
     "model_module": "@jupyter-widgets/base",
     "model_module_version": "1.2.0",
     "model_name": "LayoutModel",
     "state": {
      "_model_module": "@jupyter-widgets/base",
      "_model_module_version": "1.2.0",
      "_model_name": "LayoutModel",
      "_view_count": null,
      "_view_module": "@jupyter-widgets/base",
      "_view_module_version": "1.2.0",
      "_view_name": "LayoutView",
      "align_content": null,
      "align_items": null,
      "align_self": null,
      "border": null,
      "bottom": null,
      "display": null,
      "flex": null,
      "flex_flow": null,
      "grid_area": null,
      "grid_auto_columns": null,
      "grid_auto_flow": null,
      "grid_auto_rows": null,
      "grid_column": null,
      "grid_gap": null,
      "grid_row": null,
      "grid_template_areas": null,
      "grid_template_columns": null,
      "grid_template_rows": null,
      "height": null,
      "justify_content": null,
      "justify_items": null,
      "left": null,
      "margin": null,
      "max_height": null,
      "max_width": null,
      "min_height": null,
      "min_width": null,
      "object_fit": null,
      "object_position": null,
      "order": null,
      "overflow": null,
      "overflow_x": null,
      "overflow_y": null,
      "padding": null,
      "right": null,
      "top": null,
      "visibility": null,
      "width": null
     }
    },
    "c5f3d161e4f346948db2b555cb1bc80d": {
     "model_module": "@jupyter-widgets/controls",
     "model_module_version": "1.5.0",
     "model_name": "FloatProgressModel",
     "state": {
      "_dom_classes": [],
      "_model_module": "@jupyter-widgets/controls",
      "_model_module_version": "1.5.0",
      "_model_name": "FloatProgressModel",
      "_view_count": null,
      "_view_module": "@jupyter-widgets/controls",
      "_view_module_version": "1.5.0",
      "_view_name": "ProgressView",
      "bar_style": "success",
      "description": "",
      "description_tooltip": null,
      "layout": "IPY_MODEL_7b4704cdb87b4103859e7c121c1dfe29",
      "max": 116,
      "min": 0,
      "orientation": "horizontal",
      "style": "IPY_MODEL_e78abedb595a46859823c2ca1dd678e1",
      "value": 116
     }
    },
    "c8821bec583444168f86d10d5a8aa85b": {
     "model_module": "@jupyter-widgets/controls",
     "model_module_version": "1.5.0",
     "model_name": "ProgressStyleModel",
     "state": {
      "_model_module": "@jupyter-widgets/controls",
      "_model_module_version": "1.5.0",
      "_model_name": "ProgressStyleModel",
      "_view_count": null,
      "_view_module": "@jupyter-widgets/base",
      "_view_module_version": "1.2.0",
      "_view_name": "StyleView",
      "bar_color": null,
      "description_width": ""
     }
    },
    "c937d640fc0643d78d00b8543f117acd": {
     "model_module": "@jupyter-widgets/controls",
     "model_module_version": "1.5.0",
     "model_name": "DescriptionStyleModel",
     "state": {
      "_model_module": "@jupyter-widgets/controls",
      "_model_module_version": "1.5.0",
      "_model_name": "DescriptionStyleModel",
      "_view_count": null,
      "_view_module": "@jupyter-widgets/base",
      "_view_module_version": "1.2.0",
      "_view_name": "StyleView",
      "description_width": ""
     }
    },
    "cb826dabe31b41b281a76f378ac431d3": {
     "model_module": "@jupyter-widgets/controls",
     "model_module_version": "1.5.0",
     "model_name": "HTMLModel",
     "state": {
      "_dom_classes": [],
      "_model_module": "@jupyter-widgets/controls",
      "_model_module_version": "1.5.0",
      "_model_name": "HTMLModel",
      "_view_count": null,
      "_view_module": "@jupyter-widgets/controls",
      "_view_module_version": "1.5.0",
      "_view_name": "HTMLView",
      "description": "",
      "description_tooltip": null,
      "layout": "IPY_MODEL_c581a3fa7e0240b892668319bfeb23ee",
      "placeholder": "​",
      "style": "IPY_MODEL_476592e05d9a43bd96081d4f682081b7",
      "value": " 792k/792k [00:00&lt;00:00, 49.1MB/s]"
     }
    },
    "ccc4401aa8c2468b8899339b225868ca": {
     "model_module": "@jupyter-widgets/controls",
     "model_module_version": "1.5.0",
     "model_name": "HBoxModel",
     "state": {
      "_dom_classes": [],
      "_model_module": "@jupyter-widgets/controls",
      "_model_module_version": "1.5.0",
      "_model_name": "HBoxModel",
      "_view_count": null,
      "_view_module": "@jupyter-widgets/controls",
      "_view_module_version": "1.5.0",
      "_view_name": "HBoxView",
      "box_style": "",
      "children": [
       "IPY_MODEL_da3812698f1c4c34b557118941ffa3f8",
       "IPY_MODEL_46fb313743cd4143b8c635fb19bec7b2",
       "IPY_MODEL_bc714e58ab2046689a4fc18102dc8306"
      ],
      "layout": "IPY_MODEL_4c9c0151478f4f55abb762c131913749"
     }
    },
    "cd7be2b7c6ea4322b3ca9134e44b8b2e": {
     "model_module": "@jupyter-widgets/base",
     "model_module_version": "1.2.0",
     "model_name": "LayoutModel",
     "state": {
      "_model_module": "@jupyter-widgets/base",
      "_model_module_version": "1.2.0",
      "_model_name": "LayoutModel",
      "_view_count": null,
      "_view_module": "@jupyter-widgets/base",
      "_view_module_version": "1.2.0",
      "_view_name": "LayoutView",
      "align_content": null,
      "align_items": null,
      "align_self": null,
      "border": null,
      "bottom": null,
      "display": null,
      "flex": null,
      "flex_flow": null,
      "grid_area": null,
      "grid_auto_columns": null,
      "grid_auto_flow": null,
      "grid_auto_rows": null,
      "grid_column": null,
      "grid_gap": null,
      "grid_row": null,
      "grid_template_areas": null,
      "grid_template_columns": null,
      "grid_template_rows": null,
      "height": null,
      "justify_content": null,
      "justify_items": null,
      "left": null,
      "margin": null,
      "max_height": null,
      "max_width": null,
      "min_height": null,
      "min_width": null,
      "object_fit": null,
      "object_position": null,
      "order": null,
      "overflow": null,
      "overflow_x": null,
      "overflow_y": null,
      "padding": null,
      "right": null,
      "top": null,
      "visibility": null,
      "width": null
     }
    },
    "d16deebdeb304322b2b02baa3c792d39": {
     "model_module": "@jupyter-widgets/base",
     "model_module_version": "1.2.0",
     "model_name": "LayoutModel",
     "state": {
      "_model_module": "@jupyter-widgets/base",
      "_model_module_version": "1.2.0",
      "_model_name": "LayoutModel",
      "_view_count": null,
      "_view_module": "@jupyter-widgets/base",
      "_view_module_version": "1.2.0",
      "_view_name": "LayoutView",
      "align_content": null,
      "align_items": null,
      "align_self": null,
      "border": null,
      "bottom": null,
      "display": null,
      "flex": null,
      "flex_flow": null,
      "grid_area": null,
      "grid_auto_columns": null,
      "grid_auto_flow": null,
      "grid_auto_rows": null,
      "grid_column": null,
      "grid_gap": null,
      "grid_row": null,
      "grid_template_areas": null,
      "grid_template_columns": null,
      "grid_template_rows": null,
      "height": null,
      "justify_content": null,
      "justify_items": null,
      "left": null,
      "margin": null,
      "max_height": null,
      "max_width": null,
      "min_height": null,
      "min_width": null,
      "object_fit": null,
      "object_position": null,
      "order": null,
      "overflow": null,
      "overflow_x": null,
      "overflow_y": null,
      "padding": null,
      "right": null,
      "top": null,
      "visibility": null,
      "width": null
     }
    },
    "d501911f2f8d4b5584d47d938eeb635a": {
     "model_module": "@jupyter-widgets/controls",
     "model_module_version": "1.5.0",
     "model_name": "ProgressStyleModel",
     "state": {
      "_model_module": "@jupyter-widgets/controls",
      "_model_module_version": "1.5.0",
      "_model_name": "ProgressStyleModel",
      "_view_count": null,
      "_view_module": "@jupyter-widgets/base",
      "_view_module_version": "1.2.0",
      "_view_name": "StyleView",
      "bar_color": null,
      "description_width": ""
     }
    },
    "d69f18c439b24d0cad61b75182e9c0f6": {
     "model_module": "@jupyter-widgets/base",
     "model_module_version": "1.2.0",
     "model_name": "LayoutModel",
     "state": {
      "_model_module": "@jupyter-widgets/base",
      "_model_module_version": "1.2.0",
      "_model_name": "LayoutModel",
      "_view_count": null,
      "_view_module": "@jupyter-widgets/base",
      "_view_module_version": "1.2.0",
      "_view_name": "LayoutView",
      "align_content": null,
      "align_items": null,
      "align_self": null,
      "border": null,
      "bottom": null,
      "display": null,
      "flex": null,
      "flex_flow": null,
      "grid_area": null,
      "grid_auto_columns": null,
      "grid_auto_flow": null,
      "grid_auto_rows": null,
      "grid_column": null,
      "grid_gap": null,
      "grid_row": null,
      "grid_template_areas": null,
      "grid_template_columns": null,
      "grid_template_rows": null,
      "height": null,
      "justify_content": null,
      "justify_items": null,
      "left": null,
      "margin": null,
      "max_height": null,
      "max_width": null,
      "min_height": null,
      "min_width": null,
      "object_fit": null,
      "object_position": null,
      "order": null,
      "overflow": null,
      "overflow_x": null,
      "overflow_y": null,
      "padding": null,
      "right": null,
      "top": null,
      "visibility": null,
      "width": null
     }
    },
    "da3812698f1c4c34b557118941ffa3f8": {
     "model_module": "@jupyter-widgets/controls",
     "model_module_version": "1.5.0",
     "model_name": "HTMLModel",
     "state": {
      "_dom_classes": [],
      "_model_module": "@jupyter-widgets/controls",
      "_model_module_version": "1.5.0",
      "_model_name": "HTMLModel",
      "_view_count": null,
      "_view_module": "@jupyter-widgets/controls",
      "_view_module_version": "1.5.0",
      "_view_name": "HTMLView",
      "description": "",
      "description_tooltip": null,
      "layout": "IPY_MODEL_2949c835f81846769f8019be9ab51db8",
      "placeholder": "​",
      "style": "IPY_MODEL_ee9b9d6c46354307900ee8daaf059918",
      "value": "pytorch_model.bin: 100%"
     }
    },
    "dd532fb7dba645018a9b97612ba9dd97": {
     "model_module": "@jupyter-widgets/controls",
     "model_module_version": "1.5.0",
     "model_name": "ProgressStyleModel",
     "state": {
      "_model_module": "@jupyter-widgets/controls",
      "_model_module_version": "1.5.0",
      "_model_name": "ProgressStyleModel",
      "_view_count": null,
      "_view_module": "@jupyter-widgets/base",
      "_view_module_version": "1.2.0",
      "_view_name": "StyleView",
      "bar_color": null,
      "description_width": ""
     }
    },
    "de276a17fbb946499d8230807fbec348": {
     "model_module": "@jupyter-widgets/controls",
     "model_module_version": "1.5.0",
     "model_name": "HTMLModel",
     "state": {
      "_dom_classes": [],
      "_model_module": "@jupyter-widgets/controls",
      "_model_module_version": "1.5.0",
      "_model_name": "HTMLModel",
      "_view_count": null,
      "_view_module": "@jupyter-widgets/controls",
      "_view_module_version": "1.5.0",
      "_view_name": "HTMLView",
      "description": "",
      "description_tooltip": null,
      "layout": "IPY_MODEL_2191229d7e4e44f680bae1b582d7d2ad",
      "placeholder": "​",
      "style": "IPY_MODEL_fb50b6da5f2e4c04b906e737775e92c6",
      "value": "2_Dense/config.json: 100%"
     }
    },
    "df2ba0c7712f480aa8b0a6d274bde261": {
     "model_module": "@jupyter-widgets/controls",
     "model_module_version": "1.5.0",
     "model_name": "DescriptionStyleModel",
     "state": {
      "_model_module": "@jupyter-widgets/controls",
      "_model_module_version": "1.5.0",
      "_model_name": "DescriptionStyleModel",
      "_view_count": null,
      "_view_module": "@jupyter-widgets/base",
      "_view_module_version": "1.2.0",
      "_view_name": "StyleView",
      "description_width": ""
     }
    },
    "e00ebdc6f1374f868b2d3bf284ca3a90": {
     "model_module": "@jupyter-widgets/controls",
     "model_module_version": "1.5.0",
     "model_name": "ProgressStyleModel",
     "state": {
      "_model_module": "@jupyter-widgets/controls",
      "_model_module_version": "1.5.0",
      "_model_name": "ProgressStyleModel",
      "_view_count": null,
      "_view_module": "@jupyter-widgets/base",
      "_view_module_version": "1.2.0",
      "_view_name": "StyleView",
      "bar_color": null,
      "description_width": ""
     }
    },
    "e05ecebbccf041bfbba253c23cfe8c1a": {
     "model_module": "@jupyter-widgets/base",
     "model_module_version": "1.2.0",
     "model_name": "LayoutModel",
     "state": {
      "_model_module": "@jupyter-widgets/base",
      "_model_module_version": "1.2.0",
      "_model_name": "LayoutModel",
      "_view_count": null,
      "_view_module": "@jupyter-widgets/base",
      "_view_module_version": "1.2.0",
      "_view_name": "LayoutView",
      "align_content": null,
      "align_items": null,
      "align_self": null,
      "border": null,
      "bottom": null,
      "display": null,
      "flex": null,
      "flex_flow": null,
      "grid_area": null,
      "grid_auto_columns": null,
      "grid_auto_flow": null,
      "grid_auto_rows": null,
      "grid_column": null,
      "grid_gap": null,
      "grid_row": null,
      "grid_template_areas": null,
      "grid_template_columns": null,
      "grid_template_rows": null,
      "height": null,
      "justify_content": null,
      "justify_items": null,
      "left": null,
      "margin": null,
      "max_height": null,
      "max_width": null,
      "min_height": null,
      "min_width": null,
      "object_fit": null,
      "object_position": null,
      "order": null,
      "overflow": null,
      "overflow_x": null,
      "overflow_y": null,
      "padding": null,
      "right": null,
      "top": null,
      "visibility": null,
      "width": null
     }
    },
    "e08bbad7b1d84ebc8851931a42c0cf71": {
     "model_module": "@jupyter-widgets/controls",
     "model_module_version": "1.5.0",
     "model_name": "DescriptionStyleModel",
     "state": {
      "_model_module": "@jupyter-widgets/controls",
      "_model_module_version": "1.5.0",
      "_model_name": "DescriptionStyleModel",
      "_view_count": null,
      "_view_module": "@jupyter-widgets/base",
      "_view_module_version": "1.2.0",
      "_view_name": "StyleView",
      "description_width": ""
     }
    },
    "e2c78be0f005413980349517a6caa546": {
     "model_module": "@jupyter-widgets/base",
     "model_module_version": "1.2.0",
     "model_name": "LayoutModel",
     "state": {
      "_model_module": "@jupyter-widgets/base",
      "_model_module_version": "1.2.0",
      "_model_name": "LayoutModel",
      "_view_count": null,
      "_view_module": "@jupyter-widgets/base",
      "_view_module_version": "1.2.0",
      "_view_name": "LayoutView",
      "align_content": null,
      "align_items": null,
      "align_self": null,
      "border": null,
      "bottom": null,
      "display": null,
      "flex": null,
      "flex_flow": null,
      "grid_area": null,
      "grid_auto_columns": null,
      "grid_auto_flow": null,
      "grid_auto_rows": null,
      "grid_column": null,
      "grid_gap": null,
      "grid_row": null,
      "grid_template_areas": null,
      "grid_template_columns": null,
      "grid_template_rows": null,
      "height": null,
      "justify_content": null,
      "justify_items": null,
      "left": null,
      "margin": null,
      "max_height": null,
      "max_width": null,
      "min_height": null,
      "min_width": null,
      "object_fit": null,
      "object_position": null,
      "order": null,
      "overflow": null,
      "overflow_x": null,
      "overflow_y": null,
      "padding": null,
      "right": null,
      "top": null,
      "visibility": null,
      "width": null
     }
    },
    "e5416231df8c456e9db2d70b1eecba3d": {
     "model_module": "@jupyter-widgets/controls",
     "model_module_version": "1.5.0",
     "model_name": "HTMLModel",
     "state": {
      "_dom_classes": [],
      "_model_module": "@jupyter-widgets/controls",
      "_model_module_version": "1.5.0",
      "_model_name": "HTMLModel",
      "_view_count": null,
      "_view_module": "@jupyter-widgets/controls",
      "_view_module_version": "1.5.0",
      "_view_name": "HTMLView",
      "description": "",
      "description_tooltip": null,
      "layout": "IPY_MODEL_0a0ce0294f6b4cb4936d42202dbe703d",
      "placeholder": "​",
      "style": "IPY_MODEL_2a6ddc97f5db42d3b7660669c279021b",
      "value": " 270/270 [00:00&lt;00:00, 23.4kB/s]"
     }
    },
    "e60950ffdef84a45b9887aaa18d8eced": {
     "model_module": "@jupyter-widgets/base",
     "model_module_version": "1.2.0",
     "model_name": "LayoutModel",
     "state": {
      "_model_module": "@jupyter-widgets/base",
      "_model_module_version": "1.2.0",
      "_model_name": "LayoutModel",
      "_view_count": null,
      "_view_module": "@jupyter-widgets/base",
      "_view_module_version": "1.2.0",
      "_view_name": "LayoutView",
      "align_content": null,
      "align_items": null,
      "align_self": null,
      "border": null,
      "bottom": null,
      "display": null,
      "flex": null,
      "flex_flow": null,
      "grid_area": null,
      "grid_auto_columns": null,
      "grid_auto_flow": null,
      "grid_auto_rows": null,
      "grid_column": null,
      "grid_gap": null,
      "grid_row": null,
      "grid_template_areas": null,
      "grid_template_columns": null,
      "grid_template_rows": null,
      "height": null,
      "justify_content": null,
      "justify_items": null,
      "left": null,
      "margin": null,
      "max_height": null,
      "max_width": null,
      "min_height": null,
      "min_width": null,
      "object_fit": null,
      "object_position": null,
      "order": null,
      "overflow": null,
      "overflow_x": null,
      "overflow_y": null,
      "padding": null,
      "right": null,
      "top": null,
      "visibility": null,
      "width": null
     }
    },
    "e67fdd8402fd4eadba02d6e754e4592a": {
     "model_module": "@jupyter-widgets/controls",
     "model_module_version": "1.5.0",
     "model_name": "HTMLModel",
     "state": {
      "_dom_classes": [],
      "_model_module": "@jupyter-widgets/controls",
      "_model_module_version": "1.5.0",
      "_model_name": "HTMLModel",
      "_view_count": null,
      "_view_module": "@jupyter-widgets/controls",
      "_view_module_version": "1.5.0",
      "_view_name": "HTMLView",
      "description": "",
      "description_tooltip": null,
      "layout": "IPY_MODEL_e60950ffdef84a45b9887aaa18d8eced",
      "placeholder": "​",
      "style": "IPY_MODEL_95c5999089464888a22f9aa4c351a8a8",
      "value": "special_tokens_map.json: 100%"
     }
    },
    "e6cef75b14594d22962609dbc4c6e0da": {
     "model_module": "@jupyter-widgets/controls",
     "model_module_version": "1.5.0",
     "model_name": "HTMLModel",
     "state": {
      "_dom_classes": [],
      "_model_module": "@jupyter-widgets/controls",
      "_model_module_version": "1.5.0",
      "_model_name": "HTMLModel",
      "_view_count": null,
      "_view_module": "@jupyter-widgets/controls",
      "_view_module_version": "1.5.0",
      "_view_name": "HTMLView",
      "description": "",
      "description_tooltip": null,
      "layout": "IPY_MODEL_43a5d52f78be45058283005e206d4afc",
      "placeholder": "​",
      "style": "IPY_MODEL_e08bbad7b1d84ebc8851931a42c0cf71",
      "value": "pytorch_model.bin: 100%"
     }
    },
    "e6e00651337b4529bf1b0f8254928622": {
     "model_module": "@jupyter-widgets/base",
     "model_module_version": "1.2.0",
     "model_name": "LayoutModel",
     "state": {
      "_model_module": "@jupyter-widgets/base",
      "_model_module_version": "1.2.0",
      "_model_name": "LayoutModel",
      "_view_count": null,
      "_view_module": "@jupyter-widgets/base",
      "_view_module_version": "1.2.0",
      "_view_name": "LayoutView",
      "align_content": null,
      "align_items": null,
      "align_self": null,
      "border": null,
      "bottom": null,
      "display": null,
      "flex": null,
      "flex_flow": null,
      "grid_area": null,
      "grid_auto_columns": null,
      "grid_auto_flow": null,
      "grid_auto_rows": null,
      "grid_column": null,
      "grid_gap": null,
      "grid_row": null,
      "grid_template_areas": null,
      "grid_template_columns": null,
      "grid_template_rows": null,
      "height": null,
      "justify_content": null,
      "justify_items": null,
      "left": null,
      "margin": null,
      "max_height": null,
      "max_width": null,
      "min_height": null,
      "min_width": null,
      "object_fit": null,
      "object_position": null,
      "order": null,
      "overflow": null,
      "overflow_x": null,
      "overflow_y": null,
      "padding": null,
      "right": null,
      "top": null,
      "visibility": null,
      "width": null
     }
    },
    "e6fd635ad64b425d9ad4adde376138e9": {
     "model_module": "@jupyter-widgets/controls",
     "model_module_version": "1.5.0",
     "model_name": "DescriptionStyleModel",
     "state": {
      "_model_module": "@jupyter-widgets/controls",
      "_model_module_version": "1.5.0",
      "_model_name": "DescriptionStyleModel",
      "_view_count": null,
      "_view_module": "@jupyter-widgets/base",
      "_view_module_version": "1.2.0",
      "_view_name": "StyleView",
      "description_width": ""
     }
    },
    "e78abedb595a46859823c2ca1dd678e1": {
     "model_module": "@jupyter-widgets/controls",
     "model_module_version": "1.5.0",
     "model_name": "ProgressStyleModel",
     "state": {
      "_model_module": "@jupyter-widgets/controls",
      "_model_module_version": "1.5.0",
      "_model_name": "ProgressStyleModel",
      "_view_count": null,
      "_view_module": "@jupyter-widgets/base",
      "_view_module_version": "1.2.0",
      "_view_name": "StyleView",
      "bar_color": null,
      "description_width": ""
     }
    },
    "ea42b0dfc83e451c896c7a1a5d718356": {
     "model_module": "@jupyter-widgets/controls",
     "model_module_version": "1.5.0",
     "model_name": "HBoxModel",
     "state": {
      "_dom_classes": [],
      "_model_module": "@jupyter-widgets/controls",
      "_model_module_version": "1.5.0",
      "_model_name": "HBoxModel",
      "_view_count": null,
      "_view_module": "@jupyter-widgets/controls",
      "_view_module_version": "1.5.0",
      "_view_name": "HBoxView",
      "box_style": "",
      "children": [
       "IPY_MODEL_5f689a6cf6974734945c6de6c099db8c",
       "IPY_MODEL_2661744d046b49118af1a4872e67b89a",
       "IPY_MODEL_05db639868214063bf151a5805a8e06e"
      ],
      "layout": "IPY_MODEL_d16deebdeb304322b2b02baa3c792d39"
     }
    },
    "ea6b8a0162a94e5cbe213591c9bbe4f6": {
     "model_module": "@jupyter-widgets/controls",
     "model_module_version": "1.5.0",
     "model_name": "FloatProgressModel",
     "state": {
      "_dom_classes": [],
      "_model_module": "@jupyter-widgets/controls",
      "_model_module_version": "1.5.0",
      "_model_name": "FloatProgressModel",
      "_view_count": null,
      "_view_module": "@jupyter-widgets/controls",
      "_view_module_version": "1.5.0",
      "_view_name": "ProgressView",
      "bar_style": "success",
      "description": "",
      "description_tooltip": null,
      "layout": "IPY_MODEL_9b5f976bedb74672a779066c60f13c7e",
      "max": 2201,
      "min": 0,
      "orientation": "horizontal",
      "style": "IPY_MODEL_ed711afd701749b8a040b62cee8647da",
      "value": 2201
     }
    },
    "ed711afd701749b8a040b62cee8647da": {
     "model_module": "@jupyter-widgets/controls",
     "model_module_version": "1.5.0",
     "model_name": "ProgressStyleModel",
     "state": {
      "_model_module": "@jupyter-widgets/controls",
      "_model_module_version": "1.5.0",
      "_model_name": "ProgressStyleModel",
      "_view_count": null,
      "_view_module": "@jupyter-widgets/base",
      "_view_module_version": "1.2.0",
      "_view_name": "StyleView",
      "bar_color": null,
      "description_width": ""
     }
    },
    "ee1b8c9ed6fd475f9b9c50544cf6895b": {
     "model_module": "@jupyter-widgets/base",
     "model_module_version": "1.2.0",
     "model_name": "LayoutModel",
     "state": {
      "_model_module": "@jupyter-widgets/base",
      "_model_module_version": "1.2.0",
      "_model_name": "LayoutModel",
      "_view_count": null,
      "_view_module": "@jupyter-widgets/base",
      "_view_module_version": "1.2.0",
      "_view_name": "LayoutView",
      "align_content": null,
      "align_items": null,
      "align_self": null,
      "border": null,
      "bottom": null,
      "display": null,
      "flex": null,
      "flex_flow": null,
      "grid_area": null,
      "grid_auto_columns": null,
      "grid_auto_flow": null,
      "grid_auto_rows": null,
      "grid_column": null,
      "grid_gap": null,
      "grid_row": null,
      "grid_template_areas": null,
      "grid_template_columns": null,
      "grid_template_rows": null,
      "height": null,
      "justify_content": null,
      "justify_items": null,
      "left": null,
      "margin": null,
      "max_height": null,
      "max_width": null,
      "min_height": null,
      "min_width": null,
      "object_fit": null,
      "object_position": null,
      "order": null,
      "overflow": null,
      "overflow_x": null,
      "overflow_y": null,
      "padding": null,
      "right": null,
      "top": null,
      "visibility": null,
      "width": null
     }
    },
    "ee59322a07e54c3eb61bd309cec1063e": {
     "model_module": "@jupyter-widgets/base",
     "model_module_version": "1.2.0",
     "model_name": "LayoutModel",
     "state": {
      "_model_module": "@jupyter-widgets/base",
      "_model_module_version": "1.2.0",
      "_model_name": "LayoutModel",
      "_view_count": null,
      "_view_module": "@jupyter-widgets/base",
      "_view_module_version": "1.2.0",
      "_view_name": "LayoutView",
      "align_content": null,
      "align_items": null,
      "align_self": null,
      "border": null,
      "bottom": null,
      "display": null,
      "flex": null,
      "flex_flow": null,
      "grid_area": null,
      "grid_auto_columns": null,
      "grid_auto_flow": null,
      "grid_auto_rows": null,
      "grid_column": null,
      "grid_gap": null,
      "grid_row": null,
      "grid_template_areas": null,
      "grid_template_columns": null,
      "grid_template_rows": null,
      "height": null,
      "justify_content": null,
      "justify_items": null,
      "left": null,
      "margin": null,
      "max_height": null,
      "max_width": null,
      "min_height": null,
      "min_width": null,
      "object_fit": null,
      "object_position": null,
      "order": null,
      "overflow": null,
      "overflow_x": null,
      "overflow_y": null,
      "padding": null,
      "right": null,
      "top": null,
      "visibility": null,
      "width": null
     }
    },
    "ee9b9d6c46354307900ee8daaf059918": {
     "model_module": "@jupyter-widgets/controls",
     "model_module_version": "1.5.0",
     "model_name": "DescriptionStyleModel",
     "state": {
      "_model_module": "@jupyter-widgets/controls",
      "_model_module_version": "1.5.0",
      "_model_name": "DescriptionStyleModel",
      "_view_count": null,
      "_view_module": "@jupyter-widgets/base",
      "_view_module_version": "1.2.0",
      "_view_name": "StyleView",
      "description_width": ""
     }
    },
    "f0d8998f523f4f0baf2ba65b5b17a83b": {
     "model_module": "@jupyter-widgets/controls",
     "model_module_version": "1.5.0",
     "model_name": "HTMLModel",
     "state": {
      "_dom_classes": [],
      "_model_module": "@jupyter-widgets/controls",
      "_model_module_version": "1.5.0",
      "_model_name": "HTMLModel",
      "_view_count": null,
      "_view_module": "@jupyter-widgets/controls",
      "_view_module_version": "1.5.0",
      "_view_name": "HTMLView",
      "description": "",
      "description_tooltip": null,
      "layout": "IPY_MODEL_48cf11b726cc4a248c7d835bd8256d8d",
      "placeholder": "​",
      "style": "IPY_MODEL_b12a3c2f36194a7fbdd0f336ac5757a3",
      "value": " 3.15M/3.15M [00:00&lt;00:00, 26.2MB/s]"
     }
    },
    "f1bd380d74064c23acfe3a621c592423": {
     "model_module": "@jupyter-widgets/controls",
     "model_module_version": "1.5.0",
     "model_name": "HTMLModel",
     "state": {
      "_dom_classes": [],
      "_model_module": "@jupyter-widgets/controls",
      "_model_module_version": "1.5.0",
      "_model_name": "HTMLModel",
      "_view_count": null,
      "_view_module": "@jupyter-widgets/controls",
      "_view_module_version": "1.5.0",
      "_view_name": "HTMLView",
      "description": "",
      "description_tooltip": null,
      "layout": "IPY_MODEL_036457bf1cd24c858e03cfbbfb59a10e",
      "placeholder": "​",
      "style": "IPY_MODEL_431ff6a2674d4a64869aa3182aea81d6",
      "value": " 2.41k/2.41k [00:00&lt;00:00, 185kB/s]"
     }
    },
    "f320011758504781b5abae8563bddb0d": {
     "model_module": "@jupyter-widgets/base",
     "model_module_version": "1.2.0",
     "model_name": "LayoutModel",
     "state": {
      "_model_module": "@jupyter-widgets/base",
      "_model_module_version": "1.2.0",
      "_model_name": "LayoutModel",
      "_view_count": null,
      "_view_module": "@jupyter-widgets/base",
      "_view_module_version": "1.2.0",
      "_view_name": "LayoutView",
      "align_content": null,
      "align_items": null,
      "align_self": null,
      "border": null,
      "bottom": null,
      "display": null,
      "flex": null,
      "flex_flow": null,
      "grid_area": null,
      "grid_auto_columns": null,
      "grid_auto_flow": null,
      "grid_auto_rows": null,
      "grid_column": null,
      "grid_gap": null,
      "grid_row": null,
      "grid_template_areas": null,
      "grid_template_columns": null,
      "grid_template_rows": null,
      "height": null,
      "justify_content": null,
      "justify_items": null,
      "left": null,
      "margin": null,
      "max_height": null,
      "max_width": null,
      "min_height": null,
      "min_width": null,
      "object_fit": null,
      "object_position": null,
      "order": null,
      "overflow": null,
      "overflow_x": null,
      "overflow_y": null,
      "padding": null,
      "right": null,
      "top": null,
      "visibility": null,
      "width": null
     }
    },
    "f4feaacf3e9d49998b0ff896fed5d2a4": {
     "model_module": "@jupyter-widgets/controls",
     "model_module_version": "1.5.0",
     "model_name": "HTMLModel",
     "state": {
      "_dom_classes": [],
      "_model_module": "@jupyter-widgets/controls",
      "_model_module_version": "1.5.0",
      "_model_name": "HTMLModel",
      "_view_count": null,
      "_view_module": "@jupyter-widgets/controls",
      "_view_module_version": "1.5.0",
      "_view_name": "HTMLView",
      "description": "",
      "description_tooltip": null,
      "layout": "IPY_MODEL_ff437a6c35f44682bff42daa3799457d",
      "placeholder": "​",
      "style": "IPY_MODEL_df2ba0c7712f480aa8b0a6d274bde261",
      "value": " 1.48k/1.48k [00:00&lt;00:00, 111kB/s]"
     }
    },
    "f8470c56dd50400784e51ff257facc98": {
     "model_module": "@jupyter-widgets/base",
     "model_module_version": "1.2.0",
     "model_name": "LayoutModel",
     "state": {
      "_model_module": "@jupyter-widgets/base",
      "_model_module_version": "1.2.0",
      "_model_name": "LayoutModel",
      "_view_count": null,
      "_view_module": "@jupyter-widgets/base",
      "_view_module_version": "1.2.0",
      "_view_name": "LayoutView",
      "align_content": null,
      "align_items": null,
      "align_self": null,
      "border": null,
      "bottom": null,
      "display": null,
      "flex": null,
      "flex_flow": null,
      "grid_area": null,
      "grid_auto_columns": null,
      "grid_auto_flow": null,
      "grid_auto_rows": null,
      "grid_column": null,
      "grid_gap": null,
      "grid_row": null,
      "grid_template_areas": null,
      "grid_template_columns": null,
      "grid_template_rows": null,
      "height": null,
      "justify_content": null,
      "justify_items": null,
      "left": null,
      "margin": null,
      "max_height": null,
      "max_width": null,
      "min_height": null,
      "min_width": null,
      "object_fit": null,
      "object_position": null,
      "order": null,
      "overflow": null,
      "overflow_x": null,
      "overflow_y": null,
      "padding": null,
      "right": null,
      "top": null,
      "visibility": null,
      "width": null
     }
    },
    "fb3266834ce049d6a10d652b576a5f87": {
     "model_module": "@jupyter-widgets/controls",
     "model_module_version": "1.5.0",
     "model_name": "HBoxModel",
     "state": {
      "_dom_classes": [],
      "_model_module": "@jupyter-widgets/controls",
      "_model_module_version": "1.5.0",
      "_model_name": "HBoxModel",
      "_view_count": null,
      "_view_module": "@jupyter-widgets/controls",
      "_view_module_version": "1.5.0",
      "_view_name": "HBoxView",
      "box_style": "",
      "children": [
       "IPY_MODEL_8f217084d80242ed865cb23a2a339572",
       "IPY_MODEL_30480a3d55d14093b39bd73c8ef3c415",
       "IPY_MODEL_0f41a55f8e9048928d9bdbe2beabe226"
      ],
      "layout": "IPY_MODEL_e2c78be0f005413980349517a6caa546"
     }
    },
    "fb50b6da5f2e4c04b906e737775e92c6": {
     "model_module": "@jupyter-widgets/controls",
     "model_module_version": "1.5.0",
     "model_name": "DescriptionStyleModel",
     "state": {
      "_model_module": "@jupyter-widgets/controls",
      "_model_module_version": "1.5.0",
      "_model_name": "DescriptionStyleModel",
      "_view_count": null,
      "_view_module": "@jupyter-widgets/base",
      "_view_module_version": "1.2.0",
      "_view_name": "StyleView",
      "description_width": ""
     }
    },
    "fe50aec8f4ea4ba896f48024f788d886": {
     "model_module": "@jupyter-widgets/controls",
     "model_module_version": "1.5.0",
     "model_name": "DescriptionStyleModel",
     "state": {
      "_model_module": "@jupyter-widgets/controls",
      "_model_module_version": "1.5.0",
      "_model_name": "DescriptionStyleModel",
      "_view_count": null,
      "_view_module": "@jupyter-widgets/base",
      "_view_module_version": "1.2.0",
      "_view_name": "StyleView",
      "description_width": ""
     }
    },
    "ff437a6c35f44682bff42daa3799457d": {
     "model_module": "@jupyter-widgets/base",
     "model_module_version": "1.2.0",
     "model_name": "LayoutModel",
     "state": {
      "_model_module": "@jupyter-widgets/base",
      "_model_module_version": "1.2.0",
      "_model_name": "LayoutModel",
      "_view_count": null,
      "_view_module": "@jupyter-widgets/base",
      "_view_module_version": "1.2.0",
      "_view_name": "LayoutView",
      "align_content": null,
      "align_items": null,
      "align_self": null,
      "border": null,
      "bottom": null,
      "display": null,
      "flex": null,
      "flex_flow": null,
      "grid_area": null,
      "grid_auto_columns": null,
      "grid_auto_flow": null,
      "grid_auto_rows": null,
      "grid_column": null,
      "grid_gap": null,
      "grid_row": null,
      "grid_template_areas": null,
      "grid_template_columns": null,
      "grid_template_rows": null,
      "height": null,
      "justify_content": null,
      "justify_items": null,
      "left": null,
      "margin": null,
      "max_height": null,
      "max_width": null,
      "min_height": null,
      "min_width": null,
      "object_fit": null,
      "object_position": null,
      "order": null,
      "overflow": null,
      "overflow_x": null,
      "overflow_y": null,
      "padding": null,
      "right": null,
      "top": null,
      "visibility": null,
      "width": null
     }
    }
   }
  }
 },
 "nbformat": 4,
 "nbformat_minor": 4
}
