{
 "cells": [
  {
   "cell_type": "markdown",
   "metadata": {
    "id": "Hg_ttoaozxo9"
   },
   "source": [
    "# Semeval 2025 Task 10\n",
    "### Subtask 1: Entity Framing\n",
    "\n",
    "Given a news article and a list of mentions of named entities (NEs) in the article, assign for each such mention one or more roles using a [predefined taxonomy of fine-grained roles](https://propaganda.math.unipd.it/semeval2025task10/ENTITY-ROLE-TAXONOMY.pdf) covering three main type of roles: protagonists, antagonists, and innocent. This is a multi-label multi-class text-span classification task."
   ]
  },
  {
   "cell_type": "markdown",
   "metadata": {
    "id": "Vle11Vym5CIE"
   },
   "source": [
    "## 1. Importing libraries"
   ]
  },
  {
   "cell_type": "code",
   "execution_count": 1,
   "metadata": {
    "colab": {
     "base_uri": "https://localhost:8080/"
    },
    "id": "lQwatJcI0t2M",
    "outputId": "d742c025-8115-4c12-db7b-0ec1fc16de33"
   },
   "outputs": [],
   "source": [
    "import pandas as pd\n",
    "import numpy as np\n",
    "\n",
    "import tensorflow as tf\n",
    "from tensorflow import keras\n",
    "from tensorflow.keras import layers\n",
    "from tensorflow.keras import optimizers\n",
    "from tensorflow.keras.callbacks import ModelCheckpoint\n",
    "\n",
    "from matplotlib import pyplot as plt\n",
    "import seaborn as sns\n",
    "import os\n"
   ]
  },
  {
   "cell_type": "code",
   "execution_count": 2,
   "metadata": {
    "colab": {
     "base_uri": "https://localhost:8080/"
    },
    "id": "uoqLFmWhy6At",
    "outputId": "3a55c371-8d53-4f26-8891-52d11599cb56"
   },
   "outputs": [
    {
     "name": "stdout",
     "output_type": "stream",
     "text": [
      "Requirement already satisfied: InstructorEmbedding in /Users/kwstasel/Desktop/instructor-embedding (1.0.2)\n"
     ]
    }
   ],
   "source": [
    "!pip install InstructorEmbedding"
   ]
  },
  {
   "cell_type": "markdown",
   "metadata": {
    "id": "kBUV4JHO43ta"
   },
   "source": [
    "## 2. Reading our data\n"
   ]
  },
  {
   "cell_type": "markdown",
   "metadata": {
    "id": "ukxbwFlb1JnC"
   },
   "source": [
    "We will go ahead and start by reading the annotations from the subtask-1.\n",
    "\n",
    "* The annotations are our ground-truths.\n",
    "For each article we read it's id, it's entity which is by-default given to us, and the class/sub-class where it belongs to."
   ]
  },
  {
   "cell_type": "code",
   "execution_count": 3,
   "metadata": {
    "id": "_PnyYYnTxMu8"
   },
   "outputs": [],
   "source": [
    "raw_annotation_data = []\n",
    "\n",
    "with open(\"data/semeval_data/subtask-1-annotations.txt\", 'r') as file:\n",
    "    for line in file:\n",
    "        parts = line.strip().split('\\t')\n",
    "        raw_annotation_data.append(parts)\n",
    "\n",
    "annotations_df = pd.DataFrame(raw_annotation_data)"
   ]
  },
  {
   "cell_type": "code",
   "execution_count": 4,
   "metadata": {
    "colab": {
     "base_uri": "https://localhost:8080/",
     "height": 201
    },
    "id": "Z-zoHL_6QgHO",
    "outputId": "b70dcef4-15fc-4c64-a83f-62a3f4107043"
   },
   "outputs": [
    {
     "data": {
      "text/html": [
       "<div>\n",
       "<style scoped>\n",
       "    .dataframe tbody tr th:only-of-type {\n",
       "        vertical-align: middle;\n",
       "    }\n",
       "\n",
       "    .dataframe tbody tr th {\n",
       "        vertical-align: top;\n",
       "    }\n",
       "\n",
       "    .dataframe thead th {\n",
       "        text-align: right;\n",
       "    }\n",
       "</style>\n",
       "<table border=\"1\" class=\"dataframe\">\n",
       "  <thead>\n",
       "    <tr style=\"text-align: right;\">\n",
       "      <th></th>\n",
       "      <th>0</th>\n",
       "      <th>1</th>\n",
       "      <th>2</th>\n",
       "      <th>3</th>\n",
       "      <th>4</th>\n",
       "      <th>5</th>\n",
       "      <th>6</th>\n",
       "    </tr>\n",
       "  </thead>\n",
       "  <tbody>\n",
       "    <tr>\n",
       "      <th>0</th>\n",
       "      <td>EN_UA_103861.txt</td>\n",
       "      <td>Chinese</td>\n",
       "      <td>791</td>\n",
       "      <td>797</td>\n",
       "      <td>Antagonist</td>\n",
       "      <td>Spy</td>\n",
       "      <td>None</td>\n",
       "    </tr>\n",
       "    <tr>\n",
       "      <th>1</th>\n",
       "      <td>EN_UA_103861.txt</td>\n",
       "      <td>China</td>\n",
       "      <td>1516</td>\n",
       "      <td>1520</td>\n",
       "      <td>Antagonist</td>\n",
       "      <td>Instigator</td>\n",
       "      <td>None</td>\n",
       "    </tr>\n",
       "    <tr>\n",
       "      <th>2</th>\n",
       "      <td>EN_UA_103861.txt</td>\n",
       "      <td>Hamas</td>\n",
       "      <td>2121</td>\n",
       "      <td>2125</td>\n",
       "      <td>Antagonist</td>\n",
       "      <td>Terrorist</td>\n",
       "      <td>None</td>\n",
       "    </tr>\n",
       "    <tr>\n",
       "      <th>3</th>\n",
       "      <td>EN_UA_103861.txt</td>\n",
       "      <td>Donald Trump</td>\n",
       "      <td>4909</td>\n",
       "      <td>4920</td>\n",
       "      <td>Protagonist</td>\n",
       "      <td>Peacemaker</td>\n",
       "      <td>Guardian</td>\n",
       "    </tr>\n",
       "    <tr>\n",
       "      <th>4</th>\n",
       "      <td>EN_UA_021270.txt</td>\n",
       "      <td>Yermak</td>\n",
       "      <td>667</td>\n",
       "      <td>672</td>\n",
       "      <td>Antagonist</td>\n",
       "      <td>Incompetent</td>\n",
       "      <td>None</td>\n",
       "    </tr>\n",
       "  </tbody>\n",
       "</table>\n",
       "</div>"
      ],
      "text/plain": [
       "                  0             1     2     3            4            5  \\\n",
       "0  EN_UA_103861.txt       Chinese   791   797   Antagonist          Spy   \n",
       "1  EN_UA_103861.txt         China  1516  1520   Antagonist   Instigator   \n",
       "2  EN_UA_103861.txt         Hamas  2121  2125   Antagonist    Terrorist   \n",
       "3  EN_UA_103861.txt  Donald Trump  4909  4920  Protagonist   Peacemaker   \n",
       "4  EN_UA_021270.txt        Yermak   667   672   Antagonist  Incompetent   \n",
       "\n",
       "          6  \n",
       "0      None  \n",
       "1      None  \n",
       "2      None  \n",
       "3  Guardian  \n",
       "4      None  "
      ]
     },
     "execution_count": 4,
     "metadata": {},
     "output_type": "execute_result"
    }
   ],
   "source": [
    "annotations_df.head()"
   ]
  },
  {
   "cell_type": "code",
   "execution_count": 5,
   "metadata": {
    "colab": {
     "base_uri": "https://localhost:8080/"
    },
    "id": "kb7JO0VbJgZ1",
    "outputId": "ad73752e-926d-4391-ce28-1ca909064957"
   },
   "outputs": [
    {
     "data": {
      "text/plain": [
       "(414, 7)"
      ]
     },
     "execution_count": 5,
     "metadata": {},
     "output_type": "execute_result"
    }
   ],
   "source": [
    "annotations_df.shape"
   ]
  },
  {
   "cell_type": "markdown",
   "metadata": {
    "id": "n3Z3YjKu1_nS"
   },
   "source": [
    "For simplicity, we will ignore the `fine-grained_roles` attribute for, as it requires further thinking on how to handle a specific article on having multiple roles.\n",
    "\n",
    "For now, we will focus on trying to classify each entity on it's `main_role` and then move from there."
   ]
  },
  {
   "cell_type": "markdown",
   "metadata": {
    "id": "pA4lm-q22MQZ"
   },
   "source": [
    "We will also rename our labels to represent the actual ones:"
   ]
  },
  {
   "cell_type": "code",
   "execution_count": 6,
   "metadata": {
    "colab": {
     "base_uri": "https://localhost:8080/",
     "height": 201
    },
    "id": "eZXODZDf2fwn",
    "outputId": "ebdc11ee-a20f-43d5-cc40-06deea0be3c0"
   },
   "outputs": [
    {
     "data": {
      "text/html": [
       "<div>\n",
       "<style scoped>\n",
       "    .dataframe tbody tr th:only-of-type {\n",
       "        vertical-align: middle;\n",
       "    }\n",
       "\n",
       "    .dataframe tbody tr th {\n",
       "        vertical-align: top;\n",
       "    }\n",
       "\n",
       "    .dataframe thead th {\n",
       "        text-align: right;\n",
       "    }\n",
       "</style>\n",
       "<table border=\"1\" class=\"dataframe\">\n",
       "  <thead>\n",
       "    <tr style=\"text-align: right;\">\n",
       "      <th></th>\n",
       "      <th>article_id</th>\n",
       "      <th>entity_mention</th>\n",
       "      <th>start_offset</th>\n",
       "      <th>end_offset</th>\n",
       "      <th>main_role</th>\n",
       "      <th>fine_grained_roles</th>\n",
       "      <th>additional_info</th>\n",
       "    </tr>\n",
       "  </thead>\n",
       "  <tbody>\n",
       "    <tr>\n",
       "      <th>0</th>\n",
       "      <td>EN_UA_103861.txt</td>\n",
       "      <td>Chinese</td>\n",
       "      <td>791</td>\n",
       "      <td>797</td>\n",
       "      <td>Antagonist</td>\n",
       "      <td>Spy</td>\n",
       "      <td>None</td>\n",
       "    </tr>\n",
       "    <tr>\n",
       "      <th>1</th>\n",
       "      <td>EN_UA_103861.txt</td>\n",
       "      <td>China</td>\n",
       "      <td>1516</td>\n",
       "      <td>1520</td>\n",
       "      <td>Antagonist</td>\n",
       "      <td>Instigator</td>\n",
       "      <td>None</td>\n",
       "    </tr>\n",
       "    <tr>\n",
       "      <th>2</th>\n",
       "      <td>EN_UA_103861.txt</td>\n",
       "      <td>Hamas</td>\n",
       "      <td>2121</td>\n",
       "      <td>2125</td>\n",
       "      <td>Antagonist</td>\n",
       "      <td>Terrorist</td>\n",
       "      <td>None</td>\n",
       "    </tr>\n",
       "    <tr>\n",
       "      <th>3</th>\n",
       "      <td>EN_UA_103861.txt</td>\n",
       "      <td>Donald Trump</td>\n",
       "      <td>4909</td>\n",
       "      <td>4920</td>\n",
       "      <td>Protagonist</td>\n",
       "      <td>Peacemaker</td>\n",
       "      <td>Guardian</td>\n",
       "    </tr>\n",
       "    <tr>\n",
       "      <th>4</th>\n",
       "      <td>EN_UA_021270.txt</td>\n",
       "      <td>Yermak</td>\n",
       "      <td>667</td>\n",
       "      <td>672</td>\n",
       "      <td>Antagonist</td>\n",
       "      <td>Incompetent</td>\n",
       "      <td>None</td>\n",
       "    </tr>\n",
       "  </tbody>\n",
       "</table>\n",
       "</div>"
      ],
      "text/plain": [
       "         article_id entity_mention start_offset end_offset    main_role  \\\n",
       "0  EN_UA_103861.txt        Chinese          791        797   Antagonist   \n",
       "1  EN_UA_103861.txt          China         1516       1520   Antagonist   \n",
       "2  EN_UA_103861.txt          Hamas         2121       2125   Antagonist   \n",
       "3  EN_UA_103861.txt   Donald Trump         4909       4920  Protagonist   \n",
       "4  EN_UA_021270.txt         Yermak          667        672   Antagonist   \n",
       "\n",
       "  fine_grained_roles additional_info  \n",
       "0                Spy            None  \n",
       "1         Instigator            None  \n",
       "2          Terrorist            None  \n",
       "3         Peacemaker        Guardian  \n",
       "4        Incompetent            None  "
      ]
     },
     "execution_count": 6,
     "metadata": {},
     "output_type": "execute_result"
    }
   ],
   "source": [
    "annotations_df.rename(columns={0: 'article_id', 1: 'entity_mention', 2: 'start_offset',\n",
    "                   3: 'end_offset', 4: 'main_role', 5: 'fine_grained_roles',\n",
    "                   6: 'additional_info'}, inplace=True)\n",
    "\n",
    "annotations_df.head()"
   ]
  },
  {
   "cell_type": "markdown",
   "metadata": {
    "id": "ySjFcpqDcdTT"
   },
   "source": [
    "Notice that in a single article, we can have the same entity mentioned playing different roles:"
   ]
  },
  {
   "cell_type": "code",
   "execution_count": 7,
   "metadata": {
    "colab": {
     "base_uri": "https://localhost:8080/",
     "height": 201
    },
    "id": "78bbvr2ArNRx",
    "outputId": "326515de-47fb-4230-da50-a693956f9e83"
   },
   "outputs": [
    {
     "data": {
      "text/html": [
       "<div>\n",
       "<style scoped>\n",
       "    .dataframe tbody tr th:only-of-type {\n",
       "        vertical-align: middle;\n",
       "    }\n",
       "\n",
       "    .dataframe tbody tr th {\n",
       "        vertical-align: top;\n",
       "    }\n",
       "\n",
       "    .dataframe thead th {\n",
       "        text-align: right;\n",
       "    }\n",
       "</style>\n",
       "<table border=\"1\" class=\"dataframe\">\n",
       "  <thead>\n",
       "    <tr style=\"text-align: right;\">\n",
       "      <th></th>\n",
       "      <th>article_id</th>\n",
       "      <th>entity_mention</th>\n",
       "      <th>start_offset</th>\n",
       "      <th>end_offset</th>\n",
       "      <th>main_role</th>\n",
       "      <th>fine_grained_roles</th>\n",
       "      <th>additional_info</th>\n",
       "    </tr>\n",
       "  </thead>\n",
       "  <tbody>\n",
       "    <tr>\n",
       "      <th>398</th>\n",
       "      <td>EN_UA_013257.txt</td>\n",
       "      <td>Russia</td>\n",
       "      <td>375</td>\n",
       "      <td>380</td>\n",
       "      <td>Protagonist</td>\n",
       "      <td>Underdog</td>\n",
       "      <td>None</td>\n",
       "    </tr>\n",
       "    <tr>\n",
       "      <th>399</th>\n",
       "      <td>EN_UA_013257.txt</td>\n",
       "      <td>Russia</td>\n",
       "      <td>944</td>\n",
       "      <td>949</td>\n",
       "      <td>Innocent</td>\n",
       "      <td>Victim</td>\n",
       "      <td>None</td>\n",
       "    </tr>\n",
       "    <tr>\n",
       "      <th>400</th>\n",
       "      <td>EN_UA_013257.txt</td>\n",
       "      <td>Russia</td>\n",
       "      <td>1590</td>\n",
       "      <td>1595</td>\n",
       "      <td>Protagonist</td>\n",
       "      <td>Guardian</td>\n",
       "      <td>None</td>\n",
       "    </tr>\n",
       "    <tr>\n",
       "      <th>401</th>\n",
       "      <td>EN_UA_013257.txt</td>\n",
       "      <td>Western countries</td>\n",
       "      <td>1667</td>\n",
       "      <td>1683</td>\n",
       "      <td>Antagonist</td>\n",
       "      <td>Saboteur</td>\n",
       "      <td>None</td>\n",
       "    </tr>\n",
       "    <tr>\n",
       "      <th>402</th>\n",
       "      <td>EN_UA_013257.txt</td>\n",
       "      <td>Russia</td>\n",
       "      <td>1763</td>\n",
       "      <td>1768</td>\n",
       "      <td>Protagonist</td>\n",
       "      <td>Virtuous</td>\n",
       "      <td>None</td>\n",
       "    </tr>\n",
       "  </tbody>\n",
       "</table>\n",
       "</div>"
      ],
      "text/plain": [
       "           article_id     entity_mention start_offset end_offset    main_role  \\\n",
       "398  EN_UA_013257.txt             Russia          375        380  Protagonist   \n",
       "399  EN_UA_013257.txt             Russia          944        949     Innocent   \n",
       "400  EN_UA_013257.txt             Russia         1590       1595  Protagonist   \n",
       "401  EN_UA_013257.txt  Western countries         1667       1683   Antagonist   \n",
       "402  EN_UA_013257.txt             Russia         1763       1768  Protagonist   \n",
       "\n",
       "    fine_grained_roles additional_info  \n",
       "398           Underdog            None  \n",
       "399             Victim            None  \n",
       "400           Guardian            None  \n",
       "401           Saboteur            None  \n",
       "402           Virtuous            None  "
      ]
     },
     "execution_count": 7,
     "metadata": {},
     "output_type": "execute_result"
    }
   ],
   "source": [
    "annotations_df[annotations_df['article_id'] == 'EN_UA_013257.txt']"
   ]
  },
  {
   "cell_type": "code",
   "execution_count": 8,
   "metadata": {
    "colab": {
     "base_uri": "https://localhost:8080/",
     "height": 201
    },
    "id": "T8glS4puEit6",
    "outputId": "8efac91e-e663-4766-9e68-1c57eb5c2eb8"
   },
   "outputs": [
    {
     "data": {
      "text/html": [
       "<div>\n",
       "<style scoped>\n",
       "    .dataframe tbody tr th:only-of-type {\n",
       "        vertical-align: middle;\n",
       "    }\n",
       "\n",
       "    .dataframe tbody tr th {\n",
       "        vertical-align: top;\n",
       "    }\n",
       "\n",
       "    .dataframe thead th {\n",
       "        text-align: right;\n",
       "    }\n",
       "</style>\n",
       "<table border=\"1\" class=\"dataframe\">\n",
       "  <thead>\n",
       "    <tr style=\"text-align: right;\">\n",
       "      <th></th>\n",
       "      <th>article_id</th>\n",
       "      <th>entity_mention</th>\n",
       "      <th>start_offset</th>\n",
       "      <th>end_offset</th>\n",
       "      <th>main_role</th>\n",
       "    </tr>\n",
       "  </thead>\n",
       "  <tbody>\n",
       "    <tr>\n",
       "      <th>0</th>\n",
       "      <td>EN_UA_103861.txt</td>\n",
       "      <td>Chinese</td>\n",
       "      <td>791</td>\n",
       "      <td>797</td>\n",
       "      <td>Antagonist</td>\n",
       "    </tr>\n",
       "    <tr>\n",
       "      <th>1</th>\n",
       "      <td>EN_UA_103861.txt</td>\n",
       "      <td>China</td>\n",
       "      <td>1516</td>\n",
       "      <td>1520</td>\n",
       "      <td>Antagonist</td>\n",
       "    </tr>\n",
       "    <tr>\n",
       "      <th>2</th>\n",
       "      <td>EN_UA_103861.txt</td>\n",
       "      <td>Hamas</td>\n",
       "      <td>2121</td>\n",
       "      <td>2125</td>\n",
       "      <td>Antagonist</td>\n",
       "    </tr>\n",
       "    <tr>\n",
       "      <th>3</th>\n",
       "      <td>EN_UA_103861.txt</td>\n",
       "      <td>Donald Trump</td>\n",
       "      <td>4909</td>\n",
       "      <td>4920</td>\n",
       "      <td>Protagonist</td>\n",
       "    </tr>\n",
       "    <tr>\n",
       "      <th>4</th>\n",
       "      <td>EN_UA_021270.txt</td>\n",
       "      <td>Yermak</td>\n",
       "      <td>667</td>\n",
       "      <td>672</td>\n",
       "      <td>Antagonist</td>\n",
       "    </tr>\n",
       "  </tbody>\n",
       "</table>\n",
       "</div>"
      ],
      "text/plain": [
       "         article_id entity_mention start_offset end_offset    main_role\n",
       "0  EN_UA_103861.txt        Chinese          791        797   Antagonist\n",
       "1  EN_UA_103861.txt          China         1516       1520   Antagonist\n",
       "2  EN_UA_103861.txt          Hamas         2121       2125   Antagonist\n",
       "3  EN_UA_103861.txt   Donald Trump         4909       4920  Protagonist\n",
       "4  EN_UA_021270.txt         Yermak          667        672   Antagonist"
      ]
     },
     "execution_count": 8,
     "metadata": {},
     "output_type": "execute_result"
    }
   ],
   "source": [
    "# To be changed, for simplity now\n",
    "annotations_df.drop(columns=['fine_grained_roles', 'additional_info'], inplace=True)\n",
    "annotations_df.head()"
   ]
  },
  {
   "cell_type": "markdown",
   "metadata": {
    "id": "DYdJZkwGJ15r"
   },
   "source": [
    "Also, notice that in the `article_id` the beginning of it, the `EN_*` part, is irrelevant to us.\n",
    "\n",
    "We will go ahead and remove it and only keep the id of the article which is the part we actually want."
   ]
  },
  {
   "cell_type": "code",
   "execution_count": 9,
   "metadata": {
    "colab": {
     "base_uri": "https://localhost:8080/"
    },
    "id": "wxgxiKfV3c7z",
    "outputId": "0a3ed7a3-7871-4b3f-c454-2beb5102be25"
   },
   "outputs": [
    {
     "name": "stdout",
     "output_type": "stream",
     "text": [
      "103861\n"
     ]
    }
   ],
   "source": [
    "def extract_article_id(filename):\n",
    "    number_part = filename.split('_')[-1].split('.')[0]\n",
    "    return number_part\n",
    "\n",
    "print(extract_article_id('EN_UA_103861.txt'))"
   ]
  },
  {
   "cell_type": "code",
   "execution_count": 10,
   "metadata": {
    "colab": {
     "base_uri": "https://localhost:8080/",
     "height": 201
    },
    "id": "gdaq1njk4ZXZ",
    "outputId": "1bfa1e23-2dfa-4dc3-861f-7e02b525a340"
   },
   "outputs": [
    {
     "data": {
      "text/html": [
       "<div>\n",
       "<style scoped>\n",
       "    .dataframe tbody tr th:only-of-type {\n",
       "        vertical-align: middle;\n",
       "    }\n",
       "\n",
       "    .dataframe tbody tr th {\n",
       "        vertical-align: top;\n",
       "    }\n",
       "\n",
       "    .dataframe thead th {\n",
       "        text-align: right;\n",
       "    }\n",
       "</style>\n",
       "<table border=\"1\" class=\"dataframe\">\n",
       "  <thead>\n",
       "    <tr style=\"text-align: right;\">\n",
       "      <th></th>\n",
       "      <th>article_id</th>\n",
       "      <th>entity_mention</th>\n",
       "      <th>start_offset</th>\n",
       "      <th>end_offset</th>\n",
       "      <th>main_role</th>\n",
       "    </tr>\n",
       "  </thead>\n",
       "  <tbody>\n",
       "    <tr>\n",
       "      <th>0</th>\n",
       "      <td>103861</td>\n",
       "      <td>Chinese</td>\n",
       "      <td>791</td>\n",
       "      <td>797</td>\n",
       "      <td>Antagonist</td>\n",
       "    </tr>\n",
       "    <tr>\n",
       "      <th>1</th>\n",
       "      <td>103861</td>\n",
       "      <td>China</td>\n",
       "      <td>1516</td>\n",
       "      <td>1520</td>\n",
       "      <td>Antagonist</td>\n",
       "    </tr>\n",
       "    <tr>\n",
       "      <th>2</th>\n",
       "      <td>103861</td>\n",
       "      <td>Hamas</td>\n",
       "      <td>2121</td>\n",
       "      <td>2125</td>\n",
       "      <td>Antagonist</td>\n",
       "    </tr>\n",
       "    <tr>\n",
       "      <th>3</th>\n",
       "      <td>103861</td>\n",
       "      <td>Donald Trump</td>\n",
       "      <td>4909</td>\n",
       "      <td>4920</td>\n",
       "      <td>Protagonist</td>\n",
       "    </tr>\n",
       "    <tr>\n",
       "      <th>4</th>\n",
       "      <td>021270</td>\n",
       "      <td>Yermak</td>\n",
       "      <td>667</td>\n",
       "      <td>672</td>\n",
       "      <td>Antagonist</td>\n",
       "    </tr>\n",
       "  </tbody>\n",
       "</table>\n",
       "</div>"
      ],
      "text/plain": [
       "  article_id entity_mention start_offset end_offset    main_role\n",
       "0     103861        Chinese          791        797   Antagonist\n",
       "1     103861          China         1516       1520   Antagonist\n",
       "2     103861          Hamas         2121       2125   Antagonist\n",
       "3     103861   Donald Trump         4909       4920  Protagonist\n",
       "4     021270         Yermak          667        672   Antagonist"
      ]
     },
     "execution_count": 10,
     "metadata": {},
     "output_type": "execute_result"
    }
   ],
   "source": [
    "annotations_df['article_id'] = annotations_df['article_id'].apply(extract_article_id)\n",
    "annotations_df.head()"
   ]
  },
  {
   "cell_type": "markdown",
   "metadata": {
    "id": "fupWoVGcAzcY"
   },
   "source": [
    "We will know read our actual articles."
   ]
  },
  {
   "cell_type": "code",
   "execution_count": 11,
   "metadata": {
    "id": "NCZ4KLAT5lf7"
   },
   "outputs": [],
   "source": [
    "def read_file_content(file_path):\n",
    "    with open(file_path, 'r', encoding='utf-8') as file:\n",
    "        return file.read()\n"
   ]
  },
  {
   "cell_type": "markdown",
   "metadata": {
    "id": "Z2OX3oalKpmD"
   },
   "source": [
    "We create a placeholder dataframe, that is going to be filled up.\n",
    "\n",
    "There are 2 columns that we are seeking, the `article_id` and the actual `content` of that."
   ]
  },
  {
   "cell_type": "code",
   "execution_count": 12,
   "metadata": {
    "id": "8LzJGzZn4oGF"
   },
   "outputs": [],
   "source": [
    "documents_df = pd.DataFrame(columns=['article_id', 'content'])"
   ]
  },
  {
   "cell_type": "code",
   "execution_count": 13,
   "metadata": {
    "colab": {
     "base_uri": "https://localhost:8080/",
     "height": 201
    },
    "id": "CTPMiwyV5p5j",
    "outputId": "f46be204-077f-460f-e993-4c778154b632"
   },
   "outputs": [
    {
     "data": {
      "text/html": [
       "<div>\n",
       "<style scoped>\n",
       "    .dataframe tbody tr th:only-of-type {\n",
       "        vertical-align: middle;\n",
       "    }\n",
       "\n",
       "    .dataframe tbody tr th {\n",
       "        vertical-align: top;\n",
       "    }\n",
       "\n",
       "    .dataframe thead th {\n",
       "        text-align: right;\n",
       "    }\n",
       "</style>\n",
       "<table border=\"1\" class=\"dataframe\">\n",
       "  <thead>\n",
       "    <tr style=\"text-align: right;\">\n",
       "      <th></th>\n",
       "      <th>article_id</th>\n",
       "      <th>content</th>\n",
       "    </tr>\n",
       "  </thead>\n",
       "  <tbody>\n",
       "    <tr>\n",
       "      <th>0</th>\n",
       "      <td>104876</td>\n",
       "      <td>Putin honours army unit blamed for Bucha massa...</td>\n",
       "    </tr>\n",
       "    <tr>\n",
       "      <th>1</th>\n",
       "      <td>023211</td>\n",
       "      <td>Europe Putin thanks US journalist Tucker Carls...</td>\n",
       "    </tr>\n",
       "    <tr>\n",
       "      <th>2</th>\n",
       "      <td>011260</td>\n",
       "      <td>Russia has a clear plan to resolve the conflic...</td>\n",
       "    </tr>\n",
       "    <tr>\n",
       "      <th>3</th>\n",
       "      <td>101067</td>\n",
       "      <td>First war of TikTok era sees tragedy, humor an...</td>\n",
       "    </tr>\n",
       "    <tr>\n",
       "      <th>4</th>\n",
       "      <td>102963</td>\n",
       "      <td>Ukraine's President Zelenskyy to address Mexic...</td>\n",
       "    </tr>\n",
       "  </tbody>\n",
       "</table>\n",
       "</div>"
      ],
      "text/plain": [
       "  article_id                                            content\n",
       "0     104876  Putin honours army unit blamed for Bucha massa...\n",
       "1     023211  Europe Putin thanks US journalist Tucker Carls...\n",
       "2     011260  Russia has a clear plan to resolve the conflic...\n",
       "3     101067  First war of TikTok era sees tragedy, humor an...\n",
       "4     102963  Ukraine's President Zelenskyy to address Mexic..."
      ]
     },
     "execution_count": 13,
     "metadata": {},
     "output_type": "execute_result"
    }
   ],
   "source": [
    "folder_path = \"data/semeval_data/raw-documents\"\n",
    "\n",
    "for filename in os.listdir(folder_path):\n",
    "    if filename.endswith('.txt') and filename.startswith('EN'):\n",
    "        article_id = extract_article_id(filename)\n",
    "        file_path = os.path.join(folder_path, filename)\n",
    "        content = read_file_content(file_path)\n",
    "\n",
    "        new_row = pd.DataFrame({'article_id': [article_id], 'content': [content]})\n",
    "\n",
    "        documents_df = pd.concat([documents_df, new_row], ignore_index=True)\n",
    "\n",
    "documents_df.head()"
   ]
  },
  {
   "cell_type": "markdown",
   "metadata": {
    "id": "T33Wfuz7KyVs"
   },
   "source": [
    "There are 200 articles that are given to us for this task:"
   ]
  },
  {
   "cell_type": "code",
   "execution_count": 14,
   "metadata": {
    "colab": {
     "base_uri": "https://localhost:8080/"
    },
    "id": "ycMGFJdDKP3r",
    "outputId": "58b9ca36-f119-4c34-86cf-5220d89b4769"
   },
   "outputs": [
    {
     "data": {
      "text/plain": [
       "(200, 2)"
      ]
     },
     "execution_count": 14,
     "metadata": {},
     "output_type": "execute_result"
    }
   ],
   "source": [
    "documents_df.shape"
   ]
  },
  {
   "cell_type": "markdown",
   "metadata": {
    "id": "xAV65wT3K3-3"
   },
   "source": [
    "We then merge our dataframes into a single dataframe constisting.\n",
    "\n",
    "The derived dataframe has the following columns:\n",
    "\n",
    "* `article_id`\n",
    "* `content`\n",
    "* `entity_mention`\n",
    "* The entity's starting and ending position in the article\n",
    "* The ground truth of the entity."
   ]
  },
  {
   "cell_type": "code",
   "execution_count": 15,
   "metadata": {
    "colab": {
     "base_uri": "https://localhost:8080/",
     "height": 201
    },
    "id": "BwLfmk3G5rW7",
    "outputId": "bf1af80b-be2a-44d5-d0ac-0a99a4c9846c"
   },
   "outputs": [
    {
     "data": {
      "text/html": [
       "<div>\n",
       "<style scoped>\n",
       "    .dataframe tbody tr th:only-of-type {\n",
       "        vertical-align: middle;\n",
       "    }\n",
       "\n",
       "    .dataframe tbody tr th {\n",
       "        vertical-align: top;\n",
       "    }\n",
       "\n",
       "    .dataframe thead th {\n",
       "        text-align: right;\n",
       "    }\n",
       "</style>\n",
       "<table border=\"1\" class=\"dataframe\">\n",
       "  <thead>\n",
       "    <tr style=\"text-align: right;\">\n",
       "      <th></th>\n",
       "      <th>article_id</th>\n",
       "      <th>content</th>\n",
       "      <th>entity_mention</th>\n",
       "      <th>start_offset</th>\n",
       "      <th>end_offset</th>\n",
       "      <th>main_role</th>\n",
       "    </tr>\n",
       "  </thead>\n",
       "  <tbody>\n",
       "    <tr>\n",
       "      <th>0</th>\n",
       "      <td>104876</td>\n",
       "      <td>Putin honours army unit blamed for Bucha massa...</td>\n",
       "      <td>VLADIMIR Putin</td>\n",
       "      <td>90</td>\n",
       "      <td>103</td>\n",
       "      <td>Antagonist</td>\n",
       "    </tr>\n",
       "    <tr>\n",
       "      <th>1</th>\n",
       "      <td>104876</td>\n",
       "      <td>Putin honours army unit blamed for Bucha massa...</td>\n",
       "      <td>President Volodymyr Zelensky</td>\n",
       "      <td>2305</td>\n",
       "      <td>2332</td>\n",
       "      <td>Protagonist</td>\n",
       "    </tr>\n",
       "    <tr>\n",
       "      <th>2</th>\n",
       "      <td>011260</td>\n",
       "      <td>Russia has a clear plan to resolve the conflic...</td>\n",
       "      <td>Ukraine</td>\n",
       "      <td>263</td>\n",
       "      <td>269</td>\n",
       "      <td>Antagonist</td>\n",
       "    </tr>\n",
       "    <tr>\n",
       "      <th>3</th>\n",
       "      <td>011260</td>\n",
       "      <td>Russia has a clear plan to resolve the conflic...</td>\n",
       "      <td>Russia</td>\n",
       "      <td>637</td>\n",
       "      <td>642</td>\n",
       "      <td>Protagonist</td>\n",
       "    </tr>\n",
       "    <tr>\n",
       "      <th>4</th>\n",
       "      <td>011260</td>\n",
       "      <td>Russia has a clear plan to resolve the conflic...</td>\n",
       "      <td>Ukrainian leadership</td>\n",
       "      <td>830</td>\n",
       "      <td>849</td>\n",
       "      <td>Antagonist</td>\n",
       "    </tr>\n",
       "  </tbody>\n",
       "</table>\n",
       "</div>"
      ],
      "text/plain": [
       "  article_id                                            content  \\\n",
       "0     104876  Putin honours army unit blamed for Bucha massa...   \n",
       "1     104876  Putin honours army unit blamed for Bucha massa...   \n",
       "2     011260  Russia has a clear plan to resolve the conflic...   \n",
       "3     011260  Russia has a clear plan to resolve the conflic...   \n",
       "4     011260  Russia has a clear plan to resolve the conflic...   \n",
       "\n",
       "                 entity_mention start_offset end_offset    main_role  \n",
       "0                VLADIMIR Putin           90        103   Antagonist  \n",
       "1  President Volodymyr Zelensky         2305       2332  Protagonist  \n",
       "2                       Ukraine          263        269   Antagonist  \n",
       "3                        Russia          637        642  Protagonist  \n",
       "4          Ukrainian leadership          830        849   Antagonist  "
      ]
     },
     "execution_count": 15,
     "metadata": {},
     "output_type": "execute_result"
    }
   ],
   "source": [
    "dataset = pd.merge(documents_df, annotations_df, on='article_id')\n",
    "dataset.head()"
   ]
  },
  {
   "cell_type": "code",
   "execution_count": 16,
   "metadata": {
    "colab": {
     "base_uri": "https://localhost:8080/"
    },
    "id": "OjzRwt7U0Ua1",
    "outputId": "ac467c27-6930-4105-d71f-da73c387a6dc"
   },
   "outputs": [
    {
     "name": "stdout",
     "output_type": "stream",
     "text": [
      "Russia has a clear plan to resolve the conflict in Ukraine \n",
      "\n",
      " The conflict in Ukraine may end either by diplomatic or military means. However, it can be possible only after Moscow achieves its goals.\n",
      "\n",
      "\"An opportunity to resolve the conflict will appear only when Ukraine ceases to pose a threat to Russia and discriminate against Russian-speaking Ukrainians,” Vasily Nebenzya, Russia's Ambassador to the UN Security Council, said at a briefing at the UN Security Council.\n",
      "\n",
      "\"If this result can be achieved through negotiations, we are ready for such a scenario. If not, then our objectives will be achieved by military means,\" he added.\n",
      "\n",
      "Russia is not fighting against the Ukrainian people. Russia is fighting against the criminal nationalist regime that came to power in 2014” after the coup in Kyiv, the diplomat said.\n",
      "\n",
      "\"The new Ukrainian leadership is trying to purge the country of everything connected with Russia and glorify Nazi accomplices. <…>\n",
      "\n",
      "\"The Kyiv regime and its most rabid patrons have forgotten the meaning of the word \"peace.\" It is no coincidence that the European Union finances arms supplies to Kyiv through the European Peace Fund, without even thinking about how blasphemous it sounds and looks. <…>\n",
      "\n",
      "\"Ukraine, in fact, has become a NATO PMC. It gets money, weapons and intelligence data. Ukraine receives instructions which targets to attack and where. It is the Ukrainian people who suffer from this in the first place and the people of Ukraine are forced to fight for the sake of someone else's tasks.\"\n",
      "\n",
      "However, the Russian Ambassador to the UN said, everything could have ended differently for Ukraine, if Kyiv had implemented the now-defunct Minsk Agreements that were signed in 2014 and 2015 \"in an attempt to pave the way for peace by granting the Donetsk and Luhansk People's Republics a special status as part of the Ukrainian state\".\n",
      "\n",
      "Former Chancellor of Germany Angela Merkel and ex-president of France Francois Hollande later confirmed that neither sitting President of Ukraine Volodymyr Zelensky, nor his predecessors, nor France and Germany, who were involved in the Minks Agreements process, never intended to fulfil them. This diplomatic process served only as a \"smoke screen\" behind which they secretly armed Ukraine against Russia.\n",
      "\n",
      "Merkel's and Hollande's confessions caused an uproar in Moscow. Russian officials called them a formalisation of betrayal. Interestingly, though, no one in the West was embarrassed about those statements. It appears that the West continues implementing its strategy.\n",
      "\n",
      "In December, Ukraine put forward the idea of the Global Peace Summit based on Zelensky's \"peace formula.\" In that formula, among other things, Zelensky demanded Russia should withdraw its troops from all Ukrainian territories.\n",
      "\n",
      "Moscow dismissed the plan as it ignored the new status of Donetsk and Luhansk People's Republics, Kherson, Zaporozhye (Zaporizhzhia) regions and Crimea as part of Russia.\n",
      "\n",
      "Now Kyiv has a new \"idea\":\n",
      "\n",
      "The Ukrainian administration wants to hold a \"peace summit\" at UN headquarters in New York on February 24 (one year anniversary since the start of the special operation), but without Moscow's participation.\n",
      "\n",
      "According to The Associated Press, Ukrainian President Zelenskiy was planning to visit New York in February to address a high-level meeting of the 193-member General Assembly on the eve of the first anniversary of Russia's February 24 invasion of Ukraine.\n",
      "\n",
      "Ukraine would like the UN General Assembly to adopt two resolutions:\n",
      "\n",
      "\"Peace talks could start after the UN General Assembly passes the resolutions or after the proposed summit is held,\" Ukraine's Deputy Foreign Minister Emine Dzhaparova said.\n",
      "\n",
      "Subscribe to Pravda.Ru Telegram channel, Facebook, RSS!\n",
      "\n",
      "The fighting in several directions in the Kursk region continues. According to the Russian side, the Ukrainian Armed Forces are redeploying to attack in a new area\n"
     ]
    }
   ],
   "source": [
    "print(dataset.iloc[4].content)"
   ]
  },
  {
   "cell_type": "markdown",
   "metadata": {
    "id": "RCQYNsfNLeru"
   },
   "source": [
    "Since the annotations where limited to `417`, we also expect that the merged dataframe will be of that size:"
   ]
  },
  {
   "cell_type": "code",
   "execution_count": 17,
   "metadata": {
    "colab": {
     "base_uri": "https://localhost:8080/"
    },
    "id": "KivWaYH7FO1Y",
    "outputId": "9b0e30cb-4798-4921-dbc7-867ef412e8b1"
   },
   "outputs": [
    {
     "data": {
      "text/plain": [
       "(417, 6)"
      ]
     },
     "execution_count": 17,
     "metadata": {},
     "output_type": "execute_result"
    }
   ],
   "source": [
    "dataset.shape"
   ]
  },
  {
   "cell_type": "markdown",
   "metadata": {
    "id": "HdHqA9u2LoEe"
   },
   "source": [
    "We also do a sanity-check to see if there are any missing values:"
   ]
  },
  {
   "cell_type": "code",
   "execution_count": 18,
   "metadata": {
    "colab": {
     "base_uri": "https://localhost:8080/",
     "height": 264
    },
    "id": "eVFYw9e4613A",
    "outputId": "d074fc18-d1d2-494a-d58a-032ae039026f"
   },
   "outputs": [
    {
     "data": {
      "text/plain": [
       "article_id        0\n",
       "content           0\n",
       "entity_mention    0\n",
       "start_offset      0\n",
       "end_offset        0\n",
       "main_role         0\n",
       "dtype: int64"
      ]
     },
     "execution_count": 18,
     "metadata": {},
     "output_type": "execute_result"
    }
   ],
   "source": [
    "dataset.isnull().sum()"
   ]
  },
  {
   "cell_type": "markdown",
   "metadata": {
    "id": "NNZFZIA-LpBr"
   },
   "source": [
    "Notice that the distributions of roles are uneven, with the `Antagonist` being the most common class, and `Innocent` being the least common.\n",
    "\n",
    "This should worry us, and we should keep this in mind when attempting to find a good classifier."
   ]
  },
  {
   "cell_type": "code",
   "execution_count": 19,
   "metadata": {
    "colab": {
     "base_uri": "https://localhost:8080/",
     "height": 487
    },
    "id": "axE3boLV6bv3",
    "outputId": "c86a6ef0-5520-499c-93c2-c9f563b77bb2"
   },
   "outputs": [
    {
     "data": {
      "image/png": "[encoded data removed]",
      "text/plain": [
       "<Figure size 800x500 with 1 Axes>"
      ]
     },
     "metadata": {},
     "output_type": "display_data"
    }
   ],
   "source": [
    "role_counts = dataset['main_role'].value_counts()\n",
    "\n",
    "plt.figure(figsize=(8, 5))\n",
    "role_counts.plot(kind='bar', color=['blue'])\n",
    "plt.title('Distribution of Main Roles')\n",
    "plt.xlabel('Role')\n",
    "plt.xticks(rotation=0)\n",
    "plt.show()"
   ]
  },
  {
   "cell_type": "markdown",
   "metadata": {
    "id": "xYvCAUj-NLKc"
   },
   "source": [
    "## 3. Preparing our data"
   ]
  },
  {
   "cell_type": "markdown",
   "metadata": {
    "id": "7CqHaZczfhgU"
   },
   "source": [
    "We now begin by processing our data and preparing it in order to find a good, initial/baseline classifier for this task.\n",
    "\n",
    "\n",
    "Our goal is to classify those entities into 3 classes:\n",
    "* `Protagonist`\n",
    "* `Antagonist`\n",
    "* `Innocent`\n",
    "\n",
    "It's obvious that this task is an instance of a supervised learning, we have some features and we are also given the ground truth, the class where each entity truly belongs to."
   ]
  },
  {
   "cell_type": "markdown",
   "metadata": {
    "id": "A5CE8fA2gV0s"
   },
   "source": [
    "We begin by shuffling our data:"
   ]
  },
  {
   "cell_type": "code",
   "execution_count": 20,
   "metadata": {
    "colab": {
     "base_uri": "https://localhost:8080/",
     "height": 201
    },
    "id": "10aC6sdbgQFR",
    "outputId": "b2d22ea1-3fa4-405a-f0ea-9ef260ae4518"
   },
   "outputs": [
    {
     "data": {
      "text/html": [
       "<div>\n",
       "<style scoped>\n",
       "    .dataframe tbody tr th:only-of-type {\n",
       "        vertical-align: middle;\n",
       "    }\n",
       "\n",
       "    .dataframe tbody tr th {\n",
       "        vertical-align: top;\n",
       "    }\n",
       "\n",
       "    .dataframe thead th {\n",
       "        text-align: right;\n",
       "    }\n",
       "</style>\n",
       "<table border=\"1\" class=\"dataframe\">\n",
       "  <thead>\n",
       "    <tr style=\"text-align: right;\">\n",
       "      <th></th>\n",
       "      <th>article_id</th>\n",
       "      <th>content</th>\n",
       "      <th>entity_mention</th>\n",
       "      <th>start_offset</th>\n",
       "      <th>end_offset</th>\n",
       "      <th>main_role</th>\n",
       "    </tr>\n",
       "  </thead>\n",
       "  <tbody>\n",
       "    <tr>\n",
       "      <th>26</th>\n",
       "      <td>026142</td>\n",
       "      <td>Oppose imperialist War! SEP/IYSSE public meeti...</td>\n",
       "      <td>Zionist</td>\n",
       "      <td>2564</td>\n",
       "      <td>2570</td>\n",
       "      <td>Antagonist</td>\n",
       "    </tr>\n",
       "    <tr>\n",
       "      <th>360</th>\n",
       "      <td>022339</td>\n",
       "      <td>\"Aren't They Fools?\": Putin Says Ukrainian Sta...</td>\n",
       "      <td>Russian civilians</td>\n",
       "      <td>1455</td>\n",
       "      <td>1471</td>\n",
       "      <td>Innocent</td>\n",
       "    </tr>\n",
       "    <tr>\n",
       "      <th>331</th>\n",
       "      <td>029053</td>\n",
       "      <td>British colonel: Ukrainian operation in Kursk ...</td>\n",
       "      <td>Ayatollah Khamenei</td>\n",
       "      <td>2994</td>\n",
       "      <td>3011</td>\n",
       "      <td>Antagonist</td>\n",
       "    </tr>\n",
       "    <tr>\n",
       "      <th>348</th>\n",
       "      <td>024628</td>\n",
       "      <td>Washington will not let Ukraine fail, US defen...</td>\n",
       "      <td>United States</td>\n",
       "      <td>140</td>\n",
       "      <td>152</td>\n",
       "      <td>Protagonist</td>\n",
       "    </tr>\n",
       "    <tr>\n",
       "      <th>312</th>\n",
       "      <td>029155</td>\n",
       "      <td>Head of German Intelligence Reveals Zelensky B...</td>\n",
       "      <td>Volodymyr Zelensky</td>\n",
       "      <td>160</td>\n",
       "      <td>177</td>\n",
       "      <td>Antagonist</td>\n",
       "    </tr>\n",
       "  </tbody>\n",
       "</table>\n",
       "</div>"
      ],
      "text/plain": [
       "    article_id                                            content  \\\n",
       "26      026142  Oppose imperialist War! SEP/IYSSE public meeti...   \n",
       "360     022339  \"Aren't They Fools?\": Putin Says Ukrainian Sta...   \n",
       "331     029053  British colonel: Ukrainian operation in Kursk ...   \n",
       "348     024628  Washington will not let Ukraine fail, US defen...   \n",
       "312     029155  Head of German Intelligence Reveals Zelensky B...   \n",
       "\n",
       "         entity_mention start_offset end_offset    main_role  \n",
       "26              Zionist         2564       2570   Antagonist  \n",
       "360   Russian civilians         1455       1471     Innocent  \n",
       "331  Ayatollah Khamenei         2994       3011   Antagonist  \n",
       "348       United States          140        152  Protagonist  \n",
       "312  Volodymyr Zelensky          160        177   Antagonist  "
      ]
     },
     "execution_count": 20,
     "metadata": {},
     "output_type": "execute_result"
    }
   ],
   "source": [
    "random_state = 42 # used for experimentantions\n",
    "# dataset = dataset.sample(frac=1, random_state=random_state)\n",
    "dataset = dataset.sample(frac=1)\n",
    "dataset.head()"
   ]
  },
  {
   "cell_type": "code",
   "execution_count": 21,
   "metadata": {
    "colab": {
     "base_uri": "https://localhost:8080/"
    },
    "id": "EIJGQzJqgcDY",
    "outputId": "9c4bcf23-8f0b-4c9b-bfb5-7395cb9aea9c"
   },
   "outputs": [
    {
     "name": "stdout",
     "output_type": "stream",
     "text": [
      "\"Aren't They Fools?\": Putin Says Ukrainian Statehood Risks 'Irreparable Blow' If War Continues \n",
      "\n",
      " \"Aren't They Fools?\": Putin Says Ukrainian Statehood Risks 'Irreparable Blow' If War Continues\n",
      "\n",
      "Russian President Vladimir Putin gave statements on Tuesday which assessed the overall status of the nearly two-year conflict with Ukraine at a moment Western and world leaders meet in Davos for the World Economic Forum (WEF). Zelensky while there in Switzerland pressed Ukraine's case for the need to achieve air superiority.\n",
      "\n",
      "But Putin in his fresh remarks stressed that not only do Russian forces have the clear upper hand, but he emphasized for the first time that Ukrainian statehood itself risks an \"irreparable\" blow if the war continues. He stressed that Ukraine's military has already \"failed\".\n",
      "\n",
      "\"Not only has their counteroffensive failed, but the initiative is entirely in the hands of the Russian Armed Forces,\" Putin said in the televised remarks. \"If this continues, Ukraine's statehood could be dealt an irreparable, very serious blow,\" he added, but he didn't clarify further precisely what he meant by this.\n",
      "\n",
      "\"They are trying to show that they can also do something. But instead of solving military tasks, they act in such a barbaric way. Attacks are being carried out on peaceful settlements with indiscriminate weapons,\" Putin said in reference to the past several weeks of cross-border attacks on Belgorod city, which have killed and maimed Russian civilians.\n",
      "\n",
      "Putin further addressed Zelensky's efforts to gather world leaders for a peace summit hosted by Switzerland, to consider Kiev's 10-point peace plan, which it should be noted rejects the possibility of territorial concessions.\n",
      "\n",
      "\"The so-called 'peace formula' that's being talked about in the West and in Ukraine is a continuation of the decree of the Ukrainian president banning negotiations with Russia,\" Putin said, according to a translation in Sputnik.\n",
      "\n",
      "\"As for the negotiating process, it's an attempt to encourage us to abandon the territorial gains we've achieved over the past 1 1/2 years. But this is impossible. Everyone understands that this is impossible,\" the Russian leader continued.\n",
      "\n",
      "He explained that earlier in the conflict, the two sides were close to serious negotiations that could have led to peace, but that ultimately Zelensky allowed himself to be the puppet of Western powers...\n",
      "\n",
      "\"A day later, they threw all the agreements into the trash, and now they are saying publicly—including the head of the Ukrainian negotiating group—that 'Yes, we were ready, but we missed the chance, because then-Prime Minister of Britain Mr. [Boris] Johnson came and persuaded us not to implement these agreements,'\" Putin said.\n",
      "\n",
      "He stressed: \"Fools, are they not? They're admitting directly that if they had gone for it, everything could have been ended a long time ago, 1 1/2 years ago.\"\n",
      "\n",
      "Lately, Ukraine has been seeking to get China involved in getting on board with its peace formula. Ukraine’s presidential chief of staff Andriy Yermak on Sunday said, \"China needs to be involved in talks to end the war with Russia.\" He issued the words just ahead of the WEF. China remains the most influential Global South country widely viewed as squarely in Russia's corner, having refused to rebuke Moscow or join Western-led sanctions after two years of the conflict. Kiev hopes to get Global South countries on its side, thus further isolating Moscow - but so far this has proved somewhat futile.\n"
     ]
    }
   ],
   "source": [
    "print(dataset.iloc[1].content)"
   ]
  },
  {
   "cell_type": "markdown",
   "metadata": {
    "id": "WH_QxEHig4R8"
   },
   "source": [
    "### 3.1 Training a baseline model\n",
    "\n",
    "We will begin by seeing how good of a job traditional machine learning models can do for this kind of tasks.\n",
    "\n",
    "Our idea is simple, since we have the `start_offset` and `end_offset` of each entity, we can also get the nearby x words of that entity surrounding it, before and after:"
   ]
  },
  {
   "cell_type": "code",
   "execution_count": 22,
   "metadata": {
    "id": "OZ_OjeLMQ0IF"
   },
   "outputs": [],
   "source": [
    "def get_context(row, window=180):\n",
    "    content = row['content']\n",
    "    start = int(row['start_offset'])\n",
    "    end = int(row['end_offset'])\n",
    "\n",
    "    words = content.split()\n",
    "\n",
    "    pre_entity_text = content[:start].split()\n",
    "    post_entity_text = content[end + 1:].split()\n",
    "\n",
    "    # Get context words before and after\n",
    "    context_before = \" \".join(pre_entity_text[-window:])\n",
    "    context_after = \" \".join(post_entity_text[:window])\n",
    "\n",
    "    return context_before, context_after\n",
    "\n",
    "dataset['context_before'], dataset['context_after'] = zip(*dataset.apply(get_context, axis=1))"
   ]
  },
  {
   "cell_type": "code",
   "execution_count": 23,
   "metadata": {
    "colab": {
     "base_uri": "https://localhost:8080/",
     "height": 89
    },
    "id": "_n7hbmCbdBgm",
    "outputId": "2b95520c-6f1f-4249-9cab-36d319d039ad"
   },
   "outputs": [
    {
     "data": {
      "text/html": [
       "<div>\n",
       "<style scoped>\n",
       "    .dataframe tbody tr th:only-of-type {\n",
       "        vertical-align: middle;\n",
       "    }\n",
       "\n",
       "    .dataframe tbody tr th {\n",
       "        vertical-align: top;\n",
       "    }\n",
       "\n",
       "    .dataframe thead th {\n",
       "        text-align: right;\n",
       "    }\n",
       "</style>\n",
       "<table border=\"1\" class=\"dataframe\">\n",
       "  <thead>\n",
       "    <tr style=\"text-align: right;\">\n",
       "      <th></th>\n",
       "      <th>content</th>\n",
       "      <th>entity_mention</th>\n",
       "      <th>start_offset</th>\n",
       "      <th>end_offset</th>\n",
       "    </tr>\n",
       "  </thead>\n",
       "  <tbody>\n",
       "    <tr>\n",
       "      <th>0</th>\n",
       "      <td>Moscow: Russia will ask the UN Security Counci...</td>\n",
       "      <td>Russia</td>\n",
       "      <td>8</td>\n",
       "      <td>13</td>\n",
       "    </tr>\n",
       "  </tbody>\n",
       "</table>\n",
       "</div>"
      ],
      "text/plain": [
       "                                             content entity_mention  \\\n",
       "0  Moscow: Russia will ask the UN Security Counci...         Russia   \n",
       "\n",
       "   start_offset  end_offset  \n",
       "0             8          13  "
      ]
     },
     "execution_count": 23,
     "metadata": {},
     "output_type": "execute_result"
    }
   ],
   "source": [
    "example_context = \"Moscow: Russia will ask the UN Security Council for an investigation\"\n",
    "entity_mention = \"Russia\"\n",
    "start_offset = 8\n",
    "end_offset = 13\n",
    "\n",
    "example_df = pd.DataFrame({\n",
    "    'content': [example_context],\n",
    "    'entity_mention': [entity_mention],\n",
    "    'start_offset': [start_offset],\n",
    "    'end_offset': [end_offset]\n",
    "})\n",
    "\n",
    "example_df"
   ]
  },
  {
   "cell_type": "code",
   "execution_count": 24,
   "metadata": {
    "colab": {
     "base_uri": "https://localhost:8080/"
    },
    "id": "1Zaxe9DLdYSO",
    "outputId": "695925d7-db3e-404c-ebd4-97a58d134753"
   },
   "outputs": [
    {
     "data": {
      "text/plain": [
       "('Moscow:', 'will ask the UN Security Council for an investigation')"
      ]
     },
     "execution_count": 24,
     "metadata": {},
     "output_type": "execute_result"
    }
   ],
   "source": [
    "get_context(example_df.iloc[0])"
   ]
  },
  {
   "cell_type": "markdown",
   "metadata": {
    "id": "MQnR1_RqhvQe"
   },
   "source": [
    "The article in row 1, has the entity mentioned:"
   ]
  },
  {
   "cell_type": "code",
   "execution_count": 25,
   "metadata": {
    "colab": {
     "base_uri": "https://localhost:8080/",
     "height": 34
    },
    "id": "RrYZGEKz0-zX",
    "outputId": "66c6a7af-95de-43b1-f580-08ecee7bd2e3"
   },
   "outputs": [
    {
     "data": {
      "text/plain": [
       "'Russian civilians'"
      ]
     },
     "execution_count": 25,
     "metadata": {},
     "output_type": "execute_result"
    }
   ],
   "source": [
    "dataset.iloc[1].entity_mention"
   ]
  },
  {
   "cell_type": "markdown",
   "metadata": {
    "id": "mPGmkhlWiM42"
   },
   "source": [
    "Context before the entity:"
   ]
  },
  {
   "cell_type": "code",
   "execution_count": 26,
   "metadata": {
    "colab": {
     "base_uri": "https://localhost:8080/",
     "height": 34
    },
    "id": "vll-NtwD1a7s",
    "outputId": "c3c89886-0de4-4a43-bb16-786400ee62a3"
   },
   "outputs": [
    {
     "data": {
      "text/plain": [
       "'moment Western and world leaders meet in Davos for the World Economic Forum (WEF). Zelensky while there in Switzerland pressed Ukraine\\'s case for the need to achieve air superiority. But Putin in his fresh remarks stressed that not only do Russian forces have the clear upper hand, but he emphasized for the first time that Ukrainian statehood itself risks an \"irreparable\" blow if the war continues. He stressed that Ukraine\\'s military has already \"failed\". \"Not only has their counteroffensive failed, but the initiative is entirely in the hands of the Russian Armed Forces,\" Putin said in the televised remarks. \"If this continues, Ukraine\\'s statehood could be dealt an irreparable, very serious blow,\" he added, but he didn\\'t clarify further precisely what he meant by this. \"They are trying to show that they can also do something. But instead of solving military tasks, they act in such a barbaric way. Attacks are being carried out on peaceful settlements with indiscriminate weapons,\" Putin said in reference to the past several weeks of cross-border attacks on Belgorod city, which have killed and maimed'"
      ]
     },
     "execution_count": 26,
     "metadata": {},
     "output_type": "execute_result"
    }
   ],
   "source": [
    "dataset.iloc[1].context_before"
   ]
  },
  {
   "cell_type": "markdown",
   "metadata": {
    "id": "sT7TeHy4iP8E"
   },
   "source": [
    "Context after the entity:"
   ]
  },
  {
   "cell_type": "code",
   "execution_count": 27,
   "metadata": {
    "colab": {
     "base_uri": "https://localhost:8080/",
     "height": 116
    },
    "id": "I1hCn4iJ1lnv",
    "outputId": "6774302f-d826-42c3-daa3-fe9ace6a34f4"
   },
   "outputs": [
    {
     "data": {
      "text/plain": [
       "'. Putin further addressed Zelensky\\'s efforts to gather world leaders for a peace summit hosted by Switzerland, to consider Kiev\\'s 10-point peace plan, which it should be noted rejects the possibility of territorial concessions. \"The so-called \\'peace formula\\' that\\'s being talked about in the West and in Ukraine is a continuation of the decree of the Ukrainian president banning negotiations with Russia,\" Putin said, according to a translation in Sputnik. \"As for the negotiating process, it\\'s an attempt to encourage us to abandon the territorial gains we\\'ve achieved over the past 1 1/2 years. But this is impossible. Everyone understands that this is impossible,\" the Russian leader continued. He explained that earlier in the conflict, the two sides were close to serious negotiations that could have led to peace, but that ultimately Zelensky allowed himself to be the puppet of Western powers... \"A day later, they threw all the agreements into the trash, and now they are saying publicly—including the head of the Ukrainian negotiating group—that \\'Yes, we were ready, but we missed the chance, because then-Prime Minister of Britain'"
      ]
     },
     "execution_count": 27,
     "metadata": {},
     "output_type": "execute_result"
    }
   ],
   "source": [
    "dataset.iloc[1].context_after"
   ]
  },
  {
   "cell_type": "code",
   "execution_count": 28,
   "metadata": {
    "colab": {
     "base_uri": "https://localhost:8080/",
     "height": 34
    },
    "id": "Jy1MYCpE_WZZ",
    "outputId": "185c945b-450d-487b-d090-56d61be7a0ef"
   },
   "outputs": [
    {
     "data": {
      "text/plain": [
       "'Innocent'"
      ]
     },
     "execution_count": 28,
     "metadata": {},
     "output_type": "execute_result"
    }
   ],
   "source": [
    "dataset.iloc[1].main_role"
   ]
  },
  {
   "cell_type": "markdown",
   "metadata": {
    "id": "LFCGsTCZiSbK"
   },
   "source": [
    "We also do again a sanity check that our results are correct:"
   ]
  },
  {
   "cell_type": "code",
   "execution_count": 29,
   "metadata": {
    "colab": {
     "base_uri": "https://localhost:8080/",
     "height": 116
    },
    "id": "j0pPWw6Sh5DY",
    "outputId": "2352b131-135d-4699-ea1c-b2db57968e17"
   },
   "outputs": [
    {
     "data": {
      "text/plain": [
       "'\"Aren\\'t They Fools?\": Putin Says Ukrainian Statehood Risks \\'Irreparable Blow\\' If War Continues \\n\\n \"Aren\\'t They Fools?\": Putin Says Ukrainian Statehood Risks \\'Irreparable Blow\\' If War Continues\\n\\nRussian President Vladimir Putin gave statements on Tuesday which assessed the overall status of the nearly two-year conflict with Ukraine at a moment Western and world leaders meet in Davos for the World Economic Forum (WEF). Zelensky while there in Switzerland pressed Ukraine\\'s case for the need to achieve air superiority.\\n\\nBut Putin in his fresh remarks stressed that not only do Russian forces have the clear upper hand, but he emphasized for the first time that Ukrainian statehood itself risks an \"irreparable\" blow if the war continues. He stressed that Ukraine\\'s military has already \"failed\".\\n\\n\"Not only has their counteroffensive failed, but the initiative is entirely in the hands of the Russian Armed Forces,\" Putin said in the televised remarks. \"If this continues, Ukraine\\'s statehood could be dealt an irreparable, very serious blow,\" he added, but he didn\\'t clarify further precisely what he meant by this.\\n\\n\"They are trying to show that they can also do something. But instead of solving military tasks, they act in such a barbaric way. Attacks are being carried out on peaceful settlements with indiscriminate weapons,\" Putin said in reference to the past several weeks of cross-border attacks on Belgorod city, which have killed and maimed Russian civilians.\\n\\nPutin further addressed Zelensky\\'s efforts to gather world leaders for a peace summit hosted by Switzerland, to consider Kiev\\'s 10-point peace plan, which it should be noted rejects the possibility of territorial concessions.\\n\\n\"The so-called \\'peace formula\\' that\\'s being talked about in the West and in Ukraine is a continuation of the decree of the Ukrainian president banning negotiations with Russia,\" Putin said, according to a translation in Sputnik.\\n\\n\"As for the negotiating process, it\\'s an attempt to encourage us to abandon the territorial gains we\\'ve achieved over the past 1 1/2 years. But this is impossible. Everyone understands that this is impossible,\" the Russian leader continued.\\n\\nHe explained that earlier in the conflict, the two sides were close to serious negotiations that could have led to peace, but that ultimately Zelensky allowed himself to be the puppet of Western powers...\\n\\n\"A day later, they threw all the agreements into the trash, and now they are saying publicly—including the head of the Ukrainian negotiating group—that \\'Yes, we were ready, but we missed the chance, because then-Prime Minister of Britain Mr. [Boris] Johnson came and persuaded us not to implement these agreements,\\'\" Putin said.\\n\\nHe stressed: \"Fools, are they not? They\\'re admitting directly that if they had gone for it, everything could have been ended a long time ago, 1 1/2 years ago.\"\\n\\nLately, Ukraine has been seeking to get China involved in getting on board with its peace formula. Ukraine’s presidential chief of staff Andriy Yermak on Sunday said, \"China needs to be involved in talks to end the war with Russia.\" He issued the words just ahead of the WEF. China remains the most influential Global South country widely viewed as squarely in Russia\\'s corner, having refused to rebuke Moscow or join Western-led sanctions after two years of the conflict. Kiev hopes to get Global South countries on its side, thus further isolating Moscow - but so far this has proved somewhat futile.'"
      ]
     },
     "execution_count": 29,
     "metadata": {},
     "output_type": "execute_result"
    }
   ],
   "source": [
    "dataset.iloc[1].content"
   ]
  },
  {
   "cell_type": "markdown",
   "metadata": {
    "id": "3QW0spUEicq7"
   },
   "source": [
    "We then combine the ccontext before and after the entity to a single, `entity_context`."
   ]
  },
  {
   "cell_type": "code",
   "execution_count": 30,
   "metadata": {
    "id": "-kENYmud3lE9"
   },
   "outputs": [],
   "source": [
    "dataset['entity_context'] = dataset['context_before'] + \" \" + dataset['entity_mention'] + \" \" + dataset['context_after']"
   ]
  },
  {
   "cell_type": "code",
   "execution_count": 31,
   "metadata": {
    "colab": {
     "base_uri": "https://localhost:8080/",
     "height": 116
    },
    "id": "wLiZh47Sijy6",
    "outputId": "225c303e-2706-4768-b329-2a9a8c445d9d"
   },
   "outputs": [
    {
     "data": {
      "text/plain": [
       "'moment Western and world leaders meet in Davos for the World Economic Forum (WEF). Zelensky while there in Switzerland pressed Ukraine\\'s case for the need to achieve air superiority. But Putin in his fresh remarks stressed that not only do Russian forces have the clear upper hand, but he emphasized for the first time that Ukrainian statehood itself risks an \"irreparable\" blow if the war continues. He stressed that Ukraine\\'s military has already \"failed\". \"Not only has their counteroffensive failed, but the initiative is entirely in the hands of the Russian Armed Forces,\" Putin said in the televised remarks. \"If this continues, Ukraine\\'s statehood could be dealt an irreparable, very serious blow,\" he added, but he didn\\'t clarify further precisely what he meant by this. \"They are trying to show that they can also do something. But instead of solving military tasks, they act in such a barbaric way. Attacks are being carried out on peaceful settlements with indiscriminate weapons,\" Putin said in reference to the past several weeks of cross-border attacks on Belgorod city, which have killed and maimed Russian civilians . Putin further addressed Zelensky\\'s efforts to gather world leaders for a peace summit hosted by Switzerland, to consider Kiev\\'s 10-point peace plan, which it should be noted rejects the possibility of territorial concessions. \"The so-called \\'peace formula\\' that\\'s being talked about in the West and in Ukraine is a continuation of the decree of the Ukrainian president banning negotiations with Russia,\" Putin said, according to a translation in Sputnik. \"As for the negotiating process, it\\'s an attempt to encourage us to abandon the territorial gains we\\'ve achieved over the past 1 1/2 years. But this is impossible. Everyone understands that this is impossible,\" the Russian leader continued. He explained that earlier in the conflict, the two sides were close to serious negotiations that could have led to peace, but that ultimately Zelensky allowed himself to be the puppet of Western powers... \"A day later, they threw all the agreements into the trash, and now they are saying publicly—including the head of the Ukrainian negotiating group—that \\'Yes, we were ready, but we missed the chance, because then-Prime Minister of Britain'"
      ]
     },
     "execution_count": 31,
     "metadata": {},
     "output_type": "execute_result"
    }
   ],
   "source": [
    "dataset.iloc[1].entity_context"
   ]
  },
  {
   "cell_type": "code",
   "execution_count": 32,
   "metadata": {
    "colab": {
     "base_uri": "https://localhost:8080/",
     "height": 283
    },
    "id": "zUsJam-_37Qc",
    "outputId": "be0ac648-8694-4397-a63c-a390f1160bdb"
   },
   "outputs": [
    {
     "data": {
      "text/html": [
       "<div>\n",
       "<style scoped>\n",
       "    .dataframe tbody tr th:only-of-type {\n",
       "        vertical-align: middle;\n",
       "    }\n",
       "\n",
       "    .dataframe tbody tr th {\n",
       "        vertical-align: top;\n",
       "    }\n",
       "\n",
       "    .dataframe thead th {\n",
       "        text-align: right;\n",
       "    }\n",
       "</style>\n",
       "<table border=\"1\" class=\"dataframe\">\n",
       "  <thead>\n",
       "    <tr style=\"text-align: right;\">\n",
       "      <th></th>\n",
       "      <th>article_id</th>\n",
       "      <th>content</th>\n",
       "      <th>entity_mention</th>\n",
       "      <th>start_offset</th>\n",
       "      <th>end_offset</th>\n",
       "      <th>main_role</th>\n",
       "      <th>context_before</th>\n",
       "      <th>context_after</th>\n",
       "      <th>entity_context</th>\n",
       "    </tr>\n",
       "  </thead>\n",
       "  <tbody>\n",
       "    <tr>\n",
       "      <th>26</th>\n",
       "      <td>026142</td>\n",
       "      <td>Oppose imperialist War! SEP/IYSSE public meeti...</td>\n",
       "      <td>Zionist</td>\n",
       "      <td>2564</td>\n",
       "      <td>2570</td>\n",
       "      <td>Antagonist</td>\n",
       "      <td>their policies are not simply the product of d...</td>\n",
       "      <td>regime and its imperialist backers have not on...</td>\n",
       "      <td>their policies are not simply the product of d...</td>\n",
       "    </tr>\n",
       "    <tr>\n",
       "      <th>360</th>\n",
       "      <td>022339</td>\n",
       "      <td>\"Aren't They Fools?\": Putin Says Ukrainian Sta...</td>\n",
       "      <td>Russian civilians</td>\n",
       "      <td>1455</td>\n",
       "      <td>1471</td>\n",
       "      <td>Innocent</td>\n",
       "      <td>moment Western and world leaders meet in Davos...</td>\n",
       "      <td>. Putin further addressed Zelensky's efforts t...</td>\n",
       "      <td>moment Western and world leaders meet in Davos...</td>\n",
       "    </tr>\n",
       "    <tr>\n",
       "      <th>331</th>\n",
       "      <td>029053</td>\n",
       "      <td>British colonel: Ukrainian operation in Kursk ...</td>\n",
       "      <td>Ayatollah Khamenei</td>\n",
       "      <td>2994</td>\n",
       "      <td>3011</td>\n",
       "      <td>Antagonist</td>\n",
       "      <td>lines turned out to be nothing more than basel...</td>\n",
       "      <td>from pushing the button and launching Iran's e...</td>\n",
       "      <td>lines turned out to be nothing more than basel...</td>\n",
       "    </tr>\n",
       "    <tr>\n",
       "      <th>348</th>\n",
       "      <td>024628</td>\n",
       "      <td>Washington will not let Ukraine fail, US defen...</td>\n",
       "      <td>United States</td>\n",
       "      <td>140</td>\n",
       "      <td>152</td>\n",
       "      <td>Protagonist</td>\n",
       "      <td>Washington will not let Ukraine fail, US defen...</td>\n",
       "      <td>will not let Ukraine fail in fighting off Russ...</td>\n",
       "      <td>Washington will not let Ukraine fail, US defen...</td>\n",
       "    </tr>\n",
       "    <tr>\n",
       "      <th>312</th>\n",
       "      <td>029155</td>\n",
       "      <td>Head of German Intelligence Reveals Zelensky B...</td>\n",
       "      <td>Volodymyr Zelensky</td>\n",
       "      <td>160</td>\n",
       "      <td>177</td>\n",
       "      <td>Antagonist</td>\n",
       "      <td>Head of German Intelligence Reveals Zelensky B...</td>\n",
       "      <td>and President of Poland both collaborated to c...</td>\n",
       "      <td>Head of German Intelligence Reveals Zelensky B...</td>\n",
       "    </tr>\n",
       "  </tbody>\n",
       "</table>\n",
       "</div>"
      ],
      "text/plain": [
       "    article_id                                            content  \\\n",
       "26      026142  Oppose imperialist War! SEP/IYSSE public meeti...   \n",
       "360     022339  \"Aren't They Fools?\": Putin Says Ukrainian Sta...   \n",
       "331     029053  British colonel: Ukrainian operation in Kursk ...   \n",
       "348     024628  Washington will not let Ukraine fail, US defen...   \n",
       "312     029155  Head of German Intelligence Reveals Zelensky B...   \n",
       "\n",
       "         entity_mention start_offset end_offset    main_role  \\\n",
       "26              Zionist         2564       2570   Antagonist   \n",
       "360   Russian civilians         1455       1471     Innocent   \n",
       "331  Ayatollah Khamenei         2994       3011   Antagonist   \n",
       "348       United States          140        152  Protagonist   \n",
       "312  Volodymyr Zelensky          160        177   Antagonist   \n",
       "\n",
       "                                        context_before  \\\n",
       "26   their policies are not simply the product of d...   \n",
       "360  moment Western and world leaders meet in Davos...   \n",
       "331  lines turned out to be nothing more than basel...   \n",
       "348  Washington will not let Ukraine fail, US defen...   \n",
       "312  Head of German Intelligence Reveals Zelensky B...   \n",
       "\n",
       "                                         context_after  \\\n",
       "26   regime and its imperialist backers have not on...   \n",
       "360  . Putin further addressed Zelensky's efforts t...   \n",
       "331  from pushing the button and launching Iran's e...   \n",
       "348  will not let Ukraine fail in fighting off Russ...   \n",
       "312  and President of Poland both collaborated to c...   \n",
       "\n",
       "                                        entity_context  \n",
       "26   their policies are not simply the product of d...  \n",
       "360  moment Western and world leaders meet in Davos...  \n",
       "331  lines turned out to be nothing more than basel...  \n",
       "348  Washington will not let Ukraine fail, US defen...  \n",
       "312  Head of German Intelligence Reveals Zelensky B...  "
      ]
     },
     "execution_count": 32,
     "metadata": {},
     "output_type": "execute_result"
    }
   ],
   "source": [
    "dataset.head()"
   ]
  },
  {
   "cell_type": "code",
   "execution_count": 33,
   "metadata": {
    "colab": {
     "base_uri": "https://localhost:8080/"
    },
    "id": "F8Uh82fr4d7V",
    "outputId": "2ef069f4-5252-46fc-dd13-94daf09c73d8"
   },
   "outputs": [
    {
     "name": "stdout",
     "output_type": "stream",
     "text": [
      "Collecting en-core-web-sm==3.8.0\n",
      "  Downloading https://github.com/explosion/spacy-models/releases/download/en_core_web_sm-3.8.0/en_core_web_sm-3.8.0-py3-none-any.whl (12.8 MB)\n",
      "\u001b[2K     \u001b[90m━━━━━━━━━━━━━━━━━━━━━━━━━━━━━━━━━━━━━━━━\u001b[0m \u001b[32m12.8/12.8 MB\u001b[0m \u001b[31m8.2 MB/s\u001b[0m eta \u001b[36m0:00:00\u001b[0m00:01\u001b[0m00:01\u001b[0m\n",
      "\u001b[?25h\u001b[38;5;2m✔ Download and installation successful\u001b[0m\n",
      "You can now load the package via spacy.load('en_core_web_sm')\n"
     ]
    }
   ],
   "source": [
    "!pip -q install emoji\n",
    "!python3 -m spacy download en_core_web_sm"
   ]
  },
  {
   "cell_type": "code",
   "execution_count": 34,
   "metadata": {
    "id": "zz7BcjMlBhnZ"
   },
   "outputs": [],
   "source": [
    "import spacy\n",
    "import re\n",
    "import emoji\n",
    "\n",
    "nlp = spacy.load(\"en_core_web_sm\")\n",
    "\n",
    "def clean_article(article_text):\n",
    "    # Remove URLs\n",
    "    article_text = re.sub(r'http\\S+|www\\S+|https\\S+|[a-zA-Z0-9.-]+\\.com', '', article_text, flags=re.MULTILINE)\n",
    "\n",
    "    doc = nlp(article_text)\n",
    "    cleaned_tokens = []\n",
    "\n",
    "    for token in doc:\n",
    "        if (token.is_space or '@' in token.text or emoji.is_emoji(token.text)):\n",
    "            continue\n",
    "\n",
    "        cleaned_tokens.append(token.text + token.whitespace_)\n",
    "\n",
    "    cleaned_article = \"\".join(cleaned_tokens).strip()\n",
    "\n",
    "    return cleaned_article"
   ]
  },
  {
   "cell_type": "code",
   "execution_count": 35,
   "metadata": {
    "colab": {
     "base_uri": "https://localhost:8080/",
     "height": 116
    },
    "id": "3vcmBTLC5dCW",
    "outputId": "aee6392c-7851-4592-9f59-2360076ce4f6"
   },
   "outputs": [
    {
     "data": {
      "text/plain": [
       "'Washington will not let Ukraine fail, US defence chief vows RAMSTEIN AIR BASE - Defense Secretary Lloyd Austin promised Tuesday that the United States will not let Ukraine fail in fighting off Russia, even as further aid remains stalled in Congress and Kyiv’s forces face shortages of munitions. The Republican-led House of Representatives has been blocking $60 billion in assistance for Ukraine and the United States has warned that a recent $300 million package would only last a few weeks. The “United States will not let Ukraine fail”, Austin said at the opening of a meeting in Germany of Ukraine’s international supporters, at which he is seeking to secure further assistance for Kyiv. “We remain determined to provide Ukraine with the resources that it needs to resist the Kremlin’s aggression,” he said. Washington announced $300 million in assistance for Ukraine last week, but Austin said it was only possible due to savings on recent purchases. “We were only able to support this much-needed package by identifying some unanticipated contract savings”, Austin said. Ukrainian President Volodymyr Zelensky said in a statement the day before that it is “critically important for us that the Congress soon completes all the necessary procedures and makes a final decision”'"
      ]
     },
     "execution_count": 35,
     "metadata": {},
     "output_type": "execute_result"
    }
   ],
   "source": [
    "dataset['entity_context'] = dataset['entity_context'].apply(clean_article)\n",
    "dataset.iloc[3].entity_context"
   ]
  },
  {
   "cell_type": "code",
   "execution_count": 36,
   "metadata": {
    "colab": {
     "base_uri": "https://localhost:8080/",
     "height": 116
    },
    "id": "95YU6xadFdP-",
    "outputId": "e968d3a0-98b6-43e2-f12a-7b07ca6bbf90"
   },
   "outputs": [
    {
     "data": {
      "text/plain": [
       "'moment Western and world leaders meet in Davos for the World Economic Forum (WEF). Zelensky while there in Switzerland pressed Ukraine\\'s case for the need to achieve air superiority. But Putin in his fresh remarks stressed that not only do Russian forces have the clear upper hand, but he emphasized for the first time that Ukrainian statehood itself risks an \"irreparable\" blow if the war continues. He stressed that Ukraine\\'s military has already \"failed\". \"Not only has their counteroffensive failed, but the initiative is entirely in the hands of the Russian Armed Forces,\" Putin said in the televised remarks. \"If this continues, Ukraine\\'s statehood could be dealt an irreparable, very serious blow,\" he added, but he didn\\'t clarify further precisely what he meant by this. \"They are trying to show that they can also do something. But instead of solving military tasks, they act in such a barbaric way. Attacks are being carried out on peaceful settlements with indiscriminate weapons,\" Putin said in reference to the past several weeks of cross-border attacks on Belgorod city, which have killed and maimed Russian civilians . Putin further addressed Zelensky\\'s efforts to gather world leaders for a peace summit hosted by Switzerland, to consider Kiev\\'s 10-point peace plan, which it should be noted rejects the possibility of territorial concessions. \"The so-called \\'peace formula\\' that\\'s being talked about in the West and in Ukraine is a continuation of the decree of the Ukrainian president banning negotiations with Russia,\" Putin said, according to a translation in Sputnik. \"As for the negotiating process, it\\'s an attempt to encourage us to abandon the territorial gains we\\'ve achieved over the past 1 1/2 years. But this is impossible. Everyone understands that this is impossible,\" the Russian leader continued. He explained that earlier in the conflict, the two sides were close to serious negotiations that could have led to peace, but that ultimately Zelensky allowed himself to be the puppet of Western powers... \"A day later, they threw all the agreements into the trash, and now they are saying publicly—including the head of the Ukrainian negotiating group—that \\'Yes, we were ready, but we missed the chance, because then-Prime Minister of Britain'"
      ]
     },
     "execution_count": 36,
     "metadata": {},
     "output_type": "execute_result"
    }
   ],
   "source": [
    "dataset.iloc[1].entity_context"
   ]
  },
  {
   "cell_type": "code",
   "execution_count": 37,
   "metadata": {
    "colab": {
     "base_uri": "https://localhost:8080/",
     "height": 355
    },
    "id": "t1VjmYePB2sp",
    "outputId": "4cf8349a-146e-4d92-bb12-05eb7dcc580c"
   },
   "outputs": [
    {
     "data": {
      "text/plain": [
       "article_id                                                   024628\n",
       "content           Washington will not let Ukraine fail, US defen...\n",
       "entity_mention                                        United States\n",
       "start_offset                                                    140\n",
       "end_offset                                                      152\n",
       "main_role                                               Protagonist\n",
       "context_before    Washington will not let Ukraine fail, US defen...\n",
       "context_after     will not let Ukraine fail in fighting off Russ...\n",
       "entity_context    Washington will not let Ukraine fail, US defen...\n",
       "Name: 348, dtype: object"
      ]
     },
     "execution_count": 37,
     "metadata": {},
     "output_type": "execute_result"
    }
   ],
   "source": [
    "dataset.iloc[3]"
   ]
  },
  {
   "cell_type": "code",
   "execution_count": 38,
   "metadata": {
    "colab": {
     "base_uri": "https://localhost:8080/",
     "height": 116
    },
    "id": "1Q0d6QolNZxM",
    "outputId": "c3406b33-644d-4e42-e66b-af96fb3170cb"
   },
   "outputs": [
    {
     "data": {
      "text/plain": [
       "'Head of German Intelligence Reveals Zelensky Behind Nord Stream Pipeline Attack The former head of German intelligence has revealed that Ukrainian President Volodymyr Zelensky and President of Poland both collaborated to carry out the attack on the Nord Stream Pipelines. The Nord Stream 1 and 2 pipelines were sabotaged on 26 September 2022 after a series of underwater explosions and gas leaks. BYPASS THE CENSORS Sign up to get unfiltered news delivered straight to your inbox. You can unsubscribe any time. By subscribing you agree to our Terms of Use Latest Video Modernity.news reports: Much of the legacy media initially blamed Russia for attack, claiming it was a false flag but offering no sensible reason as to why Moscow would target its own energy infrastructure. However, during an appearance on German broadcaster WELT-TV, August Hanning, who served as the head of Germany’s Federal Intelligence Service (BND) from 1998 to 2005, the attack was carried out at the behest of Zelensky and Andrzej Duda. According to Hanning, the act of sabotage occurred as a result of an “agreement between the highest officials in Ukraine and Poland.” “There were agreements between Zelensky and Duda to carry out the attack,” said Hanning. As we highlighted yesterday, Germany'"
      ]
     },
     "execution_count": 38,
     "metadata": {},
     "output_type": "execute_result"
    }
   ],
   "source": [
    "dataset['entity_context'].iloc[4]"
   ]
  },
  {
   "cell_type": "code",
   "execution_count": 39,
   "metadata": {
    "colab": {
     "base_uri": "https://localhost:8080/",
     "height": 34
    },
    "id": "T8YR49H8Ng1x",
    "outputId": "33119b71-7e92-4352-a3d5-b9d1fbcca131"
   },
   "outputs": [
    {
     "data": {
      "text/plain": [
       "'Antagonist'"
      ]
     },
     "execution_count": 39,
     "metadata": {},
     "output_type": "execute_result"
    }
   ],
   "source": [
    "dataset['main_role'].iloc[4]"
   ]
  },
  {
   "cell_type": "code",
   "execution_count": 40,
   "metadata": {
    "colab": {
     "base_uri": "https://localhost:8080/",
     "height": 34
    },
    "id": "4Ik5sfiiNkt8",
    "outputId": "334f8bbf-0049-41b4-aa3c-cdfd882e72c5"
   },
   "outputs": [
    {
     "data": {
      "text/plain": [
       "'Volodymyr Zelensky'"
      ]
     },
     "execution_count": 40,
     "metadata": {},
     "output_type": "execute_result"
    }
   ],
   "source": [
    "dataset['entity_mention'].iloc[4]"
   ]
  },
  {
   "cell_type": "code",
   "execution_count": 41,
   "metadata": {
    "id": "rK516dbHjeWu"
   },
   "outputs": [],
   "source": [
    "from sklearn.preprocessing import LabelEncoder\n",
    "\n",
    "_le = LabelEncoder()\n",
    "dataset['main_role_encoded'] = _le.fit_transform(dataset['main_role'])"
   ]
  },
  {
   "cell_type": "code",
   "execution_count": 42,
   "metadata": {
    "colab": {
     "base_uri": "https://localhost:8080/",
     "height": 444
    },
    "id": "VwuFv5sAHuyS",
    "outputId": "dd4bc847-e969-425a-dd32-4c00762731f6"
   },
   "outputs": [
    {
     "data": {
      "text/plain": [
       "26     0\n",
       "360    1\n",
       "331    0\n",
       "348    2\n",
       "312    0\n",
       "      ..\n",
       "137    0\n",
       "28     0\n",
       "10     0\n",
       "330    2\n",
       "174    2\n",
       "Name: main_role_encoded, Length: 417, dtype: int64"
      ]
     },
     "execution_count": 42,
     "metadata": {},
     "output_type": "execute_result"
    }
   ],
   "source": [
    "dataset['main_role_encoded']"
   ]
  },
  {
   "cell_type": "code",
   "execution_count": 43,
   "metadata": {
    "id": "RybJQXK94Hal"
   },
   "outputs": [],
   "source": [
    "from sklearn.model_selection import train_test_split\n",
    "dataset_train, dataset_temp = train_test_split(dataset, train_size=0.85, shuffle=True, stratify=dataset['main_role_encoded'])"
   ]
  },
  {
   "cell_type": "code",
   "execution_count": 44,
   "metadata": {
    "id": "Skpw-RX_4QXU"
   },
   "outputs": [],
   "source": [
    "dataset_val, dataset_test = train_test_split(dataset_temp, train_size=0.5, shuffle=True, stratify=dataset_temp['main_role_encoded'])"
   ]
  },
  {
   "cell_type": "code",
   "execution_count": 45,
   "metadata": {
    "colab": {
     "base_uri": "https://localhost:8080/",
     "height": 203
    },
    "id": "zUhU2_K3tCWR",
    "outputId": "15bdeafe-24a1-4303-e1e1-20a4f6e71482"
   },
   "outputs": [
    {
     "data": {
      "text/plain": [
       "main_role\n",
       "Antagonist     20\n",
       "Protagonist     8\n",
       "Innocent        4\n",
       "Name: count, dtype: int64"
      ]
     },
     "execution_count": 45,
     "metadata": {},
     "output_type": "execute_result"
    }
   ],
   "source": [
    "dataset_test.main_role.value_counts()"
   ]
  },
  {
   "cell_type": "code",
   "execution_count": 46,
   "metadata": {
    "id": "v9C6vx9gZhZM"
   },
   "outputs": [],
   "source": [
    "import warnings\n",
    "from sklearn.metrics import classification_report, confusion_matrix\n",
    "\n",
    "def get_classification_report(y_true, y_pred):\n",
    "  # Ignore warnings\n",
    "    with warnings.catch_warnings():\n",
    "        warnings.simplefilter(\"ignore\")\n",
    "        report = classification_report(y_true, y_pred, output_dict=True)\n",
    "    report_df = pd.DataFrame(report).transpose()\n",
    "    return report_df\n",
    "\n",
    "def plot_confusion_matrix(y_true, y_pred):\n",
    "    conf_matrix = confusion_matrix(y_true, y_pred)\n",
    "    plt.figure(figsize=(8, 6))\n",
    "    sns.heatmap(conf_matrix, annot=True, fmt='d', cmap='Blues')\n",
    "    plt.xlabel('Predicted')\n",
    "    plt.ylabel('True')\n",
    "    plt.title('Confusion Matrix')\n",
    "    plt.show()\n",
    "    return conf_matrix"
   ]
  },
  {
   "cell_type": "code",
   "execution_count": 47,
   "metadata": {
    "id": "QsvsWU6f2GcQ"
   },
   "outputs": [],
   "source": [
    "from sklearn.model_selection import StratifiedKFold, cross_val_score\n",
    "\n",
    "def evaluate_model(model, x, y_true):\n",
    "  y_pred = model.predict(x)\n",
    "  classification_report_df = get_classification_report(y_true, y_pred)\n",
    "  print(classification_report_df)\n",
    "  print('\\n')\n",
    "  conf = plot_confusion_matrix(y_true, y_pred)\n",
    "  return conf\n",
    "\n",
    "def get_cross_val_score(model, x, y, scoring='f1_macro', splits=3):\n",
    "  cv = StratifiedKFold(n_splits=splits, shuffle=True)\n",
    "  cross_val_scores = cross_val_score(model, x, y, cv=cv, scoring=scoring)\n",
    "  print(f\"Cross-validation scores: {cross_val_scores}\")\n",
    "  print(f\"Mean CV F1 Score: {cross_val_scores.mean()}\")"
   ]
  },
  {
   "cell_type": "code",
   "execution_count": 48,
   "metadata": {},
   "outputs": [],
   "source": [
    "import os\n",
    "\n",
    "def embeddings_exist(embeddings_path):\n",
    "    embeddings_files = [\n",
    "        'train_embeddings.npy',\n",
    "        'val_embeddings.npy',\n",
    "        'test_embeddings.npy',\n",
    "    ]\n",
    "    # Check if all required embedding files exist\n",
    "    for embedding_file in embeddings_files:\n",
    "        path = os.path.join(embeddings_path, embedding_file) \n",
    "        if not os.path.exists(path):\n",
    "            return False\n",
    "    return True\n"
   ]
  },
  {
   "cell_type": "code",
   "execution_count": 49,
   "metadata": {
    "colab": {
     "base_uri": "https://localhost:8080/"
    },
    "id": "4O3b2EepZWUf",
    "outputId": "6de119a5-55eb-407c-fdb4-3f1358ef01fe"
   },
   "outputs": [
    {
     "data": {
      "application/vnd.jupyter.widget-view+json": {
       "model_id": "b98e8165d2d0410bbd089c677d542c47",
       "version_major": 2,
       "version_minor": 0
      },
      "text/plain": [
       "pytorch_model.bin:  63%|######3   | 849M/1.34G [00:00<?, ?B/s]"
      ]
     },
     "metadata": {},
     "output_type": "display_data"
    },
    {
     "data": {
      "application/vnd.jupyter.widget-view+json": {
       "model_id": "4384bc5d164b4024970ee1fb581af4ad",
       "version_major": 2,
       "version_minor": 0
      },
      "text/plain": [
       "tokenizer_config.json:   0%|          | 0.00/2.41k [00:00<?, ?B/s]"
      ]
     },
     "metadata": {},
     "output_type": "display_data"
    },
    {
     "data": {
      "application/vnd.jupyter.widget-view+json": {
       "model_id": "4fa97dc54d8945febdd261777ce0dad0",
       "version_major": 2,
       "version_minor": 0
      },
      "text/plain": [
       "spiece.model:   0%|          | 0.00/792k [00:00<?, ?B/s]"
      ]
     },
     "metadata": {},
     "output_type": "display_data"
    },
    {
     "data": {
      "application/vnd.jupyter.widget-view+json": {
       "model_id": "5d6abed66eb8441da6803a6d6318fd32",
       "version_major": 2,
       "version_minor": 0
      },
      "text/plain": [
       "tokenizer.json:   0%|          | 0.00/2.42M [00:00<?, ?B/s]"
      ]
     },
     "metadata": {},
     "output_type": "display_data"
    },
    {
     "data": {
      "application/vnd.jupyter.widget-view+json": {
       "model_id": "ef6701856cbf4b7e91175b050066dccf",
       "version_major": 2,
       "version_minor": 0
      },
      "text/plain": [
       "special_tokens_map.json:   0%|          | 0.00/2.20k [00:00<?, ?B/s]"
      ]
     },
     "metadata": {},
     "output_type": "display_data"
    },
    {
     "name": "stderr",
     "output_type": "stream",
     "text": [
      "/Library/Frameworks/Python.framework/Versions/3.12/lib/python3.12/site-packages/transformers/tokenization_utils_base.py:1602: FutureWarning: `clean_up_tokenization_spaces` was not set. It will be set to `True` by default. This behavior will be deprecated in transformers v4.45, and will be then set to `False` by default. For more details check this issue: https://github.com/huggingface/transformers/issues/31884\n",
      "  warnings.warn(\n"
     ]
    },
    {
     "data": {
      "application/vnd.jupyter.widget-view+json": {
       "model_id": "962b2c5cf8be46d09eabe9ca09767eca",
       "version_major": 2,
       "version_minor": 0
      },
      "text/plain": [
       "1_Pooling/config.json:   0%|          | 0.00/270 [00:00<?, ?B/s]"
      ]
     },
     "metadata": {},
     "output_type": "display_data"
    },
    {
     "data": {
      "application/vnd.jupyter.widget-view+json": {
       "model_id": "60daba955c4e4c9b91154e331ddb842c",
       "version_major": 2,
       "version_minor": 0
      },
      "text/plain": [
       "2_Dense/config.json:   0%|          | 0.00/116 [00:00<?, ?B/s]"
      ]
     },
     "metadata": {},
     "output_type": "display_data"
    },
    {
     "data": {
      "application/vnd.jupyter.widget-view+json": {
       "model_id": "46b082b3e1f64782a5301be3e8d27393",
       "version_major": 2,
       "version_minor": 0
      },
      "text/plain": [
       "pytorch_model.bin:   0%|          | 0.00/3.15M [00:00<?, ?B/s]"
      ]
     },
     "metadata": {},
     "output_type": "display_data"
    }
   ],
   "source": [
    "model = None\n",
    "\n",
    "embeddings_dir = '/content/data/embeddings/entity_framing/'\n",
    "os.makedirs(embedding_dir, exist_ok=True)\n",
    "\n",
    "if not embeddings_exist(embeddings_dir):\n",
    "    from sentence_transformers import SentenceTransformer\n",
    "    model = SentenceTransformer(\"hkunlp/instructor-large\")"
   ]
  },
  {
   "cell_type": "code",
   "execution_count": 50,
   "metadata": {
    "id": "_YLV6ERd1AQN"
   },
   "outputs": [],
   "source": [
    "import numpy as np\n",
    "\n",
    "def save_embeddings(embeddings, file_path):\n",
    "    np.save(file_path, embeddings)\n",
    "    print(f\"Embeddings saved to {file_path}\")\n",
    "\n",
    "def get_instructor_embeddings(dataset, model, file_path=None):\n",
    "    if file_path and os.path.exists(file_path):\n",
    "        print(f\"Loading embeddings from {file_path}\")\n",
    "        return np.load(file_path)\n",
    "\n",
    "    embeddings = []\n",
    "    for index, row in dataset.iterrows():\n",
    "        entity = row['entity_mention']\n",
    "        context = row['entity_context']\n",
    "        instruction = (\n",
    "            f\"Classify the role of {entity} in this context as antagonist, protagonist, or innocent. Focus on their \"\n",
    "            f\"actions, intent, and surrounding sentiment: \"\n",
    "        )\n",
    "        embedding = model.encode([[instruction, context]])\n",
    "        embeddings.append(embedding[0])\n",
    "\n",
    "    embeddings = np.array(embeddings)\n",
    "\n",
    "    if file_path:\n",
    "        save_embeddings(embeddings, file_path)\n",
    "\n",
    "    return embeddings"
   ]
  },
  {
   "cell_type": "code",
   "execution_count": 51,
   "metadata": {
    "id": "FLLYEnQLaQwK"
   },
   "outputs": [],
   "source": [
    "train_embeddings_path = os.path.join(embedding_dir, 'train_embeddings.npy')\n",
    "val_embeddings_path = os.path.join(embedding_dir, 'val_embeddings.npy')\n",
    "test_embeddings_path = os.path.join(embedding_dir, 'test_embeddings.npy')\n",
    "\n",
    "def load_embeddings(file_path):\n",
    "  if os.path.exists(file_path):\n",
    "      print(f\"Loading embeddings from {file_path}\")\n",
    "      return np.load(file_path)\n",
    "  else:\n",
    "      print(f\"No embeddings found at {file_path}\")\n",
    "      return None\n",
    "\n",
    "def ensure_embeddings(dataset, model, dataset_type='train'):\n",
    "    if dataset_type == 'train':\n",
    "        embeddings_path = train_embeddings_path\n",
    "    elif dataset_type == 'val':\n",
    "        embeddings_path = val_embeddings_path\n",
    "    elif dataset_type == 'test':\n",
    "        embeddings_path = test_embeddings_path\n",
    "    else:\n",
    "        print('Dataset type must be either train, val or test')\n",
    "        return\n",
    "\n",
    "    embeddings = load_embeddings(embeddings_path)\n",
    "\n",
    "    if embeddings is None:\n",
    "        print(f\"Generating {dataset_type} embeddings...\")\n",
    "        embeddings = get_instructor_embeddings(dataset, model)\n",
    "        save_embeddings(embeddings, embeddings_path)\n",
    "\n",
    "    return embeddings"
   ]
  },
  {
   "cell_type": "code",
   "execution_count": 52,
   "metadata": {
    "colab": {
     "base_uri": "https://localhost:8080/"
    },
    "id": "qtUptGCtYGvD",
    "outputId": "2eb1fb11-ad8e-497b-bb34-767d3182b93b"
   },
   "outputs": [
    {
     "name": "stdout",
     "output_type": "stream",
     "text": [
      "No embeddings found at data/embeddings/entity_framing/train_embeddings.npy\n",
      "Generating train embeddings...\n",
      "Embeddings saved to data/embeddings/entity_framing/train_embeddings.npy\n",
      "No embeddings found at data/embeddings/entity_framing/val_embeddings.npy\n",
      "Generating val embeddings...\n",
      "Embeddings saved to data/embeddings/entity_framing/val_embeddings.npy\n"
     ]
    }
   ],
   "source": [
    "train_x_embeddings = ensure_embeddings(dataset_train, model, dataset_type='train')\n",
    "val_x_embeddings = ensure_embeddings(dataset_val, model, dataset_type='val')"
   ]
  },
  {
   "cell_type": "code",
   "execution_count": 53,
   "metadata": {
    "colab": {
     "base_uri": "https://localhost:8080/"
    },
    "id": "pNyiXmQebaAF",
    "outputId": "056740d8-093d-408d-c44e-cdb5bad40ef3"
   },
   "outputs": [
    {
     "data": {
      "text/plain": [
       "(354, 768)"
      ]
     },
     "execution_count": 53,
     "metadata": {},
     "output_type": "execute_result"
    }
   ],
   "source": [
    "train_x_embeddings.shape"
   ]
  },
  {
   "cell_type": "code",
   "execution_count": 54,
   "metadata": {
    "colab": {
     "base_uri": "https://localhost:8080/"
    },
    "id": "WtgQh6EkbSU9",
    "outputId": "066bdece-af0e-47a0-a4c4-9dadd2e5d7b6"
   },
   "outputs": [
    {
     "data": {
      "text/plain": [
       "array([-0.03184541,  0.00539773, -0.01247957,  0.02696143,  0.06375494,\n",
       "        0.01744367,  0.0023281 ,  0.01576601, -0.04076713,  0.04965216,\n",
       "        0.05956427, -0.02206425,  0.03178336,  0.02601592, -0.03241005,\n",
       "       -0.02916206, -0.04596349,  0.03148263, -0.02311569, -0.00073449],\n",
       "      dtype=float32)"
      ]
     },
     "execution_count": 54,
     "metadata": {},
     "output_type": "execute_result"
    }
   ],
   "source": [
    "train_x_embeddings[0][:20]"
   ]
  },
  {
   "cell_type": "code",
   "execution_count": 55,
   "metadata": {
    "colab": {
     "base_uri": "https://localhost:8080/",
     "height": 444
    },
    "id": "jIs9DgjIZDs6",
    "outputId": "223aa366-014d-4113-ae50-59a83ccb970b"
   },
   "outputs": [
    {
     "data": {
      "text/plain": [
       "0      0\n",
       "1      1\n",
       "2      0\n",
       "3      0\n",
       "4      2\n",
       "      ..\n",
       "349    0\n",
       "350    2\n",
       "351    0\n",
       "352    0\n",
       "353    0\n",
       "Name: main_role_encoded, Length: 354, dtype: int64"
      ]
     },
     "execution_count": 55,
     "metadata": {},
     "output_type": "execute_result"
    }
   ],
   "source": [
    "train_y_encoded = dataset_train['main_role_encoded'].reset_index(drop=True)\n",
    "val_y_encoded = dataset_val['main_role_encoded'].reset_index(drop=True)\n",
    "\n",
    "train_y_encoded"
   ]
  },
  {
   "cell_type": "code",
   "execution_count": 56,
   "metadata": {
    "colab": {
     "base_uri": "https://localhost:8080/"
    },
    "id": "YUJIfviyEcGy",
    "outputId": "58a9f675-69e1-463b-e61b-03813c6f251a"
   },
   "outputs": [
    {
     "name": "stdout",
     "output_type": "stream",
     "text": [
      "No embeddings found at data/embeddings/entity_framing/test_embeddings.npy\n",
      "Generating test embeddings...\n",
      "Embeddings saved to data/embeddings/entity_framing/test_embeddings.npy\n"
     ]
    }
   ],
   "source": [
    "test_x_embeddings = ensure_embeddings(dataset_test, model, dataset_type='test')\n",
    "test_y_encoded = dataset_test['main_role_encoded'].reset_index(drop=True)"
   ]
  },
  {
   "cell_type": "code",
   "execution_count": 57,
   "metadata": {
    "colab": {
     "base_uri": "https://localhost:8080/"
    },
    "id": "iONp61TJDcdn",
    "outputId": "993d9fef-9ab1-4c8a-fc8f-80c793422b38"
   },
   "outputs": [
    {
     "name": "stdout",
     "output_type": "stream",
     "text": [
      "Cross-validation scores: [0.42712843 0.4437157  0.40781893]\n",
      "Mean CV F1 Score: 0.4262210182769193\n"
     ]
    }
   ],
   "source": [
    "from sklearn.neighbors import KNeighborsClassifier\n",
    "\n",
    "knn_classifier = KNeighborsClassifier(n_neighbors=3, weights='distance', metric='cosine')\n",
    "get_cross_val_score(knn_classifier, train_x_embeddings, train_y_encoded)"
   ]
  },
  {
   "cell_type": "code",
   "execution_count": 58,
   "metadata": {
    "colab": {
     "base_uri": "https://localhost:8080/",
     "height": 761
    },
    "id": "8UBl_C5IZI76",
    "outputId": "180fca86-237b-4f02-e656-da0c7248a1ee"
   },
   "outputs": [
    {
     "name": "stdout",
     "output_type": "stream",
     "text": [
      "              precision    recall  f1-score    support\n",
      "0              0.727273  0.800000  0.761905  20.000000\n",
      "1              0.142857  0.333333  0.200000   3.000000\n",
      "2              1.000000  0.250000  0.400000   8.000000\n",
      "accuracy       0.612903  0.612903  0.612903   0.612903\n",
      "macro avg      0.623377  0.461111  0.453968  31.000000\n",
      "weighted avg   0.741098  0.612903  0.614132  31.000000\n",
      "\n",
      "\n"
     ]
    },
    {
     "data": {
      "image/png": "[encoded data removed]",
      "text/plain": [
       "<Figure size 800x600 with 2 Axes>"
      ]
     },
     "metadata": {},
     "output_type": "display_data"
    },
    {
     "data": {
      "text/plain": [
       "array([[16,  4,  0],\n",
       "       [ 2,  1,  0],\n",
       "       [ 4,  2,  2]])"
      ]
     },
     "execution_count": 58,
     "metadata": {},
     "output_type": "execute_result"
    }
   ],
   "source": [
    "knn_classifier.fit(train_x_embeddings, train_y_encoded)\n",
    "evaluate_model(knn_classifier, val_x_embeddings, val_y_encoded)"
   ]
  },
  {
   "cell_type": "code",
   "execution_count": 59,
   "metadata": {
    "colab": {
     "base_uri": "https://localhost:8080/"
    },
    "id": "lxyPD1tKhLj4",
    "outputId": "c411a77a-fea4-4d1a-e624-668e6d0369d1"
   },
   "outputs": [
    {
     "name": "stdout",
     "output_type": "stream",
     "text": [
      "Cross-validation scores: [0.43699856 0.42152429 0.39278683]\n",
      "Mean CV F1 Score: 0.41710322786720955\n"
     ]
    }
   ],
   "source": [
    "import xgboost as xgb\n",
    "from xgboost import XGBClassifier\n",
    "\n",
    "xgb_classifier = XGBClassifier(learning_rate=0.1, max_depth=3, n_estimators=150)\n",
    "get_cross_val_score(xgb_classifier, train_x_embeddings, train_y_encoded)"
   ]
  },
  {
   "cell_type": "code",
   "execution_count": 60,
   "metadata": {
    "colab": {
     "base_uri": "https://localhost:8080/",
     "height": 761
    },
    "id": "4tVfCTyeZOl4",
    "outputId": "a3646b19-7bf9-4db3-d45e-2269f0a726cd"
   },
   "outputs": [
    {
     "name": "stdout",
     "output_type": "stream",
     "text": [
      "              precision    recall  f1-score    support\n",
      "0              0.652174  0.750000  0.697674  20.000000\n",
      "1              0.200000  0.333333  0.250000   3.000000\n",
      "2              0.666667  0.250000  0.363636   8.000000\n",
      "accuracy       0.580645  0.580645  0.580645   0.580645\n",
      "macro avg      0.506280  0.444444  0.437104  31.000000\n",
      "weighted avg   0.612155  0.580645  0.568148  31.000000\n",
      "\n",
      "\n"
     ]
    },
    {
     "data": {
      "image/png": "[encoded data removed]",
      "text/plain": [
       "<Figure size 800x600 with 2 Axes>"
      ]
     },
     "metadata": {},
     "output_type": "display_data"
    },
    {
     "data": {
      "text/plain": [
       "array([[15,  4,  1],\n",
       "       [ 2,  1,  0],\n",
       "       [ 6,  0,  2]])"
      ]
     },
     "execution_count": 60,
     "metadata": {},
     "output_type": "execute_result"
    }
   ],
   "source": [
    "xgb_classifier.fit(train_x_embeddings, train_y_encoded)\n",
    "evaluate_model(xgb_classifier, val_x_embeddings, val_y_encoded)"
   ]
  },
  {
   "cell_type": "code",
   "execution_count": 61,
   "metadata": {
    "colab": {
     "base_uri": "https://localhost:8080/"
    },
    "id": "ewGC-5op_-d2",
    "outputId": "4d3187af-d539-477f-a86a-488d066e0f25"
   },
   "outputs": [
    {
     "name": "stdout",
     "output_type": "stream",
     "text": [
      "['Innocent']\n"
     ]
    }
   ],
   "source": [
    "label = _le.inverse_transform([1])\n",
    "print(label)"
   ]
  },
  {
   "cell_type": "code",
   "execution_count": 62,
   "metadata": {
    "colab": {
     "base_uri": "https://localhost:8080/"
    },
    "id": "0-iweuombnon",
    "outputId": "98d6cb3a-938d-4325-ffbf-e25bb4d8bc7d"
   },
   "outputs": [
    {
     "data": {
      "text/plain": [
       "Counter({0: 227, 2: 87, 1: 40})"
      ]
     },
     "execution_count": 62,
     "metadata": {},
     "output_type": "execute_result"
    }
   ],
   "source": [
    "from collections import Counter\n",
    "Counter(train_y_encoded)"
   ]
  },
  {
   "cell_type": "code",
   "execution_count": 63,
   "metadata": {
    "colab": {
     "base_uri": "https://localhost:8080/"
    },
    "id": "rdCijhfu25si",
    "outputId": "bd1e45de-8130-4d23-ec04-f2f8dfd8e4f4"
   },
   "outputs": [
    {
     "name": "stderr",
     "output_type": "stream",
     "text": [
      "/Library/Frameworks/Python.framework/Versions/3.12/lib/python3.12/site-packages/sklearn/ensemble/_weight_boosting.py:527: FutureWarning: The SAMME.R algorithm (the default) is deprecated and will be removed in 1.6. Use the SAMME algorithm to circumvent this warning.\n",
      "  warnings.warn(\n",
      "/Library/Frameworks/Python.framework/Versions/3.12/lib/python3.12/site-packages/sklearn/ensemble/_weight_boosting.py:527: FutureWarning: The SAMME.R algorithm (the default) is deprecated and will be removed in 1.6. Use the SAMME algorithm to circumvent this warning.\n",
      "  warnings.warn(\n",
      "/Library/Frameworks/Python.framework/Versions/3.12/lib/python3.12/site-packages/sklearn/ensemble/_weight_boosting.py:527: FutureWarning: The SAMME.R algorithm (the default) is deprecated and will be removed in 1.6. Use the SAMME algorithm to circumvent this warning.\n",
      "  warnings.warn(\n"
     ]
    },
    {
     "name": "stdout",
     "output_type": "stream",
     "text": [
      "Cross-validation scores: [0.39969009 0.44991648 0.42071795]\n",
      "Mean CV F1 Score: 0.4234415074518907\n"
     ]
    }
   ],
   "source": [
    "from sklearn.ensemble import AdaBoostClassifier\n",
    "from sklearn.tree import DecisionTreeClassifier\n",
    "\n",
    "weak_learner = DecisionTreeClassifier(max_depth=5)\n",
    "adaboost_classifier = AdaBoostClassifier(estimator=weak_learner, n_estimators=100, learning_rate=.1)\n",
    "\n",
    "get_cross_val_score(adaboost_classifier, train_x_embeddings, train_y_encoded)"
   ]
  },
  {
   "cell_type": "code",
   "execution_count": 64,
   "metadata": {
    "colab": {
     "base_uri": "https://localhost:8080/",
     "height": 187
    },
    "id": "SOn9siYHbOZU",
    "outputId": "bba86d7d-a243-4d7b-91c4-fc468249b727"
   },
   "outputs": [
    {
     "name": "stderr",
     "output_type": "stream",
     "text": [
      "/Library/Frameworks/Python.framework/Versions/3.12/lib/python3.12/site-packages/sklearn/ensemble/_weight_boosting.py:527: FutureWarning: The SAMME.R algorithm (the default) is deprecated and will be removed in 1.6. Use the SAMME algorithm to circumvent this warning.\n",
      "  warnings.warn(\n"
     ]
    },
    {
     "data": {
      "text/html": [
       "<style>#sk-container-id-1 {\n",
       "  /* Definition of color scheme common for light and dark mode */\n",
       "  --sklearn-color-text: black;\n",
       "  --sklearn-color-line: gray;\n",
       "  /* Definition of color scheme for unfitted estimators */\n",
       "  --sklearn-color-unfitted-level-0: #fff5e6;\n",
       "  --sklearn-color-unfitted-level-1: #f6e4d2;\n",
       "  --sklearn-color-unfitted-level-2: #ffe0b3;\n",
       "  --sklearn-color-unfitted-level-3: chocolate;\n",
       "  /* Definition of color scheme for fitted estimators */\n",
       "  --sklearn-color-fitted-level-0: #f0f8ff;\n",
       "  --sklearn-color-fitted-level-1: #d4ebff;\n",
       "  --sklearn-color-fitted-level-2: #b3dbfd;\n",
       "  --sklearn-color-fitted-level-3: cornflowerblue;\n",
       "\n",
       "  /* Specific color for light theme */\n",
       "  --sklearn-color-text-on-default-background: var(--sg-text-color, var(--theme-code-foreground, var(--jp-content-font-color1, black)));\n",
       "  --sklearn-color-background: var(--sg-background-color, var(--theme-background, var(--jp-layout-color0, white)));\n",
       "  --sklearn-color-border-box: var(--sg-text-color, var(--theme-code-foreground, var(--jp-content-font-color1, black)));\n",
       "  --sklearn-color-icon: #696969;\n",
       "\n",
       "  @media (prefers-color-scheme: dark) {\n",
       "    /* Redefinition of color scheme for dark theme */\n",
       "    --sklearn-color-text-on-default-background: var(--sg-text-color, var(--theme-code-foreground, var(--jp-content-font-color1, white)));\n",
       "    --sklearn-color-background: var(--sg-background-color, var(--theme-background, var(--jp-layout-color0, #111)));\n",
       "    --sklearn-color-border-box: var(--sg-text-color, var(--theme-code-foreground, var(--jp-content-font-color1, white)));\n",
       "    --sklearn-color-icon: #878787;\n",
       "  }\n",
       "}\n",
       "\n",
       "#sk-container-id-1 {\n",
       "  color: var(--sklearn-color-text);\n",
       "}\n",
       "\n",
       "#sk-container-id-1 pre {\n",
       "  padding: 0;\n",
       "}\n",
       "\n",
       "#sk-container-id-1 input.sk-hidden--visually {\n",
       "  border: 0;\n",
       "  clip: rect(1px 1px 1px 1px);\n",
       "  clip: rect(1px, 1px, 1px, 1px);\n",
       "  height: 1px;\n",
       "  margin: -1px;\n",
       "  overflow: hidden;\n",
       "  padding: 0;\n",
       "  position: absolute;\n",
       "  width: 1px;\n",
       "}\n",
       "\n",
       "#sk-container-id-1 div.sk-dashed-wrapped {\n",
       "  border: 1px dashed var(--sklearn-color-line);\n",
       "  margin: 0 0.4em 0.5em 0.4em;\n",
       "  box-sizing: border-box;\n",
       "  padding-bottom: 0.4em;\n",
       "  background-color: var(--sklearn-color-background);\n",
       "}\n",
       "\n",
       "#sk-container-id-1 div.sk-container {\n",
       "  /* jupyter's `normalize.less` sets `[hidden] { display: none; }`\n",
       "     but bootstrap.min.css set `[hidden] { display: none !important; }`\n",
       "     so we also need the `!important` here to be able to override the\n",
       "     default hidden behavior on the sphinx rendered scikit-learn.org.\n",
       "     See: https://github.com/scikit-learn/scikit-learn/issues/21755 */\n",
       "  display: inline-block !important;\n",
       "  position: relative;\n",
       "}\n",
       "\n",
       "#sk-container-id-1 div.sk-text-repr-fallback {\n",
       "  display: none;\n",
       "}\n",
       "\n",
       "div.sk-parallel-item,\n",
       "div.sk-serial,\n",
       "div.sk-item {\n",
       "  /* draw centered vertical line to link estimators */\n",
       "  background-image: linear-gradient(var(--sklearn-color-text-on-default-background), var(--sklearn-color-text-on-default-background));\n",
       "  background-size: 2px 100%;\n",
       "  background-repeat: no-repeat;\n",
       "  background-position: center center;\n",
       "}\n",
       "\n",
       "/* Parallel-specific style estimator block */\n",
       "\n",
       "#sk-container-id-1 div.sk-parallel-item::after {\n",
       "  content: \"\";\n",
       "  width: 100%;\n",
       "  border-bottom: 2px solid var(--sklearn-color-text-on-default-background);\n",
       "  flex-grow: 1;\n",
       "}\n",
       "\n",
       "#sk-container-id-1 div.sk-parallel {\n",
       "  display: flex;\n",
       "  align-items: stretch;\n",
       "  justify-content: center;\n",
       "  background-color: var(--sklearn-color-background);\n",
       "  position: relative;\n",
       "}\n",
       "\n",
       "#sk-container-id-1 div.sk-parallel-item {\n",
       "  display: flex;\n",
       "  flex-direction: column;\n",
       "}\n",
       "\n",
       "#sk-container-id-1 div.sk-parallel-item:first-child::after {\n",
       "  align-self: flex-end;\n",
       "  width: 50%;\n",
       "}\n",
       "\n",
       "#sk-container-id-1 div.sk-parallel-item:last-child::after {\n",
       "  align-self: flex-start;\n",
       "  width: 50%;\n",
       "}\n",
       "\n",
       "#sk-container-id-1 div.sk-parallel-item:only-child::after {\n",
       "  width: 0;\n",
       "}\n",
       "\n",
       "/* Serial-specific style estimator block */\n",
       "\n",
       "#sk-container-id-1 div.sk-serial {\n",
       "  display: flex;\n",
       "  flex-direction: column;\n",
       "  align-items: center;\n",
       "  background-color: var(--sklearn-color-background);\n",
       "  padding-right: 1em;\n",
       "  padding-left: 1em;\n",
       "}\n",
       "\n",
       "\n",
       "/* Toggleable style: style used for estimator/Pipeline/ColumnTransformer box that is\n",
       "clickable and can be expanded/collapsed.\n",
       "- Pipeline and ColumnTransformer use this feature and define the default style\n",
       "- Estimators will overwrite some part of the style using the `sk-estimator` class\n",
       "*/\n",
       "\n",
       "/* Pipeline and ColumnTransformer style (default) */\n",
       "\n",
       "#sk-container-id-1 div.sk-toggleable {\n",
       "  /* Default theme specific background. It is overwritten whether we have a\n",
       "  specific estimator or a Pipeline/ColumnTransformer */\n",
       "  background-color: var(--sklearn-color-background);\n",
       "}\n",
       "\n",
       "/* Toggleable label */\n",
       "#sk-container-id-1 label.sk-toggleable__label {\n",
       "  cursor: pointer;\n",
       "  display: block;\n",
       "  width: 100%;\n",
       "  margin-bottom: 0;\n",
       "  padding: 0.5em;\n",
       "  box-sizing: border-box;\n",
       "  text-align: center;\n",
       "}\n",
       "\n",
       "#sk-container-id-1 label.sk-toggleable__label-arrow:before {\n",
       "  /* Arrow on the left of the label */\n",
       "  content: \"▸\";\n",
       "  float: left;\n",
       "  margin-right: 0.25em;\n",
       "  color: var(--sklearn-color-icon);\n",
       "}\n",
       "\n",
       "#sk-container-id-1 label.sk-toggleable__label-arrow:hover:before {\n",
       "  color: var(--sklearn-color-text);\n",
       "}\n",
       "\n",
       "/* Toggleable content - dropdown */\n",
       "\n",
       "#sk-container-id-1 div.sk-toggleable__content {\n",
       "  max-height: 0;\n",
       "  max-width: 0;\n",
       "  overflow: hidden;\n",
       "  text-align: left;\n",
       "  /* unfitted */\n",
       "  background-color: var(--sklearn-color-unfitted-level-0);\n",
       "}\n",
       "\n",
       "#sk-container-id-1 div.sk-toggleable__content.fitted {\n",
       "  /* fitted */\n",
       "  background-color: var(--sklearn-color-fitted-level-0);\n",
       "}\n",
       "\n",
       "#sk-container-id-1 div.sk-toggleable__content pre {\n",
       "  margin: 0.2em;\n",
       "  border-radius: 0.25em;\n",
       "  color: var(--sklearn-color-text);\n",
       "  /* unfitted */\n",
       "  background-color: var(--sklearn-color-unfitted-level-0);\n",
       "}\n",
       "\n",
       "#sk-container-id-1 div.sk-toggleable__content.fitted pre {\n",
       "  /* unfitted */\n",
       "  background-color: var(--sklearn-color-fitted-level-0);\n",
       "}\n",
       "\n",
       "#sk-container-id-1 input.sk-toggleable__control:checked~div.sk-toggleable__content {\n",
       "  /* Expand drop-down */\n",
       "  max-height: 200px;\n",
       "  max-width: 100%;\n",
       "  overflow: auto;\n",
       "}\n",
       "\n",
       "#sk-container-id-1 input.sk-toggleable__control:checked~label.sk-toggleable__label-arrow:before {\n",
       "  content: \"▾\";\n",
       "}\n",
       "\n",
       "/* Pipeline/ColumnTransformer-specific style */\n",
       "\n",
       "#sk-container-id-1 div.sk-label input.sk-toggleable__control:checked~label.sk-toggleable__label {\n",
       "  color: var(--sklearn-color-text);\n",
       "  background-color: var(--sklearn-color-unfitted-level-2);\n",
       "}\n",
       "\n",
       "#sk-container-id-1 div.sk-label.fitted input.sk-toggleable__control:checked~label.sk-toggleable__label {\n",
       "  background-color: var(--sklearn-color-fitted-level-2);\n",
       "}\n",
       "\n",
       "/* Estimator-specific style */\n",
       "\n",
       "/* Colorize estimator box */\n",
       "#sk-container-id-1 div.sk-estimator input.sk-toggleable__control:checked~label.sk-toggleable__label {\n",
       "  /* unfitted */\n",
       "  background-color: var(--sklearn-color-unfitted-level-2);\n",
       "}\n",
       "\n",
       "#sk-container-id-1 div.sk-estimator.fitted input.sk-toggleable__control:checked~label.sk-toggleable__label {\n",
       "  /* fitted */\n",
       "  background-color: var(--sklearn-color-fitted-level-2);\n",
       "}\n",
       "\n",
       "#sk-container-id-1 div.sk-label label.sk-toggleable__label,\n",
       "#sk-container-id-1 div.sk-label label {\n",
       "  /* The background is the default theme color */\n",
       "  color: var(--sklearn-color-text-on-default-background);\n",
       "}\n",
       "\n",
       "/* On hover, darken the color of the background */\n",
       "#sk-container-id-1 div.sk-label:hover label.sk-toggleable__label {\n",
       "  color: var(--sklearn-color-text);\n",
       "  background-color: var(--sklearn-color-unfitted-level-2);\n",
       "}\n",
       "\n",
       "/* Label box, darken color on hover, fitted */\n",
       "#sk-container-id-1 div.sk-label.fitted:hover label.sk-toggleable__label.fitted {\n",
       "  color: var(--sklearn-color-text);\n",
       "  background-color: var(--sklearn-color-fitted-level-2);\n",
       "}\n",
       "\n",
       "/* Estimator label */\n",
       "\n",
       "#sk-container-id-1 div.sk-label label {\n",
       "  font-family: monospace;\n",
       "  font-weight: bold;\n",
       "  display: inline-block;\n",
       "  line-height: 1.2em;\n",
       "}\n",
       "\n",
       "#sk-container-id-1 div.sk-label-container {\n",
       "  text-align: center;\n",
       "}\n",
       "\n",
       "/* Estimator-specific */\n",
       "#sk-container-id-1 div.sk-estimator {\n",
       "  font-family: monospace;\n",
       "  border: 1px dotted var(--sklearn-color-border-box);\n",
       "  border-radius: 0.25em;\n",
       "  box-sizing: border-box;\n",
       "  margin-bottom: 0.5em;\n",
       "  /* unfitted */\n",
       "  background-color: var(--sklearn-color-unfitted-level-0);\n",
       "}\n",
       "\n",
       "#sk-container-id-1 div.sk-estimator.fitted {\n",
       "  /* fitted */\n",
       "  background-color: var(--sklearn-color-fitted-level-0);\n",
       "}\n",
       "\n",
       "/* on hover */\n",
       "#sk-container-id-1 div.sk-estimator:hover {\n",
       "  /* unfitted */\n",
       "  background-color: var(--sklearn-color-unfitted-level-2);\n",
       "}\n",
       "\n",
       "#sk-container-id-1 div.sk-estimator.fitted:hover {\n",
       "  /* fitted */\n",
       "  background-color: var(--sklearn-color-fitted-level-2);\n",
       "}\n",
       "\n",
       "/* Specification for estimator info (e.g. \"i\" and \"?\") */\n",
       "\n",
       "/* Common style for \"i\" and \"?\" */\n",
       "\n",
       ".sk-estimator-doc-link,\n",
       "a:link.sk-estimator-doc-link,\n",
       "a:visited.sk-estimator-doc-link {\n",
       "  float: right;\n",
       "  font-size: smaller;\n",
       "  line-height: 1em;\n",
       "  font-family: monospace;\n",
       "  background-color: var(--sklearn-color-background);\n",
       "  border-radius: 1em;\n",
       "  height: 1em;\n",
       "  width: 1em;\n",
       "  text-decoration: none !important;\n",
       "  margin-left: 1ex;\n",
       "  /* unfitted */\n",
       "  border: var(--sklearn-color-unfitted-level-1) 1pt solid;\n",
       "  color: var(--sklearn-color-unfitted-level-1);\n",
       "}\n",
       "\n",
       ".sk-estimator-doc-link.fitted,\n",
       "a:link.sk-estimator-doc-link.fitted,\n",
       "a:visited.sk-estimator-doc-link.fitted {\n",
       "  /* fitted */\n",
       "  border: var(--sklearn-color-fitted-level-1) 1pt solid;\n",
       "  color: var(--sklearn-color-fitted-level-1);\n",
       "}\n",
       "\n",
       "/* On hover */\n",
       "div.sk-estimator:hover .sk-estimator-doc-link:hover,\n",
       ".sk-estimator-doc-link:hover,\n",
       "div.sk-label-container:hover .sk-estimator-doc-link:hover,\n",
       ".sk-estimator-doc-link:hover {\n",
       "  /* unfitted */\n",
       "  background-color: var(--sklearn-color-unfitted-level-3);\n",
       "  color: var(--sklearn-color-background);\n",
       "  text-decoration: none;\n",
       "}\n",
       "\n",
       "div.sk-estimator.fitted:hover .sk-estimator-doc-link.fitted:hover,\n",
       ".sk-estimator-doc-link.fitted:hover,\n",
       "div.sk-label-container:hover .sk-estimator-doc-link.fitted:hover,\n",
       ".sk-estimator-doc-link.fitted:hover {\n",
       "  /* fitted */\n",
       "  background-color: var(--sklearn-color-fitted-level-3);\n",
       "  color: var(--sklearn-color-background);\n",
       "  text-decoration: none;\n",
       "}\n",
       "\n",
       "/* Span, style for the box shown on hovering the info icon */\n",
       ".sk-estimator-doc-link span {\n",
       "  display: none;\n",
       "  z-index: 9999;\n",
       "  position: relative;\n",
       "  font-weight: normal;\n",
       "  right: .2ex;\n",
       "  padding: .5ex;\n",
       "  margin: .5ex;\n",
       "  width: min-content;\n",
       "  min-width: 20ex;\n",
       "  max-width: 50ex;\n",
       "  color: var(--sklearn-color-text);\n",
       "  box-shadow: 2pt 2pt 4pt #999;\n",
       "  /* unfitted */\n",
       "  background: var(--sklearn-color-unfitted-level-0);\n",
       "  border: .5pt solid var(--sklearn-color-unfitted-level-3);\n",
       "}\n",
       "\n",
       ".sk-estimator-doc-link.fitted span {\n",
       "  /* fitted */\n",
       "  background: var(--sklearn-color-fitted-level-0);\n",
       "  border: var(--sklearn-color-fitted-level-3);\n",
       "}\n",
       "\n",
       ".sk-estimator-doc-link:hover span {\n",
       "  display: block;\n",
       "}\n",
       "\n",
       "/* \"?\"-specific style due to the `<a>` HTML tag */\n",
       "\n",
       "#sk-container-id-1 a.estimator_doc_link {\n",
       "  float: right;\n",
       "  font-size: 1rem;\n",
       "  line-height: 1em;\n",
       "  font-family: monospace;\n",
       "  background-color: var(--sklearn-color-background);\n",
       "  border-radius: 1rem;\n",
       "  height: 1rem;\n",
       "  width: 1rem;\n",
       "  text-decoration: none;\n",
       "  /* unfitted */\n",
       "  color: var(--sklearn-color-unfitted-level-1);\n",
       "  border: var(--sklearn-color-unfitted-level-1) 1pt solid;\n",
       "}\n",
       "\n",
       "#sk-container-id-1 a.estimator_doc_link.fitted {\n",
       "  /* fitted */\n",
       "  border: var(--sklearn-color-fitted-level-1) 1pt solid;\n",
       "  color: var(--sklearn-color-fitted-level-1);\n",
       "}\n",
       "\n",
       "/* On hover */\n",
       "#sk-container-id-1 a.estimator_doc_link:hover {\n",
       "  /* unfitted */\n",
       "  background-color: var(--sklearn-color-unfitted-level-3);\n",
       "  color: var(--sklearn-color-background);\n",
       "  text-decoration: none;\n",
       "}\n",
       "\n",
       "#sk-container-id-1 a.estimator_doc_link.fitted:hover {\n",
       "  /* fitted */\n",
       "  background-color: var(--sklearn-color-fitted-level-3);\n",
       "}\n",
       "</style><div id=\"sk-container-id-1\" class=\"sk-top-container\"><div class=\"sk-text-repr-fallback\"><pre>AdaBoostClassifier(estimator=DecisionTreeClassifier(max_depth=5),\n",
       "                   learning_rate=0.1, n_estimators=100)</pre><b>In a Jupyter environment, please rerun this cell to show the HTML representation or trust the notebook. <br />On GitHub, the HTML representation is unable to render, please try loading this page with nbviewer.org.</b></div><div class=\"sk-container\" hidden><div class=\"sk-item sk-dashed-wrapped\"><div class=\"sk-label-container\"><div class=\"sk-label fitted sk-toggleable\"><input class=\"sk-toggleable__control sk-hidden--visually\" id=\"sk-estimator-id-1\" type=\"checkbox\" ><label for=\"sk-estimator-id-1\" class=\"sk-toggleable__label fitted sk-toggleable__label-arrow fitted\">&nbsp;&nbsp;AdaBoostClassifier<a class=\"sk-estimator-doc-link fitted\" rel=\"noreferrer\" target=\"_blank\" href=\"https://scikit-learn.org/1.5/modules/generated/sklearn.ensemble.AdaBoostClassifier.html\">?<span>Documentation for AdaBoostClassifier</span></a><span class=\"sk-estimator-doc-link fitted\">i<span>Fitted</span></span></label><div class=\"sk-toggleable__content fitted\"><pre>AdaBoostClassifier(estimator=DecisionTreeClassifier(max_depth=5),\n",
       "                   learning_rate=0.1, n_estimators=100)</pre></div> </div></div><div class=\"sk-parallel\"><div class=\"sk-parallel-item\"><div class=\"sk-item\"><div class=\"sk-label-container\"><div class=\"sk-label fitted sk-toggleable\"><input class=\"sk-toggleable__control sk-hidden--visually\" id=\"sk-estimator-id-2\" type=\"checkbox\" ><label for=\"sk-estimator-id-2\" class=\"sk-toggleable__label fitted sk-toggleable__label-arrow fitted\">estimator: DecisionTreeClassifier</label><div class=\"sk-toggleable__content fitted\"><pre>DecisionTreeClassifier(max_depth=5)</pre></div> </div></div><div class=\"sk-serial\"><div class=\"sk-item\"><div class=\"sk-estimator fitted sk-toggleable\"><input class=\"sk-toggleable__control sk-hidden--visually\" id=\"sk-estimator-id-3\" type=\"checkbox\" ><label for=\"sk-estimator-id-3\" class=\"sk-toggleable__label fitted sk-toggleable__label-arrow fitted\">&nbsp;DecisionTreeClassifier<a class=\"sk-estimator-doc-link fitted\" rel=\"noreferrer\" target=\"_blank\" href=\"https://scikit-learn.org/1.5/modules/generated/sklearn.tree.DecisionTreeClassifier.html\">?<span>Documentation for DecisionTreeClassifier</span></a></label><div class=\"sk-toggleable__content fitted\"><pre>DecisionTreeClassifier(max_depth=5)</pre></div> </div></div></div></div></div></div></div></div></div>"
      ],
      "text/plain": [
       "AdaBoostClassifier(estimator=DecisionTreeClassifier(max_depth=5),\n",
       "                   learning_rate=0.1, n_estimators=100)"
      ]
     },
     "execution_count": 64,
     "metadata": {},
     "output_type": "execute_result"
    }
   ],
   "source": [
    "adaboost_classifier.fit(train_x_embeddings, train_y_encoded)"
   ]
  },
  {
   "cell_type": "code",
   "execution_count": 65,
   "metadata": {
    "colab": {
     "base_uri": "https://localhost:8080/",
     "height": 761
    },
    "id": "Q39ajrDVU8MB",
    "outputId": "aa97d0f2-cc30-4d46-821d-bfa716c3c95b"
   },
   "outputs": [
    {
     "name": "stdout",
     "output_type": "stream",
     "text": [
      "              precision    recall  f1-score    support\n",
      "0              0.615385  0.800000  0.695652  20.000000\n",
      "1              0.000000  0.000000  0.000000   3.000000\n",
      "2              1.000000  0.125000  0.222222   8.000000\n",
      "accuracy       0.548387  0.548387  0.548387   0.548387\n",
      "macro avg      0.538462  0.308333  0.305958  31.000000\n",
      "weighted avg   0.655087  0.548387  0.506156  31.000000\n",
      "\n",
      "\n"
     ]
    },
    {
     "data": {
      "image/png": "[encoded data removed]",
      "text/plain": [
       "<Figure size 800x600 with 2 Axes>"
      ]
     },
     "metadata": {},
     "output_type": "display_data"
    },
    {
     "data": {
      "text/plain": [
       "array([[16,  4,  0],\n",
       "       [ 3,  0,  0],\n",
       "       [ 7,  0,  1]])"
      ]
     },
     "execution_count": 65,
     "metadata": {},
     "output_type": "execute_result"
    }
   ],
   "source": [
    "evaluate_model(adaboost_classifier, val_x_embeddings, val_y_encoded)"
   ]
  },
  {
   "cell_type": "code",
   "execution_count": 66,
   "metadata": {
    "colab": {
     "base_uri": "https://localhost:8080/"
    },
    "id": "Mah_4DDaD2bk",
    "outputId": "b0b12bb1-d69b-455f-b389-88e5e71a6e3a"
   },
   "outputs": [
    {
     "data": {
      "text/plain": [
       "array([0.51982379, 2.95      , 1.35632184])"
      ]
     },
     "execution_count": 66,
     "metadata": {},
     "output_type": "execute_result"
    }
   ],
   "source": [
    "from sklearn.utils import class_weight\n",
    "\n",
    "classes = np.unique(train_y_encoded)\n",
    "class_weights = class_weight.compute_class_weight('balanced', classes=classes, y=train_y_encoded)\n",
    "class_weights"
   ]
  },
  {
   "cell_type": "code",
   "execution_count": 67,
   "metadata": {
    "colab": {
     "base_uri": "https://localhost:8080/"
    },
    "id": "rgIAvxiAPQU4",
    "outputId": "142d6081-a8ad-496c-f8fc-a24f51cd71a8"
   },
   "outputs": [
    {
     "data": {
      "text/plain": [
       "{0: 0.5198237885462555, 1: 2.95, 2: 1.3563218390804597}"
      ]
     },
     "execution_count": 67,
     "metadata": {},
     "output_type": "execute_result"
    }
   ],
   "source": [
    "class_weights_dict = dict(zip(classes, class_weights))\n",
    "class_weights_dict"
   ]
  },
  {
   "cell_type": "code",
   "execution_count": 68,
   "metadata": {
    "id": "-SzRq4i9A9W6"
   },
   "outputs": [],
   "source": [
    "custom_class_weights = {\n",
    "    0: 0.5,  # Antagonist\n",
    "    1: 3.5,  # Innocent (increased from 2.95)\n",
    "    2: 1.5   # Protagonist (slightly increased)\n",
    "}"
   ]
  },
  {
   "cell_type": "code",
   "execution_count": 69,
   "metadata": {
    "id": "j98aI9_QAcg_"
   },
   "outputs": [],
   "source": [
    "sample_weights = np.array([custom_class_weights[label] for label in train_y_encoded])"
   ]
  },
  {
   "cell_type": "code",
   "execution_count": 70,
   "metadata": {
    "colab": {
     "base_uri": "https://localhost:8080/"
    },
    "id": "-Gflh7JvAzSo",
    "outputId": "5cb7ae23-5bff-4f65-e2e2-4e9a20af628d"
   },
   "outputs": [
    {
     "data": {
      "text/plain": [
       "array([0.5, 3.5, 0.5, 0.5, 1.5, 0.5, 0.5, 3.5, 0.5, 1.5, 0.5, 1.5, 0.5,\n",
       "       0.5, 1.5, 0.5, 1.5, 3.5, 3.5, 3.5, 0.5, 1.5, 1.5, 0.5, 0.5, 0.5,\n",
       "       1.5, 1.5, 0.5, 3.5, 0.5, 0.5, 0.5, 0.5, 1.5, 3.5, 0.5, 0.5, 1.5,\n",
       "       0.5, 0.5, 0.5, 0.5, 0.5, 0.5, 0.5, 1.5, 3.5, 1.5, 0.5, 0.5, 0.5,\n",
       "       0.5, 0.5, 1.5, 1.5, 1.5, 0.5, 0.5, 0.5, 0.5, 1.5, 0.5, 0.5, 0.5,\n",
       "       0.5, 0.5, 1.5, 1.5, 1.5, 0.5, 0.5, 3.5, 0.5, 0.5, 3.5, 0.5, 0.5,\n",
       "       1.5, 0.5, 0.5, 1.5, 0.5, 0.5, 1.5, 1.5, 0.5, 3.5, 1.5, 3.5, 1.5,\n",
       "       0.5, 0.5, 0.5, 0.5, 0.5, 0.5, 3.5, 1.5, 0.5, 3.5, 0.5, 0.5, 0.5,\n",
       "       0.5, 1.5, 0.5, 0.5, 0.5, 1.5, 0.5, 1.5, 0.5, 0.5, 1.5, 0.5, 1.5,\n",
       "       3.5, 0.5, 0.5, 1.5, 0.5, 0.5, 0.5, 0.5, 1.5, 1.5, 0.5, 1.5, 1.5,\n",
       "       0.5, 0.5, 3.5, 1.5, 0.5, 0.5, 0.5, 0.5, 0.5, 0.5, 0.5, 1.5, 0.5,\n",
       "       1.5, 0.5, 3.5, 1.5, 1.5, 0.5, 0.5, 0.5, 3.5, 0.5, 0.5, 1.5, 0.5,\n",
       "       0.5, 0.5, 1.5, 1.5, 0.5, 1.5, 0.5, 0.5, 0.5, 0.5, 0.5, 3.5, 0.5,\n",
       "       0.5, 0.5, 0.5, 0.5, 1.5, 0.5, 1.5, 0.5, 0.5, 1.5, 0.5, 1.5, 0.5,\n",
       "       0.5, 0.5, 0.5, 0.5, 3.5, 0.5, 0.5, 1.5, 0.5, 0.5, 0.5, 0.5, 0.5,\n",
       "       1.5, 0.5, 0.5, 1.5, 1.5, 1.5, 0.5, 3.5, 0.5, 1.5, 0.5, 0.5, 3.5,\n",
       "       0.5, 0.5, 0.5, 3.5, 0.5, 0.5, 1.5, 0.5, 0.5, 0.5, 1.5, 0.5, 0.5,\n",
       "       0.5, 3.5, 0.5, 1.5, 0.5, 0.5, 0.5, 0.5, 1.5, 0.5, 0.5, 0.5, 0.5,\n",
       "       1.5, 3.5, 0.5, 0.5, 0.5, 1.5, 1.5, 0.5, 3.5, 0.5, 1.5, 3.5, 0.5,\n",
       "       0.5, 3.5, 3.5, 0.5, 3.5, 0.5, 0.5, 0.5, 1.5, 3.5, 0.5, 0.5, 0.5,\n",
       "       0.5, 1.5, 0.5, 0.5, 0.5, 0.5, 0.5, 0.5, 0.5, 1.5, 0.5, 0.5, 1.5,\n",
       "       0.5, 1.5, 0.5, 1.5, 0.5, 0.5, 0.5, 3.5, 0.5, 3.5, 0.5, 0.5, 1.5,\n",
       "       1.5, 1.5, 0.5, 0.5, 0.5, 0.5, 0.5, 0.5, 0.5, 3.5, 3.5, 0.5, 0.5,\n",
       "       0.5, 0.5, 0.5, 0.5, 1.5, 0.5, 0.5, 0.5, 1.5, 1.5, 0.5, 0.5, 0.5,\n",
       "       1.5, 1.5, 1.5, 1.5, 1.5, 0.5, 3.5, 0.5, 3.5, 0.5, 0.5, 1.5, 0.5,\n",
       "       0.5, 0.5, 0.5, 0.5, 3.5, 1.5, 0.5, 0.5, 0.5, 3.5, 0.5, 0.5, 1.5,\n",
       "       0.5, 1.5, 0.5, 1.5, 3.5, 0.5, 0.5, 0.5, 0.5, 0.5, 0.5, 0.5, 1.5,\n",
       "       0.5, 0.5, 0.5])"
      ]
     },
     "execution_count": 70,
     "metadata": {},
     "output_type": "execute_result"
    }
   ],
   "source": [
    "sample_weights"
   ]
  },
  {
   "cell_type": "code",
   "execution_count": 71,
   "metadata": {
    "colab": {
     "base_uri": "https://localhost:8080/"
    },
    "id": "yDfLneAD0KIp",
    "outputId": "797b8b33-c824-459e-8597-c3566eaa4718"
   },
   "outputs": [
    {
     "name": "stdout",
     "output_type": "stream",
     "text": [
      "Cross-validation scores: [0.38708688 0.45833333 0.41882603]\n",
      "Mean CV F1 Score: 0.42141541541990724\n"
     ]
    }
   ],
   "source": [
    "import xgboost as xgb\n",
    "\n",
    "xgb_weighted = xgb.XGBClassifier(learning_rate=0.1, max_depth=5, n_estimators=150)\n",
    "get_cross_val_score(xgb_weighted, train_x_embeddings, train_y_encoded)"
   ]
  },
  {
   "cell_type": "code",
   "execution_count": 72,
   "metadata": {
    "colab": {
     "base_uri": "https://localhost:8080/",
     "height": 761
    },
    "id": "Io7NNfRc0YAJ",
    "outputId": "a316b22e-d144-443d-831a-a5df92287877"
   },
   "outputs": [
    {
     "name": "stdout",
     "output_type": "stream",
     "text": [
      "              precision    recall  f1-score    support\n",
      "0              0.714286  0.750000  0.731707  20.000000\n",
      "1              0.142857  0.333333  0.200000   3.000000\n",
      "2              1.000000  0.375000  0.545455   8.000000\n",
      "accuracy       0.612903  0.612903  0.612903   0.612903\n",
      "macro avg      0.619048  0.486111  0.492387  31.000000\n",
      "weighted avg   0.732719  0.612903  0.632187  31.000000\n",
      "\n",
      "\n"
     ]
    },
    {
     "data": {
      "image/png": "[encoded data removed]",
      "text/plain": [
       "<Figure size 800x600 with 2 Axes>"
      ]
     },
     "metadata": {},
     "output_type": "display_data"
    },
    {
     "data": {
      "text/plain": [
       "array([[15,  5,  0],\n",
       "       [ 2,  1,  0],\n",
       "       [ 4,  1,  3]])"
      ]
     },
     "execution_count": 72,
     "metadata": {},
     "output_type": "execute_result"
    }
   ],
   "source": [
    "xgb_weighted.fit(train_x_embeddings, train_y_encoded, sample_weight=sample_weights)\n",
    "evaluate_model(xgb_weighted, val_x_embeddings, val_y_encoded)"
   ]
  },
  {
   "cell_type": "code",
   "execution_count": 73,
   "metadata": {
    "colab": {
     "base_uri": "https://localhost:8080/"
    },
    "id": "0r72woZkVTOm",
    "outputId": "3391691b-0f39-425f-80ac-98b7a4a7987b"
   },
   "outputs": [
    {
     "name": "stderr",
     "output_type": "stream",
     "text": [
      "/Library/Frameworks/Python.framework/Versions/3.12/lib/python3.12/site-packages/sklearn/ensemble/_weight_boosting.py:527: FutureWarning: The SAMME.R algorithm (the default) is deprecated and will be removed in 1.6. Use the SAMME algorithm to circumvent this warning.\n",
      "  warnings.warn(\n",
      "/Library/Frameworks/Python.framework/Versions/3.12/lib/python3.12/site-packages/sklearn/ensemble/_weight_boosting.py:527: FutureWarning: The SAMME.R algorithm (the default) is deprecated and will be removed in 1.6. Use the SAMME algorithm to circumvent this warning.\n",
      "  warnings.warn(\n",
      "/Library/Frameworks/Python.framework/Versions/3.12/lib/python3.12/site-packages/sklearn/ensemble/_weight_boosting.py:527: FutureWarning: The SAMME.R algorithm (the default) is deprecated and will be removed in 1.6. Use the SAMME algorithm to circumvent this warning.\n",
      "  warnings.warn(\n"
     ]
    },
    {
     "name": "stdout",
     "output_type": "stream",
     "text": [
      "Cross-validation scores: [0.41700185 0.37002096 0.35789839]\n",
      "Mean CV F1 Score: 0.38164040381372\n"
     ]
    }
   ],
   "source": [
    "from sklearn.ensemble import AdaBoostClassifier\n",
    "from sklearn.tree import DecisionTreeClassifier\n",
    "\n",
    "decision_tree_weighted = DecisionTreeClassifier(max_depth=5, class_weight=custom_class_weights)\n",
    "adaboost_weighted = AdaBoostClassifier(estimator=decision_tree_weighted, n_estimators=150, learning_rate=.1)\n",
    "get_cross_val_score(adaboost_weighted, train_x_embeddings, train_y_encoded)"
   ]
  },
  {
   "cell_type": "code",
   "execution_count": 74,
   "metadata": {
    "colab": {
     "base_uri": "https://localhost:8080/",
     "height": 187
    },
    "id": "QbqpFk_FczX4",
    "outputId": "db61e0be-09a5-48aa-839e-d845cc12c4fd"
   },
   "outputs": [
    {
     "name": "stderr",
     "output_type": "stream",
     "text": [
      "/Library/Frameworks/Python.framework/Versions/3.12/lib/python3.12/site-packages/sklearn/ensemble/_weight_boosting.py:527: FutureWarning: The SAMME.R algorithm (the default) is deprecated and will be removed in 1.6. Use the SAMME algorithm to circumvent this warning.\n",
      "  warnings.warn(\n"
     ]
    },
    {
     "data": {
      "text/html": [
       "<style>#sk-container-id-2 {\n",
       "  /* Definition of color scheme common for light and dark mode */\n",
       "  --sklearn-color-text: black;\n",
       "  --sklearn-color-line: gray;\n",
       "  /* Definition of color scheme for unfitted estimators */\n",
       "  --sklearn-color-unfitted-level-0: #fff5e6;\n",
       "  --sklearn-color-unfitted-level-1: #f6e4d2;\n",
       "  --sklearn-color-unfitted-level-2: #ffe0b3;\n",
       "  --sklearn-color-unfitted-level-3: chocolate;\n",
       "  /* Definition of color scheme for fitted estimators */\n",
       "  --sklearn-color-fitted-level-0: #f0f8ff;\n",
       "  --sklearn-color-fitted-level-1: #d4ebff;\n",
       "  --sklearn-color-fitted-level-2: #b3dbfd;\n",
       "  --sklearn-color-fitted-level-3: cornflowerblue;\n",
       "\n",
       "  /* Specific color for light theme */\n",
       "  --sklearn-color-text-on-default-background: var(--sg-text-color, var(--theme-code-foreground, var(--jp-content-font-color1, black)));\n",
       "  --sklearn-color-background: var(--sg-background-color, var(--theme-background, var(--jp-layout-color0, white)));\n",
       "  --sklearn-color-border-box: var(--sg-text-color, var(--theme-code-foreground, var(--jp-content-font-color1, black)));\n",
       "  --sklearn-color-icon: #696969;\n",
       "\n",
       "  @media (prefers-color-scheme: dark) {\n",
       "    /* Redefinition of color scheme for dark theme */\n",
       "    --sklearn-color-text-on-default-background: var(--sg-text-color, var(--theme-code-foreground, var(--jp-content-font-color1, white)));\n",
       "    --sklearn-color-background: var(--sg-background-color, var(--theme-background, var(--jp-layout-color0, #111)));\n",
       "    --sklearn-color-border-box: var(--sg-text-color, var(--theme-code-foreground, var(--jp-content-font-color1, white)));\n",
       "    --sklearn-color-icon: #878787;\n",
       "  }\n",
       "}\n",
       "\n",
       "#sk-container-id-2 {\n",
       "  color: var(--sklearn-color-text);\n",
       "}\n",
       "\n",
       "#sk-container-id-2 pre {\n",
       "  padding: 0;\n",
       "}\n",
       "\n",
       "#sk-container-id-2 input.sk-hidden--visually {\n",
       "  border: 0;\n",
       "  clip: rect(1px 1px 1px 1px);\n",
       "  clip: rect(1px, 1px, 1px, 1px);\n",
       "  height: 1px;\n",
       "  margin: -1px;\n",
       "  overflow: hidden;\n",
       "  padding: 0;\n",
       "  position: absolute;\n",
       "  width: 1px;\n",
       "}\n",
       "\n",
       "#sk-container-id-2 div.sk-dashed-wrapped {\n",
       "  border: 1px dashed var(--sklearn-color-line);\n",
       "  margin: 0 0.4em 0.5em 0.4em;\n",
       "  box-sizing: border-box;\n",
       "  padding-bottom: 0.4em;\n",
       "  background-color: var(--sklearn-color-background);\n",
       "}\n",
       "\n",
       "#sk-container-id-2 div.sk-container {\n",
       "  /* jupyter's `normalize.less` sets `[hidden] { display: none; }`\n",
       "     but bootstrap.min.css set `[hidden] { display: none !important; }`\n",
       "     so we also need the `!important` here to be able to override the\n",
       "     default hidden behavior on the sphinx rendered scikit-learn.org.\n",
       "     See: https://github.com/scikit-learn/scikit-learn/issues/21755 */\n",
       "  display: inline-block !important;\n",
       "  position: relative;\n",
       "}\n",
       "\n",
       "#sk-container-id-2 div.sk-text-repr-fallback {\n",
       "  display: none;\n",
       "}\n",
       "\n",
       "div.sk-parallel-item,\n",
       "div.sk-serial,\n",
       "div.sk-item {\n",
       "  /* draw centered vertical line to link estimators */\n",
       "  background-image: linear-gradient(var(--sklearn-color-text-on-default-background), var(--sklearn-color-text-on-default-background));\n",
       "  background-size: 2px 100%;\n",
       "  background-repeat: no-repeat;\n",
       "  background-position: center center;\n",
       "}\n",
       "\n",
       "/* Parallel-specific style estimator block */\n",
       "\n",
       "#sk-container-id-2 div.sk-parallel-item::after {\n",
       "  content: \"\";\n",
       "  width: 100%;\n",
       "  border-bottom: 2px solid var(--sklearn-color-text-on-default-background);\n",
       "  flex-grow: 1;\n",
       "}\n",
       "\n",
       "#sk-container-id-2 div.sk-parallel {\n",
       "  display: flex;\n",
       "  align-items: stretch;\n",
       "  justify-content: center;\n",
       "  background-color: var(--sklearn-color-background);\n",
       "  position: relative;\n",
       "}\n",
       "\n",
       "#sk-container-id-2 div.sk-parallel-item {\n",
       "  display: flex;\n",
       "  flex-direction: column;\n",
       "}\n",
       "\n",
       "#sk-container-id-2 div.sk-parallel-item:first-child::after {\n",
       "  align-self: flex-end;\n",
       "  width: 50%;\n",
       "}\n",
       "\n",
       "#sk-container-id-2 div.sk-parallel-item:last-child::after {\n",
       "  align-self: flex-start;\n",
       "  width: 50%;\n",
       "}\n",
       "\n",
       "#sk-container-id-2 div.sk-parallel-item:only-child::after {\n",
       "  width: 0;\n",
       "}\n",
       "\n",
       "/* Serial-specific style estimator block */\n",
       "\n",
       "#sk-container-id-2 div.sk-serial {\n",
       "  display: flex;\n",
       "  flex-direction: column;\n",
       "  align-items: center;\n",
       "  background-color: var(--sklearn-color-background);\n",
       "  padding-right: 1em;\n",
       "  padding-left: 1em;\n",
       "}\n",
       "\n",
       "\n",
       "/* Toggleable style: style used for estimator/Pipeline/ColumnTransformer box that is\n",
       "clickable and can be expanded/collapsed.\n",
       "- Pipeline and ColumnTransformer use this feature and define the default style\n",
       "- Estimators will overwrite some part of the style using the `sk-estimator` class\n",
       "*/\n",
       "\n",
       "/* Pipeline and ColumnTransformer style (default) */\n",
       "\n",
       "#sk-container-id-2 div.sk-toggleable {\n",
       "  /* Default theme specific background. It is overwritten whether we have a\n",
       "  specific estimator or a Pipeline/ColumnTransformer */\n",
       "  background-color: var(--sklearn-color-background);\n",
       "}\n",
       "\n",
       "/* Toggleable label */\n",
       "#sk-container-id-2 label.sk-toggleable__label {\n",
       "  cursor: pointer;\n",
       "  display: block;\n",
       "  width: 100%;\n",
       "  margin-bottom: 0;\n",
       "  padding: 0.5em;\n",
       "  box-sizing: border-box;\n",
       "  text-align: center;\n",
       "}\n",
       "\n",
       "#sk-container-id-2 label.sk-toggleable__label-arrow:before {\n",
       "  /* Arrow on the left of the label */\n",
       "  content: \"▸\";\n",
       "  float: left;\n",
       "  margin-right: 0.25em;\n",
       "  color: var(--sklearn-color-icon);\n",
       "}\n",
       "\n",
       "#sk-container-id-2 label.sk-toggleable__label-arrow:hover:before {\n",
       "  color: var(--sklearn-color-text);\n",
       "}\n",
       "\n",
       "/* Toggleable content - dropdown */\n",
       "\n",
       "#sk-container-id-2 div.sk-toggleable__content {\n",
       "  max-height: 0;\n",
       "  max-width: 0;\n",
       "  overflow: hidden;\n",
       "  text-align: left;\n",
       "  /* unfitted */\n",
       "  background-color: var(--sklearn-color-unfitted-level-0);\n",
       "}\n",
       "\n",
       "#sk-container-id-2 div.sk-toggleable__content.fitted {\n",
       "  /* fitted */\n",
       "  background-color: var(--sklearn-color-fitted-level-0);\n",
       "}\n",
       "\n",
       "#sk-container-id-2 div.sk-toggleable__content pre {\n",
       "  margin: 0.2em;\n",
       "  border-radius: 0.25em;\n",
       "  color: var(--sklearn-color-text);\n",
       "  /* unfitted */\n",
       "  background-color: var(--sklearn-color-unfitted-level-0);\n",
       "}\n",
       "\n",
       "#sk-container-id-2 div.sk-toggleable__content.fitted pre {\n",
       "  /* unfitted */\n",
       "  background-color: var(--sklearn-color-fitted-level-0);\n",
       "}\n",
       "\n",
       "#sk-container-id-2 input.sk-toggleable__control:checked~div.sk-toggleable__content {\n",
       "  /* Expand drop-down */\n",
       "  max-height: 200px;\n",
       "  max-width: 100%;\n",
       "  overflow: auto;\n",
       "}\n",
       "\n",
       "#sk-container-id-2 input.sk-toggleable__control:checked~label.sk-toggleable__label-arrow:before {\n",
       "  content: \"▾\";\n",
       "}\n",
       "\n",
       "/* Pipeline/ColumnTransformer-specific style */\n",
       "\n",
       "#sk-container-id-2 div.sk-label input.sk-toggleable__control:checked~label.sk-toggleable__label {\n",
       "  color: var(--sklearn-color-text);\n",
       "  background-color: var(--sklearn-color-unfitted-level-2);\n",
       "}\n",
       "\n",
       "#sk-container-id-2 div.sk-label.fitted input.sk-toggleable__control:checked~label.sk-toggleable__label {\n",
       "  background-color: var(--sklearn-color-fitted-level-2);\n",
       "}\n",
       "\n",
       "/* Estimator-specific style */\n",
       "\n",
       "/* Colorize estimator box */\n",
       "#sk-container-id-2 div.sk-estimator input.sk-toggleable__control:checked~label.sk-toggleable__label {\n",
       "  /* unfitted */\n",
       "  background-color: var(--sklearn-color-unfitted-level-2);\n",
       "}\n",
       "\n",
       "#sk-container-id-2 div.sk-estimator.fitted input.sk-toggleable__control:checked~label.sk-toggleable__label {\n",
       "  /* fitted */\n",
       "  background-color: var(--sklearn-color-fitted-level-2);\n",
       "}\n",
       "\n",
       "#sk-container-id-2 div.sk-label label.sk-toggleable__label,\n",
       "#sk-container-id-2 div.sk-label label {\n",
       "  /* The background is the default theme color */\n",
       "  color: var(--sklearn-color-text-on-default-background);\n",
       "}\n",
       "\n",
       "/* On hover, darken the color of the background */\n",
       "#sk-container-id-2 div.sk-label:hover label.sk-toggleable__label {\n",
       "  color: var(--sklearn-color-text);\n",
       "  background-color: var(--sklearn-color-unfitted-level-2);\n",
       "}\n",
       "\n",
       "/* Label box, darken color on hover, fitted */\n",
       "#sk-container-id-2 div.sk-label.fitted:hover label.sk-toggleable__label.fitted {\n",
       "  color: var(--sklearn-color-text);\n",
       "  background-color: var(--sklearn-color-fitted-level-2);\n",
       "}\n",
       "\n",
       "/* Estimator label */\n",
       "\n",
       "#sk-container-id-2 div.sk-label label {\n",
       "  font-family: monospace;\n",
       "  font-weight: bold;\n",
       "  display: inline-block;\n",
       "  line-height: 1.2em;\n",
       "}\n",
       "\n",
       "#sk-container-id-2 div.sk-label-container {\n",
       "  text-align: center;\n",
       "}\n",
       "\n",
       "/* Estimator-specific */\n",
       "#sk-container-id-2 div.sk-estimator {\n",
       "  font-family: monospace;\n",
       "  border: 1px dotted var(--sklearn-color-border-box);\n",
       "  border-radius: 0.25em;\n",
       "  box-sizing: border-box;\n",
       "  margin-bottom: 0.5em;\n",
       "  /* unfitted */\n",
       "  background-color: var(--sklearn-color-unfitted-level-0);\n",
       "}\n",
       "\n",
       "#sk-container-id-2 div.sk-estimator.fitted {\n",
       "  /* fitted */\n",
       "  background-color: var(--sklearn-color-fitted-level-0);\n",
       "}\n",
       "\n",
       "/* on hover */\n",
       "#sk-container-id-2 div.sk-estimator:hover {\n",
       "  /* unfitted */\n",
       "  background-color: var(--sklearn-color-unfitted-level-2);\n",
       "}\n",
       "\n",
       "#sk-container-id-2 div.sk-estimator.fitted:hover {\n",
       "  /* fitted */\n",
       "  background-color: var(--sklearn-color-fitted-level-2);\n",
       "}\n",
       "\n",
       "/* Specification for estimator info (e.g. \"i\" and \"?\") */\n",
       "\n",
       "/* Common style for \"i\" and \"?\" */\n",
       "\n",
       ".sk-estimator-doc-link,\n",
       "a:link.sk-estimator-doc-link,\n",
       "a:visited.sk-estimator-doc-link {\n",
       "  float: right;\n",
       "  font-size: smaller;\n",
       "  line-height: 1em;\n",
       "  font-family: monospace;\n",
       "  background-color: var(--sklearn-color-background);\n",
       "  border-radius: 1em;\n",
       "  height: 1em;\n",
       "  width: 1em;\n",
       "  text-decoration: none !important;\n",
       "  margin-left: 1ex;\n",
       "  /* unfitted */\n",
       "  border: var(--sklearn-color-unfitted-level-1) 1pt solid;\n",
       "  color: var(--sklearn-color-unfitted-level-1);\n",
       "}\n",
       "\n",
       ".sk-estimator-doc-link.fitted,\n",
       "a:link.sk-estimator-doc-link.fitted,\n",
       "a:visited.sk-estimator-doc-link.fitted {\n",
       "  /* fitted */\n",
       "  border: var(--sklearn-color-fitted-level-1) 1pt solid;\n",
       "  color: var(--sklearn-color-fitted-level-1);\n",
       "}\n",
       "\n",
       "/* On hover */\n",
       "div.sk-estimator:hover .sk-estimator-doc-link:hover,\n",
       ".sk-estimator-doc-link:hover,\n",
       "div.sk-label-container:hover .sk-estimator-doc-link:hover,\n",
       ".sk-estimator-doc-link:hover {\n",
       "  /* unfitted */\n",
       "  background-color: var(--sklearn-color-unfitted-level-3);\n",
       "  color: var(--sklearn-color-background);\n",
       "  text-decoration: none;\n",
       "}\n",
       "\n",
       "div.sk-estimator.fitted:hover .sk-estimator-doc-link.fitted:hover,\n",
       ".sk-estimator-doc-link.fitted:hover,\n",
       "div.sk-label-container:hover .sk-estimator-doc-link.fitted:hover,\n",
       ".sk-estimator-doc-link.fitted:hover {\n",
       "  /* fitted */\n",
       "  background-color: var(--sklearn-color-fitted-level-3);\n",
       "  color: var(--sklearn-color-background);\n",
       "  text-decoration: none;\n",
       "}\n",
       "\n",
       "/* Span, style for the box shown on hovering the info icon */\n",
       ".sk-estimator-doc-link span {\n",
       "  display: none;\n",
       "  z-index: 9999;\n",
       "  position: relative;\n",
       "  font-weight: normal;\n",
       "  right: .2ex;\n",
       "  padding: .5ex;\n",
       "  margin: .5ex;\n",
       "  width: min-content;\n",
       "  min-width: 20ex;\n",
       "  max-width: 50ex;\n",
       "  color: var(--sklearn-color-text);\n",
       "  box-shadow: 2pt 2pt 4pt #999;\n",
       "  /* unfitted */\n",
       "  background: var(--sklearn-color-unfitted-level-0);\n",
       "  border: .5pt solid var(--sklearn-color-unfitted-level-3);\n",
       "}\n",
       "\n",
       ".sk-estimator-doc-link.fitted span {\n",
       "  /* fitted */\n",
       "  background: var(--sklearn-color-fitted-level-0);\n",
       "  border: var(--sklearn-color-fitted-level-3);\n",
       "}\n",
       "\n",
       ".sk-estimator-doc-link:hover span {\n",
       "  display: block;\n",
       "}\n",
       "\n",
       "/* \"?\"-specific style due to the `<a>` HTML tag */\n",
       "\n",
       "#sk-container-id-2 a.estimator_doc_link {\n",
       "  float: right;\n",
       "  font-size: 1rem;\n",
       "  line-height: 1em;\n",
       "  font-family: monospace;\n",
       "  background-color: var(--sklearn-color-background);\n",
       "  border-radius: 1rem;\n",
       "  height: 1rem;\n",
       "  width: 1rem;\n",
       "  text-decoration: none;\n",
       "  /* unfitted */\n",
       "  color: var(--sklearn-color-unfitted-level-1);\n",
       "  border: var(--sklearn-color-unfitted-level-1) 1pt solid;\n",
       "}\n",
       "\n",
       "#sk-container-id-2 a.estimator_doc_link.fitted {\n",
       "  /* fitted */\n",
       "  border: var(--sklearn-color-fitted-level-1) 1pt solid;\n",
       "  color: var(--sklearn-color-fitted-level-1);\n",
       "}\n",
       "\n",
       "/* On hover */\n",
       "#sk-container-id-2 a.estimator_doc_link:hover {\n",
       "  /* unfitted */\n",
       "  background-color: var(--sklearn-color-unfitted-level-3);\n",
       "  color: var(--sklearn-color-background);\n",
       "  text-decoration: none;\n",
       "}\n",
       "\n",
       "#sk-container-id-2 a.estimator_doc_link.fitted:hover {\n",
       "  /* fitted */\n",
       "  background-color: var(--sklearn-color-fitted-level-3);\n",
       "}\n",
       "</style><div id=\"sk-container-id-2\" class=\"sk-top-container\"><div class=\"sk-text-repr-fallback\"><pre>AdaBoostClassifier(estimator=DecisionTreeClassifier(class_weight={0: 0.5,\n",
       "                                                                  1: 3.5,\n",
       "                                                                  2: 1.5},\n",
       "                                                    max_depth=5),\n",
       "                   learning_rate=0.1, n_estimators=150)</pre><b>In a Jupyter environment, please rerun this cell to show the HTML representation or trust the notebook. <br />On GitHub, the HTML representation is unable to render, please try loading this page with nbviewer.org.</b></div><div class=\"sk-container\" hidden><div class=\"sk-item sk-dashed-wrapped\"><div class=\"sk-label-container\"><div class=\"sk-label fitted sk-toggleable\"><input class=\"sk-toggleable__control sk-hidden--visually\" id=\"sk-estimator-id-4\" type=\"checkbox\" ><label for=\"sk-estimator-id-4\" class=\"sk-toggleable__label fitted sk-toggleable__label-arrow fitted\">&nbsp;&nbsp;AdaBoostClassifier<a class=\"sk-estimator-doc-link fitted\" rel=\"noreferrer\" target=\"_blank\" href=\"https://scikit-learn.org/1.5/modules/generated/sklearn.ensemble.AdaBoostClassifier.html\">?<span>Documentation for AdaBoostClassifier</span></a><span class=\"sk-estimator-doc-link fitted\">i<span>Fitted</span></span></label><div class=\"sk-toggleable__content fitted\"><pre>AdaBoostClassifier(estimator=DecisionTreeClassifier(class_weight={0: 0.5,\n",
       "                                                                  1: 3.5,\n",
       "                                                                  2: 1.5},\n",
       "                                                    max_depth=5),\n",
       "                   learning_rate=0.1, n_estimators=150)</pre></div> </div></div><div class=\"sk-parallel\"><div class=\"sk-parallel-item\"><div class=\"sk-item\"><div class=\"sk-label-container\"><div class=\"sk-label fitted sk-toggleable\"><input class=\"sk-toggleable__control sk-hidden--visually\" id=\"sk-estimator-id-5\" type=\"checkbox\" ><label for=\"sk-estimator-id-5\" class=\"sk-toggleable__label fitted sk-toggleable__label-arrow fitted\">estimator: DecisionTreeClassifier</label><div class=\"sk-toggleable__content fitted\"><pre>DecisionTreeClassifier(class_weight={0: 0.5, 1: 3.5, 2: 1.5}, max_depth=5)</pre></div> </div></div><div class=\"sk-serial\"><div class=\"sk-item\"><div class=\"sk-estimator fitted sk-toggleable\"><input class=\"sk-toggleable__control sk-hidden--visually\" id=\"sk-estimator-id-6\" type=\"checkbox\" ><label for=\"sk-estimator-id-6\" class=\"sk-toggleable__label fitted sk-toggleable__label-arrow fitted\">&nbsp;DecisionTreeClassifier<a class=\"sk-estimator-doc-link fitted\" rel=\"noreferrer\" target=\"_blank\" href=\"https://scikit-learn.org/1.5/modules/generated/sklearn.tree.DecisionTreeClassifier.html\">?<span>Documentation for DecisionTreeClassifier</span></a></label><div class=\"sk-toggleable__content fitted\"><pre>DecisionTreeClassifier(class_weight={0: 0.5, 1: 3.5, 2: 1.5}, max_depth=5)</pre></div> </div></div></div></div></div></div></div></div></div>"
      ],
      "text/plain": [
       "AdaBoostClassifier(estimator=DecisionTreeClassifier(class_weight={0: 0.5,\n",
       "                                                                  1: 3.5,\n",
       "                                                                  2: 1.5},\n",
       "                                                    max_depth=5),\n",
       "                   learning_rate=0.1, n_estimators=150)"
      ]
     },
     "execution_count": 74,
     "metadata": {},
     "output_type": "execute_result"
    }
   ],
   "source": [
    "adaboost_weighted.fit(train_x_embeddings, train_y_encoded, sample_weight=sample_weights)"
   ]
  },
  {
   "cell_type": "code",
   "execution_count": 75,
   "metadata": {
    "colab": {
     "base_uri": "https://localhost:8080/"
    },
    "id": "GIAbCgYhaR5b",
    "outputId": "ab172a09-af6a-420e-b7e0-a17826e771c9"
   },
   "outputs": [
    {
     "name": "stdout",
     "output_type": "stream",
     "text": [
      "              precision    recall  f1-score    support\n",
      "0              0.782609  0.900000  0.837209  20.000000\n",
      "1              0.333333  0.666667  0.444444   3.000000\n",
      "2              1.000000  0.250000  0.400000   8.000000\n",
      "accuracy       0.709677  0.709677  0.709677   0.709677\n",
      "macro avg      0.705314  0.605556  0.560551  31.000000\n",
      "weighted avg   0.795231  0.709677  0.686372  31.000000\n",
      "\n",
      "\n"
     ]
    },
    {
     "data": {
      "image/png": "[encoded data removed]",
      "text/plain": [
       "<Figure size 800x600 with 2 Axes>"
      ]
     },
     "metadata": {},
     "output_type": "display_data"
    },
    {
     "data": {
      "text/plain": [
       "array([[18,  2,  0],\n",
       "       [ 1,  2,  0],\n",
       "       [ 4,  2,  2]])"
      ]
     },
     "execution_count": 75,
     "metadata": {},
     "output_type": "execute_result"
    }
   ],
   "source": [
    "evaluate_model(adaboost_weighted, val_x_embeddings, val_y_encoded)"
   ]
  },
  {
   "cell_type": "code",
   "execution_count": 76,
   "metadata": {
    "colab": {
     "base_uri": "https://localhost:8080/"
    },
    "id": "5KJ-qRvJDmjV",
    "outputId": "0494878d-f574-4651-a674-6807be2acbbc"
   },
   "outputs": [
    {
     "data": {
      "text/html": [
       "<style>#sk-container-id-3 {\n",
       "  /* Definition of color scheme common for light and dark mode */\n",
       "  --sklearn-color-text: black;\n",
       "  --sklearn-color-line: gray;\n",
       "  /* Definition of color scheme for unfitted estimators */\n",
       "  --sklearn-color-unfitted-level-0: #fff5e6;\n",
       "  --sklearn-color-unfitted-level-1: #f6e4d2;\n",
       "  --sklearn-color-unfitted-level-2: #ffe0b3;\n",
       "  --sklearn-color-unfitted-level-3: chocolate;\n",
       "  /* Definition of color scheme for fitted estimators */\n",
       "  --sklearn-color-fitted-level-0: #f0f8ff;\n",
       "  --sklearn-color-fitted-level-1: #d4ebff;\n",
       "  --sklearn-color-fitted-level-2: #b3dbfd;\n",
       "  --sklearn-color-fitted-level-3: cornflowerblue;\n",
       "\n",
       "  /* Specific color for light theme */\n",
       "  --sklearn-color-text-on-default-background: var(--sg-text-color, var(--theme-code-foreground, var(--jp-content-font-color1, black)));\n",
       "  --sklearn-color-background: var(--sg-background-color, var(--theme-background, var(--jp-layout-color0, white)));\n",
       "  --sklearn-color-border-box: var(--sg-text-color, var(--theme-code-foreground, var(--jp-content-font-color1, black)));\n",
       "  --sklearn-color-icon: #696969;\n",
       "\n",
       "  @media (prefers-color-scheme: dark) {\n",
       "    /* Redefinition of color scheme for dark theme */\n",
       "    --sklearn-color-text-on-default-background: var(--sg-text-color, var(--theme-code-foreground, var(--jp-content-font-color1, white)));\n",
       "    --sklearn-color-background: var(--sg-background-color, var(--theme-background, var(--jp-layout-color0, #111)));\n",
       "    --sklearn-color-border-box: var(--sg-text-color, var(--theme-code-foreground, var(--jp-content-font-color1, white)));\n",
       "    --sklearn-color-icon: #878787;\n",
       "  }\n",
       "}\n",
       "\n",
       "#sk-container-id-3 {\n",
       "  color: var(--sklearn-color-text);\n",
       "}\n",
       "\n",
       "#sk-container-id-3 pre {\n",
       "  padding: 0;\n",
       "}\n",
       "\n",
       "#sk-container-id-3 input.sk-hidden--visually {\n",
       "  border: 0;\n",
       "  clip: rect(1px 1px 1px 1px);\n",
       "  clip: rect(1px, 1px, 1px, 1px);\n",
       "  height: 1px;\n",
       "  margin: -1px;\n",
       "  overflow: hidden;\n",
       "  padding: 0;\n",
       "  position: absolute;\n",
       "  width: 1px;\n",
       "}\n",
       "\n",
       "#sk-container-id-3 div.sk-dashed-wrapped {\n",
       "  border: 1px dashed var(--sklearn-color-line);\n",
       "  margin: 0 0.4em 0.5em 0.4em;\n",
       "  box-sizing: border-box;\n",
       "  padding-bottom: 0.4em;\n",
       "  background-color: var(--sklearn-color-background);\n",
       "}\n",
       "\n",
       "#sk-container-id-3 div.sk-container {\n",
       "  /* jupyter's `normalize.less` sets `[hidden] { display: none; }`\n",
       "     but bootstrap.min.css set `[hidden] { display: none !important; }`\n",
       "     so we also need the `!important` here to be able to override the\n",
       "     default hidden behavior on the sphinx rendered scikit-learn.org.\n",
       "     See: https://github.com/scikit-learn/scikit-learn/issues/21755 */\n",
       "  display: inline-block !important;\n",
       "  position: relative;\n",
       "}\n",
       "\n",
       "#sk-container-id-3 div.sk-text-repr-fallback {\n",
       "  display: none;\n",
       "}\n",
       "\n",
       "div.sk-parallel-item,\n",
       "div.sk-serial,\n",
       "div.sk-item {\n",
       "  /* draw centered vertical line to link estimators */\n",
       "  background-image: linear-gradient(var(--sklearn-color-text-on-default-background), var(--sklearn-color-text-on-default-background));\n",
       "  background-size: 2px 100%;\n",
       "  background-repeat: no-repeat;\n",
       "  background-position: center center;\n",
       "}\n",
       "\n",
       "/* Parallel-specific style estimator block */\n",
       "\n",
       "#sk-container-id-3 div.sk-parallel-item::after {\n",
       "  content: \"\";\n",
       "  width: 100%;\n",
       "  border-bottom: 2px solid var(--sklearn-color-text-on-default-background);\n",
       "  flex-grow: 1;\n",
       "}\n",
       "\n",
       "#sk-container-id-3 div.sk-parallel {\n",
       "  display: flex;\n",
       "  align-items: stretch;\n",
       "  justify-content: center;\n",
       "  background-color: var(--sklearn-color-background);\n",
       "  position: relative;\n",
       "}\n",
       "\n",
       "#sk-container-id-3 div.sk-parallel-item {\n",
       "  display: flex;\n",
       "  flex-direction: column;\n",
       "}\n",
       "\n",
       "#sk-container-id-3 div.sk-parallel-item:first-child::after {\n",
       "  align-self: flex-end;\n",
       "  width: 50%;\n",
       "}\n",
       "\n",
       "#sk-container-id-3 div.sk-parallel-item:last-child::after {\n",
       "  align-self: flex-start;\n",
       "  width: 50%;\n",
       "}\n",
       "\n",
       "#sk-container-id-3 div.sk-parallel-item:only-child::after {\n",
       "  width: 0;\n",
       "}\n",
       "\n",
       "/* Serial-specific style estimator block */\n",
       "\n",
       "#sk-container-id-3 div.sk-serial {\n",
       "  display: flex;\n",
       "  flex-direction: column;\n",
       "  align-items: center;\n",
       "  background-color: var(--sklearn-color-background);\n",
       "  padding-right: 1em;\n",
       "  padding-left: 1em;\n",
       "}\n",
       "\n",
       "\n",
       "/* Toggleable style: style used for estimator/Pipeline/ColumnTransformer box that is\n",
       "clickable and can be expanded/collapsed.\n",
       "- Pipeline and ColumnTransformer use this feature and define the default style\n",
       "- Estimators will overwrite some part of the style using the `sk-estimator` class\n",
       "*/\n",
       "\n",
       "/* Pipeline and ColumnTransformer style (default) */\n",
       "\n",
       "#sk-container-id-3 div.sk-toggleable {\n",
       "  /* Default theme specific background. It is overwritten whether we have a\n",
       "  specific estimator or a Pipeline/ColumnTransformer */\n",
       "  background-color: var(--sklearn-color-background);\n",
       "}\n",
       "\n",
       "/* Toggleable label */\n",
       "#sk-container-id-3 label.sk-toggleable__label {\n",
       "  cursor: pointer;\n",
       "  display: block;\n",
       "  width: 100%;\n",
       "  margin-bottom: 0;\n",
       "  padding: 0.5em;\n",
       "  box-sizing: border-box;\n",
       "  text-align: center;\n",
       "}\n",
       "\n",
       "#sk-container-id-3 label.sk-toggleable__label-arrow:before {\n",
       "  /* Arrow on the left of the label */\n",
       "  content: \"▸\";\n",
       "  float: left;\n",
       "  margin-right: 0.25em;\n",
       "  color: var(--sklearn-color-icon);\n",
       "}\n",
       "\n",
       "#sk-container-id-3 label.sk-toggleable__label-arrow:hover:before {\n",
       "  color: var(--sklearn-color-text);\n",
       "}\n",
       "\n",
       "/* Toggleable content - dropdown */\n",
       "\n",
       "#sk-container-id-3 div.sk-toggleable__content {\n",
       "  max-height: 0;\n",
       "  max-width: 0;\n",
       "  overflow: hidden;\n",
       "  text-align: left;\n",
       "  /* unfitted */\n",
       "  background-color: var(--sklearn-color-unfitted-level-0);\n",
       "}\n",
       "\n",
       "#sk-container-id-3 div.sk-toggleable__content.fitted {\n",
       "  /* fitted */\n",
       "  background-color: var(--sklearn-color-fitted-level-0);\n",
       "}\n",
       "\n",
       "#sk-container-id-3 div.sk-toggleable__content pre {\n",
       "  margin: 0.2em;\n",
       "  border-radius: 0.25em;\n",
       "  color: var(--sklearn-color-text);\n",
       "  /* unfitted */\n",
       "  background-color: var(--sklearn-color-unfitted-level-0);\n",
       "}\n",
       "\n",
       "#sk-container-id-3 div.sk-toggleable__content.fitted pre {\n",
       "  /* unfitted */\n",
       "  background-color: var(--sklearn-color-fitted-level-0);\n",
       "}\n",
       "\n",
       "#sk-container-id-3 input.sk-toggleable__control:checked~div.sk-toggleable__content {\n",
       "  /* Expand drop-down */\n",
       "  max-height: 200px;\n",
       "  max-width: 100%;\n",
       "  overflow: auto;\n",
       "}\n",
       "\n",
       "#sk-container-id-3 input.sk-toggleable__control:checked~label.sk-toggleable__label-arrow:before {\n",
       "  content: \"▾\";\n",
       "}\n",
       "\n",
       "/* Pipeline/ColumnTransformer-specific style */\n",
       "\n",
       "#sk-container-id-3 div.sk-label input.sk-toggleable__control:checked~label.sk-toggleable__label {\n",
       "  color: var(--sklearn-color-text);\n",
       "  background-color: var(--sklearn-color-unfitted-level-2);\n",
       "}\n",
       "\n",
       "#sk-container-id-3 div.sk-label.fitted input.sk-toggleable__control:checked~label.sk-toggleable__label {\n",
       "  background-color: var(--sklearn-color-fitted-level-2);\n",
       "}\n",
       "\n",
       "/* Estimator-specific style */\n",
       "\n",
       "/* Colorize estimator box */\n",
       "#sk-container-id-3 div.sk-estimator input.sk-toggleable__control:checked~label.sk-toggleable__label {\n",
       "  /* unfitted */\n",
       "  background-color: var(--sklearn-color-unfitted-level-2);\n",
       "}\n",
       "\n",
       "#sk-container-id-3 div.sk-estimator.fitted input.sk-toggleable__control:checked~label.sk-toggleable__label {\n",
       "  /* fitted */\n",
       "  background-color: var(--sklearn-color-fitted-level-2);\n",
       "}\n",
       "\n",
       "#sk-container-id-3 div.sk-label label.sk-toggleable__label,\n",
       "#sk-container-id-3 div.sk-label label {\n",
       "  /* The background is the default theme color */\n",
       "  color: var(--sklearn-color-text-on-default-background);\n",
       "}\n",
       "\n",
       "/* On hover, darken the color of the background */\n",
       "#sk-container-id-3 div.sk-label:hover label.sk-toggleable__label {\n",
       "  color: var(--sklearn-color-text);\n",
       "  background-color: var(--sklearn-color-unfitted-level-2);\n",
       "}\n",
       "\n",
       "/* Label box, darken color on hover, fitted */\n",
       "#sk-container-id-3 div.sk-label.fitted:hover label.sk-toggleable__label.fitted {\n",
       "  color: var(--sklearn-color-text);\n",
       "  background-color: var(--sklearn-color-fitted-level-2);\n",
       "}\n",
       "\n",
       "/* Estimator label */\n",
       "\n",
       "#sk-container-id-3 div.sk-label label {\n",
       "  font-family: monospace;\n",
       "  font-weight: bold;\n",
       "  display: inline-block;\n",
       "  line-height: 1.2em;\n",
       "}\n",
       "\n",
       "#sk-container-id-3 div.sk-label-container {\n",
       "  text-align: center;\n",
       "}\n",
       "\n",
       "/* Estimator-specific */\n",
       "#sk-container-id-3 div.sk-estimator {\n",
       "  font-family: monospace;\n",
       "  border: 1px dotted var(--sklearn-color-border-box);\n",
       "  border-radius: 0.25em;\n",
       "  box-sizing: border-box;\n",
       "  margin-bottom: 0.5em;\n",
       "  /* unfitted */\n",
       "  background-color: var(--sklearn-color-unfitted-level-0);\n",
       "}\n",
       "\n",
       "#sk-container-id-3 div.sk-estimator.fitted {\n",
       "  /* fitted */\n",
       "  background-color: var(--sklearn-color-fitted-level-0);\n",
       "}\n",
       "\n",
       "/* on hover */\n",
       "#sk-container-id-3 div.sk-estimator:hover {\n",
       "  /* unfitted */\n",
       "  background-color: var(--sklearn-color-unfitted-level-2);\n",
       "}\n",
       "\n",
       "#sk-container-id-3 div.sk-estimator.fitted:hover {\n",
       "  /* fitted */\n",
       "  background-color: var(--sklearn-color-fitted-level-2);\n",
       "}\n",
       "\n",
       "/* Specification for estimator info (e.g. \"i\" and \"?\") */\n",
       "\n",
       "/* Common style for \"i\" and \"?\" */\n",
       "\n",
       ".sk-estimator-doc-link,\n",
       "a:link.sk-estimator-doc-link,\n",
       "a:visited.sk-estimator-doc-link {\n",
       "  float: right;\n",
       "  font-size: smaller;\n",
       "  line-height: 1em;\n",
       "  font-family: monospace;\n",
       "  background-color: var(--sklearn-color-background);\n",
       "  border-radius: 1em;\n",
       "  height: 1em;\n",
       "  width: 1em;\n",
       "  text-decoration: none !important;\n",
       "  margin-left: 1ex;\n",
       "  /* unfitted */\n",
       "  border: var(--sklearn-color-unfitted-level-1) 1pt solid;\n",
       "  color: var(--sklearn-color-unfitted-level-1);\n",
       "}\n",
       "\n",
       ".sk-estimator-doc-link.fitted,\n",
       "a:link.sk-estimator-doc-link.fitted,\n",
       "a:visited.sk-estimator-doc-link.fitted {\n",
       "  /* fitted */\n",
       "  border: var(--sklearn-color-fitted-level-1) 1pt solid;\n",
       "  color: var(--sklearn-color-fitted-level-1);\n",
       "}\n",
       "\n",
       "/* On hover */\n",
       "div.sk-estimator:hover .sk-estimator-doc-link:hover,\n",
       ".sk-estimator-doc-link:hover,\n",
       "div.sk-label-container:hover .sk-estimator-doc-link:hover,\n",
       ".sk-estimator-doc-link:hover {\n",
       "  /* unfitted */\n",
       "  background-color: var(--sklearn-color-unfitted-level-3);\n",
       "  color: var(--sklearn-color-background);\n",
       "  text-decoration: none;\n",
       "}\n",
       "\n",
       "div.sk-estimator.fitted:hover .sk-estimator-doc-link.fitted:hover,\n",
       ".sk-estimator-doc-link.fitted:hover,\n",
       "div.sk-label-container:hover .sk-estimator-doc-link.fitted:hover,\n",
       ".sk-estimator-doc-link.fitted:hover {\n",
       "  /* fitted */\n",
       "  background-color: var(--sklearn-color-fitted-level-3);\n",
       "  color: var(--sklearn-color-background);\n",
       "  text-decoration: none;\n",
       "}\n",
       "\n",
       "/* Span, style for the box shown on hovering the info icon */\n",
       ".sk-estimator-doc-link span {\n",
       "  display: none;\n",
       "  z-index: 9999;\n",
       "  position: relative;\n",
       "  font-weight: normal;\n",
       "  right: .2ex;\n",
       "  padding: .5ex;\n",
       "  margin: .5ex;\n",
       "  width: min-content;\n",
       "  min-width: 20ex;\n",
       "  max-width: 50ex;\n",
       "  color: var(--sklearn-color-text);\n",
       "  box-shadow: 2pt 2pt 4pt #999;\n",
       "  /* unfitted */\n",
       "  background: var(--sklearn-color-unfitted-level-0);\n",
       "  border: .5pt solid var(--sklearn-color-unfitted-level-3);\n",
       "}\n",
       "\n",
       ".sk-estimator-doc-link.fitted span {\n",
       "  /* fitted */\n",
       "  background: var(--sklearn-color-fitted-level-0);\n",
       "  border: var(--sklearn-color-fitted-level-3);\n",
       "}\n",
       "\n",
       ".sk-estimator-doc-link:hover span {\n",
       "  display: block;\n",
       "}\n",
       "\n",
       "/* \"?\"-specific style due to the `<a>` HTML tag */\n",
       "\n",
       "#sk-container-id-3 a.estimator_doc_link {\n",
       "  float: right;\n",
       "  font-size: 1rem;\n",
       "  line-height: 1em;\n",
       "  font-family: monospace;\n",
       "  background-color: var(--sklearn-color-background);\n",
       "  border-radius: 1rem;\n",
       "  height: 1rem;\n",
       "  width: 1rem;\n",
       "  text-decoration: none;\n",
       "  /* unfitted */\n",
       "  color: var(--sklearn-color-unfitted-level-1);\n",
       "  border: var(--sklearn-color-unfitted-level-1) 1pt solid;\n",
       "}\n",
       "\n",
       "#sk-container-id-3 a.estimator_doc_link.fitted {\n",
       "  /* fitted */\n",
       "  border: var(--sklearn-color-fitted-level-1) 1pt solid;\n",
       "  color: var(--sklearn-color-fitted-level-1);\n",
       "}\n",
       "\n",
       "/* On hover */\n",
       "#sk-container-id-3 a.estimator_doc_link:hover {\n",
       "  /* unfitted */\n",
       "  background-color: var(--sklearn-color-unfitted-level-3);\n",
       "  color: var(--sklearn-color-background);\n",
       "  text-decoration: none;\n",
       "}\n",
       "\n",
       "#sk-container-id-3 a.estimator_doc_link.fitted:hover {\n",
       "  /* fitted */\n",
       "  background-color: var(--sklearn-color-fitted-level-3);\n",
       "}\n",
       "</style><div id=\"sk-container-id-3\" class=\"sk-top-container\"><div class=\"sk-text-repr-fallback\"><pre>SVC(C=10)</pre><b>In a Jupyter environment, please rerun this cell to show the HTML representation or trust the notebook. <br />On GitHub, the HTML representation is unable to render, please try loading this page with nbviewer.org.</b></div><div class=\"sk-container\" hidden><div class=\"sk-item\"><div class=\"sk-estimator fitted sk-toggleable\"><input class=\"sk-toggleable__control sk-hidden--visually\" id=\"sk-estimator-id-7\" type=\"checkbox\" checked><label for=\"sk-estimator-id-7\" class=\"sk-toggleable__label fitted sk-toggleable__label-arrow fitted\">&nbsp;&nbsp;SVC<a class=\"sk-estimator-doc-link fitted\" rel=\"noreferrer\" target=\"_blank\" href=\"https://scikit-learn.org/1.5/modules/generated/sklearn.svm.SVC.html\">?<span>Documentation for SVC</span></a><span class=\"sk-estimator-doc-link fitted\">i<span>Fitted</span></span></label><div class=\"sk-toggleable__content fitted\"><pre>SVC(C=10)</pre></div> </div></div></div></div>"
      ],
      "text/plain": [
       "SVC(C=10)"
      ]
     },
     "execution_count": 76,
     "metadata": {},
     "output_type": "execute_result"
    }
   ],
   "source": [
    "from sklearn.svm import SVC\n",
    "\n",
    "svm_classifier = SVC(C=10, gamma='scale', kernel='rbf') # attributes after running GridSearch\n",
    "svm_classifier.fit(train_x_embeddings, train_y_encoded, sample_weight=sample_weights)"
   ]
  },
  {
   "cell_type": "code",
   "execution_count": 77,
   "metadata": {
    "colab": {
     "base_uri": "https://localhost:8080/"
    },
    "id": "rLD-87paDotI",
    "outputId": "debf6f5d-cbdf-431e-830c-a0fb480cb29a"
   },
   "outputs": [
    {
     "name": "stdout",
     "output_type": "stream",
     "text": [
      "Cross-validation scores: [0.38436456 0.41709689 0.43377679]\n",
      "Mean CV F1 Score: 0.4117460779460189\n"
     ]
    }
   ],
   "source": [
    "get_cross_val_score(svm_classifier, train_x_embeddings, train_y_encoded)"
   ]
  },
  {
   "cell_type": "code",
   "execution_count": 78,
   "metadata": {
    "colab": {
     "base_uri": "https://localhost:8080/"
    },
    "id": "I83TWDzpDuw1",
    "outputId": "1b7f76a7-eac9-45cf-e546-56a70980e537"
   },
   "outputs": [
    {
     "name": "stdout",
     "output_type": "stream",
     "text": [
      "              precision    recall  f1-score    support\n",
      "0              0.636364  0.350000  0.451613  20.000000\n",
      "1              0.166667  0.666667  0.266667   3.000000\n",
      "2              0.375000  0.375000  0.375000   8.000000\n",
      "accuracy       0.387097  0.387097  0.387097   0.387097\n",
      "macro avg      0.392677  0.463889  0.364427  31.000000\n",
      "weighted avg   0.523460  0.387097  0.413944  31.000000\n",
      "\n",
      "\n"
     ]
    },
    {
     "data": {
      "image/png": "[encoded data removed]",
      "text/plain": [
       "<Figure size 800x600 with 2 Axes>"
      ]
     },
     "metadata": {},
     "output_type": "display_data"
    },
    {
     "data": {
      "text/plain": [
       "array([[7, 8, 5],\n",
       "       [1, 2, 0],\n",
       "       [3, 2, 3]])"
      ]
     },
     "execution_count": 78,
     "metadata": {},
     "output_type": "execute_result"
    }
   ],
   "source": [
    "evaluate_model(svm_classifier, val_x_embeddings, val_y_encoded)"
   ]
  },
  {
   "cell_type": "code",
   "execution_count": 80,
   "metadata": {
    "colab": {
     "base_uri": "https://localhost:8080/"
    },
    "id": "cCYD1zUQ1A5s",
    "outputId": "cf2b7a92-2ab9-4d9e-af02-cf356f3090eb"
   },
   "outputs": [],
   "source": [
    "classes = len(np.unique(train_y_encoded))\n",
    "\n",
    "embedding_dim = train_x_embeddings.shape[1]\n",
    "\n",
    "small_model = tf.keras.Sequential([\n",
    "    keras.layers.Dense(16, activation='relu', input_shape=(embedding_dim,)),\n",
    "    keras.layers.Dense(classes, activation='softmax')\n",
    "])"
   ]
  },
  {
   "cell_type": "code",
   "execution_count": 81,
   "metadata": {
    "id": "acWU0bvC1TcH"
   },
   "outputs": [],
   "source": [
    "def compile_and_fit(x_train, y_train, model, optimizer=None, max_epochs=100, callbacks=[], lr=0.01, use_class_weights=False):\n",
    "    if not optimizer:\n",
    "        optimizer = tf.keras.optimizers.Adam(learning_rate=lr)\n",
    "\n",
    "    model.compile(\n",
    "        optimizer=optimizer,\n",
    "        loss=tf.keras.losses.SparseCategoricalCrossentropy(from_logits=False),\n",
    "      metrics=['accuracy']\n",
    "    )\n",
    "\n",
    "    history = model.fit(\n",
    "        x_train, y_train,\n",
    "        epochs=max_epochs,\n",
    "        validation_data=(val_x_embeddings, val_y_encoded),\n",
    "        callbacks=callbacks,\n",
    "        verbose=2,\n",
    "        class_weight=class_weights_dict if use_class_weights else None\n",
    "    )\n",
    "    return history"
   ]
  },
  {
   "cell_type": "code",
   "execution_count": 82,
   "metadata": {
    "id": "7WX8dttePoCr"
   },
   "outputs": [],
   "source": [
    "def plot_history(history, metric='loss'):\n",
    "    plt.figure(figsize=(10, 6))\n",
    "    plt.plot(history.history[metric], label=f'Training {metric}')\n",
    "    plt.plot(history.history[f'val_{metric}'], label=f'Validation {metric}')\n",
    "    plt.xlabel('Epochs')\n",
    "    plt.ylabel(metric)\n",
    "    plt.legend()\n",
    "    plt.show()\n",
    "\n",
    "def evaluate_mlp(model, X, y):\n",
    "    y_pred_prob = model.predict(X)\n",
    "    y_pred = np.argmax(y_pred_prob, axis=-1)\n",
    "\n",
    "    print(\"Classification Report:\")\n",
    "    print(classification_report(y, y_pred))\n",
    "\n",
    "    print(\"Confusion Matrix:\")\n",
    "    cm = confusion_matrix(y, y_pred)\n",
    "\n",
    "    plt.figure(figsize=(8, 6))\n",
    "    sns.heatmap(cm, annot=True, fmt='g', cmap='Blues')\n",
    "    plt.ylabel('True Label')\n",
    "    plt.xlabel('Predicted Label')\n",
    "    plt.title('Confusion Matrix')\n",
    "    plt.show()"
   ]
  },
  {
   "cell_type": "code",
   "execution_count": 83,
   "metadata": {
    "colab": {
     "base_uri": "https://localhost:8080/"
    },
    "id": "qwAWZkfP1qPu",
    "outputId": "fc51b5b6-f8af-46f8-cab9-caa68a6b2a54"
   },
   "outputs": [
    {
     "name": "stderr",
     "output_type": "stream",
     "text": [
      "WARNING:absl:At this time, the v2.11+ optimizer `tf.keras.optimizers.Adam` runs slowly on M1/M2 Macs, please use the legacy TF-Keras optimizer instead, located at `tf.keras.optimizers.legacy.Adam`.\n"
     ]
    },
    {
     "name": "stdout",
     "output_type": "stream",
     "text": [
      "Epoch 1/100\n",
      "12/12 - 0s - loss: 0.9326 - accuracy: 0.5650 - val_loss: 0.9055 - val_accuracy: 0.6452 - 243ms/epoch - 20ms/step\n",
      "Epoch 2/100\n",
      "12/12 - 0s - loss: 0.9192 - accuracy: 0.6412 - val_loss: 0.8653 - val_accuracy: 0.6452 - 9ms/epoch - 762us/step\n",
      "Epoch 3/100\n",
      "12/12 - 0s - loss: 0.8663 - accuracy: 0.6412 - val_loss: 0.8623 - val_accuracy: 0.6452 - 9ms/epoch - 732us/step\n",
      "Epoch 4/100\n",
      "12/12 - 0s - loss: 0.8574 - accuracy: 0.6412 - val_loss: 0.8556 - val_accuracy: 0.6452 - 9ms/epoch - 752us/step\n",
      "Epoch 5/100\n",
      "12/12 - 0s - loss: 0.8463 - accuracy: 0.6412 - val_loss: 0.8600 - val_accuracy: 0.6452 - 13ms/epoch - 1ms/step\n",
      "Epoch 6/100\n",
      "12/12 - 0s - loss: 0.8523 - accuracy: 0.6412 - val_loss: 0.8582 - val_accuracy: 0.6452 - 11ms/epoch - 883us/step\n",
      "Epoch 7/100\n",
      "12/12 - 0s - loss: 0.8579 - accuracy: 0.6441 - val_loss: 0.8860 - val_accuracy: 0.6452 - 12ms/epoch - 1ms/step\n",
      "Epoch 8/100\n",
      "12/12 - 0s - loss: 0.8399 - accuracy: 0.6412 - val_loss: 0.8556 - val_accuracy: 0.6452 - 11ms/epoch - 939us/step\n",
      "Epoch 9/100\n",
      "12/12 - 0s - loss: 0.8101 - accuracy: 0.6441 - val_loss: 0.8573 - val_accuracy: 0.6452 - 10ms/epoch - 849us/step\n",
      "Epoch 10/100\n",
      "12/12 - 0s - loss: 0.7939 - accuracy: 0.6469 - val_loss: 0.8566 - val_accuracy: 0.6452 - 12ms/epoch - 977us/step\n",
      "Epoch 11/100\n",
      "12/12 - 0s - loss: 0.7814 - accuracy: 0.6554 - val_loss: 0.8608 - val_accuracy: 0.6452 - 12ms/epoch - 1ms/step\n",
      "Epoch 12/100\n",
      "12/12 - 0s - loss: 0.7790 - accuracy: 0.6921 - val_loss: 0.8812 - val_accuracy: 0.6129 - 12ms/epoch - 974us/step\n",
      "Epoch 13/100\n",
      "12/12 - 0s - loss: 0.7702 - accuracy: 0.7062 - val_loss: 0.8680 - val_accuracy: 0.6452 - 10ms/epoch - 862us/step\n",
      "Epoch 14/100\n",
      "12/12 - 0s - loss: 0.7527 - accuracy: 0.6667 - val_loss: 0.8773 - val_accuracy: 0.5484 - 12ms/epoch - 1ms/step\n",
      "Epoch 15/100\n",
      "12/12 - 0s - loss: 0.7626 - accuracy: 0.6525 - val_loss: 0.8631 - val_accuracy: 0.6129 - 12ms/epoch - 986us/step\n",
      "Epoch 16/100\n",
      "12/12 - 0s - loss: 0.7377 - accuracy: 0.6836 - val_loss: 0.8838 - val_accuracy: 0.6129 - 11ms/epoch - 897us/step\n",
      "Epoch 17/100\n",
      "12/12 - 0s - loss: 0.7310 - accuracy: 0.7006 - val_loss: 0.9005 - val_accuracy: 0.6452 - 12ms/epoch - 965us/step\n",
      "Epoch 18/100\n",
      "12/12 - 0s - loss: 0.7241 - accuracy: 0.6723 - val_loss: 0.8844 - val_accuracy: 0.5806 - 11ms/epoch - 952us/step\n",
      "Epoch 19/100\n",
      "12/12 - 0s - loss: 0.6929 - accuracy: 0.7006 - val_loss: 0.8951 - val_accuracy: 0.6129 - 11ms/epoch - 953us/step\n",
      "Epoch 20/100\n",
      "12/12 - 0s - loss: 0.6870 - accuracy: 0.6977 - val_loss: 0.8951 - val_accuracy: 0.5484 - 9ms/epoch - 789us/step\n",
      "Epoch 21/100\n",
      "12/12 - 0s - loss: 0.7023 - accuracy: 0.7203 - val_loss: 0.9030 - val_accuracy: 0.5484 - 12ms/epoch - 996us/step\n",
      "Epoch 22/100\n",
      "12/12 - 0s - loss: 0.6658 - accuracy: 0.7147 - val_loss: 0.9053 - val_accuracy: 0.5484 - 11ms/epoch - 951us/step\n",
      "Epoch 23/100\n",
      "12/12 - 0s - loss: 0.6632 - accuracy: 0.7147 - val_loss: 0.9346 - val_accuracy: 0.5484 - 10ms/epoch - 844us/step\n",
      "Epoch 24/100\n",
      "12/12 - 0s - loss: 0.6852 - accuracy: 0.7006 - val_loss: 0.9256 - val_accuracy: 0.5806 - 10ms/epoch - 849us/step\n",
      "Epoch 25/100\n",
      "12/12 - 0s - loss: 0.6725 - accuracy: 0.7119 - val_loss: 1.0072 - val_accuracy: 0.6129 - 11ms/epoch - 932us/step\n",
      "Epoch 26/100\n",
      "12/12 - 0s - loss: 0.6854 - accuracy: 0.6949 - val_loss: 0.9341 - val_accuracy: 0.5806 - 11ms/epoch - 939us/step\n",
      "Epoch 27/100\n",
      "12/12 - 0s - loss: 0.6366 - accuracy: 0.7288 - val_loss: 0.9447 - val_accuracy: 0.5806 - 10ms/epoch - 837us/step\n",
      "Epoch 28/100\n",
      "12/12 - 0s - loss: 0.6263 - accuracy: 0.7316 - val_loss: 0.9340 - val_accuracy: 0.5484 - 11ms/epoch - 884us/step\n",
      "Epoch 29/100\n",
      "12/12 - 0s - loss: 0.6200 - accuracy: 0.7316 - val_loss: 0.9480 - val_accuracy: 0.5484 - 10ms/epoch - 868us/step\n",
      "Epoch 30/100\n",
      "12/12 - 0s - loss: 0.6446 - accuracy: 0.7062 - val_loss: 0.9479 - val_accuracy: 0.5806 - 10ms/epoch - 872us/step\n",
      "Epoch 31/100\n",
      "12/12 - 0s - loss: 0.6106 - accuracy: 0.7345 - val_loss: 0.9597 - val_accuracy: 0.5806 - 11ms/epoch - 902us/step\n",
      "Epoch 32/100\n",
      "12/12 - 0s - loss: 0.6035 - accuracy: 0.7429 - val_loss: 0.9481 - val_accuracy: 0.5806 - 12ms/epoch - 1000us/step\n",
      "Epoch 33/100\n",
      "12/12 - 0s - loss: 0.6049 - accuracy: 0.7345 - val_loss: 0.9411 - val_accuracy: 0.5484 - 10ms/epoch - 849us/step\n",
      "Epoch 34/100\n",
      "12/12 - 0s - loss: 0.5971 - accuracy: 0.7458 - val_loss: 0.9596 - val_accuracy: 0.5161 - 11ms/epoch - 953us/step\n",
      "Epoch 35/100\n",
      "12/12 - 0s - loss: 0.6095 - accuracy: 0.7316 - val_loss: 0.9706 - val_accuracy: 0.5484 - 12ms/epoch - 973us/step\n",
      "Epoch 36/100\n",
      "12/12 - 0s - loss: 0.5731 - accuracy: 0.7542 - val_loss: 0.9640 - val_accuracy: 0.6129 - 9ms/epoch - 788us/step\n",
      "Epoch 37/100\n",
      "12/12 - 0s - loss: 0.5999 - accuracy: 0.7401 - val_loss: 0.9695 - val_accuracy: 0.6129 - 11ms/epoch - 946us/step\n",
      "Epoch 38/100\n",
      "12/12 - 0s - loss: 0.5787 - accuracy: 0.7514 - val_loss: 0.9907 - val_accuracy: 0.5806 - 11ms/epoch - 950us/step\n",
      "Epoch 39/100\n",
      "12/12 - 0s - loss: 0.5897 - accuracy: 0.7316 - val_loss: 0.9890 - val_accuracy: 0.5806 - 11ms/epoch - 877us/step\n",
      "Epoch 40/100\n",
      "12/12 - 0s - loss: 0.5703 - accuracy: 0.7373 - val_loss: 0.9477 - val_accuracy: 0.5161 - 11ms/epoch - 892us/step\n",
      "Epoch 41/100\n",
      "12/12 - 0s - loss: 0.5831 - accuracy: 0.7542 - val_loss: 0.9678 - val_accuracy: 0.5806 - 11ms/epoch - 920us/step\n",
      "Epoch 42/100\n",
      "12/12 - 0s - loss: 0.5537 - accuracy: 0.7571 - val_loss: 0.9905 - val_accuracy: 0.5806 - 11ms/epoch - 892us/step\n",
      "Epoch 43/100\n",
      "12/12 - 0s - loss: 0.5625 - accuracy: 0.7599 - val_loss: 0.9724 - val_accuracy: 0.6129 - 10ms/epoch - 838us/step\n",
      "Epoch 44/100\n",
      "12/12 - 0s - loss: 0.5509 - accuracy: 0.7401 - val_loss: 0.9709 - val_accuracy: 0.5161 - 11ms/epoch - 927us/step\n",
      "Epoch 45/100\n",
      "12/12 - 0s - loss: 0.5551 - accuracy: 0.7486 - val_loss: 0.9738 - val_accuracy: 0.5806 - 11ms/epoch - 950us/step\n",
      "Epoch 46/100\n",
      "12/12 - 0s - loss: 0.5262 - accuracy: 0.7571 - val_loss: 1.0078 - val_accuracy: 0.4839 - 11ms/epoch - 888us/step\n",
      "Epoch 47/100\n",
      "12/12 - 0s - loss: 0.6173 - accuracy: 0.7119 - val_loss: 1.2033 - val_accuracy: 0.6452 - 13ms/epoch - 1ms/step\n",
      "Epoch 48/100\n",
      "12/12 - 0s - loss: 0.5980 - accuracy: 0.7514 - val_loss: 1.0067 - val_accuracy: 0.6129 - 11ms/epoch - 922us/step\n",
      "Epoch 49/100\n",
      "12/12 - 0s - loss: 0.5851 - accuracy: 0.7119 - val_loss: 1.0151 - val_accuracy: 0.5161 - 10ms/epoch - 840us/step\n",
      "Epoch 50/100\n",
      "12/12 - 0s - loss: 0.5755 - accuracy: 0.7655 - val_loss: 0.9941 - val_accuracy: 0.6452 - 11ms/epoch - 948us/step\n",
      "Epoch 51/100\n",
      "12/12 - 0s - loss: 0.5273 - accuracy: 0.7599 - val_loss: 0.9912 - val_accuracy: 0.6129 - 12ms/epoch - 993us/step\n",
      "Epoch 52/100\n",
      "12/12 - 0s - loss: 0.5210 - accuracy: 0.7712 - val_loss: 0.9831 - val_accuracy: 0.5806 - 12ms/epoch - 1ms/step\n",
      "Epoch 53/100\n",
      "12/12 - 0s - loss: 0.5392 - accuracy: 0.7768 - val_loss: 0.9835 - val_accuracy: 0.6452 - 10ms/epoch - 816us/step\n",
      "Epoch 54/100\n",
      "12/12 - 0s - loss: 0.5661 - accuracy: 0.7599 - val_loss: 0.9732 - val_accuracy: 0.5806 - 12ms/epoch - 978us/step\n",
      "Epoch 55/100\n",
      "12/12 - 0s - loss: 0.5175 - accuracy: 0.7599 - val_loss: 0.9790 - val_accuracy: 0.5806 - 12ms/epoch - 995us/step\n",
      "Epoch 56/100\n",
      "12/12 - 0s - loss: 0.5563 - accuracy: 0.7373 - val_loss: 1.0222 - val_accuracy: 0.5806 - 12ms/epoch - 1ms/step\n",
      "Epoch 57/100\n",
      "12/12 - 0s - loss: 0.5375 - accuracy: 0.7938 - val_loss: 1.0049 - val_accuracy: 0.6452 - 11ms/epoch - 884us/step\n",
      "Epoch 58/100\n",
      "12/12 - 0s - loss: 0.5049 - accuracy: 0.7627 - val_loss: 1.0338 - val_accuracy: 0.6129 - 12ms/epoch - 1ms/step\n",
      "Epoch 59/100\n",
      "12/12 - 0s - loss: 0.5119 - accuracy: 0.7627 - val_loss: 1.0041 - val_accuracy: 0.6452 - 11ms/epoch - 943us/step\n",
      "Epoch 60/100\n",
      "12/12 - 0s - loss: 0.5196 - accuracy: 0.7542 - val_loss: 1.0254 - val_accuracy: 0.5806 - 11ms/epoch - 921us/step\n",
      "Epoch 61/100\n",
      "12/12 - 0s - loss: 0.4817 - accuracy: 0.7910 - val_loss: 1.0130 - val_accuracy: 0.4839 - 11ms/epoch - 921us/step\n",
      "Epoch 62/100\n",
      "12/12 - 0s - loss: 0.4907 - accuracy: 0.7881 - val_loss: 1.0193 - val_accuracy: 0.5161 - 11ms/epoch - 939us/step\n",
      "Epoch 63/100\n",
      "12/12 - 0s - loss: 0.4795 - accuracy: 0.7910 - val_loss: 1.0524 - val_accuracy: 0.4839 - 11ms/epoch - 897us/step\n",
      "Epoch 64/100\n",
      "12/12 - 0s - loss: 0.6089 - accuracy: 0.7090 - val_loss: 1.0775 - val_accuracy: 0.5484 - 10ms/epoch - 828us/step\n",
      "Epoch 65/100\n",
      "12/12 - 0s - loss: 0.4819 - accuracy: 0.7938 - val_loss: 1.1069 - val_accuracy: 0.5484 - 11ms/epoch - 911us/step\n",
      "Epoch 66/100\n",
      "12/12 - 0s - loss: 0.4796 - accuracy: 0.7825 - val_loss: 1.0383 - val_accuracy: 0.5161 - 11ms/epoch - 917us/step\n",
      "Epoch 67/100\n",
      "12/12 - 0s - loss: 0.4912 - accuracy: 0.7627 - val_loss: 1.0805 - val_accuracy: 0.5484 - 10ms/epoch - 827us/step\n",
      "Epoch 68/100\n",
      "12/12 - 0s - loss: 0.5187 - accuracy: 0.7881 - val_loss: 1.0421 - val_accuracy: 0.6452 - 11ms/epoch - 897us/step\n",
      "Epoch 69/100\n",
      "12/12 - 0s - loss: 0.4798 - accuracy: 0.8051 - val_loss: 1.0933 - val_accuracy: 0.5806 - 11ms/epoch - 911us/step\n",
      "Epoch 70/100\n",
      "12/12 - 0s - loss: 0.4807 - accuracy: 0.7768 - val_loss: 1.1095 - val_accuracy: 0.5806 - 10ms/epoch - 827us/step\n",
      "Epoch 71/100\n",
      "12/12 - 0s - loss: 0.4469 - accuracy: 0.8107 - val_loss: 1.0743 - val_accuracy: 0.6452 - 12ms/epoch - 979us/step\n",
      "Epoch 72/100\n",
      "12/12 - 0s - loss: 0.4511 - accuracy: 0.7938 - val_loss: 1.1358 - val_accuracy: 0.5161 - 13ms/epoch - 1ms/step\n",
      "Epoch 73/100\n",
      "12/12 - 0s - loss: 0.5017 - accuracy: 0.7712 - val_loss: 1.0667 - val_accuracy: 0.4839 - 35ms/epoch - 3ms/step\n",
      "Epoch 74/100\n",
      "12/12 - 0s - loss: 0.4798 - accuracy: 0.7938 - val_loss: 1.0620 - val_accuracy: 0.5806 - 12ms/epoch - 1ms/step\n",
      "Epoch 75/100\n",
      "12/12 - 0s - loss: 0.4743 - accuracy: 0.7910 - val_loss: 1.0640 - val_accuracy: 0.5806 - 11ms/epoch - 883us/step\n",
      "Epoch 76/100\n",
      "12/12 - 0s - loss: 0.4648 - accuracy: 0.7768 - val_loss: 1.1021 - val_accuracy: 0.5806 - 12ms/epoch - 1ms/step\n",
      "Epoch 77/100\n",
      "12/12 - 0s - loss: 0.4633 - accuracy: 0.8136 - val_loss: 1.1213 - val_accuracy: 0.6452 - 11ms/epoch - 950us/step\n",
      "Epoch 78/100\n",
      "12/12 - 0s - loss: 0.4355 - accuracy: 0.8051 - val_loss: 1.0781 - val_accuracy: 0.5806 - 11ms/epoch - 955us/step\n",
      "Epoch 79/100\n",
      "12/12 - 0s - loss: 0.4225 - accuracy: 0.8079 - val_loss: 1.0841 - val_accuracy: 0.5484 - 10ms/epoch - 866us/step\n",
      "Epoch 80/100\n",
      "12/12 - 0s - loss: 0.4903 - accuracy: 0.7910 - val_loss: 1.0463 - val_accuracy: 0.5161 - 12ms/epoch - 995us/step\n",
      "Epoch 81/100\n",
      "12/12 - 0s - loss: 0.4803 - accuracy: 0.7966 - val_loss: 1.1143 - val_accuracy: 0.4516 - 12ms/epoch - 980us/step\n",
      "Epoch 82/100\n",
      "12/12 - 0s - loss: 0.4610 - accuracy: 0.7994 - val_loss: 1.1296 - val_accuracy: 0.6452 - 10ms/epoch - 813us/step\n",
      "Epoch 83/100\n",
      "12/12 - 0s - loss: 0.4463 - accuracy: 0.8164 - val_loss: 1.1192 - val_accuracy: 0.6452 - 12ms/epoch - 1ms/step\n",
      "Epoch 84/100\n",
      "12/12 - 0s - loss: 0.4212 - accuracy: 0.8192 - val_loss: 1.2810 - val_accuracy: 0.6452 - 11ms/epoch - 953us/step\n",
      "Epoch 85/100\n",
      "12/12 - 0s - loss: 0.4720 - accuracy: 0.7825 - val_loss: 1.1695 - val_accuracy: 0.4194 - 12ms/epoch - 994us/step\n",
      "Epoch 86/100\n",
      "12/12 - 0s - loss: 0.4550 - accuracy: 0.7994 - val_loss: 1.0729 - val_accuracy: 0.5806 - 10ms/epoch - 819us/step\n",
      "Epoch 87/100\n",
      "12/12 - 0s - loss: 0.5420 - accuracy: 0.7712 - val_loss: 1.1167 - val_accuracy: 0.6452 - 12ms/epoch - 1ms/step\n",
      "Epoch 88/100\n",
      "12/12 - 0s - loss: 0.4840 - accuracy: 0.7571 - val_loss: 1.0817 - val_accuracy: 0.5161 - 12ms/epoch - 964us/step\n",
      "Epoch 89/100\n",
      "12/12 - 0s - loss: 0.4188 - accuracy: 0.8164 - val_loss: 1.1214 - val_accuracy: 0.6129 - 10ms/epoch - 868us/step\n",
      "Epoch 90/100\n",
      "12/12 - 0s - loss: 0.4030 - accuracy: 0.8249 - val_loss: 1.2106 - val_accuracy: 0.6452 - 11ms/epoch - 911us/step\n",
      "Epoch 91/100\n",
      "12/12 - 0s - loss: 0.4342 - accuracy: 0.7994 - val_loss: 1.1787 - val_accuracy: 0.4194 - 11ms/epoch - 895us/step\n",
      "Epoch 92/100\n",
      "12/12 - 0s - loss: 0.4614 - accuracy: 0.8051 - val_loss: 1.1393 - val_accuracy: 0.5806 - 11ms/epoch - 944us/step\n",
      "Epoch 93/100\n",
      "12/12 - 0s - loss: 0.4066 - accuracy: 0.8107 - val_loss: 1.2714 - val_accuracy: 0.5161 - 9ms/epoch - 784us/step\n",
      "Epoch 94/100\n",
      "12/12 - 0s - loss: 0.4026 - accuracy: 0.8333 - val_loss: 1.1236 - val_accuracy: 0.5806 - 11ms/epoch - 909us/step\n",
      "Epoch 95/100\n",
      "12/12 - 0s - loss: 0.3866 - accuracy: 0.8220 - val_loss: 1.1388 - val_accuracy: 0.5484 - 11ms/epoch - 915us/step\n",
      "Epoch 96/100\n",
      "12/12 - 0s - loss: 0.3773 - accuracy: 0.8446 - val_loss: 1.1785 - val_accuracy: 0.6129 - 10ms/epoch - 831us/step\n",
      "Epoch 97/100\n",
      "12/12 - 0s - loss: 0.4116 - accuracy: 0.8023 - val_loss: 1.1534 - val_accuracy: 0.5806 - 11ms/epoch - 899us/step\n",
      "Epoch 98/100\n",
      "12/12 - 0s - loss: 0.4624 - accuracy: 0.7797 - val_loss: 1.0337 - val_accuracy: 0.5161 - 11ms/epoch - 947us/step\n",
      "Epoch 99/100\n",
      "12/12 - 0s - loss: 0.4501 - accuracy: 0.7966 - val_loss: 1.0910 - val_accuracy: 0.5806 - 10ms/epoch - 805us/step\n",
      "Epoch 100/100\n",
      "12/12 - 0s - loss: 0.3786 - accuracy: 0.8305 - val_loss: 1.1210 - val_accuracy: 0.6452 - 11ms/epoch - 910us/step\n"
     ]
    }
   ],
   "source": [
    "hist_small = compile_and_fit(train_x_embeddings, train_y_encoded, small_model)"
   ]
  },
  {
   "cell_type": "code",
   "execution_count": 84,
   "metadata": {
    "colab": {
     "base_uri": "https://localhost:8080/",
     "height": 543
    },
    "id": "L5uYZDfXbOgP",
    "outputId": "b3e0b948-dec3-4a04-e7e2-8e0700d8d115"
   },
   "outputs": [
    {
     "data": {
      "image/png": "[encoded data removed]",
      "text/plain": [
       "<Figure size 1000x600 with 1 Axes>"
      ]
     },
     "metadata": {},
     "output_type": "display_data"
    }
   ],
   "source": [
    "plot_history(hist_small)"
   ]
  },
  {
   "cell_type": "code",
   "execution_count": 85,
   "metadata": {
    "colab": {
     "base_uri": "https://localhost:8080/",
     "height": 777
    },
    "id": "gSvjypGDFqjz",
    "outputId": "eb94868e-9201-41a8-a237-95a02f8424d9"
   },
   "outputs": [
    {
     "name": "stdout",
     "output_type": "stream",
     "text": [
      "1/1 [==============================] - 0s 33ms/step\n",
      "Classification Report:\n",
      "              precision    recall  f1-score   support\n",
      "\n",
      "           0       0.75      0.75      0.75        20\n",
      "           1       0.40      0.67      0.50         3\n",
      "           2       0.50      0.38      0.43         8\n",
      "\n",
      "    accuracy                           0.65        31\n",
      "   macro avg       0.55      0.60      0.56        31\n",
      "weighted avg       0.65      0.65      0.64        31\n",
      "\n",
      "Confusion Matrix:\n"
     ]
    },
    {
     "data": {
      "image/png": "[encoded data removed]",
      "text/plain": [
       "<Figure size 800x600 with 2 Axes>"
      ]
     },
     "metadata": {},
     "output_type": "display_data"
    }
   ],
   "source": [
    "evaluate_mlp(small_model, val_x_embeddings, val_y_encoded)"
   ]
  },
  {
   "cell_type": "code",
   "execution_count": 86,
   "metadata": {
    "id": "5NbXT0QYHsdI"
   },
   "outputs": [],
   "source": [
    "import time\n",
    "\n",
    "def pause():\n",
    "    try:\n",
    "      while True:\n",
    "          time.sleep(60)\n",
    "    except KeyboardInterrupt:\n",
    "      print(\"Stopped\")\n"
   ]
  },
  {
   "cell_type": "code",
   "execution_count": null,
   "metadata": {
    "id": "SwSO0QtpJcT2"
   },
   "outputs": [],
   "source": [
    "# pause()"
   ]
  }
 ],
 "metadata": {
  "accelerator": "GPU",
  "colab": {
   "gpuType": "T4",
   "machine_shape": "hm",
   "provenance": []
  },
  "kernelspec": {
   "display_name": "Python 3 (ipykernel)",
   "language": "python",
   "name": "python3"
  },
  "language_info": {
   "codemirror_mode": {
    "name": "ipython",
    "version": 3
   },
   "file_extension": ".py",
   "mimetype": "text/x-python",
   "name": "python",
   "nbconvert_exporter": "python",
   "pygments_lexer": "ipython3",
   "version": "3.12.4"
  }
 },
 "nbformat": 4,
 "nbformat_minor": 4
}
